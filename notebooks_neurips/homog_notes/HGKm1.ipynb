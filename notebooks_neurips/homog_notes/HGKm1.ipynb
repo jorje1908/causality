{
 "cells": [
  {
   "cell_type": "code",
   "execution_count": 1,
   "metadata": {},
   "outputs": [],
   "source": [
    "%load_ext autoreload\n",
    "%autoreload 2\n"
   ]
  },
  {
   "cell_type": "code",
   "execution_count": 2,
   "metadata": {},
   "outputs": [],
   "source": [
    "import numpy as np\n",
    "import pandas as pd\n",
    "import matplotlib.pyplot as plt\n",
    "import seaborn as sns\n",
    "import matplotlib as mpl\n",
    "\n",
    "from sklearn.cluster import KMeans \n",
    "from sklearn.cluster import SpectralClustering\n",
    "from sklearn.cluster import AgglomerativeClustering"
   ]
  },
  {
   "cell_type": "code",
   "execution_count": 3,
   "metadata": {},
   "outputs": [],
   "source": [
    "import sys\n",
    "\n",
    "sys.path.append('../../src')\n",
    "\n"
   ]
  },
  {
   "cell_type": "code",
   "execution_count": 4,
   "metadata": {},
   "outputs": [],
   "source": [
    "from base_exp_gen import generate_experiment as GEN_EXP\n",
    "from clustering_algos import agglomerative_clustering, kmeans_clustering, box_clustering\n",
    "from sklearn.model_selection import train_test_split as datasplit\n",
    "from sklearn.ensemble import GradientBoostingRegressor as GDBR\n",
    "from evaluations import computeATT_per_cluster, predict_cf, calculate_ite, get_homogeneity\n",
    "\n"
   ]
  },
  {
   "cell_type": "code",
   "execution_count": 5,
   "metadata": {},
   "outputs": [],
   "source": [
    "np.random.seed(seed = 0)"
   ]
  },
  {
   "cell_type": "code",
   "execution_count": 6,
   "metadata": {},
   "outputs": [],
   "source": [
    "pd.set_option(\"display.max_columns\", None)\n"
   ]
  },
  {
   "cell_type": "code",
   "execution_count": 7,
   "metadata": {},
   "outputs": [],
   "source": [
    "x_partition = [[i,i**2,2*i**4, 50000] for i in [2,4,5,10,12,20,25,33]]\n",
    "def its(x):\n",
    "    for i, (x1,x2,x3,x4) in enumerate(x[1:]):\n",
    "        x[i+1][3]=(int(x[i][3]/(2*np.sqrt(x3/x[i][2]))))\n",
    "    return x"
   ]
  },
  {
   "cell_type": "code",
   "execution_count": 8,
   "metadata": {},
   "outputs": [],
   "source": [
    "a = its(x_partition)\n",
    "exps = pd.DataFrame(a, columns = ['X-parts','Clusters', 'N', 'iters'])"
   ]
  },
  {
   "cell_type": "code",
   "execution_count": 9,
   "metadata": {},
   "outputs": [],
   "source": [
    "name = 'kmeans'\n",
    "exps.index.name = name"
   ]
  },
  {
   "cell_type": "code",
   "execution_count": 10,
   "metadata": {},
   "outputs": [],
   "source": [
    "exps['mean-hom'] = 0\n",
    "exps['std-hom'] = 0"
   ]
  },
  {
   "cell_type": "code",
   "execution_count": 11,
   "metadata": {},
   "outputs": [
    {
     "data": {
      "text/html": [
       "<div>\n",
       "<style scoped>\n",
       "    .dataframe tbody tr th:only-of-type {\n",
       "        vertical-align: middle;\n",
       "    }\n",
       "\n",
       "    .dataframe tbody tr th {\n",
       "        vertical-align: top;\n",
       "    }\n",
       "\n",
       "    .dataframe thead th {\n",
       "        text-align: right;\n",
       "    }\n",
       "</style>\n",
       "<table border=\"1\" class=\"dataframe\">\n",
       "  <thead>\n",
       "    <tr style=\"text-align: right;\">\n",
       "      <th></th>\n",
       "      <th>X-parts</th>\n",
       "      <th>Clusters</th>\n",
       "      <th>N</th>\n",
       "      <th>iters</th>\n",
       "      <th>mean-hom</th>\n",
       "      <th>std-hom</th>\n",
       "    </tr>\n",
       "    <tr>\n",
       "      <th>kmeans</th>\n",
       "      <th></th>\n",
       "      <th></th>\n",
       "      <th></th>\n",
       "      <th></th>\n",
       "      <th></th>\n",
       "      <th></th>\n",
       "    </tr>\n",
       "  </thead>\n",
       "  <tbody>\n",
       "    <tr>\n",
       "      <th>0</th>\n",
       "      <td>2</td>\n",
       "      <td>4</td>\n",
       "      <td>32</td>\n",
       "      <td>50000</td>\n",
       "      <td>0</td>\n",
       "      <td>0</td>\n",
       "    </tr>\n",
       "    <tr>\n",
       "      <th>1</th>\n",
       "      <td>4</td>\n",
       "      <td>16</td>\n",
       "      <td>512</td>\n",
       "      <td>6250</td>\n",
       "      <td>0</td>\n",
       "      <td>0</td>\n",
       "    </tr>\n",
       "    <tr>\n",
       "      <th>2</th>\n",
       "      <td>5</td>\n",
       "      <td>25</td>\n",
       "      <td>1250</td>\n",
       "      <td>2000</td>\n",
       "      <td>0</td>\n",
       "      <td>0</td>\n",
       "    </tr>\n",
       "    <tr>\n",
       "      <th>3</th>\n",
       "      <td>10</td>\n",
       "      <td>100</td>\n",
       "      <td>20000</td>\n",
       "      <td>250</td>\n",
       "      <td>0</td>\n",
       "      <td>0</td>\n",
       "    </tr>\n",
       "    <tr>\n",
       "      <th>4</th>\n",
       "      <td>12</td>\n",
       "      <td>144</td>\n",
       "      <td>41472</td>\n",
       "      <td>86</td>\n",
       "      <td>0</td>\n",
       "      <td>0</td>\n",
       "    </tr>\n",
       "    <tr>\n",
       "      <th>5</th>\n",
       "      <td>20</td>\n",
       "      <td>400</td>\n",
       "      <td>320000</td>\n",
       "      <td>15</td>\n",
       "      <td>0</td>\n",
       "      <td>0</td>\n",
       "    </tr>\n",
       "    <tr>\n",
       "      <th>6</th>\n",
       "      <td>25</td>\n",
       "      <td>625</td>\n",
       "      <td>781250</td>\n",
       "      <td>4</td>\n",
       "      <td>0</td>\n",
       "      <td>0</td>\n",
       "    </tr>\n",
       "    <tr>\n",
       "      <th>7</th>\n",
       "      <td>33</td>\n",
       "      <td>1089</td>\n",
       "      <td>2371842</td>\n",
       "      <td>1</td>\n",
       "      <td>0</td>\n",
       "      <td>0</td>\n",
       "    </tr>\n",
       "  </tbody>\n",
       "</table>\n",
       "</div>"
      ],
      "text/plain": [
       "        X-parts  Clusters        N  iters  mean-hom  std-hom\n",
       "kmeans                                                      \n",
       "0             2         4       32  50000         0        0\n",
       "1             4        16      512   6250         0        0\n",
       "2             5        25     1250   2000         0        0\n",
       "3            10       100    20000    250         0        0\n",
       "4            12       144    41472     86         0        0\n",
       "5            20       400   320000     15         0        0\n",
       "6            25       625   781250      4         0        0\n",
       "7            33      1089  2371842      1         0        0"
      ]
     },
     "execution_count": 11,
     "metadata": {},
     "output_type": "execute_result"
    }
   ],
   "source": [
    "exps"
   ]
  },
  {
   "cell_type": "code",
   "execution_count": 12,
   "metadata": {},
   "outputs": [],
   "source": [
    "import time"
   ]
  },
  {
   "cell_type": "code",
   "execution_count": 13,
   "metadata": {},
   "outputs": [
    {
     "name": "stdout",
     "output_type": "stream",
     "text": [
      "running: 4 32\n",
      "time: 3359.8274035453796\n",
      "running: 16 512\n",
      "time: 1103.7299070358276\n",
      "running: 25 1250\n",
      "time: 746.9820826053619\n",
      "running: 100 20000\n",
      "time: 23931.941823244095\n",
      "running: 144 41472\n",
      "time: 10043.633715391159\n",
      "running: 400 320000\n",
      "time: 5409.166598558426\n",
      "running: 625 781250\n",
      "time: 4231.756638765335\n",
      "running: 1089 2371842\n",
      "time: 4981.432255029678\n",
      "CPU times: user 11d 19h 11min 15s, sys: 41min 10s, total: 11d 19h 52min 25s\n",
      "Wall time: 14h 56min 48s\n"
     ]
    }
   ],
   "source": [
    "%%time\n",
    "col_select = ['x0', 'x1']\n",
    "gen = []\n",
    "for i,row in exps.iterrows():\n",
    "    c, n, iters = row.Clusters, row.N, row.iters\n",
    "    homc = []\n",
    "    print('running:',c,n)\n",
    "    ss = time.time()\n",
    "    for j in range(iters):\n",
    "        ###gneerate data\n",
    "        N,D = n,2\n",
    "        kw_generate =  {'N':n, 'D':D,'f_gen_name': 'uniform_gen','low':0, 'high': 1}\n",
    "        kw_cluster =  {'f_class_name':'circle_class', 'centers': [0.5, 0.5], 'r_small': 0.2, 'r_big':0.4}\n",
    "        kw_treatment = {'f_treat_name' :'uniform_treat','choices':[0,1], 'probabilities':[0.5,0.5]}\n",
    "\n",
    "        stats = np.array([[1, 0.75], [0, 0.75], [1, 0.75], [1, 0.75]])\n",
    "        kw_outcome = {'f_outcome_name': 'outcome1','treatment':'Treatment', 'cls':'C', 'stats':stats}\n",
    "\n",
    "        data = GEN_EXP(kw_generate, kw_cluster, kw_treatment, kw_outcome).dat\n",
    "        data = calculate_ite(data.copy(), treatment = 'Treatment',\n",
    "                     counterfactual = 'Ycf', outcome = 'Y', ite_name = 'ITE')\n",
    "        \n",
    "        ### cluster data\n",
    "        data2,_ = kmeans_clustering(data, clusters=c,col_select = col_select, cluster_name = 'A')\n",
    "        ### calc hom\n",
    "        res = computeATT_per_cluster(data2.copy(), hom_name = 'HOM',weight_names = 'W',\n",
    "                                     cluster_name  = \"A\", att = False)\n",
    "        hom = (res['HOM']*res['W']).sum(axis = 0)\n",
    "        homc.append(hom)\n",
    "        \n",
    "    ###get stats\n",
    "    ee = time.time() - ss\n",
    "    print('time:',ee)\n",
    "    homcnp = np.array(homc)\n",
    "    gen.append(homcnp)\n",
    "    mean = np.mean(homcnp)\n",
    "    std = np.std(homcnp)\n",
    "    exps.loc[i,'mean-hom'] = mean\n",
    "    exps.loc[i,'std-hom'] = std\n",
    "    \n",
    "    "
   ]
  },
  {
   "cell_type": "code",
   "execution_count": 14,
   "metadata": {},
   "outputs": [
    {
     "data": {
      "text/html": [
       "<div>\n",
       "<style scoped>\n",
       "    .dataframe tbody tr th:only-of-type {\n",
       "        vertical-align: middle;\n",
       "    }\n",
       "\n",
       "    .dataframe tbody tr th {\n",
       "        vertical-align: top;\n",
       "    }\n",
       "\n",
       "    .dataframe thead th {\n",
       "        text-align: right;\n",
       "    }\n",
       "</style>\n",
       "<table border=\"1\" class=\"dataframe\">\n",
       "  <thead>\n",
       "    <tr style=\"text-align: right;\">\n",
       "      <th></th>\n",
       "      <th>X-parts</th>\n",
       "      <th>Clusters</th>\n",
       "      <th>N</th>\n",
       "      <th>iters</th>\n",
       "      <th>mean-hom</th>\n",
       "      <th>std-hom</th>\n",
       "    </tr>\n",
       "    <tr>\n",
       "      <th>kmeans</th>\n",
       "      <th></th>\n",
       "      <th></th>\n",
       "      <th></th>\n",
       "      <th></th>\n",
       "      <th></th>\n",
       "      <th></th>\n",
       "    </tr>\n",
       "  </thead>\n",
       "  <tbody>\n",
       "    <tr>\n",
       "      <th>0</th>\n",
       "      <td>2</td>\n",
       "      <td>4</td>\n",
       "      <td>32</td>\n",
       "      <td>50000</td>\n",
       "      <td>0.671420</td>\n",
       "      <td>0.060252</td>\n",
       "    </tr>\n",
       "    <tr>\n",
       "      <th>1</th>\n",
       "      <td>4</td>\n",
       "      <td>16</td>\n",
       "      <td>512</td>\n",
       "      <td>6250</td>\n",
       "      <td>0.744431</td>\n",
       "      <td>0.032001</td>\n",
       "    </tr>\n",
       "    <tr>\n",
       "      <th>2</th>\n",
       "      <td>5</td>\n",
       "      <td>25</td>\n",
       "      <td>1250</td>\n",
       "      <td>2000</td>\n",
       "      <td>0.804816</td>\n",
       "      <td>0.025722</td>\n",
       "    </tr>\n",
       "    <tr>\n",
       "      <th>3</th>\n",
       "      <td>10</td>\n",
       "      <td>100</td>\n",
       "      <td>20000</td>\n",
       "      <td>250</td>\n",
       "      <td>0.916408</td>\n",
       "      <td>0.007762</td>\n",
       "    </tr>\n",
       "    <tr>\n",
       "      <th>4</th>\n",
       "      <td>12</td>\n",
       "      <td>144</td>\n",
       "      <td>41472</td>\n",
       "      <td>86</td>\n",
       "      <td>0.921159</td>\n",
       "      <td>0.004070</td>\n",
       "    </tr>\n",
       "    <tr>\n",
       "      <th>5</th>\n",
       "      <td>20</td>\n",
       "      <td>400</td>\n",
       "      <td>320000</td>\n",
       "      <td>15</td>\n",
       "      <td>0.953636</td>\n",
       "      <td>0.001730</td>\n",
       "    </tr>\n",
       "    <tr>\n",
       "      <th>6</th>\n",
       "      <td>25</td>\n",
       "      <td>625</td>\n",
       "      <td>781250</td>\n",
       "      <td>4</td>\n",
       "      <td>0.964272</td>\n",
       "      <td>0.000340</td>\n",
       "    </tr>\n",
       "    <tr>\n",
       "      <th>7</th>\n",
       "      <td>33</td>\n",
       "      <td>1089</td>\n",
       "      <td>2371842</td>\n",
       "      <td>1</td>\n",
       "      <td>0.972441</td>\n",
       "      <td>0.000000</td>\n",
       "    </tr>\n",
       "  </tbody>\n",
       "</table>\n",
       "</div>"
      ],
      "text/plain": [
       "        X-parts  Clusters        N  iters  mean-hom   std-hom\n",
       "kmeans                                                       \n",
       "0             2         4       32  50000  0.671420  0.060252\n",
       "1             4        16      512   6250  0.744431  0.032001\n",
       "2             5        25     1250   2000  0.804816  0.025722\n",
       "3            10       100    20000    250  0.916408  0.007762\n",
       "4            12       144    41472     86  0.921159  0.004070\n",
       "5            20       400   320000     15  0.953636  0.001730\n",
       "6            25       625   781250      4  0.964272  0.000340\n",
       "7            33      1089  2371842      1  0.972441  0.000000"
      ]
     },
     "execution_count": 14,
     "metadata": {},
     "output_type": "execute_result"
    }
   ],
   "source": [
    "exps"
   ]
  },
  {
   "cell_type": "code",
   "execution_count": 15,
   "metadata": {},
   "outputs": [],
   "source": [
    "from pathlib import Path\n",
    "\n"
   ]
  },
  {
   "cell_type": "code",
   "execution_count": 16,
   "metadata": {},
   "outputs": [],
   "source": [
    "p = './homog/'\n",
    "Path('./homog/').mkdir(parents = True, exist_ok = True)\n",
    "exps.to_csv(p+name+'.csv')"
   ]
  },
  {
   "cell_type": "code",
   "execution_count": 17,
   "metadata": {},
   "outputs": [
    {
     "data": {
      "text/plain": [
       "0.6381140744024888"
      ]
     },
     "execution_count": 17,
     "metadata": {},
     "output_type": "execute_result"
    }
   ],
   "source": [
    "4*(3/4)**16+(1-4*(3/4)**16)*0.623"
   ]
  },
  {
   "cell_type": "code",
   "execution_count": null,
   "metadata": {},
   "outputs": [],
   "source": []
  }
 ],
 "metadata": {
  "kernelspec": {
   "display_name": "Python [conda env:jorje]",
   "language": "python",
   "name": "conda-env-jorje-py"
  },
  "language_info": {
   "codemirror_mode": {
    "name": "ipython",
    "version": 3
   },
   "file_extension": ".py",
   "mimetype": "text/x-python",
   "name": "python",
   "nbconvert_exporter": "python",
   "pygments_lexer": "ipython3",
   "version": "3.7.2"
  }
 },
 "nbformat": 4,
 "nbformat_minor": 2
}
