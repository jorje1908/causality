{
 "cells": [
  {
   "cell_type": "code",
   "execution_count": 1,
   "metadata": {},
   "outputs": [],
   "source": [
    "%load_ext autoreload\n",
    "%autoreload 2\n"
   ]
  },
  {
   "cell_type": "code",
   "execution_count": 2,
   "metadata": {},
   "outputs": [],
   "source": [
    "import numpy as np\n",
    "import pandas as pd\n",
    "import matplotlib.pyplot as plt\n",
    "import seaborn as sns\n",
    "import matplotlib as mpl\n",
    "\n",
    "from sklearn.cluster import KMeans \n",
    "from sklearn.cluster import SpectralClustering\n",
    "from sklearn.cluster import AgglomerativeClustering\n",
    "from pathlib import Path"
   ]
  },
  {
   "cell_type": "code",
   "execution_count": 3,
   "metadata": {},
   "outputs": [],
   "source": [
    "import sys\n",
    "\n",
    "sys.path.append('../../src')\n",
    "\n"
   ]
  },
  {
   "cell_type": "code",
   "execution_count": 4,
   "metadata": {},
   "outputs": [],
   "source": [
    "from base_exp_gen import generate_experiment as GEN_EXP\n",
    "from clustering_algos import agglomerative_clustering, kmeans_clustering, box_clustering\n",
    "from sklearn.model_selection import train_test_split as datasplit\n",
    "from sklearn.ensemble import GradientBoostingRegressor as GDBR\n",
    "from evaluations import computeATT_per_cluster as ATTC, predict_cf, calculate_ite, get_homogeneity, generate_paths\n",
    "\n"
   ]
  },
  {
   "cell_type": "code",
   "execution_count": 5,
   "metadata": {},
   "outputs": [],
   "source": [
    "np.random.seed(seed = 0)"
   ]
  },
  {
   "cell_type": "code",
   "execution_count": 6,
   "metadata": {},
   "outputs": [],
   "source": [
    "fonts = {'family': 'cmr10','weight': 'normal',\n",
    "            'size': 20}    \n",
    "div = 1\n",
    "\n",
    "l1 = 22/div\n",
    "l2 = 20/div\n",
    "l3 = 13/(div-0.2)\n",
    "\n",
    "mpl.rcParams['xtick.labelsize'] = l2\n",
    "mpl.rcParams['ytick.labelsize'] = l2\n",
    "mpl.rcParams['axes.labelsize'] = l1\n",
    "mpl.rcParams['font.serif'] = 'Times New Roman'\n",
    "mpl.rcParams['font.weight'] = 'normal'\n",
    "mpl.rcParams['font.size'] = 20\n",
    "mpl.rcParams['legend.fontsize'] = l3\n",
    "\n",
    "#axes_font = {'labelsize':l1}\n",
    "#mpl.rc('font', **font)\n",
    "#xticks = {'labelsize':l2}# 'ytick.labelsize':20}\n",
    "#yticks = {'labelsize':l2}# 'ytick.labelsize':20}\n",
    "#legend = {'fontsize':l3}\n",
    "# tex = {'usetex':True}\n",
    "#mpl.rc('axes', **axes_font)\n",
    "#mpl.rc('xtick', **xticks)\n",
    "#mpl.rc('ytick', **yticks)\n",
    "#mpl.rc('font', **fonts)\n",
    "#mpl.rc('legend', **legend)"
   ]
  },
  {
   "cell_type": "code",
   "execution_count": null,
   "metadata": {},
   "outputs": [],
   "source": []
  },
  {
   "cell_type": "code",
   "execution_count": 7,
   "metadata": {},
   "outputs": [
    {
     "name": "stdout",
     "output_type": "stream",
     "text": [
      "20.0\n"
     ]
    }
   ],
   "source": [
    "print(mpl.rcParams['xtick.labelsize'])"
   ]
  },
  {
   "cell_type": "code",
   "execution_count": 8,
   "metadata": {},
   "outputs": [],
   "source": [
    "pd.set_option(\"display.max_columns\", None)\n"
   ]
  },
  {
   "cell_type": "markdown",
   "metadata": {},
   "source": [
    "### Generate Experiment"
   ]
  },
  {
   "cell_type": "code",
   "execution_count": 9,
   "metadata": {},
   "outputs": [
    {
     "name": "stdout",
     "output_type": "stream",
     "text": [
      "CPU times: user 199 µs, sys: 183 µs, total: 382 µs\n",
      "Wall time: 715 µs\n"
     ]
    }
   ],
   "source": [
    "%%time\n",
    "path_figs = './figs/2Mstd5/With_EFF_CALC'\n",
    "save = False\n",
    "Path(path_figs).mkdir(exist_ok = True, parents = True)"
   ]
  },
  {
   "cell_type": "code",
   "execution_count": 10,
   "metadata": {},
   "outputs": [
    {
     "name": "stdout",
     "output_type": "stream",
     "text": [
      "Number of Clusters:441, Number of Points:200000\n"
     ]
    }
   ],
   "source": [
    "N,D = 2*10**5, 2\n",
    "x = int((N)**(1/4))\n",
    "clusters = x**2\n",
    "print(\"Number of Clusters:{}, Number of Points:{}\".format(clusters, N))\n",
    "kw_generate =  {'N':N, 'D':D,'f_gen_name': 'uniform_gen','low':0, 'high': 1}\n",
    "kw_cluster =  {'f_class_name':'circle_class', 'centers': [0.5, 0.5], 'r_small': 0.2, 'r_big':0.4}\n",
    "kw_treatment = {'f_treat_name' :'uniform_treat','choices':[0,1], 'probabilities':[0.5,0.5]}\n",
    "\n",
    "std = 5\n",
    "stats = np.array([[1, std], [0, std], [1, std], [1, std]])\n",
    "kw_outcome = {'f_outcome_name': 'outcome1','treatment':'Treatment', 'cls':'C', 'stats':stats}\n",
    "\n",
    "data = GEN_EXP(kw_generate, kw_cluster, kw_treatment, kw_outcome).dat\n",
    "data = calculate_ite(data.copy(), treatment = 'Treatment',\n",
    "                     counterfactual = 'Ycf', outcome = 'Y', ite_name = 'ITE')"
   ]
  },
  {
   "cell_type": "code",
   "execution_count": 11,
   "metadata": {},
   "outputs": [
    {
     "data": {
      "text/html": [
       "<div>\n",
       "<style scoped>\n",
       "    .dataframe tbody tr th:only-of-type {\n",
       "        vertical-align: middle;\n",
       "    }\n",
       "\n",
       "    .dataframe tbody tr th {\n",
       "        vertical-align: top;\n",
       "    }\n",
       "\n",
       "    .dataframe thead th {\n",
       "        text-align: right;\n",
       "    }\n",
       "</style>\n",
       "<table border=\"1\" class=\"dataframe\">\n",
       "  <thead>\n",
       "    <tr style=\"text-align: right;\">\n",
       "      <th></th>\n",
       "      <th>x0</th>\n",
       "      <th>x1</th>\n",
       "      <th>C</th>\n",
       "      <th>Treatment</th>\n",
       "      <th>Y</th>\n",
       "      <th>Ycf</th>\n",
       "      <th>ITE</th>\n",
       "    </tr>\n",
       "  </thead>\n",
       "  <tbody>\n",
       "    <tr>\n",
       "      <th>0</th>\n",
       "      <td>0.548814</td>\n",
       "      <td>0.715189</td>\n",
       "      <td>1</td>\n",
       "      <td>0</td>\n",
       "      <td>-0.854847</td>\n",
       "      <td>2.332145</td>\n",
       "      <td>3.186993</td>\n",
       "    </tr>\n",
       "    <tr>\n",
       "      <th>1</th>\n",
       "      <td>0.602763</td>\n",
       "      <td>0.544883</td>\n",
       "      <td>0</td>\n",
       "      <td>1</td>\n",
       "      <td>3.707664</td>\n",
       "      <td>3.921452</td>\n",
       "      <td>-0.213788</td>\n",
       "    </tr>\n",
       "    <tr>\n",
       "      <th>2</th>\n",
       "      <td>0.423655</td>\n",
       "      <td>0.645894</td>\n",
       "      <td>0</td>\n",
       "      <td>0</td>\n",
       "      <td>5.668825</td>\n",
       "      <td>-2.468393</td>\n",
       "      <td>-8.137218</td>\n",
       "    </tr>\n",
       "    <tr>\n",
       "      <th>3</th>\n",
       "      <td>0.437587</td>\n",
       "      <td>0.891773</td>\n",
       "      <td>1</td>\n",
       "      <td>1</td>\n",
       "      <td>3.208085</td>\n",
       "      <td>-1.112636</td>\n",
       "      <td>4.320721</td>\n",
       "    </tr>\n",
       "    <tr>\n",
       "      <th>4</th>\n",
       "      <td>0.963663</td>\n",
       "      <td>0.383442</td>\n",
       "      <td>0</td>\n",
       "      <td>0</td>\n",
       "      <td>-6.136829</td>\n",
       "      <td>0.472842</td>\n",
       "      <td>6.609671</td>\n",
       "    </tr>\n",
       "  </tbody>\n",
       "</table>\n",
       "</div>"
      ],
      "text/plain": [
       "         x0        x1  C  Treatment         Y       Ycf       ITE\n",
       "0  0.548814  0.715189  1          0 -0.854847  2.332145  3.186993\n",
       "1  0.602763  0.544883  0          1  3.707664  3.921452 -0.213788\n",
       "2  0.423655  0.645894  0          0  5.668825 -2.468393 -8.137218\n",
       "3  0.437587  0.891773  1          1  3.208085 -1.112636  4.320721\n",
       "4  0.963663  0.383442  0          0 -6.136829  0.472842  6.609671"
      ]
     },
     "execution_count": 11,
     "metadata": {},
     "output_type": "execute_result"
    }
   ],
   "source": [
    "data.head(5)"
   ]
  },
  {
   "cell_type": "code",
   "execution_count": 12,
   "metadata": {},
   "outputs": [
    {
     "data": {
      "text/html": [
       "<div>\n",
       "<style scoped>\n",
       "    .dataframe tbody tr th:only-of-type {\n",
       "        vertical-align: middle;\n",
       "    }\n",
       "\n",
       "    .dataframe tbody tr th {\n",
       "        vertical-align: top;\n",
       "    }\n",
       "\n",
       "    .dataframe thead th {\n",
       "        text-align: right;\n",
       "    }\n",
       "</style>\n",
       "<table border=\"1\" class=\"dataframe\">\n",
       "  <thead>\n",
       "    <tr style=\"text-align: right;\">\n",
       "      <th></th>\n",
       "      <th>x0</th>\n",
       "      <th>x1</th>\n",
       "      <th>C</th>\n",
       "      <th>Treatment</th>\n",
       "      <th>Y</th>\n",
       "      <th>Ycf</th>\n",
       "      <th>ITE</th>\n",
       "    </tr>\n",
       "  </thead>\n",
       "  <tbody>\n",
       "    <tr>\n",
       "      <th>count</th>\n",
       "      <td>200000.000000</td>\n",
       "      <td>200000.000000</td>\n",
       "      <td>200000.000000</td>\n",
       "      <td>200000.000000</td>\n",
       "      <td>200000.000000</td>\n",
       "      <td>200000.000000</td>\n",
       "      <td>200000.000000</td>\n",
       "    </tr>\n",
       "    <tr>\n",
       "      <th>mean</th>\n",
       "      <td>0.499785</td>\n",
       "      <td>0.499334</td>\n",
       "      <td>0.376745</td>\n",
       "      <td>0.501805</td>\n",
       "      <td>0.805542</td>\n",
       "      <td>0.822199</td>\n",
       "      <td>0.380316</td>\n",
       "    </tr>\n",
       "    <tr>\n",
       "      <th>std</th>\n",
       "      <td>0.288533</td>\n",
       "      <td>0.289177</td>\n",
       "      <td>0.484571</td>\n",
       "      <td>0.499998</td>\n",
       "      <td>5.019551</td>\n",
       "      <td>5.013246</td>\n",
       "      <td>7.095762</td>\n",
       "    </tr>\n",
       "    <tr>\n",
       "      <th>min</th>\n",
       "      <td>0.000003</td>\n",
       "      <td>0.000003</td>\n",
       "      <td>0.000000</td>\n",
       "      <td>0.000000</td>\n",
       "      <td>-24.011493</td>\n",
       "      <td>-21.876708</td>\n",
       "      <td>-32.922613</td>\n",
       "    </tr>\n",
       "    <tr>\n",
       "      <th>25%</th>\n",
       "      <td>0.249671</td>\n",
       "      <td>0.247699</td>\n",
       "      <td>0.000000</td>\n",
       "      <td>0.000000</td>\n",
       "      <td>-2.575857</td>\n",
       "      <td>-2.566598</td>\n",
       "      <td>-4.423271</td>\n",
       "    </tr>\n",
       "    <tr>\n",
       "      <th>50%</th>\n",
       "      <td>0.501024</td>\n",
       "      <td>0.498865</td>\n",
       "      <td>0.000000</td>\n",
       "      <td>1.000000</td>\n",
       "      <td>0.828601</td>\n",
       "      <td>0.817187</td>\n",
       "      <td>0.382834</td>\n",
       "    </tr>\n",
       "    <tr>\n",
       "      <th>75%</th>\n",
       "      <td>0.749132</td>\n",
       "      <td>0.750450</td>\n",
       "      <td>1.000000</td>\n",
       "      <td>1.000000</td>\n",
       "      <td>4.202750</td>\n",
       "      <td>4.199955</td>\n",
       "      <td>5.175567</td>\n",
       "    </tr>\n",
       "    <tr>\n",
       "      <th>max</th>\n",
       "      <td>0.999990</td>\n",
       "      <td>0.999999</td>\n",
       "      <td>1.000000</td>\n",
       "      <td>1.000000</td>\n",
       "      <td>22.920856</td>\n",
       "      <td>24.583311</td>\n",
       "      <td>32.446066</td>\n",
       "    </tr>\n",
       "  </tbody>\n",
       "</table>\n",
       "</div>"
      ],
      "text/plain": [
       "                  x0             x1              C      Treatment  \\\n",
       "count  200000.000000  200000.000000  200000.000000  200000.000000   \n",
       "mean        0.499785       0.499334       0.376745       0.501805   \n",
       "std         0.288533       0.289177       0.484571       0.499998   \n",
       "min         0.000003       0.000003       0.000000       0.000000   \n",
       "25%         0.249671       0.247699       0.000000       0.000000   \n",
       "50%         0.501024       0.498865       0.000000       1.000000   \n",
       "75%         0.749132       0.750450       1.000000       1.000000   \n",
       "max         0.999990       0.999999       1.000000       1.000000   \n",
       "\n",
       "                   Y            Ycf            ITE  \n",
       "count  200000.000000  200000.000000  200000.000000  \n",
       "mean        0.805542       0.822199       0.380316  \n",
       "std         5.019551       5.013246       7.095762  \n",
       "min       -24.011493     -21.876708     -32.922613  \n",
       "25%        -2.575857      -2.566598      -4.423271  \n",
       "50%         0.828601       0.817187       0.382834  \n",
       "75%         4.202750       4.199955       5.175567  \n",
       "max        22.920856      24.583311      32.446066  "
      ]
     },
     "execution_count": 12,
     "metadata": {},
     "output_type": "execute_result"
    }
   ],
   "source": [
    "data.describe()"
   ]
  },
  {
   "cell_type": "code",
   "execution_count": 13,
   "metadata": {},
   "outputs": [],
   "source": [
    "#mpl.style.use(['seaborn-paper'])\n",
    "#mpl.rcParams.update(mpl.rcParamsDefault)\n"
   ]
  },
  {
   "cell_type": "code",
   "execution_count": 14,
   "metadata": {},
   "outputs": [
    {
     "data": {
      "image/png": "[encoded data removed]",
      "text/plain": [
       "<Figure size 432x288 with 1 Axes>"
      ]
     },
     "metadata": {
      "needs_background": "light"
     },
     "output_type": "display_data"
    }
   ],
   "source": [
    "fig, ax = plt.subplots()\n",
    "\n",
    "ax.scatter(data['x0'].values, data['x1'].values, c=data['C'].values, cmap = 'Greys', s=0.1)\n",
    "\n",
    "if save:\n",
    "    fig.savefig(path_figs+'data.jpeg',bbox_inches='tight', pad_inches = 0)\n",
    "\n",
    "plt.show()"
   ]
  },
  {
   "cell_type": "code",
   "execution_count": 15,
   "metadata": {},
   "outputs": [
    {
     "name": "stderr",
     "output_type": "stream",
     "text": [
      "/home/mavrog2/.conda/envs/jorje/lib/python3.7/site-packages/statsmodels/compat/pandas.py:49: FutureWarning: The Panel class is removed from pandas. Accessing it from the top-level namespace will also be removed in the next version\n",
      "  data_klasses = (pandas.Series, pandas.DataFrame, pandas.Panel)\n"
     ]
    }
   ],
   "source": [
    "from econml.metalearners import XLearner as XL\n",
    "from sklearn.ensemble import RandomForestClassifier as RF"
   ]
  },
  {
   "cell_type": "markdown",
   "metadata": {},
   "source": [
    " ### Estimate ITE with Gradient Boosting Trees"
   ]
  },
  {
   "cell_type": "code",
   "execution_count": 16,
   "metadata": {},
   "outputs": [
    {
     "name": "stdout",
     "output_type": "stream",
     "text": [
      "CPU times: user 5min 19s, sys: 94.5 ms, total: 5min 20s\n",
      "Wall time: 5min 19s\n"
     ]
    }
   ],
   "source": [
    "%%time\n",
    "f1_kwargs = {'n_estimators':400, 'max_depth':18}\n",
    "f2_kwargs = {'n_estimators':400, 'max_depth':18}\n",
    "\n",
    "data, models = predict_cf(data.copy(), col_select = ['x0', 'x1'], f1 = GDBR,\n",
    "                          f2 = GDBR, cf_name = 'Ycf-GDBR', f1_kwargs=f1_kwargs, \n",
    "                          f2_kwargs=f2_kwargs, ite_name ='ITE-GDBR')"
   ]
  },
  {
   "cell_type": "code",
   "execution_count": 17,
   "metadata": {},
   "outputs": [
    {
     "data": {
      "text/html": [
       "<div>\n",
       "<style scoped>\n",
       "    .dataframe tbody tr th:only-of-type {\n",
       "        vertical-align: middle;\n",
       "    }\n",
       "\n",
       "    .dataframe tbody tr th {\n",
       "        vertical-align: top;\n",
       "    }\n",
       "\n",
       "    .dataframe thead th {\n",
       "        text-align: right;\n",
       "    }\n",
       "</style>\n",
       "<table border=\"1\" class=\"dataframe\">\n",
       "  <thead>\n",
       "    <tr style=\"text-align: right;\">\n",
       "      <th></th>\n",
       "      <th>x0</th>\n",
       "      <th>x1</th>\n",
       "      <th>C</th>\n",
       "      <th>Treatment</th>\n",
       "      <th>Y</th>\n",
       "      <th>Ycf</th>\n",
       "      <th>ITE</th>\n",
       "      <th>IS_TEST</th>\n",
       "      <th>Ycf-GDBR</th>\n",
       "      <th>ITE-GDBR</th>\n",
       "    </tr>\n",
       "  </thead>\n",
       "  <tbody>\n",
       "    <tr>\n",
       "      <th>0</th>\n",
       "      <td>0.548814</td>\n",
       "      <td>0.715189</td>\n",
       "      <td>1</td>\n",
       "      <td>0</td>\n",
       "      <td>-0.854847</td>\n",
       "      <td>2.332145</td>\n",
       "      <td>3.186993</td>\n",
       "      <td>0</td>\n",
       "      <td>1.571280</td>\n",
       "      <td>2.426127</td>\n",
       "    </tr>\n",
       "    <tr>\n",
       "      <th>1</th>\n",
       "      <td>0.602763</td>\n",
       "      <td>0.544883</td>\n",
       "      <td>0</td>\n",
       "      <td>1</td>\n",
       "      <td>3.707664</td>\n",
       "      <td>3.921452</td>\n",
       "      <td>-0.213788</td>\n",
       "      <td>0</td>\n",
       "      <td>1.135340</td>\n",
       "      <td>2.572324</td>\n",
       "    </tr>\n",
       "    <tr>\n",
       "      <th>2</th>\n",
       "      <td>0.423655</td>\n",
       "      <td>0.645894</td>\n",
       "      <td>0</td>\n",
       "      <td>0</td>\n",
       "      <td>5.668825</td>\n",
       "      <td>-2.468393</td>\n",
       "      <td>-8.137218</td>\n",
       "      <td>0</td>\n",
       "      <td>0.518149</td>\n",
       "      <td>-5.150676</td>\n",
       "    </tr>\n",
       "    <tr>\n",
       "      <th>3</th>\n",
       "      <td>0.437587</td>\n",
       "      <td>0.891773</td>\n",
       "      <td>1</td>\n",
       "      <td>1</td>\n",
       "      <td>3.208085</td>\n",
       "      <td>-1.112636</td>\n",
       "      <td>4.320721</td>\n",
       "      <td>0</td>\n",
       "      <td>-1.769838</td>\n",
       "      <td>4.977923</td>\n",
       "    </tr>\n",
       "    <tr>\n",
       "      <th>4</th>\n",
       "      <td>0.963663</td>\n",
       "      <td>0.383442</td>\n",
       "      <td>0</td>\n",
       "      <td>0</td>\n",
       "      <td>-6.136829</td>\n",
       "      <td>0.472842</td>\n",
       "      <td>6.609671</td>\n",
       "      <td>0</td>\n",
       "      <td>-5.853652</td>\n",
       "      <td>0.283177</td>\n",
       "    </tr>\n",
       "  </tbody>\n",
       "</table>\n",
       "</div>"
      ],
      "text/plain": [
       "         x0        x1  C  Treatment         Y       Ycf       ITE  IS_TEST  \\\n",
       "0  0.548814  0.715189  1          0 -0.854847  2.332145  3.186993        0   \n",
       "1  0.602763  0.544883  0          1  3.707664  3.921452 -0.213788        0   \n",
       "2  0.423655  0.645894  0          0  5.668825 -2.468393 -8.137218        0   \n",
       "3  0.437587  0.891773  1          1  3.208085 -1.112636  4.320721        0   \n",
       "4  0.963663  0.383442  0          0 -6.136829  0.472842  6.609671        0   \n",
       "\n",
       "   Ycf-GDBR  ITE-GDBR  \n",
       "0  1.571280  2.426127  \n",
       "1  1.135340  2.572324  \n",
       "2  0.518149 -5.150676  \n",
       "3 -1.769838  4.977923  \n",
       "4 -5.853652  0.283177  "
      ]
     },
     "execution_count": 17,
     "metadata": {},
     "output_type": "execute_result"
    }
   ],
   "source": [
    "data.head(5)"
   ]
  },
  {
   "cell_type": "markdown",
   "metadata": {},
   "source": [
    "### Model performance"
   ]
  },
  {
   "cell_type": "code",
   "execution_count": 18,
   "metadata": {},
   "outputs": [
    {
     "data": {
      "text/html": [
       "<div>\n",
       "<style scoped>\n",
       "    .dataframe tbody tr th:only-of-type {\n",
       "        vertical-align: middle;\n",
       "    }\n",
       "\n",
       "    .dataframe tbody tr th {\n",
       "        vertical-align: top;\n",
       "    }\n",
       "\n",
       "    .dataframe thead th {\n",
       "        text-align: right;\n",
       "    }\n",
       "</style>\n",
       "<table border=\"1\" class=\"dataframe\">\n",
       "  <thead>\n",
       "    <tr style=\"text-align: right;\">\n",
       "      <th></th>\n",
       "      <th></th>\n",
       "      <th></th>\n",
       "      <th>Y</th>\n",
       "      <th>Ycf</th>\n",
       "      <th>Ycf-GDBR</th>\n",
       "      <th>ITE</th>\n",
       "      <th>ITE-GDBR</th>\n",
       "    </tr>\n",
       "    <tr>\n",
       "      <th>Treatment</th>\n",
       "      <th>C</th>\n",
       "      <th>IS_TEST</th>\n",
       "      <th></th>\n",
       "      <th></th>\n",
       "      <th></th>\n",
       "      <th></th>\n",
       "      <th></th>\n",
       "    </tr>\n",
       "  </thead>\n",
       "  <tbody>\n",
       "    <tr>\n",
       "      <th rowspan=\"4\" valign=\"top\">0</th>\n",
       "      <th rowspan=\"2\" valign=\"top\">0</th>\n",
       "      <th>0</th>\n",
       "      <td>1.013893</td>\n",
       "      <td>1.011884</td>\n",
       "      <td>0.987386</td>\n",
       "      <td>-0.002009</td>\n",
       "      <td>-0.026507</td>\n",
       "    </tr>\n",
       "    <tr>\n",
       "      <th>1</th>\n",
       "      <td>0.994990</td>\n",
       "      <td>0.955834</td>\n",
       "      <td>1.018338</td>\n",
       "      <td>-0.039156</td>\n",
       "      <td>0.023349</td>\n",
       "    </tr>\n",
       "    <tr>\n",
       "      <th rowspan=\"2\" valign=\"top\">1</th>\n",
       "      <th>0</th>\n",
       "      <td>-0.055808</td>\n",
       "      <td>1.031162</td>\n",
       "      <td>0.996359</td>\n",
       "      <td>1.086971</td>\n",
       "      <td>1.052168</td>\n",
       "    </tr>\n",
       "    <tr>\n",
       "      <th>1</th>\n",
       "      <td>-0.022474</td>\n",
       "      <td>0.994897</td>\n",
       "      <td>1.002309</td>\n",
       "      <td>1.017371</td>\n",
       "      <td>1.024783</td>\n",
       "    </tr>\n",
       "    <tr>\n",
       "      <th rowspan=\"4\" valign=\"top\">1</th>\n",
       "      <th rowspan=\"2\" valign=\"top\">0</th>\n",
       "      <th>0</th>\n",
       "      <td>0.989740</td>\n",
       "      <td>1.020520</td>\n",
       "      <td>0.968211</td>\n",
       "      <td>-0.030780</td>\n",
       "      <td>0.021528</td>\n",
       "    </tr>\n",
       "    <tr>\n",
       "      <th>1</th>\n",
       "      <td>1.045212</td>\n",
       "      <td>1.033636</td>\n",
       "      <td>0.978025</td>\n",
       "      <td>0.011576</td>\n",
       "      <td>0.067187</td>\n",
       "    </tr>\n",
       "    <tr>\n",
       "      <th rowspan=\"2\" valign=\"top\">1</th>\n",
       "      <th>0</th>\n",
       "      <td>0.991135</td>\n",
       "      <td>-0.005273</td>\n",
       "      <td>0.018692</td>\n",
       "      <td>0.996407</td>\n",
       "      <td>0.972442</td>\n",
       "    </tr>\n",
       "    <tr>\n",
       "      <th>1</th>\n",
       "      <td>1.010445</td>\n",
       "      <td>0.003137</td>\n",
       "      <td>0.025081</td>\n",
       "      <td>1.007308</td>\n",
       "      <td>0.985364</td>\n",
       "    </tr>\n",
       "  </tbody>\n",
       "</table>\n",
       "</div>"
      ],
      "text/plain": [
       "                            Y       Ycf  Ycf-GDBR       ITE  ITE-GDBR\n",
       "Treatment C IS_TEST                                                  \n",
       "0         0 0        1.013893  1.011884  0.987386 -0.002009 -0.026507\n",
       "            1        0.994990  0.955834  1.018338 -0.039156  0.023349\n",
       "          1 0       -0.055808  1.031162  0.996359  1.086971  1.052168\n",
       "            1       -0.022474  0.994897  1.002309  1.017371  1.024783\n",
       "1         0 0        0.989740  1.020520  0.968211 -0.030780  0.021528\n",
       "            1        1.045212  1.033636  0.978025  0.011576  0.067187\n",
       "          1 0        0.991135 -0.005273  0.018692  0.996407  0.972442\n",
       "            1        1.010445  0.003137  0.025081  1.007308  0.985364"
      ]
     },
     "execution_count": 18,
     "metadata": {},
     "output_type": "execute_result"
    }
   ],
   "source": [
    "filt = (data['Treatment'] == 1) & (data['C'] == 1) & (data['IS_TEST'] ==0)\n",
    "data.groupby(['Treatment', 'C', 'IS_TEST'])[['Y', 'Ycf', 'Ycf-GDBR','ITE', 'ITE-GDBR']].mean()"
   ]
  },
  {
   "cell_type": "markdown",
   "metadata": {},
   "source": [
    "### Apply clustering Box and Kmeans"
   ]
  },
  {
   "cell_type": "code",
   "execution_count": 19,
   "metadata": {},
   "outputs": [
    {
     "name": "stdout",
     "output_type": "stream",
     "text": [
      "CPU times: user 2h 3min 51s, sys: 19.9 s, total: 2h 4min 11s\n",
      "Wall time: 3min 29s\n"
     ]
    }
   ],
   "source": [
    "%%time\n",
    "col_select = ['x0', 'x1']\n",
    "data,_ = box_clustering(data.copy(), clusters = clusters, col_select = col_select )\n",
    "data,_ = kmeans_clustering(data.copy(), clusters = clusters, col_select = col_select )\n"
   ]
  },
  {
   "cell_type": "code",
   "execution_count": 20,
   "metadata": {},
   "outputs": [
    {
     "data": {
      "text/html": [
       "<div>\n",
       "<style scoped>\n",
       "    .dataframe tbody tr th:only-of-type {\n",
       "        vertical-align: middle;\n",
       "    }\n",
       "\n",
       "    .dataframe tbody tr th {\n",
       "        vertical-align: top;\n",
       "    }\n",
       "\n",
       "    .dataframe thead th {\n",
       "        text-align: right;\n",
       "    }\n",
       "</style>\n",
       "<table border=\"1\" class=\"dataframe\">\n",
       "  <thead>\n",
       "    <tr style=\"text-align: right;\">\n",
       "      <th></th>\n",
       "      <th>x0</th>\n",
       "      <th>x1</th>\n",
       "      <th>C</th>\n",
       "      <th>Treatment</th>\n",
       "      <th>Y</th>\n",
       "      <th>Ycf</th>\n",
       "      <th>ITE</th>\n",
       "      <th>IS_TEST</th>\n",
       "      <th>Ycf-GDBR</th>\n",
       "      <th>ITE-GDBR</th>\n",
       "      <th>Box-Cluster</th>\n",
       "      <th>Kmeans-Cluster</th>\n",
       "    </tr>\n",
       "  </thead>\n",
       "  <tbody>\n",
       "    <tr>\n",
       "      <th>0</th>\n",
       "      <td>0.548814</td>\n",
       "      <td>0.715189</td>\n",
       "      <td>1</td>\n",
       "      <td>0</td>\n",
       "      <td>-0.854847</td>\n",
       "      <td>2.332145</td>\n",
       "      <td>3.186993</td>\n",
       "      <td>0</td>\n",
       "      <td>1.571280</td>\n",
       "      <td>2.426127</td>\n",
       "      <td>326</td>\n",
       "      <td>418</td>\n",
       "    </tr>\n",
       "    <tr>\n",
       "      <th>1</th>\n",
       "      <td>0.602763</td>\n",
       "      <td>0.544883</td>\n",
       "      <td>0</td>\n",
       "      <td>1</td>\n",
       "      <td>3.707664</td>\n",
       "      <td>3.921452</td>\n",
       "      <td>-0.213788</td>\n",
       "      <td>0</td>\n",
       "      <td>1.135340</td>\n",
       "      <td>2.572324</td>\n",
       "      <td>243</td>\n",
       "      <td>384</td>\n",
       "    </tr>\n",
       "    <tr>\n",
       "      <th>2</th>\n",
       "      <td>0.423655</td>\n",
       "      <td>0.645894</td>\n",
       "      <td>0</td>\n",
       "      <td>0</td>\n",
       "      <td>5.668825</td>\n",
       "      <td>-2.468393</td>\n",
       "      <td>-8.137218</td>\n",
       "      <td>0</td>\n",
       "      <td>0.518149</td>\n",
       "      <td>-5.150676</td>\n",
       "      <td>281</td>\n",
       "      <td>430</td>\n",
       "    </tr>\n",
       "    <tr>\n",
       "      <th>3</th>\n",
       "      <td>0.437587</td>\n",
       "      <td>0.891773</td>\n",
       "      <td>1</td>\n",
       "      <td>1</td>\n",
       "      <td>3.208085</td>\n",
       "      <td>-1.112636</td>\n",
       "      <td>4.320721</td>\n",
       "      <td>0</td>\n",
       "      <td>-1.769838</td>\n",
       "      <td>4.977923</td>\n",
       "      <td>387</td>\n",
       "      <td>61</td>\n",
       "    </tr>\n",
       "    <tr>\n",
       "      <th>4</th>\n",
       "      <td>0.963663</td>\n",
       "      <td>0.383442</td>\n",
       "      <td>0</td>\n",
       "      <td>0</td>\n",
       "      <td>-6.136829</td>\n",
       "      <td>0.472842</td>\n",
       "      <td>6.609671</td>\n",
       "      <td>0</td>\n",
       "      <td>-5.853652</td>\n",
       "      <td>0.283177</td>\n",
       "      <td>188</td>\n",
       "      <td>437</td>\n",
       "    </tr>\n",
       "  </tbody>\n",
       "</table>\n",
       "</div>"
      ],
      "text/plain": [
       "         x0        x1  C  Treatment         Y       Ycf       ITE  IS_TEST  \\\n",
       "0  0.548814  0.715189  1          0 -0.854847  2.332145  3.186993        0   \n",
       "1  0.602763  0.544883  0          1  3.707664  3.921452 -0.213788        0   \n",
       "2  0.423655  0.645894  0          0  5.668825 -2.468393 -8.137218        0   \n",
       "3  0.437587  0.891773  1          1  3.208085 -1.112636  4.320721        0   \n",
       "4  0.963663  0.383442  0          0 -6.136829  0.472842  6.609671        0   \n",
       "\n",
       "   Ycf-GDBR  ITE-GDBR  Box-Cluster  Kmeans-Cluster  \n",
       "0  1.571280  2.426127          326             418  \n",
       "1  1.135340  2.572324          243             384  \n",
       "2  0.518149 -5.150676          281             430  \n",
       "3 -1.769838  4.977923          387              61  \n",
       "4 -5.853652  0.283177          188             437  "
      ]
     },
     "execution_count": 20,
     "metadata": {},
     "output_type": "execute_result"
    }
   ],
   "source": [
    "data.head()"
   ]
  },
  {
   "cell_type": "markdown",
   "metadata": {},
   "source": [
    "### Calculte ATT PER Cluster  known CF\n",
    "\n",
    "$\n",
    "\\begin{align}\n",
    "E[Y^1|T=1,Ci ]-E[Y^0|T=1, Ci]\n",
    "\\end{align}\n",
    "$"
   ]
  },
  {
   "cell_type": "code",
   "execution_count": 21,
   "metadata": {},
   "outputs": [],
   "source": [
    "ite_name = 'ITE'\n",
    "box = ATTC(data.copy(), cluster_name = 'Box-Cluster', ATT_CLUST_name='Box-ATT',\n",
    "           points_name='Box-points', weight_names='Box-Weights', \n",
    "           ITE_name = ite_name, hom_name = 'Box-Hom',\n",
    "          att = False)\n",
    "\n",
    "kmeans = ATTC(data.copy(), cluster_name = 'Kmeans-Cluster', ATT_CLUST_name='Kmeans-ATT',\n",
    "           points_name='Kmeans-points', weight_names='Kmeans-Weights',ITE_name = ite_name,\n",
    "              hom_name = 'Kmeans-Hom', att = False)\n"
   ]
  },
  {
   "cell_type": "code",
   "execution_count": 22,
   "metadata": {},
   "outputs": [
    {
     "data": {
      "text/html": [
       "<div>\n",
       "<style scoped>\n",
       "    .dataframe tbody tr th:only-of-type {\n",
       "        vertical-align: middle;\n",
       "    }\n",
       "\n",
       "    .dataframe tbody tr th {\n",
       "        vertical-align: top;\n",
       "    }\n",
       "\n",
       "    .dataframe thead th {\n",
       "        text-align: right;\n",
       "    }\n",
       "</style>\n",
       "<table border=\"1\" class=\"dataframe\">\n",
       "  <thead>\n",
       "    <tr style=\"text-align: right;\">\n",
       "      <th></th>\n",
       "      <th>Box-Cluster</th>\n",
       "      <th>Box-ATT</th>\n",
       "      <th>Box-points</th>\n",
       "      <th>Box-Hom</th>\n",
       "      <th>Box-Weights</th>\n",
       "    </tr>\n",
       "  </thead>\n",
       "  <tbody>\n",
       "    <tr>\n",
       "      <th>0</th>\n",
       "      <td>0</td>\n",
       "      <td>0.344095</td>\n",
       "      <td>491.0</td>\n",
       "      <td>1.0</td>\n",
       "      <td>0.002455</td>\n",
       "    </tr>\n",
       "    <tr>\n",
       "      <th>1</th>\n",
       "      <td>1</td>\n",
       "      <td>-0.344420</td>\n",
       "      <td>450.0</td>\n",
       "      <td>1.0</td>\n",
       "      <td>0.002250</td>\n",
       "    </tr>\n",
       "    <tr>\n",
       "      <th>2</th>\n",
       "      <td>2</td>\n",
       "      <td>0.231272</td>\n",
       "      <td>450.0</td>\n",
       "      <td>1.0</td>\n",
       "      <td>0.002250</td>\n",
       "    </tr>\n",
       "  </tbody>\n",
       "</table>\n",
       "</div>"
      ],
      "text/plain": [
       "   Box-Cluster   Box-ATT  Box-points  Box-Hom  Box-Weights\n",
       "0            0  0.344095       491.0      1.0     0.002455\n",
       "1            1 -0.344420       450.0      1.0     0.002250\n",
       "2            2  0.231272       450.0      1.0     0.002250"
      ]
     },
     "execution_count": 22,
     "metadata": {},
     "output_type": "execute_result"
    }
   ],
   "source": [
    "box.head(3)"
   ]
  },
  {
   "cell_type": "code",
   "execution_count": 23,
   "metadata": {},
   "outputs": [
    {
     "name": "stderr",
     "output_type": "stream",
     "text": [
      "/home/mavrog2/.conda/envs/jorje/lib/python3.7/site-packages/seaborn/distributions.py:2619: FutureWarning: `distplot` is a deprecated function and will be removed in a future version. Please adapt your code to use either `displot` (a figure-level function with similar flexibility) or `histplot` (an axes-level function for histograms).\n",
      "  warnings.warn(msg, FutureWarning)\n"
     ]
    },
    {
     "data": {
      "image/png": "[encoded data removed]",
      "text/plain": [
       "<Figure size 432x288 with 1 Axes>"
      ]
     },
     "metadata": {
      "needs_background": "light"
     },
     "output_type": "display_data"
    }
   ],
   "source": [
    "path2 = path_figs+'histograms/'\n",
    "Path(path2).mkdir(exist_ok = True)\n",
    "\n",
    "kde = False\n",
    "bins = 10\n",
    "fig, ax = plt.subplots(1,1)\n",
    "ax = sns.distplot(box['Box-ATT'].values, hist_kws = {'weights':box['Box-Weights'].values} , bins=bins, kde = False,ax = ax)\n",
    "ax.set_xlabel('ate')\n",
    "ax.set_ylabel('weight')\n",
    "\n",
    "if save:\n",
    "    fig.savefig(path2+'boxhist.pdf', bbox_inches='tight',pad_inches = 0)\n",
    "\n",
    "plt.show()\n",
    "\n"
   ]
  },
  {
   "cell_type": "code",
   "execution_count": 24,
   "metadata": {},
   "outputs": [
    {
     "data": {
      "image/png": "[encoded data removed]",
      "text/plain": [
       "<Figure size 432x288 with 1 Axes>"
      ]
     },
     "metadata": {
      "needs_background": "light"
     },
     "output_type": "display_data"
    }
   ],
   "source": [
    "fig, ax = plt.subplots(1,1)\n",
    "ax = sns.distplot(kmeans['Kmeans-ATT'], hist_kws={'weights':kmeans['Kmeans-Weights'].values},\n",
    "                  bins = bins, kde = kde, ax = ax)\n",
    "\n",
    "ax.set_xlabel('ate')\n",
    "ax.set_ylabel('weight')\n",
    "if save:\n",
    "    fig.savefig(path2+'Kmhist.pdf', bbox_inches='tight',pad_inches = 0)\n",
    "\n",
    "plt.show()\n"
   ]
  },
  {
   "cell_type": "code",
   "execution_count": 25,
   "metadata": {},
   "outputs": [
    {
     "data": {
      "image/png": "[encoded data removed]",
      "text/plain": [
       "<Figure size 432x288 with 1 Axes>"
      ]
     },
     "metadata": {
      "needs_background": "light"
     },
     "output_type": "display_data"
    }
   ],
   "source": [
    "fig, ax = plt.subplots(1,1)\n",
    "ax = sns.distplot(data['ITE'], bins = 10,hist_kws={'weights': np.ones(len(data))/len(data)},\n",
    "                  kde = kde, ax = ax)\n",
    "ax.set_xlabel('ite')\n",
    "ax.set_ylabel('weight')\n",
    "\n",
    "if save:\n",
    "    fig.savefig(path2+'itehist.pdf', bbox_inches='tight',pad_inches = 0)\n",
    "\n",
    "plt.show()\n"
   ]
  },
  {
   "cell_type": "code",
   "execution_count": 26,
   "metadata": {},
   "outputs": [
    {
     "data": {
      "text/html": [
       "<div>\n",
       "<style scoped>\n",
       "    .dataframe tbody tr th:only-of-type {\n",
       "        vertical-align: middle;\n",
       "    }\n",
       "\n",
       "    .dataframe tbody tr th {\n",
       "        vertical-align: top;\n",
       "    }\n",
       "\n",
       "    .dataframe thead th {\n",
       "        text-align: right;\n",
       "    }\n",
       "</style>\n",
       "<table border=\"1\" class=\"dataframe\">\n",
       "  <thead>\n",
       "    <tr style=\"text-align: right;\">\n",
       "      <th></th>\n",
       "      <th>Box-Cluster</th>\n",
       "      <th>Box-ATT</th>\n",
       "      <th>Box-points</th>\n",
       "      <th>Box-Hom</th>\n",
       "      <th>Box-Weights</th>\n",
       "    </tr>\n",
       "  </thead>\n",
       "  <tbody>\n",
       "    <tr>\n",
       "      <th>count</th>\n",
       "      <td>441.00000</td>\n",
       "      <td>441.000000</td>\n",
       "      <td>441.000000</td>\n",
       "      <td>441.000000</td>\n",
       "      <td>441.000000</td>\n",
       "    </tr>\n",
       "    <tr>\n",
       "      <th>mean</th>\n",
       "      <td>220.00000</td>\n",
       "      <td>0.379592</td>\n",
       "      <td>453.514739</td>\n",
       "      <td>0.954133</td>\n",
       "      <td>0.002268</td>\n",
       "    </tr>\n",
       "    <tr>\n",
       "      <th>std</th>\n",
       "      <td>127.44999</td>\n",
       "      <td>0.583124</td>\n",
       "      <td>21.551110</td>\n",
       "      <td>0.111310</td>\n",
       "      <td>0.000108</td>\n",
       "    </tr>\n",
       "    <tr>\n",
       "      <th>min</th>\n",
       "      <td>0.00000</td>\n",
       "      <td>-0.788207</td>\n",
       "      <td>399.000000</td>\n",
       "      <td>0.523404</td>\n",
       "      <td>0.001995</td>\n",
       "    </tr>\n",
       "    <tr>\n",
       "      <th>25%</th>\n",
       "      <td>110.00000</td>\n",
       "      <td>-0.113096</td>\n",
       "      <td>439.000000</td>\n",
       "      <td>1.000000</td>\n",
       "      <td>0.002195</td>\n",
       "    </tr>\n",
       "    <tr>\n",
       "      <th>50%</th>\n",
       "      <td>220.00000</td>\n",
       "      <td>0.281349</td>\n",
       "      <td>453.000000</td>\n",
       "      <td>1.000000</td>\n",
       "      <td>0.002265</td>\n",
       "    </tr>\n",
       "    <tr>\n",
       "      <th>75%</th>\n",
       "      <td>330.00000</td>\n",
       "      <td>0.877041</td>\n",
       "      <td>468.000000</td>\n",
       "      <td>1.000000</td>\n",
       "      <td>0.002340</td>\n",
       "    </tr>\n",
       "    <tr>\n",
       "      <th>max</th>\n",
       "      <td>440.00000</td>\n",
       "      <td>1.811558</td>\n",
       "      <td>520.000000</td>\n",
       "      <td>1.000000</td>\n",
       "      <td>0.002600</td>\n",
       "    </tr>\n",
       "  </tbody>\n",
       "</table>\n",
       "</div>"
      ],
      "text/plain": [
       "       Box-Cluster     Box-ATT  Box-points     Box-Hom  Box-Weights\n",
       "count    441.00000  441.000000  441.000000  441.000000   441.000000\n",
       "mean     220.00000    0.379592  453.514739    0.954133     0.002268\n",
       "std      127.44999    0.583124   21.551110    0.111310     0.000108\n",
       "min        0.00000   -0.788207  399.000000    0.523404     0.001995\n",
       "25%      110.00000   -0.113096  439.000000    1.000000     0.002195\n",
       "50%      220.00000    0.281349  453.000000    1.000000     0.002265\n",
       "75%      330.00000    0.877041  468.000000    1.000000     0.002340\n",
       "max      440.00000    1.811558  520.000000    1.000000     0.002600"
      ]
     },
     "execution_count": 26,
     "metadata": {},
     "output_type": "execute_result"
    }
   ],
   "source": [
    "box.describe()"
   ]
  },
  {
   "cell_type": "markdown",
   "metadata": {},
   "source": [
    "### Calculate ATT per Cluster not known Model Calculated CF"
   ]
  },
  {
   "cell_type": "code",
   "execution_count": 27,
   "metadata": {},
   "outputs": [],
   "source": [
    "ite_name = 'ITE-GDBR'\n",
    "box2 = ATTC(data.copy(), cluster_name = 'Box-Cluster', ATT_CLUST_name='Box-ATT',\n",
    "           points_name='Box-points', weight_names='Box-Weights', ITE_name = ite_name,\n",
    "            hom_name = 'Box-Hom', att = False)\n",
    "\n",
    "kmeans2 = ATTC(data.copy(), cluster_name = 'Kmeans-Cluster', ATT_CLUST_name='Kmeans-ATT',\n",
    "           points_name='Kmeans-points', weight_names='Kmeans-Weights',ITE_name = ite_name,\n",
    "               hom_name = 'Kmeans-Hom', att = False)\n",
    "\n"
   ]
  },
  {
   "cell_type": "code",
   "execution_count": 28,
   "metadata": {},
   "outputs": [
    {
     "name": "stderr",
     "output_type": "stream",
     "text": [
      "/home/mavrog2/.conda/envs/jorje/lib/python3.7/site-packages/seaborn/distributions.py:2619: FutureWarning: `distplot` is a deprecated function and will be removed in a future version. Please adapt your code to use either `displot` (a figure-level function with similar flexibility) or `histplot` (an axes-level function for histograms).\n",
      "  warnings.warn(msg, FutureWarning)\n"
     ]
    },
    {
     "data": {
      "image/png": "[encoded data removed]",
      "text/plain": [
       "<Figure size 432x288 with 1 Axes>"
      ]
     },
     "metadata": {
      "needs_background": "light"
     },
     "output_type": "display_data"
    }
   ],
   "source": [
    "fig, ax = plt.subplots(1,1)\n",
    "ax = sns.distplot(box2['Box-ATT'], hist_kws={'weights':box2['Box-Weights'].values},bins = bins, kde = kde,ax = ax )\n",
    "ax.set_xlabel('ate')\n",
    "ax.set_ylabel('weight')\n",
    "\n",
    "if save:\n",
    "    fig.savefig(path2+'Box2hist.pdf', bbox_inches='tight',pad_inches = 0)\n",
    "\n",
    "plt.show()\n",
    "\n",
    "\n"
   ]
  },
  {
   "cell_type": "code",
   "execution_count": 29,
   "metadata": {},
   "outputs": [
    {
     "data": {
      "image/png": "[encoded data removed]",
      "text/plain": [
       "<Figure size 432x288 with 1 Axes>"
      ]
     },
     "metadata": {
      "needs_background": "light"
     },
     "output_type": "display_data"
    }
   ],
   "source": [
    "fig, ax = plt.subplots(1,1)\n",
    "ax = sns.distplot(kmeans2['Kmeans-ATT'], hist_kws={'weights':kmeans2['Kmeans-Weights'].values},\n",
    "             bins = bins, kde = kde, ax = ax)\n",
    "ax.set_xlabel('ate')\n",
    "ax.set_ylabel('weight')\n",
    "\n",
    "if save:\n",
    "\n",
    "    fig.savefig(path2+'KM2hist.pdf', bbox_inches='tight',pad_inches = 0)\n",
    "\n",
    "plt.show()"
   ]
  },
  {
   "cell_type": "code",
   "execution_count": 30,
   "metadata": {},
   "outputs": [
    {
     "data": {
      "image/png": "[encoded data removed]",
      "text/plain": [
       "<Figure size 432x288 with 1 Axes>"
      ]
     },
     "metadata": {
      "needs_background": "light"
     },
     "output_type": "display_data"
    }
   ],
   "source": [
    "fig, ax = plt.subplots(1,1)\n",
    "ax = sns.distplot(data['ITE-GDBR'],bins = bins, kde = kde, ax = ax, hist_kws={'weights': np.ones(len(data))/len(data)})\n",
    "\n",
    "ax.set_xlabel('ite')\n",
    "ax.set_ylabel('weight')\n",
    "\n",
    "if save:\n",
    "\n",
    "    fig.savefig(path2+'ITE2hist.pdf', bbox_inches='tight',pad_inches = 0)\n",
    "\n",
    "plt.show()"
   ]
  },
  {
   "cell_type": "markdown",
   "metadata": {},
   "source": [
    "### Weighted Kmeans 2-Clustering\n",
    "#### Cluster the ATTs for the 4 methods \n",
    "1. Box with sampled Ites\n",
    "2. Kmeans with sampled Ites\n",
    "3. Box with estimated Ites\n",
    "4. Kmeans with estimated Ites"
   ]
  },
  {
   "cell_type": "code",
   "execution_count": 31,
   "metadata": {},
   "outputs": [
    {
     "name": "stdout",
     "output_type": "stream",
     "text": [
      "CPU times: user 261 ms, sys: 4 ms, total: 265 ms\n",
      "Wall time: 134 ms\n"
     ]
    }
   ],
   "source": [
    "%%time\n",
    "#all_data = [box, kmeans, agglo, box2, kmeans2, agglo2]\n",
    "all_data = [box, kmeans, box2, kmeans2]\n",
    "\n",
    "#names = ['Box-Cl2', 'Kmeans-Cl2', 'Agglo-Cl2', 'Box2-Cl2', 'Kmeans2-Cl2', 'Agglo2-Cl2']\n",
    "#names2 = ['Box-ATT', 'Kmeans-ATT', 'Agglo-ATT', 'Box-ATT', 'Kmeans-ATT', 'Agglo-ATT']\n",
    "\n",
    "names_to_give = ['Box-Cl2', 'Kmeans-Cl2',  'Box2-Cl2', 'Kmeans2-Cl2']\n",
    "names_to_find= ['Box-ATT', 'Kmeans-ATT',  'Box-ATT', 'Kmeans-ATT']\n",
    "\n",
    "weights = ['Box-Weights', 'Kmeans-Weights', 'Box-Weights', 'Kmeans-Weights']\n",
    "\n",
    "for dd, name, name2,w in zip(all_data, names_to_give, names_to_find,weights):\n",
    "    kmeans_clustering(dd, clusters = 2, col_select = [name2], \n",
    "                      cluster_name = name, fit_kwargs={'sample_weight':dd[w].values} )"
   ]
  },
  {
   "cell_type": "code",
   "execution_count": 32,
   "metadata": {},
   "outputs": [
    {
     "data": {
      "text/html": [
       "<div>\n",
       "<style scoped>\n",
       "    .dataframe tbody tr th:only-of-type {\n",
       "        vertical-align: middle;\n",
       "    }\n",
       "\n",
       "    .dataframe tbody tr th {\n",
       "        vertical-align: top;\n",
       "    }\n",
       "\n",
       "    .dataframe thead th {\n",
       "        text-align: right;\n",
       "    }\n",
       "</style>\n",
       "<table border=\"1\" class=\"dataframe\">\n",
       "  <thead>\n",
       "    <tr style=\"text-align: right;\">\n",
       "      <th></th>\n",
       "      <th>Box-Cluster</th>\n",
       "      <th>Box-ATT</th>\n",
       "      <th>Box-points</th>\n",
       "      <th>Box-Hom</th>\n",
       "      <th>Box-Weights</th>\n",
       "      <th>Box-Cl2</th>\n",
       "    </tr>\n",
       "  </thead>\n",
       "  <tbody>\n",
       "    <tr>\n",
       "      <th>0</th>\n",
       "      <td>0</td>\n",
       "      <td>0.344095</td>\n",
       "      <td>491.0</td>\n",
       "      <td>1.0</td>\n",
       "      <td>0.002455</td>\n",
       "      <td>0</td>\n",
       "    </tr>\n",
       "    <tr>\n",
       "      <th>1</th>\n",
       "      <td>1</td>\n",
       "      <td>-0.344420</td>\n",
       "      <td>450.0</td>\n",
       "      <td>1.0</td>\n",
       "      <td>0.002250</td>\n",
       "      <td>0</td>\n",
       "    </tr>\n",
       "  </tbody>\n",
       "</table>\n",
       "</div>"
      ],
      "text/plain": [
       "   Box-Cluster   Box-ATT  Box-points  Box-Hom  Box-Weights  Box-Cl2\n",
       "0            0  0.344095       491.0      1.0     0.002455        0\n",
       "1            1 -0.344420       450.0      1.0     0.002250        0"
      ]
     },
     "execution_count": 32,
     "metadata": {},
     "output_type": "execute_result"
    }
   ],
   "source": [
    "box.head(2)"
   ]
  },
  {
   "cell_type": "code",
   "execution_count": 33,
   "metadata": {},
   "outputs": [
    {
     "data": {
      "text/html": [
       "<div>\n",
       "<style scoped>\n",
       "    .dataframe tbody tr th:only-of-type {\n",
       "        vertical-align: middle;\n",
       "    }\n",
       "\n",
       "    .dataframe tbody tr th {\n",
       "        vertical-align: top;\n",
       "    }\n",
       "\n",
       "    .dataframe thead th {\n",
       "        text-align: right;\n",
       "    }\n",
       "</style>\n",
       "<table border=\"1\" class=\"dataframe\">\n",
       "  <thead>\n",
       "    <tr style=\"text-align: right;\">\n",
       "      <th></th>\n",
       "      <th>x0</th>\n",
       "      <th>x1</th>\n",
       "      <th>C</th>\n",
       "      <th>Treatment</th>\n",
       "      <th>Y</th>\n",
       "      <th>Ycf</th>\n",
       "      <th>ITE</th>\n",
       "      <th>IS_TEST</th>\n",
       "      <th>Ycf-GDBR</th>\n",
       "      <th>ITE-GDBR</th>\n",
       "      <th>Box-Cluster</th>\n",
       "      <th>Kmeans-Cluster</th>\n",
       "    </tr>\n",
       "  </thead>\n",
       "  <tbody>\n",
       "    <tr>\n",
       "      <th>0</th>\n",
       "      <td>0.548814</td>\n",
       "      <td>0.715189</td>\n",
       "      <td>1</td>\n",
       "      <td>0</td>\n",
       "      <td>-0.854847</td>\n",
       "      <td>2.332145</td>\n",
       "      <td>3.186993</td>\n",
       "      <td>0</td>\n",
       "      <td>1.57128</td>\n",
       "      <td>2.426127</td>\n",
       "      <td>326</td>\n",
       "      <td>418</td>\n",
       "    </tr>\n",
       "    <tr>\n",
       "      <th>1</th>\n",
       "      <td>0.602763</td>\n",
       "      <td>0.544883</td>\n",
       "      <td>0</td>\n",
       "      <td>1</td>\n",
       "      <td>3.707664</td>\n",
       "      <td>3.921452</td>\n",
       "      <td>-0.213788</td>\n",
       "      <td>0</td>\n",
       "      <td>1.13534</td>\n",
       "      <td>2.572324</td>\n",
       "      <td>243</td>\n",
       "      <td>384</td>\n",
       "    </tr>\n",
       "  </tbody>\n",
       "</table>\n",
       "</div>"
      ],
      "text/plain": [
       "         x0        x1  C  Treatment         Y       Ycf       ITE  IS_TEST  \\\n",
       "0  0.548814  0.715189  1          0 -0.854847  2.332145  3.186993        0   \n",
       "1  0.602763  0.544883  0          1  3.707664  3.921452 -0.213788        0   \n",
       "\n",
       "   Ycf-GDBR  ITE-GDBR  Box-Cluster  Kmeans-Cluster  \n",
       "0   1.57128  2.426127          326             418  \n",
       "1   1.13534  2.572324          243             384  "
      ]
     },
     "execution_count": 33,
     "metadata": {},
     "output_type": "execute_result"
    }
   ],
   "source": [
    "data2 = data.copy()\n",
    "data2.head(2)"
   ]
  },
  {
   "cell_type": "markdown",
   "metadata": {},
   "source": [
    "### 2 Clustering in the ITEs"
   ]
  },
  {
   "cell_type": "code",
   "execution_count": 34,
   "metadata": {},
   "outputs": [],
   "source": [
    "data2,_ = kmeans_clustering(data2,clusters = 2, cluster_name = 'ITE-2CTrue',col_select = ['ITE'] )\n",
    "data2,_ = kmeans_clustering(data2,clusters = 2, cluster_name = 'ITE-2CGDBR',col_select = ['ITE-GDBR'] )"
   ]
  },
  {
   "cell_type": "markdown",
   "metadata": {},
   "source": [
    "### Merge 2 Clustering with initial data"
   ]
  },
  {
   "cell_type": "code",
   "execution_count": 35,
   "metadata": {},
   "outputs": [],
   "source": [
    "#merge_names = ['Box-Cluster', 'Kmeans-Cluster', 'Agglomerative-Cluster']*2\n",
    "#class_names = ['Box-Cl2', 'Kmeans-Cl2', 'Agglo-Cl2', 'Box2-Cl2', 'Kmeans2-Cl2', 'Agglo2-Cl2']\n",
    "\n",
    "merge_names = ['Box-Cluster', 'Kmeans-Cluster']*2\n",
    "class_names = ['Box-Cl2', 'Kmeans-Cl2',  'Box2-Cl2', 'Kmeans2-Cl2']\n",
    "\n",
    "for dd, merge_name, class_name in zip(all_data, merge_names, class_names):\n",
    "    dd2 = dd[[merge_name, class_name]]\n",
    "\n",
    "\n",
    "    data2 = data2.merge(dd2, on = merge_name, how = 'left' )"
   ]
  },
  {
   "cell_type": "code",
   "execution_count": 36,
   "metadata": {},
   "outputs": [
    {
     "data": {
      "text/html": [
       "<div>\n",
       "<style scoped>\n",
       "    .dataframe tbody tr th:only-of-type {\n",
       "        vertical-align: middle;\n",
       "    }\n",
       "\n",
       "    .dataframe tbody tr th {\n",
       "        vertical-align: top;\n",
       "    }\n",
       "\n",
       "    .dataframe thead th {\n",
       "        text-align: right;\n",
       "    }\n",
       "</style>\n",
       "<table border=\"1\" class=\"dataframe\">\n",
       "  <thead>\n",
       "    <tr style=\"text-align: right;\">\n",
       "      <th></th>\n",
       "      <th>x0</th>\n",
       "      <th>x1</th>\n",
       "      <th>C</th>\n",
       "      <th>Treatment</th>\n",
       "      <th>Y</th>\n",
       "      <th>Ycf</th>\n",
       "      <th>ITE</th>\n",
       "      <th>IS_TEST</th>\n",
       "      <th>Ycf-GDBR</th>\n",
       "      <th>ITE-GDBR</th>\n",
       "      <th>Box-Cluster</th>\n",
       "      <th>Kmeans-Cluster</th>\n",
       "      <th>ITE-2CTrue</th>\n",
       "      <th>ITE-2CGDBR</th>\n",
       "      <th>Box-Cl2</th>\n",
       "      <th>Kmeans-Cl2</th>\n",
       "      <th>Box2-Cl2</th>\n",
       "      <th>Kmeans2-Cl2</th>\n",
       "    </tr>\n",
       "  </thead>\n",
       "  <tbody>\n",
       "    <tr>\n",
       "      <th>0</th>\n",
       "      <td>0.548814</td>\n",
       "      <td>0.715189</td>\n",
       "      <td>1</td>\n",
       "      <td>0</td>\n",
       "      <td>-0.854847</td>\n",
       "      <td>2.332145</td>\n",
       "      <td>3.186993</td>\n",
       "      <td>0</td>\n",
       "      <td>1.57128</td>\n",
       "      <td>2.426127</td>\n",
       "      <td>326</td>\n",
       "      <td>418</td>\n",
       "      <td>1</td>\n",
       "      <td>1</td>\n",
       "      <td>1</td>\n",
       "      <td>0</td>\n",
       "      <td>1</td>\n",
       "      <td>0</td>\n",
       "    </tr>\n",
       "    <tr>\n",
       "      <th>1</th>\n",
       "      <td>0.602763</td>\n",
       "      <td>0.544883</td>\n",
       "      <td>0</td>\n",
       "      <td>1</td>\n",
       "      <td>3.707664</td>\n",
       "      <td>3.921452</td>\n",
       "      <td>-0.213788</td>\n",
       "      <td>0</td>\n",
       "      <td>1.13534</td>\n",
       "      <td>2.572324</td>\n",
       "      <td>243</td>\n",
       "      <td>384</td>\n",
       "      <td>0</td>\n",
       "      <td>1</td>\n",
       "      <td>0</td>\n",
       "      <td>0</td>\n",
       "      <td>0</td>\n",
       "      <td>0</td>\n",
       "    </tr>\n",
       "  </tbody>\n",
       "</table>\n",
       "</div>"
      ],
      "text/plain": [
       "         x0        x1  C  Treatment         Y       Ycf       ITE  IS_TEST  \\\n",
       "0  0.548814  0.715189  1          0 -0.854847  2.332145  3.186993        0   \n",
       "1  0.602763  0.544883  0          1  3.707664  3.921452 -0.213788        0   \n",
       "\n",
       "   Ycf-GDBR  ITE-GDBR  Box-Cluster  Kmeans-Cluster  ITE-2CTrue  ITE-2CGDBR  \\\n",
       "0   1.57128  2.426127          326             418           1           1   \n",
       "1   1.13534  2.572324          243             384           0           1   \n",
       "\n",
       "   Box-Cl2  Kmeans-Cl2  Box2-Cl2  Kmeans2-Cl2  \n",
       "0        1           0         1            0  \n",
       "1        0           0         0            0  "
      ]
     },
     "execution_count": 36,
     "metadata": {},
     "output_type": "execute_result"
    }
   ],
   "source": [
    "data2.head(2)"
   ]
  },
  {
   "cell_type": "markdown",
   "metadata": {},
   "source": [
    "### Plot reconstruction of data"
   ]
  },
  {
   "cell_type": "code",
   "execution_count": 37,
   "metadata": {},
   "outputs": [
    {
     "data": {
      "image/png": "[encoded data removed]",
      "text/plain": [
       "<Figure size 432x288 with 1 Axes>"
      ]
     },
     "metadata": {
      "needs_background": "light"
     },
     "output_type": "display_data"
    },
    {
     "data": {
      "image/png": "[encoded data removed]",
      "text/plain": [
       "<Figure size 432x288 with 1 Axes>"
      ]
     },
     "metadata": {
      "needs_background": "light"
     },
     "output_type": "display_data"
    },
    {
     "data": {
      "image/png": "[encoded data removed]",
      "text/plain": [
       "<Figure size 432x288 with 1 Axes>"
      ]
     },
     "metadata": {
      "needs_background": "light"
     },
     "output_type": "display_data"
    },
    {
     "data": {
      "image/png": "[encoded data removed]",
      "text/plain": [
       "<Figure size 432x288 with 1 Axes>"
      ]
     },
     "metadata": {
      "needs_background": "light"
     },
     "output_type": "display_data"
    },
    {
     "name": "stdout",
     "output_type": "stream",
     "text": [
      "CPU times: user 22.2 s, sys: 447 ms, total: 22.6 s\n",
      "Wall time: 22.1 s\n"
     ]
    }
   ],
   "source": [
    "%%time\n",
    "#class_names1 = ['Box-Cl2', 'Kmeans-Cl2', 'Agglo-Cl2', 'Box2-Cl2',\n",
    "                #'Kmeans2-Cl2', 'Agglo2-Cl2', 'ITE-CTrue', 'ITE-CGDBR']\n",
    "\n",
    "class_names2 = ['Box-Cl2', 'Kmeans-Cl2',  'Box2-Cl2', 'Kmeans2-Cl2','ITE-2CTrue', 'ITE-2CGDBR']\n",
    "\n",
    "\n",
    "#patth to save\n",
    "path3 = path_figs+'reconstruction/'\n",
    "Path(path3).mkdir(exist_ok = True, parents = True)\n",
    "use_poly = False\n",
    "for name in class_names:\n",
    "    #data2.plot.scatter(x='x0', y='x1', c=name, colormap='inferno')\n",
    "    fig, ax = plt.subplots()\n",
    "    if not use_poly:\n",
    "        sc = ax.scatter(data2['x0'].values, data2['x1'].values, c=data2[name].values, cmap = 'Greys', s = 1)\n",
    "    else:\n",
    "        polygons, colors = generate_paths(K, Cdraw = avg_c, Cdraw_name=name)\n",
    "        coll = mpl.collections.PolyCollection(polygons)\n",
    "        coll.set(array = np.array(colors), cmap = 'Greys')\n",
    "        ax.add_collection(coll)\n",
    "        ax.figure.colorbar(coll)\n",
    "    #ax.set_title(name)\n",
    "    #fig.colorbar(sc)\n",
    "    if save:\n",
    "\n",
    "        fig.savefig(path3+'{}.jpeg'.format(name), bbox_inches='tight',pad_inches = 0)\n",
    "\n",
    "    plt.show()\n",
    "    "
   ]
  },
  {
   "cell_type": "code",
   "execution_count": 38,
   "metadata": {},
   "outputs": [],
   "source": [
    "def MAE_pd(group, name1,name2,column_name):\n",
    "    \n",
    "    group[column_name] = np.abs(group[name1].values-group[name2].mean())\n",
    "    return group\n",
    "    \n",
    "    "
   ]
  },
  {
   "cell_type": "code",
   "execution_count": 39,
   "metadata": {},
   "outputs": [],
   "source": [
    "ite_column = 'ITE-GDBR'\n",
    "\n",
    "for clust2 in class_names2:\n",
    "    data2 = data2.groupby(clust2).apply(lambda x: MAE_pd(x, 'C', ite_column, clust2+'-err-GDBR'))"
   ]
  },
  {
   "cell_type": "code",
   "execution_count": 40,
   "metadata": {},
   "outputs": [],
   "source": [
    "ite_column = 'ITE'\n",
    "\n",
    "for clust2 in class_names2:\n",
    "    data2 = data2.groupby(clust2).apply(lambda x: MAE_pd(x, 'C', ite_column, clust2+'-err-True-ITE'))"
   ]
  },
  {
   "cell_type": "code",
   "execution_count": 41,
   "metadata": {},
   "outputs": [],
   "source": [
    "errors = data2.describe().loc[['mean', 'std'], [col for col in data2.columns if 'err' in col]].T"
   ]
  },
  {
   "cell_type": "code",
   "execution_count": 42,
   "metadata": {},
   "outputs": [
    {
     "data": {
      "text/html": [
       "<div>\n",
       "<style scoped>\n",
       "    .dataframe tbody tr th:only-of-type {\n",
       "        vertical-align: middle;\n",
       "    }\n",
       "\n",
       "    .dataframe tbody tr th {\n",
       "        vertical-align: top;\n",
       "    }\n",
       "\n",
       "    .dataframe thead th {\n",
       "        text-align: right;\n",
       "    }\n",
       "</style>\n",
       "<table border=\"1\" class=\"dataframe\">\n",
       "  <thead>\n",
       "    <tr style=\"text-align: right;\">\n",
       "      <th></th>\n",
       "      <th>mean</th>\n",
       "      <th>std</th>\n",
       "    </tr>\n",
       "  </thead>\n",
       "  <tbody>\n",
       "    <tr>\n",
       "      <th>Box-Cl2-err-GDBR</th>\n",
       "      <td>0.115923</td>\n",
       "      <td>0.277751</td>\n",
       "    </tr>\n",
       "    <tr>\n",
       "      <th>Kmeans-Cl2-err-GDBR</th>\n",
       "      <td>0.115982</td>\n",
       "      <td>0.276094</td>\n",
       "    </tr>\n",
       "    <tr>\n",
       "      <th>Kmeans-Cl2-err-True-ITE</th>\n",
       "      <td>0.125105</td>\n",
       "      <td>0.282229</td>\n",
       "    </tr>\n",
       "    <tr>\n",
       "      <th>Box-Cl2-err-True-ITE</th>\n",
       "      <td>0.125700</td>\n",
       "      <td>0.285678</td>\n",
       "    </tr>\n",
       "    <tr>\n",
       "      <th>Box2-Cl2-err-True-ITE</th>\n",
       "      <td>0.196707</td>\n",
       "      <td>0.301928</td>\n",
       "    </tr>\n",
       "    <tr>\n",
       "      <th>Box2-Cl2-err-GDBR</th>\n",
       "      <td>0.207082</td>\n",
       "      <td>0.321000</td>\n",
       "    </tr>\n",
       "    <tr>\n",
       "      <th>Kmeans2-Cl2-err-True-ITE</th>\n",
       "      <td>0.216273</td>\n",
       "      <td>0.293060</td>\n",
       "    </tr>\n",
       "    <tr>\n",
       "      <th>Kmeans2-Cl2-err-GDBR</th>\n",
       "      <td>0.225683</td>\n",
       "      <td>0.308918</td>\n",
       "    </tr>\n",
       "    <tr>\n",
       "      <th>ITE-2CTrue-err-GDBR</th>\n",
       "      <td>2.823503</td>\n",
       "      <td>0.484291</td>\n",
       "    </tr>\n",
       "    <tr>\n",
       "      <th>ITE-2CGDBR-err-True-ITE</th>\n",
       "      <td>3.759177</td>\n",
       "      <td>0.484787</td>\n",
       "    </tr>\n",
       "    <tr>\n",
       "      <th>ITE-2CGDBR-err-GDBR</th>\n",
       "      <td>4.217090</td>\n",
       "      <td>0.484795</td>\n",
       "    </tr>\n",
       "    <tr>\n",
       "      <th>ITE-2CTrue-err-True-ITE</th>\n",
       "      <td>5.633100</td>\n",
       "      <td>0.487182</td>\n",
       "    </tr>\n",
       "  </tbody>\n",
       "</table>\n",
       "</div>"
      ],
      "text/plain": [
       "                              mean       std\n",
       "Box-Cl2-err-GDBR          0.115923  0.277751\n",
       "Kmeans-Cl2-err-GDBR       0.115982  0.276094\n",
       "Kmeans-Cl2-err-True-ITE   0.125105  0.282229\n",
       "Box-Cl2-err-True-ITE      0.125700  0.285678\n",
       "Box2-Cl2-err-True-ITE     0.196707  0.301928\n",
       "Box2-Cl2-err-GDBR         0.207082  0.321000\n",
       "Kmeans2-Cl2-err-True-ITE  0.216273  0.293060\n",
       "Kmeans2-Cl2-err-GDBR      0.225683  0.308918\n",
       "ITE-2CTrue-err-GDBR       2.823503  0.484291\n",
       "ITE-2CGDBR-err-True-ITE   3.759177  0.484787\n",
       "ITE-2CGDBR-err-GDBR       4.217090  0.484795\n",
       "ITE-2CTrue-err-True-ITE   5.633100  0.487182"
      ]
     },
     "execution_count": 42,
     "metadata": {},
     "output_type": "execute_result"
    }
   ],
   "source": [
    "errors.sort_values(by = 'mean')"
   ]
  },
  {
   "cell_type": "code",
   "execution_count": 43,
   "metadata": {},
   "outputs": [
    {
     "data": {
      "image/png": "[encoded data removed]",
      "text/plain": [
       "<Figure size 432x288 with 1 Axes>"
      ]
     },
     "metadata": {
      "needs_background": "light"
     },
     "output_type": "display_data"
    }
   ],
   "source": [
    "ax = errors['mean'].sort_values().plot.barh()\n",
    "plt.show()"
   ]
  },
  {
   "cell_type": "code",
   "execution_count": null,
   "metadata": {},
   "outputs": [],
   "source": []
  }
 ],
 "metadata": {
  "kernelspec": {
   "display_name": "Python [conda env:jorje]",
   "language": "python",
   "name": "conda-env-jorje-py"
  },
  "language_info": {
   "codemirror_mode": {
    "name": "ipython",
    "version": 3
   },
   "file_extension": ".py",
   "mimetype": "text/x-python",
   "name": "python",
   "nbconvert_exporter": "python",
   "pygments_lexer": "ipython3",
   "version": "3.7.2"
  }
 },
 "nbformat": 4,
 "nbformat_minor": 2
}
