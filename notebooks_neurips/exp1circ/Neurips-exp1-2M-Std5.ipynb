{
 "cells": [
  {
   "cell_type": "code",
   "execution_count": 1,
   "metadata": {},
   "outputs": [],
   "source": [
    "%load_ext autoreload\n",
    "%autoreload 2\n"
   ]
  },
  {
   "cell_type": "code",
   "execution_count": 2,
   "metadata": {},
   "outputs": [],
   "source": [
    "import numpy as np\n",
    "import pandas as pd\n",
    "import matplotlib.pyplot as plt\n",
    "import seaborn as sns\n",
    "import matplotlib as mpl\n",
    "\n",
    "from sklearn.cluster import KMeans \n",
    "from sklearn.cluster import SpectralClustering\n",
    "from sklearn.cluster import AgglomerativeClustering\n",
    "from pathlib import Path"
   ]
  },
  {
   "cell_type": "code",
   "execution_count": 3,
   "metadata": {},
   "outputs": [],
   "source": [
    "import sys\n",
    "\n",
    "sys.path.append('../../src')\n",
    "\n"
   ]
  },
  {
   "cell_type": "code",
   "execution_count": 4,
   "metadata": {},
   "outputs": [],
   "source": [
    "from base_exp_gen import generate_experiment as GEN_EXP\n",
    "from clustering_algos import agglomerative_clustering, kmeans_clustering, box_clustering\n",
    "from sklearn.model_selection import train_test_split as datasplit\n",
    "from sklearn.ensemble import GradientBoostingRegressor as GDBR\n",
    "from evaluations import computeATT_per_cluster as ATTC, predict_cf, calculate_ite, get_homogeneity, generate_paths\n",
    "\n"
   ]
  },
  {
   "cell_type": "code",
   "execution_count": null,
   "metadata": {},
   "outputs": [],
   "source": [
    "np.random.seed(seed = 0)"
   ]
  },
  {
   "cell_type": "code",
   "execution_count": null,
   "metadata": {},
   "outputs": [],
   "source": [
    "fonts = {'family': 'cmr10','weight': 'normal',\n",
    "            'size': 20}    \n",
    "div = 1\n",
    "\n",
    "l1 = 22/div\n",
    "l2 = 20/div\n",
    "l3 = 13/(div-0.2)\n",
    "\n",
    "mpl.rcParams['xtick.labelsize'] = l2\n",
    "mpl.rcParams['ytick.labelsize'] = l2\n",
    "mpl.rcParams['axes.labelsize'] = l1\n",
    "mpl.rcParams['font.serif'] = 'Times New Roman'\n",
    "mpl.rcParams['font.weight'] = 'normal'\n",
    "mpl.rcParams['font.size'] = 20\n",
    "mpl.rcParams['legend.fontsize'] = l3\n",
    "\n",
    "#axes_font = {'labelsize':l1}\n",
    "#mpl.rc('font', **font)\n",
    "#xticks = {'labelsize':l2}# 'ytick.labelsize':20}\n",
    "#yticks = {'labelsize':l2}# 'ytick.labelsize':20}\n",
    "#legend = {'fontsize':l3}\n",
    "# tex = {'usetex':True}\n",
    "#mpl.rc('axes', **axes_font)\n",
    "#mpl.rc('xtick', **xticks)\n",
    "#mpl.rc('ytick', **yticks)\n",
    "#mpl.rc('font', **fonts)\n",
    "#mpl.rc('legend', **legend)"
   ]
  },
  {
   "cell_type": "code",
   "execution_count": null,
   "metadata": {},
   "outputs": [],
   "source": []
  },
  {
   "cell_type": "code",
   "execution_count": null,
   "metadata": {},
   "outputs": [
    {
     "name": "stdout",
     "output_type": "stream",
     "text": [
      "20.0\n"
     ]
    }
   ],
   "source": [
    "print(mpl.rcParams['xtick.labelsize'])"
   ]
  },
  {
   "cell_type": "code",
   "execution_count": null,
   "metadata": {},
   "outputs": [],
   "source": [
    "pd.set_option(\"display.max_columns\", None)\n"
   ]
  },
  {
   "cell_type": "markdown",
   "metadata": {},
   "source": [
    "### Generate Experiment"
   ]
  },
  {
   "cell_type": "code",
   "execution_count": null,
   "metadata": {},
   "outputs": [
    {
     "name": "stdout",
     "output_type": "stream",
     "text": [
      "CPU times: user 0 ns, sys: 496 µs, total: 496 µs\n",
      "Wall time: 699 µs\n"
     ]
    }
   ],
   "source": [
    "%%time\n",
    "path_figs = './figs/2Mstd5/With_EFF_CALC'\n",
    "save = False\n",
    "Path(path_figs).mkdir(exist_ok = True, parents = True)"
   ]
  },
  {
   "cell_type": "code",
   "execution_count": null,
   "metadata": {},
   "outputs": [
    {
     "name": "stdout",
     "output_type": "stream",
     "text": [
      "Number of Clusters:1369, Number of Points:2000000\n"
     ]
    }
   ],
   "source": [
    "N,D = 2*10**6, 2\n",
    "x = int((N)**(1/4))\n",
    "clusters = x**2\n",
    "print(\"Number of Clusters:{}, Number of Points:{}\".format(clusters, N))\n",
    "kw_generate =  {'N':N, 'D':D,'f_gen_name': 'uniform_gen','low':0, 'high': 1}\n",
    "kw_cluster =  {'f_class_name':'circle_class', 'centers': [0.5, 0.5], 'r_small': 0.2, 'r_big':0.4}\n",
    "kw_treatment = {'f_treat_name' :'uniform_treat','choices':[0,1], 'probabilities':[0.5,0.5]}\n",
    "\n",
    "std = 5\n",
    "stats = np.array([[1, std], [0, std], [1, std], [1, std]])\n",
    "kw_outcome = {'f_outcome_name': 'outcome1','treatment':'Treatment', 'cls':'C', 'stats':stats}\n",
    "\n",
    "data = GEN_EXP(kw_generate, kw_cluster, kw_treatment, kw_outcome).dat\n",
    "data = calculate_ite(data.copy(), treatment = 'Treatment',\n",
    "                     counterfactual = 'Ycf', outcome = 'Y', ite_name = 'ITE')"
   ]
  },
  {
   "cell_type": "code",
   "execution_count": null,
   "metadata": {},
   "outputs": [
    {
     "data": {
      "text/html": [
       "<div>\n",
       "<style scoped>\n",
       "    .dataframe tbody tr th:only-of-type {\n",
       "        vertical-align: middle;\n",
       "    }\n",
       "\n",
       "    .dataframe tbody tr th {\n",
       "        vertical-align: top;\n",
       "    }\n",
       "\n",
       "    .dataframe thead th {\n",
       "        text-align: right;\n",
       "    }\n",
       "</style>\n",
       "<table border=\"1\" class=\"dataframe\">\n",
       "  <thead>\n",
       "    <tr style=\"text-align: right;\">\n",
       "      <th></th>\n",
       "      <th>x0</th>\n",
       "      <th>x1</th>\n",
       "      <th>C</th>\n",
       "      <th>Treatment</th>\n",
       "      <th>Y</th>\n",
       "      <th>Ycf</th>\n",
       "      <th>ITE</th>\n",
       "    </tr>\n",
       "  </thead>\n",
       "  <tbody>\n",
       "    <tr>\n",
       "      <th>0</th>\n",
       "      <td>0.548814</td>\n",
       "      <td>0.715189</td>\n",
       "      <td>1</td>\n",
       "      <td>0</td>\n",
       "      <td>9.965060</td>\n",
       "      <td>1.816760</td>\n",
       "      <td>-8.148300</td>\n",
       "    </tr>\n",
       "    <tr>\n",
       "      <th>1</th>\n",
       "      <td>0.602763</td>\n",
       "      <td>0.544883</td>\n",
       "      <td>0</td>\n",
       "      <td>0</td>\n",
       "      <td>9.189899</td>\n",
       "      <td>0.518928</td>\n",
       "      <td>-8.670971</td>\n",
       "    </tr>\n",
       "    <tr>\n",
       "      <th>2</th>\n",
       "      <td>0.423655</td>\n",
       "      <td>0.645894</td>\n",
       "      <td>0</td>\n",
       "      <td>0</td>\n",
       "      <td>3.758011</td>\n",
       "      <td>-0.579457</td>\n",
       "      <td>-4.337468</td>\n",
       "    </tr>\n",
       "    <tr>\n",
       "      <th>3</th>\n",
       "      <td>0.437587</td>\n",
       "      <td>0.891773</td>\n",
       "      <td>1</td>\n",
       "      <td>1</td>\n",
       "      <td>1.389764</td>\n",
       "      <td>-1.482725</td>\n",
       "      <td>2.872489</td>\n",
       "    </tr>\n",
       "    <tr>\n",
       "      <th>4</th>\n",
       "      <td>0.963663</td>\n",
       "      <td>0.383442</td>\n",
       "      <td>0</td>\n",
       "      <td>0</td>\n",
       "      <td>-10.479152</td>\n",
       "      <td>6.160328</td>\n",
       "      <td>16.639480</td>\n",
       "    </tr>\n",
       "  </tbody>\n",
       "</table>\n",
       "</div>"
      ],
      "text/plain": [
       "         x0        x1  C  Treatment          Y       Ycf        ITE\n",
       "0  0.548814  0.715189  1          0   9.965060  1.816760  -8.148300\n",
       "1  0.602763  0.544883  0          0   9.189899  0.518928  -8.670971\n",
       "2  0.423655  0.645894  0          0   3.758011 -0.579457  -4.337468\n",
       "3  0.437587  0.891773  1          1   1.389764 -1.482725   2.872489\n",
       "4  0.963663  0.383442  0          0 -10.479152  6.160328  16.639480"
      ]
     },
     "execution_count": 11,
     "metadata": {},
     "output_type": "execute_result"
    }
   ],
   "source": [
    "data.head(5)"
   ]
  },
  {
   "cell_type": "code",
   "execution_count": null,
   "metadata": {},
   "outputs": [
    {
     "data": {
      "text/html": [
       "<div>\n",
       "<style scoped>\n",
       "    .dataframe tbody tr th:only-of-type {\n",
       "        vertical-align: middle;\n",
       "    }\n",
       "\n",
       "    .dataframe tbody tr th {\n",
       "        vertical-align: top;\n",
       "    }\n",
       "\n",
       "    .dataframe thead th {\n",
       "        text-align: right;\n",
       "    }\n",
       "</style>\n",
       "<table border=\"1\" class=\"dataframe\">\n",
       "  <thead>\n",
       "    <tr style=\"text-align: right;\">\n",
       "      <th></th>\n",
       "      <th>x0</th>\n",
       "      <th>x1</th>\n",
       "      <th>C</th>\n",
       "      <th>Treatment</th>\n",
       "      <th>Y</th>\n",
       "      <th>Ycf</th>\n",
       "      <th>ITE</th>\n",
       "    </tr>\n",
       "  </thead>\n",
       "  <tbody>\n",
       "    <tr>\n",
       "      <th>count</th>\n",
       "      <td>2.000000e+06</td>\n",
       "      <td>2.000000e+06</td>\n",
       "      <td>2.000000e+06</td>\n",
       "      <td>2.000000e+06</td>\n",
       "      <td>2.000000e+06</td>\n",
       "      <td>2.000000e+06</td>\n",
       "      <td>2.000000e+06</td>\n",
       "    </tr>\n",
       "    <tr>\n",
       "      <th>mean</th>\n",
       "      <td>4.997836e-01</td>\n",
       "      <td>5.001988e-01</td>\n",
       "      <td>3.774610e-01</td>\n",
       "      <td>5.001005e-01</td>\n",
       "      <td>8.142636e-01</td>\n",
       "      <td>8.151898e-01</td>\n",
       "      <td>3.786323e-01</td>\n",
       "    </tr>\n",
       "    <tr>\n",
       "      <th>std</th>\n",
       "      <td>2.887267e-01</td>\n",
       "      <td>2.886267e-01</td>\n",
       "      <td>4.847518e-01</td>\n",
       "      <td>5.000001e-01</td>\n",
       "      <td>5.012017e+00</td>\n",
       "      <td>5.016939e+00</td>\n",
       "      <td>7.086182e+00</td>\n",
       "    </tr>\n",
       "    <tr>\n",
       "      <th>min</th>\n",
       "      <td>1.637144e-07</td>\n",
       "      <td>2.516784e-08</td>\n",
       "      <td>0.000000e+00</td>\n",
       "      <td>0.000000e+00</td>\n",
       "      <td>-2.659529e+01</td>\n",
       "      <td>-2.374868e+01</td>\n",
       "      <td>-3.689058e+01</td>\n",
       "    </tr>\n",
       "    <tr>\n",
       "      <th>25%</th>\n",
       "      <td>2.495544e-01</td>\n",
       "      <td>2.502948e-01</td>\n",
       "      <td>0.000000e+00</td>\n",
       "      <td>0.000000e+00</td>\n",
       "      <td>-2.565503e+00</td>\n",
       "      <td>-2.567915e+00</td>\n",
       "      <td>-4.405667e+00</td>\n",
       "    </tr>\n",
       "    <tr>\n",
       "      <th>50%</th>\n",
       "      <td>4.999703e-01</td>\n",
       "      <td>5.003810e-01</td>\n",
       "      <td>0.000000e+00</td>\n",
       "      <td>1.000000e+00</td>\n",
       "      <td>8.163050e-01</td>\n",
       "      <td>8.171418e-01</td>\n",
       "      <td>3.796200e-01</td>\n",
       "    </tr>\n",
       "    <tr>\n",
       "      <th>75%</th>\n",
       "      <td>7.499998e-01</td>\n",
       "      <td>7.500191e-01</td>\n",
       "      <td>1.000000e+00</td>\n",
       "      <td>1.000000e+00</td>\n",
       "      <td>4.196194e+00</td>\n",
       "      <td>4.201078e+00</td>\n",
       "      <td>5.159550e+00</td>\n",
       "    </tr>\n",
       "    <tr>\n",
       "      <th>max</th>\n",
       "      <td>9.999993e-01</td>\n",
       "      <td>9.999997e-01</td>\n",
       "      <td>1.000000e+00</td>\n",
       "      <td>1.000000e+00</td>\n",
       "      <td>2.433922e+01</td>\n",
       "      <td>2.545277e+01</td>\n",
       "      <td>3.647708e+01</td>\n",
       "    </tr>\n",
       "  </tbody>\n",
       "</table>\n",
       "</div>"
      ],
      "text/plain": [
       "                 x0            x1             C     Treatment             Y  \\\n",
       "count  2.000000e+06  2.000000e+06  2.000000e+06  2.000000e+06  2.000000e+06   \n",
       "mean   4.997836e-01  5.001988e-01  3.774610e-01  5.001005e-01  8.142636e-01   \n",
       "std    2.887267e-01  2.886267e-01  4.847518e-01  5.000001e-01  5.012017e+00   \n",
       "min    1.637144e-07  2.516784e-08  0.000000e+00  0.000000e+00 -2.659529e+01   \n",
       "25%    2.495544e-01  2.502948e-01  0.000000e+00  0.000000e+00 -2.565503e+00   \n",
       "50%    4.999703e-01  5.003810e-01  0.000000e+00  1.000000e+00  8.163050e-01   \n",
       "75%    7.499998e-01  7.500191e-01  1.000000e+00  1.000000e+00  4.196194e+00   \n",
       "max    9.999993e-01  9.999997e-01  1.000000e+00  1.000000e+00  2.433922e+01   \n",
       "\n",
       "                Ycf           ITE  \n",
       "count  2.000000e+06  2.000000e+06  \n",
       "mean   8.151898e-01  3.786323e-01  \n",
       "std    5.016939e+00  7.086182e+00  \n",
       "min   -2.374868e+01 -3.689058e+01  \n",
       "25%   -2.567915e+00 -4.405667e+00  \n",
       "50%    8.171418e-01  3.796200e-01  \n",
       "75%    4.201078e+00  5.159550e+00  \n",
       "max    2.545277e+01  3.647708e+01  "
      ]
     },
     "execution_count": 12,
     "metadata": {},
     "output_type": "execute_result"
    }
   ],
   "source": [
    "data.describe()"
   ]
  },
  {
   "cell_type": "code",
   "execution_count": null,
   "metadata": {},
   "outputs": [],
   "source": [
    "#mpl.style.use(['seaborn-paper'])\n",
    "#mpl.rcParams.update(mpl.rcParamsDefault)\n"
   ]
  },
  {
   "cell_type": "code",
   "execution_count": null,
   "metadata": {},
   "outputs": [
    {
     "data": {
      "image/png": "[encoded data removed]",
      "text/plain": [
       "<Figure size 432x288 with 1 Axes>"
      ]
     },
     "metadata": {
      "needs_background": "light"
     },
     "output_type": "display_data"
    }
   ],
   "source": [
    "fig, ax = plt.subplots()\n",
    "\n",
    "ax.scatter(data['x0'].values, data['x1'].values, c=data['C'].values, cmap = 'Greys', s=0.1)\n",
    "\n",
    "if save:\n",
    "    fig.savefig(path_figs+'data.jpeg',bbox_inches='tight', pad_inches = 0)\n",
    "\n",
    "plt.show()"
   ]
  },
  {
   "cell_type": "code",
   "execution_count": null,
   "metadata": {},
   "outputs": [
    {
     "name": "stderr",
     "output_type": "stream",
     "text": [
      "/home/mavrog2/.conda/envs/jorje/lib/python3.7/site-packages/statsmodels/compat/pandas.py:49: FutureWarning: The Panel class is removed from pandas. Accessing it from the top-level namespace will also be removed in the next version\n",
      "  data_klasses = (pandas.Series, pandas.DataFrame, pandas.Panel)\n"
     ]
    }
   ],
   "source": [
    "from econml.metalearners import XLearner as XL\n",
    "from sklearn.ensemble import RandomForestClassifier as RF"
   ]
  },
  {
   "cell_type": "markdown",
   "metadata": {},
   "source": [
    " ### Estimate ITE with Gradient Boosting Trees"
   ]
  },
  {
   "cell_type": "code",
   "execution_count": null,
   "metadata": {},
   "outputs": [],
   "source": [
    "%%time\n",
    "f1_kwargs = {'n_estimators':400, 'max_depth':18}\n",
    "f2_kwargs = {'n_estimators':400, 'max_depth':18}\n",
    "\n",
    "data, models = predict_cf(data.copy(), col_select = ['x0', 'x1'], f1 = GDBR,\n",
    "                          f2 = GDBR, cf_name = 'Ycf-GDBR', f1_kwargs=f1_kwargs, \n",
    "                          f2_kwargs=f2_kwargs, ite_name ='ITE-GDBR')"
   ]
  },
  {
   "cell_type": "code",
   "execution_count": null,
   "metadata": {},
   "outputs": [],
   "source": [
    "data.head(5)"
   ]
  },
  {
   "cell_type": "markdown",
   "metadata": {},
   "source": [
    "### Model performance"
   ]
  },
  {
   "cell_type": "code",
   "execution_count": null,
   "metadata": {},
   "outputs": [],
   "source": [
    "filt = (data['Treatment'] == 1) & (data['C'] == 1) & (data['IS_TEST'] ==0)\n",
    "data.groupby(['Treatment', 'C', 'IS_TEST'])[['Y', 'Ycf', 'Ycf-GDBR','ITE', 'ITE-GDBR']].mean()"
   ]
  },
  {
   "cell_type": "markdown",
   "metadata": {},
   "source": [
    "### Apply clustering Box and Kmeans"
   ]
  },
  {
   "cell_type": "code",
   "execution_count": null,
   "metadata": {},
   "outputs": [],
   "source": [
    "%%time\n",
    "col_select = ['x0', 'x1']\n",
    "data,_ = box_clustering(data.copy(), clusters = clusters, col_select = col_select )\n",
    "data,_ = kmeans_clustering(data.copy(), clusters = clusters, col_select = col_select )\n"
   ]
  },
  {
   "cell_type": "code",
   "execution_count": null,
   "metadata": {},
   "outputs": [],
   "source": [
    "data.head()"
   ]
  },
  {
   "cell_type": "markdown",
   "metadata": {},
   "source": [
    "### Calculte ATT PER Cluster  known CF\n",
    "\n",
    "$\n",
    "\\begin{align}\n",
    "E[Y^1|T=1,Ci ]-E[Y^0|T=1, Ci]\n",
    "\\end{align}\n",
    "$"
   ]
  },
  {
   "cell_type": "code",
   "execution_count": null,
   "metadata": {},
   "outputs": [],
   "source": [
    "ite_name = 'ITE'\n",
    "box = ATTC(data.copy(), cluster_name = 'Box-Cluster', ATT_CLUST_name='Box-ATT',\n",
    "           points_name='Box-points', weight_names='Box-Weights', \n",
    "           ITE_name = ite_name, hom_name = 'Box-Hom',\n",
    "          att = False)\n",
    "\n",
    "kmeans = ATTC(data.copy(), cluster_name = 'Kmeans-Cluster', ATT_CLUST_name='Kmeans-ATT',\n",
    "           points_name='Kmeans-points', weight_names='Kmeans-Weights',ITE_name = ite_name,\n",
    "              hom_name = 'Kmeans-Hom', att = False)\n"
   ]
  },
  {
   "cell_type": "code",
   "execution_count": null,
   "metadata": {},
   "outputs": [],
   "source": [
    "box.head(3)"
   ]
  },
  {
   "cell_type": "code",
   "execution_count": null,
   "metadata": {},
   "outputs": [],
   "source": [
    "path2 = path_figs+'histograms/'\n",
    "Path(path2).mkdir(exist_ok = True)\n",
    "\n",
    "kde = False\n",
    "bins = 10\n",
    "fig, ax = plt.subplots(1,1)\n",
    "ax = sns.distplot(box['Box-ATT'].values, hist_kws = {'weights':box['Box-Weights'].values} , bins=bins, kde = False,ax = ax)\n",
    "ax.set_xlabel('ate')\n",
    "ax.set_ylabel('weight')\n",
    "\n",
    "if save:\n",
    "    fig.savefig(path2+'boxhist.pdf', bbox_inches='tight',pad_inches = 0)\n",
    "\n",
    "plt.show()\n",
    "\n"
   ]
  },
  {
   "cell_type": "code",
   "execution_count": null,
   "metadata": {},
   "outputs": [],
   "source": [
    "fig, ax = plt.subplots(1,1)\n",
    "ax = sns.distplot(kmeans['Kmeans-ATT'], hist_kws={'weights':kmeans['Kmeans-Weights'].values},\n",
    "                  bins = bins, kde = kde, ax = ax)\n",
    "\n",
    "ax.set_xlabel('ate')\n",
    "ax.set_ylabel('weight')\n",
    "if save:\n",
    "    fig.savefig(path2+'Kmhist.pdf', bbox_inches='tight',pad_inches = 0)\n",
    "\n",
    "plt.show()\n"
   ]
  },
  {
   "cell_type": "code",
   "execution_count": null,
   "metadata": {},
   "outputs": [],
   "source": [
    "fig, ax = plt.subplots(1,1)\n",
    "ax = sns.distplot(data['ITE'], bins = 10,hist_kws={'weights': np.ones(len(data))/len(data)},\n",
    "                  kde = kde, ax = ax)\n",
    "ax.set_xlabel('ite')\n",
    "ax.set_ylabel('weight')\n",
    "\n",
    "if save:\n",
    "    fig.savefig(path2+'itehist.pdf', bbox_inches='tight',pad_inches = 0)\n",
    "\n",
    "plt.show()\n"
   ]
  },
  {
   "cell_type": "code",
   "execution_count": null,
   "metadata": {},
   "outputs": [],
   "source": [
    "box.describe()"
   ]
  },
  {
   "cell_type": "markdown",
   "metadata": {},
   "source": [
    "### Calculate ATT per Cluster not known Model Calculated CF"
   ]
  },
  {
   "cell_type": "code",
   "execution_count": null,
   "metadata": {},
   "outputs": [],
   "source": [
    "ite_name = 'ITE-GDBR'\n",
    "box2 = ATTC(data.copy(), cluster_name = 'Box-Cluster', ATT_CLUST_name='Box-ATT',\n",
    "           points_name='Box-points', weight_names='Box-Weights', ITE_name = ite_name,\n",
    "            hom_name = 'Box-Hom', att = False)\n",
    "\n",
    "kmeans2 = ATTC(data.copy(), cluster_name = 'Kmeans-Cluster', ATT_CLUST_name='Kmeans-ATT',\n",
    "           points_name='Kmeans-points', weight_names='Kmeans-Weights',ITE_name = ite_name,\n",
    "               hom_name = 'Kmeans-Hom', att = False)\n",
    "\n"
   ]
  },
  {
   "cell_type": "code",
   "execution_count": null,
   "metadata": {},
   "outputs": [],
   "source": [
    "fig, ax = plt.subplots(1,1)\n",
    "ax = sns.distplot(box2['Box-ATT'], hist_kws={'weights':box2['Box-Weights'].values},bins = bins, kde = kde,ax = ax )\n",
    "ax.set_xlabel('ate')\n",
    "ax.set_ylabel('weight')\n",
    "\n",
    "if save:\n",
    "    fig.savefig(path2+'Box2hist.pdf', bbox_inches='tight',pad_inches = 0)\n",
    "\n",
    "plt.show()\n",
    "\n",
    "\n"
   ]
  },
  {
   "cell_type": "code",
   "execution_count": null,
   "metadata": {},
   "outputs": [],
   "source": [
    "fig, ax = plt.subplots(1,1)\n",
    "ax = sns.distplot(kmeans2['Kmeans-ATT'], hist_kws={'weights':kmeans2['Kmeans-Weights'].values},\n",
    "             bins = bins, kde = kde, ax = ax)\n",
    "ax.set_xlabel('ate')\n",
    "ax.set_ylabel('weight')\n",
    "\n",
    "if save:\n",
    "\n",
    "    fig.savefig(path2+'KM2hist.pdf', bbox_inches='tight',pad_inches = 0)\n",
    "\n",
    "plt.show()"
   ]
  },
  {
   "cell_type": "code",
   "execution_count": null,
   "metadata": {},
   "outputs": [],
   "source": [
    "fig, ax = plt.subplots(1,1)\n",
    "ax = sns.distplot(data['ITE-GDBR'],bins = bins, kde = kde, ax = ax, hist_kws={'weights': np.ones(len(data))/len(data)})\n",
    "\n",
    "ax.set_xlabel('ite')\n",
    "ax.set_ylabel('weight')\n",
    "\n",
    "if save:\n",
    "\n",
    "    fig.savefig(path2+'ITE2hist.pdf', bbox_inches='tight',pad_inches = 0)\n",
    "\n",
    "plt.show()"
   ]
  },
  {
   "cell_type": "markdown",
   "metadata": {},
   "source": [
    "### Weighted Kmeans 2-Clustering\n",
    "#### Cluster the ATTs for the 4 methods \n",
    "1. Box with sampled Ites\n",
    "2. Kmeans with sampled Ites\n",
    "3. Box with estimated Ites\n",
    "4. Kmeans with estimated Ites"
   ]
  },
  {
   "cell_type": "code",
   "execution_count": null,
   "metadata": {},
   "outputs": [],
   "source": [
    "%%time\n",
    "#all_data = [box, kmeans, agglo, box2, kmeans2, agglo2]\n",
    "all_data = [box, kmeans, box2, kmeans2]\n",
    "\n",
    "#names = ['Box-Cl2', 'Kmeans-Cl2', 'Agglo-Cl2', 'Box2-Cl2', 'Kmeans2-Cl2', 'Agglo2-Cl2']\n",
    "#names2 = ['Box-ATT', 'Kmeans-ATT', 'Agglo-ATT', 'Box-ATT', 'Kmeans-ATT', 'Agglo-ATT']\n",
    "\n",
    "names_to_give = ['Box-Cl2', 'Kmeans-Cl2',  'Box2-Cl2', 'Kmeans2-Cl2']\n",
    "names_to_find= ['Box-ATT', 'Kmeans-ATT',  'Box-ATT', 'Kmeans-ATT']\n",
    "\n",
    "weights = ['Box-Weights', 'Kmeans-Weights', 'Box-Weights', 'Kmeans-Weights']\n",
    "\n",
    "for dd, name, name2,w in zip(all_data, names_to_give, names_to_find,weights):\n",
    "    kmeans_clustering(dd, clusters = 2, col_select = [name2], \n",
    "                      cluster_name = name, fit_kwargs={'sample_weight':dd[w].values} )"
   ]
  },
  {
   "cell_type": "code",
   "execution_count": null,
   "metadata": {},
   "outputs": [],
   "source": [
    "box.head(2)"
   ]
  },
  {
   "cell_type": "code",
   "execution_count": null,
   "metadata": {},
   "outputs": [],
   "source": [
    "data2 = data.copy()\n",
    "data2.head(2)"
   ]
  },
  {
   "cell_type": "markdown",
   "metadata": {},
   "source": [
    "### 2 Clustering in the ITEs"
   ]
  },
  {
   "cell_type": "code",
   "execution_count": null,
   "metadata": {},
   "outputs": [],
   "source": [
    "data2,_ = kmeans_clustering(data2,clusters = 2, cluster_name = 'ITE-2CTrue',col_select = ['ITE'] )\n",
    "data2,_ = kmeans_clustering(data2,clusters = 2, cluster_name = 'ITE-2CGDBR',col_select = ['ITE-GDBR'] )"
   ]
  },
  {
   "cell_type": "markdown",
   "metadata": {},
   "source": [
    "### Merge 2 Clustering with initial data"
   ]
  },
  {
   "cell_type": "code",
   "execution_count": null,
   "metadata": {},
   "outputs": [],
   "source": [
    "#merge_names = ['Box-Cluster', 'Kmeans-Cluster', 'Agglomerative-Cluster']*2\n",
    "#class_names = ['Box-Cl2', 'Kmeans-Cl2', 'Agglo-Cl2', 'Box2-Cl2', 'Kmeans2-Cl2', 'Agglo2-Cl2']\n",
    "\n",
    "merge_names = ['Box-Cluster', 'Kmeans-Cluster']*2\n",
    "class_names = ['Box-Cl2', 'Kmeans-Cl2',  'Box2-Cl2', 'Kmeans2-Cl2']\n",
    "\n",
    "for dd, merge_name, class_name in zip(all_data, merge_names, class_names):\n",
    "    dd2 = dd[[merge_name, class_name]]\n",
    "\n",
    "\n",
    "    data2 = data2.merge(dd2, on = merge_name, how = 'left' )"
   ]
  },
  {
   "cell_type": "code",
   "execution_count": null,
   "metadata": {},
   "outputs": [],
   "source": [
    "data2.head(2)"
   ]
  },
  {
   "cell_type": "markdown",
   "metadata": {},
   "source": [
    "### Plot reconstruction of data"
   ]
  },
  {
   "cell_type": "code",
   "execution_count": null,
   "metadata": {},
   "outputs": [],
   "source": [
    "%%time\n",
    "#class_names1 = ['Box-Cl2', 'Kmeans-Cl2', 'Agglo-Cl2', 'Box2-Cl2',\n",
    "                #'Kmeans2-Cl2', 'Agglo2-Cl2', 'ITE-CTrue', 'ITE-CGDBR']\n",
    "\n",
    "class_names2 = ['Box-Cl2', 'Kmeans-Cl2',  'Box2-Cl2', 'Kmeans2-Cl2','ITE-2CTrue', 'ITE-2CGDBR']\n",
    "\n",
    "\n",
    "#patth to save\n",
    "path3 = path_figs+'reconstruction/'\n",
    "Path(path3).mkdir(exist_ok = True, parents = True)\n",
    "use_poly = False\n",
    "for name in class_names:\n",
    "    #data2.plot.scatter(x='x0', y='x1', c=name, colormap='inferno')\n",
    "    fig, ax = plt.subplots()\n",
    "    if not use_poly:\n",
    "        sc = ax.scatter(data2['x0'].values, data2['x1'].values, c=data2[name].values, cmap = 'Greys', s = 1)\n",
    "    else:\n",
    "        polygons, colors = generate_paths(K, Cdraw = avg_c, Cdraw_name=name)\n",
    "        coll = mpl.collections.PolyCollection(polygons)\n",
    "        coll.set(array = np.array(colors), cmap = 'Greys')\n",
    "        ax.add_collection(coll)\n",
    "        ax.figure.colorbar(coll)\n",
    "    #ax.set_title(name)\n",
    "    #fig.colorbar(sc)\n",
    "    if save:\n",
    "\n",
    "        fig.savefig(path3+'{}.jpeg'.format(name), bbox_inches='tight',pad_inches = 0)\n",
    "\n",
    "    plt.show()\n",
    "    "
   ]
  },
  {
   "cell_type": "code",
   "execution_count": null,
   "metadata": {},
   "outputs": [],
   "source": [
    "def MAE_pd(group, name1,name2,column_name):\n",
    "    \n",
    "    group[column_name] = np.abs(group[name1].values-group[name2].mean())\n",
    "    return group\n",
    "    \n",
    "    "
   ]
  },
  {
   "cell_type": "code",
   "execution_count": null,
   "metadata": {},
   "outputs": [],
   "source": [
    "ite_column = 'ITE-GDBR'\n",
    "\n",
    "for clust2 in class_names2:\n",
    "    data2 = data2.groupby(clust2).apply(lambda x: MAE_pd(x, 'C', ite_column, clust2+'-err-GDBR'))"
   ]
  },
  {
   "cell_type": "code",
   "execution_count": null,
   "metadata": {},
   "outputs": [],
   "source": [
    "ite_column = 'ITE'\n",
    "\n",
    "for clust2 in class_names2:\n",
    "    data2 = data2.groupby(clust2).apply(lambda x: MAE_pd(x, 'C', ite_column, clust2+'-err-True-ITE'))"
   ]
  },
  {
   "cell_type": "code",
   "execution_count": null,
   "metadata": {},
   "outputs": [],
   "source": [
    "errors = data2.describe().loc[['mean', 'std'], [col for col in data2.columns if 'err' in col]].T"
   ]
  },
  {
   "cell_type": "code",
   "execution_count": null,
   "metadata": {},
   "outputs": [],
   "source": [
    "errors.sort_values(by = 'mean')"
   ]
  },
  {
   "cell_type": "code",
   "execution_count": null,
   "metadata": {},
   "outputs": [],
   "source": [
    "ax = errors['mean'].sort_values().plot.barh()\n",
    "plt.show()"
   ]
  },
  {
   "cell_type": "code",
   "execution_count": null,
   "metadata": {},
   "outputs": [],
   "source": []
  }
 ],
 "metadata": {
  "kernelspec": {
   "display_name": "Python [conda env:jorje]",
   "language": "python",
   "name": "conda-env-jorje-py"
  },
  "language_info": {
   "codemirror_mode": {
    "name": "ipython",
    "version": 3
   },
   "file_extension": ".py",
   "mimetype": "text/x-python",
   "name": "python",
   "nbconvert_exporter": "python",
   "pygments_lexer": "ipython3",
   "version": "3.7.2"
  }
 },
 "nbformat": 4,
 "nbformat_minor": 2
}
