{
 "cells": [
  {
   "cell_type": "code",
   "execution_count": 1,
   "metadata": {},
   "outputs": [],
   "source": [
    "%load_ext autoreload\n",
    "%autoreload 2"
   ]
  },
  {
   "cell_type": "code",
   "execution_count": 2,
   "metadata": {},
   "outputs": [],
   "source": [
    "import numpy as np\n",
    "import pandas as pd\n",
    "import matplotlib.pyplot as plt\n",
    "import seaborn as sns\n",
    "import matplotlib as mpl\n",
    "\n",
    "from sklearn.cluster import KMeans \n",
    "from sklearn.cluster import SpectralClustering\n",
    "from sklearn.cluster import AgglomerativeClustering\n",
    "from pathlib import Path"
   ]
  },
  {
   "cell_type": "code",
   "execution_count": 3,
   "metadata": {},
   "outputs": [],
   "source": [
    "import sys\n",
    "\n",
    "sys.path.append('../../src')"
   ]
  },
  {
   "cell_type": "code",
   "execution_count": 4,
   "metadata": {},
   "outputs": [],
   "source": [
    "from base_exp_gen import generate_experiment as GEN_EXP\n",
    "from clustering_algos import agglomerative_clustering, kmeans_clustering, box_clustering,adaptive_box, adaptive_box2\n",
    "from sklearn.model_selection import train_test_split as datasplit\n",
    "from sklearn.ensemble import GradientBoostingRegressor as GDBR\n",
    "from evaluations import computeATT_per_cluster as ATTC, predict_cf, calculate_ite, get_homogeneity, generate_paths\n",
    "\n"
   ]
  },
  {
   "cell_type": "code",
   "execution_count": 5,
   "metadata": {},
   "outputs": [],
   "source": [
    "np.random.seed(seed = 0)"
   ]
  },
  {
   "cell_type": "code",
   "execution_count": 6,
   "metadata": {},
   "outputs": [],
   "source": [
    "fonts = {'family': 'cmr10','weight': 'normal',\n",
    "            'size': 20}    \n",
    "div = 1\n",
    "\n",
    "l1 = 22/div\n",
    "l2 = 20/div\n",
    "l3 = 13/(div-0.2)\n",
    "\n",
    "mpl.rcParams['xtick.labelsize'] = l2\n",
    "mpl.rcParams['ytick.labelsize'] = l2\n",
    "mpl.rcParams['axes.labelsize'] = l1\n",
    "mpl.rcParams['font.serif'] = 'Times New Roman'\n",
    "mpl.rcParams['font.weight'] = 'normal'\n",
    "mpl.rcParams['font.size'] = 20\n",
    "mpl.rcParams['legend.fontsize'] = l3\n",
    "\n",
    "#axes_font = {'labelsize':l1}\n",
    "#mpl.rc('font', **font)\n",
    "#xticks = {'labelsize':l2}# 'ytick.labelsize':20}\n",
    "#yticks = {'labelsize':l2}# 'ytick.labelsize':20}\n",
    "#legend = {'fontsize':l3}\n",
    "# tex = {'usetex':True}\n",
    "#mpl.rc('axes', **axes_font)\n",
    "#mpl.rc('xtick', **xticks)\n",
    "#mpl.rc('ytick', **yticks)\n",
    "#mpl.rc('font', **fonts)\n",
    "#mpl.rc('legend', **legend"
   ]
  },
  {
   "cell_type": "code",
   "execution_count": 7,
   "metadata": {},
   "outputs": [],
   "source": [
    "pd.set_option(\"display.max_columns\", None)"
   ]
  },
  {
   "cell_type": "markdown",
   "metadata": {},
   "source": [
    "### Directory to save figures"
   ]
  },
  {
   "cell_type": "code",
   "execution_count": 8,
   "metadata": {},
   "outputs": [],
   "source": [
    "save = False\n",
    "path_figs = './figs/2Mstd5/With_EFF_CALC'\n",
    "Path(path_figs).mkdir(exist_ok = True, parents = True)"
   ]
  },
  {
   "cell_type": "markdown",
   "metadata": {},
   "source": [
    "### Generate Experiment"
   ]
  },
  {
   "cell_type": "code",
   "execution_count": 9,
   "metadata": {},
   "outputs": [
    {
     "name": "stdout",
     "output_type": "stream",
     "text": [
      "Number of Clusters:4356, Number of Points:20000000\n",
      "CPU times: user 18.9 s, sys: 13.1 s, total: 31.9 s\n",
      "Wall time: 31.3 s\n"
     ]
    }
   ],
   "source": [
    "%%time\n",
    "\n",
    "N,D = 2*10**7, 2\n",
    "x = int((N)**(1/4))\n",
    "clusters = x**2\n",
    "print(\"Number of Clusters:{}, Number of Points:{}\".format(clusters, N))\n",
    "kw_generate =  {'N':N, 'D':D,'f_gen_name': 'uniform_gen','low':0, 'high': 1}\n",
    "centers = [[0.5,0.5],[0.5,0.5]]\n",
    "r_small = [0, 0.3241]\n",
    "r_big = [0.3241,0.4583]\n",
    "eligibilities = [2,1]\n",
    "kw_cluster =  {'f_class_name':'circle_class4', 'centers': centers,\n",
    "               'eligibilities':eligibilities,'r_small': r_small, 'r_big':r_big}\n",
    "kw_treatment = {'f_treat_name' :'uniform_treat','choices':[0,1], 'probabilities':[0.5,0.5]}\n",
    "\n",
    "std = 5\n",
    "stats = np.array([[1, std], [0, std], [0, std], [1, std],[1, std],\n",
    "                  [2, std]])\n",
    "kw_outcome = {'f_outcome_name': 'outcome1','treatment':'Treatment', 'cls':'C', 'stats':stats}\n",
    "\n",
    "data = GEN_EXP(kw_generate, kw_cluster, kw_treatment, kw_outcome).dat\n",
    "data = calculate_ite(data.copy(), treatment = 'Treatment',\n",
    "                     counterfactual = 'Ycf', outcome = 'Y', ite_name = 'ITE')"
   ]
  },
  {
   "cell_type": "markdown",
   "metadata": {},
   "source": [
    "### Apply box clustering to use for the adaptive algorithm"
   ]
  },
  {
   "cell_type": "code",
   "execution_count": 10,
   "metadata": {},
   "outputs": [],
   "source": [
    "col_select = ['x0', 'x1']\n",
    "data,_ = box_clustering(data.copy(), clusters = clusters, col_select = col_select )"
   ]
  },
  {
   "cell_type": "code",
   "execution_count": 11,
   "metadata": {},
   "outputs": [
    {
     "data": {
      "text/html": [
       "<div>\n",
       "<style scoped>\n",
       "    .dataframe tbody tr th:only-of-type {\n",
       "        vertical-align: middle;\n",
       "    }\n",
       "\n",
       "    .dataframe tbody tr th {\n",
       "        vertical-align: top;\n",
       "    }\n",
       "\n",
       "    .dataframe thead th {\n",
       "        text-align: right;\n",
       "    }\n",
       "</style>\n",
       "<table border=\"1\" class=\"dataframe\">\n",
       "  <thead>\n",
       "    <tr style=\"text-align: right;\">\n",
       "      <th></th>\n",
       "      <th>x0</th>\n",
       "      <th>x1</th>\n",
       "      <th>C</th>\n",
       "      <th>Treatment</th>\n",
       "      <th>Y</th>\n",
       "      <th>Ycf</th>\n",
       "      <th>ITE</th>\n",
       "      <th>Box-Cluster</th>\n",
       "    </tr>\n",
       "  </thead>\n",
       "  <tbody>\n",
       "    <tr>\n",
       "      <th>0</th>\n",
       "      <td>0.548814</td>\n",
       "      <td>0.715189</td>\n",
       "      <td>2</td>\n",
       "      <td>0</td>\n",
       "      <td>-0.909457</td>\n",
       "      <td>-5.385568</td>\n",
       "      <td>-4.476111</td>\n",
       "      <td>3138</td>\n",
       "    </tr>\n",
       "    <tr>\n",
       "      <th>1</th>\n",
       "      <td>0.602763</td>\n",
       "      <td>0.544883</td>\n",
       "      <td>2</td>\n",
       "      <td>1</td>\n",
       "      <td>3.024253</td>\n",
       "      <td>3.207900</td>\n",
       "      <td>-0.183647</td>\n",
       "      <td>2349</td>\n",
       "    </tr>\n",
       "    <tr>\n",
       "      <th>2</th>\n",
       "      <td>0.423655</td>\n",
       "      <td>0.645894</td>\n",
       "      <td>2</td>\n",
       "      <td>0</td>\n",
       "      <td>4.429438</td>\n",
       "      <td>2.111861</td>\n",
       "      <td>-2.317577</td>\n",
       "      <td>2799</td>\n",
       "    </tr>\n",
       "  </tbody>\n",
       "</table>\n",
       "</div>"
      ],
      "text/plain": [
       "         x0        x1  C  Treatment         Y       Ycf       ITE  Box-Cluster\n",
       "0  0.548814  0.715189  2          0 -0.909457 -5.385568 -4.476111         3138\n",
       "1  0.602763  0.544883  2          1  3.024253  3.207900 -0.183647         2349\n",
       "2  0.423655  0.645894  2          0  4.429438  2.111861 -2.317577         2799"
      ]
     },
     "execution_count": 11,
     "metadata": {},
     "output_type": "execute_result"
    }
   ],
   "source": [
    "data.head(3)"
   ]
  },
  {
   "cell_type": "code",
   "execution_count": 12,
   "metadata": {},
   "outputs": [],
   "source": [
    "ite_name = 'ITE'\n",
    "box = ATTC(data.copy(), cluster_name = 'Box-Cluster', ATT_CLUST_name='Box-ATT',\n",
    "           points_name='Box-points', weight_names='Box-Weights', \n",
    "           ITE_name = ite_name, hom_name = 'Box-Hom',\n",
    "          att = False)"
   ]
  },
  {
   "cell_type": "code",
   "execution_count": 13,
   "metadata": {},
   "outputs": [],
   "source": [
    "#threshold"
   ]
  },
  {
   "cell_type": "code",
   "execution_count": 14,
   "metadata": {},
   "outputs": [
    {
     "name": "stderr",
     "output_type": "stream",
     "text": [
      "/home/mavrog2/.conda/envs/jorje/lib/python3.7/site-packages/seaborn/distributions.py:2619: FutureWarning: `distplot` is a deprecated function and will be removed in a future version. Please adapt your code to use either `displot` (a figure-level function with similar flexibility) or `histplot` (an axes-level function for histograms).\n",
      "  warnings.warn(msg, FutureWarning)\n"
     ]
    },
    {
     "data": {
      "text/plain": [
       "Text(0, 0.5, 'weight')"
      ]
     },
     "execution_count": 14,
     "metadata": {},
     "output_type": "execute_result"
    },
    {
     "data": {
      "image/png": "[encoded data removed]",
      "text/plain": [
       "<Figure size 432x288 with 1 Axes>"
      ]
     },
     "metadata": {
      "needs_background": "light"
     },
     "output_type": "display_data"
    }
   ],
   "source": [
    "kde = False\n",
    "bins = 30\n",
    "fig, ax = plt.subplots(1,1)\n",
    "ax = sns.distplot(box['Box-ATT'].values, hist_kws = {'weights':box['Box-Weights'].values} , bins=bins, kde = False,ax = ax)\n",
    "ax.set_xlabel('ate')\n",
    "ax.set_ylabel('weight')"
   ]
  },
  {
   "cell_type": "code",
   "execution_count": 15,
   "metadata": {},
   "outputs": [],
   "source": [
    "from clustering_algos import opt_kmeans, backtrack\n"
   ]
  },
  {
   "cell_type": "code",
   "execution_count": 16,
   "metadata": {},
   "outputs": [],
   "source": [
    "def optimal_clustering(data, max_clusters=7, threshold = 0.5,  cluster_name = 'Optimal-Cluster',\n",
    "                       col_select=None, fit_kwargs = {}, N = 100, **kwargs):\n",
    "    \"\"\"\n",
    "    1-D optimal clustering\n",
    "    data: pandas arrays with column to perform the optimal 1 d clustering\n",
    "    max_clusters: maximum number of clusters optimal clustering to consider\n",
    "    threshold: where to stop optimal clustering (preseted for our problem)\n",
    "    cluster_name: how to name the new column with clustering\n",
    "    col_select: col name to perform clustering\n",
    "    fit_kwargs: not used just for framework consistency\n",
    "    N: number of datapoints for pre setted threshold\n",
    "    **kwargs: not used just for framewrok consistency\n",
    "    \"\"\"\n",
    "    \n",
    "    #presetted threshold for our problem\n",
    "    e = 1/ int((N)**(1/4))\n",
    "    threshold = 3.9*np.log(N)/np.sqrt(N)\n",
    "    #threshold = e*np.log(N)\n",
    "    \n",
    "    #sort data by the column to cluster \n",
    "    data = data.sort_values(by= col_select)\n",
    "    values = data[col_select].values\n",
    "    index = np.array(data.index)\n",
    "    \n",
    "    #perform optimal kmeans\n",
    "    D,B = opt_kmeans(values, max_clusters)\n",
    "    D = D/np.sqrt(N)\n",
    "    print(D[-1,2], threshold)\n",
    "    \n",
    "    #find the optimal cluster number\n",
    "    opt_clust = 0\n",
    "    for k in range(max_clusters):\n",
    "        if D[-1,k] <= threshold:\n",
    "            opt_clust = k+1\n",
    "            break\n",
    "    if opt_clust != 3:\n",
    "        print('Did not pick 3, it picked:', opt_clust)\n",
    "        opt_clust = 3\n",
    "    #find the intervals of the clusters\n",
    "    intervals = backtrack(B, len(values), opt_clust)\n",
    "    \n",
    "    #calculate the means and the indexes correspodning in each cluster\n",
    "    means = []\n",
    "    indx_class = {}\n",
    "    class_counter = 0\n",
    "    for i in range(1,len(intervals)):\n",
    "        mu = np.mean(values[int(intervals[i-1]):int(intervals[i])])\n",
    "        indxs = index[int(intervals[i-1]):int(intervals[i])]\n",
    "        indx_class[class_counter] = indxs\n",
    "        class_counter += 1\n",
    "        means.append(mu)\n",
    "        \n",
    "    #assign cluster indexes to datapoints\n",
    "    data[cluster_name] = 0\n",
    "    for key, val in indx_class.items():\n",
    "        data.loc[val, cluster_name] = key\n",
    "    #reset data index\n",
    "    data = data.reset_index(drop = True)  \n",
    "    return data, np.array(means)"
   ]
  },
  {
   "cell_type": "code",
   "execution_count": 17,
   "metadata": {},
   "outputs": [
    {
     "name": "stdout",
     "output_type": "stream",
     "text": [
      "0.015393576996310184 0.014660521885437042\n",
      "Did not pick 3, it picked: 4\n"
     ]
    }
   ],
   "source": [
    "data, means = optimal_clustering(box.copy(), col_select = 'Box-ATT', N = N )\n",
    "data2, means2 = kmeans_clustering(box.copy(), clusters = len(means), col_select = ['Box-ATT'], )"
   ]
  },
  {
   "cell_type": "code",
   "execution_count": 18,
   "metadata": {},
   "outputs": [
    {
     "data": {
      "text/html": [
       "<div>\n",
       "<style scoped>\n",
       "    .dataframe tbody tr th:only-of-type {\n",
       "        vertical-align: middle;\n",
       "    }\n",
       "\n",
       "    .dataframe tbody tr th {\n",
       "        vertical-align: top;\n",
       "    }\n",
       "\n",
       "    .dataframe thead th {\n",
       "        text-align: right;\n",
       "    }\n",
       "</style>\n",
       "<table border=\"1\" class=\"dataframe\">\n",
       "  <thead>\n",
       "    <tr style=\"text-align: right;\">\n",
       "      <th></th>\n",
       "      <th>Box-Cluster</th>\n",
       "      <th>Box-ATT</th>\n",
       "      <th>Box-points</th>\n",
       "      <th>Box-Hom</th>\n",
       "      <th>Box-Weights</th>\n",
       "    </tr>\n",
       "    <tr>\n",
       "      <th>Optimal-Cluster</th>\n",
       "      <th></th>\n",
       "      <th></th>\n",
       "      <th></th>\n",
       "      <th></th>\n",
       "      <th></th>\n",
       "    </tr>\n",
       "  </thead>\n",
       "  <tbody>\n",
       "    <tr>\n",
       "      <th>0</th>\n",
       "      <td>2178.002012</td>\n",
       "      <td>0.016182</td>\n",
       "      <td>4594.533199</td>\n",
       "      <td>0.982991</td>\n",
       "      <td>0.000230</td>\n",
       "    </tr>\n",
       "    <tr>\n",
       "      <th>1</th>\n",
       "      <td>2176.458799</td>\n",
       "      <td>1.002911</td>\n",
       "      <td>4590.537709</td>\n",
       "      <td>0.975027</td>\n",
       "      <td>0.000230</td>\n",
       "    </tr>\n",
       "    <tr>\n",
       "      <th>2</th>\n",
       "      <td>2178.018144</td>\n",
       "      <td>1.986562</td>\n",
       "      <td>4588.905094</td>\n",
       "      <td>0.989870</td>\n",
       "      <td>0.000229</td>\n",
       "    </tr>\n",
       "  </tbody>\n",
       "</table>\n",
       "</div>"
      ],
      "text/plain": [
       "                 Box-Cluster   Box-ATT   Box-points   Box-Hom  Box-Weights\n",
       "Optimal-Cluster                                                           \n",
       "0                2178.002012  0.016182  4594.533199  0.982991     0.000230\n",
       "1                2176.458799  1.002911  4590.537709  0.975027     0.000230\n",
       "2                2178.018144  1.986562  4588.905094  0.989870     0.000229"
      ]
     },
     "execution_count": 18,
     "metadata": {},
     "output_type": "execute_result"
    }
   ],
   "source": [
    "data.groupby('Optimal-Cluster').mean()"
   ]
  },
  {
   "cell_type": "code",
   "execution_count": 19,
   "metadata": {},
   "outputs": [
    {
     "data": {
      "text/plain": [
       "array([[0.0161823 ],\n",
       "       [1.00291052],\n",
       "       [1.98656231]])"
      ]
     },
     "execution_count": 19,
     "metadata": {},
     "output_type": "execute_result"
    }
   ],
   "source": [
    "means.reshape(3,1)"
   ]
  },
  {
   "cell_type": "code",
   "execution_count": 20,
   "metadata": {},
   "outputs": [
    {
     "data": {
      "text/html": [
       "<div>\n",
       "<style scoped>\n",
       "    .dataframe tbody tr th:only-of-type {\n",
       "        vertical-align: middle;\n",
       "    }\n",
       "\n",
       "    .dataframe tbody tr th {\n",
       "        vertical-align: top;\n",
       "    }\n",
       "\n",
       "    .dataframe thead th {\n",
       "        text-align: right;\n",
       "    }\n",
       "</style>\n",
       "<table border=\"1\" class=\"dataframe\">\n",
       "  <thead>\n",
       "    <tr style=\"text-align: right;\">\n",
       "      <th></th>\n",
       "      <th>Box-Cluster</th>\n",
       "      <th>Box-ATT</th>\n",
       "      <th>Box-points</th>\n",
       "      <th>Box-Hom</th>\n",
       "      <th>Box-Weights</th>\n",
       "    </tr>\n",
       "    <tr>\n",
       "      <th>Kmeans-Cluster</th>\n",
       "      <th></th>\n",
       "      <th></th>\n",
       "      <th></th>\n",
       "      <th></th>\n",
       "      <th></th>\n",
       "    </tr>\n",
       "  </thead>\n",
       "  <tbody>\n",
       "    <tr>\n",
       "      <th>0</th>\n",
       "      <td>2178.002012</td>\n",
       "      <td>0.016182</td>\n",
       "      <td>4594.533199</td>\n",
       "      <td>0.982991</td>\n",
       "      <td>0.000230</td>\n",
       "    </tr>\n",
       "    <tr>\n",
       "      <th>1</th>\n",
       "      <td>2176.458799</td>\n",
       "      <td>1.002911</td>\n",
       "      <td>4590.537709</td>\n",
       "      <td>0.975027</td>\n",
       "      <td>0.000230</td>\n",
       "    </tr>\n",
       "    <tr>\n",
       "      <th>2</th>\n",
       "      <td>2178.018144</td>\n",
       "      <td>1.986562</td>\n",
       "      <td>4588.905094</td>\n",
       "      <td>0.989870</td>\n",
       "      <td>0.000229</td>\n",
       "    </tr>\n",
       "  </tbody>\n",
       "</table>\n",
       "</div>"
      ],
      "text/plain": [
       "                Box-Cluster   Box-ATT   Box-points   Box-Hom  Box-Weights\n",
       "Kmeans-Cluster                                                           \n",
       "0               2178.002012  0.016182  4594.533199  0.982991     0.000230\n",
       "1               2176.458799  1.002911  4590.537709  0.975027     0.000230\n",
       "2               2178.018144  1.986562  4588.905094  0.989870     0.000229"
      ]
     },
     "execution_count": 20,
     "metadata": {},
     "output_type": "execute_result"
    }
   ],
   "source": [
    "data2.groupby('Kmeans-Cluster').mean()"
   ]
  },
  {
   "cell_type": "code",
   "execution_count": null,
   "metadata": {},
   "outputs": [],
   "source": []
  },
  {
   "cell_type": "code",
   "execution_count": 21,
   "metadata": {},
   "outputs": [
    {
     "data": {
      "text/plain": [
       "array([[0.01651571],\n",
       "       [1.00325244],\n",
       "       [1.98656231]])"
      ]
     },
     "execution_count": 21,
     "metadata": {},
     "output_type": "execute_result"
    }
   ],
   "source": [
    "means2.cluster_centers_"
   ]
  },
  {
   "cell_type": "code",
   "execution_count": null,
   "metadata": {},
   "outputs": [],
   "source": []
  }
 ],
 "metadata": {
  "kernelspec": {
   "display_name": "Python [conda env:jorje]",
   "language": "python",
   "name": "conda-env-jorje-py"
  },
  "language_info": {
   "codemirror_mode": {
    "name": "ipython",
    "version": 3
   },
   "file_extension": ".py",
   "mimetype": "text/x-python",
   "name": "python",
   "nbconvert_exporter": "python",
   "pygments_lexer": "ipython3",
   "version": "3.7.2"
  }
 },
 "nbformat": 4,
 "nbformat_minor": 2
}
