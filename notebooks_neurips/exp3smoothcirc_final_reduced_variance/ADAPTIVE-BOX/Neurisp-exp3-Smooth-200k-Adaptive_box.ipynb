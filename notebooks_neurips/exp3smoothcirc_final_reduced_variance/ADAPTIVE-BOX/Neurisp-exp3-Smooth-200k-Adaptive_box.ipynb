{
 "cells": [
  {
   "cell_type": "code",
   "execution_count": 1,
   "metadata": {},
   "outputs": [],
   "source": [
    "%load_ext autoreload\n",
    "%autoreload 2"
   ]
  },
  {
   "cell_type": "code",
   "execution_count": 2,
   "metadata": {},
   "outputs": [],
   "source": [
    "import numpy as np\n",
    "import pandas as pd\n",
    "import matplotlib.pyplot as plt\n",
    "import seaborn as sns\n",
    "import matplotlib as mpl\n",
    "\n",
    "from sklearn.cluster import KMeans \n",
    "from sklearn.cluster import SpectralClustering\n",
    "from sklearn.cluster import AgglomerativeClustering\n",
    "from pathlib import Path"
   ]
  },
  {
   "cell_type": "code",
   "execution_count": 3,
   "metadata": {},
   "outputs": [],
   "source": [
    "import sys\n",
    "\n",
    "sys.path.append('../../../src')"
   ]
  },
  {
   "cell_type": "code",
   "execution_count": 4,
   "metadata": {},
   "outputs": [],
   "source": [
    "from base_exp_gen import generate_experiment as GEN_EXP\n",
    "from clustering_algos import agglomerative_clustering, kmeans_clustering,\\\n",
    "box_clustering, adaptive_box2, optimal_clustering\n",
    "from sklearn.model_selection import train_test_split as datasplit\n",
    "from sklearn.ensemble import GradientBoostingRegressor as GDBR\n",
    "from evaluations import computeATT_per_cluster as ATTC, predict_cf, calculate_ite, get_homogeneity, generate_paths,\\\n",
    "confusion_matrix\n",
    "\n"
   ]
  },
  {
   "cell_type": "code",
   "execution_count": 5,
   "metadata": {},
   "outputs": [],
   "source": [
    "np.random.seed(seed = 0)"
   ]
  },
  {
   "cell_type": "code",
   "execution_count": 6,
   "metadata": {},
   "outputs": [],
   "source": [
    "fonts = {'family': 'cmr10','weight': 'normal',\n",
    "            'size': 20}    \n",
    "div = 1\n",
    "\n",
    "l1 = 22/div\n",
    "l2 = 20/div\n",
    "l3 = 13/(div-0.2)\n",
    "\n",
    "mpl.rcParams['xtick.labelsize'] = l2\n",
    "mpl.rcParams['ytick.labelsize'] = l2\n",
    "mpl.rcParams['axes.labelsize'] = l1\n",
    "mpl.rcParams['font.serif'] = 'Times New Roman'\n",
    "mpl.rcParams['font.weight'] = 'normal'\n",
    "mpl.rcParams['font.size'] = 20\n",
    "mpl.rcParams['legend.fontsize'] = l3\n",
    "\n",
    "#axes_font = {'labelsize':l1}\n",
    "#mpl.rc('font', **font)\n",
    "#xticks = {'labelsize':l2}# 'ytick.labelsize':20}\n",
    "#yticks = {'labelsize':l2}# 'ytick.labelsize':20}\n",
    "#legend = {'fontsize':l3}\n",
    "# tex = {'usetex':True}\n",
    "#mpl.rc('axes', **axes_font)\n",
    "#mpl.rc('xtick', **xticks)\n",
    "#mpl.rc('ytick', **yticks)\n",
    "#mpl.rc('font', **fonts)\n",
    "#mpl.rc('legend', **legend"
   ]
  },
  {
   "cell_type": "code",
   "execution_count": 7,
   "metadata": {},
   "outputs": [],
   "source": [
    "pd.set_option(\"display.max_columns\", None)"
   ]
  },
  {
   "cell_type": "markdown",
   "metadata": {},
   "source": [
    "### Directory to save figures"
   ]
  },
  {
   "cell_type": "code",
   "execution_count": 8,
   "metadata": {},
   "outputs": [],
   "source": [
    "save = True\n",
    "path_figs = './figs/200K/'\n",
    "Path(path_figs).mkdir(exist_ok = True, parents = True)"
   ]
  },
  {
   "cell_type": "markdown",
   "metadata": {},
   "source": [
    "### Generate Experiment"
   ]
  },
  {
   "cell_type": "code",
   "execution_count": 9,
   "metadata": {},
   "outputs": [
    {
     "name": "stdout",
     "output_type": "stream",
     "text": [
      "Number of Clusters:441, Number of Points:200000\n",
      "CPU times: user 200 ms, sys: 68.2 ms, total: 269 ms\n",
      "Wall time: 265 ms\n"
     ]
    }
   ],
   "source": [
    "%%time\n",
    "\n",
    "N,D = 2*10**5, 2\n",
    "x = int((N)**(1/4))\n",
    "clusters = x**2\n",
    "print(\"Number of Clusters:{}, Number of Points:{}\".format(clusters, N))\n",
    "kw_generate =  {'N':N, 'D':D,'f_gen_name': 'uniform_gen','low':0, 'high': 1}\n",
    "centers = [[0.5,0.5],[0.5,0.5]]\n",
    "r_small = [0, 0.325735]\n",
    "r_big = [0.325735,0.46065886]\n",
    "eligibilities = [2,1]\n",
    "kw_cluster =  {'f_class_name':'circle_class4', 'centers': centers,\n",
    "               'eligibilities':eligibilities,'r_small': r_small, 'r_big':r_big}\n",
    "kw_treatment = {'f_treat_name' :'uniform_treat','choices':[0,1], 'probabilities':[0.5,0.5]}\n",
    "\n",
    "std = 2\n",
    "stats = np.array([[1, std], [0, std], [0, std], [1, std],[1, std],\n",
    "                  [2, std]])\n",
    "kw_outcome = {'f_outcome_name': 'outcome1','treatment':'Treatment', 'cls':'C', 'stats':stats}\n",
    "\n",
    "data = GEN_EXP(kw_generate, kw_cluster, kw_treatment, kw_outcome).dat\n",
    "data = calculate_ite(data.copy(), treatment = 'Treatment',\n",
    "                     counterfactual = 'Ycf', outcome = 'Y', ite_name = 'ITE')"
   ]
  },
  {
   "cell_type": "code",
   "execution_count": 10,
   "metadata": {},
   "outputs": [
    {
     "data": {
      "image/png": "[encoded data removed]",
      "text/plain": [
       "<Figure size 432x288 with 1 Axes>"
      ]
     },
     "metadata": {
      "needs_background": "light"
     },
     "output_type": "display_data"
    }
   ],
   "source": [
    "fig, ax = plt.subplots()\n",
    "\n",
    "ax.scatter(data['x0'].values, data['x1'].values, c=data['C'].values, cmap = 'Greys', s=0.1)\n",
    "\n",
    "ax.set_aspect('equal', adjustable='box')\n",
    "fig.savefig(path_figs+'data.jpeg',bbox_inches='tight', pad_inches = 0)\n",
    "\n",
    "plt.show()"
   ]
  },
  {
   "cell_type": "markdown",
   "metadata": {},
   "source": [
    " ### Estimate ITE with Gradient Boosting Trees"
   ]
  },
  {
   "cell_type": "code",
   "execution_count": 11,
   "metadata": {},
   "outputs": [
    {
     "name": "stdout",
     "output_type": "stream",
     "text": [
      "CPU times: user 5min 47s, sys: 203 ms, total: 5min 47s\n",
      "Wall time: 5min 47s\n"
     ]
    }
   ],
   "source": [
    "%%time\n",
    "f1_kwargs = {'n_estimators':400, 'max_depth':18}\n",
    "f2_kwargs = {'n_estimators':400, 'max_depth':18}\n",
    "\n",
    "data, models = predict_cf(data.copy(), col_select = ['x0', 'x1'], f1 = GDBR,\n",
    "                          f2 = GDBR, cf_name = 'Ycf-GDBR', f1_kwargs=f1_kwargs, \n",
    "                          f2_kwargs=f2_kwargs, ite_name ='ITE-GDBR')"
   ]
  },
  {
   "cell_type": "markdown",
   "metadata": {},
   "source": [
    "### Apply box clustering to use for the adaptive algorithm"
   ]
  },
  {
   "cell_type": "code",
   "execution_count": 12,
   "metadata": {},
   "outputs": [],
   "source": [
    "col_select = ['x0', 'x1']\n",
    "data,_ = box_clustering(data.copy(), clusters = clusters, col_select = col_select )"
   ]
  },
  {
   "cell_type": "markdown",
   "metadata": {},
   "source": [
    "### Calculate ATT per box cluster for optimal clustering"
   ]
  },
  {
   "cell_type": "code",
   "execution_count": 13,
   "metadata": {},
   "outputs": [],
   "source": [
    "ite_name = 'ITE-GDBR'\n",
    "box2 = ATTC(data.copy(), cluster_name = 'Box-Cluster', ATT_CLUST_name='Box-ATT',\n",
    "           points_name='Box-points', weight_names='Box-Weights', ITE_name = ite_name,\n",
    "            hom_name = 'Box-Hom', att = False)"
   ]
  },
  {
   "cell_type": "markdown",
   "metadata": {},
   "source": [
    "### Optimal 1d means recover"
   ]
  },
  {
   "cell_type": "code",
   "execution_count": 14,
   "metadata": {},
   "outputs": [],
   "source": [
    "name2 = 'Box-ATT'\n",
    "name = 'Opt-Clust'\n",
    "box2, means = optimal_clustering(box2, max_clusters = 7, col_select = name2, \n",
    "                      cluster_name = name, N=N )"
   ]
  },
  {
   "cell_type": "code",
   "execution_count": 15,
   "metadata": {},
   "outputs": [
    {
     "data": {
      "text/html": [
       "<div>\n",
       "<style scoped>\n",
       "    .dataframe tbody tr th:only-of-type {\n",
       "        vertical-align: middle;\n",
       "    }\n",
       "\n",
       "    .dataframe tbody tr th {\n",
       "        vertical-align: top;\n",
       "    }\n",
       "\n",
       "    .dataframe thead th {\n",
       "        text-align: right;\n",
       "    }\n",
       "</style>\n",
       "<table border=\"1\" class=\"dataframe\">\n",
       "  <thead>\n",
       "    <tr style=\"text-align: right;\">\n",
       "      <th></th>\n",
       "      <th>x0</th>\n",
       "      <th>x1</th>\n",
       "      <th>C</th>\n",
       "      <th>Treatment</th>\n",
       "      <th>Y</th>\n",
       "      <th>Ycf</th>\n",
       "      <th>ITE</th>\n",
       "      <th>IS_TEST</th>\n",
       "      <th>Ycf-GDBR</th>\n",
       "      <th>ITE-GDBR</th>\n",
       "      <th>Box-Cluster</th>\n",
       "    </tr>\n",
       "  </thead>\n",
       "  <tbody>\n",
       "    <tr>\n",
       "      <th>0</th>\n",
       "      <td>0.548814</td>\n",
       "      <td>0.715189</td>\n",
       "      <td>2</td>\n",
       "      <td>0</td>\n",
       "      <td>2.158258</td>\n",
       "      <td>1.271538</td>\n",
       "      <td>-0.886720</td>\n",
       "      <td>0</td>\n",
       "      <td>1.685460</td>\n",
       "      <td>-0.472797</td>\n",
       "      <td>326</td>\n",
       "    </tr>\n",
       "    <tr>\n",
       "      <th>1</th>\n",
       "      <td>0.602763</td>\n",
       "      <td>0.544883</td>\n",
       "      <td>2</td>\n",
       "      <td>1</td>\n",
       "      <td>1.402833</td>\n",
       "      <td>-1.887013</td>\n",
       "      <td>3.289846</td>\n",
       "      <td>0</td>\n",
       "      <td>-0.161065</td>\n",
       "      <td>1.563897</td>\n",
       "      <td>243</td>\n",
       "    </tr>\n",
       "    <tr>\n",
       "      <th>2</th>\n",
       "      <td>0.423655</td>\n",
       "      <td>0.645894</td>\n",
       "      <td>2</td>\n",
       "      <td>0</td>\n",
       "      <td>0.332137</td>\n",
       "      <td>-1.008270</td>\n",
       "      <td>-1.340407</td>\n",
       "      <td>0</td>\n",
       "      <td>1.768661</td>\n",
       "      <td>1.436524</td>\n",
       "      <td>281</td>\n",
       "    </tr>\n",
       "  </tbody>\n",
       "</table>\n",
       "</div>"
      ],
      "text/plain": [
       "         x0        x1  C  Treatment         Y       Ycf       ITE  IS_TEST  \\\n",
       "0  0.548814  0.715189  2          0  2.158258  1.271538 -0.886720        0   \n",
       "1  0.602763  0.544883  2          1  1.402833 -1.887013  3.289846        0   \n",
       "2  0.423655  0.645894  2          0  0.332137 -1.008270 -1.340407        0   \n",
       "\n",
       "   Ycf-GDBR  ITE-GDBR  Box-Cluster  \n",
       "0  1.685460 -0.472797          326  \n",
       "1 -0.161065  1.563897          243  \n",
       "2  1.768661  1.436524          281  "
      ]
     },
     "execution_count": 15,
     "metadata": {},
     "output_type": "execute_result"
    }
   ],
   "source": [
    "data.head(3)"
   ]
  },
  {
   "cell_type": "markdown",
   "metadata": {},
   "source": [
    "### Adaptive Box"
   ]
  },
  {
   "cell_type": "code",
   "execution_count": 16,
   "metadata": {},
   "outputs": [
    {
     "name": "stderr",
     "output_type": "stream",
     "text": [
      "/home/mavrog2/.conda/envs/jorje/lib/python3.7/site-packages/numba/core/ir_utils.py:2031: NumbaPendingDeprecationWarning: \n",
      "Encountered the use of a type that is scheduled for deprecation: type 'reflected list' found for argument 'data_groups2' of function 'adapt_numba'.\n",
      "\n",
      "For more information visit http://numba.pydata.org/numba-doc/latest/reference/deprecation.html#deprecation-of-reflection-for-list-and-set-types\n",
      "\n",
      "File \"../../../src/clustering_algos.py\", line 478:\n",
      "@jit(nopython = True)\n",
      "def adapt_numba(data_groups2, new_ites, values, pivot_array,\n",
      "^\n",
      "\n",
      "  warnings.warn(NumbaPendingDeprecationWarning(msg, loc=loc))\n"
     ]
    },
    {
     "name": "stdout",
     "output_type": "stream",
     "text": [
      "CPU times: user 4min 33s, sys: 470 ms, total: 4min 34s\n",
      "Wall time: 4min 35s\n"
     ]
    }
   ],
   "source": [
    "%%time\n",
    "adaptive_ite_name = 'ITE-ADAPTIVE'\n",
    "ite_old_name = 'ITE-GDBR'\n",
    "data = adaptive_box2(data, clusters = clusters, ite_old_name = ite_old_name,\n",
    "                    ite_name = adaptive_ite_name, col_select = col_select)"
   ]
  },
  {
   "cell_type": "code",
   "execution_count": 17,
   "metadata": {},
   "outputs": [
    {
     "data": {
      "text/html": [
       "<div>\n",
       "<style scoped>\n",
       "    .dataframe tbody tr th:only-of-type {\n",
       "        vertical-align: middle;\n",
       "    }\n",
       "\n",
       "    .dataframe tbody tr th {\n",
       "        vertical-align: top;\n",
       "    }\n",
       "\n",
       "    .dataframe thead th {\n",
       "        text-align: right;\n",
       "    }\n",
       "</style>\n",
       "<table border=\"1\" class=\"dataframe\">\n",
       "  <thead>\n",
       "    <tr style=\"text-align: right;\">\n",
       "      <th></th>\n",
       "      <th>x0</th>\n",
       "      <th>x1</th>\n",
       "      <th>C</th>\n",
       "      <th>Treatment</th>\n",
       "      <th>Y</th>\n",
       "      <th>Ycf</th>\n",
       "      <th>ITE</th>\n",
       "      <th>IS_TEST</th>\n",
       "      <th>Ycf-GDBR</th>\n",
       "      <th>ITE-GDBR</th>\n",
       "      <th>Box-Cluster</th>\n",
       "      <th>ITE-ADAPTIVE</th>\n",
       "    </tr>\n",
       "  </thead>\n",
       "  <tbody>\n",
       "    <tr>\n",
       "      <th>0</th>\n",
       "      <td>0.548814</td>\n",
       "      <td>0.715189</td>\n",
       "      <td>2</td>\n",
       "      <td>0</td>\n",
       "      <td>2.158258</td>\n",
       "      <td>1.271538</td>\n",
       "      <td>-0.886720</td>\n",
       "      <td>0</td>\n",
       "      <td>1.685460</td>\n",
       "      <td>-0.472797</td>\n",
       "      <td>326</td>\n",
       "      <td>1.979305</td>\n",
       "    </tr>\n",
       "    <tr>\n",
       "      <th>1</th>\n",
       "      <td>0.602763</td>\n",
       "      <td>0.544883</td>\n",
       "      <td>2</td>\n",
       "      <td>1</td>\n",
       "      <td>1.402833</td>\n",
       "      <td>-1.887013</td>\n",
       "      <td>3.289846</td>\n",
       "      <td>0</td>\n",
       "      <td>-0.161065</td>\n",
       "      <td>1.563897</td>\n",
       "      <td>243</td>\n",
       "      <td>2.131129</td>\n",
       "    </tr>\n",
       "    <tr>\n",
       "      <th>2</th>\n",
       "      <td>0.423655</td>\n",
       "      <td>0.645894</td>\n",
       "      <td>2</td>\n",
       "      <td>0</td>\n",
       "      <td>0.332137</td>\n",
       "      <td>-1.008270</td>\n",
       "      <td>-1.340407</td>\n",
       "      <td>0</td>\n",
       "      <td>1.768661</td>\n",
       "      <td>1.436524</td>\n",
       "      <td>281</td>\n",
       "      <td>1.968291</td>\n",
       "    </tr>\n",
       "  </tbody>\n",
       "</table>\n",
       "</div>"
      ],
      "text/plain": [
       "         x0        x1  C  Treatment         Y       Ycf       ITE  IS_TEST  \\\n",
       "0  0.548814  0.715189  2          0  2.158258  1.271538 -0.886720        0   \n",
       "1  0.602763  0.544883  2          1  1.402833 -1.887013  3.289846        0   \n",
       "2  0.423655  0.645894  2          0  0.332137 -1.008270 -1.340407        0   \n",
       "\n",
       "   Ycf-GDBR  ITE-GDBR  Box-Cluster  ITE-ADAPTIVE  \n",
       "0  1.685460 -0.472797          326      1.979305  \n",
       "1 -0.161065  1.563897          243      2.131129  \n",
       "2  1.768661  1.436524          281      1.968291  "
      ]
     },
     "execution_count": 17,
     "metadata": {},
     "output_type": "execute_result"
    }
   ],
   "source": [
    "data.head(3)"
   ]
  },
  {
   "cell_type": "code",
   "execution_count": 18,
   "metadata": {},
   "outputs": [],
   "source": [
    "clusts = len(means)\n",
    "means2 = means.reshape(3,1)\n",
    "\n",
    "data, km = kmeans_clustering(data, clusters = clusts, cluster_name = 'ITE-ADAPTIVE-3CLUST',\n",
    "                           col_select = [adaptive_ite_name], assign_means = True, means = means2 )"
   ]
  },
  {
   "cell_type": "code",
   "execution_count": 19,
   "metadata": {},
   "outputs": [
    {
     "name": "stdout",
     "output_type": "stream",
     "text": [
      "[[0.05935   ]\n",
      " [1.01684414]\n",
      " [1.98198704]]\n",
      "[[0.05935   ]\n",
      " [1.01684414]\n",
      " [1.98198704]]\n"
     ]
    }
   ],
   "source": [
    "print(means2)\n",
    "print(km.cluster_centers_)"
   ]
  },
  {
   "cell_type": "markdown",
   "metadata": {},
   "source": [
    "### Adaptive ITES values scatter plot"
   ]
  },
  {
   "cell_type": "code",
   "execution_count": 20,
   "metadata": {},
   "outputs": [
    {
     "data": {
      "image/png": "[encoded data removed]",
      "text/plain": [
       "<Figure size 432x288 with 1 Axes>"
      ]
     },
     "metadata": {
      "needs_background": "light"
     },
     "output_type": "display_data"
    }
   ],
   "source": [
    "path3 = path_figs+'reconstruction/'\n",
    "Path(path3).mkdir(exist_ok = True, parents = True)\n",
    "\n",
    "fig, ax = plt.subplots()\n",
    "\n",
    "sc = ax.scatter(data['x0'].values, data['x1'].values, c=data[adaptive_ite_name], cmap = 'Greys', s = 1)\n",
    "if save:\n",
    "    ax.set_aspect('equal', adjustable='box')\n",
    "    fig.savefig(path3+'{}.jpeg'.format('ites'), bbox_inches='tight',pad_inches = 0)"
   ]
  },
  {
   "cell_type": "markdown",
   "metadata": {},
   "source": [
    "###  Clustering of Adaptive ites"
   ]
  },
  {
   "cell_type": "code",
   "execution_count": 21,
   "metadata": {},
   "outputs": [
    {
     "data": {
      "image/png": "[encoded data removed]",
      "text/plain": [
       "<Figure size 432x288 with 1 Axes>"
      ]
     },
     "metadata": {
      "needs_background": "light"
     },
     "output_type": "display_data"
    }
   ],
   "source": [
    "fig, ax = plt.subplots()\n",
    "\n",
    "sc = ax.scatter(data['x0'].values, data['x1'].values, c=data['ITE-ADAPTIVE-3CLUST'], cmap = 'Greys', s = 1)\n",
    "\n",
    "if save:\n",
    "    ax.set_aspect('equal', adjustable='box')\n",
    "    fig.savefig(path3+'{}.jpeg'.format('ITE-ADAPTIVE-3CLUST'), bbox_inches='tight',pad_inches = 0)"
   ]
  },
  {
   "cell_type": "markdown",
   "metadata": {},
   "source": [
    "### Histogram of Adaptive Ites"
   ]
  },
  {
   "cell_type": "code",
   "execution_count": 22,
   "metadata": {},
   "outputs": [
    {
     "name": "stderr",
     "output_type": "stream",
     "text": [
      "/home/mavrog2/.conda/envs/jorje/lib/python3.7/site-packages/seaborn/distributions.py:2619: FutureWarning: `distplot` is a deprecated function and will be removed in a future version. Please adapt your code to use either `displot` (a figure-level function with similar flexibility) or `histplot` (an axes-level function for histograms).\n",
      "  warnings.warn(msg, FutureWarning)\n"
     ]
    },
    {
     "data": {
      "image/png": "[encoded data removed]",
      "text/plain": [
       "<Figure size 432x288 with 1 Axes>"
      ]
     },
     "metadata": {
      "needs_background": "light"
     },
     "output_type": "display_data"
    }
   ],
   "source": [
    "path2 = path_figs+'histograms/'\n",
    "Path(path2).mkdir(exist_ok = True)\n",
    "\n",
    "fig, ax = plt.subplots()\n",
    "\n",
    "ax = sns.distplot(data[adaptive_ite_name],  bins=400, kde = False,ax = ax)\n",
    "ax.set_xlabel('ITE-PCM')\n",
    "\n",
    "ax.set_xlim(-0.5,2.5)\n",
    "if save:\n",
    "    fig.savefig(path2+'adaptivehist.pdf', bbox_inches='tight',pad_inches = 0)\n"
   ]
  },
  {
   "cell_type": "code",
   "execution_count": 23,
   "metadata": {},
   "outputs": [],
   "source": [
    "def MAE_pd(group, name1,name2,column_name):\n",
    "    \n",
    "    group[column_name] = np.abs(group[name1].values-group[name2].mean())\n",
    "    return group\n",
    "    \n",
    "    "
   ]
  },
  {
   "cell_type": "code",
   "execution_count": 24,
   "metadata": {},
   "outputs": [],
   "source": [
    "ite_column = 'ITE-GDBR'\n",
    "clust2 = 'ITE-ADAPTIVE-3CLUST'\n",
    "data = data.groupby(clust2).apply(lambda x: MAE_pd(x, 'C', ite_column, clust2+'-err-GDBR'))"
   ]
  },
  {
   "cell_type": "code",
   "execution_count": 25,
   "metadata": {},
   "outputs": [],
   "source": [
    "ite_column = 'ITE'\n",
    "\n",
    "data = data.groupby(clust2).apply(lambda x: MAE_pd(x, 'C', ite_column, clust2+'-err-True-ITE'))"
   ]
  },
  {
   "cell_type": "code",
   "execution_count": 26,
   "metadata": {},
   "outputs": [],
   "source": [
    "errors = data.describe().loc[['mean', 'std'], [col for col in data.columns if 'err' in col]].T"
   ]
  },
  {
   "cell_type": "code",
   "execution_count": 27,
   "metadata": {},
   "outputs": [
    {
     "data": {
      "text/html": [
       "<div>\n",
       "<style scoped>\n",
       "    .dataframe tbody tr th:only-of-type {\n",
       "        vertical-align: middle;\n",
       "    }\n",
       "\n",
       "    .dataframe tbody tr th {\n",
       "        vertical-align: top;\n",
       "    }\n",
       "\n",
       "    .dataframe thead th {\n",
       "        text-align: right;\n",
       "    }\n",
       "</style>\n",
       "<table border=\"1\" class=\"dataframe\">\n",
       "  <thead>\n",
       "    <tr style=\"text-align: right;\">\n",
       "      <th></th>\n",
       "      <th>mean</th>\n",
       "      <th>std</th>\n",
       "    </tr>\n",
       "  </thead>\n",
       "  <tbody>\n",
       "    <tr>\n",
       "      <th>ITE-ADAPTIVE-3CLUST-err-True-ITE</th>\n",
       "      <td>0.046385</td>\n",
       "      <td>0.158328</td>\n",
       "    </tr>\n",
       "    <tr>\n",
       "      <th>ITE-ADAPTIVE-3CLUST-err-GDBR</th>\n",
       "      <td>0.054725</td>\n",
       "      <td>0.155911</td>\n",
       "    </tr>\n",
       "  </tbody>\n",
       "</table>\n",
       "</div>"
      ],
      "text/plain": [
       "                                      mean       std\n",
       "ITE-ADAPTIVE-3CLUST-err-True-ITE  0.046385  0.158328\n",
       "ITE-ADAPTIVE-3CLUST-err-GDBR      0.054725  0.155911"
      ]
     },
     "execution_count": 27,
     "metadata": {},
     "output_type": "execute_result"
    }
   ],
   "source": [
    "errors.sort_values(by = 'mean')"
   ]
  },
  {
   "cell_type": "code",
   "execution_count": 28,
   "metadata": {},
   "outputs": [
    {
     "data": {
      "image/png": "[encoded data removed]",
      "text/plain": [
       "<Figure size 432x288 with 1 Axes>"
      ]
     },
     "metadata": {
      "needs_background": "light"
     },
     "output_type": "display_data"
    }
   ],
   "source": [
    "ax = errors['mean'].sort_values().plot.barh()\n",
    "plt.show()"
   ]
  },
  {
   "cell_type": "code",
   "execution_count": 29,
   "metadata": {},
   "outputs": [
    {
     "name": "stdout",
     "output_type": "stream",
     "text": [
      "Opt-Clust\n"
     ]
    },
    {
     "data": {
      "text/html": [
       "<div>\n",
       "<style scoped>\n",
       "    .dataframe tbody tr th:only-of-type {\n",
       "        vertical-align: middle;\n",
       "    }\n",
       "\n",
       "    .dataframe tbody tr th {\n",
       "        vertical-align: top;\n",
       "    }\n",
       "\n",
       "    .dataframe thead th {\n",
       "        text-align: right;\n",
       "    }\n",
       "</style>\n",
       "<table border=\"1\" class=\"dataframe\">\n",
       "  <thead>\n",
       "    <tr style=\"text-align: right;\">\n",
       "      <th></th>\n",
       "      <th>C0 Pred</th>\n",
       "      <th>C1 Pred</th>\n",
       "      <th>C2 Pred</th>\n",
       "    </tr>\n",
       "  </thead>\n",
       "  <tbody>\n",
       "    <tr>\n",
       "      <th>C0 True</th>\n",
       "      <td>0.986283</td>\n",
       "      <td>0.013717</td>\n",
       "      <td>0.000000</td>\n",
       "    </tr>\n",
       "    <tr>\n",
       "      <th>C1 True</th>\n",
       "      <td>0.040920</td>\n",
       "      <td>0.948081</td>\n",
       "      <td>0.010999</td>\n",
       "    </tr>\n",
       "    <tr>\n",
       "      <th>C2 True</th>\n",
       "      <td>0.000000</td>\n",
       "      <td>0.017330</td>\n",
       "      <td>0.982670</td>\n",
       "    </tr>\n",
       "  </tbody>\n",
       "</table>\n",
       "</div>"
      ],
      "text/plain": [
       "          C0 Pred   C1 Pred   C2 Pred\n",
       "C0 True  0.986283  0.013717  0.000000\n",
       "C1 True  0.040920  0.948081  0.010999\n",
       "C2 True  0.000000  0.017330  0.982670"
      ]
     },
     "metadata": {},
     "output_type": "display_data"
    }
   ],
   "source": [
    "from IPython.display import display\n",
    "\n",
    "path4 = path_figs+'matrices/'\n",
    "Path(path4).mkdir(exist_ok = True)\n",
    "\n",
    "mat = confusion_matrix(data, 'C', 'ITE-ADAPTIVE-3CLUST', 3, save = save, save_dir = path4)\n",
    "print(name)\n",
    "display(mat)"
   ]
  },
  {
   "cell_type": "code",
   "execution_count": 30,
   "metadata": {},
   "outputs": [
    {
     "data": {
      "text/html": [
       "<div>\n",
       "<style scoped>\n",
       "    .dataframe tbody tr th:only-of-type {\n",
       "        vertical-align: middle;\n",
       "    }\n",
       "\n",
       "    .dataframe tbody tr th {\n",
       "        vertical-align: top;\n",
       "    }\n",
       "\n",
       "    .dataframe thead th {\n",
       "        text-align: right;\n",
       "    }\n",
       "</style>\n",
       "<table border=\"1\" class=\"dataframe\">\n",
       "  <thead>\n",
       "    <tr style=\"text-align: right;\">\n",
       "      <th></th>\n",
       "      <th>x0</th>\n",
       "      <th>x1</th>\n",
       "      <th>C</th>\n",
       "      <th>Treatment</th>\n",
       "      <th>Y</th>\n",
       "      <th>Ycf</th>\n",
       "      <th>ITE</th>\n",
       "      <th>IS_TEST</th>\n",
       "      <th>Ycf-GDBR</th>\n",
       "      <th>ITE-GDBR</th>\n",
       "      <th>Box-Cluster</th>\n",
       "      <th>ITE-ADAPTIVE</th>\n",
       "      <th>ITE-ADAPTIVE-3CLUST-err-GDBR</th>\n",
       "      <th>ITE-ADAPTIVE-3CLUST-err-True-ITE</th>\n",
       "    </tr>\n",
       "    <tr>\n",
       "      <th>ITE-ADAPTIVE-3CLUST</th>\n",
       "      <th></th>\n",
       "      <th></th>\n",
       "      <th></th>\n",
       "      <th></th>\n",
       "      <th></th>\n",
       "      <th></th>\n",
       "      <th></th>\n",
       "      <th></th>\n",
       "      <th></th>\n",
       "      <th></th>\n",
       "      <th></th>\n",
       "      <th></th>\n",
       "      <th></th>\n",
       "      <th></th>\n",
       "    </tr>\n",
       "  </thead>\n",
       "  <tbody>\n",
       "    <tr>\n",
       "      <th>0</th>\n",
       "      <td>0.497455</td>\n",
       "      <td>0.498426</td>\n",
       "      <td>0.040053</td>\n",
       "      <td>0.502542</td>\n",
       "      <td>0.981251</td>\n",
       "      <td>0.987689</td>\n",
       "      <td>0.054672</td>\n",
       "      <td>0.203696</td>\n",
       "      <td>0.977287</td>\n",
       "      <td>0.061210</td>\n",
       "      <td>219.238972</td>\n",
       "      <td>0.133138</td>\n",
       "      <td>0.096359</td>\n",
       "      <td>0.090345</td>\n",
       "    </tr>\n",
       "    <tr>\n",
       "      <th>1</th>\n",
       "      <td>0.498640</td>\n",
       "      <td>0.500947</td>\n",
       "      <td>1.003598</td>\n",
       "      <td>0.502920</td>\n",
       "      <td>0.523886</td>\n",
       "      <td>0.507694</td>\n",
       "      <td>0.999091</td>\n",
       "      <td>0.199793</td>\n",
       "      <td>0.534740</td>\n",
       "      <td>1.003442</td>\n",
       "      <td>220.391871</td>\n",
       "      <td>0.984680</td>\n",
       "      <td>0.034788</td>\n",
       "      <td>0.032350</td>\n",
       "    </tr>\n",
       "    <tr>\n",
       "      <th>2</th>\n",
       "      <td>0.503342</td>\n",
       "      <td>0.498673</td>\n",
       "      <td>1.988824</td>\n",
       "      <td>0.499932</td>\n",
       "      <td>0.982816</td>\n",
       "      <td>1.002002</td>\n",
       "      <td>1.996387</td>\n",
       "      <td>0.196370</td>\n",
       "      <td>0.970619</td>\n",
       "      <td>1.979381</td>\n",
       "      <td>219.489636</td>\n",
       "      <td>1.940738</td>\n",
       "      <td>0.031334</td>\n",
       "      <td>0.014708</td>\n",
       "    </tr>\n",
       "  </tbody>\n",
       "</table>\n",
       "</div>"
      ],
      "text/plain": [
       "                           x0        x1         C  Treatment         Y  \\\n",
       "ITE-ADAPTIVE-3CLUST                                                      \n",
       "0                    0.497455  0.498426  0.040053   0.502542  0.981251   \n",
       "1                    0.498640  0.500947  1.003598   0.502920  0.523886   \n",
       "2                    0.503342  0.498673  1.988824   0.499932  0.982816   \n",
       "\n",
       "                          Ycf       ITE   IS_TEST  Ycf-GDBR  ITE-GDBR  \\\n",
       "ITE-ADAPTIVE-3CLUST                                                     \n",
       "0                    0.987689  0.054672  0.203696  0.977287  0.061210   \n",
       "1                    0.507694  0.999091  0.199793  0.534740  1.003442   \n",
       "2                    1.002002  1.996387  0.196370  0.970619  1.979381   \n",
       "\n",
       "                     Box-Cluster  ITE-ADAPTIVE  ITE-ADAPTIVE-3CLUST-err-GDBR  \\\n",
       "ITE-ADAPTIVE-3CLUST                                                            \n",
       "0                     219.238972      0.133138                      0.096359   \n",
       "1                     220.391871      0.984680                      0.034788   \n",
       "2                     219.489636      1.940738                      0.031334   \n",
       "\n",
       "                     ITE-ADAPTIVE-3CLUST-err-True-ITE  \n",
       "ITE-ADAPTIVE-3CLUST                                    \n",
       "0                                            0.090345  \n",
       "1                                            0.032350  \n",
       "2                                            0.014708  "
      ]
     },
     "execution_count": 30,
     "metadata": {},
     "output_type": "execute_result"
    }
   ],
   "source": [
    "data.groupby('ITE-ADAPTIVE-3CLUST').mean()"
   ]
  },
  {
   "cell_type": "code",
   "execution_count": null,
   "metadata": {},
   "outputs": [],
   "source": []
  }
 ],
 "metadata": {
  "kernelspec": {
   "display_name": "Python [conda env:jorje]",
   "language": "python",
   "name": "conda-env-jorje-py"
  },
  "language_info": {
   "codemirror_mode": {
    "name": "ipython",
    "version": 3
   },
   "file_extension": ".py",
   "mimetype": "text/x-python",
   "name": "python",
   "nbconvert_exporter": "python",
   "pygments_lexer": "ipython3",
   "version": "3.7.2"
  }
 },
 "nbformat": 4,
 "nbformat_minor": 2
}
