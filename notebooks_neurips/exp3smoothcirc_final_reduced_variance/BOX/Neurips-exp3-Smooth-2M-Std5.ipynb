{
 "cells": [
  {
   "cell_type": "code",
   "execution_count": 1,
   "metadata": {},
   "outputs": [],
   "source": [
    "%load_ext autoreload\n",
    "%autoreload 2\n"
   ]
  },
  {
   "cell_type": "code",
   "execution_count": 2,
   "metadata": {},
   "outputs": [],
   "source": [
    "import numpy as np\n",
    "import pandas as pd\n",
    "import matplotlib.pyplot as plt\n",
    "import seaborn as sns\n",
    "import matplotlib as mpl\n",
    "\n",
    "from sklearn.cluster import KMeans \n",
    "from sklearn.cluster import SpectralClustering\n",
    "from sklearn.cluster import AgglomerativeClustering\n",
    "from pathlib import Path"
   ]
  },
  {
   "cell_type": "code",
   "execution_count": 3,
   "metadata": {},
   "outputs": [],
   "source": [
    "import sys\n",
    "\n",
    "sys.path.append('../../../src')\n",
    "\n"
   ]
  },
  {
   "cell_type": "code",
   "execution_count": 4,
   "metadata": {},
   "outputs": [],
   "source": [
    "from base_exp_gen import generate_experiment as GEN_EXP\n",
    "from clustering_algos import agglomerative_clustering, kmeans_clustering, box_clustering, optimal_clustering\n",
    "from sklearn.model_selection import train_test_split as datasplit\n",
    "from sklearn.ensemble import GradientBoostingRegressor as GDBR\n",
    "from evaluations import computeATT_per_cluster as ATTC, predict_cf, calculate_ite, get_homogeneity, generate_paths\n",
    "\n"
   ]
  },
  {
   "cell_type": "code",
   "execution_count": 5,
   "metadata": {},
   "outputs": [],
   "source": [
    "np.random.seed(seed = 0)"
   ]
  },
  {
   "cell_type": "code",
   "execution_count": 6,
   "metadata": {},
   "outputs": [],
   "source": [
    "fonts = {'family': 'cmr10','weight': 'normal',\n",
    "            'size': 20}    \n",
    "div = 1\n",
    "\n",
    "l1 = 22/div\n",
    "l2 = 20/div\n",
    "l3 = 13/(div-0.2)\n",
    "\n",
    "mpl.rcParams['xtick.labelsize'] = l2\n",
    "mpl.rcParams['ytick.labelsize'] = l2\n",
    "mpl.rcParams['axes.labelsize'] = l1\n",
    "mpl.rcParams['font.serif'] = 'Times New Roman'\n",
    "mpl.rcParams['font.weight'] = 'normal'\n",
    "mpl.rcParams['font.size'] = 20\n",
    "mpl.rcParams['legend.fontsize'] = l3\n",
    "\n",
    "#axes_font = {'labelsize':l1}\n",
    "#mpl.rc('font', **font)\n",
    "#xticks = {'labelsize':l2}# 'ytick.labelsize':20}\n",
    "#yticks = {'labelsize':l2}# 'ytick.labelsize':20}\n",
    "#legend = {'fontsize':l3}\n",
    "# tex = {'usetex':True}\n",
    "#mpl.rc('axes', **axes_font)\n",
    "#mpl.rc('xtick', **xticks)\n",
    "#mpl.rc('ytick', **yticks)\n",
    "#mpl.rc('font', **fonts)\n",
    "#mpl.rc('legend', **legend)"
   ]
  },
  {
   "cell_type": "code",
   "execution_count": 7,
   "metadata": {},
   "outputs": [
    {
     "data": {
      "text/plain": [
       "(0.32573500793527993, 0.46065886596178063)"
      ]
     },
     "execution_count": 7,
     "metadata": {},
     "output_type": "execute_result"
    }
   ],
   "source": [
    "r1 =np.sqrt(1/3/np.pi)\n",
    "r2 = np.sqrt((1/3/np.pi+r1**2))\n",
    "r1, r2"
   ]
  },
  {
   "cell_type": "code",
   "execution_count": 8,
   "metadata": {},
   "outputs": [
    {
     "name": "stdout",
     "output_type": "stream",
     "text": [
      "20.0\n"
     ]
    }
   ],
   "source": [
    "print(mpl.rcParams['xtick.labelsize'])"
   ]
  },
  {
   "cell_type": "code",
   "execution_count": 9,
   "metadata": {},
   "outputs": [],
   "source": [
    "pd.set_option(\"display.max_columns\", None)\n"
   ]
  },
  {
   "cell_type": "markdown",
   "metadata": {},
   "source": [
    "### Generate Experiment"
   ]
  },
  {
   "cell_type": "code",
   "execution_count": 10,
   "metadata": {},
   "outputs": [
    {
     "name": "stdout",
     "output_type": "stream",
     "text": [
      "CPU times: user 179 µs, sys: 118 µs, total: 297 µs\n",
      "Wall time: 600 µs\n"
     ]
    }
   ],
   "source": [
    "%%time\n",
    "path_figs = './figs/2Mstd5/'\n",
    "save = True\n",
    "Path(path_figs).mkdir(exist_ok = True, parents = True)"
   ]
  },
  {
   "cell_type": "code",
   "execution_count": 11,
   "metadata": {},
   "outputs": [
    {
     "name": "stdout",
     "output_type": "stream",
     "text": [
      "Number of Clusters:1369, Number of Points:2000000\n"
     ]
    }
   ],
   "source": [
    "N,D = 2*10**6, 2\n",
    "x = int((N)**(1/4))\n",
    "clusters = x**2\n",
    "print(\"Number of Clusters:{}, Number of Points:{}\".format(clusters, N))\n",
    "kw_generate =  {'N':N, 'D':D,'f_gen_name': 'uniform_gen','low':0, 'high': 1}\n",
    "centers = [[0.5,0.5],[0.5,0.5]]\n",
    "r_small = [0, 0.325735]\n",
    "r_big = [0.325735,0.46065886]\n",
    "eligibilities = [2,1]\n",
    "kw_cluster =  {'f_class_name':'circle_class4', 'centers': centers,\n",
    "               'eligibilities':eligibilities,'r_small': r_small, 'r_big':r_big}\n",
    "kw_treatment = {'f_treat_name' :'uniform_treat','choices':[0,1], 'probabilities':[0.5,0.5]}\n",
    "\n",
    "std = 2\n",
    "stats = np.array([[1, std], [0, std], [0, std], [1, std],[1, std],\n",
    "                  [2, std]])\n",
    "kw_outcome = {'f_outcome_name': 'outcome1','treatment':'Treatment', 'cls':'C', 'stats':stats}\n",
    "\n",
    "data = GEN_EXP(kw_generate, kw_cluster, kw_treatment, kw_outcome).dat\n",
    "data = calculate_ite(data.copy(), treatment = 'Treatment',\n",
    "                     counterfactual = 'Ycf', outcome = 'Y', ite_name = 'ITE')"
   ]
  },
  {
   "cell_type": "code",
   "execution_count": 12,
   "metadata": {},
   "outputs": [
    {
     "data": {
      "text/html": [
       "<div>\n",
       "<style scoped>\n",
       "    .dataframe tbody tr th:only-of-type {\n",
       "        vertical-align: middle;\n",
       "    }\n",
       "\n",
       "    .dataframe tbody tr th {\n",
       "        vertical-align: top;\n",
       "    }\n",
       "\n",
       "    .dataframe thead th {\n",
       "        text-align: right;\n",
       "    }\n",
       "</style>\n",
       "<table border=\"1\" class=\"dataframe\">\n",
       "  <thead>\n",
       "    <tr style=\"text-align: right;\">\n",
       "      <th></th>\n",
       "      <th>x0</th>\n",
       "      <th>x1</th>\n",
       "      <th>C</th>\n",
       "      <th>Treatment</th>\n",
       "      <th>Y</th>\n",
       "      <th>Ycf</th>\n",
       "      <th>ITE</th>\n",
       "    </tr>\n",
       "  </thead>\n",
       "  <tbody>\n",
       "    <tr>\n",
       "      <th>0</th>\n",
       "      <td>0.548814</td>\n",
       "      <td>0.715189</td>\n",
       "      <td>2</td>\n",
       "      <td>0</td>\n",
       "      <td>2.663514</td>\n",
       "      <td>-1.553727</td>\n",
       "      <td>-4.217241</td>\n",
       "    </tr>\n",
       "    <tr>\n",
       "      <th>1</th>\n",
       "      <td>0.602763</td>\n",
       "      <td>0.544883</td>\n",
       "      <td>2</td>\n",
       "      <td>0</td>\n",
       "      <td>0.322200</td>\n",
       "      <td>2.393922</td>\n",
       "      <td>2.071722</td>\n",
       "    </tr>\n",
       "    <tr>\n",
       "      <th>2</th>\n",
       "      <td>0.423655</td>\n",
       "      <td>0.645894</td>\n",
       "      <td>2</td>\n",
       "      <td>0</td>\n",
       "      <td>5.106052</td>\n",
       "      <td>2.580146</td>\n",
       "      <td>-2.525906</td>\n",
       "    </tr>\n",
       "    <tr>\n",
       "      <th>3</th>\n",
       "      <td>0.437587</td>\n",
       "      <td>0.891773</td>\n",
       "      <td>1</td>\n",
       "      <td>1</td>\n",
       "      <td>-2.702391</td>\n",
       "      <td>-0.191128</td>\n",
       "      <td>-2.511263</td>\n",
       "    </tr>\n",
       "    <tr>\n",
       "      <th>4</th>\n",
       "      <td>0.963663</td>\n",
       "      <td>0.383442</td>\n",
       "      <td>0</td>\n",
       "      <td>0</td>\n",
       "      <td>4.275959</td>\n",
       "      <td>1.875316</td>\n",
       "      <td>-2.400644</td>\n",
       "    </tr>\n",
       "  </tbody>\n",
       "</table>\n",
       "</div>"
      ],
      "text/plain": [
       "         x0        x1  C  Treatment         Y       Ycf       ITE\n",
       "0  0.548814  0.715189  2          0  2.663514 -1.553727 -4.217241\n",
       "1  0.602763  0.544883  2          0  0.322200  2.393922  2.071722\n",
       "2  0.423655  0.645894  2          0  5.106052  2.580146 -2.525906\n",
       "3  0.437587  0.891773  1          1 -2.702391 -0.191128 -2.511263\n",
       "4  0.963663  0.383442  0          0  4.275959  1.875316 -2.400644"
      ]
     },
     "execution_count": 12,
     "metadata": {},
     "output_type": "execute_result"
    }
   ],
   "source": [
    "data.head(5)"
   ]
  },
  {
   "cell_type": "code",
   "execution_count": 13,
   "metadata": {},
   "outputs": [
    {
     "data": {
      "text/html": [
       "<div>\n",
       "<style scoped>\n",
       "    .dataframe tbody tr th:only-of-type {\n",
       "        vertical-align: middle;\n",
       "    }\n",
       "\n",
       "    .dataframe tbody tr th {\n",
       "        vertical-align: top;\n",
       "    }\n",
       "\n",
       "    .dataframe thead th {\n",
       "        text-align: right;\n",
       "    }\n",
       "</style>\n",
       "<table border=\"1\" class=\"dataframe\">\n",
       "  <thead>\n",
       "    <tr style=\"text-align: right;\">\n",
       "      <th></th>\n",
       "      <th>x0</th>\n",
       "      <th>x1</th>\n",
       "      <th>C</th>\n",
       "      <th>Treatment</th>\n",
       "      <th>Y</th>\n",
       "      <th>Ycf</th>\n",
       "      <th>ITE</th>\n",
       "    </tr>\n",
       "  </thead>\n",
       "  <tbody>\n",
       "    <tr>\n",
       "      <th>count</th>\n",
       "      <td>2.000000e+06</td>\n",
       "      <td>2.000000e+06</td>\n",
       "      <td>2.000000e+06</td>\n",
       "      <td>2.000000e+06</td>\n",
       "      <td>2.000000e+06</td>\n",
       "      <td>2.000000e+06</td>\n",
       "      <td>2.000000e+06</td>\n",
       "    </tr>\n",
       "    <tr>\n",
       "      <th>mean</th>\n",
       "      <td>4.997836e-01</td>\n",
       "      <td>5.001988e-01</td>\n",
       "      <td>1.000020e+00</td>\n",
       "      <td>5.001005e-01</td>\n",
       "      <td>8.336311e-01</td>\n",
       "      <td>8.356772e-01</td>\n",
       "      <td>1.001270e+00</td>\n",
       "    </tr>\n",
       "    <tr>\n",
       "      <th>std</th>\n",
       "      <td>2.887267e-01</td>\n",
       "      <td>2.886267e-01</td>\n",
       "      <td>8.164207e-01</td>\n",
       "      <td>5.000001e-01</td>\n",
       "      <td>2.114240e+00</td>\n",
       "      <td>2.114881e+00</td>\n",
       "      <td>2.942197e+00</td>\n",
       "    </tr>\n",
       "    <tr>\n",
       "      <th>min</th>\n",
       "      <td>1.637144e-07</td>\n",
       "      <td>2.516784e-08</td>\n",
       "      <td>0.000000e+00</td>\n",
       "      <td>0.000000e+00</td>\n",
       "      <td>-9.038117e+00</td>\n",
       "      <td>-9.171530e+00</td>\n",
       "      <td>-1.255560e+01</td>\n",
       "    </tr>\n",
       "    <tr>\n",
       "      <th>25%</th>\n",
       "      <td>2.495544e-01</td>\n",
       "      <td>2.502948e-01</td>\n",
       "      <td>0.000000e+00</td>\n",
       "      <td>0.000000e+00</td>\n",
       "      <td>-5.943142e-01</td>\n",
       "      <td>-5.947750e-01</td>\n",
       "      <td>-9.836229e-01</td>\n",
       "    </tr>\n",
       "    <tr>\n",
       "      <th>50%</th>\n",
       "      <td>4.999703e-01</td>\n",
       "      <td>5.003810e-01</td>\n",
       "      <td>1.000000e+00</td>\n",
       "      <td>1.000000e+00</td>\n",
       "      <td>8.322795e-01</td>\n",
       "      <td>8.316667e-01</td>\n",
       "      <td>9.981741e-01</td>\n",
       "    </tr>\n",
       "    <tr>\n",
       "      <th>75%</th>\n",
       "      <td>7.499998e-01</td>\n",
       "      <td>7.500191e-01</td>\n",
       "      <td>2.000000e+00</td>\n",
       "      <td>1.000000e+00</td>\n",
       "      <td>2.258773e+00</td>\n",
       "      <td>2.263374e+00</td>\n",
       "      <td>2.988030e+00</td>\n",
       "    </tr>\n",
       "    <tr>\n",
       "      <th>max</th>\n",
       "      <td>9.999993e-01</td>\n",
       "      <td>9.999997e-01</td>\n",
       "      <td>2.000000e+00</td>\n",
       "      <td>1.000000e+00</td>\n",
       "      <td>1.164953e+01</td>\n",
       "      <td>1.161717e+01</td>\n",
       "      <td>1.488689e+01</td>\n",
       "    </tr>\n",
       "  </tbody>\n",
       "</table>\n",
       "</div>"
      ],
      "text/plain": [
       "                 x0            x1             C     Treatment             Y  \\\n",
       "count  2.000000e+06  2.000000e+06  2.000000e+06  2.000000e+06  2.000000e+06   \n",
       "mean   4.997836e-01  5.001988e-01  1.000020e+00  5.001005e-01  8.336311e-01   \n",
       "std    2.887267e-01  2.886267e-01  8.164207e-01  5.000001e-01  2.114240e+00   \n",
       "min    1.637144e-07  2.516784e-08  0.000000e+00  0.000000e+00 -9.038117e+00   \n",
       "25%    2.495544e-01  2.502948e-01  0.000000e+00  0.000000e+00 -5.943142e-01   \n",
       "50%    4.999703e-01  5.003810e-01  1.000000e+00  1.000000e+00  8.322795e-01   \n",
       "75%    7.499998e-01  7.500191e-01  2.000000e+00  1.000000e+00  2.258773e+00   \n",
       "max    9.999993e-01  9.999997e-01  2.000000e+00  1.000000e+00  1.164953e+01   \n",
       "\n",
       "                Ycf           ITE  \n",
       "count  2.000000e+06  2.000000e+06  \n",
       "mean   8.356772e-01  1.001270e+00  \n",
       "std    2.114881e+00  2.942197e+00  \n",
       "min   -9.171530e+00 -1.255560e+01  \n",
       "25%   -5.947750e-01 -9.836229e-01  \n",
       "50%    8.316667e-01  9.981741e-01  \n",
       "75%    2.263374e+00  2.988030e+00  \n",
       "max    1.161717e+01  1.488689e+01  "
      ]
     },
     "execution_count": 13,
     "metadata": {},
     "output_type": "execute_result"
    }
   ],
   "source": [
    "data.describe()"
   ]
  },
  {
   "cell_type": "code",
   "execution_count": 14,
   "metadata": {},
   "outputs": [
    {
     "data": {
      "text/plain": [
       "1    0.333458\n",
       "2    0.333281\n",
       "0    0.333261\n",
       "Name: C, dtype: float64"
      ]
     },
     "execution_count": 14,
     "metadata": {},
     "output_type": "execute_result"
    }
   ],
   "source": [
    "data['C'].value_counts()/len(data)"
   ]
  },
  {
   "cell_type": "code",
   "execution_count": 15,
   "metadata": {},
   "outputs": [
    {
     "data": {
      "text/plain": [
       "C\n",
       "0    0.001922\n",
       "1    1.000156\n",
       "2    2.001676\n",
       "Name: ITE, dtype: float64"
      ]
     },
     "execution_count": 15,
     "metadata": {},
     "output_type": "execute_result"
    }
   ],
   "source": [
    "data.groupby('C').ITE.mean()"
   ]
  },
  {
   "cell_type": "code",
   "execution_count": 16,
   "metadata": {},
   "outputs": [
    {
     "data": {
      "image/png": "[encoded data removed]",
      "text/plain": [
       "<Figure size 432x288 with 1 Axes>"
      ]
     },
     "metadata": {
      "needs_background": "light"
     },
     "output_type": "display_data"
    }
   ],
   "source": [
    "fig, ax = plt.subplots()\n",
    "\n",
    "ax.scatter(data['x0'].values, data['x1'].values, c=data['C'].values, cmap = 'Greys', s=0.1)\n",
    "\n",
    "if save:\n",
    "    ax.set_aspect('equal', adjustable='box')\n",
    "    fig.savefig(path_figs+'data.jpeg',bbox_inches='tight', pad_inches = 0)\n",
    "\n",
    "plt.show()"
   ]
  },
  {
   "cell_type": "code",
   "execution_count": 17,
   "metadata": {},
   "outputs": [
    {
     "name": "stderr",
     "output_type": "stream",
     "text": [
      "/home/mavrog2/.conda/envs/jorje/lib/python3.7/site-packages/statsmodels/compat/pandas.py:49: FutureWarning: The Panel class is removed from pandas. Accessing it from the top-level namespace will also be removed in the next version\n",
      "  data_klasses = (pandas.Series, pandas.DataFrame, pandas.Panel)\n"
     ]
    }
   ],
   "source": [
    "from econml.metalearners import XLearner as XL\n",
    "from sklearn.ensemble import RandomForestClassifier as RF"
   ]
  },
  {
   "cell_type": "markdown",
   "metadata": {},
   "source": [
    " ### Estimate ITE with Gradient Boosting Trees"
   ]
  },
  {
   "cell_type": "code",
   "execution_count": 18,
   "metadata": {},
   "outputs": [
    {
     "name": "stdout",
     "output_type": "stream",
     "text": [
      "CPU times: user 1h 24min 18s, sys: 5.96 s, total: 1h 24min 24s\n",
      "Wall time: 1h 24min 39s\n"
     ]
    }
   ],
   "source": [
    "%%time\n",
    "f1_kwargs = {'n_estimators':400, 'max_depth':18}\n",
    "f2_kwargs = {'n_estimators':400, 'max_depth':18}\n",
    "\n",
    "data, models = predict_cf(data.copy(), col_select = ['x0', 'x1'], f1 = GDBR,\n",
    "                          f2 = GDBR, cf_name = 'Ycf-GDBR', f1_kwargs=f1_kwargs, \n",
    "                          f2_kwargs=f2_kwargs, ite_name ='ITE-GDBR')"
   ]
  },
  {
   "cell_type": "code",
   "execution_count": 19,
   "metadata": {},
   "outputs": [
    {
     "data": {
      "text/html": [
       "<div>\n",
       "<style scoped>\n",
       "    .dataframe tbody tr th:only-of-type {\n",
       "        vertical-align: middle;\n",
       "    }\n",
       "\n",
       "    .dataframe tbody tr th {\n",
       "        vertical-align: top;\n",
       "    }\n",
       "\n",
       "    .dataframe thead th {\n",
       "        text-align: right;\n",
       "    }\n",
       "</style>\n",
       "<table border=\"1\" class=\"dataframe\">\n",
       "  <thead>\n",
       "    <tr style=\"text-align: right;\">\n",
       "      <th></th>\n",
       "      <th>x0</th>\n",
       "      <th>x1</th>\n",
       "      <th>C</th>\n",
       "      <th>Treatment</th>\n",
       "      <th>Y</th>\n",
       "      <th>Ycf</th>\n",
       "      <th>ITE</th>\n",
       "      <th>IS_TEST</th>\n",
       "      <th>Ycf-GDBR</th>\n",
       "      <th>ITE-GDBR</th>\n",
       "    </tr>\n",
       "  </thead>\n",
       "  <tbody>\n",
       "    <tr>\n",
       "      <th>0</th>\n",
       "      <td>0.548814</td>\n",
       "      <td>0.715189</td>\n",
       "      <td>2</td>\n",
       "      <td>0</td>\n",
       "      <td>2.663514</td>\n",
       "      <td>-1.553727</td>\n",
       "      <td>-4.217241</td>\n",
       "      <td>1</td>\n",
       "      <td>2.086240</td>\n",
       "      <td>-0.577274</td>\n",
       "    </tr>\n",
       "    <tr>\n",
       "      <th>1</th>\n",
       "      <td>0.602763</td>\n",
       "      <td>0.544883</td>\n",
       "      <td>2</td>\n",
       "      <td>0</td>\n",
       "      <td>0.322200</td>\n",
       "      <td>2.393922</td>\n",
       "      <td>2.071722</td>\n",
       "      <td>0</td>\n",
       "      <td>1.809118</td>\n",
       "      <td>1.486919</td>\n",
       "    </tr>\n",
       "    <tr>\n",
       "      <th>2</th>\n",
       "      <td>0.423655</td>\n",
       "      <td>0.645894</td>\n",
       "      <td>2</td>\n",
       "      <td>0</td>\n",
       "      <td>5.106052</td>\n",
       "      <td>2.580146</td>\n",
       "      <td>-2.525906</td>\n",
       "      <td>1</td>\n",
       "      <td>2.010866</td>\n",
       "      <td>-3.095186</td>\n",
       "    </tr>\n",
       "    <tr>\n",
       "      <th>3</th>\n",
       "      <td>0.437587</td>\n",
       "      <td>0.891773</td>\n",
       "      <td>1</td>\n",
       "      <td>1</td>\n",
       "      <td>-2.702391</td>\n",
       "      <td>-0.191128</td>\n",
       "      <td>-2.511263</td>\n",
       "      <td>0</td>\n",
       "      <td>-0.156119</td>\n",
       "      <td>-2.546272</td>\n",
       "    </tr>\n",
       "    <tr>\n",
       "      <th>4</th>\n",
       "      <td>0.963663</td>\n",
       "      <td>0.383442</td>\n",
       "      <td>0</td>\n",
       "      <td>0</td>\n",
       "      <td>4.275959</td>\n",
       "      <td>1.875316</td>\n",
       "      <td>-2.400644</td>\n",
       "      <td>0</td>\n",
       "      <td>2.615879</td>\n",
       "      <td>-1.660080</td>\n",
       "    </tr>\n",
       "  </tbody>\n",
       "</table>\n",
       "</div>"
      ],
      "text/plain": [
       "         x0        x1  C  Treatment         Y       Ycf       ITE  IS_TEST  \\\n",
       "0  0.548814  0.715189  2          0  2.663514 -1.553727 -4.217241        1   \n",
       "1  0.602763  0.544883  2          0  0.322200  2.393922  2.071722        0   \n",
       "2  0.423655  0.645894  2          0  5.106052  2.580146 -2.525906        1   \n",
       "3  0.437587  0.891773  1          1 -2.702391 -0.191128 -2.511263        0   \n",
       "4  0.963663  0.383442  0          0  4.275959  1.875316 -2.400644        0   \n",
       "\n",
       "   Ycf-GDBR  ITE-GDBR  \n",
       "0  2.086240 -0.577274  \n",
       "1  1.809118  1.486919  \n",
       "2  2.010866 -3.095186  \n",
       "3 -0.156119 -2.546272  \n",
       "4  2.615879 -1.660080  "
      ]
     },
     "execution_count": 19,
     "metadata": {},
     "output_type": "execute_result"
    }
   ],
   "source": [
    "data.head(5)"
   ]
  },
  {
   "cell_type": "markdown",
   "metadata": {},
   "source": [
    "### Model performance"
   ]
  },
  {
   "cell_type": "code",
   "execution_count": 20,
   "metadata": {},
   "outputs": [
    {
     "data": {
      "text/html": [
       "<div>\n",
       "<style scoped>\n",
       "    .dataframe tbody tr th:only-of-type {\n",
       "        vertical-align: middle;\n",
       "    }\n",
       "\n",
       "    .dataframe tbody tr th {\n",
       "        vertical-align: top;\n",
       "    }\n",
       "\n",
       "    .dataframe thead th {\n",
       "        text-align: right;\n",
       "    }\n",
       "</style>\n",
       "<table border=\"1\" class=\"dataframe\">\n",
       "  <thead>\n",
       "    <tr style=\"text-align: right;\">\n",
       "      <th></th>\n",
       "      <th></th>\n",
       "      <th></th>\n",
       "      <th>Y</th>\n",
       "      <th>Ycf</th>\n",
       "      <th>Ycf-GDBR</th>\n",
       "      <th>ITE</th>\n",
       "      <th>ITE-GDBR</th>\n",
       "    </tr>\n",
       "    <tr>\n",
       "      <th>Treatment</th>\n",
       "      <th>C</th>\n",
       "      <th>IS_TEST</th>\n",
       "      <th></th>\n",
       "      <th></th>\n",
       "      <th></th>\n",
       "      <th></th>\n",
       "      <th></th>\n",
       "    </tr>\n",
       "  </thead>\n",
       "  <tbody>\n",
       "    <tr>\n",
       "      <th rowspan=\"6\" valign=\"top\">0</th>\n",
       "      <th rowspan=\"2\" valign=\"top\">0</th>\n",
       "      <th>0</th>\n",
       "      <td>0.992536</td>\n",
       "      <td>1.003570</td>\n",
       "      <td>0.997750</td>\n",
       "      <td>0.011034</td>\n",
       "      <td>0.005213</td>\n",
       "    </tr>\n",
       "    <tr>\n",
       "      <th>1</th>\n",
       "      <td>1.017754</td>\n",
       "      <td>1.014574</td>\n",
       "      <td>0.995072</td>\n",
       "      <td>-0.003180</td>\n",
       "      <td>-0.022682</td>\n",
       "    </tr>\n",
       "    <tr>\n",
       "      <th rowspan=\"2\" valign=\"top\">1</th>\n",
       "      <th>0</th>\n",
       "      <td>0.001932</td>\n",
       "      <td>1.003415</td>\n",
       "      <td>1.014920</td>\n",
       "      <td>1.001484</td>\n",
       "      <td>1.012988</td>\n",
       "    </tr>\n",
       "    <tr>\n",
       "      <th>1</th>\n",
       "      <td>0.002556</td>\n",
       "      <td>1.002949</td>\n",
       "      <td>1.015370</td>\n",
       "      <td>1.000393</td>\n",
       "      <td>1.012814</td>\n",
       "    </tr>\n",
       "    <tr>\n",
       "      <th rowspan=\"2\" valign=\"top\">2</th>\n",
       "      <th>0</th>\n",
       "      <td>-0.003130</td>\n",
       "      <td>2.000247</td>\n",
       "      <td>1.989099</td>\n",
       "      <td>2.003377</td>\n",
       "      <td>1.992229</td>\n",
       "    </tr>\n",
       "    <tr>\n",
       "      <th>1</th>\n",
       "      <td>-0.000504</td>\n",
       "      <td>2.010796</td>\n",
       "      <td>1.989470</td>\n",
       "      <td>2.011300</td>\n",
       "      <td>1.989974</td>\n",
       "    </tr>\n",
       "    <tr>\n",
       "      <th rowspan=\"6\" valign=\"top\">1</th>\n",
       "      <th rowspan=\"2\" valign=\"top\">0</th>\n",
       "      <th>0</th>\n",
       "      <td>0.995674</td>\n",
       "      <td>0.998884</td>\n",
       "      <td>0.974441</td>\n",
       "      <td>-0.003210</td>\n",
       "      <td>0.021233</td>\n",
       "    </tr>\n",
       "    <tr>\n",
       "      <th>1</th>\n",
       "      <td>1.004356</td>\n",
       "      <td>1.013408</td>\n",
       "      <td>0.975560</td>\n",
       "      <td>-0.009052</td>\n",
       "      <td>0.028796</td>\n",
       "    </tr>\n",
       "    <tr>\n",
       "      <th rowspan=\"2\" valign=\"top\">1</th>\n",
       "      <th>0</th>\n",
       "      <td>1.001525</td>\n",
       "      <td>0.001405</td>\n",
       "      <td>0.022303</td>\n",
       "      <td>1.000120</td>\n",
       "      <td>0.979222</td>\n",
       "    </tr>\n",
       "    <tr>\n",
       "      <th>1</th>\n",
       "      <td>0.997777</td>\n",
       "      <td>0.003043</td>\n",
       "      <td>0.020845</td>\n",
       "      <td>0.994734</td>\n",
       "      <td>0.976932</td>\n",
       "    </tr>\n",
       "    <tr>\n",
       "      <th rowspan=\"2\" valign=\"top\">2</th>\n",
       "      <th>0</th>\n",
       "      <td>2.004153</td>\n",
       "      <td>0.000746</td>\n",
       "      <td>-0.003521</td>\n",
       "      <td>2.003407</td>\n",
       "      <td>2.007674</td>\n",
       "    </tr>\n",
       "    <tr>\n",
       "      <th>1</th>\n",
       "      <td>1.995350</td>\n",
       "      <td>0.016904</td>\n",
       "      <td>-0.004203</td>\n",
       "      <td>1.978447</td>\n",
       "      <td>1.999554</td>\n",
       "    </tr>\n",
       "  </tbody>\n",
       "</table>\n",
       "</div>"
      ],
      "text/plain": [
       "                            Y       Ycf  Ycf-GDBR       ITE  ITE-GDBR\n",
       "Treatment C IS_TEST                                                  \n",
       "0         0 0        0.992536  1.003570  0.997750  0.011034  0.005213\n",
       "            1        1.017754  1.014574  0.995072 -0.003180 -0.022682\n",
       "          1 0        0.001932  1.003415  1.014920  1.001484  1.012988\n",
       "            1        0.002556  1.002949  1.015370  1.000393  1.012814\n",
       "          2 0       -0.003130  2.000247  1.989099  2.003377  1.992229\n",
       "            1       -0.000504  2.010796  1.989470  2.011300  1.989974\n",
       "1         0 0        0.995674  0.998884  0.974441 -0.003210  0.021233\n",
       "            1        1.004356  1.013408  0.975560 -0.009052  0.028796\n",
       "          1 0        1.001525  0.001405  0.022303  1.000120  0.979222\n",
       "            1        0.997777  0.003043  0.020845  0.994734  0.976932\n",
       "          2 0        2.004153  0.000746 -0.003521  2.003407  2.007674\n",
       "            1        1.995350  0.016904 -0.004203  1.978447  1.999554"
      ]
     },
     "execution_count": 20,
     "metadata": {},
     "output_type": "execute_result"
    }
   ],
   "source": [
    "filt = (data['Treatment'] == 1) & (data['C'] == 1) & (data['IS_TEST'] ==0)\n",
    "data.groupby(['Treatment', 'C', 'IS_TEST'])[['Y', 'Ycf', 'Ycf-GDBR','ITE', 'ITE-GDBR']].mean()"
   ]
  },
  {
   "cell_type": "markdown",
   "metadata": {},
   "source": [
    "### Apply clustering Box and Kmeans"
   ]
  },
  {
   "cell_type": "code",
   "execution_count": 21,
   "metadata": {},
   "outputs": [
    {
     "name": "stdout",
     "output_type": "stream",
     "text": [
      "CPU times: user 21h 5min 15s, sys: 1h 18min 9s, total: 22h 23min 25s\n",
      "Wall time: 2h 1min 16s\n"
     ]
    }
   ],
   "source": [
    "%%time\n",
    "col_select = ['x0', 'x1']\n",
    "data,_ = box_clustering(data.copy(), clusters = clusters, col_select = col_select )\n",
    "data,_ = kmeans_clustering(data.copy(), clusters = clusters, col_select = col_select )\n"
   ]
  },
  {
   "cell_type": "code",
   "execution_count": 22,
   "metadata": {},
   "outputs": [
    {
     "data": {
      "text/html": [
       "<div>\n",
       "<style scoped>\n",
       "    .dataframe tbody tr th:only-of-type {\n",
       "        vertical-align: middle;\n",
       "    }\n",
       "\n",
       "    .dataframe tbody tr th {\n",
       "        vertical-align: top;\n",
       "    }\n",
       "\n",
       "    .dataframe thead th {\n",
       "        text-align: right;\n",
       "    }\n",
       "</style>\n",
       "<table border=\"1\" class=\"dataframe\">\n",
       "  <thead>\n",
       "    <tr style=\"text-align: right;\">\n",
       "      <th></th>\n",
       "      <th>x0</th>\n",
       "      <th>x1</th>\n",
       "      <th>C</th>\n",
       "      <th>Treatment</th>\n",
       "      <th>Y</th>\n",
       "      <th>Ycf</th>\n",
       "      <th>ITE</th>\n",
       "      <th>IS_TEST</th>\n",
       "      <th>Ycf-GDBR</th>\n",
       "      <th>ITE-GDBR</th>\n",
       "      <th>Box-Cluster</th>\n",
       "      <th>Kmeans-Cluster</th>\n",
       "    </tr>\n",
       "  </thead>\n",
       "  <tbody>\n",
       "    <tr>\n",
       "      <th>0</th>\n",
       "      <td>0.548814</td>\n",
       "      <td>0.715189</td>\n",
       "      <td>2</td>\n",
       "      <td>0</td>\n",
       "      <td>2.663514</td>\n",
       "      <td>-1.553727</td>\n",
       "      <td>-4.217241</td>\n",
       "      <td>1</td>\n",
       "      <td>2.086240</td>\n",
       "      <td>-0.577274</td>\n",
       "      <td>982</td>\n",
       "      <td>675</td>\n",
       "    </tr>\n",
       "    <tr>\n",
       "      <th>1</th>\n",
       "      <td>0.602763</td>\n",
       "      <td>0.544883</td>\n",
       "      <td>2</td>\n",
       "      <td>0</td>\n",
       "      <td>0.322200</td>\n",
       "      <td>2.393922</td>\n",
       "      <td>2.071722</td>\n",
       "      <td>0</td>\n",
       "      <td>1.809118</td>\n",
       "      <td>1.486919</td>\n",
       "      <td>762</td>\n",
       "      <td>203</td>\n",
       "    </tr>\n",
       "    <tr>\n",
       "      <th>2</th>\n",
       "      <td>0.423655</td>\n",
       "      <td>0.645894</td>\n",
       "      <td>2</td>\n",
       "      <td>0</td>\n",
       "      <td>5.106052</td>\n",
       "      <td>2.580146</td>\n",
       "      <td>-2.525906</td>\n",
       "      <td>1</td>\n",
       "      <td>2.010866</td>\n",
       "      <td>-3.095186</td>\n",
       "      <td>866</td>\n",
       "      <td>271</td>\n",
       "    </tr>\n",
       "    <tr>\n",
       "      <th>3</th>\n",
       "      <td>0.437587</td>\n",
       "      <td>0.891773</td>\n",
       "      <td>1</td>\n",
       "      <td>1</td>\n",
       "      <td>-2.702391</td>\n",
       "      <td>-0.191128</td>\n",
       "      <td>-2.511263</td>\n",
       "      <td>0</td>\n",
       "      <td>-0.156119</td>\n",
       "      <td>-2.546272</td>\n",
       "      <td>1200</td>\n",
       "      <td>1166</td>\n",
       "    </tr>\n",
       "    <tr>\n",
       "      <th>4</th>\n",
       "      <td>0.963663</td>\n",
       "      <td>0.383442</td>\n",
       "      <td>0</td>\n",
       "      <td>0</td>\n",
       "      <td>4.275959</td>\n",
       "      <td>1.875316</td>\n",
       "      <td>-2.400644</td>\n",
       "      <td>0</td>\n",
       "      <td>2.615879</td>\n",
       "      <td>-1.660080</td>\n",
       "      <td>553</td>\n",
       "      <td>459</td>\n",
       "    </tr>\n",
       "  </tbody>\n",
       "</table>\n",
       "</div>"
      ],
      "text/plain": [
       "         x0        x1  C  Treatment         Y       Ycf       ITE  IS_TEST  \\\n",
       "0  0.548814  0.715189  2          0  2.663514 -1.553727 -4.217241        1   \n",
       "1  0.602763  0.544883  2          0  0.322200  2.393922  2.071722        0   \n",
       "2  0.423655  0.645894  2          0  5.106052  2.580146 -2.525906        1   \n",
       "3  0.437587  0.891773  1          1 -2.702391 -0.191128 -2.511263        0   \n",
       "4  0.963663  0.383442  0          0  4.275959  1.875316 -2.400644        0   \n",
       "\n",
       "   Ycf-GDBR  ITE-GDBR  Box-Cluster  Kmeans-Cluster  \n",
       "0  2.086240 -0.577274          982             675  \n",
       "1  1.809118  1.486919          762             203  \n",
       "2  2.010866 -3.095186          866             271  \n",
       "3 -0.156119 -2.546272         1200            1166  \n",
       "4  2.615879 -1.660080          553             459  "
      ]
     },
     "execution_count": 22,
     "metadata": {},
     "output_type": "execute_result"
    }
   ],
   "source": [
    "data.head()"
   ]
  },
  {
   "cell_type": "markdown",
   "metadata": {},
   "source": [
    "### Calculte ATT PER Cluster  known CF\n",
    "\n",
    "$\n",
    "\\begin{align}\n",
    "E[Y^1|T=1,Ci ]-E[Y^0|T=1, Ci]\n",
    "\\end{align}\n",
    "$"
   ]
  },
  {
   "cell_type": "code",
   "execution_count": 23,
   "metadata": {},
   "outputs": [],
   "source": [
    "ite_name = 'ITE'\n",
    "box = ATTC(data.copy(), cluster_name = 'Box-Cluster', ATT_CLUST_name='Box-ATT',\n",
    "           points_name='Box-points', weight_names='Box-Weights', \n",
    "           ITE_name = ite_name, hom_name = 'Box-Hom',\n",
    "          att = False)\n",
    "\n",
    "kmeans = ATTC(data.copy(), cluster_name = 'Kmeans-Cluster', ATT_CLUST_name='Kmeans-ATT',\n",
    "           points_name='Kmeans-points', weight_names='Kmeans-Weights',ITE_name = ite_name,\n",
    "              hom_name = 'Kmeans-Hom', att = False)\n"
   ]
  },
  {
   "cell_type": "code",
   "execution_count": 24,
   "metadata": {},
   "outputs": [
    {
     "data": {
      "text/html": [
       "<div>\n",
       "<style scoped>\n",
       "    .dataframe tbody tr th:only-of-type {\n",
       "        vertical-align: middle;\n",
       "    }\n",
       "\n",
       "    .dataframe tbody tr th {\n",
       "        vertical-align: top;\n",
       "    }\n",
       "\n",
       "    .dataframe thead th {\n",
       "        text-align: right;\n",
       "    }\n",
       "</style>\n",
       "<table border=\"1\" class=\"dataframe\">\n",
       "  <thead>\n",
       "    <tr style=\"text-align: right;\">\n",
       "      <th></th>\n",
       "      <th>Box-Cluster</th>\n",
       "      <th>Box-ATT</th>\n",
       "      <th>Box-points</th>\n",
       "      <th>Box-Hom</th>\n",
       "      <th>Box-Weights</th>\n",
       "    </tr>\n",
       "  </thead>\n",
       "  <tbody>\n",
       "    <tr>\n",
       "      <th>0</th>\n",
       "      <td>0</td>\n",
       "      <td>0.053752</td>\n",
       "      <td>1409.0</td>\n",
       "      <td>1.0</td>\n",
       "      <td>0.000705</td>\n",
       "    </tr>\n",
       "    <tr>\n",
       "      <th>1</th>\n",
       "      <td>1</td>\n",
       "      <td>0.025122</td>\n",
       "      <td>1451.0</td>\n",
       "      <td>1.0</td>\n",
       "      <td>0.000726</td>\n",
       "    </tr>\n",
       "    <tr>\n",
       "      <th>2</th>\n",
       "      <td>2</td>\n",
       "      <td>-0.040744</td>\n",
       "      <td>1399.0</td>\n",
       "      <td>1.0</td>\n",
       "      <td>0.000700</td>\n",
       "    </tr>\n",
       "  </tbody>\n",
       "</table>\n",
       "</div>"
      ],
      "text/plain": [
       "   Box-Cluster   Box-ATT  Box-points  Box-Hom  Box-Weights\n",
       "0            0  0.053752      1409.0      1.0     0.000705\n",
       "1            1  0.025122      1451.0      1.0     0.000726\n",
       "2            2 -0.040744      1399.0      1.0     0.000700"
      ]
     },
     "execution_count": 24,
     "metadata": {},
     "output_type": "execute_result"
    }
   ],
   "source": [
    "box.head(3)"
   ]
  },
  {
   "cell_type": "code",
   "execution_count": 25,
   "metadata": {},
   "outputs": [
    {
     "name": "stderr",
     "output_type": "stream",
     "text": [
      "/home/mavrog2/.conda/envs/jorje/lib/python3.7/site-packages/seaborn/distributions.py:2619: FutureWarning: `distplot` is a deprecated function and will be removed in a future version. Please adapt your code to use either `displot` (a figure-level function with similar flexibility) or `histplot` (an axes-level function for histograms).\n",
      "  warnings.warn(msg, FutureWarning)\n"
     ]
    },
    {
     "data": {
      "image/png": "[encoded data removed]",
      "text/plain": [
       "<Figure size 432x288 with 1 Axes>"
      ]
     },
     "metadata": {
      "needs_background": "light"
     },
     "output_type": "display_data"
    }
   ],
   "source": [
    "path2 = path_figs+'histograms/'\n",
    "Path(path2).mkdir(exist_ok = True)\n",
    "\n",
    "kde = False\n",
    "bins = 50\n",
    "fig, ax = plt.subplots(1,1)\n",
    "ax = sns.distplot(box['Box-ATT'].values , bins=bins, kde = False,ax = ax)\n",
    "ax.set_xlabel('ATE')\n",
    "#ax.set_ylabel('weight')\n",
    "\n",
    "if save:\n",
    "    fig.savefig(path2+'boxhist.pdf', bbox_inches='tight',pad_inches = 0)\n",
    "\n",
    "plt.show()\n",
    "\n"
   ]
  },
  {
   "cell_type": "code",
   "execution_count": 26,
   "metadata": {},
   "outputs": [
    {
     "name": "stderr",
     "output_type": "stream",
     "text": [
      "/home/mavrog2/.conda/envs/jorje/lib/python3.7/site-packages/seaborn/distributions.py:2619: FutureWarning: `distplot` is a deprecated function and will be removed in a future version. Please adapt your code to use either `displot` (a figure-level function with similar flexibility) or `histplot` (an axes-level function for histograms).\n",
      "  warnings.warn(msg, FutureWarning)\n"
     ]
    },
    {
     "data": {
      "image/png": "[encoded data removed]",
      "text/plain": [
       "<Figure size 432x288 with 1 Axes>"
      ]
     },
     "metadata": {
      "needs_background": "light"
     },
     "output_type": "display_data"
    }
   ],
   "source": [
    "fig, ax = plt.subplots(1,1)\n",
    "ax = sns.distplot(kmeans['Kmeans-ATT'],\n",
    "                  bins = bins, kde = kde, ax = ax)\n",
    "\n",
    "ax.set_xlabel('ATE')\n",
    "#ax.set_ylabel('weight')\n",
    "if save:\n",
    "    fig.savefig(path2+'Kmhist.pdf', bbox_inches='tight',pad_inches = 0)\n",
    "\n",
    "plt.show()\n"
   ]
  },
  {
   "cell_type": "code",
   "execution_count": 27,
   "metadata": {},
   "outputs": [
    {
     "name": "stderr",
     "output_type": "stream",
     "text": [
      "/home/mavrog2/.conda/envs/jorje/lib/python3.7/site-packages/seaborn/distributions.py:2619: FutureWarning: `distplot` is a deprecated function and will be removed in a future version. Please adapt your code to use either `displot` (a figure-level function with similar flexibility) or `histplot` (an axes-level function for histograms).\n",
      "  warnings.warn(msg, FutureWarning)\n"
     ]
    },
    {
     "data": {
      "image/png": "[encoded data removed]",
      "text/plain": [
       "<Figure size 432x288 with 1 Axes>"
      ]
     },
     "metadata": {
      "needs_background": "light"
     },
     "output_type": "display_data"
    }
   ],
   "source": [
    "fig, ax = plt.subplots(1,1)\n",
    "ax = sns.distplot(data['ITE'], bins = 100,\n",
    "                  kde = kde, ax = ax)\n",
    "ax.set_xlabel('ITE')\n",
    "#ax.set_ylabel('weight')\n",
    "\n",
    "if save:\n",
    "    fig.savefig(path2+'itehist.pdf', bbox_inches='tight',pad_inches = 0)\n",
    "\n",
    "plt.show()\n"
   ]
  },
  {
   "cell_type": "code",
   "execution_count": 28,
   "metadata": {},
   "outputs": [
    {
     "data": {
      "text/html": [
       "<div>\n",
       "<style scoped>\n",
       "    .dataframe tbody tr th:only-of-type {\n",
       "        vertical-align: middle;\n",
       "    }\n",
       "\n",
       "    .dataframe tbody tr th {\n",
       "        vertical-align: top;\n",
       "    }\n",
       "\n",
       "    .dataframe thead th {\n",
       "        text-align: right;\n",
       "    }\n",
       "</style>\n",
       "<table border=\"1\" class=\"dataframe\">\n",
       "  <thead>\n",
       "    <tr style=\"text-align: right;\">\n",
       "      <th></th>\n",
       "      <th>Box-Cluster</th>\n",
       "      <th>Box-ATT</th>\n",
       "      <th>Box-points</th>\n",
       "      <th>Box-Hom</th>\n",
       "      <th>Box-Weights</th>\n",
       "    </tr>\n",
       "  </thead>\n",
       "  <tbody>\n",
       "    <tr>\n",
       "      <th>count</th>\n",
       "      <td>1369.00000</td>\n",
       "      <td>1369.000000</td>\n",
       "      <td>1369.000000</td>\n",
       "      <td>1369.000000</td>\n",
       "      <td>1369.000000</td>\n",
       "    </tr>\n",
       "    <tr>\n",
       "      <th>mean</th>\n",
       "      <td>684.00000</td>\n",
       "      <td>1.001329</td>\n",
       "      <td>1460.920380</td>\n",
       "      <td>0.961037</td>\n",
       "      <td>0.000730</td>\n",
       "    </tr>\n",
       "    <tr>\n",
       "      <th>std</th>\n",
       "      <td>395.34057</td>\n",
       "      <td>0.804953</td>\n",
       "      <td>37.097551</td>\n",
       "      <td>0.116090</td>\n",
       "      <td>0.000019</td>\n",
       "    </tr>\n",
       "    <tr>\n",
       "      <th>min</th>\n",
       "      <td>0.00000</td>\n",
       "      <td>-0.206394</td>\n",
       "      <td>1345.000000</td>\n",
       "      <td>0.500666</td>\n",
       "      <td>0.000673</td>\n",
       "    </tr>\n",
       "    <tr>\n",
       "      <th>25%</th>\n",
       "      <td>342.00000</td>\n",
       "      <td>0.072095</td>\n",
       "      <td>1435.000000</td>\n",
       "      <td>1.000000</td>\n",
       "      <td>0.000718</td>\n",
       "    </tr>\n",
       "    <tr>\n",
       "      <th>50%</th>\n",
       "      <td>684.00000</td>\n",
       "      <td>1.004046</td>\n",
       "      <td>1460.000000</td>\n",
       "      <td>1.000000</td>\n",
       "      <td>0.000730</td>\n",
       "    </tr>\n",
       "    <tr>\n",
       "      <th>75%</th>\n",
       "      <td>1026.00000</td>\n",
       "      <td>1.925001</td>\n",
       "      <td>1486.000000</td>\n",
       "      <td>1.000000</td>\n",
       "      <td>0.000743</td>\n",
       "    </tr>\n",
       "    <tr>\n",
       "      <th>max</th>\n",
       "      <td>1368.00000</td>\n",
       "      <td>2.241838</td>\n",
       "      <td>1590.000000</td>\n",
       "      <td>1.000000</td>\n",
       "      <td>0.000795</td>\n",
       "    </tr>\n",
       "  </tbody>\n",
       "</table>\n",
       "</div>"
      ],
      "text/plain": [
       "       Box-Cluster      Box-ATT   Box-points      Box-Hom  Box-Weights\n",
       "count   1369.00000  1369.000000  1369.000000  1369.000000  1369.000000\n",
       "mean     684.00000     1.001329  1460.920380     0.961037     0.000730\n",
       "std      395.34057     0.804953    37.097551     0.116090     0.000019\n",
       "min        0.00000    -0.206394  1345.000000     0.500666     0.000673\n",
       "25%      342.00000     0.072095  1435.000000     1.000000     0.000718\n",
       "50%      684.00000     1.004046  1460.000000     1.000000     0.000730\n",
       "75%     1026.00000     1.925001  1486.000000     1.000000     0.000743\n",
       "max     1368.00000     2.241838  1590.000000     1.000000     0.000795"
      ]
     },
     "execution_count": 28,
     "metadata": {},
     "output_type": "execute_result"
    }
   ],
   "source": [
    "box.describe()"
   ]
  },
  {
   "cell_type": "markdown",
   "metadata": {},
   "source": [
    "### Calculate ATT per Cluster not known Model Calculated CF"
   ]
  },
  {
   "cell_type": "code",
   "execution_count": 29,
   "metadata": {},
   "outputs": [],
   "source": [
    "ite_name = 'ITE-GDBR'\n",
    "box2 = ATTC(data.copy(), cluster_name = 'Box-Cluster', ATT_CLUST_name='Box-ATT',\n",
    "           points_name='Box-points', weight_names='Box-Weights', ITE_name = ite_name,\n",
    "            hom_name = 'Box-Hom', att = False)\n",
    "\n",
    "kmeans2 = ATTC(data.copy(), cluster_name = 'Kmeans-Cluster', ATT_CLUST_name='Kmeans-ATT',\n",
    "           points_name='Kmeans-points', weight_names='Kmeans-Weights',ITE_name = ite_name,\n",
    "               hom_name = 'Kmeans-Hom', att = False)\n",
    "\n"
   ]
  },
  {
   "cell_type": "code",
   "execution_count": 30,
   "metadata": {},
   "outputs": [
    {
     "name": "stderr",
     "output_type": "stream",
     "text": [
      "/home/mavrog2/.conda/envs/jorje/lib/python3.7/site-packages/seaborn/distributions.py:2619: FutureWarning: `distplot` is a deprecated function and will be removed in a future version. Please adapt your code to use either `displot` (a figure-level function with similar flexibility) or `histplot` (an axes-level function for histograms).\n",
      "  warnings.warn(msg, FutureWarning)\n"
     ]
    },
    {
     "data": {
      "image/png": "[encoded data removed]",
      "text/plain": [
       "<Figure size 432x288 with 1 Axes>"
      ]
     },
     "metadata": {
      "needs_background": "light"
     },
     "output_type": "display_data"
    }
   ],
   "source": [
    "fig, ax = plt.subplots(1,1)\n",
    "ax = sns.distplot(box2['Box-ATT'],bins = bins, kde = kde,ax = ax )\n",
    "ax.set_xlabel('ATE')\n",
    "#ax.set_ylabel('weight')\n",
    "ax.set_xlim(-0.4,2.4)\n",
    "\n",
    "if save:\n",
    "    fig.savefig(path2+'Box2hist.pdf', bbox_inches='tight',pad_inches = 0)\n",
    "\n",
    "plt.show()\n",
    "\n",
    "\n"
   ]
  },
  {
   "cell_type": "code",
   "execution_count": 31,
   "metadata": {},
   "outputs": [
    {
     "name": "stderr",
     "output_type": "stream",
     "text": [
      "/home/mavrog2/.conda/envs/jorje/lib/python3.7/site-packages/seaborn/distributions.py:2619: FutureWarning: `distplot` is a deprecated function and will be removed in a future version. Please adapt your code to use either `displot` (a figure-level function with similar flexibility) or `histplot` (an axes-level function for histograms).\n",
      "  warnings.warn(msg, FutureWarning)\n"
     ]
    },
    {
     "data": {
      "image/png": "[encoded data removed]",
      "text/plain": [
       "<Figure size 432x288 with 1 Axes>"
      ]
     },
     "metadata": {
      "needs_background": "light"
     },
     "output_type": "display_data"
    }
   ],
   "source": [
    "fig, ax = plt.subplots(1,1)\n",
    "ax = sns.distplot(kmeans2['Kmeans-ATT'], \n",
    "             bins = bins, kde = kde, ax = ax)\n",
    "ax.set_xlabel('ATE')\n",
    "#ax.set_ylabel('weight')\n",
    "ax.set_xlim(-0.4,2.4)\n",
    "\n",
    "if save:\n",
    "\n",
    "    fig.savefig(path2+'KM2hist.pdf', bbox_inches='tight',pad_inches = 0)\n",
    "\n",
    "plt.show()"
   ]
  },
  {
   "cell_type": "code",
   "execution_count": 32,
   "metadata": {},
   "outputs": [
    {
     "name": "stderr",
     "output_type": "stream",
     "text": [
      "/home/mavrog2/.conda/envs/jorje/lib/python3.7/site-packages/seaborn/distributions.py:2619: FutureWarning: `distplot` is a deprecated function and will be removed in a future version. Please adapt your code to use either `displot` (a figure-level function with similar flexibility) or `histplot` (an axes-level function for histograms).\n",
      "  warnings.warn(msg, FutureWarning)\n"
     ]
    },
    {
     "data": {
      "image/png": "[encoded data removed]",
      "text/plain": [
       "<Figure size 432x288 with 1 Axes>"
      ]
     },
     "metadata": {
      "needs_background": "light"
     },
     "output_type": "display_data"
    }
   ],
   "source": [
    "fig, ax = plt.subplots(1,1)\n",
    "ax = sns.distplot(data['ITE-GDBR'],bins = 400, kde = kde, ax = ax)\n",
    "\n",
    "ax.set_xlabel('ITE')\n",
    "#ax.set_ylabel('weight')\n",
    "ax.set_xlim(-15,15)\n",
    "if save:\n",
    "\n",
    "    fig.savefig(path2+'ITE2hist.pdf', bbox_inches='tight',pad_inches = 0)\n",
    "\n",
    "plt.show()"
   ]
  },
  {
   "cell_type": "markdown",
   "metadata": {},
   "source": [
    "### Optimal 3-Clustering\n",
    "#### Cluster the ATTs for the 4 methods \n",
    "1. Box with sampled Ites\n",
    "2. Kmeans with sampled Ites\n",
    "3. Box with estimated Ites\n",
    "4. Kmeans with estimated Ites"
   ]
  },
  {
   "cell_type": "code",
   "execution_count": 33,
   "metadata": {},
   "outputs": [
    {
     "name": "stdout",
     "output_type": "stream",
     "text": [
      "CPU times: user 1.19 s, sys: 38.4 ms, total: 1.23 s\n",
      "Wall time: 1.43 s\n"
     ]
    }
   ],
   "source": [
    "%%time\n",
    "#all_data = [box, kmeans, agglo, box2, kmeans2, agglo2]\n",
    "all_data = [box, kmeans, box2, kmeans2]\n",
    "\n",
    "#names = ['Box-Cl2', 'Kmeans-Cl2', 'Agglo-Cl2', 'Box2-Cl2', 'Kmeans2-Cl2', 'Agglo2-Cl2']\n",
    "#names2 = ['Box-ATT', 'Kmeans-ATT', 'Agglo-ATT', 'Box-ATT', 'Kmeans-ATT', 'Agglo-ATT']\n",
    "\n",
    "names_to_give = ['Box-Cl2', 'Kmeans-Cl2',  'Box2-Cl2', 'Kmeans2-Cl2']\n",
    "names_to_find= ['Box-ATT', 'Kmeans-ATT',  'Box-ATT', 'Kmeans-ATT']\n",
    "\n",
    "weights = ['Box-Weights', 'Kmeans-Weights', 'Box-Weights', 'Kmeans-Weights']\n",
    "\n",
    "clusts = 3\n",
    "for i, (dd, name, name2,w) in enumerate(zip(all_data, names_to_give, names_to_find,weights)):\n",
    "    all_data[i], _ = optimal_clustering(dd, max_clusters = clusts, col_select = name2, \n",
    "                      cluster_name = name, N=N )\n",
    "    \n"
   ]
  },
  {
   "cell_type": "code",
   "execution_count": 34,
   "metadata": {},
   "outputs": [
    {
     "data": {
      "text/plain": [
       "0    471\n",
       "2    451\n",
       "1    447\n",
       "Name: Box-Cl2, dtype: int64"
      ]
     },
     "execution_count": 34,
     "metadata": {},
     "output_type": "execute_result"
    }
   ],
   "source": [
    "box['Box-Cl2'].value_counts()"
   ]
  },
  {
   "cell_type": "code",
   "execution_count": 35,
   "metadata": {},
   "outputs": [
    {
     "data": {
      "text/html": [
       "<div>\n",
       "<style scoped>\n",
       "    .dataframe tbody tr th:only-of-type {\n",
       "        vertical-align: middle;\n",
       "    }\n",
       "\n",
       "    .dataframe tbody tr th {\n",
       "        vertical-align: top;\n",
       "    }\n",
       "\n",
       "    .dataframe thead th {\n",
       "        text-align: right;\n",
       "    }\n",
       "</style>\n",
       "<table border=\"1\" class=\"dataframe\">\n",
       "  <thead>\n",
       "    <tr style=\"text-align: right;\">\n",
       "      <th></th>\n",
       "      <th>Box-Cluster</th>\n",
       "      <th>Box-ATT</th>\n",
       "      <th>Box-points</th>\n",
       "      <th>Box-Hom</th>\n",
       "      <th>Box-Weights</th>\n",
       "      <th>Box-Cl2</th>\n",
       "    </tr>\n",
       "  </thead>\n",
       "  <tbody>\n",
       "    <tr>\n",
       "      <th>0</th>\n",
       "      <td>0</td>\n",
       "      <td>0.053752</td>\n",
       "      <td>1409.0</td>\n",
       "      <td>1.0</td>\n",
       "      <td>0.000705</td>\n",
       "      <td>0</td>\n",
       "    </tr>\n",
       "    <tr>\n",
       "      <th>1</th>\n",
       "      <td>1</td>\n",
       "      <td>0.025122</td>\n",
       "      <td>1451.0</td>\n",
       "      <td>1.0</td>\n",
       "      <td>0.000726</td>\n",
       "      <td>0</td>\n",
       "    </tr>\n",
       "  </tbody>\n",
       "</table>\n",
       "</div>"
      ],
      "text/plain": [
       "   Box-Cluster   Box-ATT  Box-points  Box-Hom  Box-Weights  Box-Cl2\n",
       "0            0  0.053752      1409.0      1.0     0.000705        0\n",
       "1            1  0.025122      1451.0      1.0     0.000726        0"
      ]
     },
     "execution_count": 35,
     "metadata": {},
     "output_type": "execute_result"
    }
   ],
   "source": [
    "box.head(2)"
   ]
  },
  {
   "cell_type": "code",
   "execution_count": 36,
   "metadata": {},
   "outputs": [
    {
     "data": {
      "text/html": [
       "<div>\n",
       "<style scoped>\n",
       "    .dataframe tbody tr th:only-of-type {\n",
       "        vertical-align: middle;\n",
       "    }\n",
       "\n",
       "    .dataframe tbody tr th {\n",
       "        vertical-align: top;\n",
       "    }\n",
       "\n",
       "    .dataframe thead th {\n",
       "        text-align: right;\n",
       "    }\n",
       "</style>\n",
       "<table border=\"1\" class=\"dataframe\">\n",
       "  <thead>\n",
       "    <tr style=\"text-align: right;\">\n",
       "      <th></th>\n",
       "      <th>x0</th>\n",
       "      <th>x1</th>\n",
       "      <th>C</th>\n",
       "      <th>Treatment</th>\n",
       "      <th>Y</th>\n",
       "      <th>Ycf</th>\n",
       "      <th>ITE</th>\n",
       "      <th>IS_TEST</th>\n",
       "      <th>Ycf-GDBR</th>\n",
       "      <th>ITE-GDBR</th>\n",
       "      <th>Box-Cluster</th>\n",
       "      <th>Kmeans-Cluster</th>\n",
       "    </tr>\n",
       "  </thead>\n",
       "  <tbody>\n",
       "    <tr>\n",
       "      <th>0</th>\n",
       "      <td>0.548814</td>\n",
       "      <td>0.715189</td>\n",
       "      <td>2</td>\n",
       "      <td>0</td>\n",
       "      <td>2.663514</td>\n",
       "      <td>-1.553727</td>\n",
       "      <td>-4.217241</td>\n",
       "      <td>1</td>\n",
       "      <td>2.086240</td>\n",
       "      <td>-0.577274</td>\n",
       "      <td>982</td>\n",
       "      <td>675</td>\n",
       "    </tr>\n",
       "    <tr>\n",
       "      <th>1</th>\n",
       "      <td>0.602763</td>\n",
       "      <td>0.544883</td>\n",
       "      <td>2</td>\n",
       "      <td>0</td>\n",
       "      <td>0.322200</td>\n",
       "      <td>2.393922</td>\n",
       "      <td>2.071722</td>\n",
       "      <td>0</td>\n",
       "      <td>1.809118</td>\n",
       "      <td>1.486919</td>\n",
       "      <td>762</td>\n",
       "      <td>203</td>\n",
       "    </tr>\n",
       "  </tbody>\n",
       "</table>\n",
       "</div>"
      ],
      "text/plain": [
       "         x0        x1  C  Treatment         Y       Ycf       ITE  IS_TEST  \\\n",
       "0  0.548814  0.715189  2          0  2.663514 -1.553727 -4.217241        1   \n",
       "1  0.602763  0.544883  2          0  0.322200  2.393922  2.071722        0   \n",
       "\n",
       "   Ycf-GDBR  ITE-GDBR  Box-Cluster  Kmeans-Cluster  \n",
       "0  2.086240 -0.577274          982             675  \n",
       "1  1.809118  1.486919          762             203  "
      ]
     },
     "execution_count": 36,
     "metadata": {},
     "output_type": "execute_result"
    }
   ],
   "source": [
    "data2 = data.copy()\n",
    "data2.head(2)"
   ]
  },
  {
   "cell_type": "markdown",
   "metadata": {},
   "source": [
    "### 3 Clustering in the ITEs"
   ]
  },
  {
   "cell_type": "code",
   "execution_count": 37,
   "metadata": {},
   "outputs": [],
   "source": [
    "cluster_name1 = 'ITE-2CTrue'\n",
    "col1 = 'ITE'\n",
    "filt11 = data2[col1] <= 0.5\n",
    "filt21 = data2[col1] >= 0.5\n",
    "filt31 = data2[col1] >= 1.5\n",
    "\n",
    "data2[cluster_name1] = 0\n",
    "data2.loc[filt11,cluster_name1] = 0\n",
    "data2.loc[filt21, cluster_name1] = 1\n",
    "data2.loc[filt31, cluster_name1] = 2\n",
    "\n",
    "cluster_name2 = 'ITE-2CGDBR'\n",
    "col2 = 'ITE-GDBR'\n",
    "filt12 = data2[col2] <= 0.5\n",
    "filt22 = data2[col2] >= 0.5\n",
    "filt32 = data2[col2] >= 1.5\n",
    "\n",
    "data2[cluster_name2] = 0\n",
    "data2.loc[filt12,cluster_name2] = 0\n",
    "data2.loc[filt22, cluster_name2] = 1\n",
    "data2.loc[filt32, cluster_name2] = 2\n",
    "\n",
    "#data2,_ = kmeans_clustering(data2,clusters = clusts, cluster_name = 'ITE-2CTrue',col_select = ['ITE'] )\n",
    "#data2,_ = kmeans_clustering(data2,clusters = clusts, cluster_name = 'ITE-2CGDBR',col_select = ['ITE-GDBR'] )"
   ]
  },
  {
   "cell_type": "markdown",
   "metadata": {},
   "source": [
    "### Merge 3 Clustering with initial data"
   ]
  },
  {
   "cell_type": "code",
   "execution_count": 38,
   "metadata": {},
   "outputs": [],
   "source": [
    "#merge_names = ['Box-Cluster', 'Kmeans-Cluster', 'Agglomerative-Cluster']*2\n",
    "#class_names = ['Box-Cl2', 'Kmeans-Cl2', 'Agglo-Cl2', 'Box2-Cl2', 'Kmeans2-Cl2', 'Agglo2-Cl2']\n",
    "\n",
    "merge_names = ['Box-Cluster', 'Kmeans-Cluster']*2\n",
    "class_names = ['Box-Cl2', 'Kmeans-Cl2',  'Box2-Cl2', 'Kmeans2-Cl2']\n",
    "\n",
    "for dd, merge_name, class_name in zip(all_data, merge_names, class_names):\n",
    "    dd2 = dd[[merge_name, class_name]]\n",
    "\n",
    "\n",
    "    data2 = data2.merge(dd2, on = merge_name, how = 'left' )"
   ]
  },
  {
   "cell_type": "code",
   "execution_count": 39,
   "metadata": {},
   "outputs": [
    {
     "data": {
      "text/html": [
       "<div>\n",
       "<style scoped>\n",
       "    .dataframe tbody tr th:only-of-type {\n",
       "        vertical-align: middle;\n",
       "    }\n",
       "\n",
       "    .dataframe tbody tr th {\n",
       "        vertical-align: top;\n",
       "    }\n",
       "\n",
       "    .dataframe thead th {\n",
       "        text-align: right;\n",
       "    }\n",
       "</style>\n",
       "<table border=\"1\" class=\"dataframe\">\n",
       "  <thead>\n",
       "    <tr style=\"text-align: right;\">\n",
       "      <th></th>\n",
       "      <th>x0</th>\n",
       "      <th>x1</th>\n",
       "      <th>C</th>\n",
       "      <th>Treatment</th>\n",
       "      <th>Y</th>\n",
       "      <th>Ycf</th>\n",
       "      <th>ITE</th>\n",
       "      <th>IS_TEST</th>\n",
       "      <th>Ycf-GDBR</th>\n",
       "      <th>ITE-GDBR</th>\n",
       "      <th>Box-Cluster</th>\n",
       "      <th>Kmeans-Cluster</th>\n",
       "      <th>ITE-2CTrue</th>\n",
       "      <th>ITE-2CGDBR</th>\n",
       "      <th>Box-Cl2</th>\n",
       "      <th>Kmeans-Cl2</th>\n",
       "      <th>Box2-Cl2</th>\n",
       "      <th>Kmeans2-Cl2</th>\n",
       "    </tr>\n",
       "  </thead>\n",
       "  <tbody>\n",
       "    <tr>\n",
       "      <th>0</th>\n",
       "      <td>0.548814</td>\n",
       "      <td>0.715189</td>\n",
       "      <td>2</td>\n",
       "      <td>0</td>\n",
       "      <td>2.663514</td>\n",
       "      <td>-1.553727</td>\n",
       "      <td>-4.217241</td>\n",
       "      <td>1</td>\n",
       "      <td>2.086240</td>\n",
       "      <td>-0.577274</td>\n",
       "      <td>982</td>\n",
       "      <td>675</td>\n",
       "      <td>0</td>\n",
       "      <td>0</td>\n",
       "      <td>2</td>\n",
       "      <td>2</td>\n",
       "      <td>2</td>\n",
       "      <td>2</td>\n",
       "    </tr>\n",
       "    <tr>\n",
       "      <th>1</th>\n",
       "      <td>0.602763</td>\n",
       "      <td>0.544883</td>\n",
       "      <td>2</td>\n",
       "      <td>0</td>\n",
       "      <td>0.322200</td>\n",
       "      <td>2.393922</td>\n",
       "      <td>2.071722</td>\n",
       "      <td>0</td>\n",
       "      <td>1.809118</td>\n",
       "      <td>1.486919</td>\n",
       "      <td>762</td>\n",
       "      <td>203</td>\n",
       "      <td>2</td>\n",
       "      <td>1</td>\n",
       "      <td>2</td>\n",
       "      <td>2</td>\n",
       "      <td>2</td>\n",
       "      <td>2</td>\n",
       "    </tr>\n",
       "  </tbody>\n",
       "</table>\n",
       "</div>"
      ],
      "text/plain": [
       "         x0        x1  C  Treatment         Y       Ycf       ITE  IS_TEST  \\\n",
       "0  0.548814  0.715189  2          0  2.663514 -1.553727 -4.217241        1   \n",
       "1  0.602763  0.544883  2          0  0.322200  2.393922  2.071722        0   \n",
       "\n",
       "   Ycf-GDBR  ITE-GDBR  Box-Cluster  Kmeans-Cluster  ITE-2CTrue  ITE-2CGDBR  \\\n",
       "0  2.086240 -0.577274          982             675           0           0   \n",
       "1  1.809118  1.486919          762             203           2           1   \n",
       "\n",
       "   Box-Cl2  Kmeans-Cl2  Box2-Cl2  Kmeans2-Cl2  \n",
       "0        2           2         2            2  \n",
       "1        2           2         2            2  "
      ]
     },
     "execution_count": 39,
     "metadata": {},
     "output_type": "execute_result"
    }
   ],
   "source": [
    "data2.head(2)"
   ]
  },
  {
   "cell_type": "markdown",
   "metadata": {},
   "source": [
    "### Plot reconstruction of data"
   ]
  },
  {
   "cell_type": "code",
   "execution_count": 40,
   "metadata": {},
   "outputs": [
    {
     "data": {
      "image/png": "[encoded data removed]",
      "text/plain": [
       "<Figure size 432x288 with 1 Axes>"
      ]
     },
     "metadata": {
      "needs_background": "light"
     },
     "output_type": "display_data"
    },
    {
     "data": {
      "image/png": "[encoded data removed]",
      "text/plain": [
       "<Figure size 432x288 with 1 Axes>"
      ]
     },
     "metadata": {
      "needs_background": "light"
     },
     "output_type": "display_data"
    },
    {
     "data": {
      "image/png": "[encoded data removed]",
      "text/plain": [
       "<Figure size 432x288 with 1 Axes>"
      ]
     },
     "metadata": {
      "needs_background": "light"
     },
     "output_type": "display_data"
    },
    {
     "data": {
      "image/png": "[encoded data removed]",
      "text/plain": [
       "<Figure size 432x288 with 1 Axes>"
      ]
     },
     "metadata": {
      "needs_background": "light"
     },
     "output_type": "display_data"
    },
    {
     "data": {
      "image/png": "[encoded data removed]",
      "text/plain": [
       "<Figure size 432x288 with 1 Axes>"
      ]
     },
     "metadata": {
      "needs_background": "light"
     },
     "output_type": "display_data"
    },
    {
     "data": {
      "image/png": "[encoded data removed]",
      "text/plain": [
       "<Figure size 432x288 with 1 Axes>"
      ]
     },
     "metadata": {
      "needs_background": "light"
     },
     "output_type": "display_data"
    },
    {
     "name": "stdout",
     "output_type": "stream",
     "text": [
      "CPU times: user 11min 41s, sys: 13.5 s, total: 11min 54s\n",
      "Wall time: 11min 41s\n"
     ]
    }
   ],
   "source": [
    "%%time\n",
    "#class_names1 = ['Box-Cl2', 'Kmeans-Cl2', 'Agglo-Cl2', 'Box2-Cl2',\n",
    "                #'Kmeans2-Cl2', 'Agglo2-Cl2', 'ITE-CTrue', 'ITE-CGDBR']\n",
    "\n",
    "class_names2 = ['Box-Cl2', 'Kmeans-Cl2',  'Box2-Cl2', 'Kmeans2-Cl2','ITE-2CTrue', 'ITE-2CGDBR']\n",
    "\n",
    "\n",
    "#patth to save\n",
    "path3 = path_figs+'reconstruction/'\n",
    "Path(path3).mkdir(exist_ok = True, parents = True)\n",
    "use_poly = False\n",
    "for name in class_names2:\n",
    "    #data2.plot.scatter(x='x0', y='x1', c=name, colormap='inferno')\n",
    "    fig, ax = plt.subplots()\n",
    "    if not use_poly:\n",
    "        sc = ax.scatter(data2['x0'].values, data2['x1'].values, c=data2[name].values, cmap = 'Greys', s = 1)\n",
    "    else:\n",
    "        polygons, colors = generate_paths(K, Cdraw = avg_c, Cdraw_name=name)\n",
    "        coll = mpl.collections.PolyCollection(polygons)\n",
    "        coll.set(array = np.array(colors), cmap = 'Greys')\n",
    "        ax.add_collection(coll)\n",
    "        ax.figure.colorbar(coll)\n",
    "    #ax.set_title(name)\n",
    "    #fig.colorbar(sc)\n",
    "    if save:\n",
    "        ax.set_aspect('equal', adjustable='box')\n",
    "        fig.savefig(path3+'{}.jpeg'.format(name), bbox_inches='tight',pad_inches = 0)\n",
    "\n",
    "    plt.show()\n",
    "    "
   ]
  },
  {
   "cell_type": "code",
   "execution_count": 41,
   "metadata": {},
   "outputs": [],
   "source": [
    "def MAE_pd(group, name1,name2,column_name):\n",
    "    \n",
    "    group[column_name] = np.abs(group[name1].values-group[name2].mean())\n",
    "    return group\n",
    "    \n",
    "    "
   ]
  },
  {
   "cell_type": "code",
   "execution_count": 42,
   "metadata": {},
   "outputs": [],
   "source": [
    "ite_column = 'ITE-GDBR'\n",
    "\n",
    "for clust2 in class_names2:\n",
    "    data2 = data2.groupby(clust2).apply(lambda x: MAE_pd(x, 'C', ite_column, clust2+'-err-GDBR'))"
   ]
  },
  {
   "cell_type": "code",
   "execution_count": 43,
   "metadata": {},
   "outputs": [],
   "source": [
    "ite_column = 'ITE'\n",
    "\n",
    "for clust2 in class_names2:\n",
    "    data2 = data2.groupby(clust2).apply(lambda x: MAE_pd(x, 'C', ite_column, clust2+'-err-True-ITE'))"
   ]
  },
  {
   "cell_type": "code",
   "execution_count": 44,
   "metadata": {},
   "outputs": [],
   "source": [
    "errors = data2.describe().loc[['mean', 'std'], [col for col in data2.columns if 'err' in col]].T"
   ]
  },
  {
   "cell_type": "code",
   "execution_count": 45,
   "metadata": {},
   "outputs": [
    {
     "data": {
      "text/html": [
       "<div>\n",
       "<style scoped>\n",
       "    .dataframe tbody tr th:only-of-type {\n",
       "        vertical-align: middle;\n",
       "    }\n",
       "\n",
       "    .dataframe tbody tr th {\n",
       "        vertical-align: top;\n",
       "    }\n",
       "\n",
       "    .dataframe thead th {\n",
       "        text-align: right;\n",
       "    }\n",
       "</style>\n",
       "<table border=\"1\" class=\"dataframe\">\n",
       "  <thead>\n",
       "    <tr style=\"text-align: right;\">\n",
       "      <th></th>\n",
       "      <th>mean</th>\n",
       "      <th>std</th>\n",
       "    </tr>\n",
       "  </thead>\n",
       "  <tbody>\n",
       "    <tr>\n",
       "      <th>Kmeans-Cl2-err-True-ITE</th>\n",
       "      <td>0.051746</td>\n",
       "      <td>0.177076</td>\n",
       "    </tr>\n",
       "    <tr>\n",
       "      <th>Kmeans-Cl2-err-GDBR</th>\n",
       "      <td>0.054277</td>\n",
       "      <td>0.176343</td>\n",
       "    </tr>\n",
       "    <tr>\n",
       "      <th>Kmeans2-Cl2-err-GDBR</th>\n",
       "      <td>0.054616</td>\n",
       "      <td>0.176864</td>\n",
       "    </tr>\n",
       "    <tr>\n",
       "      <th>Kmeans2-Cl2-err-True-ITE</th>\n",
       "      <td>0.055052</td>\n",
       "      <td>0.176703</td>\n",
       "    </tr>\n",
       "    <tr>\n",
       "      <th>Box2-Cl2-err-GDBR</th>\n",
       "      <td>0.060131</td>\n",
       "      <td>0.189726</td>\n",
       "    </tr>\n",
       "    <tr>\n",
       "      <th>Box2-Cl2-err-True-ITE</th>\n",
       "      <td>0.061294</td>\n",
       "      <td>0.189337</td>\n",
       "    </tr>\n",
       "    <tr>\n",
       "      <th>Box-Cl2-err-GDBR</th>\n",
       "      <td>0.066413</td>\n",
       "      <td>0.188476</td>\n",
       "    </tr>\n",
       "    <tr>\n",
       "      <th>Box-Cl2-err-True-ITE</th>\n",
       "      <td>0.066441</td>\n",
       "      <td>0.188457</td>\n",
       "    </tr>\n",
       "    <tr>\n",
       "      <th>ITE-2CTrue-err-GDBR</th>\n",
       "      <td>1.154431</td>\n",
       "      <td>0.780993</td>\n",
       "    </tr>\n",
       "    <tr>\n",
       "      <th>ITE-2CGDBR-err-True-ITE</th>\n",
       "      <td>1.532777</td>\n",
       "      <td>0.832463</td>\n",
       "    </tr>\n",
       "    <tr>\n",
       "      <th>ITE-2CGDBR-err-GDBR</th>\n",
       "      <td>1.572898</td>\n",
       "      <td>0.843467</td>\n",
       "    </tr>\n",
       "    <tr>\n",
       "      <th>ITE-2CTrue-err-True-ITE</th>\n",
       "      <td>2.221220</td>\n",
       "      <td>0.977034</td>\n",
       "    </tr>\n",
       "  </tbody>\n",
       "</table>\n",
       "</div>"
      ],
      "text/plain": [
       "                              mean       std\n",
       "Kmeans-Cl2-err-True-ITE   0.051746  0.177076\n",
       "Kmeans-Cl2-err-GDBR       0.054277  0.176343\n",
       "Kmeans2-Cl2-err-GDBR      0.054616  0.176864\n",
       "Kmeans2-Cl2-err-True-ITE  0.055052  0.176703\n",
       "Box2-Cl2-err-GDBR         0.060131  0.189726\n",
       "Box2-Cl2-err-True-ITE     0.061294  0.189337\n",
       "Box-Cl2-err-GDBR          0.066413  0.188476\n",
       "Box-Cl2-err-True-ITE      0.066441  0.188457\n",
       "ITE-2CTrue-err-GDBR       1.154431  0.780993\n",
       "ITE-2CGDBR-err-True-ITE   1.532777  0.832463\n",
       "ITE-2CGDBR-err-GDBR       1.572898  0.843467\n",
       "ITE-2CTrue-err-True-ITE   2.221220  0.977034"
      ]
     },
     "execution_count": 45,
     "metadata": {},
     "output_type": "execute_result"
    }
   ],
   "source": [
    "errors.sort_values(by = 'mean')"
   ]
  },
  {
   "cell_type": "code",
   "execution_count": 46,
   "metadata": {},
   "outputs": [
    {
     "data": {
      "image/png": "[encoded data removed]",
      "text/plain": [
       "<Figure size 432x288 with 1 Axes>"
      ]
     },
     "metadata": {
      "needs_background": "light"
     },
     "output_type": "display_data"
    }
   ],
   "source": [
    "ax = errors['mean'].sort_values().plot.barh()\n",
    "plt.show()"
   ]
  },
  {
   "cell_type": "code",
   "execution_count": 47,
   "metadata": {},
   "outputs": [],
   "source": [
    "from evaluations import confusion_matrix\n",
    "    "
   ]
  },
  {
   "cell_type": "code",
   "execution_count": 48,
   "metadata": {},
   "outputs": [
    {
     "name": "stdout",
     "output_type": "stream",
     "text": [
      "Box-Cl2\n"
     ]
    },
    {
     "data": {
      "text/html": [
       "<div>\n",
       "<style scoped>\n",
       "    .dataframe tbody tr th:only-of-type {\n",
       "        vertical-align: middle;\n",
       "    }\n",
       "\n",
       "    .dataframe tbody tr th {\n",
       "        vertical-align: top;\n",
       "    }\n",
       "\n",
       "    .dataframe thead th {\n",
       "        text-align: right;\n",
       "    }\n",
       "</style>\n",
       "<table border=\"1\" class=\"dataframe\">\n",
       "  <thead>\n",
       "    <tr style=\"text-align: right;\">\n",
       "      <th></th>\n",
       "      <th>C0 Pred</th>\n",
       "      <th>C1 Pred</th>\n",
       "      <th>C2 Pred</th>\n",
       "    </tr>\n",
       "  </thead>\n",
       "  <tbody>\n",
       "    <tr>\n",
       "      <th>C0 True</th>\n",
       "      <td>0.980755</td>\n",
       "      <td>0.019245</td>\n",
       "      <td>0.00000</td>\n",
       "    </tr>\n",
       "    <tr>\n",
       "      <th>C1 True</th>\n",
       "      <td>0.051645</td>\n",
       "      <td>0.928235</td>\n",
       "      <td>0.02012</td>\n",
       "    </tr>\n",
       "    <tr>\n",
       "      <th>C2 True</th>\n",
       "      <td>0.000000</td>\n",
       "      <td>0.031910</td>\n",
       "      <td>0.96809</td>\n",
       "    </tr>\n",
       "  </tbody>\n",
       "</table>\n",
       "</div>"
      ],
      "text/plain": [
       "          C0 Pred   C1 Pred  C2 Pred\n",
       "C0 True  0.980755  0.019245  0.00000\n",
       "C1 True  0.051645  0.928235  0.02012\n",
       "C2 True  0.000000  0.031910  0.96809"
      ]
     },
     "metadata": {},
     "output_type": "display_data"
    },
    {
     "name": "stdout",
     "output_type": "stream",
     "text": [
      "Kmeans-Cl2\n"
     ]
    },
    {
     "data": {
      "text/html": [
       "<div>\n",
       "<style scoped>\n",
       "    .dataframe tbody tr th:only-of-type {\n",
       "        vertical-align: middle;\n",
       "    }\n",
       "\n",
       "    .dataframe tbody tr th {\n",
       "        vertical-align: top;\n",
       "    }\n",
       "\n",
       "    .dataframe thead th {\n",
       "        text-align: right;\n",
       "    }\n",
       "</style>\n",
       "<table border=\"1\" class=\"dataframe\">\n",
       "  <thead>\n",
       "    <tr style=\"text-align: right;\">\n",
       "      <th></th>\n",
       "      <th>C0 Pred</th>\n",
       "      <th>C1 Pred</th>\n",
       "      <th>C2 Pred</th>\n",
       "    </tr>\n",
       "  </thead>\n",
       "  <tbody>\n",
       "    <tr>\n",
       "      <th>C0 True</th>\n",
       "      <td>0.970919</td>\n",
       "      <td>0.029081</td>\n",
       "      <td>0.000000</td>\n",
       "    </tr>\n",
       "    <tr>\n",
       "      <th>C1 True</th>\n",
       "      <td>0.031289</td>\n",
       "      <td>0.947659</td>\n",
       "      <td>0.021052</td>\n",
       "    </tr>\n",
       "    <tr>\n",
       "      <th>C2 True</th>\n",
       "      <td>0.000000</td>\n",
       "      <td>0.022130</td>\n",
       "      <td>0.977870</td>\n",
       "    </tr>\n",
       "  </tbody>\n",
       "</table>\n",
       "</div>"
      ],
      "text/plain": [
       "          C0 Pred   C1 Pred   C2 Pred\n",
       "C0 True  0.970919  0.029081  0.000000\n",
       "C1 True  0.031289  0.947659  0.021052\n",
       "C2 True  0.000000  0.022130  0.977870"
      ]
     },
     "metadata": {},
     "output_type": "display_data"
    },
    {
     "name": "stdout",
     "output_type": "stream",
     "text": [
      "Box2-Cl2\n"
     ]
    },
    {
     "data": {
      "text/html": [
       "<div>\n",
       "<style scoped>\n",
       "    .dataframe tbody tr th:only-of-type {\n",
       "        vertical-align: middle;\n",
       "    }\n",
       "\n",
       "    .dataframe tbody tr th {\n",
       "        vertical-align: top;\n",
       "    }\n",
       "\n",
       "    .dataframe thead th {\n",
       "        text-align: right;\n",
       "    }\n",
       "</style>\n",
       "<table border=\"1\" class=\"dataframe\">\n",
       "  <thead>\n",
       "    <tr style=\"text-align: right;\">\n",
       "      <th></th>\n",
       "      <th>C0 Pred</th>\n",
       "      <th>C1 Pred</th>\n",
       "      <th>C2 Pred</th>\n",
       "    </tr>\n",
       "  </thead>\n",
       "  <tbody>\n",
       "    <tr>\n",
       "      <th>C0 True</th>\n",
       "      <td>0.972873</td>\n",
       "      <td>0.027127</td>\n",
       "      <td>0.000000</td>\n",
       "    </tr>\n",
       "    <tr>\n",
       "      <th>C1 True</th>\n",
       "      <td>0.041983</td>\n",
       "      <td>0.934563</td>\n",
       "      <td>0.023454</td>\n",
       "    </tr>\n",
       "    <tr>\n",
       "      <th>C2 True</th>\n",
       "      <td>0.000000</td>\n",
       "      <td>0.028522</td>\n",
       "      <td>0.971478</td>\n",
       "    </tr>\n",
       "  </tbody>\n",
       "</table>\n",
       "</div>"
      ],
      "text/plain": [
       "          C0 Pred   C1 Pred   C2 Pred\n",
       "C0 True  0.972873  0.027127  0.000000\n",
       "C1 True  0.041983  0.934563  0.023454\n",
       "C2 True  0.000000  0.028522  0.971478"
      ]
     },
     "metadata": {},
     "output_type": "display_data"
    },
    {
     "name": "stdout",
     "output_type": "stream",
     "text": [
      "Kmeans2-Cl2\n"
     ]
    },
    {
     "data": {
      "text/html": [
       "<div>\n",
       "<style scoped>\n",
       "    .dataframe tbody tr th:only-of-type {\n",
       "        vertical-align: middle;\n",
       "    }\n",
       "\n",
       "    .dataframe tbody tr th {\n",
       "        vertical-align: top;\n",
       "    }\n",
       "\n",
       "    .dataframe thead th {\n",
       "        text-align: right;\n",
       "    }\n",
       "</style>\n",
       "<table border=\"1\" class=\"dataframe\">\n",
       "  <thead>\n",
       "    <tr style=\"text-align: right;\">\n",
       "      <th></th>\n",
       "      <th>C0 Pred</th>\n",
       "      <th>C1 Pred</th>\n",
       "      <th>C2 Pred</th>\n",
       "    </tr>\n",
       "  </thead>\n",
       "  <tbody>\n",
       "    <tr>\n",
       "      <th>C0 True</th>\n",
       "      <td>0.979633</td>\n",
       "      <td>0.020367</td>\n",
       "      <td>0.000000</td>\n",
       "    </tr>\n",
       "    <tr>\n",
       "      <th>C1 True</th>\n",
       "      <td>0.040731</td>\n",
       "      <td>0.937010</td>\n",
       "      <td>0.022259</td>\n",
       "    </tr>\n",
       "    <tr>\n",
       "      <th>C2 True</th>\n",
       "      <td>0.000000</td>\n",
       "      <td>0.021509</td>\n",
       "      <td>0.978491</td>\n",
       "    </tr>\n",
       "  </tbody>\n",
       "</table>\n",
       "</div>"
      ],
      "text/plain": [
       "          C0 Pred   C1 Pred   C2 Pred\n",
       "C0 True  0.979633  0.020367  0.000000\n",
       "C1 True  0.040731  0.937010  0.022259\n",
       "C2 True  0.000000  0.021509  0.978491"
      ]
     },
     "metadata": {},
     "output_type": "display_data"
    },
    {
     "name": "stdout",
     "output_type": "stream",
     "text": [
      "ITE-2CTrue\n"
     ]
    },
    {
     "data": {
      "text/html": [
       "<div>\n",
       "<style scoped>\n",
       "    .dataframe tbody tr th:only-of-type {\n",
       "        vertical-align: middle;\n",
       "    }\n",
       "\n",
       "    .dataframe tbody tr th {\n",
       "        vertical-align: top;\n",
       "    }\n",
       "\n",
       "    .dataframe thead th {\n",
       "        text-align: right;\n",
       "    }\n",
       "</style>\n",
       "<table border=\"1\" class=\"dataframe\">\n",
       "  <thead>\n",
       "    <tr style=\"text-align: right;\">\n",
       "      <th></th>\n",
       "      <th>C0 Pred</th>\n",
       "      <th>C1 Pred</th>\n",
       "      <th>C2 Pred</th>\n",
       "    </tr>\n",
       "  </thead>\n",
       "  <tbody>\n",
       "    <tr>\n",
       "      <th>C0 True</th>\n",
       "      <td>0.569925</td>\n",
       "      <td>0.131868</td>\n",
       "      <td>0.298207</td>\n",
       "    </tr>\n",
       "    <tr>\n",
       "      <th>C1 True</th>\n",
       "      <td>0.430127</td>\n",
       "      <td>0.140571</td>\n",
       "      <td>0.429302</td>\n",
       "    </tr>\n",
       "    <tr>\n",
       "      <th>C2 True</th>\n",
       "      <td>0.297624</td>\n",
       "      <td>0.132142</td>\n",
       "      <td>0.570234</td>\n",
       "    </tr>\n",
       "  </tbody>\n",
       "</table>\n",
       "</div>"
      ],
      "text/plain": [
       "          C0 Pred   C1 Pred   C2 Pred\n",
       "C0 True  0.569925  0.131868  0.298207\n",
       "C1 True  0.430127  0.140571  0.429302\n",
       "C2 True  0.297624  0.132142  0.570234"
      ]
     },
     "metadata": {},
     "output_type": "display_data"
    },
    {
     "name": "stdout",
     "output_type": "stream",
     "text": [
      "ITE-2CGDBR\n"
     ]
    },
    {
     "data": {
      "text/html": [
       "<div>\n",
       "<style scoped>\n",
       "    .dataframe tbody tr th:only-of-type {\n",
       "        vertical-align: middle;\n",
       "    }\n",
       "\n",
       "    .dataframe tbody tr th {\n",
       "        vertical-align: top;\n",
       "    }\n",
       "\n",
       "    .dataframe thead th {\n",
       "        text-align: right;\n",
       "    }\n",
       "</style>\n",
       "<table border=\"1\" class=\"dataframe\">\n",
       "  <thead>\n",
       "    <tr style=\"text-align: right;\">\n",
       "      <th></th>\n",
       "      <th>C0 Pred</th>\n",
       "      <th>C1 Pred</th>\n",
       "      <th>C2 Pred</th>\n",
       "    </tr>\n",
       "  </thead>\n",
       "  <tbody>\n",
       "    <tr>\n",
       "      <th>C0 True</th>\n",
       "      <td>0.594961</td>\n",
       "      <td>0.171665</td>\n",
       "      <td>0.233374</td>\n",
       "    </tr>\n",
       "    <tr>\n",
       "      <th>C1 True</th>\n",
       "      <td>0.403531</td>\n",
       "      <td>0.194544</td>\n",
       "      <td>0.401925</td>\n",
       "    </tr>\n",
       "    <tr>\n",
       "      <th>C2 True</th>\n",
       "      <td>0.227674</td>\n",
       "      <td>0.173996</td>\n",
       "      <td>0.598330</td>\n",
       "    </tr>\n",
       "  </tbody>\n",
       "</table>\n",
       "</div>"
      ],
      "text/plain": [
       "          C0 Pred   C1 Pred   C2 Pred\n",
       "C0 True  0.594961  0.171665  0.233374\n",
       "C1 True  0.403531  0.194544  0.401925\n",
       "C2 True  0.227674  0.173996  0.598330"
      ]
     },
     "metadata": {},
     "output_type": "display_data"
    }
   ],
   "source": [
    "from IPython.display import display\n",
    "\n",
    "path4 = path_figs+'matrices/'\n",
    "Path(path4).mkdir(exist_ok = True)\n",
    "for name in class_names2:\n",
    "    mat = confusion_matrix(data2, 'C', name, 3, save = True, save_dir = path4)\n",
    "    print(name)\n",
    "    display(mat)"
   ]
  },
  {
   "cell_type": "code",
   "execution_count": 49,
   "metadata": {},
   "outputs": [
    {
     "data": {
      "text/html": [
       "<div>\n",
       "<style scoped>\n",
       "    .dataframe tbody tr th:only-of-type {\n",
       "        vertical-align: middle;\n",
       "    }\n",
       "\n",
       "    .dataframe tbody tr th {\n",
       "        vertical-align: top;\n",
       "    }\n",
       "\n",
       "    .dataframe thead th {\n",
       "        text-align: right;\n",
       "    }\n",
       "</style>\n",
       "<table border=\"1\" class=\"dataframe\">\n",
       "  <thead>\n",
       "    <tr style=\"text-align: right;\">\n",
       "      <th></th>\n",
       "      <th>x0</th>\n",
       "      <th>x1</th>\n",
       "      <th>C</th>\n",
       "      <th>Treatment</th>\n",
       "      <th>Y</th>\n",
       "      <th>Ycf</th>\n",
       "      <th>ITE</th>\n",
       "      <th>IS_TEST</th>\n",
       "      <th>Ycf-GDBR</th>\n",
       "      <th>ITE-GDBR</th>\n",
       "      <th>Box-Cluster</th>\n",
       "      <th>Kmeans-Cluster</th>\n",
       "      <th>ITE-2CTrue</th>\n",
       "      <th>Box-Cl2</th>\n",
       "      <th>Kmeans-Cl2</th>\n",
       "      <th>Box2-Cl2</th>\n",
       "      <th>Kmeans2-Cl2</th>\n",
       "      <th>Box-Cl2-err-GDBR</th>\n",
       "      <th>Kmeans-Cl2-err-GDBR</th>\n",
       "      <th>Box2-Cl2-err-GDBR</th>\n",
       "      <th>Kmeans2-Cl2-err-GDBR</th>\n",
       "      <th>ITE-2CTrue-err-GDBR</th>\n",
       "      <th>ITE-2CGDBR-err-GDBR</th>\n",
       "      <th>Box-Cl2-err-True-ITE</th>\n",
       "      <th>Kmeans-Cl2-err-True-ITE</th>\n",
       "      <th>Box2-Cl2-err-True-ITE</th>\n",
       "      <th>Kmeans2-Cl2-err-True-ITE</th>\n",
       "      <th>ITE-2CTrue-err-True-ITE</th>\n",
       "      <th>ITE-2CGDBR-err-True-ITE</th>\n",
       "    </tr>\n",
       "    <tr>\n",
       "      <th>ITE-2CGDBR</th>\n",
       "      <th></th>\n",
       "      <th></th>\n",
       "      <th></th>\n",
       "      <th></th>\n",
       "      <th></th>\n",
       "      <th></th>\n",
       "      <th></th>\n",
       "      <th></th>\n",
       "      <th></th>\n",
       "      <th></th>\n",
       "      <th></th>\n",
       "      <th></th>\n",
       "      <th></th>\n",
       "      <th></th>\n",
       "      <th></th>\n",
       "      <th></th>\n",
       "      <th></th>\n",
       "      <th></th>\n",
       "      <th></th>\n",
       "      <th></th>\n",
       "      <th></th>\n",
       "      <th></th>\n",
       "      <th></th>\n",
       "      <th></th>\n",
       "      <th></th>\n",
       "      <th></th>\n",
       "      <th></th>\n",
       "      <th></th>\n",
       "      <th></th>\n",
       "    </tr>\n",
       "  </thead>\n",
       "  <tbody>\n",
       "    <tr>\n",
       "      <th>0</th>\n",
       "      <td>0.317775</td>\n",
       "      <td>0.317848</td>\n",
       "      <td>0.762295</td>\n",
       "      <td>0.5</td>\n",
       "      <td>1.858775</td>\n",
       "      <td>2.076862</td>\n",
       "      <td>2.351351</td>\n",
       "      <td>0.400496</td>\n",
       "      <td>0.654914</td>\n",
       "      <td>1.232697</td>\n",
       "      <td>435.027635</td>\n",
       "      <td>395.667223</td>\n",
       "      <td>0.719798</td>\n",
       "      <td>0.764683</td>\n",
       "      <td>0.763838</td>\n",
       "      <td>0.764494</td>\n",
       "      <td>0.766210</td>\n",
       "      <td>0.184924</td>\n",
       "      <td>0.178913</td>\n",
       "      <td>0.189233</td>\n",
       "      <td>0.176781</td>\n",
       "      <td>0.773051</td>\n",
       "      <td>0.762295</td>\n",
       "      <td>0.185160</td>\n",
       "      <td>0.179994</td>\n",
       "      <td>0.189130</td>\n",
       "      <td>0.176875</td>\n",
       "      <td>0.950688</td>\n",
       "      <td>0.762295</td>\n",
       "    </tr>\n",
       "    <tr>\n",
       "      <th>1</th>\n",
       "      <td>0.288269</td>\n",
       "      <td>0.287771</td>\n",
       "      <td>0.799828</td>\n",
       "      <td>0.5</td>\n",
       "      <td>0.778138</td>\n",
       "      <td>2.113960</td>\n",
       "      <td>2.045109</td>\n",
       "      <td>0.399265</td>\n",
       "      <td>0.750284</td>\n",
       "      <td>0.287677</td>\n",
       "      <td>393.998503</td>\n",
       "      <td>394.392134</td>\n",
       "      <td>0.898309</td>\n",
       "      <td>0.805122</td>\n",
       "      <td>0.800882</td>\n",
       "      <td>0.802976</td>\n",
       "      <td>0.805079</td>\n",
       "      <td>0.190070</td>\n",
       "      <td>0.176897</td>\n",
       "      <td>0.191064</td>\n",
       "      <td>0.178453</td>\n",
       "      <td>0.810214</td>\n",
       "      <td>0.480045</td>\n",
       "      <td>0.190044</td>\n",
       "      <td>0.177646</td>\n",
       "      <td>0.190655</td>\n",
       "      <td>0.178280</td>\n",
       "      <td>1.093801</td>\n",
       "      <td>0.475109</td>\n",
       "    </tr>\n",
       "    <tr>\n",
       "      <th>2</th>\n",
       "      <td>0.256842</td>\n",
       "      <td>0.256723</td>\n",
       "      <td>0.765881</td>\n",
       "      <td>0.5</td>\n",
       "      <td>2.677864</td>\n",
       "      <td>2.152386</td>\n",
       "      <td>2.354243</td>\n",
       "      <td>0.399828</td>\n",
       "      <td>0.869264</td>\n",
       "      <td>1.221800</td>\n",
       "      <td>351.594598</td>\n",
       "      <td>394.361964</td>\n",
       "      <td>0.720711</td>\n",
       "      <td>0.775982</td>\n",
       "      <td>0.769093</td>\n",
       "      <td>0.772120</td>\n",
       "      <td>0.773991</td>\n",
       "      <td>0.191156</td>\n",
       "      <td>0.173417</td>\n",
       "      <td>0.189554</td>\n",
       "      <td>0.176155</td>\n",
       "      <td>0.770693</td>\n",
       "      <td>0.765881</td>\n",
       "      <td>0.190926</td>\n",
       "      <td>0.173820</td>\n",
       "      <td>0.188918</td>\n",
       "      <td>0.175778</td>\n",
       "      <td>0.947556</td>\n",
       "      <td>0.765881</td>\n",
       "    </tr>\n",
       "  </tbody>\n",
       "</table>\n",
       "</div>"
      ],
      "text/plain": [
       "                  x0        x1         C  Treatment         Y       Ycf  \\\n",
       "ITE-2CGDBR                                                                \n",
       "0           0.317775  0.317848  0.762295        0.5  1.858775  2.076862   \n",
       "1           0.288269  0.287771  0.799828        0.5  0.778138  2.113960   \n",
       "2           0.256842  0.256723  0.765881        0.5  2.677864  2.152386   \n",
       "\n",
       "                 ITE   IS_TEST  Ycf-GDBR  ITE-GDBR  Box-Cluster  \\\n",
       "ITE-2CGDBR                                                        \n",
       "0           2.351351  0.400496  0.654914  1.232697   435.027635   \n",
       "1           2.045109  0.399265  0.750284  0.287677   393.998503   \n",
       "2           2.354243  0.399828  0.869264  1.221800   351.594598   \n",
       "\n",
       "            Kmeans-Cluster  ITE-2CTrue   Box-Cl2  Kmeans-Cl2  Box2-Cl2  \\\n",
       "ITE-2CGDBR                                                               \n",
       "0               395.667223    0.719798  0.764683    0.763838  0.764494   \n",
       "1               394.392134    0.898309  0.805122    0.800882  0.802976   \n",
       "2               394.361964    0.720711  0.775982    0.769093  0.772120   \n",
       "\n",
       "            Kmeans2-Cl2  Box-Cl2-err-GDBR  Kmeans-Cl2-err-GDBR  \\\n",
       "ITE-2CGDBR                                                       \n",
       "0              0.766210          0.184924             0.178913   \n",
       "1              0.805079          0.190070             0.176897   \n",
       "2              0.773991          0.191156             0.173417   \n",
       "\n",
       "            Box2-Cl2-err-GDBR  Kmeans2-Cl2-err-GDBR  ITE-2CTrue-err-GDBR  \\\n",
       "ITE-2CGDBR                                                                 \n",
       "0                    0.189233              0.176781             0.773051   \n",
       "1                    0.191064              0.178453             0.810214   \n",
       "2                    0.189554              0.176155             0.770693   \n",
       "\n",
       "            ITE-2CGDBR-err-GDBR  Box-Cl2-err-True-ITE  \\\n",
       "ITE-2CGDBR                                              \n",
       "0                      0.762295              0.185160   \n",
       "1                      0.480045              0.190044   \n",
       "2                      0.765881              0.190926   \n",
       "\n",
       "            Kmeans-Cl2-err-True-ITE  Box2-Cl2-err-True-ITE  \\\n",
       "ITE-2CGDBR                                                   \n",
       "0                          0.179994               0.189130   \n",
       "1                          0.177646               0.190655   \n",
       "2                          0.173820               0.188918   \n",
       "\n",
       "            Kmeans2-Cl2-err-True-ITE  ITE-2CTrue-err-True-ITE  \\\n",
       "ITE-2CGDBR                                                      \n",
       "0                           0.176875                 0.950688   \n",
       "1                           0.178280                 1.093801   \n",
       "2                           0.175778                 0.947556   \n",
       "\n",
       "            ITE-2CGDBR-err-True-ITE  \n",
       "ITE-2CGDBR                           \n",
       "0                          0.762295  \n",
       "1                          0.475109  \n",
       "2                          0.765881  "
      ]
     },
     "execution_count": 49,
     "metadata": {},
     "output_type": "execute_result"
    }
   ],
   "source": [
    "data2.groupby('ITE-2CGDBR').std()"
   ]
  },
  {
   "cell_type": "code",
   "execution_count": 50,
   "metadata": {},
   "outputs": [
    {
     "data": {
      "text/html": [
       "<div>\n",
       "<style scoped>\n",
       "    .dataframe tbody tr th:only-of-type {\n",
       "        vertical-align: middle;\n",
       "    }\n",
       "\n",
       "    .dataframe tbody tr th {\n",
       "        vertical-align: top;\n",
       "    }\n",
       "\n",
       "    .dataframe thead th {\n",
       "        text-align: right;\n",
       "    }\n",
       "</style>\n",
       "<table border=\"1\" class=\"dataframe\">\n",
       "  <thead>\n",
       "    <tr style=\"text-align: right;\">\n",
       "      <th></th>\n",
       "      <th>x0</th>\n",
       "      <th>x1</th>\n",
       "      <th>C</th>\n",
       "      <th>Treatment</th>\n",
       "      <th>Y</th>\n",
       "      <th>Ycf</th>\n",
       "      <th>ITE</th>\n",
       "      <th>IS_TEST</th>\n",
       "      <th>Ycf-GDBR</th>\n",
       "      <th>ITE-GDBR</th>\n",
       "      <th>Box-Cluster</th>\n",
       "      <th>Kmeans-Cluster</th>\n",
       "      <th>ITE-2CTrue</th>\n",
       "      <th>Box-Cl2</th>\n",
       "      <th>Kmeans-Cl2</th>\n",
       "      <th>Box2-Cl2</th>\n",
       "      <th>Kmeans2-Cl2</th>\n",
       "      <th>Box-Cl2-err-GDBR</th>\n",
       "      <th>Kmeans-Cl2-err-GDBR</th>\n",
       "      <th>Box2-Cl2-err-GDBR</th>\n",
       "      <th>Kmeans2-Cl2-err-GDBR</th>\n",
       "      <th>ITE-2CTrue-err-GDBR</th>\n",
       "      <th>ITE-2CGDBR-err-GDBR</th>\n",
       "      <th>Box-Cl2-err-True-ITE</th>\n",
       "      <th>Kmeans-Cl2-err-True-ITE</th>\n",
       "      <th>Box2-Cl2-err-True-ITE</th>\n",
       "      <th>Kmeans2-Cl2-err-True-ITE</th>\n",
       "      <th>ITE-2CTrue-err-True-ITE</th>\n",
       "      <th>ITE-2CGDBR-err-True-ITE</th>\n",
       "    </tr>\n",
       "    <tr>\n",
       "      <th>ITE-2CGDBR</th>\n",
       "      <th></th>\n",
       "      <th></th>\n",
       "      <th></th>\n",
       "      <th></th>\n",
       "      <th></th>\n",
       "      <th></th>\n",
       "      <th></th>\n",
       "      <th></th>\n",
       "      <th></th>\n",
       "      <th></th>\n",
       "      <th></th>\n",
       "      <th></th>\n",
       "      <th></th>\n",
       "      <th></th>\n",
       "      <th></th>\n",
       "      <th></th>\n",
       "      <th></th>\n",
       "      <th></th>\n",
       "      <th></th>\n",
       "      <th></th>\n",
       "      <th></th>\n",
       "      <th></th>\n",
       "      <th></th>\n",
       "      <th></th>\n",
       "      <th></th>\n",
       "      <th></th>\n",
       "      <th></th>\n",
       "      <th></th>\n",
       "      <th></th>\n",
       "    </tr>\n",
       "  </thead>\n",
       "  <tbody>\n",
       "    <tr>\n",
       "      <th>0</th>\n",
       "      <td>0.499530</td>\n",
       "      <td>0.500233</td>\n",
       "      <td>0.700532</td>\n",
       "      <td>0.499291</td>\n",
       "      <td>0.834311</td>\n",
       "      <td>0.839372</td>\n",
       "      <td>-1.027983</td>\n",
       "      <td>0.200662</td>\n",
       "      <td>0.834403</td>\n",
       "      <td>-1.079334</td>\n",
       "      <td>684.301338</td>\n",
       "      <td>680.704041</td>\n",
       "      <td>0.399900</td>\n",
       "      <td>0.691694</td>\n",
       "      <td>0.705611</td>\n",
       "      <td>0.700235</td>\n",
       "      <td>0.698452</td>\n",
       "      <td>0.070739</td>\n",
       "      <td>0.058268</td>\n",
       "      <td>0.063972</td>\n",
       "      <td>0.058701</td>\n",
       "      <td>1.129825</td>\n",
       "      <td>1.779865</td>\n",
       "      <td>0.069965</td>\n",
       "      <td>0.054843</td>\n",
       "      <td>0.064285</td>\n",
       "      <td>0.058296</td>\n",
       "      <td>2.212758</td>\n",
       "      <td>1.728514</td>\n",
       "    </tr>\n",
       "    <tr>\n",
       "      <th>1</th>\n",
       "      <td>0.499870</td>\n",
       "      <td>0.500975</td>\n",
       "      <td>1.004332</td>\n",
       "      <td>0.500736</td>\n",
       "      <td>0.817292</td>\n",
       "      <td>0.824175</td>\n",
       "      <td>0.989425</td>\n",
       "      <td>0.199021</td>\n",
       "      <td>0.816728</td>\n",
       "      <td>0.999935</td>\n",
       "      <td>685.356160</td>\n",
       "      <td>681.526248</td>\n",
       "      <td>0.995552</td>\n",
       "      <td>0.988804</td>\n",
       "      <td>1.002591</td>\n",
       "      <td>0.997109</td>\n",
       "      <td>0.997198</td>\n",
       "      <td>0.066420</td>\n",
       "      <td>0.053973</td>\n",
       "      <td>0.059803</td>\n",
       "      <td>0.054372</td>\n",
       "      <td>1.275916</td>\n",
       "      <td>0.639766</td>\n",
       "      <td>0.066599</td>\n",
       "      <td>0.051394</td>\n",
       "      <td>0.061077</td>\n",
       "      <td>0.054891</td>\n",
       "      <td>2.270915</td>\n",
       "      <td>0.643598</td>\n",
       "    </tr>\n",
       "    <tr>\n",
       "      <th>2</th>\n",
       "      <td>0.499998</td>\n",
       "      <td>0.499825</td>\n",
       "      <td>1.295803</td>\n",
       "      <td>0.500627</td>\n",
       "      <td>0.840110</td>\n",
       "      <td>0.837042</td>\n",
       "      <td>3.023404</td>\n",
       "      <td>0.199771</td>\n",
       "      <td>0.835323</td>\n",
       "      <td>3.071611</td>\n",
       "      <td>683.751921</td>\n",
       "      <td>682.438375</td>\n",
       "      <td>1.598475</td>\n",
       "      <td>1.275555</td>\n",
       "      <td>1.288848</td>\n",
       "      <td>1.283102</td>\n",
       "      <td>1.285088</td>\n",
       "      <td>0.062110</td>\n",
       "      <td>0.050444</td>\n",
       "      <td>0.056458</td>\n",
       "      <td>0.050662</td>\n",
       "      <td>1.125690</td>\n",
       "      <td>1.775809</td>\n",
       "      <td>0.062869</td>\n",
       "      <td>0.048823</td>\n",
       "      <td>0.058416</td>\n",
       "      <td>0.051897</td>\n",
       "      <td>2.207870</td>\n",
       "      <td>1.727601</td>\n",
       "    </tr>\n",
       "  </tbody>\n",
       "</table>\n",
       "</div>"
      ],
      "text/plain": [
       "                  x0        x1         C  Treatment         Y       Ycf  \\\n",
       "ITE-2CGDBR                                                                \n",
       "0           0.499530  0.500233  0.700532   0.499291  0.834311  0.839372   \n",
       "1           0.499870  0.500975  1.004332   0.500736  0.817292  0.824175   \n",
       "2           0.499998  0.499825  1.295803   0.500627  0.840110  0.837042   \n",
       "\n",
       "                 ITE   IS_TEST  Ycf-GDBR  ITE-GDBR  Box-Cluster  \\\n",
       "ITE-2CGDBR                                                        \n",
       "0          -1.027983  0.200662  0.834403 -1.079334   684.301338   \n",
       "1           0.989425  0.199021  0.816728  0.999935   685.356160   \n",
       "2           3.023404  0.199771  0.835323  3.071611   683.751921   \n",
       "\n",
       "            Kmeans-Cluster  ITE-2CTrue   Box-Cl2  Kmeans-Cl2  Box2-Cl2  \\\n",
       "ITE-2CGDBR                                                               \n",
       "0               680.704041    0.399900  0.691694    0.705611  0.700235   \n",
       "1               681.526248    0.995552  0.988804    1.002591  0.997109   \n",
       "2               682.438375    1.598475  1.275555    1.288848  1.283102   \n",
       "\n",
       "            Kmeans2-Cl2  Box-Cl2-err-GDBR  Kmeans-Cl2-err-GDBR  \\\n",
       "ITE-2CGDBR                                                       \n",
       "0              0.698452          0.070739             0.058268   \n",
       "1              0.997198          0.066420             0.053973   \n",
       "2              1.285088          0.062110             0.050444   \n",
       "\n",
       "            Box2-Cl2-err-GDBR  Kmeans2-Cl2-err-GDBR  ITE-2CTrue-err-GDBR  \\\n",
       "ITE-2CGDBR                                                                 \n",
       "0                    0.063972              0.058701             1.129825   \n",
       "1                    0.059803              0.054372             1.275916   \n",
       "2                    0.056458              0.050662             1.125690   \n",
       "\n",
       "            ITE-2CGDBR-err-GDBR  Box-Cl2-err-True-ITE  \\\n",
       "ITE-2CGDBR                                              \n",
       "0                      1.779865              0.069965   \n",
       "1                      0.639766              0.066599   \n",
       "2                      1.775809              0.062869   \n",
       "\n",
       "            Kmeans-Cl2-err-True-ITE  Box2-Cl2-err-True-ITE  \\\n",
       "ITE-2CGDBR                                                   \n",
       "0                          0.054843               0.064285   \n",
       "1                          0.051394               0.061077   \n",
       "2                          0.048823               0.058416   \n",
       "\n",
       "            Kmeans2-Cl2-err-True-ITE  ITE-2CTrue-err-True-ITE  \\\n",
       "ITE-2CGDBR                                                      \n",
       "0                           0.058296                 2.212758   \n",
       "1                           0.054891                 2.270915   \n",
       "2                           0.051897                 2.207870   \n",
       "\n",
       "            ITE-2CGDBR-err-True-ITE  \n",
       "ITE-2CGDBR                           \n",
       "0                          1.728514  \n",
       "1                          0.643598  \n",
       "2                          1.727601  "
      ]
     },
     "execution_count": 50,
     "metadata": {},
     "output_type": "execute_result"
    }
   ],
   "source": [
    "data2.groupby('ITE-2CGDBR').mean()"
   ]
  },
  {
   "cell_type": "code",
   "execution_count": 51,
   "metadata": {},
   "outputs": [
    {
     "data": {
      "text/plain": [
       "(1.6189948103275102, 1.2256379212814783)"
      ]
     },
     "execution_count": 51,
     "metadata": {},
     "output_type": "execute_result"
    }
   ],
   "source": [
    "np.mean(np.abs(data2['C'] - data2['ITE-GDBR'])), np.std(np.abs(data2['C'] - data2['ITE-GDBR']))"
   ]
  },
  {
   "cell_type": "code",
   "execution_count": null,
   "metadata": {},
   "outputs": [],
   "source": []
  }
 ],
 "metadata": {
  "kernelspec": {
   "display_name": "Python [conda env:jorje]",
   "language": "python",
   "name": "conda-env-jorje-py"
  },
  "language_info": {
   "codemirror_mode": {
    "name": "ipython",
    "version": 3
   },
   "file_extension": ".py",
   "mimetype": "text/x-python",
   "name": "python",
   "nbconvert_exporter": "python",
   "pygments_lexer": "ipython3",
   "version": "3.7.2"
  }
 },
 "nbformat": 4,
 "nbformat_minor": 2
}
