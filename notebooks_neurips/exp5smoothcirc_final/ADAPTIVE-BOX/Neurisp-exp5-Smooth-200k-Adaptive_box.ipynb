{
 "cells": [
  {
   "cell_type": "code",
   "execution_count": 1,
   "metadata": {},
   "outputs": [],
   "source": [
    "%load_ext autoreload\n",
    "%autoreload 2"
   ]
  },
  {
   "cell_type": "code",
   "execution_count": 2,
   "metadata": {},
   "outputs": [],
   "source": [
    "import numpy as np\n",
    "import pandas as pd\n",
    "import matplotlib.pyplot as plt\n",
    "import seaborn as sns\n",
    "import matplotlib as mpl\n",
    "\n",
    "from sklearn.cluster import KMeans \n",
    "from sklearn.cluster import SpectralClustering\n",
    "from sklearn.cluster import AgglomerativeClustering\n",
    "from pathlib import Path"
   ]
  },
  {
   "cell_type": "code",
   "execution_count": 3,
   "metadata": {},
   "outputs": [],
   "source": [
    "import sys\n",
    "\n",
    "sys.path.append('../../../src')"
   ]
  },
  {
   "cell_type": "code",
   "execution_count": 4,
   "metadata": {},
   "outputs": [],
   "source": [
    "from base_exp_gen import generate_experiment as GEN_EXP\n",
    "from clustering_algos import agglomerative_clustering, kmeans_clustering,\\\n",
    "box_clustering, adaptive_box2, optimal_clustering\n",
    "from sklearn.model_selection import train_test_split as datasplit\n",
    "from sklearn.ensemble import GradientBoostingRegressor as GDBR\n",
    "from evaluations import computeATT_per_cluster as ATTC, predict_cf, calculate_ite, get_homogeneity, generate_paths,\\\n",
    "confusion_matrix\n",
    "\n"
   ]
  },
  {
   "cell_type": "code",
   "execution_count": 5,
   "metadata": {},
   "outputs": [],
   "source": [
    "np.random.seed(seed = 0)"
   ]
  },
  {
   "cell_type": "code",
   "execution_count": 6,
   "metadata": {},
   "outputs": [],
   "source": [
    "fonts = {'family': 'cmr10','weight': 'normal',\n",
    "            'size': 20}    \n",
    "div = 1\n",
    "\n",
    "l1 = 22/div\n",
    "l2 = 20/div\n",
    "l3 = 13/(div-0.2)\n",
    "\n",
    "mpl.rcParams['xtick.labelsize'] = l2\n",
    "mpl.rcParams['ytick.labelsize'] = l2\n",
    "mpl.rcParams['axes.labelsize'] = l1\n",
    "mpl.rcParams['font.serif'] = 'Times New Roman'\n",
    "mpl.rcParams['font.weight'] = 'normal'\n",
    "mpl.rcParams['font.size'] = 20\n",
    "mpl.rcParams['legend.fontsize'] = l3\n",
    "\n",
    "#axes_font = {'labelsize':l1}\n",
    "#mpl.rc('font', **font)\n",
    "#xticks = {'labelsize':l2}# 'ytick.labelsize':20}\n",
    "#yticks = {'labelsize':l2}# 'ytick.labelsize':20}\n",
    "#legend = {'fontsize':l3}\n",
    "# tex = {'usetex':True}\n",
    "#mpl.rc('axes', **axes_font)\n",
    "#mpl.rc('xtick', **xticks)\n",
    "#mpl.rc('ytick', **yticks)\n",
    "#mpl.rc('font', **fonts)\n",
    "#mpl.rc('legend', **legend"
   ]
  },
  {
   "cell_type": "code",
   "execution_count": 7,
   "metadata": {},
   "outputs": [],
   "source": [
    "pd.set_option(\"display.max_columns\", None)"
   ]
  },
  {
   "cell_type": "markdown",
   "metadata": {},
   "source": [
    "### Directory to save figures"
   ]
  },
  {
   "cell_type": "code",
   "execution_count": 8,
   "metadata": {},
   "outputs": [],
   "source": [
    "save = True\n",
    "path_figs = './figs/200K/'\n",
    "Path(path_figs).mkdir(exist_ok = True, parents = True)"
   ]
  },
  {
   "cell_type": "markdown",
   "metadata": {},
   "source": [
    "### Generate Experiment"
   ]
  },
  {
   "cell_type": "code",
   "execution_count": 9,
   "metadata": {},
   "outputs": [
    {
     "name": "stdout",
     "output_type": "stream",
     "text": [
      "Number of Clusters:441, Number of Points:200000\n",
      "CPU times: user 178 ms, sys: 53.8 ms, total: 232 ms\n",
      "Wall time: 223 ms\n"
     ]
    }
   ],
   "source": [
    "%%time\n",
    "\n",
    "N,D = 2*10**5, 2\n",
    "x = int((N)**(1/4))\n",
    "clusters = x**2\n",
    "print(\"Number of Clusters:{}, Number of Points:{}\".format(clusters, N))\n",
    "kw_generate =  {'N':N, 'D':D,'f_gen_name': 'uniform_gen','low':0, 'high': 1}\n",
    "centers = [[0.25,0.25],[0.5,0.5],[0.75,0.75],[0.75,0.25], [0.25,0.75]]\n",
    "r_small = [0.122]*5\n",
    "r_big = [0.2,0.2,0.2, 0.2,0.2]\n",
    "kw_cluster =  {'f_class_name':'circle_class3', 'centers': centers, 'r_small': r_small, 'r_big':r_big}\n",
    "kw_treatment = {'f_treat_name' :'uniform_treat','choices':[0,1], 'probabilities':[0.5,0.5]}\n",
    "\n",
    "std = 5\n",
    "stats = np.array([[1, std], [0, std], [0, std], [0, std],[0, std],\n",
    "                  [0, std],[1, std],[1, std],[2, std],[3, std],[4, std],[5, std]])\n",
    "kw_outcome = {'f_outcome_name': 'outcome1','treatment':'Treatment', 'cls':'C', 'stats':stats}\n",
    "\n",
    "data = GEN_EXP(kw_generate, kw_cluster, kw_treatment, kw_outcome).dat\n",
    "data = calculate_ite(data.copy(), treatment = 'Treatment',\n",
    "                     counterfactual = 'Ycf', outcome = 'Y', ite_name = 'ITE')"
   ]
  },
  {
   "cell_type": "code",
   "execution_count": 10,
   "metadata": {},
   "outputs": [
    {
     "data": {
      "image/png": "[encoded data removed]",
      "text/plain": [
       "<Figure size 432x288 with 1 Axes>"
      ]
     },
     "metadata": {
      "needs_background": "light"
     },
     "output_type": "display_data"
    }
   ],
   "source": [
    "fig, ax = plt.subplots()\n",
    "\n",
    "ax.scatter(data['x0'].values, data['x1'].values, c=data['C'].values, cmap = 'Greys', s=0.1)\n",
    "\n",
    "ax.set_aspect('equal', adjustable='box')\n",
    "fig.savefig(path_figs+'data.jpeg',bbox_inches='tight', pad_inches = 0)\n",
    "\n",
    "plt.show()"
   ]
  },
  {
   "cell_type": "markdown",
   "metadata": {},
   "source": [
    " ### Estimate ITE with Gradient Boosting Trees"
   ]
  },
  {
   "cell_type": "code",
   "execution_count": 11,
   "metadata": {},
   "outputs": [
    {
     "name": "stdout",
     "output_type": "stream",
     "text": [
      "CPU times: user 7min 26s, sys: 282 ms, total: 7min 26s\n",
      "Wall time: 7min 37s\n"
     ]
    }
   ],
   "source": [
    "%%time\n",
    "f1_kwargs = {'n_estimators':400, 'max_depth':18}\n",
    "f2_kwargs = {'n_estimators':400, 'max_depth':18}\n",
    "\n",
    "data, models = predict_cf(data.copy(), col_select = ['x0', 'x1'], f1 = GDBR,\n",
    "                          f2 = GDBR, cf_name = 'Ycf-GDBR', f1_kwargs=f1_kwargs, \n",
    "                          f2_kwargs=f2_kwargs, ite_name ='ITE-GDBR')"
   ]
  },
  {
   "cell_type": "markdown",
   "metadata": {},
   "source": [
    "### Apply box clustering to use for the adaptive algorithm"
   ]
  },
  {
   "cell_type": "code",
   "execution_count": 12,
   "metadata": {},
   "outputs": [],
   "source": [
    "col_select = ['x0', 'x1']\n",
    "data,_ = box_clustering(data.copy(), clusters = clusters, col_select = col_select )"
   ]
  },
  {
   "cell_type": "markdown",
   "metadata": {},
   "source": [
    "### Calculate ATT per box cluster for optimal clustering"
   ]
  },
  {
   "cell_type": "code",
   "execution_count": 13,
   "metadata": {},
   "outputs": [],
   "source": [
    "ite_name = 'ITE-GDBR'\n",
    "box2 = ATTC(data.copy(), cluster_name = 'Box-Cluster', ATT_CLUST_name='Box-ATT',\n",
    "           points_name='Box-points', weight_names='Box-Weights', ITE_name = ite_name,\n",
    "            hom_name = 'Box-Hom', att = False)"
   ]
  },
  {
   "cell_type": "markdown",
   "metadata": {},
   "source": [
    "### Optimal 1d means recover"
   ]
  },
  {
   "cell_type": "code",
   "execution_count": 14,
   "metadata": {},
   "outputs": [],
   "source": [
    "name2 = 'Box-ATT'\n",
    "name = 'Opt-Clust'\n",
    "val = 6\n",
    "box2, means = optimal_clustering(box2, max_clusters = 7, col_select = name2, \n",
    "                      cluster_name = name, N=N, val = val)"
   ]
  },
  {
   "cell_type": "code",
   "execution_count": 15,
   "metadata": {},
   "outputs": [
    {
     "data": {
      "text/html": [
       "<div>\n",
       "<style scoped>\n",
       "    .dataframe tbody tr th:only-of-type {\n",
       "        vertical-align: middle;\n",
       "    }\n",
       "\n",
       "    .dataframe tbody tr th {\n",
       "        vertical-align: top;\n",
       "    }\n",
       "\n",
       "    .dataframe thead th {\n",
       "        text-align: right;\n",
       "    }\n",
       "</style>\n",
       "<table border=\"1\" class=\"dataframe\">\n",
       "  <thead>\n",
       "    <tr style=\"text-align: right;\">\n",
       "      <th></th>\n",
       "      <th>x0</th>\n",
       "      <th>x1</th>\n",
       "      <th>C</th>\n",
       "      <th>Treatment</th>\n",
       "      <th>Y</th>\n",
       "      <th>Ycf</th>\n",
       "      <th>ITE</th>\n",
       "      <th>IS_TEST</th>\n",
       "      <th>Ycf-GDBR</th>\n",
       "      <th>ITE-GDBR</th>\n",
       "      <th>Box-Cluster</th>\n",
       "    </tr>\n",
       "  </thead>\n",
       "  <tbody>\n",
       "    <tr>\n",
       "      <th>0</th>\n",
       "      <td>0.548814</td>\n",
       "      <td>0.715189</td>\n",
       "      <td>0</td>\n",
       "      <td>0</td>\n",
       "      <td>5.668825</td>\n",
       "      <td>-0.227588</td>\n",
       "      <td>-5.896413</td>\n",
       "      <td>0</td>\n",
       "      <td>4.358659</td>\n",
       "      <td>-1.310166</td>\n",
       "      <td>326</td>\n",
       "    </tr>\n",
       "    <tr>\n",
       "      <th>1</th>\n",
       "      <td>0.602763</td>\n",
       "      <td>0.544883</td>\n",
       "      <td>0</td>\n",
       "      <td>1</td>\n",
       "      <td>3.615514</td>\n",
       "      <td>-4.550173</td>\n",
       "      <td>8.165688</td>\n",
       "      <td>0</td>\n",
       "      <td>2.825120</td>\n",
       "      <td>0.790394</td>\n",
       "      <td>243</td>\n",
       "    </tr>\n",
       "    <tr>\n",
       "      <th>2</th>\n",
       "      <td>0.423655</td>\n",
       "      <td>0.645894</td>\n",
       "      <td>2</td>\n",
       "      <td>0</td>\n",
       "      <td>-8.459924</td>\n",
       "      <td>-5.952339</td>\n",
       "      <td>2.507585</td>\n",
       "      <td>0</td>\n",
       "      <td>-3.087031</td>\n",
       "      <td>5.372893</td>\n",
       "      <td>281</td>\n",
       "    </tr>\n",
       "  </tbody>\n",
       "</table>\n",
       "</div>"
      ],
      "text/plain": [
       "         x0        x1  C  Treatment         Y       Ycf       ITE  IS_TEST  \\\n",
       "0  0.548814  0.715189  0          0  5.668825 -0.227588 -5.896413        0   \n",
       "1  0.602763  0.544883  0          1  3.615514 -4.550173  8.165688        0   \n",
       "2  0.423655  0.645894  2          0 -8.459924 -5.952339  2.507585        0   \n",
       "\n",
       "   Ycf-GDBR  ITE-GDBR  Box-Cluster  \n",
       "0  4.358659 -1.310166          326  \n",
       "1  2.825120  0.790394          243  \n",
       "2 -3.087031  5.372893          281  "
      ]
     },
     "execution_count": 15,
     "metadata": {},
     "output_type": "execute_result"
    }
   ],
   "source": [
    "data.head(3)"
   ]
  },
  {
   "cell_type": "markdown",
   "metadata": {},
   "source": [
    "### Adaptive Box"
   ]
  },
  {
   "cell_type": "code",
   "execution_count": 16,
   "metadata": {},
   "outputs": [
    {
     "name": "stderr",
     "output_type": "stream",
     "text": [
      "/home/mavrog2/.conda/envs/jorje/lib/python3.7/site-packages/numba/core/ir_utils.py:2031: NumbaPendingDeprecationWarning: \n",
      "Encountered the use of a type that is scheduled for deprecation: type 'reflected list' found for argument 'data_groups2' of function 'adapt_numba'.\n",
      "\n",
      "For more information visit http://numba.pydata.org/numba-doc/latest/reference/deprecation.html#deprecation-of-reflection-for-list-and-set-types\n",
      "\n",
      "File \"../../../src/clustering_algos.py\", line 478:\n",
      "@jit(nopython = True)\n",
      "def adapt_numba(data_groups2, new_ites, values, pivot_array,\n",
      "^\n",
      "\n",
      "  warnings.warn(NumbaPendingDeprecationWarning(msg, loc=loc))\n"
     ]
    },
    {
     "name": "stdout",
     "output_type": "stream",
     "text": [
      "CPU times: user 4min 59s, sys: 559 ms, total: 5min\n",
      "Wall time: 5min 6s\n"
     ]
    }
   ],
   "source": [
    "%%time\n",
    "adaptive_ite_name = 'ITE-ADAPTIVE'\n",
    "ite_old_name = 'ITE-GDBR'\n",
    "data = adaptive_box2(data, clusters = clusters, ite_old_name = ite_old_name,\n",
    "                    ite_name = adaptive_ite_name, col_select = col_select)"
   ]
  },
  {
   "cell_type": "code",
   "execution_count": 17,
   "metadata": {},
   "outputs": [
    {
     "data": {
      "text/html": [
       "<div>\n",
       "<style scoped>\n",
       "    .dataframe tbody tr th:only-of-type {\n",
       "        vertical-align: middle;\n",
       "    }\n",
       "\n",
       "    .dataframe tbody tr th {\n",
       "        vertical-align: top;\n",
       "    }\n",
       "\n",
       "    .dataframe thead th {\n",
       "        text-align: right;\n",
       "    }\n",
       "</style>\n",
       "<table border=\"1\" class=\"dataframe\">\n",
       "  <thead>\n",
       "    <tr style=\"text-align: right;\">\n",
       "      <th></th>\n",
       "      <th>x0</th>\n",
       "      <th>x1</th>\n",
       "      <th>C</th>\n",
       "      <th>Treatment</th>\n",
       "      <th>Y</th>\n",
       "      <th>Ycf</th>\n",
       "      <th>ITE</th>\n",
       "      <th>IS_TEST</th>\n",
       "      <th>Ycf-GDBR</th>\n",
       "      <th>ITE-GDBR</th>\n",
       "      <th>Box-Cluster</th>\n",
       "      <th>ITE-ADAPTIVE</th>\n",
       "    </tr>\n",
       "  </thead>\n",
       "  <tbody>\n",
       "    <tr>\n",
       "      <th>0</th>\n",
       "      <td>0.548814</td>\n",
       "      <td>0.715189</td>\n",
       "      <td>0</td>\n",
       "      <td>0</td>\n",
       "      <td>5.668825</td>\n",
       "      <td>-0.227588</td>\n",
       "      <td>-5.896413</td>\n",
       "      <td>0</td>\n",
       "      <td>4.358659</td>\n",
       "      <td>-1.310166</td>\n",
       "      <td>326</td>\n",
       "      <td>1.622857</td>\n",
       "    </tr>\n",
       "    <tr>\n",
       "      <th>1</th>\n",
       "      <td>0.602763</td>\n",
       "      <td>0.544883</td>\n",
       "      <td>0</td>\n",
       "      <td>1</td>\n",
       "      <td>3.615514</td>\n",
       "      <td>-4.550173</td>\n",
       "      <td>8.165688</td>\n",
       "      <td>0</td>\n",
       "      <td>2.825120</td>\n",
       "      <td>0.790394</td>\n",
       "      <td>243</td>\n",
       "      <td>0.997070</td>\n",
       "    </tr>\n",
       "    <tr>\n",
       "      <th>2</th>\n",
       "      <td>0.423655</td>\n",
       "      <td>0.645894</td>\n",
       "      <td>2</td>\n",
       "      <td>0</td>\n",
       "      <td>-8.459924</td>\n",
       "      <td>-5.952339</td>\n",
       "      <td>2.507585</td>\n",
       "      <td>0</td>\n",
       "      <td>-3.087031</td>\n",
       "      <td>5.372893</td>\n",
       "      <td>281</td>\n",
       "      <td>3.214856</td>\n",
       "    </tr>\n",
       "  </tbody>\n",
       "</table>\n",
       "</div>"
      ],
      "text/plain": [
       "         x0        x1  C  Treatment         Y       Ycf       ITE  IS_TEST  \\\n",
       "0  0.548814  0.715189  0          0  5.668825 -0.227588 -5.896413        0   \n",
       "1  0.602763  0.544883  0          1  3.615514 -4.550173  8.165688        0   \n",
       "2  0.423655  0.645894  2          0 -8.459924 -5.952339  2.507585        0   \n",
       "\n",
       "   Ycf-GDBR  ITE-GDBR  Box-Cluster  ITE-ADAPTIVE  \n",
       "0  4.358659 -1.310166          326      1.622857  \n",
       "1  2.825120  0.790394          243      0.997070  \n",
       "2 -3.087031  5.372893          281      3.214856  "
      ]
     },
     "execution_count": 17,
     "metadata": {},
     "output_type": "execute_result"
    }
   ],
   "source": [
    "data.head(3)"
   ]
  },
  {
   "cell_type": "code",
   "execution_count": 18,
   "metadata": {},
   "outputs": [],
   "source": [
    "clusts = len(means)\n",
    "means2 = means.reshape(val,1)\n",
    "\n",
    "data, km = kmeans_clustering(data, clusters = clusts, cluster_name = 'ITE-ADAPTIVE-3CLUST',\n",
    "                           col_select = [adaptive_ite_name], assign_means = True, means = means2 )"
   ]
  },
  {
   "cell_type": "code",
   "execution_count": 19,
   "metadata": {},
   "outputs": [
    {
     "name": "stdout",
     "output_type": "stream",
     "text": [
      "[[-0.2930268 ]\n",
      " [ 0.36217292]\n",
      " [ 1.18778645]\n",
      " [ 2.1953703 ]\n",
      " [ 3.34944418]\n",
      " [ 4.74248051]]\n",
      "[[-0.2930268 ]\n",
      " [ 0.36217292]\n",
      " [ 1.18778645]\n",
      " [ 2.1953703 ]\n",
      " [ 3.34944418]\n",
      " [ 4.74248051]]\n"
     ]
    }
   ],
   "source": [
    "print(means2)\n",
    "print(km.cluster_centers_)"
   ]
  },
  {
   "cell_type": "markdown",
   "metadata": {},
   "source": [
    "### Adaptive ITES values scatter plot"
   ]
  },
  {
   "cell_type": "code",
   "execution_count": 20,
   "metadata": {},
   "outputs": [
    {
     "data": {
      "image/png": "[encoded data removed]",
      "text/plain": [
       "<Figure size 432x288 with 1 Axes>"
      ]
     },
     "metadata": {
      "needs_background": "light"
     },
     "output_type": "display_data"
    }
   ],
   "source": [
    "path3 = path_figs+'reconstruction/'\n",
    "Path(path3).mkdir(exist_ok = True, parents = True)\n",
    "\n",
    "fig, ax = plt.subplots()\n",
    "\n",
    "sc = ax.scatter(data['x0'].values, data['x1'].values, c=data[adaptive_ite_name], cmap = 'Greys', s = 1)\n",
    "if save:\n",
    "    ax.set_aspect('equal', adjustable='box')\n",
    "    fig.savefig(path3+'{}.jpeg'.format('ites'), bbox_inches='tight',pad_inches = 0)"
   ]
  },
  {
   "cell_type": "markdown",
   "metadata": {},
   "source": [
    "###  Clustering of Adaptive ites"
   ]
  },
  {
   "cell_type": "code",
   "execution_count": 21,
   "metadata": {},
   "outputs": [
    {
     "data": {
      "image/png": "[encoded data removed]",
      "text/plain": [
       "<Figure size 432x288 with 1 Axes>"
      ]
     },
     "metadata": {
      "needs_background": "light"
     },
     "output_type": "display_data"
    }
   ],
   "source": [
    "fig, ax = plt.subplots()\n",
    "\n",
    "sc = ax.scatter(data['x0'].values, data['x1'].values, c=data['ITE-ADAPTIVE-3CLUST'], cmap = 'Greys', s = 1)\n",
    "\n",
    "if save:\n",
    "    ax.set_aspect('equal', adjustable='box')\n",
    "    fig.savefig(path3+'{}.jpeg'.format('ITE-ADAPTIVE-3CLUST'), bbox_inches='tight',pad_inches = 0)"
   ]
  },
  {
   "cell_type": "markdown",
   "metadata": {},
   "source": [
    "### Histogram of Adaptive Ites"
   ]
  },
  {
   "cell_type": "code",
   "execution_count": 22,
   "metadata": {},
   "outputs": [
    {
     "name": "stderr",
     "output_type": "stream",
     "text": [
      "/home/mavrog2/.conda/envs/jorje/lib/python3.7/site-packages/seaborn/distributions.py:2619: FutureWarning: `distplot` is a deprecated function and will be removed in a future version. Please adapt your code to use either `displot` (a figure-level function with similar flexibility) or `histplot` (an axes-level function for histograms).\n",
      "  warnings.warn(msg, FutureWarning)\n"
     ]
    },
    {
     "data": {
      "image/png": "[encoded data removed]",
      "text/plain": [
       "<Figure size 432x288 with 1 Axes>"
      ]
     },
     "metadata": {
      "needs_background": "light"
     },
     "output_type": "display_data"
    }
   ],
   "source": [
    "path2 = path_figs+'histograms/'\n",
    "Path(path2).mkdir(exist_ok = True)\n",
    "\n",
    "fig, ax = plt.subplots()\n",
    "\n",
    "ax = sns.distplot(data[adaptive_ite_name],  bins=400, kde = False,ax = ax)\n",
    "ax.set_xlabel('ITE-PCM')\n",
    "\n",
    "#ax.set_xlim(-0.5,2.5)\n",
    "if save:\n",
    "    fig.savefig(path2+'adaptivehist.pdf', bbox_inches='tight',pad_inches = 0)\n"
   ]
  },
  {
   "cell_type": "code",
   "execution_count": 23,
   "metadata": {},
   "outputs": [],
   "source": [
    "def MAE_pd(group, name1,name2,column_name):\n",
    "    \n",
    "    group[column_name] = np.abs(group[name1].values-group[name2].mean())\n",
    "    return group\n",
    "    \n",
    "    "
   ]
  },
  {
   "cell_type": "code",
   "execution_count": 24,
   "metadata": {},
   "outputs": [],
   "source": [
    "ite_column = 'ITE-GDBR'\n",
    "clust2 = 'ITE-ADAPTIVE-3CLUST'\n",
    "data = data.groupby(clust2).apply(lambda x: MAE_pd(x, 'C', ite_column, clust2+'-err-GDBR'))"
   ]
  },
  {
   "cell_type": "code",
   "execution_count": 25,
   "metadata": {},
   "outputs": [],
   "source": [
    "ite_column = 'ITE'\n",
    "\n",
    "data = data.groupby(clust2).apply(lambda x: MAE_pd(x, 'C', ite_column, clust2+'-err-True-ITE'))"
   ]
  },
  {
   "cell_type": "code",
   "execution_count": 26,
   "metadata": {},
   "outputs": [],
   "source": [
    "errors = data.describe().loc[['mean', 'std'], [col for col in data.columns if 'err' in col]].T"
   ]
  },
  {
   "cell_type": "code",
   "execution_count": 27,
   "metadata": {},
   "outputs": [
    {
     "data": {
      "text/html": [
       "<div>\n",
       "<style scoped>\n",
       "    .dataframe tbody tr th:only-of-type {\n",
       "        vertical-align: middle;\n",
       "    }\n",
       "\n",
       "    .dataframe tbody tr th {\n",
       "        vertical-align: top;\n",
       "    }\n",
       "\n",
       "    .dataframe thead th {\n",
       "        text-align: right;\n",
       "    }\n",
       "</style>\n",
       "<table border=\"1\" class=\"dataframe\">\n",
       "  <thead>\n",
       "    <tr style=\"text-align: right;\">\n",
       "      <th></th>\n",
       "      <th>mean</th>\n",
       "      <th>std</th>\n",
       "    </tr>\n",
       "  </thead>\n",
       "  <tbody>\n",
       "    <tr>\n",
       "      <th>ITE-ADAPTIVE-3CLUST-err-True-ITE</th>\n",
       "      <td>0.532947</td>\n",
       "      <td>0.621203</td>\n",
       "    </tr>\n",
       "    <tr>\n",
       "      <th>ITE-ADAPTIVE-3CLUST-err-GDBR</th>\n",
       "      <td>0.539031</td>\n",
       "      <td>0.622193</td>\n",
       "    </tr>\n",
       "  </tbody>\n",
       "</table>\n",
       "</div>"
      ],
      "text/plain": [
       "                                      mean       std\n",
       "ITE-ADAPTIVE-3CLUST-err-True-ITE  0.532947  0.621203\n",
       "ITE-ADAPTIVE-3CLUST-err-GDBR      0.539031  0.622193"
      ]
     },
     "execution_count": 27,
     "metadata": {},
     "output_type": "execute_result"
    }
   ],
   "source": [
    "errors.sort_values(by = 'mean')"
   ]
  },
  {
   "cell_type": "code",
   "execution_count": 28,
   "metadata": {},
   "outputs": [
    {
     "data": {
      "image/png": "[encoded data removed]",
      "text/plain": [
       "<Figure size 432x288 with 1 Axes>"
      ]
     },
     "metadata": {
      "needs_background": "light"
     },
     "output_type": "display_data"
    }
   ],
   "source": [
    "ax = errors['mean'].sort_values().plot.barh()\n",
    "plt.show()"
   ]
  },
  {
   "cell_type": "code",
   "execution_count": 29,
   "metadata": {},
   "outputs": [
    {
     "name": "stdout",
     "output_type": "stream",
     "text": [
      "Opt-Clust\n"
     ]
    },
    {
     "data": {
      "text/html": [
       "<div>\n",
       "<style scoped>\n",
       "    .dataframe tbody tr th:only-of-type {\n",
       "        vertical-align: middle;\n",
       "    }\n",
       "\n",
       "    .dataframe tbody tr th {\n",
       "        vertical-align: top;\n",
       "    }\n",
       "\n",
       "    .dataframe thead th {\n",
       "        text-align: right;\n",
       "    }\n",
       "</style>\n",
       "<table border=\"1\" class=\"dataframe\">\n",
       "  <thead>\n",
       "    <tr style=\"text-align: right;\">\n",
       "      <th></th>\n",
       "      <th>C0 Pred</th>\n",
       "      <th>C1 Pred</th>\n",
       "      <th>C2 Pred</th>\n",
       "      <th>C3 Pred</th>\n",
       "      <th>C4 Pred</th>\n",
       "      <th>C5 Pred</th>\n",
       "    </tr>\n",
       "  </thead>\n",
       "  <tbody>\n",
       "    <tr>\n",
       "      <th>C0 True</th>\n",
       "      <td>0.27708</td>\n",
       "      <td>0.458435</td>\n",
       "      <td>0.198151</td>\n",
       "      <td>0.064325</td>\n",
       "      <td>0.002009</td>\n",
       "      <td>0.000000</td>\n",
       "    </tr>\n",
       "    <tr>\n",
       "      <th>C1 True</th>\n",
       "      <td>0.00000</td>\n",
       "      <td>0.487259</td>\n",
       "      <td>0.512741</td>\n",
       "      <td>0.000000</td>\n",
       "      <td>0.000000</td>\n",
       "      <td>0.000000</td>\n",
       "    </tr>\n",
       "    <tr>\n",
       "      <th>C2 True</th>\n",
       "      <td>0.00000</td>\n",
       "      <td>0.000000</td>\n",
       "      <td>0.535449</td>\n",
       "      <td>0.426450</td>\n",
       "      <td>0.038101</td>\n",
       "      <td>0.000000</td>\n",
       "    </tr>\n",
       "    <tr>\n",
       "      <th>C3 True</th>\n",
       "      <td>0.00000</td>\n",
       "      <td>0.000000</td>\n",
       "      <td>0.097654</td>\n",
       "      <td>0.854666</td>\n",
       "      <td>0.047680</td>\n",
       "      <td>0.000000</td>\n",
       "    </tr>\n",
       "    <tr>\n",
       "      <th>C4 True</th>\n",
       "      <td>0.00000</td>\n",
       "      <td>0.000000</td>\n",
       "      <td>0.011227</td>\n",
       "      <td>0.426188</td>\n",
       "      <td>0.562584</td>\n",
       "      <td>0.000000</td>\n",
       "    </tr>\n",
       "    <tr>\n",
       "      <th>C5 True</th>\n",
       "      <td>0.00000</td>\n",
       "      <td>0.000000</td>\n",
       "      <td>0.000000</td>\n",
       "      <td>0.090195</td>\n",
       "      <td>0.634976</td>\n",
       "      <td>0.274829</td>\n",
       "    </tr>\n",
       "  </tbody>\n",
       "</table>\n",
       "</div>"
      ],
      "text/plain": [
       "         C0 Pred   C1 Pred   C2 Pred   C3 Pred   C4 Pred   C5 Pred\n",
       "C0 True  0.27708  0.458435  0.198151  0.064325  0.002009  0.000000\n",
       "C1 True  0.00000  0.487259  0.512741  0.000000  0.000000  0.000000\n",
       "C2 True  0.00000  0.000000  0.535449  0.426450  0.038101  0.000000\n",
       "C3 True  0.00000  0.000000  0.097654  0.854666  0.047680  0.000000\n",
       "C4 True  0.00000  0.000000  0.011227  0.426188  0.562584  0.000000\n",
       "C5 True  0.00000  0.000000  0.000000  0.090195  0.634976  0.274829"
      ]
     },
     "metadata": {},
     "output_type": "display_data"
    }
   ],
   "source": [
    "from IPython.display import display\n",
    "\n",
    "path4 = path_figs+'matrices/'\n",
    "Path(path4).mkdir(exist_ok = True)\n",
    "\n",
    "mat = confusion_matrix(data, 'C', 'ITE-ADAPTIVE-3CLUST', 6, save = save, save_dir = path4)\n",
    "print(name)\n",
    "display(mat)"
   ]
  },
  {
   "cell_type": "code",
   "execution_count": 30,
   "metadata": {},
   "outputs": [
    {
     "data": {
      "text/html": [
       "<div>\n",
       "<style scoped>\n",
       "    .dataframe tbody tr th:only-of-type {\n",
       "        vertical-align: middle;\n",
       "    }\n",
       "\n",
       "    .dataframe tbody tr th {\n",
       "        vertical-align: top;\n",
       "    }\n",
       "\n",
       "    .dataframe thead th {\n",
       "        text-align: right;\n",
       "    }\n",
       "</style>\n",
       "<table border=\"1\" class=\"dataframe\">\n",
       "  <thead>\n",
       "    <tr style=\"text-align: right;\">\n",
       "      <th></th>\n",
       "      <th>x0</th>\n",
       "      <th>x1</th>\n",
       "      <th>C</th>\n",
       "      <th>Treatment</th>\n",
       "      <th>Y</th>\n",
       "      <th>Ycf</th>\n",
       "      <th>ITE</th>\n",
       "      <th>IS_TEST</th>\n",
       "      <th>Ycf-GDBR</th>\n",
       "      <th>ITE-GDBR</th>\n",
       "      <th>Box-Cluster</th>\n",
       "      <th>ITE-ADAPTIVE</th>\n",
       "      <th>ITE-ADAPTIVE-3CLUST-err-GDBR</th>\n",
       "      <th>ITE-ADAPTIVE-3CLUST-err-True-ITE</th>\n",
       "    </tr>\n",
       "    <tr>\n",
       "      <th>ITE-ADAPTIVE-3CLUST</th>\n",
       "      <th></th>\n",
       "      <th></th>\n",
       "      <th></th>\n",
       "      <th></th>\n",
       "      <th></th>\n",
       "      <th></th>\n",
       "      <th></th>\n",
       "      <th></th>\n",
       "      <th></th>\n",
       "      <th></th>\n",
       "      <th></th>\n",
       "      <th></th>\n",
       "      <th></th>\n",
       "      <th></th>\n",
       "    </tr>\n",
       "  </thead>\n",
       "  <tbody>\n",
       "    <tr>\n",
       "      <th>0</th>\n",
       "      <td>0.458347</td>\n",
       "      <td>0.476925</td>\n",
       "      <td>0.000000</td>\n",
       "      <td>0.502021</td>\n",
       "      <td>1.030321</td>\n",
       "      <td>0.992736</td>\n",
       "      <td>-0.115350</td>\n",
       "      <td>0.200940</td>\n",
       "      <td>1.037904</td>\n",
       "      <td>-0.101069</td>\n",
       "      <td>208.705769</td>\n",
       "      <td>-0.133639</td>\n",
       "      <td>0.101069</td>\n",
       "      <td>0.115350</td>\n",
       "    </tr>\n",
       "    <tr>\n",
       "      <th>1</th>\n",
       "      <td>0.466404</td>\n",
       "      <td>0.435981</td>\n",
       "      <td>0.110755</td>\n",
       "      <td>0.503404</td>\n",
       "      <td>0.938845</td>\n",
       "      <td>0.960229</td>\n",
       "      <td>0.141163</td>\n",
       "      <td>0.199975</td>\n",
       "      <td>0.920871</td>\n",
       "      <td>0.163608</td>\n",
       "      <td>191.195262</td>\n",
       "      <td>0.347699</td>\n",
       "      <td>0.238123</td>\n",
       "      <td>0.220649</td>\n",
       "    </tr>\n",
       "    <tr>\n",
       "      <th>2</th>\n",
       "      <td>0.513917</td>\n",
       "      <td>0.501974</td>\n",
       "      <td>0.637148</td>\n",
       "      <td>0.500662</td>\n",
       "      <td>0.932608</td>\n",
       "      <td>0.944079</td>\n",
       "      <td>0.631511</td>\n",
       "      <td>0.199838</td>\n",
       "      <td>0.934936</td>\n",
       "      <td>0.744533</td>\n",
       "      <td>221.144871</td>\n",
       "      <td>1.188223</td>\n",
       "      <td>0.803549</td>\n",
       "      <td>0.778289</td>\n",
       "    </tr>\n",
       "    <tr>\n",
       "      <th>3</th>\n",
       "      <td>0.623420</td>\n",
       "      <td>0.586179</td>\n",
       "      <td>2.424286</td>\n",
       "      <td>0.501580</td>\n",
       "      <td>1.412891</td>\n",
       "      <td>1.467043</td>\n",
       "      <td>2.494411</td>\n",
       "      <td>0.199328</td>\n",
       "      <td>1.390651</td>\n",
       "      <td>2.480243</td>\n",
       "      <td>260.596460</td>\n",
       "      <td>2.228921</td>\n",
       "      <td>1.242830</td>\n",
       "      <td>1.239513</td>\n",
       "    </tr>\n",
       "    <tr>\n",
       "      <th>4</th>\n",
       "      <td>0.483912</td>\n",
       "      <td>0.533743</td>\n",
       "      <td>4.361810</td>\n",
       "      <td>0.496841</td>\n",
       "      <td>2.177000</td>\n",
       "      <td>2.182860</td>\n",
       "      <td>4.345877</td>\n",
       "      <td>0.200967</td>\n",
       "      <td>2.109944</td>\n",
       "      <td>4.117557</td>\n",
       "      <td>234.625062</td>\n",
       "      <td>3.309179</td>\n",
       "      <td>0.628957</td>\n",
       "      <td>0.631346</td>\n",
       "    </tr>\n",
       "    <tr>\n",
       "      <th>5</th>\n",
       "      <td>0.282057</td>\n",
       "      <td>0.745342</td>\n",
       "      <td>5.000000</td>\n",
       "      <td>0.511869</td>\n",
       "      <td>2.481947</td>\n",
       "      <td>2.446197</td>\n",
       "      <td>5.130400</td>\n",
       "      <td>0.195206</td>\n",
       "      <td>2.394648</td>\n",
       "      <td>5.011383</td>\n",
       "      <td>323.270800</td>\n",
       "      <td>4.231708</td>\n",
       "      <td>0.011383</td>\n",
       "      <td>0.130400</td>\n",
       "    </tr>\n",
       "  </tbody>\n",
       "</table>\n",
       "</div>"
      ],
      "text/plain": [
       "                           x0        x1         C  Treatment         Y  \\\n",
       "ITE-ADAPTIVE-3CLUST                                                      \n",
       "0                    0.458347  0.476925  0.000000   0.502021  1.030321   \n",
       "1                    0.466404  0.435981  0.110755   0.503404  0.938845   \n",
       "2                    0.513917  0.501974  0.637148   0.500662  0.932608   \n",
       "3                    0.623420  0.586179  2.424286   0.501580  1.412891   \n",
       "4                    0.483912  0.533743  4.361810   0.496841  2.177000   \n",
       "5                    0.282057  0.745342  5.000000   0.511869  2.481947   \n",
       "\n",
       "                          Ycf       ITE   IS_TEST  Ycf-GDBR  ITE-GDBR  \\\n",
       "ITE-ADAPTIVE-3CLUST                                                     \n",
       "0                    0.992736 -0.115350  0.200940  1.037904 -0.101069   \n",
       "1                    0.960229  0.141163  0.199975  0.920871  0.163608   \n",
       "2                    0.944079  0.631511  0.199838  0.934936  0.744533   \n",
       "3                    1.467043  2.494411  0.199328  1.390651  2.480243   \n",
       "4                    2.182860  4.345877  0.200967  2.109944  4.117557   \n",
       "5                    2.446197  5.130400  0.195206  2.394648  5.011383   \n",
       "\n",
       "                     Box-Cluster  ITE-ADAPTIVE  ITE-ADAPTIVE-3CLUST-err-GDBR  \\\n",
       "ITE-ADAPTIVE-3CLUST                                                            \n",
       "0                     208.705769     -0.133639                      0.101069   \n",
       "1                     191.195262      0.347699                      0.238123   \n",
       "2                     221.144871      1.188223                      0.803549   \n",
       "3                     260.596460      2.228921                      1.242830   \n",
       "4                     234.625062      3.309179                      0.628957   \n",
       "5                     323.270800      4.231708                      0.011383   \n",
       "\n",
       "                     ITE-ADAPTIVE-3CLUST-err-True-ITE  \n",
       "ITE-ADAPTIVE-3CLUST                                    \n",
       "0                                            0.115350  \n",
       "1                                            0.220649  \n",
       "2                                            0.778289  \n",
       "3                                            1.239513  \n",
       "4                                            0.631346  \n",
       "5                                            0.130400  "
      ]
     },
     "execution_count": 30,
     "metadata": {},
     "output_type": "execute_result"
    }
   ],
   "source": [
    "data.groupby('ITE-ADAPTIVE-3CLUST').mean()"
   ]
  },
  {
   "cell_type": "code",
   "execution_count": null,
   "metadata": {},
   "outputs": [],
   "source": []
  }
 ],
 "metadata": {
  "kernelspec": {
   "display_name": "Python [conda env:jorje]",
   "language": "python",
   "name": "conda-env-jorje-py"
  },
  "language_info": {
   "codemirror_mode": {
    "name": "ipython",
    "version": 3
   },
   "file_extension": ".py",
   "mimetype": "text/x-python",
   "name": "python",
   "nbconvert_exporter": "python",
   "pygments_lexer": "ipython3",
   "version": "3.7.2"
  }
 },
 "nbformat": 4,
 "nbformat_minor": 2
}
