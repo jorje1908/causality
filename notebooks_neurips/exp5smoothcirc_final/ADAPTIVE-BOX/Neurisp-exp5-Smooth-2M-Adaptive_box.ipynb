{
 "cells": [
  {
   "cell_type": "code",
   "execution_count": 1,
   "metadata": {},
   "outputs": [],
   "source": [
    "%load_ext autoreload\n",
    "%autoreload 2"
   ]
  },
  {
   "cell_type": "code",
   "execution_count": 2,
   "metadata": {},
   "outputs": [],
   "source": [
    "import numpy as np\n",
    "import pandas as pd\n",
    "import matplotlib.pyplot as plt\n",
    "import seaborn as sns\n",
    "import matplotlib as mpl\n",
    "\n",
    "from sklearn.cluster import KMeans \n",
    "from sklearn.cluster import SpectralClustering\n",
    "from sklearn.cluster import AgglomerativeClustering\n",
    "from pathlib import Path"
   ]
  },
  {
   "cell_type": "code",
   "execution_count": 3,
   "metadata": {},
   "outputs": [],
   "source": [
    "import sys\n",
    "\n",
    "sys.path.append('../../../src')"
   ]
  },
  {
   "cell_type": "code",
   "execution_count": 4,
   "metadata": {},
   "outputs": [],
   "source": [
    "from base_exp_gen import generate_experiment as GEN_EXP\n",
    "from clustering_algos import agglomerative_clustering, kmeans_clustering,\\\n",
    "box_clustering, adaptive_box2, optimal_clustering\n",
    "from sklearn.model_selection import train_test_split as datasplit\n",
    "from sklearn.ensemble import GradientBoostingRegressor as GDBR\n",
    "from evaluations import computeATT_per_cluster as ATTC, predict_cf, calculate_ite, get_homogeneity, generate_paths,\\\n",
    "confusion_matrix\n",
    "\n"
   ]
  },
  {
   "cell_type": "code",
   "execution_count": 5,
   "metadata": {},
   "outputs": [],
   "source": [
    "np.random.seed(seed = 0)"
   ]
  },
  {
   "cell_type": "code",
   "execution_count": 6,
   "metadata": {},
   "outputs": [],
   "source": [
    "fonts = {'family': 'cmr10','weight': 'normal',\n",
    "            'size': 20}    \n",
    "div = 1\n",
    "\n",
    "l1 = 22/div\n",
    "l2 = 20/div\n",
    "l3 = 13/(div-0.2)\n",
    "\n",
    "mpl.rcParams['xtick.labelsize'] = l2\n",
    "mpl.rcParams['ytick.labelsize'] = l2\n",
    "mpl.rcParams['axes.labelsize'] = l1\n",
    "mpl.rcParams['font.serif'] = 'Times New Roman'\n",
    "mpl.rcParams['font.weight'] = 'normal'\n",
    "mpl.rcParams['font.size'] = 20\n",
    "mpl.rcParams['legend.fontsize'] = l3\n",
    "\n",
    "#axes_font = {'labelsize':l1}\n",
    "#mpl.rc('font', **font)\n",
    "#xticks = {'labelsize':l2}# 'ytick.labelsize':20}\n",
    "#yticks = {'labelsize':l2}# 'ytick.labelsize':20}\n",
    "#legend = {'fontsize':l3}\n",
    "# tex = {'usetex':True}\n",
    "#mpl.rc('axes', **axes_font)\n",
    "#mpl.rc('xtick', **xticks)\n",
    "#mpl.rc('ytick', **yticks)\n",
    "#mpl.rc('font', **fonts)\n",
    "#mpl.rc('legend', **legend"
   ]
  },
  {
   "cell_type": "code",
   "execution_count": 7,
   "metadata": {},
   "outputs": [],
   "source": [
    "pd.set_option(\"display.max_columns\", None)"
   ]
  },
  {
   "cell_type": "markdown",
   "metadata": {},
   "source": [
    "### Directory to save figures"
   ]
  },
  {
   "cell_type": "code",
   "execution_count": 8,
   "metadata": {},
   "outputs": [],
   "source": [
    "save = True\n",
    "path_figs = './figs/2M/'\n",
    "Path(path_figs).mkdir(exist_ok = True, parents = True)"
   ]
  },
  {
   "cell_type": "markdown",
   "metadata": {},
   "source": [
    "### Generate Experiment"
   ]
  },
  {
   "cell_type": "code",
   "execution_count": 9,
   "metadata": {},
   "outputs": [
    {
     "name": "stdout",
     "output_type": "stream",
     "text": [
      "Number of Clusters:1369, Number of Points:2000000\n",
      "CPU times: user 1.54 s, sys: 467 ms, total: 2 s\n",
      "Wall time: 2 s\n"
     ]
    }
   ],
   "source": [
    "%%time\n",
    "\n",
    "N,D = 2*10**6, 2\n",
    "x = int((N)**(1/4))\n",
    "clusters = x**2\n",
    "print(\"Number of Clusters:{}, Number of Points:{}\".format(clusters, N))\n",
    "kw_generate =  {'N':N, 'D':D,'f_gen_name': 'uniform_gen','low':0, 'high': 1}\n",
    "centers = [[0.25,0.25],[0.5,0.5],[0.75,0.75],[0.75,0.25], [0.25,0.75]]\n",
    "r_small = [0.122]*5\n",
    "r_big = [0.2,0.2,0.2, 0.2,0.2]\n",
    "kw_cluster =  {'f_class_name':'circle_class3', 'centers': centers, 'r_small': r_small, 'r_big':r_big}\n",
    "kw_treatment = {'f_treat_name' :'uniform_treat','choices':[0,1], 'probabilities':[0.5,0.5]}\n",
    "\n",
    "std = 5\n",
    "stats = np.array([[1, std], [0, std], [0, std], [0, std],[0, std],\n",
    "                  [0, std],[1, std],[1, std],[2, std],[3, std],[4, std],[5, std]])\n",
    "kw_outcome = {'f_outcome_name': 'outcome1','treatment':'Treatment', 'cls':'C', 'stats':stats}\n",
    "\n",
    "data = GEN_EXP(kw_generate, kw_cluster, kw_treatment, kw_outcome).dat\n",
    "data = calculate_ite(data.copy(), treatment = 'Treatment',\n",
    "                     counterfactual = 'Ycf', outcome = 'Y', ite_name = 'ITE')"
   ]
  },
  {
   "cell_type": "code",
   "execution_count": 10,
   "metadata": {},
   "outputs": [
    {
     "data": {
      "image/png": "[encoded data removed]",
      "text/plain": [
       "<Figure size 432x288 with 1 Axes>"
      ]
     },
     "metadata": {
      "needs_background": "light"
     },
     "output_type": "display_data"
    }
   ],
   "source": [
    "fig, ax = plt.subplots()\n",
    "\n",
    "ax.scatter(data['x0'].values, data['x1'].values, c=data['C'].values, cmap = 'Greys', s=0.1)\n",
    "\n",
    "ax.set_aspect('equal', adjustable='box')\n",
    "fig.savefig(path_figs+'data.jpeg',bbox_inches='tight', pad_inches = 0)\n",
    "\n",
    "plt.show()"
   ]
  },
  {
   "cell_type": "markdown",
   "metadata": {},
   "source": [
    " ### Estimate ITE with Gradient Boosting Trees"
   ]
  },
  {
   "cell_type": "code",
   "execution_count": 11,
   "metadata": {},
   "outputs": [
    {
     "name": "stdout",
     "output_type": "stream",
     "text": [
      "CPU times: user 1h 22min 31s, sys: 3.04 s, total: 1h 22min 34s\n",
      "Wall time: 1h 22min 48s\n"
     ]
    }
   ],
   "source": [
    "%%time\n",
    "f1_kwargs = {'n_estimators':400, 'max_depth':18}\n",
    "f2_kwargs = {'n_estimators':400, 'max_depth':18}\n",
    "\n",
    "data, models = predict_cf(data.copy(), col_select = ['x0', 'x1'], f1 = GDBR,\n",
    "                          f2 = GDBR, cf_name = 'Ycf-GDBR', f1_kwargs=f1_kwargs, \n",
    "                          f2_kwargs=f2_kwargs, ite_name ='ITE-GDBR')"
   ]
  },
  {
   "cell_type": "markdown",
   "metadata": {},
   "source": [
    "### Apply box clustering to use for the adaptive algorithm"
   ]
  },
  {
   "cell_type": "code",
   "execution_count": 12,
   "metadata": {},
   "outputs": [],
   "source": [
    "col_select = ['x0', 'x1']\n",
    "data,_ = box_clustering(data.copy(), clusters = clusters, col_select = col_select )"
   ]
  },
  {
   "cell_type": "markdown",
   "metadata": {},
   "source": [
    "### Calculate ATT per box cluster for optimal clustering"
   ]
  },
  {
   "cell_type": "code",
   "execution_count": 13,
   "metadata": {},
   "outputs": [],
   "source": [
    "ite_name = 'ITE-GDBR'\n",
    "box2 = ATTC(data.copy(), cluster_name = 'Box-Cluster', ATT_CLUST_name='Box-ATT',\n",
    "           points_name='Box-points', weight_names='Box-Weights', ITE_name = ite_name,\n",
    "            hom_name = 'Box-Hom', att = False)"
   ]
  },
  {
   "cell_type": "markdown",
   "metadata": {},
   "source": [
    "### Optimal 1d means recover"
   ]
  },
  {
   "cell_type": "code",
   "execution_count": 14,
   "metadata": {},
   "outputs": [
    {
     "name": "stdout",
     "output_type": "stream",
     "text": [
      "Did not pick 6, it picked: 7\n"
     ]
    }
   ],
   "source": [
    "name2 = 'Box-ATT'\n",
    "name = 'Opt-Clust'\n",
    "val = 6\n",
    "box2, means = optimal_clustering(box2, max_clusters = 7, col_select = name2, \n",
    "                      cluster_name = name, N=N, val = val )"
   ]
  },
  {
   "cell_type": "code",
   "execution_count": 15,
   "metadata": {},
   "outputs": [
    {
     "data": {
      "text/html": [
       "<div>\n",
       "<style scoped>\n",
       "    .dataframe tbody tr th:only-of-type {\n",
       "        vertical-align: middle;\n",
       "    }\n",
       "\n",
       "    .dataframe tbody tr th {\n",
       "        vertical-align: top;\n",
       "    }\n",
       "\n",
       "    .dataframe thead th {\n",
       "        text-align: right;\n",
       "    }\n",
       "</style>\n",
       "<table border=\"1\" class=\"dataframe\">\n",
       "  <thead>\n",
       "    <tr style=\"text-align: right;\">\n",
       "      <th></th>\n",
       "      <th>x0</th>\n",
       "      <th>x1</th>\n",
       "      <th>C</th>\n",
       "      <th>Treatment</th>\n",
       "      <th>Y</th>\n",
       "      <th>Ycf</th>\n",
       "      <th>ITE</th>\n",
       "      <th>IS_TEST</th>\n",
       "      <th>Ycf-GDBR</th>\n",
       "      <th>ITE-GDBR</th>\n",
       "      <th>Box-Cluster</th>\n",
       "    </tr>\n",
       "  </thead>\n",
       "  <tbody>\n",
       "    <tr>\n",
       "      <th>0</th>\n",
       "      <td>0.548814</td>\n",
       "      <td>0.715189</td>\n",
       "      <td>0</td>\n",
       "      <td>0</td>\n",
       "      <td>9.189899</td>\n",
       "      <td>9.564236</td>\n",
       "      <td>0.374337</td>\n",
       "      <td>1</td>\n",
       "      <td>1.505433</td>\n",
       "      <td>-7.684466</td>\n",
       "      <td>982</td>\n",
       "    </tr>\n",
       "    <tr>\n",
       "      <th>1</th>\n",
       "      <td>0.602763</td>\n",
       "      <td>0.544883</td>\n",
       "      <td>0</td>\n",
       "      <td>0</td>\n",
       "      <td>3.758011</td>\n",
       "      <td>5.481504</td>\n",
       "      <td>1.723492</td>\n",
       "      <td>0</td>\n",
       "      <td>1.045574</td>\n",
       "      <td>-2.712437</td>\n",
       "      <td>762</td>\n",
       "    </tr>\n",
       "    <tr>\n",
       "      <th>2</th>\n",
       "      <td>0.423655</td>\n",
       "      <td>0.645894</td>\n",
       "      <td>2</td>\n",
       "      <td>0</td>\n",
       "      <td>-1.354279</td>\n",
       "      <td>-0.796995</td>\n",
       "      <td>0.557284</td>\n",
       "      <td>1</td>\n",
       "      <td>5.643710</td>\n",
       "      <td>6.997989</td>\n",
       "      <td>866</td>\n",
       "    </tr>\n",
       "  </tbody>\n",
       "</table>\n",
       "</div>"
      ],
      "text/plain": [
       "         x0        x1  C  Treatment         Y       Ycf       ITE  IS_TEST  \\\n",
       "0  0.548814  0.715189  0          0  9.189899  9.564236  0.374337        1   \n",
       "1  0.602763  0.544883  0          0  3.758011  5.481504  1.723492        0   \n",
       "2  0.423655  0.645894  2          0 -1.354279 -0.796995  0.557284        1   \n",
       "\n",
       "   Ycf-GDBR  ITE-GDBR  Box-Cluster  \n",
       "0  1.505433 -7.684466          982  \n",
       "1  1.045574 -2.712437          762  \n",
       "2  5.643710  6.997989          866  "
      ]
     },
     "execution_count": 15,
     "metadata": {},
     "output_type": "execute_result"
    }
   ],
   "source": [
    "data.head(3)"
   ]
  },
  {
   "cell_type": "markdown",
   "metadata": {},
   "source": [
    "### Adaptive Box"
   ]
  },
  {
   "cell_type": "code",
   "execution_count": 16,
   "metadata": {},
   "outputs": [
    {
     "name": "stderr",
     "output_type": "stream",
     "text": [
      "/home/mavrog2/.conda/envs/jorje/lib/python3.7/site-packages/numba/core/ir_utils.py:2031: NumbaPendingDeprecationWarning: \n",
      "Encountered the use of a type that is scheduled for deprecation: type 'reflected list' found for argument 'data_groups2' of function 'adapt_numba'.\n",
      "\n",
      "For more information visit http://numba.pydata.org/numba-doc/latest/reference/deprecation.html#deprecation-of-reflection-for-list-and-set-types\n",
      "\n",
      "File \"../../../src/clustering_algos.py\", line 478:\n",
      "@jit(nopython = True)\n",
      "def adapt_numba(data_groups2, new_ites, values, pivot_array,\n",
      "^\n",
      "\n",
      "  warnings.warn(NumbaPendingDeprecationWarning(msg, loc=loc))\n"
     ]
    },
    {
     "name": "stdout",
     "output_type": "stream",
     "text": [
      "CPU times: user 1h 59min 45s, sys: 20.7 s, total: 2h 5s\n",
      "Wall time: 1h 59min 44s\n"
     ]
    }
   ],
   "source": [
    "%%time\n",
    "adaptive_ite_name = 'ITE-ADAPTIVE'\n",
    "ite_old_name = 'ITE-GDBR'\n",
    "data = adaptive_box2(data, clusters = clusters, ite_old_name = ite_old_name,\n",
    "                    ite_name = adaptive_ite_name, col_select = col_select)"
   ]
  },
  {
   "cell_type": "code",
   "execution_count": 17,
   "metadata": {},
   "outputs": [
    {
     "data": {
      "text/html": [
       "<div>\n",
       "<style scoped>\n",
       "    .dataframe tbody tr th:only-of-type {\n",
       "        vertical-align: middle;\n",
       "    }\n",
       "\n",
       "    .dataframe tbody tr th {\n",
       "        vertical-align: top;\n",
       "    }\n",
       "\n",
       "    .dataframe thead th {\n",
       "        text-align: right;\n",
       "    }\n",
       "</style>\n",
       "<table border=\"1\" class=\"dataframe\">\n",
       "  <thead>\n",
       "    <tr style=\"text-align: right;\">\n",
       "      <th></th>\n",
       "      <th>x0</th>\n",
       "      <th>x1</th>\n",
       "      <th>C</th>\n",
       "      <th>Treatment</th>\n",
       "      <th>Y</th>\n",
       "      <th>Ycf</th>\n",
       "      <th>ITE</th>\n",
       "      <th>IS_TEST</th>\n",
       "      <th>Ycf-GDBR</th>\n",
       "      <th>ITE-GDBR</th>\n",
       "      <th>Box-Cluster</th>\n",
       "      <th>ITE-ADAPTIVE</th>\n",
       "    </tr>\n",
       "  </thead>\n",
       "  <tbody>\n",
       "    <tr>\n",
       "      <th>0</th>\n",
       "      <td>0.548814</td>\n",
       "      <td>0.715189</td>\n",
       "      <td>0</td>\n",
       "      <td>0</td>\n",
       "      <td>9.189899</td>\n",
       "      <td>9.564236</td>\n",
       "      <td>0.374337</td>\n",
       "      <td>1</td>\n",
       "      <td>1.505433</td>\n",
       "      <td>-7.684466</td>\n",
       "      <td>982</td>\n",
       "      <td>1.372232</td>\n",
       "    </tr>\n",
       "    <tr>\n",
       "      <th>1</th>\n",
       "      <td>0.602763</td>\n",
       "      <td>0.544883</td>\n",
       "      <td>0</td>\n",
       "      <td>0</td>\n",
       "      <td>3.758011</td>\n",
       "      <td>5.481504</td>\n",
       "      <td>1.723492</td>\n",
       "      <td>0</td>\n",
       "      <td>1.045574</td>\n",
       "      <td>-2.712437</td>\n",
       "      <td>762</td>\n",
       "      <td>0.586093</td>\n",
       "    </tr>\n",
       "    <tr>\n",
       "      <th>2</th>\n",
       "      <td>0.423655</td>\n",
       "      <td>0.645894</td>\n",
       "      <td>2</td>\n",
       "      <td>0</td>\n",
       "      <td>-1.354279</td>\n",
       "      <td>-0.796995</td>\n",
       "      <td>0.557284</td>\n",
       "      <td>1</td>\n",
       "      <td>5.643710</td>\n",
       "      <td>6.997989</td>\n",
       "      <td>866</td>\n",
       "      <td>3.343349</td>\n",
       "    </tr>\n",
       "  </tbody>\n",
       "</table>\n",
       "</div>"
      ],
      "text/plain": [
       "         x0        x1  C  Treatment         Y       Ycf       ITE  IS_TEST  \\\n",
       "0  0.548814  0.715189  0          0  9.189899  9.564236  0.374337        1   \n",
       "1  0.602763  0.544883  0          0  3.758011  5.481504  1.723492        0   \n",
       "2  0.423655  0.645894  2          0 -1.354279 -0.796995  0.557284        1   \n",
       "\n",
       "   Ycf-GDBR  ITE-GDBR  Box-Cluster  ITE-ADAPTIVE  \n",
       "0  1.505433 -7.684466          982      1.372232  \n",
       "1  1.045574 -2.712437          762      0.586093  \n",
       "2  5.643710  6.997989          866      3.343349  "
      ]
     },
     "execution_count": 17,
     "metadata": {},
     "output_type": "execute_result"
    }
   ],
   "source": [
    "data.head(3)"
   ]
  },
  {
   "cell_type": "code",
   "execution_count": 18,
   "metadata": {},
   "outputs": [],
   "source": [
    "clusts = len(means)\n",
    "means2 = means.reshape(val,1)\n",
    "\n",
    "data, km = kmeans_clustering(data, clusters = clusts, cluster_name = 'ITE-ADAPTIVE-3CLUST',\n",
    "                           col_select = [adaptive_ite_name], assign_means = True, means = means2 )"
   ]
  },
  {
   "cell_type": "code",
   "execution_count": 19,
   "metadata": {},
   "outputs": [
    {
     "name": "stdout",
     "output_type": "stream",
     "text": [
      "[[0.04165992]\n",
      " [0.8030848 ]\n",
      " [1.80611936]\n",
      " [2.80369103]\n",
      " [3.89521585]\n",
      " [4.85917946]]\n",
      "[[0.04165992]\n",
      " [0.8030848 ]\n",
      " [1.80611936]\n",
      " [2.80369103]\n",
      " [3.89521585]\n",
      " [4.85917946]]\n"
     ]
    }
   ],
   "source": [
    "print(means2)\n",
    "print(km.cluster_centers_)"
   ]
  },
  {
   "cell_type": "markdown",
   "metadata": {},
   "source": [
    "### Adaptive ITES values scatter plot"
   ]
  },
  {
   "cell_type": "code",
   "execution_count": 20,
   "metadata": {},
   "outputs": [
    {
     "data": {
      "image/png": "[encoded data removed]",
      "text/plain": [
       "<Figure size 432x288 with 1 Axes>"
      ]
     },
     "metadata": {
      "needs_background": "light"
     },
     "output_type": "display_data"
    }
   ],
   "source": [
    "path3 = path_figs+'reconstruction/'\n",
    "Path(path3).mkdir(exist_ok = True, parents = True)\n",
    "\n",
    "fig, ax = plt.subplots()\n",
    "\n",
    "sc = ax.scatter(data['x0'].values, data['x1'].values, c=data[adaptive_ite_name], cmap = 'Greys', s = 1)\n",
    "if save:\n",
    "    ax.set_aspect('equal', adjustable='box')\n",
    "    fig.savefig(path3+'{}.jpeg'.format('ites'), bbox_inches='tight',pad_inches = 0)"
   ]
  },
  {
   "cell_type": "markdown",
   "metadata": {},
   "source": [
    "###  Clustering of Adaptive ites"
   ]
  },
  {
   "cell_type": "code",
   "execution_count": 21,
   "metadata": {},
   "outputs": [
    {
     "data": {
      "image/png": "[encoded data removed]",
      "text/plain": [
       "<Figure size 432x288 with 1 Axes>"
      ]
     },
     "metadata": {
      "needs_background": "light"
     },
     "output_type": "display_data"
    }
   ],
   "source": [
    "fig, ax = plt.subplots()\n",
    "\n",
    "sc = ax.scatter(data['x0'].values, data['x1'].values, c=data['ITE-ADAPTIVE-3CLUST'], cmap = 'Greys', s = 1)\n",
    "\n",
    "if save:\n",
    "    ax.set_aspect('equal', adjustable='box')\n",
    "    fig.savefig(path3+'{}.jpeg'.format('ITE-ADAPTIVE-3CLUST'), bbox_inches='tight',pad_inches = 0)"
   ]
  },
  {
   "cell_type": "markdown",
   "metadata": {},
   "source": [
    "### Histogram of Adaptive Ites"
   ]
  },
  {
   "cell_type": "code",
   "execution_count": 22,
   "metadata": {},
   "outputs": [
    {
     "name": "stderr",
     "output_type": "stream",
     "text": [
      "/home/mavrog2/.conda/envs/jorje/lib/python3.7/site-packages/seaborn/distributions.py:2619: FutureWarning: `distplot` is a deprecated function and will be removed in a future version. Please adapt your code to use either `displot` (a figure-level function with similar flexibility) or `histplot` (an axes-level function for histograms).\n",
      "  warnings.warn(msg, FutureWarning)\n"
     ]
    },
    {
     "data": {
      "image/png": "[encoded data removed]",
      "text/plain": [
       "<Figure size 432x288 with 1 Axes>"
      ]
     },
     "metadata": {
      "needs_background": "light"
     },
     "output_type": "display_data"
    }
   ],
   "source": [
    "path2 = path_figs+'histograms/'\n",
    "Path(path2).mkdir(exist_ok = True)\n",
    "\n",
    "fig, ax = plt.subplots()\n",
    "\n",
    "ax = sns.distplot(data[adaptive_ite_name],  bins=400, kde = False,ax = ax)\n",
    "ax.set_xlabel('ITE-PCM')\n",
    "\n",
    "#ax.set_xlim(-0.3,2.3)\n",
    "if save:\n",
    "    fig.savefig(path2+'adaptivehist.pdf', bbox_inches='tight',pad_inches = 0)\n"
   ]
  },
  {
   "cell_type": "code",
   "execution_count": 23,
   "metadata": {},
   "outputs": [],
   "source": [
    "def MAE_pd(group, name1,name2,column_name):\n",
    "    \n",
    "    group[column_name] = np.abs(group[name1].values-group[name2].mean())\n",
    "    return group\n",
    "    \n",
    "    "
   ]
  },
  {
   "cell_type": "code",
   "execution_count": 24,
   "metadata": {},
   "outputs": [],
   "source": [
    "ite_column = 'ITE-GDBR'\n",
    "clust2 = 'ITE-ADAPTIVE-3CLUST'\n",
    "data = data.groupby(clust2).apply(lambda x: MAE_pd(x, 'C', ite_column, clust2+'-err-GDBR'))"
   ]
  },
  {
   "cell_type": "code",
   "execution_count": 25,
   "metadata": {},
   "outputs": [],
   "source": [
    "ite_column = 'ITE'\n",
    "\n",
    "data = data.groupby(clust2).apply(lambda x: MAE_pd(x, 'C', ite_column, clust2+'-err-True-ITE'))"
   ]
  },
  {
   "cell_type": "code",
   "execution_count": 26,
   "metadata": {},
   "outputs": [],
   "source": [
    "errors = data.describe().loc[['mean', 'std'], [col for col in data.columns if 'err' in col]].T"
   ]
  },
  {
   "cell_type": "code",
   "execution_count": 27,
   "metadata": {},
   "outputs": [
    {
     "data": {
      "text/html": [
       "<div>\n",
       "<style scoped>\n",
       "    .dataframe tbody tr th:only-of-type {\n",
       "        vertical-align: middle;\n",
       "    }\n",
       "\n",
       "    .dataframe tbody tr th {\n",
       "        vertical-align: top;\n",
       "    }\n",
       "\n",
       "    .dataframe thead th {\n",
       "        text-align: right;\n",
       "    }\n",
       "</style>\n",
       "<table border=\"1\" class=\"dataframe\">\n",
       "  <thead>\n",
       "    <tr style=\"text-align: right;\">\n",
       "      <th></th>\n",
       "      <th>mean</th>\n",
       "      <th>std</th>\n",
       "    </tr>\n",
       "  </thead>\n",
       "  <tbody>\n",
       "    <tr>\n",
       "      <th>ITE-ADAPTIVE-3CLUST-err-True-ITE</th>\n",
       "      <td>0.341296</td>\n",
       "      <td>0.518125</td>\n",
       "    </tr>\n",
       "    <tr>\n",
       "      <th>ITE-ADAPTIVE-3CLUST-err-GDBR</th>\n",
       "      <td>0.352344</td>\n",
       "      <td>0.514073</td>\n",
       "    </tr>\n",
       "  </tbody>\n",
       "</table>\n",
       "</div>"
      ],
      "text/plain": [
       "                                      mean       std\n",
       "ITE-ADAPTIVE-3CLUST-err-True-ITE  0.341296  0.518125\n",
       "ITE-ADAPTIVE-3CLUST-err-GDBR      0.352344  0.514073"
      ]
     },
     "execution_count": 27,
     "metadata": {},
     "output_type": "execute_result"
    }
   ],
   "source": [
    "errors.sort_values(by = 'mean')"
   ]
  },
  {
   "cell_type": "code",
   "execution_count": 28,
   "metadata": {},
   "outputs": [
    {
     "data": {
      "image/png": "[encoded data removed]",
      "text/plain": [
       "<Figure size 432x288 with 1 Axes>"
      ]
     },
     "metadata": {
      "needs_background": "light"
     },
     "output_type": "display_data"
    }
   ],
   "source": [
    "ax = errors['mean'].sort_values().plot.barh()\n",
    "plt.show()"
   ]
  },
  {
   "cell_type": "code",
   "execution_count": 29,
   "metadata": {},
   "outputs": [
    {
     "name": "stdout",
     "output_type": "stream",
     "text": [
      "Opt-Clust\n"
     ]
    },
    {
     "data": {
      "text/html": [
       "<div>\n",
       "<style scoped>\n",
       "    .dataframe tbody tr th:only-of-type {\n",
       "        vertical-align: middle;\n",
       "    }\n",
       "\n",
       "    .dataframe tbody tr th {\n",
       "        vertical-align: top;\n",
       "    }\n",
       "\n",
       "    .dataframe thead th {\n",
       "        text-align: right;\n",
       "    }\n",
       "</style>\n",
       "<table border=\"1\" class=\"dataframe\">\n",
       "  <thead>\n",
       "    <tr style=\"text-align: right;\">\n",
       "      <th></th>\n",
       "      <th>C0 Pred</th>\n",
       "      <th>C1 Pred</th>\n",
       "      <th>C2 Pred</th>\n",
       "      <th>C3 Pred</th>\n",
       "      <th>C4 Pred</th>\n",
       "      <th>C5 Pred</th>\n",
       "    </tr>\n",
       "  </thead>\n",
       "  <tbody>\n",
       "    <tr>\n",
       "      <th>C0 True</th>\n",
       "      <td>0.785206</td>\n",
       "      <td>0.144818</td>\n",
       "      <td>0.064190</td>\n",
       "      <td>0.005785</td>\n",
       "      <td>0.000000</td>\n",
       "      <td>0.000000</td>\n",
       "    </tr>\n",
       "    <tr>\n",
       "      <th>C1 True</th>\n",
       "      <td>0.016788</td>\n",
       "      <td>0.967217</td>\n",
       "      <td>0.015995</td>\n",
       "      <td>0.000000</td>\n",
       "      <td>0.000000</td>\n",
       "      <td>0.000000</td>\n",
       "    </tr>\n",
       "    <tr>\n",
       "      <th>C2 True</th>\n",
       "      <td>0.000000</td>\n",
       "      <td>0.109476</td>\n",
       "      <td>0.766563</td>\n",
       "      <td>0.121513</td>\n",
       "      <td>0.002448</td>\n",
       "      <td>0.000000</td>\n",
       "    </tr>\n",
       "    <tr>\n",
       "      <th>C3 True</th>\n",
       "      <td>0.000000</td>\n",
       "      <td>0.000603</td>\n",
       "      <td>0.318947</td>\n",
       "      <td>0.680450</td>\n",
       "      <td>0.000000</td>\n",
       "      <td>0.000000</td>\n",
       "    </tr>\n",
       "    <tr>\n",
       "      <th>C4 True</th>\n",
       "      <td>0.000000</td>\n",
       "      <td>0.000000</td>\n",
       "      <td>0.079809</td>\n",
       "      <td>0.331779</td>\n",
       "      <td>0.588412</td>\n",
       "      <td>0.000000</td>\n",
       "    </tr>\n",
       "    <tr>\n",
       "      <th>C5 True</th>\n",
       "      <td>0.000000</td>\n",
       "      <td>0.000000</td>\n",
       "      <td>0.001153</td>\n",
       "      <td>0.194152</td>\n",
       "      <td>0.298594</td>\n",
       "      <td>0.506101</td>\n",
       "    </tr>\n",
       "  </tbody>\n",
       "</table>\n",
       "</div>"
      ],
      "text/plain": [
       "          C0 Pred   C1 Pred   C2 Pred   C3 Pred   C4 Pred   C5 Pred\n",
       "C0 True  0.785206  0.144818  0.064190  0.005785  0.000000  0.000000\n",
       "C1 True  0.016788  0.967217  0.015995  0.000000  0.000000  0.000000\n",
       "C2 True  0.000000  0.109476  0.766563  0.121513  0.002448  0.000000\n",
       "C3 True  0.000000  0.000603  0.318947  0.680450  0.000000  0.000000\n",
       "C4 True  0.000000  0.000000  0.079809  0.331779  0.588412  0.000000\n",
       "C5 True  0.000000  0.000000  0.001153  0.194152  0.298594  0.506101"
      ]
     },
     "metadata": {},
     "output_type": "display_data"
    }
   ],
   "source": [
    "from IPython.display import display\n",
    "\n",
    "path4 = path_figs+'matrices/'\n",
    "Path(path4).mkdir(exist_ok = True)\n",
    "\n",
    "mat = confusion_matrix(data, 'C', 'ITE-ADAPTIVE-3CLUST', 6, save = save, save_dir = path4)\n",
    "print(name)\n",
    "display(mat)"
   ]
  },
  {
   "cell_type": "code",
   "execution_count": 30,
   "metadata": {},
   "outputs": [
    {
     "data": {
      "text/html": [
       "<div>\n",
       "<style scoped>\n",
       "    .dataframe tbody tr th:only-of-type {\n",
       "        vertical-align: middle;\n",
       "    }\n",
       "\n",
       "    .dataframe tbody tr th {\n",
       "        vertical-align: top;\n",
       "    }\n",
       "\n",
       "    .dataframe thead th {\n",
       "        text-align: right;\n",
       "    }\n",
       "</style>\n",
       "<table border=\"1\" class=\"dataframe\">\n",
       "  <thead>\n",
       "    <tr style=\"text-align: right;\">\n",
       "      <th></th>\n",
       "      <th>x0</th>\n",
       "      <th>x1</th>\n",
       "      <th>C</th>\n",
       "      <th>Treatment</th>\n",
       "      <th>Y</th>\n",
       "      <th>Ycf</th>\n",
       "      <th>ITE</th>\n",
       "      <th>IS_TEST</th>\n",
       "      <th>Ycf-GDBR</th>\n",
       "      <th>ITE-GDBR</th>\n",
       "      <th>Box-Cluster</th>\n",
       "      <th>ITE-ADAPTIVE</th>\n",
       "      <th>ITE-ADAPTIVE-3CLUST-err-GDBR</th>\n",
       "      <th>ITE-ADAPTIVE-3CLUST-err-True-ITE</th>\n",
       "    </tr>\n",
       "    <tr>\n",
       "      <th>ITE-ADAPTIVE-3CLUST</th>\n",
       "      <th></th>\n",
       "      <th></th>\n",
       "      <th></th>\n",
       "      <th></th>\n",
       "      <th></th>\n",
       "      <th></th>\n",
       "      <th></th>\n",
       "      <th></th>\n",
       "      <th></th>\n",
       "      <th></th>\n",
       "      <th></th>\n",
       "      <th></th>\n",
       "      <th></th>\n",
       "      <th></th>\n",
       "    </tr>\n",
       "  </thead>\n",
       "  <tbody>\n",
       "    <tr>\n",
       "      <th>0</th>\n",
       "      <td>0.486467</td>\n",
       "      <td>0.485970</td>\n",
       "      <td>0.002480</td>\n",
       "      <td>0.500614</td>\n",
       "      <td>1.000645</td>\n",
       "      <td>0.999210</td>\n",
       "      <td>0.000660</td>\n",
       "      <td>0.199383</td>\n",
       "      <td>0.995191</td>\n",
       "      <td>0.027897</td>\n",
       "      <td>664.309709</td>\n",
       "      <td>0.043220</td>\n",
       "      <td>0.030239</td>\n",
       "      <td>0.003137</td>\n",
       "    </tr>\n",
       "    <tr>\n",
       "      <th>1</th>\n",
       "      <td>0.426644</td>\n",
       "      <td>0.412876</td>\n",
       "      <td>0.499835</td>\n",
       "      <td>0.499462</td>\n",
       "      <td>0.787558</td>\n",
       "      <td>0.800081</td>\n",
       "      <td>0.499502</td>\n",
       "      <td>0.200366</td>\n",
       "      <td>0.812469</td>\n",
       "      <td>0.544467</td>\n",
       "      <td>561.972921</td>\n",
       "      <td>0.832603</td>\n",
       "      <td>0.543795</td>\n",
       "      <td>0.540164</td>\n",
       "    </tr>\n",
       "    <tr>\n",
       "      <th>2</th>\n",
       "      <td>0.570589</td>\n",
       "      <td>0.549917</td>\n",
       "      <td>1.633162</td>\n",
       "      <td>0.500895</td>\n",
       "      <td>1.153014</td>\n",
       "      <td>1.160166</td>\n",
       "      <td>1.638691</td>\n",
       "      <td>0.201295</td>\n",
       "      <td>1.159302</td>\n",
       "      <td>1.641095</td>\n",
       "      <td>754.835809</td>\n",
       "      <td>1.811801</td>\n",
       "      <td>1.110491</td>\n",
       "      <td>1.111228</td>\n",
       "    </tr>\n",
       "    <tr>\n",
       "      <th>3</th>\n",
       "      <td>0.638454</td>\n",
       "      <td>0.608916</td>\n",
       "      <td>3.362274</td>\n",
       "      <td>0.497060</td>\n",
       "      <td>1.702917</td>\n",
       "      <td>1.743995</td>\n",
       "      <td>3.345551</td>\n",
       "      <td>0.201055</td>\n",
       "      <td>1.722857</td>\n",
       "      <td>3.222336</td>\n",
       "      <td>838.441103</td>\n",
       "      <td>2.805845</td>\n",
       "      <td>0.756494</td>\n",
       "      <td>0.783424</td>\n",
       "    </tr>\n",
       "    <tr>\n",
       "      <th>4</th>\n",
       "      <td>0.579966</td>\n",
       "      <td>0.419084</td>\n",
       "      <td>4.331966</td>\n",
       "      <td>0.499875</td>\n",
       "      <td>2.175716</td>\n",
       "      <td>2.171388</td>\n",
       "      <td>4.346364</td>\n",
       "      <td>0.199949</td>\n",
       "      <td>2.157751</td>\n",
       "      <td>4.240311</td>\n",
       "      <td>576.026047</td>\n",
       "      <td>3.854174</td>\n",
       "      <td>0.419209</td>\n",
       "      <td>0.453945</td>\n",
       "    </tr>\n",
       "    <tr>\n",
       "      <th>5</th>\n",
       "      <td>0.252041</td>\n",
       "      <td>0.749560</td>\n",
       "      <td>5.000000</td>\n",
       "      <td>0.502522</td>\n",
       "      <td>2.507631</td>\n",
       "      <td>2.519099</td>\n",
       "      <td>4.988143</td>\n",
       "      <td>0.199504</td>\n",
       "      <td>2.472744</td>\n",
       "      <td>4.928236</td>\n",
       "      <td>1016.509883</td>\n",
       "      <td>4.826498</td>\n",
       "      <td>0.071764</td>\n",
       "      <td>0.011857</td>\n",
       "    </tr>\n",
       "  </tbody>\n",
       "</table>\n",
       "</div>"
      ],
      "text/plain": [
       "                           x0        x1         C  Treatment         Y  \\\n",
       "ITE-ADAPTIVE-3CLUST                                                      \n",
       "0                    0.486467  0.485970  0.002480   0.500614  1.000645   \n",
       "1                    0.426644  0.412876  0.499835   0.499462  0.787558   \n",
       "2                    0.570589  0.549917  1.633162   0.500895  1.153014   \n",
       "3                    0.638454  0.608916  3.362274   0.497060  1.702917   \n",
       "4                    0.579966  0.419084  4.331966   0.499875  2.175716   \n",
       "5                    0.252041  0.749560  5.000000   0.502522  2.507631   \n",
       "\n",
       "                          Ycf       ITE   IS_TEST  Ycf-GDBR  ITE-GDBR  \\\n",
       "ITE-ADAPTIVE-3CLUST                                                     \n",
       "0                    0.999210  0.000660  0.199383  0.995191  0.027897   \n",
       "1                    0.800081  0.499502  0.200366  0.812469  0.544467   \n",
       "2                    1.160166  1.638691  0.201295  1.159302  1.641095   \n",
       "3                    1.743995  3.345551  0.201055  1.722857  3.222336   \n",
       "4                    2.171388  4.346364  0.199949  2.157751  4.240311   \n",
       "5                    2.519099  4.988143  0.199504  2.472744  4.928236   \n",
       "\n",
       "                     Box-Cluster  ITE-ADAPTIVE  ITE-ADAPTIVE-3CLUST-err-GDBR  \\\n",
       "ITE-ADAPTIVE-3CLUST                                                            \n",
       "0                     664.309709      0.043220                      0.030239   \n",
       "1                     561.972921      0.832603                      0.543795   \n",
       "2                     754.835809      1.811801                      1.110491   \n",
       "3                     838.441103      2.805845                      0.756494   \n",
       "4                     576.026047      3.854174                      0.419209   \n",
       "5                    1016.509883      4.826498                      0.071764   \n",
       "\n",
       "                     ITE-ADAPTIVE-3CLUST-err-True-ITE  \n",
       "ITE-ADAPTIVE-3CLUST                                    \n",
       "0                                            0.003137  \n",
       "1                                            0.540164  \n",
       "2                                            1.111228  \n",
       "3                                            0.783424  \n",
       "4                                            0.453945  \n",
       "5                                            0.011857  "
      ]
     },
     "execution_count": 30,
     "metadata": {},
     "output_type": "execute_result"
    }
   ],
   "source": [
    "data.groupby('ITE-ADAPTIVE-3CLUST').mean()"
   ]
  },
  {
   "cell_type": "code",
   "execution_count": null,
   "metadata": {},
   "outputs": [],
   "source": []
  }
 ],
 "metadata": {
  "kernelspec": {
   "display_name": "Python [conda env:jorje]",
   "language": "python",
   "name": "conda-env-jorje-py"
  },
  "language_info": {
   "codemirror_mode": {
    "name": "ipython",
    "version": 3
   },
   "file_extension": ".py",
   "mimetype": "text/x-python",
   "name": "python",
   "nbconvert_exporter": "python",
   "pygments_lexer": "ipython3",
   "version": "3.7.2"
  }
 },
 "nbformat": 4,
 "nbformat_minor": 2
}
