{
 "cells": [
  {
   "cell_type": "code",
   "execution_count": 1,
   "metadata": {},
   "outputs": [],
   "source": [
    "%load_ext autoreload\n",
    "%autoreload 2\n"
   ]
  },
  {
   "cell_type": "code",
   "execution_count": 2,
   "metadata": {},
   "outputs": [],
   "source": [
    "import numpy as np\n",
    "import pandas as pd\n",
    "import matplotlib.pyplot as plt\n",
    "import seaborn as sns\n",
    "import matplotlib as mpl\n",
    "\n",
    "from sklearn.cluster import KMeans \n",
    "from sklearn.cluster import SpectralClustering\n",
    "from sklearn.cluster import AgglomerativeClustering\n",
    "from pathlib import Path"
   ]
  },
  {
   "cell_type": "code",
   "execution_count": 3,
   "metadata": {},
   "outputs": [],
   "source": [
    "import sys\n",
    "\n",
    "sys.path.append('../../../src')\n",
    "\n"
   ]
  },
  {
   "cell_type": "code",
   "execution_count": 4,
   "metadata": {},
   "outputs": [],
   "source": [
    "from base_exp_gen import generate_experiment as GEN_EXP\n",
    "from clustering_algos import agglomerative_clustering, kmeans_clustering, box_clustering\n",
    "from sklearn.model_selection import train_test_split as datasplit\n",
    "from sklearn.ensemble import GradientBoostingRegressor as GDBR\n",
    "from evaluations import computeATT_per_cluster as ATTC, predict_cf, calculate_ite, get_homogeneity, generate_paths,\\\n",
    "confusion_matrix\n",
    "\n"
   ]
  },
  {
   "cell_type": "code",
   "execution_count": 5,
   "metadata": {},
   "outputs": [],
   "source": [
    "np.random.seed(seed = 0)"
   ]
  },
  {
   "cell_type": "code",
   "execution_count": 6,
   "metadata": {},
   "outputs": [],
   "source": [
    "fonts = {'family': 'cmr10','weight': 'normal',\n",
    "            'size': 20}    \n",
    "div = 1\n",
    "\n",
    "l1 = 22/div\n",
    "l2 = 20/div\n",
    "l3 = 13/(div-0.2)\n",
    "\n",
    "mpl.rcParams['xtick.labelsize'] = l2\n",
    "mpl.rcParams['ytick.labelsize'] = l2\n",
    "mpl.rcParams['axes.labelsize'] = l1\n",
    "mpl.rcParams['font.serif'] = 'Times New Roman'\n",
    "mpl.rcParams['font.weight'] = 'normal'\n",
    "mpl.rcParams['font.size'] = 20\n",
    "mpl.rcParams['legend.fontsize'] = l3\n",
    "\n",
    "#axes_font = {'labelsize':l1}\n",
    "#mpl.rc('font', **font)\n",
    "#xticks = {'labelsize':l2}# 'ytick.labelsize':20}\n",
    "#yticks = {'labelsize':l2}# 'ytick.labelsize':20}\n",
    "#legend = {'fontsize':l3}\n",
    "# tex = {'usetex':True}\n",
    "#mpl.rc('axes', **axes_font)\n",
    "#mpl.rc('xtick', **xticks)\n",
    "#mpl.rc('ytick', **yticks)\n",
    "#mpl.rc('font', **fonts)\n",
    "#mpl.rc('legend', **legend)"
   ]
  },
  {
   "cell_type": "code",
   "execution_count": null,
   "metadata": {},
   "outputs": [],
   "source": []
  },
  {
   "cell_type": "code",
   "execution_count": 7,
   "metadata": {},
   "outputs": [
    {
     "name": "stdout",
     "output_type": "stream",
     "text": [
      "20.0\n"
     ]
    }
   ],
   "source": [
    "print(mpl.rcParams['xtick.labelsize'])"
   ]
  },
  {
   "cell_type": "code",
   "execution_count": 8,
   "metadata": {},
   "outputs": [],
   "source": [
    "pd.set_option(\"display.max_columns\", None)\n"
   ]
  },
  {
   "cell_type": "markdown",
   "metadata": {},
   "source": [
    "### Generate Experiment"
   ]
  },
  {
   "cell_type": "code",
   "execution_count": 9,
   "metadata": {},
   "outputs": [
    {
     "name": "stdout",
     "output_type": "stream",
     "text": [
      "CPU times: user 0 ns, sys: 424 µs, total: 424 µs\n",
      "Wall time: 808 µs\n"
     ]
    }
   ],
   "source": [
    "%%time\n",
    "path_figs = './figs/2MX/'\n",
    "save = True\n",
    "Path(path_figs).mkdir(exist_ok = True, parents = True)\n"
   ]
  },
  {
   "cell_type": "code",
   "execution_count": 10,
   "metadata": {},
   "outputs": [
    {
     "name": "stdout",
     "output_type": "stream",
     "text": [
      "Number of Clusters:1369, Number of Points:2000000\n",
      "CPU times: user 1.49 s, sys: 382 ms, total: 1.87 s\n",
      "Wall time: 1.86 s\n"
     ]
    }
   ],
   "source": [
    "%%time\n",
    "\n",
    "N,D = 2*10**6, 2\n",
    "x = int((N)**(1/4))\n",
    "clusters = x**2\n",
    "print(\"Number of Clusters:{}, Number of Points:{}\".format(clusters, N))\n",
    "kw_generate =  {'N':N, 'D':D,'f_gen_name': 'uniform_gen','low':0, 'high': 1}\n",
    "centers = [[0.25,0.25],[0.5,0.5],[0.75,0.75],[0.75,0.25], [0.25,0.75]]\n",
    "r_small = [0.122]*5\n",
    "r_big = [0.2,0.2,0.2, 0.2,0.2]\n",
    "kw_cluster =  {'f_class_name':'circle_class3', 'centers': centers, 'r_small': r_small, 'r_big':r_big}\n",
    "kw_treatment = {'f_treat_name' :'uniform_treat','choices':[0,1], 'probabilities':[0.5,0.5]}\n",
    "\n",
    "std = 5\n",
    "stats = np.array([[1, std], [0, std], [0, std], [0, std],[0, std],\n",
    "                  [0, std],[1, std],[1, std],[2, std],[3, std],[4, std],[5, std]])\n",
    "kw_outcome = {'f_outcome_name': 'outcome1','treatment':'Treatment', 'cls':'C', 'stats':stats}\n",
    "\n",
    "data = GEN_EXP(kw_generate, kw_cluster, kw_treatment, kw_outcome).dat\n",
    "data = calculate_ite(data.copy(), treatment = 'Treatment',\n",
    "                     counterfactual = 'Ycf', outcome = 'Y', ite_name = 'ITE')"
   ]
  },
  {
   "cell_type": "code",
   "execution_count": 11,
   "metadata": {},
   "outputs": [
    {
     "data": {
      "text/html": [
       "<div>\n",
       "<style scoped>\n",
       "    .dataframe tbody tr th:only-of-type {\n",
       "        vertical-align: middle;\n",
       "    }\n",
       "\n",
       "    .dataframe tbody tr th {\n",
       "        vertical-align: top;\n",
       "    }\n",
       "\n",
       "    .dataframe thead th {\n",
       "        text-align: right;\n",
       "    }\n",
       "</style>\n",
       "<table border=\"1\" class=\"dataframe\">\n",
       "  <thead>\n",
       "    <tr style=\"text-align: right;\">\n",
       "      <th></th>\n",
       "      <th>x0</th>\n",
       "      <th>x1</th>\n",
       "      <th>C</th>\n",
       "      <th>Treatment</th>\n",
       "      <th>Y</th>\n",
       "      <th>Ycf</th>\n",
       "      <th>ITE</th>\n",
       "    </tr>\n",
       "  </thead>\n",
       "  <tbody>\n",
       "    <tr>\n",
       "      <th>0</th>\n",
       "      <td>0.548814</td>\n",
       "      <td>0.715189</td>\n",
       "      <td>0</td>\n",
       "      <td>0</td>\n",
       "      <td>9.189899</td>\n",
       "      <td>9.564236</td>\n",
       "      <td>0.374337</td>\n",
       "    </tr>\n",
       "    <tr>\n",
       "      <th>1</th>\n",
       "      <td>0.602763</td>\n",
       "      <td>0.544883</td>\n",
       "      <td>0</td>\n",
       "      <td>0</td>\n",
       "      <td>3.758011</td>\n",
       "      <td>5.481504</td>\n",
       "      <td>1.723492</td>\n",
       "    </tr>\n",
       "    <tr>\n",
       "      <th>2</th>\n",
       "      <td>0.423655</td>\n",
       "      <td>0.645894</td>\n",
       "      <td>2</td>\n",
       "      <td>0</td>\n",
       "      <td>-1.354279</td>\n",
       "      <td>-0.796995</td>\n",
       "      <td>0.557284</td>\n",
       "    </tr>\n",
       "    <tr>\n",
       "      <th>3</th>\n",
       "      <td>0.437587</td>\n",
       "      <td>0.891773</td>\n",
       "      <td>0</td>\n",
       "      <td>1</td>\n",
       "      <td>5.268565</td>\n",
       "      <td>7.564383</td>\n",
       "      <td>-2.295817</td>\n",
       "    </tr>\n",
       "    <tr>\n",
       "      <th>4</th>\n",
       "      <td>0.963663</td>\n",
       "      <td>0.383442</td>\n",
       "      <td>0</td>\n",
       "      <td>0</td>\n",
       "      <td>-10.479152</td>\n",
       "      <td>0.651748</td>\n",
       "      <td>11.130900</td>\n",
       "    </tr>\n",
       "  </tbody>\n",
       "</table>\n",
       "</div>"
      ],
      "text/plain": [
       "         x0        x1  C  Treatment          Y       Ycf        ITE\n",
       "0  0.548814  0.715189  0          0   9.189899  9.564236   0.374337\n",
       "1  0.602763  0.544883  0          0   3.758011  5.481504   1.723492\n",
       "2  0.423655  0.645894  2          0  -1.354279 -0.796995   0.557284\n",
       "3  0.437587  0.891773  0          1   5.268565  7.564383  -2.295817\n",
       "4  0.963663  0.383442  0          0 -10.479152  0.651748  11.130900"
      ]
     },
     "execution_count": 11,
     "metadata": {},
     "output_type": "execute_result"
    }
   ],
   "source": [
    "data.head(5)"
   ]
  },
  {
   "cell_type": "code",
   "execution_count": 12,
   "metadata": {},
   "outputs": [
    {
     "data": {
      "text/html": [
       "<div>\n",
       "<style scoped>\n",
       "    .dataframe tbody tr th:only-of-type {\n",
       "        vertical-align: middle;\n",
       "    }\n",
       "\n",
       "    .dataframe tbody tr th {\n",
       "        vertical-align: top;\n",
       "    }\n",
       "\n",
       "    .dataframe thead th {\n",
       "        text-align: right;\n",
       "    }\n",
       "</style>\n",
       "<table border=\"1\" class=\"dataframe\">\n",
       "  <thead>\n",
       "    <tr style=\"text-align: right;\">\n",
       "      <th></th>\n",
       "      <th>x0</th>\n",
       "      <th>x1</th>\n",
       "      <th>C</th>\n",
       "      <th>Treatment</th>\n",
       "      <th>Y</th>\n",
       "      <th>Ycf</th>\n",
       "      <th>ITE</th>\n",
       "    </tr>\n",
       "  </thead>\n",
       "  <tbody>\n",
       "    <tr>\n",
       "      <th>count</th>\n",
       "      <td>2.000000e+06</td>\n",
       "      <td>2.000000e+06</td>\n",
       "      <td>2.000000e+06</td>\n",
       "      <td>2.000000e+06</td>\n",
       "      <td>2.000000e+06</td>\n",
       "      <td>2.000000e+06</td>\n",
       "      <td>2.000000e+06</td>\n",
       "    </tr>\n",
       "    <tr>\n",
       "      <th>mean</th>\n",
       "      <td>4.997836e-01</td>\n",
       "      <td>5.001988e-01</td>\n",
       "      <td>1.141471e+00</td>\n",
       "      <td>5.001005e-01</td>\n",
       "      <td>1.200059e+00</td>\n",
       "      <td>1.206831e+00</td>\n",
       "      <td>1.139937e+00</td>\n",
       "    </tr>\n",
       "    <tr>\n",
       "      <th>std</th>\n",
       "      <td>2.887267e-01</td>\n",
       "      <td>2.886267e-01</td>\n",
       "      <td>1.719710e+00</td>\n",
       "      <td>5.000001e-01</td>\n",
       "      <td>5.131388e+00</td>\n",
       "      <td>5.127597e+00</td>\n",
       "      <td>7.274753e+00</td>\n",
       "    </tr>\n",
       "    <tr>\n",
       "      <th>min</th>\n",
       "      <td>1.637144e-07</td>\n",
       "      <td>2.516784e-08</td>\n",
       "      <td>0.000000e+00</td>\n",
       "      <td>0.000000e+00</td>\n",
       "      <td>-2.474868e+01</td>\n",
       "      <td>-2.359529e+01</td>\n",
       "      <td>-3.482132e+01</td>\n",
       "    </tr>\n",
       "    <tr>\n",
       "      <th>25%</th>\n",
       "      <td>2.495544e-01</td>\n",
       "      <td>2.502948e-01</td>\n",
       "      <td>0.000000e+00</td>\n",
       "      <td>0.000000e+00</td>\n",
       "      <td>-2.267743e+00</td>\n",
       "      <td>-2.258883e+00</td>\n",
       "      <td>-3.781478e+00</td>\n",
       "    </tr>\n",
       "    <tr>\n",
       "      <th>50%</th>\n",
       "      <td>4.999703e-01</td>\n",
       "      <td>5.003810e-01</td>\n",
       "      <td>0.000000e+00</td>\n",
       "      <td>1.000000e+00</td>\n",
       "      <td>1.182992e+00</td>\n",
       "      <td>1.188851e+00</td>\n",
       "      <td>1.113156e+00</td>\n",
       "    </tr>\n",
       "    <tr>\n",
       "      <th>75%</th>\n",
       "      <td>7.499998e-01</td>\n",
       "      <td>7.500191e-01</td>\n",
       "      <td>2.000000e+00</td>\n",
       "      <td>1.000000e+00</td>\n",
       "      <td>4.644806e+00</td>\n",
       "      <td>4.655453e+00</td>\n",
       "      <td>6.031475e+00</td>\n",
       "    </tr>\n",
       "    <tr>\n",
       "      <th>max</th>\n",
       "      <td>9.999993e-01</td>\n",
       "      <td>9.999997e-01</td>\n",
       "      <td>5.000000e+00</td>\n",
       "      <td>1.000000e+00</td>\n",
       "      <td>2.764246e+01</td>\n",
       "      <td>2.584013e+01</td>\n",
       "      <td>3.583212e+01</td>\n",
       "    </tr>\n",
       "  </tbody>\n",
       "</table>\n",
       "</div>"
      ],
      "text/plain": [
       "                 x0            x1             C     Treatment             Y  \\\n",
       "count  2.000000e+06  2.000000e+06  2.000000e+06  2.000000e+06  2.000000e+06   \n",
       "mean   4.997836e-01  5.001988e-01  1.141471e+00  5.001005e-01  1.200059e+00   \n",
       "std    2.887267e-01  2.886267e-01  1.719710e+00  5.000001e-01  5.131388e+00   \n",
       "min    1.637144e-07  2.516784e-08  0.000000e+00  0.000000e+00 -2.474868e+01   \n",
       "25%    2.495544e-01  2.502948e-01  0.000000e+00  0.000000e+00 -2.267743e+00   \n",
       "50%    4.999703e-01  5.003810e-01  0.000000e+00  1.000000e+00  1.182992e+00   \n",
       "75%    7.499998e-01  7.500191e-01  2.000000e+00  1.000000e+00  4.644806e+00   \n",
       "max    9.999993e-01  9.999997e-01  5.000000e+00  1.000000e+00  2.764246e+01   \n",
       "\n",
       "                Ycf           ITE  \n",
       "count  2.000000e+06  2.000000e+06  \n",
       "mean   1.206831e+00  1.139937e+00  \n",
       "std    5.127597e+00  7.274753e+00  \n",
       "min   -2.359529e+01 -3.482132e+01  \n",
       "25%   -2.258883e+00 -3.781478e+00  \n",
       "50%    1.188851e+00  1.113156e+00  \n",
       "75%    4.655453e+00  6.031475e+00  \n",
       "max    2.584013e+01  3.583212e+01  "
      ]
     },
     "execution_count": 12,
     "metadata": {},
     "output_type": "execute_result"
    }
   ],
   "source": [
    "data.describe()"
   ]
  },
  {
   "cell_type": "code",
   "execution_count": 13,
   "metadata": {},
   "outputs": [],
   "source": [
    "#mpl.style.use(['seaborn-paper'])\n",
    "#mpl.rcParams.update(mpl.rcParamsDefault)\n"
   ]
  },
  {
   "cell_type": "code",
   "execution_count": 14,
   "metadata": {},
   "outputs": [
    {
     "data": {
      "image/png": "[encoded data removed]",
      "text/plain": [
       "<Figure size 432x288 with 1 Axes>"
      ]
     },
     "metadata": {
      "needs_background": "light"
     },
     "output_type": "display_data"
    }
   ],
   "source": [
    "fig, ax = plt.subplots()\n",
    "\n",
    "ax.scatter(data['x0'].values, data['x1'].values, c=data['C'].values, cmap = 'Greys', s=0.1)\n",
    "\n",
    "if save:\n",
    "    fig.savefig(path_figs+'data.jpeg',bbox_inches='tight', pad_inches = 0)\n",
    "\n",
    "plt.show()"
   ]
  },
  {
   "cell_type": "code",
   "execution_count": 15,
   "metadata": {},
   "outputs": [
    {
     "name": "stderr",
     "output_type": "stream",
     "text": [
      "/home/mavrog2/.conda/envs/jorje/lib/python3.7/site-packages/statsmodels/compat/pandas.py:49: FutureWarning: The Panel class is removed from pandas. Accessing it from the top-level namespace will also be removed in the next version\n",
      "  data_klasses = (pandas.Series, pandas.DataFrame, pandas.Panel)\n"
     ]
    }
   ],
   "source": [
    "from econml.metalearners import XLearner as XL\n",
    "from sklearn.ensemble import RandomForestClassifier as RF"
   ]
  },
  {
   "cell_type": "markdown",
   "metadata": {},
   "source": [
    "### Train X learner to directly calculate effect\n",
    "#### Use gradient boosting trees for estimation models and  loistic Regression for Rest"
   ]
  },
  {
   "cell_type": "code",
   "execution_count": 16,
   "metadata": {},
   "outputs": [
    {
     "name": "stdout",
     "output_type": "stream",
     "text": [
      "CPU times: user 3h 33min 6s, sys: 23.5 s, total: 3h 33min 29s\n",
      "Wall time: 3h 33min 11s\n"
     ]
    }
   ],
   "source": [
    "%%time\n",
    "f1_kwargs = {'n_estimators':400, 'max_depth':18}\n",
    "f2_kwargs = {'n_estimators':400, 'max_depth':18}\n",
    "\n",
    "m0 = GDBR(**f1_kwargs)\n",
    "m1 = GDBR(**f1_kwargs)\n",
    "t0 = GDBR(**f1_kwargs)\n",
    "t1 = GDBR(**f1_kwargs)\n",
    "\n",
    "model = XL((m0,m1), (t0,t1), categories=[0,1])\n",
    "xml = model.fit(data.Y, data.Treatment, X = data[['x0','x1']])"
   ]
  },
  {
   "cell_type": "markdown",
   "metadata": {},
   "source": [
    "### Get Xlearner Effects and add it as a column to the data"
   ]
  },
  {
   "cell_type": "code",
   "execution_count": 17,
   "metadata": {},
   "outputs": [
    {
     "name": "stdout",
     "output_type": "stream",
     "text": [
      "-14.60296603557881 17.21897851709131\n"
     ]
    }
   ],
   "source": [
    "data['ITE-XML'] = xml.effect(data[['x0','x1']])\n",
    "print(data['ITE-XML'].min(), data['ITE-XML'].max())"
   ]
  },
  {
   "cell_type": "markdown",
   "metadata": {},
   "source": [
    "### Xlearner Effect histogram "
   ]
  },
  {
   "cell_type": "code",
   "execution_count": 18,
   "metadata": {},
   "outputs": [
    {
     "name": "stderr",
     "output_type": "stream",
     "text": [
      "/home/mavrog2/.conda/envs/jorje/lib/python3.7/site-packages/seaborn/distributions.py:2619: FutureWarning: `distplot` is a deprecated function and will be removed in a future version. Please adapt your code to use either `displot` (a figure-level function with similar flexibility) or `histplot` (an axes-level function for histograms).\n",
      "  warnings.warn(msg, FutureWarning)\n"
     ]
    },
    {
     "data": {
      "image/png": "[encoded data removed]",
      "text/plain": [
       "<Figure size 432x288 with 1 Axes>"
      ]
     },
     "metadata": {
      "needs_background": "light"
     },
     "output_type": "display_data"
    }
   ],
   "source": [
    "path2 = path_figs+'histograms/'\n",
    "Path(path2).mkdir(exist_ok = True)\n",
    "\n",
    "\n",
    "fig, ax = plt.subplots()\n",
    "\n",
    "bins = 400\n",
    "ax = sns.distplot(data['ITE-XML'],  bins=bins, kde = False,ax = ax)\n",
    "ax.set_xlabel('ITE-XLEARNER')\n",
    "\n",
    "ax.set_xlim(-3,7)\n",
    "if save:\n",
    "    fig.savefig(path2+'xlearnhist.pdf', bbox_inches='tight',pad_inches = 0)"
   ]
  },
  {
   "cell_type": "markdown",
   "metadata": {},
   "source": [
    "### 3Clustering of Xlearner effects"
   ]
  },
  {
   "cell_type": "code",
   "execution_count": 19,
   "metadata": {},
   "outputs": [],
   "source": [
    "cluster_name = 'ITE-XML-3Clust'\n",
    "col = 'ITE-XML'\n",
    "filt11 = data[col] <= 0.5\n",
    "filt21 = data[col] >= 0.5\n",
    "filt31 = data[col] >= 1.5\n",
    "filt41 = data[col] >= 2.5\n",
    "filt51 = data[col] >= 3.5\n",
    "filt61 = data[col] >= 4.5\n",
    "\n",
    "data[cluster_name] = 0\n",
    "data.loc[filt11,cluster_name] = 0\n",
    "data.loc[filt21, cluster_name] = 1\n",
    "data.loc[filt31, cluster_name] = 2\n",
    "data.loc[filt41,cluster_name] = 3\n",
    "data.loc[filt51, cluster_name] = 4\n",
    "data.loc[filt61, cluster_name] = 5\n",
    "\n",
    "#data,_ = kmeans_clustering(data, clusters = 3, cluster_name = 'ITE-XML-3Clust',col_select = ['ITE-XML'] )"
   ]
  },
  {
   "cell_type": "code",
   "execution_count": 20,
   "metadata": {},
   "outputs": [
    {
     "data": {
      "image/png": "[encoded data removed]",
      "text/plain": [
       "<Figure size 432x288 with 1 Axes>"
      ]
     },
     "metadata": {
      "needs_background": "light"
     },
     "output_type": "display_data"
    }
   ],
   "source": [
    "path3 = path_figs+'reconstruction/'\n",
    "Path(path3).mkdir(exist_ok = True, parents = True)\n",
    "\n",
    "fig, ax = plt.subplots()\n",
    "\n",
    "sc = ax.scatter(data['x0'].values, data['x1'].values, c=data['ITE-XML-3Clust'], cmap = 'Greys', s = 1)\n",
    "if save:\n",
    "        ax.set_aspect('equal', adjustable='box')\n",
    "        fig.savefig(path3+'{}.jpeg'.format('ITE-XML-3Clust'), bbox_inches='tight',pad_inches = 0)"
   ]
  },
  {
   "cell_type": "markdown",
   "metadata": {},
   "source": [
    "### Xlearner 6Clustering mean absolute error versu eligibility"
   ]
  },
  {
   "cell_type": "code",
   "execution_count": 21,
   "metadata": {},
   "outputs": [],
   "source": [
    "def MAE_pd(group, name1,name2,column_name):\n",
    "    \n",
    "    group[column_name] = np.abs(group[name1].values-group[name2].mean())\n",
    "    return group"
   ]
  },
  {
   "cell_type": "code",
   "execution_count": 22,
   "metadata": {},
   "outputs": [],
   "source": [
    "ite_column = 'ITE-XML'\n",
    "clust2 = 'ITE-XML-3Clust'\n",
    "data = data.groupby(clust2).apply(lambda x: MAE_pd(x, 'C', ite_column, clust2+'-err-GDBR'))"
   ]
  },
  {
   "cell_type": "code",
   "execution_count": 23,
   "metadata": {},
   "outputs": [],
   "source": [
    "errors = data.describe().loc[['mean', 'std'], [col for col in data.columns if 'err' in col]].T"
   ]
  },
  {
   "cell_type": "code",
   "execution_count": 24,
   "metadata": {},
   "outputs": [
    {
     "data": {
      "text/html": [
       "<div>\n",
       "<style scoped>\n",
       "    .dataframe tbody tr th:only-of-type {\n",
       "        vertical-align: middle;\n",
       "    }\n",
       "\n",
       "    .dataframe tbody tr th {\n",
       "        vertical-align: top;\n",
       "    }\n",
       "\n",
       "    .dataframe thead th {\n",
       "        text-align: right;\n",
       "    }\n",
       "</style>\n",
       "<table border=\"1\" class=\"dataframe\">\n",
       "  <thead>\n",
       "    <tr style=\"text-align: right;\">\n",
       "      <th></th>\n",
       "      <th>mean</th>\n",
       "      <th>std</th>\n",
       "    </tr>\n",
       "  </thead>\n",
       "  <tbody>\n",
       "    <tr>\n",
       "      <th>ITE-XML-3Clust-err-GDBR</th>\n",
       "      <td>0.495434</td>\n",
       "      <td>0.639991</td>\n",
       "    </tr>\n",
       "  </tbody>\n",
       "</table>\n",
       "</div>"
      ],
      "text/plain": [
       "                             mean       std\n",
       "ITE-XML-3Clust-err-GDBR  0.495434  0.639991"
      ]
     },
     "execution_count": 24,
     "metadata": {},
     "output_type": "execute_result"
    }
   ],
   "source": [
    "errors"
   ]
  },
  {
   "cell_type": "code",
   "execution_count": 25,
   "metadata": {},
   "outputs": [
    {
     "data": {
      "text/html": [
       "<div>\n",
       "<style scoped>\n",
       "    .dataframe tbody tr th:only-of-type {\n",
       "        vertical-align: middle;\n",
       "    }\n",
       "\n",
       "    .dataframe tbody tr th {\n",
       "        vertical-align: top;\n",
       "    }\n",
       "\n",
       "    .dataframe thead th {\n",
       "        text-align: right;\n",
       "    }\n",
       "</style>\n",
       "<table border=\"1\" class=\"dataframe\">\n",
       "  <thead>\n",
       "    <tr style=\"text-align: right;\">\n",
       "      <th></th>\n",
       "      <th>C0 Pred</th>\n",
       "      <th>C1 Pred</th>\n",
       "      <th>C2 Pred</th>\n",
       "      <th>C3 Pred</th>\n",
       "      <th>C4 Pred</th>\n",
       "      <th>C5 Pred</th>\n",
       "    </tr>\n",
       "  </thead>\n",
       "  <tbody>\n",
       "    <tr>\n",
       "      <th>C0 True</th>\n",
       "      <td>0.759569</td>\n",
       "      <td>0.177299</td>\n",
       "      <td>0.043109</td>\n",
       "      <td>0.013272</td>\n",
       "      <td>0.004377</td>\n",
       "      <td>0.002373</td>\n",
       "    </tr>\n",
       "    <tr>\n",
       "      <th>C1 True</th>\n",
       "      <td>0.221569</td>\n",
       "      <td>0.666860</td>\n",
       "      <td>0.096040</td>\n",
       "      <td>0.013146</td>\n",
       "      <td>0.001981</td>\n",
       "      <td>0.000403</td>\n",
       "    </tr>\n",
       "    <tr>\n",
       "      <th>C2 True</th>\n",
       "      <td>0.044961</td>\n",
       "      <td>0.178732</td>\n",
       "      <td>0.624809</td>\n",
       "      <td>0.117001</td>\n",
       "      <td>0.026145</td>\n",
       "      <td>0.008352</td>\n",
       "    </tr>\n",
       "    <tr>\n",
       "      <th>C3 True</th>\n",
       "      <td>0.014731</td>\n",
       "      <td>0.045043</td>\n",
       "      <td>0.217747</td>\n",
       "      <td>0.617731</td>\n",
       "      <td>0.085517</td>\n",
       "      <td>0.019231</td>\n",
       "    </tr>\n",
       "    <tr>\n",
       "      <th>C4 True</th>\n",
       "      <td>0.006326</td>\n",
       "      <td>0.014491</td>\n",
       "      <td>0.049038</td>\n",
       "      <td>0.200318</td>\n",
       "      <td>0.610244</td>\n",
       "      <td>0.119583</td>\n",
       "    </tr>\n",
       "    <tr>\n",
       "      <th>C5 True</th>\n",
       "      <td>0.004815</td>\n",
       "      <td>0.008071</td>\n",
       "      <td>0.020933</td>\n",
       "      <td>0.055487</td>\n",
       "      <td>0.207489</td>\n",
       "      <td>0.703206</td>\n",
       "    </tr>\n",
       "  </tbody>\n",
       "</table>\n",
       "</div>"
      ],
      "text/plain": [
       "          C0 Pred   C1 Pred   C2 Pred   C3 Pred   C4 Pred   C5 Pred\n",
       "C0 True  0.759569  0.177299  0.043109  0.013272  0.004377  0.002373\n",
       "C1 True  0.221569  0.666860  0.096040  0.013146  0.001981  0.000403\n",
       "C2 True  0.044961  0.178732  0.624809  0.117001  0.026145  0.008352\n",
       "C3 True  0.014731  0.045043  0.217747  0.617731  0.085517  0.019231\n",
       "C4 True  0.006326  0.014491  0.049038  0.200318  0.610244  0.119583\n",
       "C5 True  0.004815  0.008071  0.020933  0.055487  0.207489  0.703206"
      ]
     },
     "metadata": {},
     "output_type": "display_data"
    }
   ],
   "source": [
    "from IPython.display import display\n",
    "\n",
    "path4 = path_figs+'matrices/'\n",
    "Path(path4).mkdir(exist_ok = True)\n",
    "\n",
    "mat = confusion_matrix(data, 'C', 'ITE-XML-3Clust',6, save = save, save_dir = path4)\n",
    "display(mat)"
   ]
  },
  {
   "cell_type": "code",
   "execution_count": 26,
   "metadata": {},
   "outputs": [
    {
     "data": {
      "text/html": [
       "<div>\n",
       "<style scoped>\n",
       "    .dataframe tbody tr th:only-of-type {\n",
       "        vertical-align: middle;\n",
       "    }\n",
       "\n",
       "    .dataframe tbody tr th {\n",
       "        vertical-align: top;\n",
       "    }\n",
       "\n",
       "    .dataframe thead th {\n",
       "        text-align: right;\n",
       "    }\n",
       "</style>\n",
       "<table border=\"1\" class=\"dataframe\">\n",
       "  <thead>\n",
       "    <tr style=\"text-align: right;\">\n",
       "      <th></th>\n",
       "      <th>x0</th>\n",
       "      <th>x1</th>\n",
       "      <th>C</th>\n",
       "      <th>Treatment</th>\n",
       "      <th>Y</th>\n",
       "      <th>Ycf</th>\n",
       "      <th>ITE</th>\n",
       "      <th>ITE-XML</th>\n",
       "      <th>ITE-XML-3Clust-err-GDBR</th>\n",
       "    </tr>\n",
       "    <tr>\n",
       "      <th>ITE-XML-3Clust</th>\n",
       "      <th></th>\n",
       "      <th></th>\n",
       "      <th></th>\n",
       "      <th></th>\n",
       "      <th></th>\n",
       "      <th></th>\n",
       "      <th></th>\n",
       "      <th></th>\n",
       "      <th></th>\n",
       "    </tr>\n",
       "  </thead>\n",
       "  <tbody>\n",
       "    <tr>\n",
       "      <th>0</th>\n",
       "      <td>0.487461</td>\n",
       "      <td>0.491380</td>\n",
       "      <td>0.058282</td>\n",
       "      <td>0.500507</td>\n",
       "      <td>0.985426</td>\n",
       "      <td>0.994471</td>\n",
       "      <td>-1.045491</td>\n",
       "      <td>-0.221887</td>\n",
       "      <td>0.280169</td>\n",
       "    </tr>\n",
       "    <tr>\n",
       "      <th>1</th>\n",
       "      <td>0.440852</td>\n",
       "      <td>0.431285</td>\n",
       "      <td>0.504091</td>\n",
       "      <td>0.499168</td>\n",
       "      <td>0.875922</td>\n",
       "      <td>0.879384</td>\n",
       "      <td>1.846546</td>\n",
       "      <td>0.909757</td>\n",
       "      <td>0.743756</td>\n",
       "    </tr>\n",
       "    <tr>\n",
       "      <th>2</th>\n",
       "      <td>0.535235</td>\n",
       "      <td>0.518548</td>\n",
       "      <td>1.668955</td>\n",
       "      <td>0.502801</td>\n",
       "      <td>1.135893</td>\n",
       "      <td>1.132427</td>\n",
       "      <td>2.700953</td>\n",
       "      <td>1.965590</td>\n",
       "      <td>0.969042</td>\n",
       "    </tr>\n",
       "    <tr>\n",
       "      <th>3</th>\n",
       "      <td>0.673897</td>\n",
       "      <td>0.604439</td>\n",
       "      <td>2.887692</td>\n",
       "      <td>0.497526</td>\n",
       "      <td>1.526119</td>\n",
       "      <td>1.548787</td>\n",
       "      <td>3.431273</td>\n",
       "      <td>2.956288</td>\n",
       "      <td>0.714717</td>\n",
       "    </tr>\n",
       "    <tr>\n",
       "      <th>4</th>\n",
       "      <td>0.626915</td>\n",
       "      <td>0.421480</td>\n",
       "      <td>3.933844</td>\n",
       "      <td>0.501001</td>\n",
       "      <td>1.997357</td>\n",
       "      <td>2.026608</td>\n",
       "      <td>4.447917</td>\n",
       "      <td>3.957009</td>\n",
       "      <td>0.529020</td>\n",
       "    </tr>\n",
       "    <tr>\n",
       "      <th>5</th>\n",
       "      <td>0.334972</td>\n",
       "      <td>0.673950</td>\n",
       "      <td>4.684974</td>\n",
       "      <td>0.498014</td>\n",
       "      <td>2.401593</td>\n",
       "      <td>2.369892</td>\n",
       "      <td>6.566452</td>\n",
       "      <td>5.141351</td>\n",
       "      <td>0.456376</td>\n",
       "    </tr>\n",
       "  </tbody>\n",
       "</table>\n",
       "</div>"
      ],
      "text/plain": [
       "                      x0        x1         C  Treatment         Y       Ycf  \\\n",
       "ITE-XML-3Clust                                                                \n",
       "0               0.487461  0.491380  0.058282   0.500507  0.985426  0.994471   \n",
       "1               0.440852  0.431285  0.504091   0.499168  0.875922  0.879384   \n",
       "2               0.535235  0.518548  1.668955   0.502801  1.135893  1.132427   \n",
       "3               0.673897  0.604439  2.887692   0.497526  1.526119  1.548787   \n",
       "4               0.626915  0.421480  3.933844   0.501001  1.997357  2.026608   \n",
       "5               0.334972  0.673950  4.684974   0.498014  2.401593  2.369892   \n",
       "\n",
       "                     ITE   ITE-XML  ITE-XML-3Clust-err-GDBR  \n",
       "ITE-XML-3Clust                                               \n",
       "0              -1.045491 -0.221887                 0.280169  \n",
       "1               1.846546  0.909757                 0.743756  \n",
       "2               2.700953  1.965590                 0.969042  \n",
       "3               3.431273  2.956288                 0.714717  \n",
       "4               4.447917  3.957009                 0.529020  \n",
       "5               6.566452  5.141351                 0.456376  "
      ]
     },
     "execution_count": 26,
     "metadata": {},
     "output_type": "execute_result"
    }
   ],
   "source": [
    "data.groupby('ITE-XML-3Clust').mean()"
   ]
  },
  {
   "cell_type": "code",
   "execution_count": 27,
   "metadata": {},
   "outputs": [
    {
     "data": {
      "text/plain": [
       "(0.6078321219956467, 0.7226738991934422)"
      ]
     },
     "execution_count": 27,
     "metadata": {},
     "output_type": "execute_result"
    }
   ],
   "source": [
    "np.mean(np.abs(data['C'] - data['ITE-XML'])), np.std(np.abs(data['C'] - data['ITE-XML']))"
   ]
  },
  {
   "cell_type": "code",
   "execution_count": null,
   "metadata": {},
   "outputs": [],
   "source": []
  }
 ],
 "metadata": {
  "kernelspec": {
   "display_name": "Python [conda env:jorje]",
   "language": "python",
   "name": "conda-env-jorje-py"
  },
  "language_info": {
   "codemirror_mode": {
    "name": "ipython",
    "version": 3
   },
   "file_extension": ".py",
   "mimetype": "text/x-python",
   "name": "python",
   "nbconvert_exporter": "python",
   "pygments_lexer": "ipython3",
   "version": "3.7.2"
  }
 },
 "nbformat": 4,
 "nbformat_minor": 2
}
