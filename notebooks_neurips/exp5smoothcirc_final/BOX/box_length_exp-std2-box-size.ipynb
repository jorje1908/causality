{
 "cells": [
  {
   "cell_type": "code",
   "execution_count": 1,
   "metadata": {},
   "outputs": [],
   "source": [
    "%load_ext autoreload\n",
    "%autoreload 2\n"
   ]
  },
  {
   "cell_type": "code",
   "execution_count": 2,
   "metadata": {},
   "outputs": [],
   "source": [
    "import numpy as np\n",
    "import pandas as pd\n",
    "import matplotlib.pyplot as plt\n",
    "import seaborn as sns\n",
    "import matplotlib as mpl\n",
    "\n",
    "from sklearn.cluster import KMeans \n",
    "from sklearn.cluster import SpectralClustering\n",
    "from sklearn.cluster import AgglomerativeClustering\n",
    "from pathlib import Path"
   ]
  },
  {
   "cell_type": "code",
   "execution_count": 3,
   "metadata": {},
   "outputs": [],
   "source": [
    "import sys\n",
    "\n",
    "sys.path.append('../../../src')\n",
    "\n"
   ]
  },
  {
   "cell_type": "code",
   "execution_count": 4,
   "metadata": {},
   "outputs": [
    {
     "name": "stderr",
     "output_type": "stream",
     "text": [
      "/home/mavrog2/.conda/envs/jorje/lib/python3.7/site-packages/statsmodels/compat/pandas.py:49: FutureWarning: The Panel class is removed from pandas. Accessing it from the top-level namespace will also be removed in the next version\n",
      "  data_klasses = (pandas.Series, pandas.DataFrame, pandas.Panel)\n"
     ]
    }
   ],
   "source": [
    "from base_exp_gen import generate_experiment as GEN_EXP\n",
    "from clustering_algos import agglomerative_clustering, kmeans_clustering, box_clustering, optimal_clustering\n",
    "from sklearn.model_selection import train_test_split as datasplit\n",
    "from sklearn.ensemble import GradientBoostingRegressor as GDBR\n",
    "from evaluations import computeATT_per_cluster as ATTC, predict_cf, calculate_ite, get_homogeneity, generate_paths\n",
    "\n",
    "from econml.metalearners import XLearner as XL\n",
    "from sklearn.ensemble import RandomForestClassifier as RF"
   ]
  },
  {
   "cell_type": "code",
   "execution_count": 5,
   "metadata": {},
   "outputs": [],
   "source": [
    "def MAE_pd(group, name1,name2,column_name):\n",
    "    \n",
    "    group[column_name] = np.abs(group[name1].values-group[name2].mean())\n",
    "    return group"
   ]
  },
  {
   "cell_type": "code",
   "execution_count": 6,
   "metadata": {},
   "outputs": [],
   "source": [
    "np.random.seed(seed = 0)"
   ]
  },
  {
   "cell_type": "code",
   "execution_count": 7,
   "metadata": {},
   "outputs": [],
   "source": [
    "fonts = {'family': 'cmr10','weight': 'normal',\n",
    "            'size': 20}    \n",
    "div = 1\n",
    "\n",
    "l1 = 22/div\n",
    "l2 = 20/div\n",
    "l3 = 13/(div-0.2)\n",
    "\n",
    "mpl.rcParams['xtick.labelsize'] = l2\n",
    "mpl.rcParams['ytick.labelsize'] = l2\n",
    "mpl.rcParams['axes.labelsize'] = l1\n",
    "mpl.rcParams['font.serif'] = 'Times New Roman'\n",
    "mpl.rcParams['font.weight'] = 'normal'\n",
    "mpl.rcParams['font.size'] = 20\n",
    "mpl.rcParams['legend.fontsize'] = l3\n",
    "\n",
    "#axes_font = {'labelsize':l1}\n",
    "#mpl.rc('font', **font)\n",
    "#xticks = {'labelsize':l2}# 'ytick.labelsize':20}\n",
    "#yticks = {'labelsize':l2}# 'ytick.labelsize':20}\n",
    "#legend = {'fontsize':l3}\n",
    "# tex = {'usetex':True}\n",
    "#mpl.rc('axes', **axes_font)\n",
    "#mpl.rc('xtick', **xticks)\n",
    "#mpl.rc('ytick', **yticks)\n",
    "#mpl.rc('font', **fonts)\n",
    "#mpl.rc('legend', **legend)"
   ]
  },
  {
   "cell_type": "code",
   "execution_count": 8,
   "metadata": {},
   "outputs": [],
   "source": [
    "pd.set_option(\"display.max_columns\", None)\n"
   ]
  },
  {
   "cell_type": "markdown",
   "metadata": {},
   "source": [
    "### Generate Experiment"
   ]
  },
  {
   "cell_type": "code",
   "execution_count": 9,
   "metadata": {},
   "outputs": [
    {
     "name": "stdout",
     "output_type": "stream",
     "text": [
      "Number of Clusters:20408, Number of Points:20000\n",
      "Did not pick 6, it picked: 0\n",
      "Number of Clusters:10000, Number of Points:20000\n",
      "Did not pick 6, it picked: 0\n",
      "Number of Clusters:2500, Number of Points:20000\n",
      "Did not pick 6, it picked: 0\n",
      "Number of Clusters:1111, Number of Points:20000\n",
      "Did not pick 6, it picked: 0\n",
      "Number of Clusters:277, Number of Points:20000\n",
      "Did not pick 6, it picked: 5\n",
      "Number of Clusters:123, Number of Points:20000\n",
      "Did not pick 6, it picked: 3\n",
      "Number of Clusters:100, Number of Points:20000\n",
      "Did not pick 6, it picked: 2\n",
      "Number of Clusters:44, Number of Points:20000\n",
      "Did not pick 6, it picked: 1\n",
      "Number of Clusters:25, Number of Points:20000\n",
      "Did not pick 6, it picked: 1\n",
      "Number of Clusters:20408, Number of Points:50000\n",
      "Did not pick 6, it picked: 0\n",
      "Number of Clusters:10000, Number of Points:50000\n",
      "Did not pick 6, it picked: 0\n",
      "Number of Clusters:2500, Number of Points:50000\n",
      "Did not pick 6, it picked: 0\n",
      "Number of Clusters:1111, Number of Points:50000\n",
      "Did not pick 6, it picked: 0\n",
      "Number of Clusters:277, Number of Points:50000\n",
      "Did not pick 6, it picked: 4\n",
      "Number of Clusters:123, Number of Points:50000\n",
      "Did not pick 6, it picked: 3\n",
      "Number of Clusters:100, Number of Points:50000\n",
      "Did not pick 6, it picked: 2\n",
      "Number of Clusters:44, Number of Points:50000\n",
      "Did not pick 6, it picked: 1\n",
      "Number of Clusters:25, Number of Points:50000\n",
      "Did not pick 6, it picked: 1\n",
      "Number of Clusters:20408, Number of Points:200000\n",
      "Did not pick 6, it picked: 0\n",
      "Number of Clusters:10000, Number of Points:200000\n",
      "Did not pick 6, it picked: 0\n",
      "Number of Clusters:2500, Number of Points:200000\n",
      "Did not pick 6, it picked: 0\n",
      "Number of Clusters:1111, Number of Points:200000\n",
      "Did not pick 6, it picked: 7\n",
      "Number of Clusters:277, Number of Points:200000\n",
      "Did not pick 6, it picked: 3\n",
      "Number of Clusters:123, Number of Points:200000\n",
      "Did not pick 6, it picked: 3\n",
      "Number of Clusters:100, Number of Points:200000\n",
      "Did not pick 6, it picked: 2\n",
      "Number of Clusters:44, Number of Points:200000\n",
      "Did not pick 6, it picked: 1\n",
      "Number of Clusters:25, Number of Points:200000\n",
      "Did not pick 6, it picked: 1\n",
      "Number of Clusters:20408, Number of Points:500000\n",
      "Did not pick 6, it picked: 0\n",
      "Number of Clusters:10000, Number of Points:500000\n",
      "Did not pick 6, it picked: 0\n",
      "Number of Clusters:2500, Number of Points:500000\n",
      "Did not pick 6, it picked: 0\n",
      "Number of Clusters:1111, Number of Points:500000\n",
      "Number of Clusters:277, Number of Points:500000\n",
      "Did not pick 6, it picked: 3\n",
      "Number of Clusters:123, Number of Points:500000\n",
      "Did not pick 6, it picked: 2\n",
      "Number of Clusters:100, Number of Points:500000\n",
      "Did not pick 6, it picked: 2\n",
      "Number of Clusters:44, Number of Points:500000\n",
      "Did not pick 6, it picked: 1\n",
      "Number of Clusters:25, Number of Points:500000\n",
      "Did not pick 6, it picked: 1\n",
      "Number of Clusters:20408, Number of Points:1000000\n",
      "Did not pick 6, it picked: 0\n",
      "Number of Clusters:10000, Number of Points:1000000\n",
      "Did not pick 6, it picked: 0\n",
      "Number of Clusters:2500, Number of Points:1000000\n",
      "Did not pick 6, it picked: 0\n",
      "Number of Clusters:1111, Number of Points:1000000\n",
      "Number of Clusters:277, Number of Points:1000000\n",
      "Did not pick 6, it picked: 3\n",
      "Number of Clusters:123, Number of Points:1000000\n",
      "Did not pick 6, it picked: 2\n",
      "Number of Clusters:100, Number of Points:1000000\n",
      "Did not pick 6, it picked: 2\n",
      "Number of Clusters:44, Number of Points:1000000\n",
      "Did not pick 6, it picked: 1\n",
      "Number of Clusters:25, Number of Points:1000000\n",
      "Did not pick 6, it picked: 1\n",
      "Number of Clusters:20408, Number of Points:2000000\n",
      "Did not pick 6, it picked: 0\n",
      "Number of Clusters:10000, Number of Points:2000000\n",
      "Did not pick 6, it picked: 0\n",
      "Number of Clusters:2500, Number of Points:2000000\n",
      "Did not pick 6, it picked: 7\n",
      "Number of Clusters:1111, Number of Points:2000000\n",
      "Number of Clusters:277, Number of Points:2000000\n",
      "Did not pick 6, it picked: 3\n",
      "Number of Clusters:123, Number of Points:2000000\n",
      "Did not pick 6, it picked: 2\n",
      "Number of Clusters:100, Number of Points:2000000\n",
      "Did not pick 6, it picked: 2\n",
      "Number of Clusters:44, Number of Points:2000000\n",
      "Did not pick 6, it picked: 1\n",
      "Number of Clusters:25, Number of Points:2000000\n",
      "Did not pick 6, it picked: 1\n",
      "CPU times: user 2h 21min 35s, sys: 36.1 s, total: 2h 22min 11s\n",
      "Wall time: 2h 22min 17s\n"
     ]
    }
   ],
   "source": [
    "%%time\n",
    "n = [2*10**4, 5*10**4, 2*10**5, 5*10**5, 1*10**6, 2*10**6]\n",
    "e = [0.007, 0.01, 0.02, 0.03, 0.06, 0.09, 0.1, 0.15, 0.2]\n",
    "#z = [0.2, 0.5, 1, 2.5, 3]\n",
    "\n",
    "zstr = [str(el) for el in e]\n",
    "ERRORS = np.zeros([len(n), len(e)])\n",
    "ERRORS_pd = pd.DataFrame(ERRORS, index = n, columns = zstr)\n",
    "\n",
    "for i,N in enumerate(n):\n",
    "    np.random.seed(seed = 0)\n",
    "    D =  2\n",
    "    x = int((N)**(1/4))\n",
    "    kw_generate =  {'N':N, 'D':D,'f_gen_name': 'uniform_gen','low':0, 'high': 1}\n",
    "    centers = [[0.25,0.25],[0.5,0.5],[0.75,0.75],[0.75,0.25], [0.25,0.75]]\n",
    "    r_small = [0.122]*5\n",
    "    r_big = [0.2,0.2,0.2, 0.2,0.2]\n",
    "    kw_cluster =  {'f_class_name':'circle_class3', 'centers': centers, 'r_small': r_small, 'r_big':r_big}\n",
    "    kw_treatment = {'f_treat_name' :'uniform_treat','choices':[0,1], 'probabilities':[0.5,0.5]}\n",
    "\n",
    "    std = 2\n",
    "    stats = np.array([[1, std], [0, std], [0, std], [0, std],[0, std],\n",
    "                      [0, std],[1, std],[1, std],[2, std],[3, std],[4, std],[5, std]])\n",
    "    kw_outcome = {'f_outcome_name': 'outcome1','treatment':'Treatment', 'cls':'C', 'stats':stats}\n",
    "\n",
    "    data3 = GEN_EXP(kw_generate, kw_cluster, kw_treatment, kw_outcome).dat\n",
    "    data3 = calculate_ite(data3.copy(), treatment = 'Treatment',\n",
    "                         counterfactual = 'Ycf', outcome = 'Y', ite_name = 'ITE')\n",
    "\n",
    "    clusts = [int((1/y)**2) for y in e]\n",
    "    \n",
    "    #CALCULATE ITES\n",
    "    f1_kwargs = {'n_estimators':400, 'max_depth':18}\n",
    "    f2_kwargs = {'n_estimators':400, 'max_depth':18}\n",
    "\n",
    "    data3, models = predict_cf(data3.copy(), col_select = ['x0', 'x1'], f1 = GDBR,\n",
    "                              f2 = GDBR, cf_name = 'Ycf-GDBR', f1_kwargs=f1_kwargs, \n",
    "                              f2_kwargs=f2_kwargs, ite_name ='ITE-GDBR')\n",
    "\n",
    "\n",
    "    for j,clusters in enumerate(clusts):\n",
    "        print(\"Number of Clusters:{}, Number of Points:{}\".format(clusters, N))\n",
    "\n",
    "        data = data3.copy()\n",
    "        #BOX CLUSTERING\n",
    "        col_select = ['x0', 'x1']\n",
    "        data,_ = box_clustering(data.copy(), clusters = clusters, col_select = col_select )\n",
    "\n",
    "        #CALCULATE ATT PER CLUSTER\n",
    "        ite_name = 'ITE-GDBR'\n",
    "        box2 = ATTC(data.copy(), cluster_name = 'Box-Cluster', ATT_CLUST_name='Box-ATT',\n",
    "                   points_name='Box-points', weight_names='Box-Weights', ITE_name = ite_name,\n",
    "                    hom_name = 'Box-Hom', att = False)\n",
    "\n",
    "        #OPTIMAL CLUSTERING\n",
    "        all_data = [box2]\n",
    "\n",
    "        names_to_give = ['Box2-Cl2']\n",
    "        names_to_find= ['Box-ATT']\n",
    "\n",
    "        weights = ['Box-Weights']\n",
    "\n",
    "        clusts = 7\n",
    "        val = 6\n",
    "        for i, (dd, name, name2,w) in enumerate(zip(all_data, names_to_give, names_to_find,weights)):\n",
    "            all_data[i], _ = optimal_clustering(dd, max_clusters = clusts, col_select = name2, \n",
    "                              cluster_name = name, N=N, val = val )\n",
    "\n",
    "        data2 = data.copy()\n",
    "\n",
    "        #MERGE CLUSTERS WITH INITIAL DATA\n",
    "        merge_names = ['Box-Cluster']\n",
    "        class_names = ['Box2-Cl2']\n",
    "\n",
    "        for dd, merge_name, class_name in zip(all_data, merge_names, class_names):\n",
    "            dd2 = dd[[merge_name, class_name]]\n",
    "\n",
    "\n",
    "            data2 = data2.merge(dd2, on = merge_name, how = 'left' )\n",
    "\n",
    "        #CALCULATE ERROR\n",
    "        ite_column = 'ITE-GDBR'\n",
    "        for clust2 in class_names:\n",
    "            data2 = data2.groupby(clust2).apply(lambda x: MAE_pd(x, 'C', ite_column, clust2+'-err-GDBR'))\n",
    "\n",
    "        errors = data2.describe().loc[['mean', 'std'], [col for col in data2.columns if 'err' in col]].T\n",
    "        error = errors.sort_values(by = 'mean').iloc[0,0]\n",
    "        ERRORS_pd.loc[N,zstr[j]] = error"
   ]
  },
  {
   "cell_type": "code",
   "execution_count": 10,
   "metadata": {},
   "outputs": [
    {
     "data": {
      "text/html": [
       "<div>\n",
       "<style scoped>\n",
       "    .dataframe tbody tr th:only-of-type {\n",
       "        vertical-align: middle;\n",
       "    }\n",
       "\n",
       "    .dataframe tbody tr th {\n",
       "        vertical-align: top;\n",
       "    }\n",
       "\n",
       "    .dataframe thead th {\n",
       "        text-align: right;\n",
       "    }\n",
       "</style>\n",
       "<table border=\"1\" class=\"dataframe\">\n",
       "  <thead>\n",
       "    <tr style=\"text-align: right;\">\n",
       "      <th></th>\n",
       "      <th>0.007</th>\n",
       "      <th>0.01</th>\n",
       "      <th>0.02</th>\n",
       "      <th>0.03</th>\n",
       "      <th>0.06</th>\n",
       "      <th>0.09</th>\n",
       "      <th>0.1</th>\n",
       "      <th>0.15</th>\n",
       "      <th>0.2</th>\n",
       "    </tr>\n",
       "  </thead>\n",
       "  <tbody>\n",
       "    <tr>\n",
       "      <th>20000</th>\n",
       "      <td>1.584683</td>\n",
       "      <td>1.383534</td>\n",
       "      <td>0.958231</td>\n",
       "      <td>0.784825</td>\n",
       "      <td>0.691084</td>\n",
       "      <td>0.915311</td>\n",
       "      <td>1.026461</td>\n",
       "      <td>1.208892</td>\n",
       "      <td>1.260966</td>\n",
       "    </tr>\n",
       "    <tr>\n",
       "      <th>50000</th>\n",
       "      <td>1.280999</td>\n",
       "      <td>1.041784</td>\n",
       "      <td>0.687056</td>\n",
       "      <td>0.643101</td>\n",
       "      <td>0.605957</td>\n",
       "      <td>0.860133</td>\n",
       "      <td>1.041435</td>\n",
       "      <td>1.218957</td>\n",
       "      <td>1.283857</td>\n",
       "    </tr>\n",
       "    <tr>\n",
       "      <th>200000</th>\n",
       "      <td>0.660886</td>\n",
       "      <td>0.531473</td>\n",
       "      <td>0.487529</td>\n",
       "      <td>0.476094</td>\n",
       "      <td>0.519074</td>\n",
       "      <td>0.833164</td>\n",
       "      <td>1.027049</td>\n",
       "      <td>1.209317</td>\n",
       "      <td>1.278038</td>\n",
       "    </tr>\n",
       "    <tr>\n",
       "      <th>500000</th>\n",
       "      <td>0.472259</td>\n",
       "      <td>0.405890</td>\n",
       "      <td>0.246393</td>\n",
       "      <td>0.317028</td>\n",
       "      <td>0.509570</td>\n",
       "      <td>0.832577</td>\n",
       "      <td>1.013765</td>\n",
       "      <td>1.221719</td>\n",
       "      <td>1.278824</td>\n",
       "    </tr>\n",
       "    <tr>\n",
       "      <th>1000000</th>\n",
       "      <td>0.383457</td>\n",
       "      <td>0.280492</td>\n",
       "      <td>0.235296</td>\n",
       "      <td>0.305835</td>\n",
       "      <td>0.514480</td>\n",
       "      <td>0.830795</td>\n",
       "      <td>1.023278</td>\n",
       "      <td>1.218767</td>\n",
       "      <td>1.282884</td>\n",
       "    </tr>\n",
       "    <tr>\n",
       "      <th>2000000</th>\n",
       "      <td>0.165614</td>\n",
       "      <td>0.126750</td>\n",
       "      <td>0.228467</td>\n",
       "      <td>0.306141</td>\n",
       "      <td>0.511329</td>\n",
       "      <td>0.828842</td>\n",
       "      <td>1.018753</td>\n",
       "      <td>1.216703</td>\n",
       "      <td>1.280911</td>\n",
       "    </tr>\n",
       "  </tbody>\n",
       "</table>\n",
       "</div>"
      ],
      "text/plain": [
       "            0.007      0.01      0.02      0.03      0.06      0.09       0.1  \\\n",
       "20000    1.584683  1.383534  0.958231  0.784825  0.691084  0.915311  1.026461   \n",
       "50000    1.280999  1.041784  0.687056  0.643101  0.605957  0.860133  1.041435   \n",
       "200000   0.660886  0.531473  0.487529  0.476094  0.519074  0.833164  1.027049   \n",
       "500000   0.472259  0.405890  0.246393  0.317028  0.509570  0.832577  1.013765   \n",
       "1000000  0.383457  0.280492  0.235296  0.305835  0.514480  0.830795  1.023278   \n",
       "2000000  0.165614  0.126750  0.228467  0.306141  0.511329  0.828842  1.018753   \n",
       "\n",
       "             0.15       0.2  \n",
       "20000    1.208892  1.260966  \n",
       "50000    1.218957  1.283857  \n",
       "200000   1.209317  1.278038  \n",
       "500000   1.221719  1.278824  \n",
       "1000000  1.218767  1.282884  \n",
       "2000000  1.216703  1.280911  "
      ]
     },
     "execution_count": 10,
     "metadata": {},
     "output_type": "execute_result"
    }
   ],
   "source": [
    "ERRORS_pd"
   ]
  },
  {
   "cell_type": "code",
   "execution_count": 18,
   "metadata": {},
   "outputs": [],
   "source": [
    "idx_min = ERRORS_pd.idxmin(axis = 1)"
   ]
  },
  {
   "cell_type": "code",
   "execution_count": 12,
   "metadata": {},
   "outputs": [
    {
     "name": "stdout",
     "output_type": "stream",
     "text": [
      "20000 0.06\n",
      "50000 0.06\n",
      "200000 0.03\n",
      "500000 0.02\n",
      "1000000 0.02\n",
      "2000000 0.01\n"
     ]
    }
   ],
   "source": [
    "min_length = np.zeros([len(idx_min), 2])\n",
    "for i, (indx, val) in enumerate(idx_min.items()):\n",
    "    print(indx, val)\n",
    "    min_length[i,0] = int(indx)\n",
    "    min_length[i,1] = ERRORS_pd.loc[indx, val]\n",
    "    "
   ]
  },
  {
   "cell_type": "code",
   "execution_count": 25,
   "metadata": {},
   "outputs": [
    {
     "data": {
      "image/png": "[encoded data removed]",
      "text/plain": [
       "<Figure size 432x288 with 1 Axes>"
      ]
     },
     "metadata": {
      "needs_background": "light"
     },
     "output_type": "display_data"
    }
   ],
   "source": [
    "from matplotlib.ticker import ScalarFormatter\n",
    "\n",
    "fig, ax = plt.subplots(1,1)\n",
    "line = ax.plot(min_length[:,1], min_length[:,0], 'k-o', label = r'$\\sigma=2$')\n",
    "#ax.set_yticks(min_length[2:,1])\n",
    "#ax.set_yscale('log')\n",
    "ax.yaxis.set_major_formatter(ScalarFormatter(useMathText=True))\n",
    "#plt.ticklabel_format(style='sci', axis='y',scilimits= (0,0))\n",
    "ax.set_yscale('log')\n",
    "ax.set_xscale('log')\n",
    "\n",
    "ax.set_yticks([ 10000, 100000, 1000000])\n",
    "#plt.ticklabel_format(useOffset=False)\n",
    "plt.minorticks_off()\n",
    "ax.annotate(r'$\\sigma=2$',(0.6,10**6))\n",
    "ax.set_xlabel(r'$\\epsilon^*$')\n",
    "ax.set_ylabel(r'$n$')\n",
    "#plt.majorticks_off()\n",
    "\n",
    "#ax.legend()\n",
    "fig.show()"
   ]
  },
  {
   "cell_type": "code",
   "execution_count": 23,
   "metadata": {},
   "outputs": [
    {
     "data": {
      "image/png": "[encoded data removed]",
      "text/plain": [
       "<Figure size 432x288 with 1 Axes>"
      ]
     },
     "metadata": {
      "needs_background": "light"
     },
     "output_type": "display_data"
    },
    {
     "data": {
      "image/png": "[encoded data removed]",
      "text/plain": [
       "<Figure size 432x288 with 1 Axes>"
      ]
     },
     "metadata": {
      "needs_background": "light"
     },
     "output_type": "display_data"
    },
    {
     "data": {
      "image/png": "[encoded data removed]",
      "text/plain": [
       "<Figure size 432x288 with 1 Axes>"
      ]
     },
     "metadata": {
      "needs_background": "light"
     },
     "output_type": "display_data"
    }
   ],
   "source": [
    "indexes = [200000, 1000000, 2000000]\n",
    "\n",
    "for indx in indexes:\n",
    "    fig, ax = plt.subplots(1,1)\n",
    "    plt.plot( np.array(e),ERRORS_pd.loc[indx],'k-o')\n",
    "   # ax.set_yscale('log')\n",
    "    e_used = 1/int(indx**(1/4))\n",
    "    ax.axvline(e_used, c = 'r', linestyle = '--')\n",
    "    ax.set_xlabel(r'$\\epsilon$')\n",
    "    ax.set_ylabel(r'$err$')"
   ]
  },
  {
   "cell_type": "code",
   "execution_count": null,
   "metadata": {},
   "outputs": [],
   "source": []
  }
 ],
 "metadata": {
  "kernelspec": {
   "display_name": "Python [conda env:jorje]",
   "language": "python",
   "name": "conda-env-jorje-py"
  },
  "language_info": {
   "codemirror_mode": {
    "name": "ipython",
    "version": 3
   },
   "file_extension": ".py",
   "mimetype": "text/x-python",
   "name": "python",
   "nbconvert_exporter": "python",
   "pygments_lexer": "ipython3",
   "version": "3.7.2"
  }
 },
 "nbformat": 4,
 "nbformat_minor": 2
}
