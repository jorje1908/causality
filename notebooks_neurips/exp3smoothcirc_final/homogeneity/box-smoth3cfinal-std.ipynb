{
 "cells": [
  {
   "cell_type": "code",
   "execution_count": 1,
   "metadata": {},
   "outputs": [],
   "source": [
    "%load_ext autoreload\n",
    "%autoreload 2\n"
   ]
  },
  {
   "cell_type": "code",
   "execution_count": 2,
   "metadata": {},
   "outputs": [],
   "source": [
    "import numpy as np\n",
    "import pandas as pd\n",
    "import matplotlib.pyplot as plt\n",
    "import seaborn as sns\n",
    "import matplotlib as mpl\n",
    "\n",
    "from sklearn.cluster import KMeans \n",
    "from sklearn.cluster import SpectralClustering\n",
    "from sklearn.cluster import AgglomerativeClustering"
   ]
  },
  {
   "cell_type": "code",
   "execution_count": 3,
   "metadata": {},
   "outputs": [],
   "source": [
    "import sys\n",
    "\n",
    "sys.path.append('../../../src')\n",
    "\n"
   ]
  },
  {
   "cell_type": "code",
   "execution_count": 4,
   "metadata": {},
   "outputs": [],
   "source": [
    "from base_exp_gen import generate_experiment as GEN_EXP\n",
    "from clustering_algos import agglomerative_clustering, kmeans_clustering, box_clustering\n",
    "from sklearn.model_selection import train_test_split as datasplit\n",
    "from sklearn.ensemble import GradientBoostingRegressor as GDBR\n",
    "from evaluations import computeATT_per_cluster, predict_cf, calculate_ite, get_homogeneity\n",
    "\n"
   ]
  },
  {
   "cell_type": "code",
   "execution_count": 5,
   "metadata": {},
   "outputs": [],
   "source": [
    "np.random.seed(seed = 0)"
   ]
  },
  {
   "cell_type": "code",
   "execution_count": 6,
   "metadata": {},
   "outputs": [],
   "source": [
    "pd.set_option(\"display.max_columns\", None)\n"
   ]
  },
  {
   "cell_type": "code",
   "execution_count": 7,
   "metadata": {},
   "outputs": [],
   "source": [
    "x_partition = [[i,i**2,2*i**4, 50000] for i in [2,4,5,10,12,20,25,33]]\n",
    "def its(x):\n",
    "    for i, (x1,x2,x3,x4) in enumerate(x[1:]):\n",
    "        x[i+1][3]=(int(x[i][3]/(2*np.sqrt(x3/x[i][2]))))\n",
    "    return x"
   ]
  },
  {
   "cell_type": "code",
   "execution_count": 8,
   "metadata": {},
   "outputs": [],
   "source": [
    "a = its(x_partition)\n",
    "exps = pd.DataFrame(a, columns = ['X-parts','Clusters', 'N', 'iters'])"
   ]
  },
  {
   "cell_type": "code",
   "execution_count": 9,
   "metadata": {},
   "outputs": [],
   "source": [
    "name = 'box'\n",
    "exps.index.name = name"
   ]
  },
  {
   "cell_type": "code",
   "execution_count": 10,
   "metadata": {},
   "outputs": [],
   "source": [
    "exps['mean-hom'] = 0\n",
    "exps['std-hom'] = 0"
   ]
  },
  {
   "cell_type": "code",
   "execution_count": 11,
   "metadata": {},
   "outputs": [
    {
     "data": {
      "text/html": [
       "<div>\n",
       "<style scoped>\n",
       "    .dataframe tbody tr th:only-of-type {\n",
       "        vertical-align: middle;\n",
       "    }\n",
       "\n",
       "    .dataframe tbody tr th {\n",
       "        vertical-align: top;\n",
       "    }\n",
       "\n",
       "    .dataframe thead th {\n",
       "        text-align: right;\n",
       "    }\n",
       "</style>\n",
       "<table border=\"1\" class=\"dataframe\">\n",
       "  <thead>\n",
       "    <tr style=\"text-align: right;\">\n",
       "      <th></th>\n",
       "      <th>X-parts</th>\n",
       "      <th>Clusters</th>\n",
       "      <th>N</th>\n",
       "      <th>iters</th>\n",
       "      <th>mean-hom</th>\n",
       "      <th>std-hom</th>\n",
       "    </tr>\n",
       "    <tr>\n",
       "      <th>box</th>\n",
       "      <th></th>\n",
       "      <th></th>\n",
       "      <th></th>\n",
       "      <th></th>\n",
       "      <th></th>\n",
       "      <th></th>\n",
       "    </tr>\n",
       "  </thead>\n",
       "  <tbody>\n",
       "    <tr>\n",
       "      <th>0</th>\n",
       "      <td>2</td>\n",
       "      <td>4</td>\n",
       "      <td>32</td>\n",
       "      <td>50000</td>\n",
       "      <td>0</td>\n",
       "      <td>0</td>\n",
       "    </tr>\n",
       "    <tr>\n",
       "      <th>1</th>\n",
       "      <td>4</td>\n",
       "      <td>16</td>\n",
       "      <td>512</td>\n",
       "      <td>6250</td>\n",
       "      <td>0</td>\n",
       "      <td>0</td>\n",
       "    </tr>\n",
       "    <tr>\n",
       "      <th>2</th>\n",
       "      <td>5</td>\n",
       "      <td>25</td>\n",
       "      <td>1250</td>\n",
       "      <td>2000</td>\n",
       "      <td>0</td>\n",
       "      <td>0</td>\n",
       "    </tr>\n",
       "    <tr>\n",
       "      <th>3</th>\n",
       "      <td>10</td>\n",
       "      <td>100</td>\n",
       "      <td>20000</td>\n",
       "      <td>250</td>\n",
       "      <td>0</td>\n",
       "      <td>0</td>\n",
       "    </tr>\n",
       "    <tr>\n",
       "      <th>4</th>\n",
       "      <td>12</td>\n",
       "      <td>144</td>\n",
       "      <td>41472</td>\n",
       "      <td>86</td>\n",
       "      <td>0</td>\n",
       "      <td>0</td>\n",
       "    </tr>\n",
       "    <tr>\n",
       "      <th>5</th>\n",
       "      <td>20</td>\n",
       "      <td>400</td>\n",
       "      <td>320000</td>\n",
       "      <td>15</td>\n",
       "      <td>0</td>\n",
       "      <td>0</td>\n",
       "    </tr>\n",
       "    <tr>\n",
       "      <th>6</th>\n",
       "      <td>25</td>\n",
       "      <td>625</td>\n",
       "      <td>781250</td>\n",
       "      <td>4</td>\n",
       "      <td>0</td>\n",
       "      <td>0</td>\n",
       "    </tr>\n",
       "    <tr>\n",
       "      <th>7</th>\n",
       "      <td>33</td>\n",
       "      <td>1089</td>\n",
       "      <td>2371842</td>\n",
       "      <td>1</td>\n",
       "      <td>0</td>\n",
       "      <td>0</td>\n",
       "    </tr>\n",
       "  </tbody>\n",
       "</table>\n",
       "</div>"
      ],
      "text/plain": [
       "     X-parts  Clusters        N  iters  mean-hom  std-hom\n",
       "box                                                      \n",
       "0          2         4       32  50000         0        0\n",
       "1          4        16      512   6250         0        0\n",
       "2          5        25     1250   2000         0        0\n",
       "3         10       100    20000    250         0        0\n",
       "4         12       144    41472     86         0        0\n",
       "5         20       400   320000     15         0        0\n",
       "6         25       625   781250      4         0        0\n",
       "7         33      1089  2371842      1         0        0"
      ]
     },
     "execution_count": 11,
     "metadata": {},
     "output_type": "execute_result"
    }
   ],
   "source": [
    "exps"
   ]
  },
  {
   "cell_type": "code",
   "execution_count": 12,
   "metadata": {},
   "outputs": [],
   "source": [
    "import time"
   ]
  },
  {
   "cell_type": "code",
   "execution_count": 13,
   "metadata": {},
   "outputs": [
    {
     "name": "stdout",
     "output_type": "stream",
     "text": [
      "running: 4 32\n",
      "time: 1936.797171831131\n",
      "running: 16 512\n",
      "time: 407.54148292541504\n",
      "running: 25 1250\n",
      "time: 171.16905522346497\n",
      "running: 100 20000\n",
      "time: 66.04196214675903\n",
      "running: 144 41472\n",
      "time: 32.483460664749146\n",
      "running: 400 320000\n",
      "time: 17.243164777755737\n",
      "running: 625 781250\n",
      "time: 8.314166784286499\n",
      "running: 1089 2371842\n",
      "time: 5.569547653198242\n",
      "CPU times: user 44min 1s, sys: 5.85 s, total: 44min 7s\n",
      "Wall time: 44min 5s\n"
     ]
    }
   ],
   "source": [
    "%%time\n",
    "col_select = ['x0', 'x1']\n",
    "gen = []\n",
    "for i,row in exps.iterrows():\n",
    "    c, n, iters = row.Clusters, row.N, row.iters\n",
    "    homc = []\n",
    "    print('running:',c,n)\n",
    "    ss = time.time()\n",
    "    for j in range(iters):\n",
    "        ###gneerate data\n",
    "        N,D = n, 2\n",
    "        x = int((N)**(1/4))\n",
    "        clusters = x**2\n",
    "       # print(\"Number of Clusters:{}, Number of Points:{}\".format(clusters, N))\n",
    "        kw_generate =  {'N':N, 'D':D,'f_gen_name': 'uniform_gen','low':0, 'high': 1}\n",
    "        centers = [[0.5,0.5],[0.5,0.5]]\n",
    "        r_small = [0, 0.325735]\n",
    "        r_big = [0.325735,0.46065886]\n",
    "        eligibilities = [2,1]\n",
    "        kw_cluster =  {'f_class_name':'circle_class4', 'centers': centers,\n",
    "                       'eligibilities':eligibilities,'r_small': r_small, 'r_big':r_big}\n",
    "        kw_treatment = {'f_treat_name' :'uniform_treat','choices':[0,1], 'probabilities':[0.5,0.5]}\n",
    "\n",
    "        std = 5\n",
    "        stats = np.array([[1, std], [0, std], [0, std], [1, std],[1, std],\n",
    "                          [2, std]])\n",
    "        kw_outcome = {'f_outcome_name': 'outcome1','treatment':'Treatment', 'cls':'C', 'stats':stats}\n",
    "\n",
    "        data = GEN_EXP(kw_generate, kw_cluster, kw_treatment, kw_outcome).dat\n",
    "        data = calculate_ite(data.copy(), treatment = 'Treatment',\n",
    "                             counterfactual = 'Ycf', outcome = 'Y', ite_name = 'ITE')\n",
    "        ### cluster data\n",
    "        data2,_ = box_clustering(data, clusters=c,col_select = col_select, cluster_name = 'A')\n",
    "        ### calc hom\n",
    "        res = computeATT_per_cluster(data2.copy(), hom_name = 'HOM',weight_names = 'W', \n",
    "                                     cluster_name  = \"A\", att = False)\n",
    "        hom = (res['HOM']*res['W']).sum(axis = 0)\n",
    "        homc.append(hom)\n",
    "        \n",
    "    ###get stats\n",
    "    ee = time.time() - ss\n",
    "    print('time:',ee)\n",
    "    homcnp = np.array(homc)\n",
    "    gen.append(homcnp)\n",
    "    mean = np.mean(homcnp)\n",
    "    std = np.std(homcnp)\n",
    "    exps.loc[i,'mean-hom'] = mean\n",
    "    exps.loc[i,'std-hom'] = std\n",
    "    \n",
    "    "
   ]
  },
  {
   "cell_type": "code",
   "execution_count": 31,
   "metadata": {},
   "outputs": [],
   "source": [
    "fonts = {'family': 'cmr10','weight': 'normal',\n",
    "            'size': 20}    \n",
    "div = 1\n",
    "\n",
    "l1 = 22/div\n",
    "l2 = 20/div\n",
    "l3 = 13/(div-0.2)\n",
    "\n",
    "mpl.rcParams['xtick.labelsize'] = l2\n",
    "mpl.rcParams['ytick.labelsize'] = l2\n",
    "mpl.rcParams['axes.labelsize'] = l1\n",
    "mpl.rcParams['font.serif'] = 'Times New Roman'\n",
    "mpl.rcParams['font.weight'] = 'normal'\n",
    "mpl.rcParams['font.size'] = 20\n",
    "mpl.rcParams['legend.fontsize'] = l3\n"
   ]
  },
  {
   "cell_type": "code",
   "execution_count": 32,
   "metadata": {},
   "outputs": [
    {
     "data": {
      "text/html": [
       "<div>\n",
       "<style scoped>\n",
       "    .dataframe tbody tr th:only-of-type {\n",
       "        vertical-align: middle;\n",
       "    }\n",
       "\n",
       "    .dataframe tbody tr th {\n",
       "        vertical-align: top;\n",
       "    }\n",
       "\n",
       "    .dataframe thead th {\n",
       "        text-align: right;\n",
       "    }\n",
       "</style>\n",
       "<table border=\"1\" class=\"dataframe\">\n",
       "  <thead>\n",
       "    <tr style=\"text-align: right;\">\n",
       "      <th></th>\n",
       "      <th>X-parts</th>\n",
       "      <th>Clusters</th>\n",
       "      <th>N</th>\n",
       "      <th>iters</th>\n",
       "      <th>mean-hom</th>\n",
       "      <th>std-hom</th>\n",
       "      <th>std-err</th>\n",
       "    </tr>\n",
       "    <tr>\n",
       "      <th>box</th>\n",
       "      <th></th>\n",
       "      <th></th>\n",
       "      <th></th>\n",
       "      <th></th>\n",
       "      <th></th>\n",
       "      <th></th>\n",
       "      <th></th>\n",
       "    </tr>\n",
       "  </thead>\n",
       "  <tbody>\n",
       "    <tr>\n",
       "      <th>0</th>\n",
       "      <td>2</td>\n",
       "      <td>4</td>\n",
       "      <td>32</td>\n",
       "      <td>50000</td>\n",
       "      <td>0.508666</td>\n",
       "      <td>0.052547</td>\n",
       "      <td>0.009289</td>\n",
       "    </tr>\n",
       "    <tr>\n",
       "      <th>1</th>\n",
       "      <td>4</td>\n",
       "      <td>16</td>\n",
       "      <td>512</td>\n",
       "      <td>6250</td>\n",
       "      <td>0.741927</td>\n",
       "      <td>0.019040</td>\n",
       "      <td>0.000841</td>\n",
       "    </tr>\n",
       "    <tr>\n",
       "      <th>2</th>\n",
       "      <td>5</td>\n",
       "      <td>25</td>\n",
       "      <td>1250</td>\n",
       "      <td>2000</td>\n",
       "      <td>0.761064</td>\n",
       "      <td>0.010822</td>\n",
       "      <td>0.000306</td>\n",
       "    </tr>\n",
       "    <tr>\n",
       "      <th>3</th>\n",
       "      <td>10</td>\n",
       "      <td>100</td>\n",
       "      <td>20000</td>\n",
       "      <td>250</td>\n",
       "      <td>0.882046</td>\n",
       "      <td>0.002272</td>\n",
       "      <td>0.000016</td>\n",
       "    </tr>\n",
       "    <tr>\n",
       "      <th>4</th>\n",
       "      <td>12</td>\n",
       "      <td>144</td>\n",
       "      <td>41472</td>\n",
       "      <td>86</td>\n",
       "      <td>0.893937</td>\n",
       "      <td>0.001355</td>\n",
       "      <td>0.000007</td>\n",
       "    </tr>\n",
       "  </tbody>\n",
       "</table>\n",
       "</div>"
      ],
      "text/plain": [
       "     X-parts  Clusters      N  iters  mean-hom   std-hom   std-err\n",
       "box                                                               \n",
       "0          2         4     32  50000  0.508666  0.052547  0.009289\n",
       "1          4        16    512   6250  0.741927  0.019040  0.000841\n",
       "2          5        25   1250   2000  0.761064  0.010822  0.000306\n",
       "3         10       100  20000    250  0.882046  0.002272  0.000016\n",
       "4         12       144  41472     86  0.893937  0.001355  0.000007"
      ]
     },
     "execution_count": 32,
     "metadata": {},
     "output_type": "execute_result"
    }
   ],
   "source": [
    "exps.head()"
   ]
  },
  {
   "cell_type": "code",
   "execution_count": 33,
   "metadata": {},
   "outputs": [],
   "source": [
    "exps['std-err'] = exps['std-hom']/np.sqrt(exps['N'])"
   ]
  },
  {
   "cell_type": "code",
   "execution_count": 38,
   "metadata": {},
   "outputs": [
    {
     "data": {
      "image/png": "[encoded data removed]",
      "text/plain": [
       "<Figure size 432x288 with 1 Axes>"
      ]
     },
     "metadata": {
      "needs_background": "light"
     },
     "output_type": "display_data"
    }
   ],
   "source": [
    "y = 'mean-hom'\n",
    "x = 'N'\n",
    "z = 'std-err'\n",
    "box = exps\n",
    "fig, ax = plt.subplots()\n",
    "line1 = ax.plot(box[x],box[y], 'k-o')\n",
    "ax.fill_between(box[x], box[y]-box[z], box[y]+box[z], color = 'k', alpha = 0.3)\n",
    "#line2 = ax.plot(km[x],km[y],'k--')\n",
    "#ax.fill_between(km[x], km[y]-km[z], km[y]+km[z], alpha = 0.3, color = 'k')\n",
    "ax.set_yticks(np.arange(0.6,1.05,0.1))\n",
    "ax.set_xscale('log')\n",
    "ax.set_xticks([ 100, 1000, 10000, 100000, 1000000])\n",
    "ax.legend(['Box'], loc = 'lower right')\n",
    "ax.set_xlabel('Number of Points')\n",
    "ax.set_ylabel('Mean Hmg.')\n",
    "ax.grid(visible = True)\n",
    "plt.minorticks_off()\n",
    "fig.savefig('{}/std5PCM.pdf'.format(p), bbox_inches='tight',pad_inches = 0)\n",
    "\n",
    "fig.show()"
   ]
  },
  {
   "cell_type": "code",
   "execution_count": 37,
   "metadata": {},
   "outputs": [
    {
     "data": {
      "image/png": "[encoded data removed]",
      "text/plain": [
       "<Figure size 432x288 with 1 Axes>"
      ]
     },
     "metadata": {
      "needs_background": "light"
     },
     "output_type": "display_data"
    }
   ],
   "source": [
    "y = 'mean-hom'\n",
    "x = 'N'\n",
    "z = 'std-hom'\n",
    "box = exps\n",
    "fig, ax = plt.subplots()\n",
    "line1 = ax.plot(box[x],box[y], 'k-o')\n",
    "ax.fill_between(box[x], box[y]-box[z], box[y]+box[z], color = 'k', alpha = 0.3)\n",
    "#line2 = ax.plot(km[x],km[y],'k--')\n",
    "#ax.fill_between(km[x], km[y]-km[z], km[y]+km[z], alpha = 0.3, color = 'k')\n",
    "\n",
    "ax.set_yticks(np.arange(0.6,1.05,0.1))\n",
    "ax.set_xscale('log')\n",
    "ax.set_xticks([ 100, 1000, 10000, 100000, 1000000])\n",
    "ax.legend(['Box'], loc = 'lower right')\n",
    "ax.set_xlabel('Number of Points')\n",
    "ax.set_ylabel('Mean Hmg.')\n",
    "ax.grid(visible = True)\n",
    "plt.minorticks_off()\n",
    "fig.savefig('{}/std5PCM_V2.pdf'.format(p), bbox_inches='tight',pad_inches = 0)\n",
    "\n",
    "fig.show()"
   ]
  },
  {
   "cell_type": "code",
   "execution_count": 15,
   "metadata": {},
   "outputs": [],
   "source": [
    "from pathlib import Path\n",
    "\n"
   ]
  },
  {
   "cell_type": "code",
   "execution_count": 16,
   "metadata": {},
   "outputs": [],
   "source": [
    "p = './homogstd5/'\n",
    "Path('./homogstd5/').mkdir(parents = True, exist_ok = True)\n",
    "exps.to_csv(p+name+'.csv')\n"
   ]
  }
 ],
 "metadata": {
  "kernelspec": {
   "display_name": "Python [conda env:jorje]",
   "language": "python",
   "name": "conda-env-jorje-py"
  },
  "language_info": {
   "codemirror_mode": {
    "name": "ipython",
    "version": 3
   },
   "file_extension": ".py",
   "mimetype": "text/x-python",
   "name": "python",
   "nbconvert_exporter": "python",
   "pygments_lexer": "ipython3",
   "version": "3.7.2"
  }
 },
 "nbformat": 4,
 "nbformat_minor": 2
}
