{
 "cells": [
  {
   "cell_type": "code",
   "execution_count": 1,
   "metadata": {},
   "outputs": [],
   "source": [
    "%load_ext autoreload\n",
    "%autoreload 2\n"
   ]
  },
  {
   "cell_type": "code",
   "execution_count": 2,
   "metadata": {},
   "outputs": [],
   "source": [
    "import numpy as np\n",
    "import pandas as pd\n",
    "import matplotlib.pyplot as plt\n",
    "import seaborn as sns\n",
    "import matplotlib as mpl\n",
    "\n",
    "from sklearn.cluster import KMeans \n",
    "from sklearn.cluster import SpectralClustering\n",
    "from sklearn.cluster import AgglomerativeClustering\n",
    "from pathlib import Path"
   ]
  },
  {
   "cell_type": "code",
   "execution_count": 3,
   "metadata": {},
   "outputs": [],
   "source": [
    "import sys\n",
    "\n",
    "sys.path.append('../../../src')\n",
    "\n"
   ]
  },
  {
   "cell_type": "code",
   "execution_count": 4,
   "metadata": {},
   "outputs": [],
   "source": [
    "from base_exp_gen import generate_experiment as GEN_EXP\n",
    "from clustering_algos import agglomerative_clustering, kmeans_clustering, box_clustering, optimal_clustering\n",
    "from sklearn.model_selection import train_test_split as datasplit\n",
    "from sklearn.ensemble import GradientBoostingRegressor as GDBR\n",
    "from evaluations import computeATT_per_cluster as ATTC, predict_cf, calculate_ite, get_homogeneity, generate_paths\n",
    "\n"
   ]
  },
  {
   "cell_type": "code",
   "execution_count": 5,
   "metadata": {},
   "outputs": [],
   "source": [
    "np.random.seed(seed = 0)"
   ]
  },
  {
   "cell_type": "code",
   "execution_count": 6,
   "metadata": {},
   "outputs": [],
   "source": [
    "fonts = {'family': 'cmr10','weight': 'normal',\n",
    "            'size': 20}    \n",
    "div = 1\n",
    "\n",
    "l1 = 22/div\n",
    "l2 = 20/div\n",
    "l3 = 13/(div-0.2)\n",
    "\n",
    "mpl.rcParams['xtick.labelsize'] = l2\n",
    "mpl.rcParams['ytick.labelsize'] = l2\n",
    "mpl.rcParams['axes.labelsize'] = l1\n",
    "mpl.rcParams['font.serif'] = 'Times New Roman'\n",
    "mpl.rcParams['font.weight'] = 'normal'\n",
    "mpl.rcParams['font.size'] = 20\n",
    "mpl.rcParams['legend.fontsize'] = l3\n",
    "\n",
    "#axes_font = {'labelsize':l1}\n",
    "#mpl.rc('font', **font)\n",
    "#xticks = {'labelsize':l2}# 'ytick.labelsize':20}\n",
    "#yticks = {'labelsize':l2}# 'ytick.labelsize':20}\n",
    "#legend = {'fontsize':l3}\n",
    "# tex = {'usetex':True}\n",
    "#mpl.rc('axes', **axes_font)\n",
    "#mpl.rc('xtick', **xticks)\n",
    "#mpl.rc('ytick', **yticks)\n",
    "#mpl.rc('font', **fonts)\n",
    "#mpl.rc('legend', **legend)"
   ]
  },
  {
   "cell_type": "code",
   "execution_count": 7,
   "metadata": {},
   "outputs": [
    {
     "data": {
      "text/plain": [
       "(0.32573500793527993, 0.46065886596178063)"
      ]
     },
     "execution_count": 7,
     "metadata": {},
     "output_type": "execute_result"
    }
   ],
   "source": [
    "r1 =np.sqrt(1/3/np.pi)\n",
    "r2 = np.sqrt((1/3/np.pi+r1**2))\n",
    "r1, r2"
   ]
  },
  {
   "cell_type": "code",
   "execution_count": 8,
   "metadata": {},
   "outputs": [
    {
     "name": "stdout",
     "output_type": "stream",
     "text": [
      "20.0\n"
     ]
    }
   ],
   "source": [
    "print(mpl.rcParams['xtick.labelsize'])"
   ]
  },
  {
   "cell_type": "code",
   "execution_count": 9,
   "metadata": {},
   "outputs": [],
   "source": [
    "pd.set_option(\"display.max_columns\", None)\n"
   ]
  },
  {
   "cell_type": "markdown",
   "metadata": {},
   "source": [
    "### Generate Experiment"
   ]
  },
  {
   "cell_type": "code",
   "execution_count": 10,
   "metadata": {},
   "outputs": [
    {
     "name": "stderr",
     "output_type": "stream",
     "text": [
      "/home/mavrog2/.conda/envs/jorje/lib/python3.7/site-packages/IPython/core/events.py:88: UserWarning: Creating legend with loc=\"best\" can be slow with large amounts of data.\n",
      "  func(*args, **kwargs)\n",
      "/home/mavrog2/.conda/envs/jorje/lib/python3.7/site-packages/IPython/core/events.py:88: UserWarning: Creating legend with loc=\"best\" can be slow with large amounts of data.\n",
      "  func(*args, **kwargs)\n",
      "/home/mavrog2/.conda/envs/jorje/lib/python3.7/site-packages/IPython/core/pylabtools.py:128: UserWarning: Creating legend with loc=\"best\" can be slow with large amounts of data.\n",
      "  fig.canvas.print_figure(bytes_io, **kw)\n",
      "/home/mavrog2/.conda/envs/jorje/lib/python3.7/site-packages/IPython/core/pylabtools.py:128: UserWarning: Creating legend with loc=\"best\" can be slow with large amounts of data.\n",
      "  fig.canvas.print_figure(bytes_io, **kw)\n",
      "/home/mavrog2/.conda/envs/jorje/lib/python3.7/site-packages/IPython/core/pylabtools.py:128: UserWarning: Creating legend with loc=\"best\" can be slow with large amounts of data.\n",
      "  fig.canvas.print_figure(bytes_io, **kw)\n",
      "/home/mavrog2/.conda/envs/jorje/lib/python3.7/site-packages/IPython/core/pylabtools.py:128: UserWarning: Creating legend with loc=\"best\" can be slow with large amounts of data.\n",
      "  fig.canvas.print_figure(bytes_io, **kw)\n",
      "/home/mavrog2/.conda/envs/jorje/lib/python3.7/site-packages/IPython/core/pylabtools.py:128: UserWarning: Creating legend with loc=\"best\" can be slow with large amounts of data.\n",
      "  fig.canvas.print_figure(bytes_io, **kw)\n",
      "/home/mavrog2/.conda/envs/jorje/lib/python3.7/site-packages/IPython/core/pylabtools.py:128: UserWarning: Creating legend with loc=\"best\" can be slow with large amounts of data.\n",
      "  fig.canvas.print_figure(bytes_io, **kw)\n",
      "/home/mavrog2/.conda/envs/jorje/lib/python3.7/site-packages/IPython/core/pylabtools.py:128: UserWarning: Creating legend with loc=\"best\" can be slow with large amounts of data.\n",
      "  fig.canvas.print_figure(bytes_io, **kw)\n"
     ]
    },
    {
     "data": {
      "image/png": "[encoded data removed]",
      "text/plain": [
       "<Figure size 432x288 with 1 Axes>"
      ]
     },
     "metadata": {
      "needs_background": "light"
     },
     "output_type": "display_data"
    }
   ],
   "source": [
    "xx = np.linspace(0,2,num = 100000)\n",
    "p0 = np.exp(-xx**2/(2*5**2))\n",
    "p1 = np.exp(-(xx-1)**2/(2*5**2))\n",
    "p2 = np.exp(-(xx-2)**2/(2*5**2))\n",
    "\n",
    "fig, ax  = plt.subplots(1,1)\n",
    "ax.plot(xx, p0)\n",
    "ax.plot(xx, p1)\n",
    "ax.plot(xx, p2)\n",
    "ax.legend(['0','1','2'])\n",
    "ax.grid(visible = True)\n",
    "fig.show()\n"
   ]
  },
  {
   "cell_type": "code",
   "execution_count": 11,
   "metadata": {},
   "outputs": [
    {
     "name": "stdout",
     "output_type": "stream",
     "text": [
      "CPU times: user 0 ns, sys: 846 µs, total: 846 µs\n",
      "Wall time: 3.67 ms\n"
     ]
    }
   ],
   "source": [
    "%%time\n",
    "path_figs = './figs/2Mstd5/'\n",
    "save = True\n",
    "Path(path_figs).mkdir(exist_ok = True, parents = True)"
   ]
  },
  {
   "cell_type": "code",
   "execution_count": 12,
   "metadata": {},
   "outputs": [
    {
     "name": "stdout",
     "output_type": "stream",
     "text": [
      "Number of Clusters:1369, Number of Points:2000000\n"
     ]
    }
   ],
   "source": [
    "N,D = 2*10**6, 2\n",
    "x = int((N)**(1/4))\n",
    "clusters = x**2\n",
    "print(\"Number of Clusters:{}, Number of Points:{}\".format(clusters, N))\n",
    "kw_generate =  {'N':N, 'D':D,'f_gen_name': 'uniform_gen','low':0, 'high': 1}\n",
    "centers = [[0.5,0.5],[0.5,0.5]]\n",
    "r_small = [0, 0.325735]\n",
    "r_big = [0.325735,0.46065886]\n",
    "eligibilities = [2,1]\n",
    "kw_cluster =  {'f_class_name':'circle_class4', 'centers': centers,\n",
    "               'eligibilities':eligibilities,'r_small': r_small, 'r_big':r_big}\n",
    "kw_treatment = {'f_treat_name' :'uniform_treat','choices':[0,1], 'probabilities':[0.5,0.5]}\n",
    "\n",
    "std = 5\n",
    "stats = np.array([[1, std], [0, std], [0, std], [1, std],[1, std],\n",
    "                  [2, std]])\n",
    "kw_outcome = {'f_outcome_name': 'outcome1','treatment':'Treatment', 'cls':'C', 'stats':stats}\n",
    "\n",
    "data = GEN_EXP(kw_generate, kw_cluster, kw_treatment, kw_outcome).dat\n",
    "data = calculate_ite(data.copy(), treatment = 'Treatment',\n",
    "                     counterfactual = 'Ycf', outcome = 'Y', ite_name = 'ITE')"
   ]
  },
  {
   "cell_type": "code",
   "execution_count": 13,
   "metadata": {},
   "outputs": [
    {
     "data": {
      "text/html": [
       "<div>\n",
       "<style scoped>\n",
       "    .dataframe tbody tr th:only-of-type {\n",
       "        vertical-align: middle;\n",
       "    }\n",
       "\n",
       "    .dataframe tbody tr th {\n",
       "        vertical-align: top;\n",
       "    }\n",
       "\n",
       "    .dataframe thead th {\n",
       "        text-align: right;\n",
       "    }\n",
       "</style>\n",
       "<table border=\"1\" class=\"dataframe\">\n",
       "  <thead>\n",
       "    <tr style=\"text-align: right;\">\n",
       "      <th></th>\n",
       "      <th>x0</th>\n",
       "      <th>x1</th>\n",
       "      <th>C</th>\n",
       "      <th>Treatment</th>\n",
       "      <th>Y</th>\n",
       "      <th>Ycf</th>\n",
       "      <th>ITE</th>\n",
       "    </tr>\n",
       "  </thead>\n",
       "  <tbody>\n",
       "    <tr>\n",
       "      <th>0</th>\n",
       "      <td>0.548814</td>\n",
       "      <td>0.715189</td>\n",
       "      <td>2</td>\n",
       "      <td>0</td>\n",
       "      <td>6.658786</td>\n",
       "      <td>-6.884317</td>\n",
       "      <td>-13.543103</td>\n",
       "    </tr>\n",
       "    <tr>\n",
       "      <th>1</th>\n",
       "      <td>0.602763</td>\n",
       "      <td>0.544883</td>\n",
       "      <td>2</td>\n",
       "      <td>0</td>\n",
       "      <td>0.805499</td>\n",
       "      <td>2.984804</td>\n",
       "      <td>2.179305</td>\n",
       "    </tr>\n",
       "    <tr>\n",
       "      <th>2</th>\n",
       "      <td>0.423655</td>\n",
       "      <td>0.645894</td>\n",
       "      <td>2</td>\n",
       "      <td>0</td>\n",
       "      <td>12.765129</td>\n",
       "      <td>3.450364</td>\n",
       "      <td>-9.314765</td>\n",
       "    </tr>\n",
       "    <tr>\n",
       "      <th>3</th>\n",
       "      <td>0.437587</td>\n",
       "      <td>0.891773</td>\n",
       "      <td>1</td>\n",
       "      <td>1</td>\n",
       "      <td>-8.255978</td>\n",
       "      <td>-0.477820</td>\n",
       "      <td>-7.778159</td>\n",
       "    </tr>\n",
       "    <tr>\n",
       "      <th>4</th>\n",
       "      <td>0.963663</td>\n",
       "      <td>0.383442</td>\n",
       "      <td>0</td>\n",
       "      <td>0</td>\n",
       "      <td>9.189899</td>\n",
       "      <td>3.188290</td>\n",
       "      <td>-6.001609</td>\n",
       "    </tr>\n",
       "  </tbody>\n",
       "</table>\n",
       "</div>"
      ],
      "text/plain": [
       "         x0        x1  C  Treatment          Y       Ycf        ITE\n",
       "0  0.548814  0.715189  2          0   6.658786 -6.884317 -13.543103\n",
       "1  0.602763  0.544883  2          0   0.805499  2.984804   2.179305\n",
       "2  0.423655  0.645894  2          0  12.765129  3.450364  -9.314765\n",
       "3  0.437587  0.891773  1          1  -8.255978 -0.477820  -7.778159\n",
       "4  0.963663  0.383442  0          0   9.189899  3.188290  -6.001609"
      ]
     },
     "execution_count": 13,
     "metadata": {},
     "output_type": "execute_result"
    }
   ],
   "source": [
    "data.head(5)"
   ]
  },
  {
   "cell_type": "code",
   "execution_count": 14,
   "metadata": {},
   "outputs": [
    {
     "data": {
      "text/html": [
       "<div>\n",
       "<style scoped>\n",
       "    .dataframe tbody tr th:only-of-type {\n",
       "        vertical-align: middle;\n",
       "    }\n",
       "\n",
       "    .dataframe tbody tr th {\n",
       "        vertical-align: top;\n",
       "    }\n",
       "\n",
       "    .dataframe thead th {\n",
       "        text-align: right;\n",
       "    }\n",
       "</style>\n",
       "<table border=\"1\" class=\"dataframe\">\n",
       "  <thead>\n",
       "    <tr style=\"text-align: right;\">\n",
       "      <th></th>\n",
       "      <th>x0</th>\n",
       "      <th>x1</th>\n",
       "      <th>C</th>\n",
       "      <th>Treatment</th>\n",
       "      <th>Y</th>\n",
       "      <th>Ycf</th>\n",
       "      <th>ITE</th>\n",
       "    </tr>\n",
       "  </thead>\n",
       "  <tbody>\n",
       "    <tr>\n",
       "      <th>count</th>\n",
       "      <td>2.000000e+06</td>\n",
       "      <td>2.000000e+06</td>\n",
       "      <td>2.000000e+06</td>\n",
       "      <td>2.000000e+06</td>\n",
       "      <td>2.000000e+06</td>\n",
       "      <td>2.000000e+06</td>\n",
       "      <td>2.000000e+06</td>\n",
       "    </tr>\n",
       "    <tr>\n",
       "      <th>mean</th>\n",
       "      <td>4.997836e-01</td>\n",
       "      <td>5.001988e-01</td>\n",
       "      <td>1.000020e+00</td>\n",
       "      <td>5.001005e-01</td>\n",
       "      <td>8.330335e-01</td>\n",
       "      <td>8.404234e-01</td>\n",
       "      <td>1.003147e+00</td>\n",
       "    </tr>\n",
       "    <tr>\n",
       "      <th>std</th>\n",
       "      <td>2.887267e-01</td>\n",
       "      <td>2.886267e-01</td>\n",
       "      <td>8.164207e-01</td>\n",
       "      <td>5.000001e-01</td>\n",
       "      <td>5.045290e+00</td>\n",
       "      <td>5.047374e+00</td>\n",
       "      <td>7.113687e+00</td>\n",
       "    </tr>\n",
       "    <tr>\n",
       "      <th>min</th>\n",
       "      <td>1.637144e-07</td>\n",
       "      <td>2.516784e-08</td>\n",
       "      <td>0.000000e+00</td>\n",
       "      <td>0.000000e+00</td>\n",
       "      <td>-2.559529e+01</td>\n",
       "      <td>-2.292883e+01</td>\n",
       "      <td>-3.242735e+01</td>\n",
       "    </tr>\n",
       "    <tr>\n",
       "      <th>25%</th>\n",
       "      <td>2.495544e-01</td>\n",
       "      <td>2.502948e-01</td>\n",
       "      <td>0.000000e+00</td>\n",
       "      <td>0.000000e+00</td>\n",
       "      <td>-2.568211e+00</td>\n",
       "      <td>-2.569452e+00</td>\n",
       "      <td>-3.791629e+00</td>\n",
       "    </tr>\n",
       "    <tr>\n",
       "      <th>50%</th>\n",
       "      <td>4.999703e-01</td>\n",
       "      <td>5.003810e-01</td>\n",
       "      <td>1.000000e+00</td>\n",
       "      <td>1.000000e+00</td>\n",
       "      <td>8.355991e-01</td>\n",
       "      <td>8.383376e-01</td>\n",
       "      <td>9.974728e-01</td>\n",
       "    </tr>\n",
       "    <tr>\n",
       "      <th>75%</th>\n",
       "      <td>7.499998e-01</td>\n",
       "      <td>7.500191e-01</td>\n",
       "      <td>2.000000e+00</td>\n",
       "      <td>1.000000e+00</td>\n",
       "      <td>4.233814e+00</td>\n",
       "      <td>4.248720e+00</td>\n",
       "      <td>5.803340e+00</td>\n",
       "    </tr>\n",
       "    <tr>\n",
       "      <th>max</th>\n",
       "      <td>9.999993e-01</td>\n",
       "      <td>9.999997e-01</td>\n",
       "      <td>2.000000e+00</td>\n",
       "      <td>1.000000e+00</td>\n",
       "      <td>2.612381e+01</td>\n",
       "      <td>2.604293e+01</td>\n",
       "      <td>3.584543e+01</td>\n",
       "    </tr>\n",
       "  </tbody>\n",
       "</table>\n",
       "</div>"
      ],
      "text/plain": [
       "                 x0            x1             C     Treatment             Y  \\\n",
       "count  2.000000e+06  2.000000e+06  2.000000e+06  2.000000e+06  2.000000e+06   \n",
       "mean   4.997836e-01  5.001988e-01  1.000020e+00  5.001005e-01  8.330335e-01   \n",
       "std    2.887267e-01  2.886267e-01  8.164207e-01  5.000001e-01  5.045290e+00   \n",
       "min    1.637144e-07  2.516784e-08  0.000000e+00  0.000000e+00 -2.559529e+01   \n",
       "25%    2.495544e-01  2.502948e-01  0.000000e+00  0.000000e+00 -2.568211e+00   \n",
       "50%    4.999703e-01  5.003810e-01  1.000000e+00  1.000000e+00  8.355991e-01   \n",
       "75%    7.499998e-01  7.500191e-01  2.000000e+00  1.000000e+00  4.233814e+00   \n",
       "max    9.999993e-01  9.999997e-01  2.000000e+00  1.000000e+00  2.612381e+01   \n",
       "\n",
       "                Ycf           ITE  \n",
       "count  2.000000e+06  2.000000e+06  \n",
       "mean   8.404234e-01  1.003147e+00  \n",
       "std    5.047374e+00  7.113687e+00  \n",
       "min   -2.292883e+01 -3.242735e+01  \n",
       "25%   -2.569452e+00 -3.791629e+00  \n",
       "50%    8.383376e-01  9.974728e-01  \n",
       "75%    4.248720e+00  5.803340e+00  \n",
       "max    2.604293e+01  3.584543e+01  "
      ]
     },
     "execution_count": 14,
     "metadata": {},
     "output_type": "execute_result"
    }
   ],
   "source": [
    "data.describe()"
   ]
  },
  {
   "cell_type": "code",
   "execution_count": 15,
   "metadata": {},
   "outputs": [
    {
     "data": {
      "text/plain": [
       "1    0.333458\n",
       "2    0.333281\n",
       "0    0.333261\n",
       "Name: C, dtype: float64"
      ]
     },
     "execution_count": 15,
     "metadata": {},
     "output_type": "execute_result"
    }
   ],
   "source": [
    "data['C'].value_counts()/len(data)"
   ]
  },
  {
   "cell_type": "code",
   "execution_count": 16,
   "metadata": {},
   "outputs": [
    {
     "data": {
      "text/plain": [
       "C\n",
       "0    0.004805\n",
       "1    1.000390\n",
       "2    2.004189\n",
       "Name: ITE, dtype: float64"
      ]
     },
     "execution_count": 16,
     "metadata": {},
     "output_type": "execute_result"
    }
   ],
   "source": [
    "data.groupby('C').ITE.mean()"
   ]
  },
  {
   "cell_type": "code",
   "execution_count": 50,
   "metadata": {},
   "outputs": [
    {
     "data": {
      "image/png": "[encoded data removed]",
      "text/plain": [
       "<Figure size 432x288 with 1 Axes>"
      ]
     },
     "metadata": {
      "needs_background": "light"
     },
     "output_type": "display_data"
    }
   ],
   "source": [
    "fig, ax = plt.subplots()\n",
    "\n",
    "ax.scatter(data['x0'].values, data['x1'].values, c=data['C'].values, cmap = 'Greys', s=0.1)\n",
    "\n",
    "if save:\n",
    "    ax.set_aspect('equal', adjustable='box')\n",
    "    fig.savefig(path_figs+'data.jpeg',bbox_inches='tight', pad_inches = 0)\n",
    "\n",
    "plt.show()"
   ]
  },
  {
   "cell_type": "code",
   "execution_count": 18,
   "metadata": {},
   "outputs": [
    {
     "name": "stderr",
     "output_type": "stream",
     "text": [
      "/home/mavrog2/.conda/envs/jorje/lib/python3.7/site-packages/statsmodels/compat/pandas.py:49: FutureWarning: The Panel class is removed from pandas. Accessing it from the top-level namespace will also be removed in the next version\n",
      "  data_klasses = (pandas.Series, pandas.DataFrame, pandas.Panel)\n"
     ]
    }
   ],
   "source": [
    "from econml.metalearners import XLearner as XL\n",
    "from sklearn.ensemble import RandomForestClassifier as RF"
   ]
  },
  {
   "cell_type": "markdown",
   "metadata": {},
   "source": [
    " ### Estimate ITE with Gradient Boosting Trees"
   ]
  },
  {
   "cell_type": "code",
   "execution_count": 19,
   "metadata": {},
   "outputs": [
    {
     "name": "stdout",
     "output_type": "stream",
     "text": [
      "CPU times: user 1h 11min 35s, sys: 4.45 s, total: 1h 11min 40s\n",
      "Wall time: 1h 11min 41s\n"
     ]
    }
   ],
   "source": [
    "%%time\n",
    "f1_kwargs = {'n_estimators':400, 'max_depth':18}\n",
    "f2_kwargs = {'n_estimators':400, 'max_depth':18}\n",
    "\n",
    "data, models = predict_cf(data.copy(), col_select = ['x0', 'x1'], f1 = GDBR,\n",
    "                          f2 = GDBR, cf_name = 'Ycf-GDBR', f1_kwargs=f1_kwargs, \n",
    "                          f2_kwargs=f2_kwargs, ite_name ='ITE-GDBR')"
   ]
  },
  {
   "cell_type": "code",
   "execution_count": 20,
   "metadata": {},
   "outputs": [
    {
     "data": {
      "text/html": [
       "<div>\n",
       "<style scoped>\n",
       "    .dataframe tbody tr th:only-of-type {\n",
       "        vertical-align: middle;\n",
       "    }\n",
       "\n",
       "    .dataframe tbody tr th {\n",
       "        vertical-align: top;\n",
       "    }\n",
       "\n",
       "    .dataframe thead th {\n",
       "        text-align: right;\n",
       "    }\n",
       "</style>\n",
       "<table border=\"1\" class=\"dataframe\">\n",
       "  <thead>\n",
       "    <tr style=\"text-align: right;\">\n",
       "      <th></th>\n",
       "      <th>x0</th>\n",
       "      <th>x1</th>\n",
       "      <th>C</th>\n",
       "      <th>Treatment</th>\n",
       "      <th>Y</th>\n",
       "      <th>Ycf</th>\n",
       "      <th>ITE</th>\n",
       "      <th>IS_TEST</th>\n",
       "      <th>Ycf-GDBR</th>\n",
       "      <th>ITE-GDBR</th>\n",
       "    </tr>\n",
       "  </thead>\n",
       "  <tbody>\n",
       "    <tr>\n",
       "      <th>0</th>\n",
       "      <td>0.548814</td>\n",
       "      <td>0.715189</td>\n",
       "      <td>2</td>\n",
       "      <td>0</td>\n",
       "      <td>6.658786</td>\n",
       "      <td>-6.884317</td>\n",
       "      <td>-13.543103</td>\n",
       "      <td>1</td>\n",
       "      <td>2.129169</td>\n",
       "      <td>-4.529616</td>\n",
       "    </tr>\n",
       "    <tr>\n",
       "      <th>1</th>\n",
       "      <td>0.602763</td>\n",
       "      <td>0.544883</td>\n",
       "      <td>2</td>\n",
       "      <td>0</td>\n",
       "      <td>0.805499</td>\n",
       "      <td>2.984804</td>\n",
       "      <td>2.179305</td>\n",
       "      <td>0</td>\n",
       "      <td>1.373003</td>\n",
       "      <td>0.567504</td>\n",
       "    </tr>\n",
       "    <tr>\n",
       "      <th>2</th>\n",
       "      <td>0.423655</td>\n",
       "      <td>0.645894</td>\n",
       "      <td>2</td>\n",
       "      <td>0</td>\n",
       "      <td>12.765129</td>\n",
       "      <td>3.450364</td>\n",
       "      <td>-9.314765</td>\n",
       "      <td>1</td>\n",
       "      <td>2.026313</td>\n",
       "      <td>-10.738816</td>\n",
       "    </tr>\n",
       "    <tr>\n",
       "      <th>3</th>\n",
       "      <td>0.437587</td>\n",
       "      <td>0.891773</td>\n",
       "      <td>1</td>\n",
       "      <td>1</td>\n",
       "      <td>-8.255978</td>\n",
       "      <td>-0.477820</td>\n",
       "      <td>-7.778159</td>\n",
       "      <td>0</td>\n",
       "      <td>-0.206649</td>\n",
       "      <td>-8.049329</td>\n",
       "    </tr>\n",
       "    <tr>\n",
       "      <th>4</th>\n",
       "      <td>0.963663</td>\n",
       "      <td>0.383442</td>\n",
       "      <td>0</td>\n",
       "      <td>0</td>\n",
       "      <td>9.189899</td>\n",
       "      <td>3.188290</td>\n",
       "      <td>-6.001609</td>\n",
       "      <td>0</td>\n",
       "      <td>1.530793</td>\n",
       "      <td>-7.659106</td>\n",
       "    </tr>\n",
       "  </tbody>\n",
       "</table>\n",
       "</div>"
      ],
      "text/plain": [
       "         x0        x1  C  Treatment          Y       Ycf        ITE  IS_TEST  \\\n",
       "0  0.548814  0.715189  2          0   6.658786 -6.884317 -13.543103        1   \n",
       "1  0.602763  0.544883  2          0   0.805499  2.984804   2.179305        0   \n",
       "2  0.423655  0.645894  2          0  12.765129  3.450364  -9.314765        1   \n",
       "3  0.437587  0.891773  1          1  -8.255978 -0.477820  -7.778159        0   \n",
       "4  0.963663  0.383442  0          0   9.189899  3.188290  -6.001609        0   \n",
       "\n",
       "   Ycf-GDBR   ITE-GDBR  \n",
       "0  2.129169  -4.529616  \n",
       "1  1.373003   0.567504  \n",
       "2  2.026313 -10.738816  \n",
       "3 -0.206649  -8.049329  \n",
       "4  1.530793  -7.659106  "
      ]
     },
     "execution_count": 20,
     "metadata": {},
     "output_type": "execute_result"
    }
   ],
   "source": [
    "data.head(5)"
   ]
  },
  {
   "cell_type": "markdown",
   "metadata": {},
   "source": [
    "### Model performance"
   ]
  },
  {
   "cell_type": "code",
   "execution_count": 21,
   "metadata": {},
   "outputs": [
    {
     "data": {
      "text/html": [
       "<div>\n",
       "<style scoped>\n",
       "    .dataframe tbody tr th:only-of-type {\n",
       "        vertical-align: middle;\n",
       "    }\n",
       "\n",
       "    .dataframe tbody tr th {\n",
       "        vertical-align: top;\n",
       "    }\n",
       "\n",
       "    .dataframe thead th {\n",
       "        text-align: right;\n",
       "    }\n",
       "</style>\n",
       "<table border=\"1\" class=\"dataframe\">\n",
       "  <thead>\n",
       "    <tr style=\"text-align: right;\">\n",
       "      <th></th>\n",
       "      <th></th>\n",
       "      <th></th>\n",
       "      <th>Y</th>\n",
       "      <th>Ycf</th>\n",
       "      <th>Ycf-GDBR</th>\n",
       "      <th>ITE</th>\n",
       "      <th>ITE-GDBR</th>\n",
       "    </tr>\n",
       "    <tr>\n",
       "      <th>Treatment</th>\n",
       "      <th>C</th>\n",
       "      <th>IS_TEST</th>\n",
       "      <th></th>\n",
       "      <th></th>\n",
       "      <th></th>\n",
       "      <th></th>\n",
       "      <th></th>\n",
       "    </tr>\n",
       "  </thead>\n",
       "  <tbody>\n",
       "    <tr>\n",
       "      <th rowspan=\"6\" valign=\"top\">0</th>\n",
       "      <th rowspan=\"2\" valign=\"top\">0</th>\n",
       "      <th>0</th>\n",
       "      <td>0.981341</td>\n",
       "      <td>1.008926</td>\n",
       "      <td>0.993484</td>\n",
       "      <td>0.027585</td>\n",
       "      <td>0.012143</td>\n",
       "    </tr>\n",
       "    <tr>\n",
       "      <th>1</th>\n",
       "      <td>1.044385</td>\n",
       "      <td>1.036434</td>\n",
       "      <td>0.987491</td>\n",
       "      <td>-0.007950</td>\n",
       "      <td>-0.056894</td>\n",
       "    </tr>\n",
       "    <tr>\n",
       "      <th rowspan=\"2\" valign=\"top\">1</th>\n",
       "      <th>0</th>\n",
       "      <td>0.004829</td>\n",
       "      <td>1.008538</td>\n",
       "      <td>1.028823</td>\n",
       "      <td>1.003709</td>\n",
       "      <td>1.023994</td>\n",
       "    </tr>\n",
       "    <tr>\n",
       "      <th>1</th>\n",
       "      <td>0.006390</td>\n",
       "      <td>1.007373</td>\n",
       "      <td>1.028903</td>\n",
       "      <td>1.000982</td>\n",
       "      <td>1.022512</td>\n",
       "    </tr>\n",
       "    <tr>\n",
       "      <th rowspan=\"2\" valign=\"top\">2</th>\n",
       "      <th>0</th>\n",
       "      <td>-0.007826</td>\n",
       "      <td>2.000617</td>\n",
       "      <td>1.981560</td>\n",
       "      <td>2.008443</td>\n",
       "      <td>1.989386</td>\n",
       "    </tr>\n",
       "    <tr>\n",
       "      <th>1</th>\n",
       "      <td>-0.001260</td>\n",
       "      <td>2.026991</td>\n",
       "      <td>1.983800</td>\n",
       "      <td>2.028251</td>\n",
       "      <td>1.985060</td>\n",
       "    </tr>\n",
       "    <tr>\n",
       "      <th rowspan=\"6\" valign=\"top\">1</th>\n",
       "      <th rowspan=\"2\" valign=\"top\">0</th>\n",
       "      <th>0</th>\n",
       "      <td>0.989184</td>\n",
       "      <td>0.997210</td>\n",
       "      <td>0.943759</td>\n",
       "      <td>-0.008025</td>\n",
       "      <td>0.045426</td>\n",
       "    </tr>\n",
       "    <tr>\n",
       "      <th>1</th>\n",
       "      <td>1.010891</td>\n",
       "      <td>1.033520</td>\n",
       "      <td>0.943119</td>\n",
       "      <td>-0.022630</td>\n",
       "      <td>0.067772</td>\n",
       "    </tr>\n",
       "    <tr>\n",
       "      <th rowspan=\"2\" valign=\"top\">1</th>\n",
       "      <th>0</th>\n",
       "      <td>1.003812</td>\n",
       "      <td>0.003512</td>\n",
       "      <td>0.044573</td>\n",
       "      <td>1.000300</td>\n",
       "      <td>0.959239</td>\n",
       "    </tr>\n",
       "    <tr>\n",
       "      <th>1</th>\n",
       "      <td>0.994443</td>\n",
       "      <td>0.007608</td>\n",
       "      <td>0.040794</td>\n",
       "      <td>0.986834</td>\n",
       "      <td>0.953649</td>\n",
       "    </tr>\n",
       "    <tr>\n",
       "      <th rowspan=\"2\" valign=\"top\">2</th>\n",
       "      <th>0</th>\n",
       "      <td>2.010384</td>\n",
       "      <td>0.001865</td>\n",
       "      <td>-0.011194</td>\n",
       "      <td>2.008519</td>\n",
       "      <td>2.021577</td>\n",
       "    </tr>\n",
       "    <tr>\n",
       "      <th>1</th>\n",
       "      <td>1.988376</td>\n",
       "      <td>0.042260</td>\n",
       "      <td>-0.013048</td>\n",
       "      <td>1.946116</td>\n",
       "      <td>2.001424</td>\n",
       "    </tr>\n",
       "  </tbody>\n",
       "</table>\n",
       "</div>"
      ],
      "text/plain": [
       "                            Y       Ycf  Ycf-GDBR       ITE  ITE-GDBR\n",
       "Treatment C IS_TEST                                                  \n",
       "0         0 0        0.981341  1.008926  0.993484  0.027585  0.012143\n",
       "            1        1.044385  1.036434  0.987491 -0.007950 -0.056894\n",
       "          1 0        0.004829  1.008538  1.028823  1.003709  1.023994\n",
       "            1        0.006390  1.007373  1.028903  1.000982  1.022512\n",
       "          2 0       -0.007826  2.000617  1.981560  2.008443  1.989386\n",
       "            1       -0.001260  2.026991  1.983800  2.028251  1.985060\n",
       "1         0 0        0.989184  0.997210  0.943759 -0.008025  0.045426\n",
       "            1        1.010891  1.033520  0.943119 -0.022630  0.067772\n",
       "          1 0        1.003812  0.003512  0.044573  1.000300  0.959239\n",
       "            1        0.994443  0.007608  0.040794  0.986834  0.953649\n",
       "          2 0        2.010384  0.001865 -0.011194  2.008519  2.021577\n",
       "            1        1.988376  0.042260 -0.013048  1.946116  2.001424"
      ]
     },
     "execution_count": 21,
     "metadata": {},
     "output_type": "execute_result"
    }
   ],
   "source": [
    "filt = (data['Treatment'] == 1) & (data['C'] == 1) & (data['IS_TEST'] ==0)\n",
    "data.groupby(['Treatment', 'C', 'IS_TEST'])[['Y', 'Ycf', 'Ycf-GDBR','ITE', 'ITE-GDBR']].mean()"
   ]
  },
  {
   "cell_type": "markdown",
   "metadata": {},
   "source": [
    "### Apply clustering Box and Kmeans"
   ]
  },
  {
   "cell_type": "code",
   "execution_count": 22,
   "metadata": {},
   "outputs": [
    {
     "name": "stdout",
     "output_type": "stream",
     "text": [
      "CPU times: user 20h 42min 25s, sys: 1h 33min 18s, total: 22h 15min 43s\n",
      "Wall time: 1h 49min 34s\n"
     ]
    }
   ],
   "source": [
    "%%time\n",
    "col_select = ['x0', 'x1']\n",
    "data,_ = box_clustering(data.copy(), clusters = clusters, col_select = col_select )\n",
    "data,_ = kmeans_clustering(data.copy(), clusters = clusters, col_select = col_select )\n"
   ]
  },
  {
   "cell_type": "code",
   "execution_count": 23,
   "metadata": {},
   "outputs": [
    {
     "data": {
      "text/html": [
       "<div>\n",
       "<style scoped>\n",
       "    .dataframe tbody tr th:only-of-type {\n",
       "        vertical-align: middle;\n",
       "    }\n",
       "\n",
       "    .dataframe tbody tr th {\n",
       "        vertical-align: top;\n",
       "    }\n",
       "\n",
       "    .dataframe thead th {\n",
       "        text-align: right;\n",
       "    }\n",
       "</style>\n",
       "<table border=\"1\" class=\"dataframe\">\n",
       "  <thead>\n",
       "    <tr style=\"text-align: right;\">\n",
       "      <th></th>\n",
       "      <th>x0</th>\n",
       "      <th>x1</th>\n",
       "      <th>C</th>\n",
       "      <th>Treatment</th>\n",
       "      <th>Y</th>\n",
       "      <th>Ycf</th>\n",
       "      <th>ITE</th>\n",
       "      <th>IS_TEST</th>\n",
       "      <th>Ycf-GDBR</th>\n",
       "      <th>ITE-GDBR</th>\n",
       "      <th>Box-Cluster</th>\n",
       "      <th>Kmeans-Cluster</th>\n",
       "    </tr>\n",
       "  </thead>\n",
       "  <tbody>\n",
       "    <tr>\n",
       "      <th>0</th>\n",
       "      <td>0.548814</td>\n",
       "      <td>0.715189</td>\n",
       "      <td>2</td>\n",
       "      <td>0</td>\n",
       "      <td>6.658786</td>\n",
       "      <td>-6.884317</td>\n",
       "      <td>-13.543103</td>\n",
       "      <td>1</td>\n",
       "      <td>2.129169</td>\n",
       "      <td>-4.529616</td>\n",
       "      <td>982</td>\n",
       "      <td>675</td>\n",
       "    </tr>\n",
       "    <tr>\n",
       "      <th>1</th>\n",
       "      <td>0.602763</td>\n",
       "      <td>0.544883</td>\n",
       "      <td>2</td>\n",
       "      <td>0</td>\n",
       "      <td>0.805499</td>\n",
       "      <td>2.984804</td>\n",
       "      <td>2.179305</td>\n",
       "      <td>0</td>\n",
       "      <td>1.373003</td>\n",
       "      <td>0.567504</td>\n",
       "      <td>762</td>\n",
       "      <td>203</td>\n",
       "    </tr>\n",
       "    <tr>\n",
       "      <th>2</th>\n",
       "      <td>0.423655</td>\n",
       "      <td>0.645894</td>\n",
       "      <td>2</td>\n",
       "      <td>0</td>\n",
       "      <td>12.765129</td>\n",
       "      <td>3.450364</td>\n",
       "      <td>-9.314765</td>\n",
       "      <td>1</td>\n",
       "      <td>2.026313</td>\n",
       "      <td>-10.738816</td>\n",
       "      <td>866</td>\n",
       "      <td>271</td>\n",
       "    </tr>\n",
       "    <tr>\n",
       "      <th>3</th>\n",
       "      <td>0.437587</td>\n",
       "      <td>0.891773</td>\n",
       "      <td>1</td>\n",
       "      <td>1</td>\n",
       "      <td>-8.255978</td>\n",
       "      <td>-0.477820</td>\n",
       "      <td>-7.778159</td>\n",
       "      <td>0</td>\n",
       "      <td>-0.206649</td>\n",
       "      <td>-8.049329</td>\n",
       "      <td>1200</td>\n",
       "      <td>1166</td>\n",
       "    </tr>\n",
       "    <tr>\n",
       "      <th>4</th>\n",
       "      <td>0.963663</td>\n",
       "      <td>0.383442</td>\n",
       "      <td>0</td>\n",
       "      <td>0</td>\n",
       "      <td>9.189899</td>\n",
       "      <td>3.188290</td>\n",
       "      <td>-6.001609</td>\n",
       "      <td>0</td>\n",
       "      <td>1.530793</td>\n",
       "      <td>-7.659106</td>\n",
       "      <td>553</td>\n",
       "      <td>459</td>\n",
       "    </tr>\n",
       "  </tbody>\n",
       "</table>\n",
       "</div>"
      ],
      "text/plain": [
       "         x0        x1  C  Treatment          Y       Ycf        ITE  IS_TEST  \\\n",
       "0  0.548814  0.715189  2          0   6.658786 -6.884317 -13.543103        1   \n",
       "1  0.602763  0.544883  2          0   0.805499  2.984804   2.179305        0   \n",
       "2  0.423655  0.645894  2          0  12.765129  3.450364  -9.314765        1   \n",
       "3  0.437587  0.891773  1          1  -8.255978 -0.477820  -7.778159        0   \n",
       "4  0.963663  0.383442  0          0   9.189899  3.188290  -6.001609        0   \n",
       "\n",
       "   Ycf-GDBR   ITE-GDBR  Box-Cluster  Kmeans-Cluster  \n",
       "0  2.129169  -4.529616          982             675  \n",
       "1  1.373003   0.567504          762             203  \n",
       "2  2.026313 -10.738816          866             271  \n",
       "3 -0.206649  -8.049329         1200            1166  \n",
       "4  1.530793  -7.659106          553             459  "
      ]
     },
     "execution_count": 23,
     "metadata": {},
     "output_type": "execute_result"
    }
   ],
   "source": [
    "data.head()"
   ]
  },
  {
   "cell_type": "markdown",
   "metadata": {},
   "source": [
    "### Calculte ATT PER Cluster  known CF\n",
    "\n",
    "$\n",
    "\\begin{align}\n",
    "E[Y^1|T=1,Ci ]-E[Y^0|T=1, Ci]\n",
    "\\end{align}\n",
    "$"
   ]
  },
  {
   "cell_type": "code",
   "execution_count": 24,
   "metadata": {},
   "outputs": [],
   "source": [
    "ite_name = 'ITE'\n",
    "box = ATTC(data.copy(), cluster_name = 'Box-Cluster', ATT_CLUST_name='Box-ATT',\n",
    "           points_name='Box-points', weight_names='Box-Weights', \n",
    "           ITE_name = ite_name, hom_name = 'Box-Hom',\n",
    "          att = False)\n",
    "\n",
    "kmeans = ATTC(data.copy(), cluster_name = 'Kmeans-Cluster', ATT_CLUST_name='Kmeans-ATT',\n",
    "           points_name='Kmeans-points', weight_names='Kmeans-Weights',ITE_name = ite_name,\n",
    "              hom_name = 'Kmeans-Hom', att = False)\n"
   ]
  },
  {
   "cell_type": "code",
   "execution_count": 25,
   "metadata": {},
   "outputs": [
    {
     "data": {
      "text/html": [
       "<div>\n",
       "<style scoped>\n",
       "    .dataframe tbody tr th:only-of-type {\n",
       "        vertical-align: middle;\n",
       "    }\n",
       "\n",
       "    .dataframe tbody tr th {\n",
       "        vertical-align: top;\n",
       "    }\n",
       "\n",
       "    .dataframe thead th {\n",
       "        text-align: right;\n",
       "    }\n",
       "</style>\n",
       "<table border=\"1\" class=\"dataframe\">\n",
       "  <thead>\n",
       "    <tr style=\"text-align: right;\">\n",
       "      <th></th>\n",
       "      <th>Box-Cluster</th>\n",
       "      <th>Box-ATT</th>\n",
       "      <th>Box-points</th>\n",
       "      <th>Box-Hom</th>\n",
       "      <th>Box-Weights</th>\n",
       "    </tr>\n",
       "  </thead>\n",
       "  <tbody>\n",
       "    <tr>\n",
       "      <th>0</th>\n",
       "      <td>0</td>\n",
       "      <td>0.134381</td>\n",
       "      <td>1409.0</td>\n",
       "      <td>1.0</td>\n",
       "      <td>0.000705</td>\n",
       "    </tr>\n",
       "    <tr>\n",
       "      <th>1</th>\n",
       "      <td>1</td>\n",
       "      <td>0.062804</td>\n",
       "      <td>1451.0</td>\n",
       "      <td>1.0</td>\n",
       "      <td>0.000726</td>\n",
       "    </tr>\n",
       "    <tr>\n",
       "      <th>2</th>\n",
       "      <td>2</td>\n",
       "      <td>-0.101859</td>\n",
       "      <td>1399.0</td>\n",
       "      <td>1.0</td>\n",
       "      <td>0.000700</td>\n",
       "    </tr>\n",
       "  </tbody>\n",
       "</table>\n",
       "</div>"
      ],
      "text/plain": [
       "   Box-Cluster   Box-ATT  Box-points  Box-Hom  Box-Weights\n",
       "0            0  0.134381      1409.0      1.0     0.000705\n",
       "1            1  0.062804      1451.0      1.0     0.000726\n",
       "2            2 -0.101859      1399.0      1.0     0.000700"
      ]
     },
     "execution_count": 25,
     "metadata": {},
     "output_type": "execute_result"
    }
   ],
   "source": [
    "box.head(3)"
   ]
  },
  {
   "cell_type": "code",
   "execution_count": 60,
   "metadata": {},
   "outputs": [
    {
     "name": "stderr",
     "output_type": "stream",
     "text": [
      "/home/mavrog2/.conda/envs/jorje/lib/python3.7/site-packages/seaborn/distributions.py:2619: FutureWarning: `distplot` is a deprecated function and will be removed in a future version. Please adapt your code to use either `displot` (a figure-level function with similar flexibility) or `histplot` (an axes-level function for histograms).\n",
      "  warnings.warn(msg, FutureWarning)\n"
     ]
    },
    {
     "data": {
      "image/png": "[encoded data removed]",
      "text/plain": [
       "<Figure size 432x288 with 1 Axes>"
      ]
     },
     "metadata": {
      "needs_background": "light"
     },
     "output_type": "display_data"
    }
   ],
   "source": [
    "path2 = path_figs+'histograms/'\n",
    "Path(path2).mkdir(exist_ok = True)\n",
    "\n",
    "kde = False\n",
    "bins = 50\n",
    "fig, ax = plt.subplots(1,1)\n",
    "ax = sns.distplot(box['Box-ATT'].values , bins=bins, kde = False,ax = ax)\n",
    "ax.set_xlabel('ATE')\n",
    "#ax.set_ylabel('weight')\n",
    "\n",
    "if save:\n",
    "    fig.savefig(path2+'boxhist.pdf', bbox_inches='tight',pad_inches = 0)\n",
    "\n",
    "plt.show()\n",
    "\n"
   ]
  },
  {
   "cell_type": "code",
   "execution_count": 61,
   "metadata": {},
   "outputs": [
    {
     "name": "stderr",
     "output_type": "stream",
     "text": [
      "/home/mavrog2/.conda/envs/jorje/lib/python3.7/site-packages/seaborn/distributions.py:2619: FutureWarning: `distplot` is a deprecated function and will be removed in a future version. Please adapt your code to use either `displot` (a figure-level function with similar flexibility) or `histplot` (an axes-level function for histograms).\n",
      "  warnings.warn(msg, FutureWarning)\n"
     ]
    },
    {
     "data": {
      "image/png": "[encoded data removed]",
      "text/plain": [
       "<Figure size 432x288 with 1 Axes>"
      ]
     },
     "metadata": {
      "needs_background": "light"
     },
     "output_type": "display_data"
    }
   ],
   "source": [
    "fig, ax = plt.subplots(1,1)\n",
    "ax = sns.distplot(kmeans['Kmeans-ATT'],\n",
    "                  bins = bins, kde = kde, ax = ax)\n",
    "\n",
    "ax.set_xlabel('ATE')\n",
    "#ax.set_ylabel('weight')\n",
    "if save:\n",
    "    fig.savefig(path2+'Kmhist.pdf', bbox_inches='tight',pad_inches = 0)\n",
    "\n",
    "plt.show()\n"
   ]
  },
  {
   "cell_type": "code",
   "execution_count": 62,
   "metadata": {},
   "outputs": [
    {
     "name": "stderr",
     "output_type": "stream",
     "text": [
      "/home/mavrog2/.conda/envs/jorje/lib/python3.7/site-packages/seaborn/distributions.py:2619: FutureWarning: `distplot` is a deprecated function and will be removed in a future version. Please adapt your code to use either `displot` (a figure-level function with similar flexibility) or `histplot` (an axes-level function for histograms).\n",
      "  warnings.warn(msg, FutureWarning)\n"
     ]
    },
    {
     "data": {
      "image/png": "[encoded data removed]",
      "text/plain": [
       "<Figure size 432x288 with 1 Axes>"
      ]
     },
     "metadata": {
      "needs_background": "light"
     },
     "output_type": "display_data"
    }
   ],
   "source": [
    "fig, ax = plt.subplots(1,1)\n",
    "ax = sns.distplot(data['ITE'], bins = 100,\n",
    "                  kde = kde, ax = ax)\n",
    "ax.set_xlabel('ITE')\n",
    "#ax.set_ylabel('weight')\n",
    "\n",
    "if save:\n",
    "    fig.savefig(path2+'itehist.pdf', bbox_inches='tight',pad_inches = 0)\n",
    "\n",
    "plt.show()\n"
   ]
  },
  {
   "cell_type": "code",
   "execution_count": 29,
   "metadata": {},
   "outputs": [
    {
     "data": {
      "text/html": [
       "<div>\n",
       "<style scoped>\n",
       "    .dataframe tbody tr th:only-of-type {\n",
       "        vertical-align: middle;\n",
       "    }\n",
       "\n",
       "    .dataframe tbody tr th {\n",
       "        vertical-align: top;\n",
       "    }\n",
       "\n",
       "    .dataframe thead th {\n",
       "        text-align: right;\n",
       "    }\n",
       "</style>\n",
       "<table border=\"1\" class=\"dataframe\">\n",
       "  <thead>\n",
       "    <tr style=\"text-align: right;\">\n",
       "      <th></th>\n",
       "      <th>Box-Cluster</th>\n",
       "      <th>Box-ATT</th>\n",
       "      <th>Box-points</th>\n",
       "      <th>Box-Hom</th>\n",
       "      <th>Box-Weights</th>\n",
       "    </tr>\n",
       "  </thead>\n",
       "  <tbody>\n",
       "    <tr>\n",
       "      <th>count</th>\n",
       "      <td>1369.00000</td>\n",
       "      <td>1369.000000</td>\n",
       "      <td>1369.000000</td>\n",
       "      <td>1369.000000</td>\n",
       "      <td>1369.000000</td>\n",
       "    </tr>\n",
       "    <tr>\n",
       "      <th>mean</th>\n",
       "      <td>684.00000</td>\n",
       "      <td>1.003310</td>\n",
       "      <td>1460.920380</td>\n",
       "      <td>0.961037</td>\n",
       "      <td>0.000730</td>\n",
       "    </tr>\n",
       "    <tr>\n",
       "      <th>std</th>\n",
       "      <td>395.34057</td>\n",
       "      <td>0.822437</td>\n",
       "      <td>37.097551</td>\n",
       "      <td>0.116090</td>\n",
       "      <td>0.000019</td>\n",
       "    </tr>\n",
       "    <tr>\n",
       "      <th>min</th>\n",
       "      <td>0.00000</td>\n",
       "      <td>-0.515984</td>\n",
       "      <td>1345.000000</td>\n",
       "      <td>0.500666</td>\n",
       "      <td>0.000673</td>\n",
       "    </tr>\n",
       "    <tr>\n",
       "      <th>25%</th>\n",
       "      <td>342.00000</td>\n",
       "      <td>0.154030</td>\n",
       "      <td>1435.000000</td>\n",
       "      <td>1.000000</td>\n",
       "      <td>0.000718</td>\n",
       "    </tr>\n",
       "    <tr>\n",
       "      <th>50%</th>\n",
       "      <td>684.00000</td>\n",
       "      <td>1.012108</td>\n",
       "      <td>1460.000000</td>\n",
       "      <td>1.000000</td>\n",
       "      <td>0.000730</td>\n",
       "    </tr>\n",
       "    <tr>\n",
       "      <th>75%</th>\n",
       "      <td>1026.00000</td>\n",
       "      <td>1.827585</td>\n",
       "      <td>1486.000000</td>\n",
       "      <td>1.000000</td>\n",
       "      <td>0.000743</td>\n",
       "    </tr>\n",
       "    <tr>\n",
       "      <th>max</th>\n",
       "      <td>1368.00000</td>\n",
       "      <td>2.604595</td>\n",
       "      <td>1590.000000</td>\n",
       "      <td>1.000000</td>\n",
       "      <td>0.000795</td>\n",
       "    </tr>\n",
       "  </tbody>\n",
       "</table>\n",
       "</div>"
      ],
      "text/plain": [
       "       Box-Cluster      Box-ATT   Box-points      Box-Hom  Box-Weights\n",
       "count   1369.00000  1369.000000  1369.000000  1369.000000  1369.000000\n",
       "mean     684.00000     1.003310  1460.920380     0.961037     0.000730\n",
       "std      395.34057     0.822437    37.097551     0.116090     0.000019\n",
       "min        0.00000    -0.515984  1345.000000     0.500666     0.000673\n",
       "25%      342.00000     0.154030  1435.000000     1.000000     0.000718\n",
       "50%      684.00000     1.012108  1460.000000     1.000000     0.000730\n",
       "75%     1026.00000     1.827585  1486.000000     1.000000     0.000743\n",
       "max     1368.00000     2.604595  1590.000000     1.000000     0.000795"
      ]
     },
     "execution_count": 29,
     "metadata": {},
     "output_type": "execute_result"
    }
   ],
   "source": [
    "box.describe()"
   ]
  },
  {
   "cell_type": "markdown",
   "metadata": {},
   "source": [
    "### Calculate ATT per Cluster not known Model Calculated CF"
   ]
  },
  {
   "cell_type": "code",
   "execution_count": 30,
   "metadata": {},
   "outputs": [],
   "source": [
    "ite_name = 'ITE-GDBR'\n",
    "box2 = ATTC(data.copy(), cluster_name = 'Box-Cluster', ATT_CLUST_name='Box-ATT',\n",
    "           points_name='Box-points', weight_names='Box-Weights', ITE_name = ite_name,\n",
    "            hom_name = 'Box-Hom', att = False)\n",
    "\n",
    "kmeans2 = ATTC(data.copy(), cluster_name = 'Kmeans-Cluster', ATT_CLUST_name='Kmeans-ATT',\n",
    "           points_name='Kmeans-points', weight_names='Kmeans-Weights',ITE_name = ite_name,\n",
    "               hom_name = 'Kmeans-Hom', att = False)\n",
    "\n"
   ]
  },
  {
   "cell_type": "code",
   "execution_count": 77,
   "metadata": {},
   "outputs": [
    {
     "name": "stderr",
     "output_type": "stream",
     "text": [
      "/home/mavrog2/.conda/envs/jorje/lib/python3.7/site-packages/seaborn/distributions.py:2619: FutureWarning: `distplot` is a deprecated function and will be removed in a future version. Please adapt your code to use either `displot` (a figure-level function with similar flexibility) or `histplot` (an axes-level function for histograms).\n",
      "  warnings.warn(msg, FutureWarning)\n"
     ]
    },
    {
     "data": {
      "image/png": "[encoded data removed]",
      "text/plain": [
       "<Figure size 432x288 with 1 Axes>"
      ]
     },
     "metadata": {
      "needs_background": "light"
     },
     "output_type": "display_data"
    }
   ],
   "source": [
    "fig, ax = plt.subplots(1,1)\n",
    "ax = sns.distplot(box2['Box-ATT'],bins = bins, kde = kde,ax = ax )\n",
    "ax.set_xlabel('ATE')\n",
    "#ax.set_ylabel('weight')\n",
    "ax.set_xlim(-0.4,2.4)\n",
    "\n",
    "if save:\n",
    "    fig.savefig(path2+'Box2hist.pdf', bbox_inches='tight',pad_inches = 0)\n",
    "\n",
    "plt.show()\n",
    "\n",
    "\n"
   ]
  },
  {
   "cell_type": "code",
   "execution_count": 76,
   "metadata": {},
   "outputs": [
    {
     "name": "stderr",
     "output_type": "stream",
     "text": [
      "/home/mavrog2/.conda/envs/jorje/lib/python3.7/site-packages/seaborn/distributions.py:2619: FutureWarning: `distplot` is a deprecated function and will be removed in a future version. Please adapt your code to use either `displot` (a figure-level function with similar flexibility) or `histplot` (an axes-level function for histograms).\n",
      "  warnings.warn(msg, FutureWarning)\n"
     ]
    },
    {
     "data": {
      "image/png": "[encoded data removed]",
      "text/plain": [
       "<Figure size 432x288 with 1 Axes>"
      ]
     },
     "metadata": {
      "needs_background": "light"
     },
     "output_type": "display_data"
    }
   ],
   "source": [
    "fig, ax = plt.subplots(1,1)\n",
    "ax = sns.distplot(kmeans2['Kmeans-ATT'], \n",
    "             bins = bins, kde = kde, ax = ax)\n",
    "ax.set_xlabel('ATE')\n",
    "#ax.set_ylabel('weight')\n",
    "ax.set_xlim(-0.4,2.4)\n",
    "\n",
    "if save:\n",
    "\n",
    "    fig.savefig(path2+'KM2hist.pdf', bbox_inches='tight',pad_inches = 0)\n",
    "\n",
    "plt.show()"
   ]
  },
  {
   "cell_type": "code",
   "execution_count": 78,
   "metadata": {},
   "outputs": [
    {
     "name": "stderr",
     "output_type": "stream",
     "text": [
      "/home/mavrog2/.conda/envs/jorje/lib/python3.7/site-packages/seaborn/distributions.py:2619: FutureWarning: `distplot` is a deprecated function and will be removed in a future version. Please adapt your code to use either `displot` (a figure-level function with similar flexibility) or `histplot` (an axes-level function for histograms).\n",
      "  warnings.warn(msg, FutureWarning)\n"
     ]
    },
    {
     "data": {
      "image/png": "[encoded data removed]",
      "text/plain": [
       "<Figure size 432x288 with 1 Axes>"
      ]
     },
     "metadata": {
      "needs_background": "light"
     },
     "output_type": "display_data"
    }
   ],
   "source": [
    "fig, ax = plt.subplots(1,1)\n",
    "ax = sns.distplot(data['ITE-GDBR'],bins = 400, kde = kde, ax = ax)\n",
    "\n",
    "ax.set_xlabel('ITE')\n",
    "#ax.set_ylabel('weight')\n",
    "ax.set_xlim(-15,15)\n",
    "if save:\n",
    "\n",
    "    fig.savefig(path2+'ITE2hist.pdf', bbox_inches='tight',pad_inches = 0)\n",
    "\n",
    "plt.show()"
   ]
  },
  {
   "cell_type": "markdown",
   "metadata": {},
   "source": [
    "### Optimal 3-Clustering\n",
    "#### Cluster the ATTs for the 4 methods \n",
    "1. Box with sampled Ites\n",
    "2. Kmeans with sampled Ites\n",
    "3. Box with estimated Ites\n",
    "4. Kmeans with estimated Ites"
   ]
  },
  {
   "cell_type": "code",
   "execution_count": 34,
   "metadata": {},
   "outputs": [
    {
     "name": "stdout",
     "output_type": "stream",
     "text": [
      "Did not pick 3, it picked: 0\n",
      "Did not pick 3, it picked: 0\n",
      "CPU times: user 1.05 s, sys: 40 ms, total: 1.09 s\n",
      "Wall time: 1.17 s\n"
     ]
    }
   ],
   "source": [
    "%%time\n",
    "#all_data = [box, kmeans, agglo, box2, kmeans2, agglo2]\n",
    "all_data = [box, kmeans, box2, kmeans2]\n",
    "\n",
    "#names = ['Box-Cl2', 'Kmeans-Cl2', 'Agglo-Cl2', 'Box2-Cl2', 'Kmeans2-Cl2', 'Agglo2-Cl2']\n",
    "#names2 = ['Box-ATT', 'Kmeans-ATT', 'Agglo-ATT', 'Box-ATT', 'Kmeans-ATT', 'Agglo-ATT']\n",
    "\n",
    "names_to_give = ['Box-Cl2', 'Kmeans-Cl2',  'Box2-Cl2', 'Kmeans2-Cl2']\n",
    "names_to_find= ['Box-ATT', 'Kmeans-ATT',  'Box-ATT', 'Kmeans-ATT']\n",
    "\n",
    "weights = ['Box-Weights', 'Kmeans-Weights', 'Box-Weights', 'Kmeans-Weights']\n",
    "\n",
    "clusts = 3\n",
    "for i, (dd, name, name2,w) in enumerate(zip(all_data, names_to_give, names_to_find,weights)):\n",
    "    all_data[i], _ = optimal_clustering(dd, max_clusters = clusts, col_select = name2, \n",
    "                      cluster_name = name, N=N )\n",
    "    \n"
   ]
  },
  {
   "cell_type": "code",
   "execution_count": 35,
   "metadata": {},
   "outputs": [
    {
     "data": {
      "text/plain": [
       "0    462\n",
       "2    456\n",
       "1    451\n",
       "Name: Box-Cl2, dtype: int64"
      ]
     },
     "execution_count": 35,
     "metadata": {},
     "output_type": "execute_result"
    }
   ],
   "source": [
    "box['Box-Cl2'].value_counts()"
   ]
  },
  {
   "cell_type": "code",
   "execution_count": 36,
   "metadata": {},
   "outputs": [
    {
     "data": {
      "text/html": [
       "<div>\n",
       "<style scoped>\n",
       "    .dataframe tbody tr th:only-of-type {\n",
       "        vertical-align: middle;\n",
       "    }\n",
       "\n",
       "    .dataframe tbody tr th {\n",
       "        vertical-align: top;\n",
       "    }\n",
       "\n",
       "    .dataframe thead th {\n",
       "        text-align: right;\n",
       "    }\n",
       "</style>\n",
       "<table border=\"1\" class=\"dataframe\">\n",
       "  <thead>\n",
       "    <tr style=\"text-align: right;\">\n",
       "      <th></th>\n",
       "      <th>Box-Cluster</th>\n",
       "      <th>Box-ATT</th>\n",
       "      <th>Box-points</th>\n",
       "      <th>Box-Hom</th>\n",
       "      <th>Box-Weights</th>\n",
       "      <th>Box-Cl2</th>\n",
       "    </tr>\n",
       "  </thead>\n",
       "  <tbody>\n",
       "    <tr>\n",
       "      <th>0</th>\n",
       "      <td>0</td>\n",
       "      <td>0.134381</td>\n",
       "      <td>1409.0</td>\n",
       "      <td>1.0</td>\n",
       "      <td>0.000705</td>\n",
       "      <td>0</td>\n",
       "    </tr>\n",
       "    <tr>\n",
       "      <th>1</th>\n",
       "      <td>1</td>\n",
       "      <td>0.062804</td>\n",
       "      <td>1451.0</td>\n",
       "      <td>1.0</td>\n",
       "      <td>0.000726</td>\n",
       "      <td>0</td>\n",
       "    </tr>\n",
       "  </tbody>\n",
       "</table>\n",
       "</div>"
      ],
      "text/plain": [
       "   Box-Cluster   Box-ATT  Box-points  Box-Hom  Box-Weights  Box-Cl2\n",
       "0            0  0.134381      1409.0      1.0     0.000705        0\n",
       "1            1  0.062804      1451.0      1.0     0.000726        0"
      ]
     },
     "execution_count": 36,
     "metadata": {},
     "output_type": "execute_result"
    }
   ],
   "source": [
    "box.head(2)"
   ]
  },
  {
   "cell_type": "code",
   "execution_count": 37,
   "metadata": {},
   "outputs": [
    {
     "data": {
      "text/html": [
       "<div>\n",
       "<style scoped>\n",
       "    .dataframe tbody tr th:only-of-type {\n",
       "        vertical-align: middle;\n",
       "    }\n",
       "\n",
       "    .dataframe tbody tr th {\n",
       "        vertical-align: top;\n",
       "    }\n",
       "\n",
       "    .dataframe thead th {\n",
       "        text-align: right;\n",
       "    }\n",
       "</style>\n",
       "<table border=\"1\" class=\"dataframe\">\n",
       "  <thead>\n",
       "    <tr style=\"text-align: right;\">\n",
       "      <th></th>\n",
       "      <th>x0</th>\n",
       "      <th>x1</th>\n",
       "      <th>C</th>\n",
       "      <th>Treatment</th>\n",
       "      <th>Y</th>\n",
       "      <th>Ycf</th>\n",
       "      <th>ITE</th>\n",
       "      <th>IS_TEST</th>\n",
       "      <th>Ycf-GDBR</th>\n",
       "      <th>ITE-GDBR</th>\n",
       "      <th>Box-Cluster</th>\n",
       "      <th>Kmeans-Cluster</th>\n",
       "    </tr>\n",
       "  </thead>\n",
       "  <tbody>\n",
       "    <tr>\n",
       "      <th>0</th>\n",
       "      <td>0.548814</td>\n",
       "      <td>0.715189</td>\n",
       "      <td>2</td>\n",
       "      <td>0</td>\n",
       "      <td>6.658786</td>\n",
       "      <td>-6.884317</td>\n",
       "      <td>-13.543103</td>\n",
       "      <td>1</td>\n",
       "      <td>2.129169</td>\n",
       "      <td>-4.529616</td>\n",
       "      <td>982</td>\n",
       "      <td>675</td>\n",
       "    </tr>\n",
       "    <tr>\n",
       "      <th>1</th>\n",
       "      <td>0.602763</td>\n",
       "      <td>0.544883</td>\n",
       "      <td>2</td>\n",
       "      <td>0</td>\n",
       "      <td>0.805499</td>\n",
       "      <td>2.984804</td>\n",
       "      <td>2.179305</td>\n",
       "      <td>0</td>\n",
       "      <td>1.373003</td>\n",
       "      <td>0.567504</td>\n",
       "      <td>762</td>\n",
       "      <td>203</td>\n",
       "    </tr>\n",
       "  </tbody>\n",
       "</table>\n",
       "</div>"
      ],
      "text/plain": [
       "         x0        x1  C  Treatment         Y       Ycf        ITE  IS_TEST  \\\n",
       "0  0.548814  0.715189  2          0  6.658786 -6.884317 -13.543103        1   \n",
       "1  0.602763  0.544883  2          0  0.805499  2.984804   2.179305        0   \n",
       "\n",
       "   Ycf-GDBR  ITE-GDBR  Box-Cluster  Kmeans-Cluster  \n",
       "0  2.129169 -4.529616          982             675  \n",
       "1  1.373003  0.567504          762             203  "
      ]
     },
     "execution_count": 37,
     "metadata": {},
     "output_type": "execute_result"
    }
   ],
   "source": [
    "data2 = data.copy()\n",
    "data2.head(2)"
   ]
  },
  {
   "cell_type": "markdown",
   "metadata": {},
   "source": [
    "### 3 Clustering in the ITEs"
   ]
  },
  {
   "cell_type": "code",
   "execution_count": 38,
   "metadata": {},
   "outputs": [],
   "source": [
    "cluster_name1 = 'ITE-2CTrue'\n",
    "col1 = 'ITE'\n",
    "filt11 = data2[col1] <= 0.5\n",
    "filt21 = data2[col1] >= 0.5\n",
    "filt31 = data2[col1] >= 1.5\n",
    "\n",
    "data2[cluster_name1] = 0\n",
    "data2.loc[filt11,cluster_name1] = 0\n",
    "data2.loc[filt21, cluster_name1] = 1\n",
    "data2.loc[filt31, cluster_name1] = 2\n",
    "\n",
    "cluster_name2 = 'ITE-2CGDBR'\n",
    "col2 = 'ITE-GDBR'\n",
    "filt12 = data2[col2] <= 0.5\n",
    "filt22 = data2[col2] >= 0.5\n",
    "filt32 = data2[col2] >= 1.5\n",
    "\n",
    "data2[cluster_name2] = 0\n",
    "data2.loc[filt12,cluster_name2] = 0\n",
    "data2.loc[filt22, cluster_name2] = 1\n",
    "data2.loc[filt32, cluster_name2] = 2\n",
    "\n",
    "#data2,_ = kmeans_clustering(data2,clusters = clusts, cluster_name = 'ITE-2CTrue',col_select = ['ITE'] )\n",
    "#data2,_ = kmeans_clustering(data2,clusters = clusts, cluster_name = 'ITE-2CGDBR',col_select = ['ITE-GDBR'] )"
   ]
  },
  {
   "cell_type": "markdown",
   "metadata": {},
   "source": [
    "### Merge 3 Clustering with initial data"
   ]
  },
  {
   "cell_type": "code",
   "execution_count": 39,
   "metadata": {},
   "outputs": [],
   "source": [
    "#merge_names = ['Box-Cluster', 'Kmeans-Cluster', 'Agglomerative-Cluster']*2\n",
    "#class_names = ['Box-Cl2', 'Kmeans-Cl2', 'Agglo-Cl2', 'Box2-Cl2', 'Kmeans2-Cl2', 'Agglo2-Cl2']\n",
    "\n",
    "merge_names = ['Box-Cluster', 'Kmeans-Cluster']*2\n",
    "class_names = ['Box-Cl2', 'Kmeans-Cl2',  'Box2-Cl2', 'Kmeans2-Cl2']\n",
    "\n",
    "for dd, merge_name, class_name in zip(all_data, merge_names, class_names):\n",
    "    dd2 = dd[[merge_name, class_name]]\n",
    "\n",
    "\n",
    "    data2 = data2.merge(dd2, on = merge_name, how = 'left' )"
   ]
  },
  {
   "cell_type": "code",
   "execution_count": 40,
   "metadata": {},
   "outputs": [
    {
     "data": {
      "text/html": [
       "<div>\n",
       "<style scoped>\n",
       "    .dataframe tbody tr th:only-of-type {\n",
       "        vertical-align: middle;\n",
       "    }\n",
       "\n",
       "    .dataframe tbody tr th {\n",
       "        vertical-align: top;\n",
       "    }\n",
       "\n",
       "    .dataframe thead th {\n",
       "        text-align: right;\n",
       "    }\n",
       "</style>\n",
       "<table border=\"1\" class=\"dataframe\">\n",
       "  <thead>\n",
       "    <tr style=\"text-align: right;\">\n",
       "      <th></th>\n",
       "      <th>x0</th>\n",
       "      <th>x1</th>\n",
       "      <th>C</th>\n",
       "      <th>Treatment</th>\n",
       "      <th>Y</th>\n",
       "      <th>Ycf</th>\n",
       "      <th>ITE</th>\n",
       "      <th>IS_TEST</th>\n",
       "      <th>Ycf-GDBR</th>\n",
       "      <th>ITE-GDBR</th>\n",
       "      <th>Box-Cluster</th>\n",
       "      <th>Kmeans-Cluster</th>\n",
       "      <th>ITE-2CTrue</th>\n",
       "      <th>ITE-2CGDBR</th>\n",
       "      <th>Box-Cl2</th>\n",
       "      <th>Kmeans-Cl2</th>\n",
       "      <th>Box2-Cl2</th>\n",
       "      <th>Kmeans2-Cl2</th>\n",
       "    </tr>\n",
       "  </thead>\n",
       "  <tbody>\n",
       "    <tr>\n",
       "      <th>0</th>\n",
       "      <td>0.548814</td>\n",
       "      <td>0.715189</td>\n",
       "      <td>2</td>\n",
       "      <td>0</td>\n",
       "      <td>6.658786</td>\n",
       "      <td>-6.884317</td>\n",
       "      <td>-13.543103</td>\n",
       "      <td>1</td>\n",
       "      <td>2.129169</td>\n",
       "      <td>-4.529616</td>\n",
       "      <td>982</td>\n",
       "      <td>675</td>\n",
       "      <td>0</td>\n",
       "      <td>0</td>\n",
       "      <td>2</td>\n",
       "      <td>2</td>\n",
       "      <td>2</td>\n",
       "      <td>2</td>\n",
       "    </tr>\n",
       "    <tr>\n",
       "      <th>1</th>\n",
       "      <td>0.602763</td>\n",
       "      <td>0.544883</td>\n",
       "      <td>2</td>\n",
       "      <td>0</td>\n",
       "      <td>0.805499</td>\n",
       "      <td>2.984804</td>\n",
       "      <td>2.179305</td>\n",
       "      <td>0</td>\n",
       "      <td>1.373003</td>\n",
       "      <td>0.567504</td>\n",
       "      <td>762</td>\n",
       "      <td>203</td>\n",
       "      <td>2</td>\n",
       "      <td>1</td>\n",
       "      <td>2</td>\n",
       "      <td>2</td>\n",
       "      <td>2</td>\n",
       "      <td>2</td>\n",
       "    </tr>\n",
       "  </tbody>\n",
       "</table>\n",
       "</div>"
      ],
      "text/plain": [
       "         x0        x1  C  Treatment         Y       Ycf        ITE  IS_TEST  \\\n",
       "0  0.548814  0.715189  2          0  6.658786 -6.884317 -13.543103        1   \n",
       "1  0.602763  0.544883  2          0  0.805499  2.984804   2.179305        0   \n",
       "\n",
       "   Ycf-GDBR  ITE-GDBR  Box-Cluster  Kmeans-Cluster  ITE-2CTrue  ITE-2CGDBR  \\\n",
       "0  2.129169 -4.529616          982             675           0           0   \n",
       "1  1.373003  0.567504          762             203           2           1   \n",
       "\n",
       "   Box-Cl2  Kmeans-Cl2  Box2-Cl2  Kmeans2-Cl2  \n",
       "0        2           2         2            2  \n",
       "1        2           2         2            2  "
      ]
     },
     "execution_count": 40,
     "metadata": {},
     "output_type": "execute_result"
    }
   ],
   "source": [
    "data2.head(2)"
   ]
  },
  {
   "cell_type": "markdown",
   "metadata": {},
   "source": [
    "### Plot reconstruction of data"
   ]
  },
  {
   "cell_type": "code",
   "execution_count": 59,
   "metadata": {},
   "outputs": [
    {
     "data": {
      "image/png": "[encoded data removed]",
      "text/plain": [
       "<Figure size 432x288 with 1 Axes>"
      ]
     },
     "metadata": {
      "needs_background": "light"
     },
     "output_type": "display_data"
    },
    {
     "data": {
      "image/png": "[encoded data removed]",
      "text/plain": [
       "<Figure size 432x288 with 1 Axes>"
      ]
     },
     "metadata": {
      "needs_background": "light"
     },
     "output_type": "display_data"
    },
    {
     "data": {
      "image/png": "[encoded data removed]",
      "text/plain": [
       "<Figure size 432x288 with 1 Axes>"
      ]
     },
     "metadata": {
      "needs_background": "light"
     },
     "output_type": "display_data"
    },
    {
     "data": {
      "image/png": "[encoded data removed]",
      "text/plain": [
       "<Figure size 432x288 with 1 Axes>"
      ]
     },
     "metadata": {
      "needs_background": "light"
     },
     "output_type": "display_data"
    },
    {
     "data": {
      "image/png": "[encoded data removed]",
      "text/plain": [
       "<Figure size 432x288 with 1 Axes>"
      ]
     },
     "metadata": {
      "needs_background": "light"
     },
     "output_type": "display_data"
    },
    {
     "data": {
      "image/png": "[encoded data removed]",
      "text/plain": [
       "<Figure size 432x288 with 1 Axes>"
      ]
     },
     "metadata": {
      "needs_background": "light"
     },
     "output_type": "display_data"
    },
    {
     "name": "stdout",
     "output_type": "stream",
     "text": [
      "CPU times: user 9min 43s, sys: 13.3 s, total: 9min 56s\n",
      "Wall time: 9min 41s\n"
     ]
    }
   ],
   "source": [
    "%%time\n",
    "#class_names1 = ['Box-Cl2', 'Kmeans-Cl2', 'Agglo-Cl2', 'Box2-Cl2',\n",
    "                #'Kmeans2-Cl2', 'Agglo2-Cl2', 'ITE-CTrue', 'ITE-CGDBR']\n",
    "\n",
    "class_names2 = ['Box-Cl2', 'Kmeans-Cl2',  'Box2-Cl2', 'Kmeans2-Cl2','ITE-2CTrue', 'ITE-2CGDBR']\n",
    "\n",
    "\n",
    "#patth to save\n",
    "path3 = path_figs+'reconstruction/'\n",
    "Path(path3).mkdir(exist_ok = True, parents = True)\n",
    "use_poly = False\n",
    "for name in class_names2:\n",
    "    #data2.plot.scatter(x='x0', y='x1', c=name, colormap='inferno')\n",
    "    fig, ax = plt.subplots()\n",
    "    if not use_poly:\n",
    "        sc = ax.scatter(data2['x0'].values, data2['x1'].values, c=data2[name].values, cmap = 'Greys', s = 1)\n",
    "    else:\n",
    "        polygons, colors = generate_paths(K, Cdraw = avg_c, Cdraw_name=name)\n",
    "        coll = mpl.collections.PolyCollection(polygons)\n",
    "        coll.set(array = np.array(colors), cmap = 'Greys')\n",
    "        ax.add_collection(coll)\n",
    "        ax.figure.colorbar(coll)\n",
    "    #ax.set_title(name)\n",
    "    #fig.colorbar(sc)\n",
    "    if save:\n",
    "        ax.set_aspect('equal', adjustable='box')\n",
    "        fig.savefig(path3+'{}.jpeg'.format(name), bbox_inches='tight',pad_inches = 0)\n",
    "\n",
    "    plt.show()\n",
    "    "
   ]
  },
  {
   "cell_type": "code",
   "execution_count": 42,
   "metadata": {},
   "outputs": [],
   "source": [
    "def MAE_pd(group, name1,name2,column_name):\n",
    "    \n",
    "    group[column_name] = np.abs(group[name1].values-group[name2].mean())\n",
    "    return group\n",
    "    \n",
    "    "
   ]
  },
  {
   "cell_type": "code",
   "execution_count": 43,
   "metadata": {},
   "outputs": [],
   "source": [
    "ite_column = 'ITE-GDBR'\n",
    "\n",
    "for clust2 in class_names2:\n",
    "    data2 = data2.groupby(clust2).apply(lambda x: MAE_pd(x, 'C', ite_column, clust2+'-err-GDBR'))"
   ]
  },
  {
   "cell_type": "code",
   "execution_count": 44,
   "metadata": {},
   "outputs": [],
   "source": [
    "ite_column = 'ITE'\n",
    "\n",
    "for clust2 in class_names2:\n",
    "    data2 = data2.groupby(clust2).apply(lambda x: MAE_pd(x, 'C', ite_column, clust2+'-err-True-ITE'))"
   ]
  },
  {
   "cell_type": "code",
   "execution_count": 45,
   "metadata": {},
   "outputs": [],
   "source": [
    "errors = data2.describe().loc[['mean', 'std'], [col for col in data2.columns if 'err' in col]].T"
   ]
  },
  {
   "cell_type": "code",
   "execution_count": 46,
   "metadata": {},
   "outputs": [
    {
     "data": {
      "text/html": [
       "<div>\n",
       "<style scoped>\n",
       "    .dataframe tbody tr th:only-of-type {\n",
       "        vertical-align: middle;\n",
       "    }\n",
       "\n",
       "    .dataframe tbody tr th {\n",
       "        vertical-align: top;\n",
       "    }\n",
       "\n",
       "    .dataframe thead th {\n",
       "        text-align: right;\n",
       "    }\n",
       "</style>\n",
       "<table border=\"1\" class=\"dataframe\">\n",
       "  <thead>\n",
       "    <tr style=\"text-align: right;\">\n",
       "      <th></th>\n",
       "      <th>mean</th>\n",
       "      <th>std</th>\n",
       "    </tr>\n",
       "  </thead>\n",
       "  <tbody>\n",
       "    <tr>\n",
       "      <th>Kmeans-Cl2-err-True-ITE</th>\n",
       "      <td>0.059141</td>\n",
       "      <td>0.200627</td>\n",
       "    </tr>\n",
       "    <tr>\n",
       "      <th>Kmeans-Cl2-err-GDBR</th>\n",
       "      <td>0.062767</td>\n",
       "      <td>0.199577</td>\n",
       "    </tr>\n",
       "    <tr>\n",
       "      <th>Kmeans2-Cl2-err-GDBR</th>\n",
       "      <td>0.064929</td>\n",
       "      <td>0.198396</td>\n",
       "    </tr>\n",
       "    <tr>\n",
       "      <th>Box-Cl2-err-True-ITE</th>\n",
       "      <td>0.065532</td>\n",
       "      <td>0.205164</td>\n",
       "    </tr>\n",
       "    <tr>\n",
       "      <th>Kmeans2-Cl2-err-True-ITE</th>\n",
       "      <td>0.068085</td>\n",
       "      <td>0.197253</td>\n",
       "    </tr>\n",
       "    <tr>\n",
       "      <th>Box-Cl2-err-GDBR</th>\n",
       "      <td>0.068988</td>\n",
       "      <td>0.204087</td>\n",
       "    </tr>\n",
       "    <tr>\n",
       "      <th>Box2-Cl2-err-True-ITE</th>\n",
       "      <td>0.078381</td>\n",
       "      <td>0.214181</td>\n",
       "    </tr>\n",
       "    <tr>\n",
       "      <th>Box2-Cl2-err-GDBR</th>\n",
       "      <td>0.078439</td>\n",
       "      <td>0.214410</td>\n",
       "    </tr>\n",
       "    <tr>\n",
       "      <th>ITE-2CTrue-err-GDBR</th>\n",
       "      <td>2.830202</td>\n",
       "      <td>0.955754</td>\n",
       "    </tr>\n",
       "    <tr>\n",
       "      <th>ITE-2CGDBR-err-True-ITE</th>\n",
       "      <td>3.918685</td>\n",
       "      <td>1.229577</td>\n",
       "    </tr>\n",
       "    <tr>\n",
       "      <th>ITE-2CGDBR-err-GDBR</th>\n",
       "      <td>4.019826</td>\n",
       "      <td>1.253108</td>\n",
       "    </tr>\n",
       "    <tr>\n",
       "      <th>ITE-2CTrue-err-True-ITE</th>\n",
       "      <td>5.623850</td>\n",
       "      <td>1.447520</td>\n",
       "    </tr>\n",
       "  </tbody>\n",
       "</table>\n",
       "</div>"
      ],
      "text/plain": [
       "                              mean       std\n",
       "Kmeans-Cl2-err-True-ITE   0.059141  0.200627\n",
       "Kmeans-Cl2-err-GDBR       0.062767  0.199577\n",
       "Kmeans2-Cl2-err-GDBR      0.064929  0.198396\n",
       "Box-Cl2-err-True-ITE      0.065532  0.205164\n",
       "Kmeans2-Cl2-err-True-ITE  0.068085  0.197253\n",
       "Box-Cl2-err-GDBR          0.068988  0.204087\n",
       "Box2-Cl2-err-True-ITE     0.078381  0.214181\n",
       "Box2-Cl2-err-GDBR         0.078439  0.214410\n",
       "ITE-2CTrue-err-GDBR       2.830202  0.955754\n",
       "ITE-2CGDBR-err-True-ITE   3.918685  1.229577\n",
       "ITE-2CGDBR-err-GDBR       4.019826  1.253108\n",
       "ITE-2CTrue-err-True-ITE   5.623850  1.447520"
      ]
     },
     "execution_count": 46,
     "metadata": {},
     "output_type": "execute_result"
    }
   ],
   "source": [
    "errors.sort_values(by = 'mean')"
   ]
  },
  {
   "cell_type": "code",
   "execution_count": 47,
   "metadata": {},
   "outputs": [
    {
     "data": {
      "image/png": "[encoded data removed]",
      "text/plain": [
       "<Figure size 432x288 with 1 Axes>"
      ]
     },
     "metadata": {
      "needs_background": "light"
     },
     "output_type": "display_data"
    }
   ],
   "source": [
    "ax = errors['mean'].sort_values().plot.barh()\n",
    "plt.show()"
   ]
  },
  {
   "cell_type": "code",
   "execution_count": 48,
   "metadata": {},
   "outputs": [],
   "source": [
    "from evaluations import confusion_matrix\n",
    "    "
   ]
  },
  {
   "cell_type": "code",
   "execution_count": 49,
   "metadata": {},
   "outputs": [
    {
     "name": "stdout",
     "output_type": "stream",
     "text": [
      "Box-Cl2\n"
     ]
    },
    {
     "data": {
      "text/html": [
       "<div>\n",
       "<style scoped>\n",
       "    .dataframe tbody tr th:only-of-type {\n",
       "        vertical-align: middle;\n",
       "    }\n",
       "\n",
       "    .dataframe tbody tr th {\n",
       "        vertical-align: top;\n",
       "    }\n",
       "\n",
       "    .dataframe thead th {\n",
       "        text-align: right;\n",
       "    }\n",
       "</style>\n",
       "<table border=\"1\" class=\"dataframe\">\n",
       "  <thead>\n",
       "    <tr style=\"text-align: right;\">\n",
       "      <th></th>\n",
       "      <th>C0 Pred</th>\n",
       "      <th>C1 Pred</th>\n",
       "      <th>C2 Pred</th>\n",
       "    </tr>\n",
       "  </thead>\n",
       "  <tbody>\n",
       "    <tr>\n",
       "      <th>C0 True</th>\n",
       "      <td>0.967411</td>\n",
       "      <td>0.032589</td>\n",
       "      <td>0.000000</td>\n",
       "    </tr>\n",
       "    <tr>\n",
       "      <th>C1 True</th>\n",
       "      <td>0.045307</td>\n",
       "      <td>0.923161</td>\n",
       "      <td>0.031532</td>\n",
       "    </tr>\n",
       "    <tr>\n",
       "      <th>C2 True</th>\n",
       "      <td>0.000000</td>\n",
       "      <td>0.032465</td>\n",
       "      <td>0.967535</td>\n",
       "    </tr>\n",
       "  </tbody>\n",
       "</table>\n",
       "</div>"
      ],
      "text/plain": [
       "          C0 Pred   C1 Pred   C2 Pred\n",
       "C0 True  0.967411  0.032589  0.000000\n",
       "C1 True  0.045307  0.923161  0.031532\n",
       "C2 True  0.000000  0.032465  0.967535"
      ]
     },
     "metadata": {},
     "output_type": "display_data"
    },
    {
     "name": "stdout",
     "output_type": "stream",
     "text": [
      "Kmeans-Cl2\n"
     ]
    },
    {
     "data": {
      "text/html": [
       "<div>\n",
       "<style scoped>\n",
       "    .dataframe tbody tr th:only-of-type {\n",
       "        vertical-align: middle;\n",
       "    }\n",
       "\n",
       "    .dataframe tbody tr th {\n",
       "        vertical-align: top;\n",
       "    }\n",
       "\n",
       "    .dataframe thead th {\n",
       "        text-align: right;\n",
       "    }\n",
       "</style>\n",
       "<table border=\"1\" class=\"dataframe\">\n",
       "  <thead>\n",
       "    <tr style=\"text-align: right;\">\n",
       "      <th></th>\n",
       "      <th>C0 Pred</th>\n",
       "      <th>C1 Pred</th>\n",
       "      <th>C2 Pred</th>\n",
       "    </tr>\n",
       "  </thead>\n",
       "  <tbody>\n",
       "    <tr>\n",
       "      <th>C0 True</th>\n",
       "      <td>0.96891</td>\n",
       "      <td>0.031090</td>\n",
       "      <td>0.000000</td>\n",
       "    </tr>\n",
       "    <tr>\n",
       "      <th>C1 True</th>\n",
       "      <td>0.03971</td>\n",
       "      <td>0.932771</td>\n",
       "      <td>0.027519</td>\n",
       "    </tr>\n",
       "    <tr>\n",
       "      <th>C2 True</th>\n",
       "      <td>0.00000</td>\n",
       "      <td>0.034931</td>\n",
       "      <td>0.965069</td>\n",
       "    </tr>\n",
       "  </tbody>\n",
       "</table>\n",
       "</div>"
      ],
      "text/plain": [
       "         C0 Pred   C1 Pred   C2 Pred\n",
       "C0 True  0.96891  0.031090  0.000000\n",
       "C1 True  0.03971  0.932771  0.027519\n",
       "C2 True  0.00000  0.034931  0.965069"
      ]
     },
     "metadata": {},
     "output_type": "display_data"
    },
    {
     "name": "stdout",
     "output_type": "stream",
     "text": [
      "Box2-Cl2\n"
     ]
    },
    {
     "data": {
      "text/html": [
       "<div>\n",
       "<style scoped>\n",
       "    .dataframe tbody tr th:only-of-type {\n",
       "        vertical-align: middle;\n",
       "    }\n",
       "\n",
       "    .dataframe tbody tr th {\n",
       "        vertical-align: top;\n",
       "    }\n",
       "\n",
       "    .dataframe thead th {\n",
       "        text-align: right;\n",
       "    }\n",
       "</style>\n",
       "<table border=\"1\" class=\"dataframe\">\n",
       "  <thead>\n",
       "    <tr style=\"text-align: right;\">\n",
       "      <th></th>\n",
       "      <th>C0 Pred</th>\n",
       "      <th>C1 Pred</th>\n",
       "      <th>C2 Pred</th>\n",
       "    </tr>\n",
       "  </thead>\n",
       "  <tbody>\n",
       "    <tr>\n",
       "      <th>C0 True</th>\n",
       "      <td>0.962253</td>\n",
       "      <td>0.037747</td>\n",
       "      <td>0.000000</td>\n",
       "    </tr>\n",
       "    <tr>\n",
       "      <th>C1 True</th>\n",
       "      <td>0.052545</td>\n",
       "      <td>0.902869</td>\n",
       "      <td>0.044586</td>\n",
       "    </tr>\n",
       "    <tr>\n",
       "      <th>C2 True</th>\n",
       "      <td>0.000000</td>\n",
       "      <td>0.025710</td>\n",
       "      <td>0.974290</td>\n",
       "    </tr>\n",
       "  </tbody>\n",
       "</table>\n",
       "</div>"
      ],
      "text/plain": [
       "          C0 Pred   C1 Pred   C2 Pred\n",
       "C0 True  0.962253  0.037747  0.000000\n",
       "C1 True  0.052545  0.902869  0.044586\n",
       "C2 True  0.000000  0.025710  0.974290"
      ]
     },
     "metadata": {},
     "output_type": "display_data"
    },
    {
     "name": "stdout",
     "output_type": "stream",
     "text": [
      "Kmeans2-Cl2\n"
     ]
    },
    {
     "data": {
      "text/html": [
       "<div>\n",
       "<style scoped>\n",
       "    .dataframe tbody tr th:only-of-type {\n",
       "        vertical-align: middle;\n",
       "    }\n",
       "\n",
       "    .dataframe tbody tr th {\n",
       "        vertical-align: top;\n",
       "    }\n",
       "\n",
       "    .dataframe thead th {\n",
       "        text-align: right;\n",
       "    }\n",
       "</style>\n",
       "<table border=\"1\" class=\"dataframe\">\n",
       "  <thead>\n",
       "    <tr style=\"text-align: right;\">\n",
       "      <th></th>\n",
       "      <th>C0 Pred</th>\n",
       "      <th>C1 Pred</th>\n",
       "      <th>C2 Pred</th>\n",
       "    </tr>\n",
       "  </thead>\n",
       "  <tbody>\n",
       "    <tr>\n",
       "      <th>C0 True</th>\n",
       "      <td>0.974049</td>\n",
       "      <td>0.025951</td>\n",
       "      <td>0.000000</td>\n",
       "    </tr>\n",
       "    <tr>\n",
       "      <th>C1 True</th>\n",
       "      <td>0.057096</td>\n",
       "      <td>0.920788</td>\n",
       "      <td>0.022117</td>\n",
       "    </tr>\n",
       "    <tr>\n",
       "      <th>C2 True</th>\n",
       "      <td>0.000000</td>\n",
       "      <td>0.028910</td>\n",
       "      <td>0.971090</td>\n",
       "    </tr>\n",
       "  </tbody>\n",
       "</table>\n",
       "</div>"
      ],
      "text/plain": [
       "          C0 Pred   C1 Pred   C2 Pred\n",
       "C0 True  0.974049  0.025951  0.000000\n",
       "C1 True  0.057096  0.920788  0.022117\n",
       "C2 True  0.000000  0.028910  0.971090"
      ]
     },
     "metadata": {},
     "output_type": "display_data"
    },
    {
     "name": "stdout",
     "output_type": "stream",
     "text": [
      "ITE-2CTrue\n"
     ]
    },
    {
     "data": {
      "text/html": [
       "<div>\n",
       "<style scoped>\n",
       "    .dataframe tbody tr th:only-of-type {\n",
       "        vertical-align: middle;\n",
       "    }\n",
       "\n",
       "    .dataframe tbody tr th {\n",
       "        vertical-align: top;\n",
       "    }\n",
       "\n",
       "    .dataframe thead th {\n",
       "        text-align: right;\n",
       "    }\n",
       "</style>\n",
       "<table border=\"1\" class=\"dataframe\">\n",
       "  <thead>\n",
       "    <tr style=\"text-align: right;\">\n",
       "      <th></th>\n",
       "      <th>C0 Pred</th>\n",
       "      <th>C1 Pred</th>\n",
       "      <th>C2 Pred</th>\n",
       "    </tr>\n",
       "  </thead>\n",
       "  <tbody>\n",
       "    <tr>\n",
       "      <th>C0 True</th>\n",
       "      <td>0.528022</td>\n",
       "      <td>0.055764</td>\n",
       "      <td>0.416214</td>\n",
       "    </tr>\n",
       "    <tr>\n",
       "      <th>C1 True</th>\n",
       "      <td>0.472453</td>\n",
       "      <td>0.056530</td>\n",
       "      <td>0.471017</td>\n",
       "    </tr>\n",
       "    <tr>\n",
       "      <th>C2 True</th>\n",
       "      <td>0.415897</td>\n",
       "      <td>0.055657</td>\n",
       "      <td>0.528446</td>\n",
       "    </tr>\n",
       "  </tbody>\n",
       "</table>\n",
       "</div>"
      ],
      "text/plain": [
       "          C0 Pred   C1 Pred   C2 Pred\n",
       "C0 True  0.528022  0.055764  0.416214\n",
       "C1 True  0.472453  0.056530  0.471017\n",
       "C2 True  0.415897  0.055657  0.528446"
      ]
     },
     "metadata": {},
     "output_type": "display_data"
    },
    {
     "name": "stdout",
     "output_type": "stream",
     "text": [
      "ITE-2CGDBR\n"
     ]
    },
    {
     "data": {
      "text/html": [
       "<div>\n",
       "<style scoped>\n",
       "    .dataframe tbody tr th:only-of-type {\n",
       "        vertical-align: middle;\n",
       "    }\n",
       "\n",
       "    .dataframe tbody tr th {\n",
       "        vertical-align: top;\n",
       "    }\n",
       "\n",
       "    .dataframe thead th {\n",
       "        text-align: right;\n",
       "    }\n",
       "</style>\n",
       "<table border=\"1\" class=\"dataframe\">\n",
       "  <thead>\n",
       "    <tr style=\"text-align: right;\">\n",
       "      <th></th>\n",
       "      <th>C0 Pred</th>\n",
       "      <th>C1 Pred</th>\n",
       "      <th>C2 Pred</th>\n",
       "    </tr>\n",
       "  </thead>\n",
       "  <tbody>\n",
       "    <tr>\n",
       "      <th>C0 True</th>\n",
       "      <td>0.537878</td>\n",
       "      <td>0.076474</td>\n",
       "      <td>0.385648</td>\n",
       "    </tr>\n",
       "    <tr>\n",
       "      <th>C1 True</th>\n",
       "      <td>0.461399</td>\n",
       "      <td>0.078581</td>\n",
       "      <td>0.460020</td>\n",
       "    </tr>\n",
       "    <tr>\n",
       "      <th>C2 True</th>\n",
       "      <td>0.382132</td>\n",
       "      <td>0.078096</td>\n",
       "      <td>0.539771</td>\n",
       "    </tr>\n",
       "  </tbody>\n",
       "</table>\n",
       "</div>"
      ],
      "text/plain": [
       "          C0 Pred   C1 Pred   C2 Pred\n",
       "C0 True  0.537878  0.076474  0.385648\n",
       "C1 True  0.461399  0.078581  0.460020\n",
       "C2 True  0.382132  0.078096  0.539771"
      ]
     },
     "metadata": {},
     "output_type": "display_data"
    }
   ],
   "source": [
    "from IPython.display import display\n",
    "\n",
    "path4 = path_figs+'matrices/'\n",
    "Path(path4).mkdir(exist_ok = True)\n",
    "for name in class_names2:\n",
    "    mat = confusion_matrix(data2, 'C', name, 3, save = True, save_dir = path4)\n",
    "    print(name)\n",
    "    display(mat)"
   ]
  },
  {
   "cell_type": "code",
   "execution_count": 70,
   "metadata": {},
   "outputs": [
    {
     "data": {
      "text/html": [
       "<div>\n",
       "<style scoped>\n",
       "    .dataframe tbody tr th:only-of-type {\n",
       "        vertical-align: middle;\n",
       "    }\n",
       "\n",
       "    .dataframe tbody tr th {\n",
       "        vertical-align: top;\n",
       "    }\n",
       "\n",
       "    .dataframe thead th {\n",
       "        text-align: right;\n",
       "    }\n",
       "</style>\n",
       "<table border=\"1\" class=\"dataframe\">\n",
       "  <thead>\n",
       "    <tr style=\"text-align: right;\">\n",
       "      <th></th>\n",
       "      <th>x0</th>\n",
       "      <th>x1</th>\n",
       "      <th>C</th>\n",
       "      <th>Treatment</th>\n",
       "      <th>Y</th>\n",
       "      <th>Ycf</th>\n",
       "      <th>ITE</th>\n",
       "      <th>IS_TEST</th>\n",
       "      <th>Ycf-GDBR</th>\n",
       "      <th>ITE-GDBR</th>\n",
       "      <th>Box-Cluster</th>\n",
       "      <th>Kmeans-Cluster</th>\n",
       "      <th>ITE-2CTrue</th>\n",
       "      <th>Box-Cl2</th>\n",
       "      <th>Kmeans-Cl2</th>\n",
       "      <th>Box2-Cl2</th>\n",
       "      <th>Kmeans2-Cl2</th>\n",
       "      <th>Box-Cl2-err-GDBR</th>\n",
       "      <th>Kmeans-Cl2-err-GDBR</th>\n",
       "      <th>Box2-Cl2-err-GDBR</th>\n",
       "      <th>Kmeans2-Cl2-err-GDBR</th>\n",
       "      <th>ITE-2CTrue-err-GDBR</th>\n",
       "      <th>ITE-2CGDBR-err-GDBR</th>\n",
       "      <th>Box-Cl2-err-True-ITE</th>\n",
       "      <th>Kmeans-Cl2-err-True-ITE</th>\n",
       "      <th>Box2-Cl2-err-True-ITE</th>\n",
       "      <th>Kmeans2-Cl2-err-True-ITE</th>\n",
       "      <th>ITE-2CTrue-err-True-ITE</th>\n",
       "      <th>ITE-2CGDBR-err-True-ITE</th>\n",
       "    </tr>\n",
       "    <tr>\n",
       "      <th>ITE-2CGDBR</th>\n",
       "      <th></th>\n",
       "      <th></th>\n",
       "      <th></th>\n",
       "      <th></th>\n",
       "      <th></th>\n",
       "      <th></th>\n",
       "      <th></th>\n",
       "      <th></th>\n",
       "      <th></th>\n",
       "      <th></th>\n",
       "      <th></th>\n",
       "      <th></th>\n",
       "      <th></th>\n",
       "      <th></th>\n",
       "      <th></th>\n",
       "      <th></th>\n",
       "      <th></th>\n",
       "      <th></th>\n",
       "      <th></th>\n",
       "      <th></th>\n",
       "      <th></th>\n",
       "      <th></th>\n",
       "      <th></th>\n",
       "      <th></th>\n",
       "      <th></th>\n",
       "      <th></th>\n",
       "      <th></th>\n",
       "      <th></th>\n",
       "      <th></th>\n",
       "    </tr>\n",
       "  </thead>\n",
       "  <tbody>\n",
       "    <tr>\n",
       "      <th>0</th>\n",
       "      <td>0.299984</td>\n",
       "      <td>0.299983</td>\n",
       "      <td>0.808188</td>\n",
       "      <td>0.500000</td>\n",
       "      <td>4.826466</td>\n",
       "      <td>5.037963</td>\n",
       "      <td>5.844077</td>\n",
       "      <td>0.400581</td>\n",
       "      <td>1.017944</td>\n",
       "      <td>3.009741</td>\n",
       "      <td>410.622221</td>\n",
       "      <td>395.221727</td>\n",
       "      <td>0.813063</td>\n",
       "      <td>0.810341</td>\n",
       "      <td>0.808150</td>\n",
       "      <td>0.815211</td>\n",
       "      <td>0.812021</td>\n",
       "      <td>0.204209</td>\n",
       "      <td>0.200000</td>\n",
       "      <td>0.215215</td>\n",
       "      <td>0.199501</td>\n",
       "      <td>0.951052</td>\n",
       "      <td>0.808188</td>\n",
       "      <td>0.205650</td>\n",
       "      <td>0.201337</td>\n",
       "      <td>0.215315</td>\n",
       "      <td>0.198593</td>\n",
       "      <td>1.431114</td>\n",
       "      <td>0.808188</td>\n",
       "    </tr>\n",
       "    <tr>\n",
       "      <th>1</th>\n",
       "      <td>0.287998</td>\n",
       "      <td>0.287877</td>\n",
       "      <td>0.814120</td>\n",
       "      <td>0.500001</td>\n",
       "      <td>1.042582</td>\n",
       "      <td>5.025624</td>\n",
       "      <td>5.042087</td>\n",
       "      <td>0.398259</td>\n",
       "      <td>1.018838</td>\n",
       "      <td>0.288907</td>\n",
       "      <td>394.167429</td>\n",
       "      <td>394.950715</td>\n",
       "      <td>0.959699</td>\n",
       "      <td>0.816460</td>\n",
       "      <td>0.814205</td>\n",
       "      <td>0.820871</td>\n",
       "      <td>0.819060</td>\n",
       "      <td>0.204010</td>\n",
       "      <td>0.198219</td>\n",
       "      <td>0.214890</td>\n",
       "      <td>0.197239</td>\n",
       "      <td>1.016758</td>\n",
       "      <td>0.472344</td>\n",
       "      <td>0.205055</td>\n",
       "      <td>0.199216</td>\n",
       "      <td>0.214658</td>\n",
       "      <td>0.196073</td>\n",
       "      <td>1.640410</td>\n",
       "      <td>0.468089</td>\n",
       "    </tr>\n",
       "    <tr>\n",
       "      <th>2</th>\n",
       "      <td>0.277175</td>\n",
       "      <td>0.276971</td>\n",
       "      <td>0.809607</td>\n",
       "      <td>0.500000</td>\n",
       "      <td>5.631132</td>\n",
       "      <td>5.060388</td>\n",
       "      <td>5.851364</td>\n",
       "      <td>0.399711</td>\n",
       "      <td>1.108591</td>\n",
       "      <td>3.002072</td>\n",
       "      <td>379.246461</td>\n",
       "      <td>394.574446</td>\n",
       "      <td>0.814084</td>\n",
       "      <td>0.812791</td>\n",
       "      <td>0.810680</td>\n",
       "      <td>0.816648</td>\n",
       "      <td>0.815809</td>\n",
       "      <td>0.203954</td>\n",
       "      <td>0.199356</td>\n",
       "      <td>0.213501</td>\n",
       "      <td>0.197430</td>\n",
       "      <td>0.949801</td>\n",
       "      <td>0.809607</td>\n",
       "      <td>0.204689</td>\n",
       "      <td>0.200143</td>\n",
       "      <td>0.212955</td>\n",
       "      <td>0.196075</td>\n",
       "      <td>1.428860</td>\n",
       "      <td>0.809607</td>\n",
       "    </tr>\n",
       "  </tbody>\n",
       "</table>\n",
       "</div>"
      ],
      "text/plain": [
       "                  x0        x1         C  Treatment         Y       Ycf  \\\n",
       "ITE-2CGDBR                                                                \n",
       "0           0.299984  0.299983  0.808188   0.500000  4.826466  5.037963   \n",
       "1           0.287998  0.287877  0.814120   0.500001  1.042582  5.025624   \n",
       "2           0.277175  0.276971  0.809607   0.500000  5.631132  5.060388   \n",
       "\n",
       "                 ITE   IS_TEST  Ycf-GDBR  ITE-GDBR  Box-Cluster  \\\n",
       "ITE-2CGDBR                                                        \n",
       "0           5.844077  0.400581  1.017944  3.009741   410.622221   \n",
       "1           5.042087  0.398259  1.018838  0.288907   394.167429   \n",
       "2           5.851364  0.399711  1.108591  3.002072   379.246461   \n",
       "\n",
       "            Kmeans-Cluster  ITE-2CTrue   Box-Cl2  Kmeans-Cl2  Box2-Cl2  \\\n",
       "ITE-2CGDBR                                                               \n",
       "0               395.221727    0.813063  0.810341    0.808150  0.815211   \n",
       "1               394.950715    0.959699  0.816460    0.814205  0.820871   \n",
       "2               394.574446    0.814084  0.812791    0.810680  0.816648   \n",
       "\n",
       "            Kmeans2-Cl2  Box-Cl2-err-GDBR  Kmeans-Cl2-err-GDBR  \\\n",
       "ITE-2CGDBR                                                       \n",
       "0              0.812021          0.204209             0.200000   \n",
       "1              0.819060          0.204010             0.198219   \n",
       "2              0.815809          0.203954             0.199356   \n",
       "\n",
       "            Box2-Cl2-err-GDBR  Kmeans2-Cl2-err-GDBR  ITE-2CTrue-err-GDBR  \\\n",
       "ITE-2CGDBR                                                                 \n",
       "0                    0.215215              0.199501             0.951052   \n",
       "1                    0.214890              0.197239             1.016758   \n",
       "2                    0.213501              0.197430             0.949801   \n",
       "\n",
       "            ITE-2CGDBR-err-GDBR  Box-Cl2-err-True-ITE  \\\n",
       "ITE-2CGDBR                                              \n",
       "0                      0.808188              0.205650   \n",
       "1                      0.472344              0.205055   \n",
       "2                      0.809607              0.204689   \n",
       "\n",
       "            Kmeans-Cl2-err-True-ITE  Box2-Cl2-err-True-ITE  \\\n",
       "ITE-2CGDBR                                                   \n",
       "0                          0.201337               0.215315   \n",
       "1                          0.199216               0.214658   \n",
       "2                          0.200143               0.212955   \n",
       "\n",
       "            Kmeans2-Cl2-err-True-ITE  ITE-2CTrue-err-True-ITE  \\\n",
       "ITE-2CGDBR                                                      \n",
       "0                           0.198593                 1.431114   \n",
       "1                           0.196073                 1.640410   \n",
       "2                           0.196075                 1.428860   \n",
       "\n",
       "            ITE-2CGDBR-err-True-ITE  \n",
       "ITE-2CGDBR                           \n",
       "0                          0.808188  \n",
       "1                          0.468089  \n",
       "2                          0.809607  "
      ]
     },
     "execution_count": 70,
     "metadata": {},
     "output_type": "execute_result"
    }
   ],
   "source": [
    "data2.groupby('ITE-2CGDBR').std()"
   ]
  },
  {
   "cell_type": "code",
   "execution_count": 68,
   "metadata": {},
   "outputs": [
    {
     "data": {
      "text/html": [
       "<div>\n",
       "<style scoped>\n",
       "    .dataframe tbody tr th:only-of-type {\n",
       "        vertical-align: middle;\n",
       "    }\n",
       "\n",
       "    .dataframe tbody tr th {\n",
       "        vertical-align: top;\n",
       "    }\n",
       "\n",
       "    .dataframe thead th {\n",
       "        text-align: right;\n",
       "    }\n",
       "</style>\n",
       "<table border=\"1\" class=\"dataframe\">\n",
       "  <thead>\n",
       "    <tr style=\"text-align: right;\">\n",
       "      <th></th>\n",
       "      <th>x0</th>\n",
       "      <th>x1</th>\n",
       "      <th>C</th>\n",
       "      <th>Treatment</th>\n",
       "      <th>Y</th>\n",
       "      <th>Ycf</th>\n",
       "      <th>ITE</th>\n",
       "      <th>IS_TEST</th>\n",
       "      <th>Ycf-GDBR</th>\n",
       "      <th>ITE-GDBR</th>\n",
       "      <th>Box-Cluster</th>\n",
       "      <th>Kmeans-Cluster</th>\n",
       "      <th>ITE-2CTrue</th>\n",
       "      <th>Box-Cl2</th>\n",
       "      <th>Kmeans-Cl2</th>\n",
       "      <th>Box2-Cl2</th>\n",
       "      <th>Kmeans2-Cl2</th>\n",
       "      <th>Box-Cl2-err-GDBR</th>\n",
       "      <th>Kmeans-Cl2-err-GDBR</th>\n",
       "      <th>Box2-Cl2-err-GDBR</th>\n",
       "      <th>Kmeans2-Cl2-err-GDBR</th>\n",
       "      <th>ITE-2CTrue-err-GDBR</th>\n",
       "      <th>ITE-2CGDBR-err-GDBR</th>\n",
       "      <th>Box-Cl2-err-True-ITE</th>\n",
       "      <th>Kmeans-Cl2-err-True-ITE</th>\n",
       "      <th>Box2-Cl2-err-True-ITE</th>\n",
       "      <th>Kmeans2-Cl2-err-True-ITE</th>\n",
       "      <th>ITE-2CTrue-err-True-ITE</th>\n",
       "      <th>ITE-2CGDBR-err-True-ITE</th>\n",
       "    </tr>\n",
       "    <tr>\n",
       "      <th>ITE-2CGDBR</th>\n",
       "      <th></th>\n",
       "      <th></th>\n",
       "      <th></th>\n",
       "      <th></th>\n",
       "      <th></th>\n",
       "      <th></th>\n",
       "      <th></th>\n",
       "      <th></th>\n",
       "      <th></th>\n",
       "      <th></th>\n",
       "      <th></th>\n",
       "      <th></th>\n",
       "      <th></th>\n",
       "      <th></th>\n",
       "      <th></th>\n",
       "      <th></th>\n",
       "      <th></th>\n",
       "      <th></th>\n",
       "      <th></th>\n",
       "      <th></th>\n",
       "      <th></th>\n",
       "      <th></th>\n",
       "      <th></th>\n",
       "      <th></th>\n",
       "      <th></th>\n",
       "      <th></th>\n",
       "      <th></th>\n",
       "      <th></th>\n",
       "      <th></th>\n",
       "    </tr>\n",
       "  </thead>\n",
       "  <tbody>\n",
       "    <tr>\n",
       "      <th>0</th>\n",
       "      <td>0.499602</td>\n",
       "      <td>0.500057</td>\n",
       "      <td>0.887296</td>\n",
       "      <td>0.499527</td>\n",
       "      <td>0.828378</td>\n",
       "      <td>0.842930</td>\n",
       "      <td>-3.306744</td>\n",
       "      <td>0.200776</td>\n",
       "      <td>0.827216</td>\n",
       "      <td>-3.414637</td>\n",
       "      <td>684.069700</td>\n",
       "      <td>681.223109</td>\n",
       "      <td>0.466290</td>\n",
       "      <td>0.884566</td>\n",
       "      <td>0.883924</td>\n",
       "      <td>0.889438</td>\n",
       "      <td>0.875507</td>\n",
       "      <td>0.071223</td>\n",
       "      <td>0.065121</td>\n",
       "      <td>0.080561</td>\n",
       "      <td>0.068249</td>\n",
       "      <td>2.827927</td>\n",
       "      <td>4.301934</td>\n",
       "      <td>0.066818</td>\n",
       "      <td>0.060696</td>\n",
       "      <td>0.079688</td>\n",
       "      <td>0.070678</td>\n",
       "      <td>5.628110</td>\n",
       "      <td>4.194040</td>\n",
       "    </tr>\n",
       "    <tr>\n",
       "      <th>1</th>\n",
       "      <td>0.500364</td>\n",
       "      <td>0.500667</td>\n",
       "      <td>1.006974</td>\n",
       "      <td>0.500640</td>\n",
       "      <td>0.830775</td>\n",
       "      <td>0.845145</td>\n",
       "      <td>0.989897</td>\n",
       "      <td>0.197690</td>\n",
       "      <td>0.829621</td>\n",
       "      <td>1.000836</td>\n",
       "      <td>684.909879</td>\n",
       "      <td>683.122842</td>\n",
       "      <td>0.996655</td>\n",
       "      <td>1.001956</td>\n",
       "      <td>1.001325</td>\n",
       "      <td>1.008042</td>\n",
       "      <td>0.993965</td>\n",
       "      <td>0.068705</td>\n",
       "      <td>0.061906</td>\n",
       "      <td>0.078490</td>\n",
       "      <td>0.064159</td>\n",
       "      <td>2.844317</td>\n",
       "      <td>0.663112</td>\n",
       "      <td>0.065322</td>\n",
       "      <td>0.058353</td>\n",
       "      <td>0.078443</td>\n",
       "      <td>0.067366</td>\n",
       "      <td>5.569880</td>\n",
       "      <td>0.666313</td>\n",
       "    </tr>\n",
       "    <tr>\n",
       "      <th>2</th>\n",
       "      <td>0.499867</td>\n",
       "      <td>0.500262</td>\n",
       "      <td>1.111244</td>\n",
       "      <td>0.500581</td>\n",
       "      <td>0.838056</td>\n",
       "      <td>0.837130</td>\n",
       "      <td>5.302710</td>\n",
       "      <td>0.199615</td>\n",
       "      <td>0.830777</td>\n",
       "      <td>5.414677</td>\n",
       "      <td>684.351973</td>\n",
       "      <td>681.644325</td>\n",
       "      <td>1.532220</td>\n",
       "      <td>1.104951</td>\n",
       "      <td>1.103981</td>\n",
       "      <td>1.111868</td>\n",
       "      <td>1.097795</td>\n",
       "      <td>0.066808</td>\n",
       "      <td>0.060565</td>\n",
       "      <td>0.076315</td>\n",
       "      <td>0.061748</td>\n",
       "      <td>2.830094</td>\n",
       "      <td>4.303433</td>\n",
       "      <td>0.064286</td>\n",
       "      <td>0.057723</td>\n",
       "      <td>0.077068</td>\n",
       "      <td>0.065620</td>\n",
       "      <td>5.628686</td>\n",
       "      <td>4.191466</td>\n",
       "    </tr>\n",
       "  </tbody>\n",
       "</table>\n",
       "</div>"
      ],
      "text/plain": [
       "                  x0        x1         C  Treatment         Y       Ycf  \\\n",
       "ITE-2CGDBR                                                                \n",
       "0           0.499602  0.500057  0.887296   0.499527  0.828378  0.842930   \n",
       "1           0.500364  0.500667  1.006974   0.500640  0.830775  0.845145   \n",
       "2           0.499867  0.500262  1.111244   0.500581  0.838056  0.837130   \n",
       "\n",
       "                 ITE   IS_TEST  Ycf-GDBR  ITE-GDBR  Box-Cluster  \\\n",
       "ITE-2CGDBR                                                        \n",
       "0          -3.306744  0.200776  0.827216 -3.414637   684.069700   \n",
       "1           0.989897  0.197690  0.829621  1.000836   684.909879   \n",
       "2           5.302710  0.199615  0.830777  5.414677   684.351973   \n",
       "\n",
       "            Kmeans-Cluster  ITE-2CTrue   Box-Cl2  Kmeans-Cl2  Box2-Cl2  \\\n",
       "ITE-2CGDBR                                                               \n",
       "0               681.223109    0.466290  0.884566    0.883924  0.889438   \n",
       "1               683.122842    0.996655  1.001956    1.001325  1.008042   \n",
       "2               681.644325    1.532220  1.104951    1.103981  1.111868   \n",
       "\n",
       "            Kmeans2-Cl2  Box-Cl2-err-GDBR  Kmeans-Cl2-err-GDBR  \\\n",
       "ITE-2CGDBR                                                       \n",
       "0              0.875507          0.071223             0.065121   \n",
       "1              0.993965          0.068705             0.061906   \n",
       "2              1.097795          0.066808             0.060565   \n",
       "\n",
       "            Box2-Cl2-err-GDBR  Kmeans2-Cl2-err-GDBR  ITE-2CTrue-err-GDBR  \\\n",
       "ITE-2CGDBR                                                                 \n",
       "0                    0.080561              0.068249             2.827927   \n",
       "1                    0.078490              0.064159             2.844317   \n",
       "2                    0.076315              0.061748             2.830094   \n",
       "\n",
       "            ITE-2CGDBR-err-GDBR  Box-Cl2-err-True-ITE  \\\n",
       "ITE-2CGDBR                                              \n",
       "0                      4.301934              0.066818   \n",
       "1                      0.663112              0.065322   \n",
       "2                      4.303433              0.064286   \n",
       "\n",
       "            Kmeans-Cl2-err-True-ITE  Box2-Cl2-err-True-ITE  \\\n",
       "ITE-2CGDBR                                                   \n",
       "0                          0.060696               0.079688   \n",
       "1                          0.058353               0.078443   \n",
       "2                          0.057723               0.077068   \n",
       "\n",
       "            Kmeans2-Cl2-err-True-ITE  ITE-2CTrue-err-True-ITE  \\\n",
       "ITE-2CGDBR                                                      \n",
       "0                           0.070678                 5.628110   \n",
       "1                           0.067366                 5.569880   \n",
       "2                           0.065620                 5.628686   \n",
       "\n",
       "            ITE-2CGDBR-err-True-ITE  \n",
       "ITE-2CGDBR                           \n",
       "0                          4.194040  \n",
       "1                          0.666313  \n",
       "2                          4.191466  "
      ]
     },
     "execution_count": 68,
     "metadata": {},
     "output_type": "execute_result"
    }
   ],
   "source": [
    "data2.groupby('ITE-2CGDBR').mean()"
   ]
  },
  {
   "cell_type": "code",
   "execution_count": 69,
   "metadata": {},
   "outputs": [
    {
     "data": {
      "text/plain": [
       "(4.039255836336277, 3.057149546478276)"
      ]
     },
     "execution_count": 69,
     "metadata": {},
     "output_type": "execute_result"
    }
   ],
   "source": [
    "np.mean(np.abs(data2['C'] - data2['ITE-GDBR'])), np.std(np.abs(data2['C'] - data2['ITE-GDBR']))"
   ]
  },
  {
   "cell_type": "code",
   "execution_count": null,
   "metadata": {},
   "outputs": [],
   "source": []
  }
 ],
 "metadata": {
  "kernelspec": {
   "display_name": "Python [conda env:jorje]",
   "language": "python",
   "name": "conda-env-jorje-py"
  },
  "language_info": {
   "codemirror_mode": {
    "name": "ipython",
    "version": 3
   },
   "file_extension": ".py",
   "mimetype": "text/x-python",
   "name": "python",
   "nbconvert_exporter": "python",
   "pygments_lexer": "ipython3",
   "version": "3.7.2"
  }
 },
 "nbformat": 4,
 "nbformat_minor": 2
}
