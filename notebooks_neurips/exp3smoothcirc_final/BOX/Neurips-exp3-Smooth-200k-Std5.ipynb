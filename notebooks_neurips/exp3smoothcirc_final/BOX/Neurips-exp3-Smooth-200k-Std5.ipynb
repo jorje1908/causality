{
 "cells": [
  {
   "cell_type": "code",
   "execution_count": 1,
   "metadata": {},
   "outputs": [],
   "source": [
    "%load_ext autoreload\n",
    "%autoreload 2\n"
   ]
  },
  {
   "cell_type": "code",
   "execution_count": 2,
   "metadata": {},
   "outputs": [],
   "source": [
    "import numpy as np\n",
    "import pandas as pd\n",
    "import matplotlib.pyplot as plt\n",
    "import seaborn as sns\n",
    "import matplotlib as mpl\n",
    "\n",
    "from sklearn.cluster import KMeans \n",
    "from sklearn.cluster import SpectralClustering\n",
    "from sklearn.cluster import AgglomerativeClustering\n",
    "from pathlib import Path"
   ]
  },
  {
   "cell_type": "code",
   "execution_count": 3,
   "metadata": {},
   "outputs": [],
   "source": [
    "import sys\n",
    "\n",
    "sys.path.append('../../../src')\n",
    "\n"
   ]
  },
  {
   "cell_type": "code",
   "execution_count": 4,
   "metadata": {},
   "outputs": [],
   "source": [
    "from base_exp_gen import generate_experiment as GEN_EXP\n",
    "from clustering_algos import agglomerative_clustering, kmeans_clustering, box_clustering, optimal_clustering\n",
    "from sklearn.model_selection import train_test_split as datasplit\n",
    "from sklearn.ensemble import GradientBoostingRegressor as GDBR\n",
    "from evaluations import computeATT_per_cluster as ATTC, predict_cf, calculate_ite, get_homogeneity, generate_paths\n",
    "\n"
   ]
  },
  {
   "cell_type": "code",
   "execution_count": 5,
   "metadata": {},
   "outputs": [],
   "source": [
    "np.random.seed(seed = 0)"
   ]
  },
  {
   "cell_type": "code",
   "execution_count": 6,
   "metadata": {},
   "outputs": [],
   "source": [
    "fonts = {'family': 'cmr10','weight': 'normal',\n",
    "            'size': 20}    \n",
    "div = 1\n",
    "\n",
    "l1 = 22/div\n",
    "l2 = 20/div\n",
    "l3 = 13/(div-0.2)\n",
    "\n",
    "mpl.rcParams['xtick.labelsize'] = l2\n",
    "mpl.rcParams['ytick.labelsize'] = l2\n",
    "mpl.rcParams['axes.labelsize'] = l1\n",
    "mpl.rcParams['font.serif'] = 'Times New Roman'\n",
    "mpl.rcParams['font.weight'] = 'normal'\n",
    "mpl.rcParams['font.size'] = 20\n",
    "mpl.rcParams['legend.fontsize'] = l3\n",
    "\n",
    "#axes_font = {'labelsize':l1}\n",
    "#mpl.rc('font', **font)\n",
    "#xticks = {'labelsize':l2}# 'ytick.labelsize':20}\n",
    "#yticks = {'labelsize':l2}# 'ytick.labelsize':20}\n",
    "#legend = {'fontsize':l3}\n",
    "# tex = {'usetex':True}\n",
    "#mpl.rc('axes', **axes_font)\n",
    "#mpl.rc('xtick', **xticks)\n",
    "#mpl.rc('ytick', **yticks)\n",
    "#mpl.rc('font', **fonts)\n",
    "#mpl.rc('legend', **legend)"
   ]
  },
  {
   "cell_type": "code",
   "execution_count": 7,
   "metadata": {},
   "outputs": [
    {
     "data": {
      "text/plain": [
       "(0.32410224072142874, 0.4583497844237541)"
      ]
     },
     "execution_count": 7,
     "metadata": {},
     "output_type": "execute_result"
    }
   ],
   "source": [
    "r1 =np.sqrt(0.33/np.pi)\n",
    "r2 = np.sqrt((0.33/np.pi+r1**2))\n",
    "r1, r2"
   ]
  },
  {
   "cell_type": "code",
   "execution_count": 8,
   "metadata": {},
   "outputs": [
    {
     "name": "stdout",
     "output_type": "stream",
     "text": [
      "20.0\n"
     ]
    }
   ],
   "source": [
    "print(mpl.rcParams['xtick.labelsize'])"
   ]
  },
  {
   "cell_type": "code",
   "execution_count": 9,
   "metadata": {},
   "outputs": [],
   "source": [
    "pd.set_option(\"display.max_columns\", None)\n"
   ]
  },
  {
   "cell_type": "markdown",
   "metadata": {},
   "source": [
    "### Generate Experiment"
   ]
  },
  {
   "cell_type": "code",
   "execution_count": 10,
   "metadata": {},
   "outputs": [
    {
     "name": "stdout",
     "output_type": "stream",
     "text": [
      "CPU times: user 344 µs, sys: 265 µs, total: 609 µs\n",
      "Wall time: 1.06 ms\n"
     ]
    }
   ],
   "source": [
    "%%time\n",
    "path_figs = './figs/200kstd5/'\n",
    "save = True\n",
    "Path(path_figs).mkdir(exist_ok = True, parents = True)"
   ]
  },
  {
   "cell_type": "code",
   "execution_count": 11,
   "metadata": {},
   "outputs": [
    {
     "name": "stdout",
     "output_type": "stream",
     "text": [
      "Number of Clusters:441, Number of Points:200000\n"
     ]
    }
   ],
   "source": [
    "N,D = 2*10**5, 2\n",
    "x = int((N)**(1/4))\n",
    "clusters = x**2\n",
    "print(\"Number of Clusters:{}, Number of Points:{}\".format(clusters, N))\n",
    "kw_generate =  {'N':N, 'D':D,'f_gen_name': 'uniform_gen','low':0, 'high': 1}\n",
    "centers = [[0.5,0.5],[0.5,0.5]]\n",
    "r_small = [0, 0.325735]\n",
    "r_big = [0.325735,0.46065886]\n",
    "eligibilities = [2,1]\n",
    "kw_cluster =  {'f_class_name':'circle_class4', 'centers': centers,\n",
    "               'eligibilities':eligibilities,'r_small': r_small, 'r_big':r_big}\n",
    "kw_treatment = {'f_treat_name' :'uniform_treat','choices':[0,1], 'probabilities':[0.5,0.5]}\n",
    "\n",
    "std = 5\n",
    "stats = np.array([[1, std], [0, std], [0, std], [1, std],[1, std],\n",
    "                  [2, std]])\n",
    "kw_outcome = {'f_outcome_name': 'outcome1','treatment':'Treatment', 'cls':'C', 'stats':stats}\n",
    "\n",
    "data = GEN_EXP(kw_generate, kw_cluster, kw_treatment, kw_outcome).dat\n",
    "data = calculate_ite(data.copy(), treatment = 'Treatment',\n",
    "                     counterfactual = 'Ycf', outcome = 'Y', ite_name = 'ITE')"
   ]
  },
  {
   "cell_type": "code",
   "execution_count": 12,
   "metadata": {},
   "outputs": [
    {
     "data": {
      "text/html": [
       "<div>\n",
       "<style scoped>\n",
       "    .dataframe tbody tr th:only-of-type {\n",
       "        vertical-align: middle;\n",
       "    }\n",
       "\n",
       "    .dataframe tbody tr th {\n",
       "        vertical-align: top;\n",
       "    }\n",
       "\n",
       "    .dataframe thead th {\n",
       "        text-align: right;\n",
       "    }\n",
       "</style>\n",
       "<table border=\"1\" class=\"dataframe\">\n",
       "  <thead>\n",
       "    <tr style=\"text-align: right;\">\n",
       "      <th></th>\n",
       "      <th>x0</th>\n",
       "      <th>x1</th>\n",
       "      <th>C</th>\n",
       "      <th>Treatment</th>\n",
       "      <th>Y</th>\n",
       "      <th>Ycf</th>\n",
       "      <th>ITE</th>\n",
       "    </tr>\n",
       "  </thead>\n",
       "  <tbody>\n",
       "    <tr>\n",
       "      <th>0</th>\n",
       "      <td>0.548814</td>\n",
       "      <td>0.715189</td>\n",
       "      <td>2</td>\n",
       "      <td>0</td>\n",
       "      <td>5.395644</td>\n",
       "      <td>0.178844</td>\n",
       "      <td>-5.216800</td>\n",
       "    </tr>\n",
       "    <tr>\n",
       "      <th>1</th>\n",
       "      <td>0.602763</td>\n",
       "      <td>0.544883</td>\n",
       "      <td>2</td>\n",
       "      <td>1</td>\n",
       "      <td>0.507081</td>\n",
       "      <td>-4.717533</td>\n",
       "      <td>5.224614</td>\n",
       "    </tr>\n",
       "    <tr>\n",
       "      <th>2</th>\n",
       "      <td>0.423655</td>\n",
       "      <td>0.645894</td>\n",
       "      <td>2</td>\n",
       "      <td>0</td>\n",
       "      <td>0.830343</td>\n",
       "      <td>-5.520674</td>\n",
       "      <td>-6.351017</td>\n",
       "    </tr>\n",
       "    <tr>\n",
       "      <th>3</th>\n",
       "      <td>0.437587</td>\n",
       "      <td>0.891773</td>\n",
       "      <td>1</td>\n",
       "      <td>1</td>\n",
       "      <td>2.434823</td>\n",
       "      <td>3.745080</td>\n",
       "      <td>-1.310257</td>\n",
       "    </tr>\n",
       "    <tr>\n",
       "      <th>4</th>\n",
       "      <td>0.963663</td>\n",
       "      <td>0.383442</td>\n",
       "      <td>0</td>\n",
       "      <td>0</td>\n",
       "      <td>5.668825</td>\n",
       "      <td>0.959905</td>\n",
       "      <td>-4.708920</td>\n",
       "    </tr>\n",
       "  </tbody>\n",
       "</table>\n",
       "</div>"
      ],
      "text/plain": [
       "         x0        x1  C  Treatment         Y       Ycf       ITE\n",
       "0  0.548814  0.715189  2          0  5.395644  0.178844 -5.216800\n",
       "1  0.602763  0.544883  2          1  0.507081 -4.717533  5.224614\n",
       "2  0.423655  0.645894  2          0  0.830343 -5.520674 -6.351017\n",
       "3  0.437587  0.891773  1          1  2.434823  3.745080 -1.310257\n",
       "4  0.963663  0.383442  0          0  5.668825  0.959905 -4.708920"
      ]
     },
     "execution_count": 12,
     "metadata": {},
     "output_type": "execute_result"
    }
   ],
   "source": [
    "data.head(5)"
   ]
  },
  {
   "cell_type": "code",
   "execution_count": 13,
   "metadata": {},
   "outputs": [
    {
     "data": {
      "text/html": [
       "<div>\n",
       "<style scoped>\n",
       "    .dataframe tbody tr th:only-of-type {\n",
       "        vertical-align: middle;\n",
       "    }\n",
       "\n",
       "    .dataframe tbody tr th {\n",
       "        vertical-align: top;\n",
       "    }\n",
       "\n",
       "    .dataframe thead th {\n",
       "        text-align: right;\n",
       "    }\n",
       "</style>\n",
       "<table border=\"1\" class=\"dataframe\">\n",
       "  <thead>\n",
       "    <tr style=\"text-align: right;\">\n",
       "      <th></th>\n",
       "      <th>x0</th>\n",
       "      <th>x1</th>\n",
       "      <th>C</th>\n",
       "      <th>Treatment</th>\n",
       "      <th>Y</th>\n",
       "      <th>Ycf</th>\n",
       "      <th>ITE</th>\n",
       "    </tr>\n",
       "  </thead>\n",
       "  <tbody>\n",
       "    <tr>\n",
       "      <th>count</th>\n",
       "      <td>200000.000000</td>\n",
       "      <td>200000.000000</td>\n",
       "      <td>200000.000000</td>\n",
       "      <td>200000.000000</td>\n",
       "      <td>200000.000000</td>\n",
       "      <td>200000.000000</td>\n",
       "      <td>200000.000000</td>\n",
       "    </tr>\n",
       "    <tr>\n",
       "      <th>mean</th>\n",
       "      <td>0.499785</td>\n",
       "      <td>0.499334</td>\n",
       "      <td>0.998640</td>\n",
       "      <td>0.501805</td>\n",
       "      <td>0.829071</td>\n",
       "      <td>0.840375</td>\n",
       "      <td>1.013689</td>\n",
       "    </tr>\n",
       "    <tr>\n",
       "      <th>std</th>\n",
       "      <td>0.288533</td>\n",
       "      <td>0.289177</td>\n",
       "      <td>0.815452</td>\n",
       "      <td>0.499998</td>\n",
       "      <td>5.053237</td>\n",
       "      <td>5.040885</td>\n",
       "      <td>7.095153</td>\n",
       "    </tr>\n",
       "    <tr>\n",
       "      <th>min</th>\n",
       "      <td>0.000003</td>\n",
       "      <td>0.000003</td>\n",
       "      <td>0.000000</td>\n",
       "      <td>0.000000</td>\n",
       "      <td>-24.011493</td>\n",
       "      <td>-23.477268</td>\n",
       "      <td>-29.975152</td>\n",
       "    </tr>\n",
       "    <tr>\n",
       "      <th>25%</th>\n",
       "      <td>0.249671</td>\n",
       "      <td>0.247699</td>\n",
       "      <td>0.000000</td>\n",
       "      <td>0.000000</td>\n",
       "      <td>-2.568341</td>\n",
       "      <td>-2.573902</td>\n",
       "      <td>-3.754748</td>\n",
       "    </tr>\n",
       "    <tr>\n",
       "      <th>50%</th>\n",
       "      <td>0.501024</td>\n",
       "      <td>0.498865</td>\n",
       "      <td>1.000000</td>\n",
       "      <td>1.000000</td>\n",
       "      <td>0.851500</td>\n",
       "      <td>0.835961</td>\n",
       "      <td>1.002317</td>\n",
       "    </tr>\n",
       "    <tr>\n",
       "      <th>75%</th>\n",
       "      <td>0.749132</td>\n",
       "      <td>0.750450</td>\n",
       "      <td>2.000000</td>\n",
       "      <td>1.000000</td>\n",
       "      <td>4.240763</td>\n",
       "      <td>4.251074</td>\n",
       "      <td>5.781476</td>\n",
       "    </tr>\n",
       "    <tr>\n",
       "      <th>max</th>\n",
       "      <td>0.999990</td>\n",
       "      <td>0.999999</td>\n",
       "      <td>2.000000</td>\n",
       "      <td>1.000000</td>\n",
       "      <td>24.583311</td>\n",
       "      <td>22.920856</td>\n",
       "      <td>33.582026</td>\n",
       "    </tr>\n",
       "  </tbody>\n",
       "</table>\n",
       "</div>"
      ],
      "text/plain": [
       "                  x0             x1              C      Treatment  \\\n",
       "count  200000.000000  200000.000000  200000.000000  200000.000000   \n",
       "mean        0.499785       0.499334       0.998640       0.501805   \n",
       "std         0.288533       0.289177       0.815452       0.499998   \n",
       "min         0.000003       0.000003       0.000000       0.000000   \n",
       "25%         0.249671       0.247699       0.000000       0.000000   \n",
       "50%         0.501024       0.498865       1.000000       1.000000   \n",
       "75%         0.749132       0.750450       2.000000       1.000000   \n",
       "max         0.999990       0.999999       2.000000       1.000000   \n",
       "\n",
       "                   Y            Ycf            ITE  \n",
       "count  200000.000000  200000.000000  200000.000000  \n",
       "mean        0.829071       0.840375       1.013689  \n",
       "std         5.053237       5.040885       7.095153  \n",
       "min       -24.011493     -23.477268     -29.975152  \n",
       "25%        -2.568341      -2.573902      -3.754748  \n",
       "50%         0.851500       0.835961       1.002317  \n",
       "75%         4.240763       4.251074       5.781476  \n",
       "max        24.583311      22.920856      33.582026  "
      ]
     },
     "execution_count": 13,
     "metadata": {},
     "output_type": "execute_result"
    }
   ],
   "source": [
    "data.describe()"
   ]
  },
  {
   "cell_type": "code",
   "execution_count": 14,
   "metadata": {},
   "outputs": [
    {
     "data": {
      "text/plain": [
       "1    0.33504\n",
       "0    0.33316\n",
       "2    0.33180\n",
       "Name: C, dtype: float64"
      ]
     },
     "execution_count": 14,
     "metadata": {},
     "output_type": "execute_result"
    }
   ],
   "source": [
    "data['C'].value_counts()/len(data)"
   ]
  },
  {
   "cell_type": "code",
   "execution_count": 15,
   "metadata": {},
   "outputs": [
    {
     "data": {
      "text/plain": [
       "C\n",
       "0    0.046584\n",
       "1    0.990256\n",
       "2    2.008421\n",
       "Name: ITE, dtype: float64"
      ]
     },
     "execution_count": 15,
     "metadata": {},
     "output_type": "execute_result"
    }
   ],
   "source": [
    "data.groupby('C').ITE.mean()"
   ]
  },
  {
   "cell_type": "code",
   "execution_count": 16,
   "metadata": {},
   "outputs": [
    {
     "data": {
      "image/png": "[encoded data removed]",
      "text/plain": [
       "<Figure size 432x288 with 1 Axes>"
      ]
     },
     "metadata": {
      "needs_background": "light"
     },
     "output_type": "display_data"
    }
   ],
   "source": [
    "fig, ax = plt.subplots()\n",
    "\n",
    "ax.scatter(data['x0'].values, data['x1'].values, c=data['C'].values, cmap = 'Greys', s=0.1)\n",
    "\n",
    "if save:\n",
    "    ax.set_aspect('equal', adjustable='box')\n",
    "    fig.savefig(path_figs+'data.jpeg',bbox_inches='tight', pad_inches = 0)\n",
    "\n",
    "plt.show()"
   ]
  },
  {
   "cell_type": "code",
   "execution_count": 17,
   "metadata": {},
   "outputs": [
    {
     "name": "stderr",
     "output_type": "stream",
     "text": [
      "/home/mavrog2/.conda/envs/jorje/lib/python3.7/site-packages/statsmodels/compat/pandas.py:49: FutureWarning: The Panel class is removed from pandas. Accessing it from the top-level namespace will also be removed in the next version\n",
      "  data_klasses = (pandas.Series, pandas.DataFrame, pandas.Panel)\n"
     ]
    }
   ],
   "source": [
    "from econml.metalearners import XLearner as XL\n",
    "from sklearn.ensemble import RandomForestClassifier as RF"
   ]
  },
  {
   "cell_type": "markdown",
   "metadata": {},
   "source": [
    " ### Estimate ITE with Gradient Boosting Trees"
   ]
  },
  {
   "cell_type": "code",
   "execution_count": 18,
   "metadata": {},
   "outputs": [
    {
     "name": "stdout",
     "output_type": "stream",
     "text": [
      "CPU times: user 5min 13s, sys: 239 ms, total: 5min 13s\n",
      "Wall time: 5min 13s\n"
     ]
    }
   ],
   "source": [
    "%%time\n",
    "f1_kwargs = {'n_estimators':400, 'max_depth':18}\n",
    "f2_kwargs = {'n_estimators':400, 'max_depth':18}\n",
    "\n",
    "data, models = predict_cf(data.copy(), col_select = ['x0', 'x1'], f1 = GDBR,\n",
    "                          f2 = GDBR, cf_name = 'Ycf-GDBR', f1_kwargs=f1_kwargs, \n",
    "                          f2_kwargs=f2_kwargs, ite_name ='ITE-GDBR')"
   ]
  },
  {
   "cell_type": "code",
   "execution_count": 19,
   "metadata": {},
   "outputs": [
    {
     "data": {
      "text/html": [
       "<div>\n",
       "<style scoped>\n",
       "    .dataframe tbody tr th:only-of-type {\n",
       "        vertical-align: middle;\n",
       "    }\n",
       "\n",
       "    .dataframe tbody tr th {\n",
       "        vertical-align: top;\n",
       "    }\n",
       "\n",
       "    .dataframe thead th {\n",
       "        text-align: right;\n",
       "    }\n",
       "</style>\n",
       "<table border=\"1\" class=\"dataframe\">\n",
       "  <thead>\n",
       "    <tr style=\"text-align: right;\">\n",
       "      <th></th>\n",
       "      <th>x0</th>\n",
       "      <th>x1</th>\n",
       "      <th>C</th>\n",
       "      <th>Treatment</th>\n",
       "      <th>Y</th>\n",
       "      <th>Ycf</th>\n",
       "      <th>ITE</th>\n",
       "      <th>IS_TEST</th>\n",
       "      <th>Ycf-GDBR</th>\n",
       "      <th>ITE-GDBR</th>\n",
       "    </tr>\n",
       "  </thead>\n",
       "  <tbody>\n",
       "    <tr>\n",
       "      <th>0</th>\n",
       "      <td>0.548814</td>\n",
       "      <td>0.715189</td>\n",
       "      <td>2</td>\n",
       "      <td>0</td>\n",
       "      <td>5.395644</td>\n",
       "      <td>0.178844</td>\n",
       "      <td>-5.216800</td>\n",
       "      <td>0</td>\n",
       "      <td>2.564066</td>\n",
       "      <td>-2.831578</td>\n",
       "    </tr>\n",
       "    <tr>\n",
       "      <th>1</th>\n",
       "      <td>0.602763</td>\n",
       "      <td>0.544883</td>\n",
       "      <td>2</td>\n",
       "      <td>1</td>\n",
       "      <td>0.507081</td>\n",
       "      <td>-4.717533</td>\n",
       "      <td>5.224614</td>\n",
       "      <td>0</td>\n",
       "      <td>-1.902026</td>\n",
       "      <td>2.409107</td>\n",
       "    </tr>\n",
       "    <tr>\n",
       "      <th>2</th>\n",
       "      <td>0.423655</td>\n",
       "      <td>0.645894</td>\n",
       "      <td>2</td>\n",
       "      <td>0</td>\n",
       "      <td>0.830343</td>\n",
       "      <td>-5.520674</td>\n",
       "      <td>-6.351017</td>\n",
       "      <td>0</td>\n",
       "      <td>1.730433</td>\n",
       "      <td>0.900090</td>\n",
       "    </tr>\n",
       "    <tr>\n",
       "      <th>3</th>\n",
       "      <td>0.437587</td>\n",
       "      <td>0.891773</td>\n",
       "      <td>1</td>\n",
       "      <td>1</td>\n",
       "      <td>2.434823</td>\n",
       "      <td>3.745080</td>\n",
       "      <td>-1.310257</td>\n",
       "      <td>0</td>\n",
       "      <td>1.281547</td>\n",
       "      <td>1.153276</td>\n",
       "    </tr>\n",
       "    <tr>\n",
       "      <th>4</th>\n",
       "      <td>0.963663</td>\n",
       "      <td>0.383442</td>\n",
       "      <td>0</td>\n",
       "      <td>0</td>\n",
       "      <td>5.668825</td>\n",
       "      <td>0.959905</td>\n",
       "      <td>-4.708920</td>\n",
       "      <td>0</td>\n",
       "      <td>-0.729681</td>\n",
       "      <td>-6.398505</td>\n",
       "    </tr>\n",
       "  </tbody>\n",
       "</table>\n",
       "</div>"
      ],
      "text/plain": [
       "         x0        x1  C  Treatment         Y       Ycf       ITE  IS_TEST  \\\n",
       "0  0.548814  0.715189  2          0  5.395644  0.178844 -5.216800        0   \n",
       "1  0.602763  0.544883  2          1  0.507081 -4.717533  5.224614        0   \n",
       "2  0.423655  0.645894  2          0  0.830343 -5.520674 -6.351017        0   \n",
       "3  0.437587  0.891773  1          1  2.434823  3.745080 -1.310257        0   \n",
       "4  0.963663  0.383442  0          0  5.668825  0.959905 -4.708920        0   \n",
       "\n",
       "   Ycf-GDBR  ITE-GDBR  \n",
       "0  2.564066 -2.831578  \n",
       "1 -1.902026  2.409107  \n",
       "2  1.730433  0.900090  \n",
       "3  1.281547  1.153276  \n",
       "4 -0.729681 -6.398505  "
      ]
     },
     "execution_count": 19,
     "metadata": {},
     "output_type": "execute_result"
    }
   ],
   "source": [
    "data.head(5)"
   ]
  },
  {
   "cell_type": "markdown",
   "metadata": {},
   "source": [
    "### Model performance"
   ]
  },
  {
   "cell_type": "code",
   "execution_count": 20,
   "metadata": {},
   "outputs": [
    {
     "data": {
      "text/html": [
       "<div>\n",
       "<style scoped>\n",
       "    .dataframe tbody tr th:only-of-type {\n",
       "        vertical-align: middle;\n",
       "    }\n",
       "\n",
       "    .dataframe tbody tr th {\n",
       "        vertical-align: top;\n",
       "    }\n",
       "\n",
       "    .dataframe thead th {\n",
       "        text-align: right;\n",
       "    }\n",
       "</style>\n",
       "<table border=\"1\" class=\"dataframe\">\n",
       "  <thead>\n",
       "    <tr style=\"text-align: right;\">\n",
       "      <th></th>\n",
       "      <th></th>\n",
       "      <th></th>\n",
       "      <th>Y</th>\n",
       "      <th>Ycf</th>\n",
       "      <th>Ycf-GDBR</th>\n",
       "      <th>ITE</th>\n",
       "      <th>ITE-GDBR</th>\n",
       "    </tr>\n",
       "    <tr>\n",
       "      <th>Treatment</th>\n",
       "      <th>C</th>\n",
       "      <th>IS_TEST</th>\n",
       "      <th></th>\n",
       "      <th></th>\n",
       "      <th></th>\n",
       "      <th></th>\n",
       "      <th></th>\n",
       "    </tr>\n",
       "  </thead>\n",
       "  <tbody>\n",
       "    <tr>\n",
       "      <th rowspan=\"6\" valign=\"top\">0</th>\n",
       "      <th rowspan=\"2\" valign=\"top\">0</th>\n",
       "      <th>0</th>\n",
       "      <td>0.975056</td>\n",
       "      <td>1.031739</td>\n",
       "      <td>1.001298</td>\n",
       "      <td>0.056684</td>\n",
       "      <td>0.026242</td>\n",
       "    </tr>\n",
       "    <tr>\n",
       "      <th>1</th>\n",
       "      <td>0.979071</td>\n",
       "      <td>1.090171</td>\n",
       "      <td>0.953157</td>\n",
       "      <td>0.111100</td>\n",
       "      <td>-0.025914</td>\n",
       "    </tr>\n",
       "    <tr>\n",
       "      <th rowspan=\"2\" valign=\"top\">1</th>\n",
       "      <th>0</th>\n",
       "      <td>0.023693</td>\n",
       "      <td>0.963958</td>\n",
       "      <td>1.073699</td>\n",
       "      <td>0.940265</td>\n",
       "      <td>1.050006</td>\n",
       "    </tr>\n",
       "    <tr>\n",
       "      <th>1</th>\n",
       "      <td>-0.058885</td>\n",
       "      <td>1.012906</td>\n",
       "      <td>1.075901</td>\n",
       "      <td>1.071791</td>\n",
       "      <td>1.134786</td>\n",
       "    </tr>\n",
       "    <tr>\n",
       "      <th rowspan=\"2\" valign=\"top\">2</th>\n",
       "      <th>0</th>\n",
       "      <td>-0.019793</td>\n",
       "      <td>2.027167</td>\n",
       "      <td>1.906816</td>\n",
       "      <td>2.046960</td>\n",
       "      <td>1.926609</td>\n",
       "    </tr>\n",
       "    <tr>\n",
       "      <th>1</th>\n",
       "      <td>-0.013576</td>\n",
       "      <td>2.059293</td>\n",
       "      <td>1.911627</td>\n",
       "      <td>2.072870</td>\n",
       "      <td>1.925203</td>\n",
       "    </tr>\n",
       "    <tr>\n",
       "      <th rowspan=\"6\" valign=\"top\">1</th>\n",
       "      <th rowspan=\"2\" valign=\"top\">0</th>\n",
       "      <th>0</th>\n",
       "      <td>1.012942</td>\n",
       "      <td>0.983916</td>\n",
       "      <td>0.935166</td>\n",
       "      <td>0.029026</td>\n",
       "      <td>0.077776</td>\n",
       "    </tr>\n",
       "    <tr>\n",
       "      <th>1</th>\n",
       "      <td>1.046034</td>\n",
       "      <td>1.033541</td>\n",
       "      <td>0.887341</td>\n",
       "      <td>0.012494</td>\n",
       "      <td>0.158694</td>\n",
       "    </tr>\n",
       "    <tr>\n",
       "      <th rowspan=\"2\" valign=\"top\">1</th>\n",
       "      <th>0</th>\n",
       "      <td>1.024083</td>\n",
       "      <td>0.013366</td>\n",
       "      <td>0.075004</td>\n",
       "      <td>1.010716</td>\n",
       "      <td>0.949079</td>\n",
       "    </tr>\n",
       "    <tr>\n",
       "      <th>1</th>\n",
       "      <td>1.013904</td>\n",
       "      <td>-0.012539</td>\n",
       "      <td>0.061434</td>\n",
       "      <td>1.026443</td>\n",
       "      <td>0.952471</td>\n",
       "    </tr>\n",
       "    <tr>\n",
       "      <th rowspan=\"2\" valign=\"top\">2</th>\n",
       "      <th>0</th>\n",
       "      <td>1.958650</td>\n",
       "      <td>0.005046</td>\n",
       "      <td>-0.029671</td>\n",
       "      <td>1.953603</td>\n",
       "      <td>1.988321</td>\n",
       "    </tr>\n",
       "    <tr>\n",
       "      <th>1</th>\n",
       "      <td>1.996272</td>\n",
       "      <td>-0.014594</td>\n",
       "      <td>-0.010269</td>\n",
       "      <td>2.010866</td>\n",
       "      <td>2.006541</td>\n",
       "    </tr>\n",
       "  </tbody>\n",
       "</table>\n",
       "</div>"
      ],
      "text/plain": [
       "                            Y       Ycf  Ycf-GDBR       ITE  ITE-GDBR\n",
       "Treatment C IS_TEST                                                  \n",
       "0         0 0        0.975056  1.031739  1.001298  0.056684  0.026242\n",
       "            1        0.979071  1.090171  0.953157  0.111100 -0.025914\n",
       "          1 0        0.023693  0.963958  1.073699  0.940265  1.050006\n",
       "            1       -0.058885  1.012906  1.075901  1.071791  1.134786\n",
       "          2 0       -0.019793  2.027167  1.906816  2.046960  1.926609\n",
       "            1       -0.013576  2.059293  1.911627  2.072870  1.925203\n",
       "1         0 0        1.012942  0.983916  0.935166  0.029026  0.077776\n",
       "            1        1.046034  1.033541  0.887341  0.012494  0.158694\n",
       "          1 0        1.024083  0.013366  0.075004  1.010716  0.949079\n",
       "            1        1.013904 -0.012539  0.061434  1.026443  0.952471\n",
       "          2 0        1.958650  0.005046 -0.029671  1.953603  1.988321\n",
       "            1        1.996272 -0.014594 -0.010269  2.010866  2.006541"
      ]
     },
     "execution_count": 20,
     "metadata": {},
     "output_type": "execute_result"
    }
   ],
   "source": [
    "filt = (data['Treatment'] == 1) & (data['C'] == 1) & (data['IS_TEST'] ==0)\n",
    "data.groupby(['Treatment', 'C', 'IS_TEST'])[['Y', 'Ycf', 'Ycf-GDBR','ITE', 'ITE-GDBR']].mean()"
   ]
  },
  {
   "cell_type": "markdown",
   "metadata": {},
   "source": [
    "### Apply clustering Box and Kmeans"
   ]
  },
  {
   "cell_type": "code",
   "execution_count": 21,
   "metadata": {},
   "outputs": [
    {
     "name": "stdout",
     "output_type": "stream",
     "text": [
      "CPU times: user 1h 57min 59s, sys: 20.6 s, total: 1h 58min 20s\n",
      "Wall time: 3min 8s\n"
     ]
    }
   ],
   "source": [
    "%%time\n",
    "col_select = ['x0', 'x1']\n",
    "data,_ = box_clustering(data.copy(), clusters = clusters, col_select = col_select )\n",
    "data,_ = kmeans_clustering(data.copy(), clusters = clusters, col_select = col_select )\n"
   ]
  },
  {
   "cell_type": "code",
   "execution_count": 22,
   "metadata": {},
   "outputs": [
    {
     "data": {
      "text/html": [
       "<div>\n",
       "<style scoped>\n",
       "    .dataframe tbody tr th:only-of-type {\n",
       "        vertical-align: middle;\n",
       "    }\n",
       "\n",
       "    .dataframe tbody tr th {\n",
       "        vertical-align: top;\n",
       "    }\n",
       "\n",
       "    .dataframe thead th {\n",
       "        text-align: right;\n",
       "    }\n",
       "</style>\n",
       "<table border=\"1\" class=\"dataframe\">\n",
       "  <thead>\n",
       "    <tr style=\"text-align: right;\">\n",
       "      <th></th>\n",
       "      <th>x0</th>\n",
       "      <th>x1</th>\n",
       "      <th>C</th>\n",
       "      <th>Treatment</th>\n",
       "      <th>Y</th>\n",
       "      <th>Ycf</th>\n",
       "      <th>ITE</th>\n",
       "      <th>IS_TEST</th>\n",
       "      <th>Ycf-GDBR</th>\n",
       "      <th>ITE-GDBR</th>\n",
       "      <th>Box-Cluster</th>\n",
       "      <th>Kmeans-Cluster</th>\n",
       "    </tr>\n",
       "  </thead>\n",
       "  <tbody>\n",
       "    <tr>\n",
       "      <th>0</th>\n",
       "      <td>0.548814</td>\n",
       "      <td>0.715189</td>\n",
       "      <td>2</td>\n",
       "      <td>0</td>\n",
       "      <td>5.395644</td>\n",
       "      <td>0.178844</td>\n",
       "      <td>-5.216800</td>\n",
       "      <td>0</td>\n",
       "      <td>2.564066</td>\n",
       "      <td>-2.831578</td>\n",
       "      <td>326</td>\n",
       "      <td>418</td>\n",
       "    </tr>\n",
       "    <tr>\n",
       "      <th>1</th>\n",
       "      <td>0.602763</td>\n",
       "      <td>0.544883</td>\n",
       "      <td>2</td>\n",
       "      <td>1</td>\n",
       "      <td>0.507081</td>\n",
       "      <td>-4.717533</td>\n",
       "      <td>5.224614</td>\n",
       "      <td>0</td>\n",
       "      <td>-1.902026</td>\n",
       "      <td>2.409107</td>\n",
       "      <td>243</td>\n",
       "      <td>384</td>\n",
       "    </tr>\n",
       "    <tr>\n",
       "      <th>2</th>\n",
       "      <td>0.423655</td>\n",
       "      <td>0.645894</td>\n",
       "      <td>2</td>\n",
       "      <td>0</td>\n",
       "      <td>0.830343</td>\n",
       "      <td>-5.520674</td>\n",
       "      <td>-6.351017</td>\n",
       "      <td>0</td>\n",
       "      <td>1.730433</td>\n",
       "      <td>0.900090</td>\n",
       "      <td>281</td>\n",
       "      <td>430</td>\n",
       "    </tr>\n",
       "    <tr>\n",
       "      <th>3</th>\n",
       "      <td>0.437587</td>\n",
       "      <td>0.891773</td>\n",
       "      <td>1</td>\n",
       "      <td>1</td>\n",
       "      <td>2.434823</td>\n",
       "      <td>3.745080</td>\n",
       "      <td>-1.310257</td>\n",
       "      <td>0</td>\n",
       "      <td>1.281547</td>\n",
       "      <td>1.153276</td>\n",
       "      <td>387</td>\n",
       "      <td>61</td>\n",
       "    </tr>\n",
       "    <tr>\n",
       "      <th>4</th>\n",
       "      <td>0.963663</td>\n",
       "      <td>0.383442</td>\n",
       "      <td>0</td>\n",
       "      <td>0</td>\n",
       "      <td>5.668825</td>\n",
       "      <td>0.959905</td>\n",
       "      <td>-4.708920</td>\n",
       "      <td>0</td>\n",
       "      <td>-0.729681</td>\n",
       "      <td>-6.398505</td>\n",
       "      <td>188</td>\n",
       "      <td>437</td>\n",
       "    </tr>\n",
       "  </tbody>\n",
       "</table>\n",
       "</div>"
      ],
      "text/plain": [
       "         x0        x1  C  Treatment         Y       Ycf       ITE  IS_TEST  \\\n",
       "0  0.548814  0.715189  2          0  5.395644  0.178844 -5.216800        0   \n",
       "1  0.602763  0.544883  2          1  0.507081 -4.717533  5.224614        0   \n",
       "2  0.423655  0.645894  2          0  0.830343 -5.520674 -6.351017        0   \n",
       "3  0.437587  0.891773  1          1  2.434823  3.745080 -1.310257        0   \n",
       "4  0.963663  0.383442  0          0  5.668825  0.959905 -4.708920        0   \n",
       "\n",
       "   Ycf-GDBR  ITE-GDBR  Box-Cluster  Kmeans-Cluster  \n",
       "0  2.564066 -2.831578          326             418  \n",
       "1 -1.902026  2.409107          243             384  \n",
       "2  1.730433  0.900090          281             430  \n",
       "3  1.281547  1.153276          387              61  \n",
       "4 -0.729681 -6.398505          188             437  "
      ]
     },
     "execution_count": 22,
     "metadata": {},
     "output_type": "execute_result"
    }
   ],
   "source": [
    "data.head()"
   ]
  },
  {
   "cell_type": "markdown",
   "metadata": {},
   "source": [
    "### Calculte ATT PER Cluster  known CF\n",
    "\n",
    "$\n",
    "\\begin{align}\n",
    "E[Y^1|T=1,Ci ]-E[Y^0|T=1, Ci]\n",
    "\\end{align}\n",
    "$"
   ]
  },
  {
   "cell_type": "code",
   "execution_count": 23,
   "metadata": {},
   "outputs": [],
   "source": [
    "ite_name = 'ITE'\n",
    "box = ATTC(data.copy(), cluster_name = 'Box-Cluster', ATT_CLUST_name='Box-ATT',\n",
    "           points_name='Box-points', weight_names='Box-Weights', \n",
    "           ITE_name = ite_name, hom_name = 'Box-Hom',\n",
    "          att = False)\n",
    "\n",
    "kmeans = ATTC(data.copy(), cluster_name = 'Kmeans-Cluster', ATT_CLUST_name='Kmeans-ATT',\n",
    "           points_name='Kmeans-points', weight_names='Kmeans-Weights',ITE_name = ite_name,\n",
    "              hom_name = 'Kmeans-Hom', att = False)\n"
   ]
  },
  {
   "cell_type": "code",
   "execution_count": 24,
   "metadata": {},
   "outputs": [
    {
     "data": {
      "text/html": [
       "<div>\n",
       "<style scoped>\n",
       "    .dataframe tbody tr th:only-of-type {\n",
       "        vertical-align: middle;\n",
       "    }\n",
       "\n",
       "    .dataframe tbody tr th {\n",
       "        vertical-align: top;\n",
       "    }\n",
       "\n",
       "    .dataframe thead th {\n",
       "        text-align: right;\n",
       "    }\n",
       "</style>\n",
       "<table border=\"1\" class=\"dataframe\">\n",
       "  <thead>\n",
       "    <tr style=\"text-align: right;\">\n",
       "      <th></th>\n",
       "      <th>Box-Cluster</th>\n",
       "      <th>Box-ATT</th>\n",
       "      <th>Box-points</th>\n",
       "      <th>Box-Hom</th>\n",
       "      <th>Box-Weights</th>\n",
       "    </tr>\n",
       "  </thead>\n",
       "  <tbody>\n",
       "    <tr>\n",
       "      <th>0</th>\n",
       "      <td>0</td>\n",
       "      <td>0.253510</td>\n",
       "      <td>491.0</td>\n",
       "      <td>1.0</td>\n",
       "      <td>0.002455</td>\n",
       "    </tr>\n",
       "    <tr>\n",
       "      <th>1</th>\n",
       "      <td>1</td>\n",
       "      <td>-0.222059</td>\n",
       "      <td>450.0</td>\n",
       "      <td>1.0</td>\n",
       "      <td>0.002250</td>\n",
       "    </tr>\n",
       "    <tr>\n",
       "      <th>2</th>\n",
       "      <td>2</td>\n",
       "      <td>0.233919</td>\n",
       "      <td>450.0</td>\n",
       "      <td>1.0</td>\n",
       "      <td>0.002250</td>\n",
       "    </tr>\n",
       "  </tbody>\n",
       "</table>\n",
       "</div>"
      ],
      "text/plain": [
       "   Box-Cluster   Box-ATT  Box-points  Box-Hom  Box-Weights\n",
       "0            0  0.253510       491.0      1.0     0.002455\n",
       "1            1 -0.222059       450.0      1.0     0.002250\n",
       "2            2  0.233919       450.0      1.0     0.002250"
      ]
     },
     "execution_count": 24,
     "metadata": {},
     "output_type": "execute_result"
    }
   ],
   "source": [
    "box.head(3)"
   ]
  },
  {
   "cell_type": "code",
   "execution_count": 25,
   "metadata": {},
   "outputs": [
    {
     "name": "stderr",
     "output_type": "stream",
     "text": [
      "/home/mavrog2/.conda/envs/jorje/lib/python3.7/site-packages/seaborn/distributions.py:2619: FutureWarning: `distplot` is a deprecated function and will be removed in a future version. Please adapt your code to use either `displot` (a figure-level function with similar flexibility) or `histplot` (an axes-level function for histograms).\n",
      "  warnings.warn(msg, FutureWarning)\n"
     ]
    },
    {
     "data": {
      "image/png": "[encoded data removed]",
      "text/plain": [
       "<Figure size 432x288 with 1 Axes>"
      ]
     },
     "metadata": {
      "needs_background": "light"
     },
     "output_type": "display_data"
    }
   ],
   "source": [
    "path2 = path_figs+'histograms/'\n",
    "Path(path2).mkdir(exist_ok = True)\n",
    "\n",
    "kde = False\n",
    "bins = 50\n",
    "fig, ax = plt.subplots(1,1)\n",
    "#ax = sns.distplot(box['Box-ATT'].values, hist_kws = {'weights':box['Box-Weights'].values} , bins=bins, kde = False,ax = ax)\n",
    "ax = sns.distplot(box['Box-ATT'].values, bins=bins, kde = False,ax = ax)\n",
    "\n",
    "ax.set_xlabel('ATE')\n",
    "#ax.set_ylabel('weight')\n",
    "\n",
    "if save:\n",
    "    fig.savefig(path2+'boxhist.pdf', bbox_inches='tight',pad_inches = 0)\n",
    "\n",
    "plt.show()\n",
    "\n"
   ]
  },
  {
   "cell_type": "code",
   "execution_count": 26,
   "metadata": {},
   "outputs": [
    {
     "name": "stderr",
     "output_type": "stream",
     "text": [
      "/home/mavrog2/.conda/envs/jorje/lib/python3.7/site-packages/seaborn/distributions.py:2619: FutureWarning: `distplot` is a deprecated function and will be removed in a future version. Please adapt your code to use either `displot` (a figure-level function with similar flexibility) or `histplot` (an axes-level function for histograms).\n",
      "  warnings.warn(msg, FutureWarning)\n"
     ]
    },
    {
     "data": {
      "image/png": "[encoded data removed]",
      "text/plain": [
       "<Figure size 432x288 with 1 Axes>"
      ]
     },
     "metadata": {
      "needs_background": "light"
     },
     "output_type": "display_data"
    }
   ],
   "source": [
    "fig, ax = plt.subplots(1,1)\n",
    "#ax = sns.distplot(kmeans['Kmeans-ATT'], hist_kws={'weights':kmeans['Kmeans-Weights'].values},\n",
    "#                 bins = bins, kde = kde, ax = ax)\n",
    "\n",
    "ax = sns.distplot(kmeans['Kmeans-ATT'],\n",
    "                  bins = bins, kde = kde, ax = ax)\n",
    "\n",
    "ax.set_xlabel('ATE')\n",
    "#ax.set_ylabel('weight')\n",
    "if save:\n",
    "    fig.savefig(path2+'Kmhist.pdf', bbox_inches='tight',pad_inches = 0)\n",
    "\n",
    "plt.show()\n"
   ]
  },
  {
   "cell_type": "code",
   "execution_count": 27,
   "metadata": {},
   "outputs": [
    {
     "name": "stderr",
     "output_type": "stream",
     "text": [
      "/home/mavrog2/.conda/envs/jorje/lib/python3.7/site-packages/seaborn/distributions.py:2619: FutureWarning: `distplot` is a deprecated function and will be removed in a future version. Please adapt your code to use either `displot` (a figure-level function with similar flexibility) or `histplot` (an axes-level function for histograms).\n",
      "  warnings.warn(msg, FutureWarning)\n"
     ]
    },
    {
     "data": {
      "image/png": "[encoded data removed]",
      "text/plain": [
       "<Figure size 432x288 with 1 Axes>"
      ]
     },
     "metadata": {
      "needs_background": "light"
     },
     "output_type": "display_data"
    }
   ],
   "source": [
    "fig, ax = plt.subplots(1,1)\n",
    "#ax = sns.distplot(data['ITE'], bins = bins,hist_kws={'weights': np.ones(len(data))/len(data)},\n",
    "#                  kde = kde, ax = ax)\n",
    "ax = sns.distplot(data['ITE'], bins = bins,\n",
    "                  kde = kde, ax = ax)\n",
    "ax.set_xlabel('ITE')\n",
    "#ax.set_ylabel('weight')\n",
    "\n",
    "if save:\n",
    "    fig.savefig(path2+'itehist.pdf', bbox_inches='tight',pad_inches = 0)\n",
    "\n",
    "plt.show()\n"
   ]
  },
  {
   "cell_type": "code",
   "execution_count": 28,
   "metadata": {},
   "outputs": [
    {
     "data": {
      "text/html": [
       "<div>\n",
       "<style scoped>\n",
       "    .dataframe tbody tr th:only-of-type {\n",
       "        vertical-align: middle;\n",
       "    }\n",
       "\n",
       "    .dataframe tbody tr th {\n",
       "        vertical-align: top;\n",
       "    }\n",
       "\n",
       "    .dataframe thead th {\n",
       "        text-align: right;\n",
       "    }\n",
       "</style>\n",
       "<table border=\"1\" class=\"dataframe\">\n",
       "  <thead>\n",
       "    <tr style=\"text-align: right;\">\n",
       "      <th></th>\n",
       "      <th>Box-Cluster</th>\n",
       "      <th>Box-ATT</th>\n",
       "      <th>Box-points</th>\n",
       "      <th>Box-Hom</th>\n",
       "      <th>Box-Weights</th>\n",
       "    </tr>\n",
       "  </thead>\n",
       "  <tbody>\n",
       "    <tr>\n",
       "      <th>count</th>\n",
       "      <td>441.00000</td>\n",
       "      <td>441.000000</td>\n",
       "      <td>441.000000</td>\n",
       "      <td>441.000000</td>\n",
       "      <td>441.000000</td>\n",
       "    </tr>\n",
       "    <tr>\n",
       "      <th>mean</th>\n",
       "      <td>220.00000</td>\n",
       "      <td>1.014447</td>\n",
       "      <td>453.514739</td>\n",
       "      <td>0.953015</td>\n",
       "      <td>0.002268</td>\n",
       "    </tr>\n",
       "    <tr>\n",
       "      <th>std</th>\n",
       "      <td>127.44999</td>\n",
       "      <td>0.845440</td>\n",
       "      <td>21.551110</td>\n",
       "      <td>0.094993</td>\n",
       "      <td>0.000108</td>\n",
       "    </tr>\n",
       "    <tr>\n",
       "      <th>min</th>\n",
       "      <td>0.00000</td>\n",
       "      <td>-0.993121</td>\n",
       "      <td>399.000000</td>\n",
       "      <td>0.627232</td>\n",
       "      <td>0.001995</td>\n",
       "    </tr>\n",
       "    <tr>\n",
       "      <th>25%</th>\n",
       "      <td>110.00000</td>\n",
       "      <td>0.233919</td>\n",
       "      <td>439.000000</td>\n",
       "      <td>0.965293</td>\n",
       "      <td>0.002195</td>\n",
       "    </tr>\n",
       "    <tr>\n",
       "      <th>50%</th>\n",
       "      <td>220.00000</td>\n",
       "      <td>0.973268</td>\n",
       "      <td>453.000000</td>\n",
       "      <td>1.000000</td>\n",
       "      <td>0.002265</td>\n",
       "    </tr>\n",
       "    <tr>\n",
       "      <th>75%</th>\n",
       "      <td>330.00000</td>\n",
       "      <td>1.788780</td>\n",
       "      <td>468.000000</td>\n",
       "      <td>1.000000</td>\n",
       "      <td>0.002340</td>\n",
       "    </tr>\n",
       "    <tr>\n",
       "      <th>max</th>\n",
       "      <td>440.00000</td>\n",
       "      <td>2.824453</td>\n",
       "      <td>520.000000</td>\n",
       "      <td>1.000000</td>\n",
       "      <td>0.002600</td>\n",
       "    </tr>\n",
       "  </tbody>\n",
       "</table>\n",
       "</div>"
      ],
      "text/plain": [
       "       Box-Cluster     Box-ATT  Box-points     Box-Hom  Box-Weights\n",
       "count    441.00000  441.000000  441.000000  441.000000   441.000000\n",
       "mean     220.00000    1.014447  453.514739    0.953015     0.002268\n",
       "std      127.44999    0.845440   21.551110    0.094993     0.000108\n",
       "min        0.00000   -0.993121  399.000000    0.627232     0.001995\n",
       "25%      110.00000    0.233919  439.000000    0.965293     0.002195\n",
       "50%      220.00000    0.973268  453.000000    1.000000     0.002265\n",
       "75%      330.00000    1.788780  468.000000    1.000000     0.002340\n",
       "max      440.00000    2.824453  520.000000    1.000000     0.002600"
      ]
     },
     "execution_count": 28,
     "metadata": {},
     "output_type": "execute_result"
    }
   ],
   "source": [
    "box.describe()"
   ]
  },
  {
   "cell_type": "markdown",
   "metadata": {},
   "source": [
    "### Calculate ATT per Cluster not known Model Calculated CF"
   ]
  },
  {
   "cell_type": "code",
   "execution_count": 29,
   "metadata": {},
   "outputs": [],
   "source": [
    "ite_name = 'ITE-GDBR'\n",
    "box2 = ATTC(data.copy(), cluster_name = 'Box-Cluster', ATT_CLUST_name='Box-ATT',\n",
    "           points_name='Box-points', weight_names='Box-Weights', ITE_name = ite_name,\n",
    "            hom_name = 'Box-Hom', att = False)\n",
    "\n",
    "kmeans2 = ATTC(data.copy(), cluster_name = 'Kmeans-Cluster', ATT_CLUST_name='Kmeans-ATT',\n",
    "           points_name='Kmeans-points', weight_names='Kmeans-Weights',ITE_name = ite_name,\n",
    "               hom_name = 'Kmeans-Hom', att = False)\n",
    "\n"
   ]
  },
  {
   "cell_type": "code",
   "execution_count": 30,
   "metadata": {},
   "outputs": [
    {
     "name": "stderr",
     "output_type": "stream",
     "text": [
      "/home/mavrog2/.conda/envs/jorje/lib/python3.7/site-packages/seaborn/distributions.py:2619: FutureWarning: `distplot` is a deprecated function and will be removed in a future version. Please adapt your code to use either `displot` (a figure-level function with similar flexibility) or `histplot` (an axes-level function for histograms).\n",
      "  warnings.warn(msg, FutureWarning)\n"
     ]
    },
    {
     "data": {
      "image/png": "[encoded data removed]",
      "text/plain": [
       "<Figure size 432x288 with 1 Axes>"
      ]
     },
     "metadata": {
      "needs_background": "light"
     },
     "output_type": "display_data"
    }
   ],
   "source": [
    "fig, ax = plt.subplots(1,1)\n",
    "#ax = sns.distplot(box2['Box-ATT'], hist_kws={'weights':box2['Box-Weights'].values},bins = bins, kde = kde,ax = ax )\n",
    "ax = sns.distplot(box2['Box-ATT'], bins = bins, kde = kde,ax = ax )\n",
    "ax.set_xlabel('ATE')\n",
    "#ax.set_ylabel('weight')\n",
    "ax.set_xlim(-0.5,2.7)\n",
    "\n",
    "if save:\n",
    "    fig.savefig(path2+'Box2hist.pdf', bbox_inches='tight',pad_inches = 0)\n",
    "\n",
    "plt.show()\n",
    "\n",
    "\n"
   ]
  },
  {
   "cell_type": "code",
   "execution_count": 31,
   "metadata": {},
   "outputs": [
    {
     "name": "stderr",
     "output_type": "stream",
     "text": [
      "/home/mavrog2/.conda/envs/jorje/lib/python3.7/site-packages/seaborn/distributions.py:2619: FutureWarning: `distplot` is a deprecated function and will be removed in a future version. Please adapt your code to use either `displot` (a figure-level function with similar flexibility) or `histplot` (an axes-level function for histograms).\n",
      "  warnings.warn(msg, FutureWarning)\n"
     ]
    },
    {
     "data": {
      "image/png": "[encoded data removed]",
      "text/plain": [
       "<Figure size 432x288 with 1 Axes>"
      ]
     },
     "metadata": {
      "needs_background": "light"
     },
     "output_type": "display_data"
    }
   ],
   "source": [
    "fig, ax = plt.subplots(1,1)\n",
    "#ax = sns.distplot(kmeans2['Kmeans-ATT'], hist_kws={'weights':kmeans2['Kmeans-Weights'].values},\n",
    "#             bins = bins, kde = kde, ax = ax)\n",
    "ax = sns.distplot(kmeans2['Kmeans-ATT'],\n",
    "             bins = bins, kde = kde, ax = ax)\n",
    "ax.set_xlabel('ATE')\n",
    "#ax.set_ylabel('weight')\n",
    "ax.set_xlim(-0.5,2.7)\n",
    "if save:\n",
    "\n",
    "    fig.savefig(path2+'KM2hist.pdf', bbox_inches='tight',pad_inches = 0)\n",
    "\n",
    "plt.show()"
   ]
  },
  {
   "cell_type": "code",
   "execution_count": 32,
   "metadata": {},
   "outputs": [
    {
     "name": "stderr",
     "output_type": "stream",
     "text": [
      "/home/mavrog2/.conda/envs/jorje/lib/python3.7/site-packages/seaborn/distributions.py:2619: FutureWarning: `distplot` is a deprecated function and will be removed in a future version. Please adapt your code to use either `displot` (a figure-level function with similar flexibility) or `histplot` (an axes-level function for histograms).\n",
      "  warnings.warn(msg, FutureWarning)\n"
     ]
    },
    {
     "data": {
      "image/png": "[encoded data removed]",
      "text/plain": [
       "<Figure size 432x288 with 1 Axes>"
      ]
     },
     "metadata": {
      "needs_background": "light"
     },
     "output_type": "display_data"
    }
   ],
   "source": [
    "fig, ax = plt.subplots(1,1)\n",
    "bins = 400\n",
    "#ax = sns.distplot(data['ITE-GDBR'],bins = bins, kde = kde, ax = ax, hist_kws={'weights': np.ones(len(data))/len(data)})\n",
    "ax = sns.distplot(data['ITE-GDBR'],bins = bins, kde = kde, ax = ax)\n",
    "\n",
    "ax.set_xlabel('ITE')\n",
    "#ax.set_ylabel('weight')\n",
    "ax.set_xlim(-15,15)\n",
    "if save:\n",
    "\n",
    "    fig.savefig(path2+'ITE2hist.pdf', bbox_inches='tight',pad_inches = 0)\n",
    "\n",
    "plt.show()"
   ]
  },
  {
   "cell_type": "markdown",
   "metadata": {},
   "source": [
    "### Optimal 3-Clustering\n",
    "#### Cluster the ATTs for the 4 methods \n",
    "1. Box with sampled Ites\n",
    "2. Kmeans with sampled Ites\n",
    "3. Box with estimated Ites\n",
    "4. Kmeans with estimated Ites"
   ]
  },
  {
   "cell_type": "code",
   "execution_count": 33,
   "metadata": {},
   "outputs": [
    {
     "name": "stdout",
     "output_type": "stream",
     "text": [
      "CPU times: user 889 ms, sys: 59 ms, total: 948 ms\n",
      "Wall time: 1.24 s\n"
     ]
    }
   ],
   "source": [
    "%%time\n",
    "#all_data = [box, kmeans, agglo, box2, kmeans2, agglo2]\n",
    "all_data = [box, kmeans, box2, kmeans2]\n",
    "\n",
    "#names = ['Box-Cl2', 'Kmeans-Cl2', 'Agglo-Cl2', 'Box2-Cl2', 'Kmeans2-Cl2', 'Agglo2-Cl2']\n",
    "#names2 = ['Box-ATT', 'Kmeans-ATT', 'Agglo-ATT', 'Box-ATT', 'Kmeans-ATT', 'Agglo-ATT']\n",
    "\n",
    "names_to_give = ['Box-Cl2', 'Kmeans-Cl2',  'Box2-Cl2', 'Kmeans2-Cl2']\n",
    "names_to_find= ['Box-ATT', 'Kmeans-ATT',  'Box-ATT', 'Kmeans-ATT']\n",
    "\n",
    "weights = ['Box-Weights', 'Kmeans-Weights', 'Box-Weights', 'Kmeans-Weights']\n",
    "\n",
    "clusts = 3\n",
    "for i, (dd, name, name2,w) in enumerate(zip(all_data, names_to_give, names_to_find,weights)):\n",
    "    all_data[i], _ = optimal_clustering(dd, max_clusters = clusts, col_select = name2, \n",
    "                      cluster_name = name, N=N )\n",
    "    \n"
   ]
  },
  {
   "cell_type": "code",
   "execution_count": 34,
   "metadata": {},
   "outputs": [
    {
     "data": {
      "text/plain": [
       "0    154\n",
       "2    147\n",
       "1    140\n",
       "Name: Box-Cl2, dtype: int64"
      ]
     },
     "execution_count": 34,
     "metadata": {},
     "output_type": "execute_result"
    }
   ],
   "source": [
    "box['Box-Cl2'].value_counts()"
   ]
  },
  {
   "cell_type": "code",
   "execution_count": 35,
   "metadata": {},
   "outputs": [
    {
     "data": {
      "text/html": [
       "<div>\n",
       "<style scoped>\n",
       "    .dataframe tbody tr th:only-of-type {\n",
       "        vertical-align: middle;\n",
       "    }\n",
       "\n",
       "    .dataframe tbody tr th {\n",
       "        vertical-align: top;\n",
       "    }\n",
       "\n",
       "    .dataframe thead th {\n",
       "        text-align: right;\n",
       "    }\n",
       "</style>\n",
       "<table border=\"1\" class=\"dataframe\">\n",
       "  <thead>\n",
       "    <tr style=\"text-align: right;\">\n",
       "      <th></th>\n",
       "      <th>Box-Cluster</th>\n",
       "      <th>Box-ATT</th>\n",
       "      <th>Box-points</th>\n",
       "      <th>Box-Hom</th>\n",
       "      <th>Box-Weights</th>\n",
       "      <th>Box-Cl2</th>\n",
       "    </tr>\n",
       "  </thead>\n",
       "  <tbody>\n",
       "    <tr>\n",
       "      <th>0</th>\n",
       "      <td>0</td>\n",
       "      <td>0.253510</td>\n",
       "      <td>491.0</td>\n",
       "      <td>1.0</td>\n",
       "      <td>0.002455</td>\n",
       "      <td>0</td>\n",
       "    </tr>\n",
       "    <tr>\n",
       "      <th>1</th>\n",
       "      <td>1</td>\n",
       "      <td>-0.222059</td>\n",
       "      <td>450.0</td>\n",
       "      <td>1.0</td>\n",
       "      <td>0.002250</td>\n",
       "      <td>0</td>\n",
       "    </tr>\n",
       "  </tbody>\n",
       "</table>\n",
       "</div>"
      ],
      "text/plain": [
       "   Box-Cluster   Box-ATT  Box-points  Box-Hom  Box-Weights  Box-Cl2\n",
       "0            0  0.253510       491.0      1.0     0.002455        0\n",
       "1            1 -0.222059       450.0      1.0     0.002250        0"
      ]
     },
     "execution_count": 35,
     "metadata": {},
     "output_type": "execute_result"
    }
   ],
   "source": [
    "box.head(2)"
   ]
  },
  {
   "cell_type": "code",
   "execution_count": 36,
   "metadata": {},
   "outputs": [
    {
     "data": {
      "text/html": [
       "<div>\n",
       "<style scoped>\n",
       "    .dataframe tbody tr th:only-of-type {\n",
       "        vertical-align: middle;\n",
       "    }\n",
       "\n",
       "    .dataframe tbody tr th {\n",
       "        vertical-align: top;\n",
       "    }\n",
       "\n",
       "    .dataframe thead th {\n",
       "        text-align: right;\n",
       "    }\n",
       "</style>\n",
       "<table border=\"1\" class=\"dataframe\">\n",
       "  <thead>\n",
       "    <tr style=\"text-align: right;\">\n",
       "      <th></th>\n",
       "      <th>x0</th>\n",
       "      <th>x1</th>\n",
       "      <th>C</th>\n",
       "      <th>Treatment</th>\n",
       "      <th>Y</th>\n",
       "      <th>Ycf</th>\n",
       "      <th>ITE</th>\n",
       "      <th>IS_TEST</th>\n",
       "      <th>Ycf-GDBR</th>\n",
       "      <th>ITE-GDBR</th>\n",
       "      <th>Box-Cluster</th>\n",
       "      <th>Kmeans-Cluster</th>\n",
       "    </tr>\n",
       "  </thead>\n",
       "  <tbody>\n",
       "    <tr>\n",
       "      <th>0</th>\n",
       "      <td>0.548814</td>\n",
       "      <td>0.715189</td>\n",
       "      <td>2</td>\n",
       "      <td>0</td>\n",
       "      <td>5.395644</td>\n",
       "      <td>0.178844</td>\n",
       "      <td>-5.216800</td>\n",
       "      <td>0</td>\n",
       "      <td>2.564066</td>\n",
       "      <td>-2.831578</td>\n",
       "      <td>326</td>\n",
       "      <td>418</td>\n",
       "    </tr>\n",
       "    <tr>\n",
       "      <th>1</th>\n",
       "      <td>0.602763</td>\n",
       "      <td>0.544883</td>\n",
       "      <td>2</td>\n",
       "      <td>1</td>\n",
       "      <td>0.507081</td>\n",
       "      <td>-4.717533</td>\n",
       "      <td>5.224614</td>\n",
       "      <td>0</td>\n",
       "      <td>-1.902026</td>\n",
       "      <td>2.409107</td>\n",
       "      <td>243</td>\n",
       "      <td>384</td>\n",
       "    </tr>\n",
       "  </tbody>\n",
       "</table>\n",
       "</div>"
      ],
      "text/plain": [
       "         x0        x1  C  Treatment         Y       Ycf       ITE  IS_TEST  \\\n",
       "0  0.548814  0.715189  2          0  5.395644  0.178844 -5.216800        0   \n",
       "1  0.602763  0.544883  2          1  0.507081 -4.717533  5.224614        0   \n",
       "\n",
       "   Ycf-GDBR  ITE-GDBR  Box-Cluster  Kmeans-Cluster  \n",
       "0  2.564066 -2.831578          326             418  \n",
       "1 -1.902026  2.409107          243             384  "
      ]
     },
     "execution_count": 36,
     "metadata": {},
     "output_type": "execute_result"
    }
   ],
   "source": [
    "data2 = data.copy()\n",
    "data2.head(2)"
   ]
  },
  {
   "cell_type": "markdown",
   "metadata": {},
   "source": [
    "### 3 Clustering in the ITEs"
   ]
  },
  {
   "cell_type": "code",
   "execution_count": 37,
   "metadata": {},
   "outputs": [],
   "source": [
    "cluster_name1 = 'ITE-2CTrue'\n",
    "col1 = 'ITE'\n",
    "filt11 = data2[col1] <= 0.5\n",
    "filt21 = data2[col1] >= 0.5\n",
    "filt31 = data2[col1] >= 1.5\n",
    "\n",
    "data2[cluster_name1] = 0\n",
    "data2.loc[filt11,cluster_name1] = 0\n",
    "data2.loc[filt21, cluster_name1] = 1\n",
    "data2.loc[filt31, cluster_name1] = 2\n",
    "\n",
    "cluster_name2 = 'ITE-2CGDBR'\n",
    "col2 = 'ITE-GDBR'\n",
    "filt12 = data2[col2] <= 0.5\n",
    "filt22 = data2[col2] >= 0.5\n",
    "filt32 = data2[col2] >= 1.5\n",
    "\n",
    "data2[cluster_name2] = 0\n",
    "data2.loc[filt12,cluster_name2] = 0\n",
    "data2.loc[filt22, cluster_name2] = 1\n",
    "data2.loc[filt32, cluster_name2] = 2\n",
    "\n",
    "#data2,_ = kmeans_clustering(data2,clusters = clusts, cluster_name = 'ITE-2CTrue',col_select = ['ITE'] )\n",
    "#data2,_ = kmeans_clustering(data2,clusters = clusts, cluster_name = 'ITE-2CGDBR',col_select = ['ITE-GDBR'] )"
   ]
  },
  {
   "cell_type": "markdown",
   "metadata": {},
   "source": [
    "### Merge 3 Clustering with initial data"
   ]
  },
  {
   "cell_type": "code",
   "execution_count": 38,
   "metadata": {},
   "outputs": [],
   "source": [
    "#merge_names = ['Box-Cluster', 'Kmeans-Cluster', 'Agglomerative-Cluster']*2\n",
    "#class_names = ['Box-Cl2', 'Kmeans-Cl2', 'Agglo-Cl2', 'Box2-Cl2', 'Kmeans2-Cl2', 'Agglo2-Cl2']\n",
    "\n",
    "merge_names = ['Box-Cluster', 'Kmeans-Cluster']*2\n",
    "class_names = ['Box-Cl2', 'Kmeans-Cl2',  'Box2-Cl2', 'Kmeans2-Cl2']\n",
    "\n",
    "for dd, merge_name, class_name in zip(all_data, merge_names, class_names):\n",
    "    dd2 = dd[[merge_name, class_name]]\n",
    "\n",
    "\n",
    "    data2 = data2.merge(dd2, on = merge_name, how = 'left' )"
   ]
  },
  {
   "cell_type": "code",
   "execution_count": 39,
   "metadata": {},
   "outputs": [
    {
     "data": {
      "text/html": [
       "<div>\n",
       "<style scoped>\n",
       "    .dataframe tbody tr th:only-of-type {\n",
       "        vertical-align: middle;\n",
       "    }\n",
       "\n",
       "    .dataframe tbody tr th {\n",
       "        vertical-align: top;\n",
       "    }\n",
       "\n",
       "    .dataframe thead th {\n",
       "        text-align: right;\n",
       "    }\n",
       "</style>\n",
       "<table border=\"1\" class=\"dataframe\">\n",
       "  <thead>\n",
       "    <tr style=\"text-align: right;\">\n",
       "      <th></th>\n",
       "      <th>x0</th>\n",
       "      <th>x1</th>\n",
       "      <th>C</th>\n",
       "      <th>Treatment</th>\n",
       "      <th>Y</th>\n",
       "      <th>Ycf</th>\n",
       "      <th>ITE</th>\n",
       "      <th>IS_TEST</th>\n",
       "      <th>Ycf-GDBR</th>\n",
       "      <th>ITE-GDBR</th>\n",
       "      <th>Box-Cluster</th>\n",
       "      <th>Kmeans-Cluster</th>\n",
       "      <th>ITE-2CTrue</th>\n",
       "      <th>ITE-2CGDBR</th>\n",
       "      <th>Box-Cl2</th>\n",
       "      <th>Kmeans-Cl2</th>\n",
       "      <th>Box2-Cl2</th>\n",
       "      <th>Kmeans2-Cl2</th>\n",
       "    </tr>\n",
       "  </thead>\n",
       "  <tbody>\n",
       "    <tr>\n",
       "      <th>0</th>\n",
       "      <td>0.548814</td>\n",
       "      <td>0.715189</td>\n",
       "      <td>2</td>\n",
       "      <td>0</td>\n",
       "      <td>5.395644</td>\n",
       "      <td>0.178844</td>\n",
       "      <td>-5.216800</td>\n",
       "      <td>0</td>\n",
       "      <td>2.564066</td>\n",
       "      <td>-2.831578</td>\n",
       "      <td>326</td>\n",
       "      <td>418</td>\n",
       "      <td>0</td>\n",
       "      <td>0</td>\n",
       "      <td>2</td>\n",
       "      <td>2</td>\n",
       "      <td>2</td>\n",
       "      <td>1</td>\n",
       "    </tr>\n",
       "    <tr>\n",
       "      <th>1</th>\n",
       "      <td>0.602763</td>\n",
       "      <td>0.544883</td>\n",
       "      <td>2</td>\n",
       "      <td>1</td>\n",
       "      <td>0.507081</td>\n",
       "      <td>-4.717533</td>\n",
       "      <td>5.224614</td>\n",
       "      <td>0</td>\n",
       "      <td>-1.902026</td>\n",
       "      <td>2.409107</td>\n",
       "      <td>243</td>\n",
       "      <td>384</td>\n",
       "      <td>2</td>\n",
       "      <td>2</td>\n",
       "      <td>2</td>\n",
       "      <td>2</td>\n",
       "      <td>2</td>\n",
       "      <td>2</td>\n",
       "    </tr>\n",
       "  </tbody>\n",
       "</table>\n",
       "</div>"
      ],
      "text/plain": [
       "         x0        x1  C  Treatment         Y       Ycf       ITE  IS_TEST  \\\n",
       "0  0.548814  0.715189  2          0  5.395644  0.178844 -5.216800        0   \n",
       "1  0.602763  0.544883  2          1  0.507081 -4.717533  5.224614        0   \n",
       "\n",
       "   Ycf-GDBR  ITE-GDBR  Box-Cluster  Kmeans-Cluster  ITE-2CTrue  ITE-2CGDBR  \\\n",
       "0  2.564066 -2.831578          326             418           0           0   \n",
       "1 -1.902026  2.409107          243             384           2           2   \n",
       "\n",
       "   Box-Cl2  Kmeans-Cl2  Box2-Cl2  Kmeans2-Cl2  \n",
       "0        2           2         2            1  \n",
       "1        2           2         2            2  "
      ]
     },
     "execution_count": 39,
     "metadata": {},
     "output_type": "execute_result"
    }
   ],
   "source": [
    "data2.head(2)"
   ]
  },
  {
   "cell_type": "markdown",
   "metadata": {},
   "source": [
    "### Plot reconstruction of data"
   ]
  },
  {
   "cell_type": "code",
   "execution_count": 40,
   "metadata": {},
   "outputs": [
    {
     "data": {
      "image/png": "[encoded data removed]",
      "text/plain": [
       "<Figure size 432x288 with 1 Axes>"
      ]
     },
     "metadata": {
      "needs_background": "light"
     },
     "output_type": "display_data"
    },
    {
     "data": {
      "image/png": "[encoded data removed]",
      "text/plain": [
       "<Figure size 432x288 with 1 Axes>"
      ]
     },
     "metadata": {
      "needs_background": "light"
     },
     "output_type": "display_data"
    },
    {
     "data": {
      "image/png": "[encoded data removed]",
      "text/plain": [
       "<Figure size 432x288 with 1 Axes>"
      ]
     },
     "metadata": {
      "needs_background": "light"
     },
     "output_type": "display_data"
    },
    {
     "data": {
      "image/png": "[encoded data removed]",
      "text/plain": [
       "<Figure size 432x288 with 1 Axes>"
      ]
     },
     "metadata": {
      "needs_background": "light"
     },
     "output_type": "display_data"
    },
    {
     "data": {
      "image/png": "[encoded data removed]",
      "text/plain": [
       "<Figure size 432x288 with 1 Axes>"
      ]
     },
     "metadata": {
      "needs_background": "light"
     },
     "output_type": "display_data"
    },
    {
     "data": {
      "image/png": "[encoded data removed]",
      "text/plain": [
       "<Figure size 432x288 with 1 Axes>"
      ]
     },
     "metadata": {
      "needs_background": "light"
     },
     "output_type": "display_data"
    },
    {
     "name": "stdout",
     "output_type": "stream",
     "text": [
      "CPU times: user 58 s, sys: 1.53 s, total: 59.6 s\n",
      "Wall time: 58 s\n"
     ]
    }
   ],
   "source": [
    "%%time\n",
    "#class_names1 = ['Box-Cl2', 'Kmeans-Cl2', 'Agglo-Cl2', 'Box2-Cl2',\n",
    "                #'Kmeans2-Cl2', 'Agglo2-Cl2', 'ITE-CTrue', 'ITE-CGDBR']\n",
    "\n",
    "class_names2 = ['Box-Cl2', 'Kmeans-Cl2',  'Box2-Cl2', 'Kmeans2-Cl2','ITE-2CTrue', 'ITE-2CGDBR']\n",
    "\n",
    "\n",
    "#patth to save\n",
    "path3 = path_figs+'reconstruction/'\n",
    "Path(path3).mkdir(exist_ok = True, parents = True)\n",
    "use_poly = False\n",
    "for name in class_names2:\n",
    "    #data2.plot.scatter(x='x0', y='x1', c=name, colormap='inferno')\n",
    "    fig, ax = plt.subplots()\n",
    "    if not use_poly:\n",
    "        sc = ax.scatter(data2['x0'].values, data2['x1'].values, c=data2[name].values, cmap = 'Greys', s = 1)\n",
    "    else:\n",
    "        polygons, colors = generate_paths(K, Cdraw = avg_c, Cdraw_name=name)\n",
    "        coll = mpl.collections.PolyCollection(polygons)\n",
    "        coll.set(array = np.array(colors), cmap = 'Greys')\n",
    "        ax.add_collection(coll)\n",
    "        ax.figure.colorbar(coll)\n",
    "    #ax.set_title(name)\n",
    "    #fig.colorbar(sc)\n",
    "    if save:\n",
    "        ax.set_aspect('equal', adjustable='box')\n",
    "        fig.savefig(path3+'{}.jpeg'.format(name), bbox_inches='tight',pad_inches = 0)\n",
    "\n",
    "    plt.show()\n",
    "    "
   ]
  },
  {
   "cell_type": "code",
   "execution_count": 41,
   "metadata": {},
   "outputs": [],
   "source": [
    "def MAE_pd(group, name1,name2,column_name):\n",
    "    \n",
    "    group[column_name] = np.abs(group[name1].values-group[name2].mean())\n",
    "    \n",
    "    return group\n",
    "    \n",
    "    "
   ]
  },
  {
   "cell_type": "code",
   "execution_count": 42,
   "metadata": {},
   "outputs": [],
   "source": [
    "ite_column = 'ITE-GDBR'\n",
    "\n",
    "for clust2 in class_names2:\n",
    "    data2 = data2.groupby(clust2).apply(lambda x: MAE_pd(x, 'C', ite_column, clust2+'-err-GDBR'))"
   ]
  },
  {
   "cell_type": "code",
   "execution_count": 43,
   "metadata": {},
   "outputs": [],
   "source": [
    "ite_column = 'ITE'\n",
    "\n",
    "for clust2 in class_names2:\n",
    "    data2 = data2.groupby(clust2).apply(lambda x: MAE_pd(x, 'C', ite_column, clust2+'-err-True-ITE'))"
   ]
  },
  {
   "cell_type": "code",
   "execution_count": 44,
   "metadata": {},
   "outputs": [],
   "source": [
    "errors = data2.describe().loc[['mean', 'std'], [col for col in data2.columns if 'err' in col]].T"
   ]
  },
  {
   "cell_type": "code",
   "execution_count": 45,
   "metadata": {},
   "outputs": [
    {
     "data": {
      "text/html": [
       "<div>\n",
       "<style scoped>\n",
       "    .dataframe tbody tr th:only-of-type {\n",
       "        vertical-align: middle;\n",
       "    }\n",
       "\n",
       "    .dataframe tbody tr th {\n",
       "        vertical-align: top;\n",
       "    }\n",
       "\n",
       "    .dataframe thead th {\n",
       "        text-align: right;\n",
       "    }\n",
       "</style>\n",
       "<table border=\"1\" class=\"dataframe\">\n",
       "  <thead>\n",
       "    <tr style=\"text-align: right;\">\n",
       "      <th></th>\n",
       "      <th>mean</th>\n",
       "      <th>std</th>\n",
       "    </tr>\n",
       "  </thead>\n",
       "  <tbody>\n",
       "    <tr>\n",
       "      <th>Box-Cl2-err-True-ITE</th>\n",
       "      <td>0.139866</td>\n",
       "      <td>0.304407</td>\n",
       "    </tr>\n",
       "    <tr>\n",
       "      <th>Box-Cl2-err-GDBR</th>\n",
       "      <td>0.161241</td>\n",
       "      <td>0.289833</td>\n",
       "    </tr>\n",
       "    <tr>\n",
       "      <th>Box2-Cl2-err-GDBR</th>\n",
       "      <td>0.167912</td>\n",
       "      <td>0.352706</td>\n",
       "    </tr>\n",
       "    <tr>\n",
       "      <th>Kmeans-Cl2-err-True-ITE</th>\n",
       "      <td>0.175821</td>\n",
       "      <td>0.323485</td>\n",
       "    </tr>\n",
       "    <tr>\n",
       "      <th>Box2-Cl2-err-True-ITE</th>\n",
       "      <td>0.191073</td>\n",
       "      <td>0.334068</td>\n",
       "    </tr>\n",
       "    <tr>\n",
       "      <th>Kmeans-Cl2-err-GDBR</th>\n",
       "      <td>0.191481</td>\n",
       "      <td>0.311228</td>\n",
       "    </tr>\n",
       "    <tr>\n",
       "      <th>Kmeans2-Cl2-err-GDBR</th>\n",
       "      <td>0.207259</td>\n",
       "      <td>0.374389</td>\n",
       "    </tr>\n",
       "    <tr>\n",
       "      <th>Kmeans2-Cl2-err-True-ITE</th>\n",
       "      <td>0.237714</td>\n",
       "      <td>0.345197</td>\n",
       "    </tr>\n",
       "    <tr>\n",
       "      <th>ITE-2CTrue-err-GDBR</th>\n",
       "      <td>2.822368</td>\n",
       "      <td>0.952376</td>\n",
       "    </tr>\n",
       "    <tr>\n",
       "      <th>ITE-2CGDBR-err-True-ITE</th>\n",
       "      <td>3.727945</td>\n",
       "      <td>1.169458</td>\n",
       "    </tr>\n",
       "    <tr>\n",
       "      <th>ITE-2CGDBR-err-GDBR</th>\n",
       "      <td>4.227207</td>\n",
       "      <td>1.283417</td>\n",
       "    </tr>\n",
       "    <tr>\n",
       "      <th>ITE-2CTrue-err-True-ITE</th>\n",
       "      <td>5.606886</td>\n",
       "      <td>1.440763</td>\n",
       "    </tr>\n",
       "  </tbody>\n",
       "</table>\n",
       "</div>"
      ],
      "text/plain": [
       "                              mean       std\n",
       "Box-Cl2-err-True-ITE      0.139866  0.304407\n",
       "Box-Cl2-err-GDBR          0.161241  0.289833\n",
       "Box2-Cl2-err-GDBR         0.167912  0.352706\n",
       "Kmeans-Cl2-err-True-ITE   0.175821  0.323485\n",
       "Box2-Cl2-err-True-ITE     0.191073  0.334068\n",
       "Kmeans-Cl2-err-GDBR       0.191481  0.311228\n",
       "Kmeans2-Cl2-err-GDBR      0.207259  0.374389\n",
       "Kmeans2-Cl2-err-True-ITE  0.237714  0.345197\n",
       "ITE-2CTrue-err-GDBR       2.822368  0.952376\n",
       "ITE-2CGDBR-err-True-ITE   3.727945  1.169458\n",
       "ITE-2CGDBR-err-GDBR       4.227207  1.283417\n",
       "ITE-2CTrue-err-True-ITE   5.606886  1.440763"
      ]
     },
     "execution_count": 45,
     "metadata": {},
     "output_type": "execute_result"
    }
   ],
   "source": [
    "errors.sort_values(by = 'mean')"
   ]
  },
  {
   "cell_type": "code",
   "execution_count": 46,
   "metadata": {},
   "outputs": [
    {
     "data": {
      "image/png": "[encoded data removed]",
      "text/plain": [
       "<Figure size 432x288 with 1 Axes>"
      ]
     },
     "metadata": {
      "needs_background": "light"
     },
     "output_type": "display_data"
    }
   ],
   "source": [
    "ax = errors['mean'].sort_values().plot.barh()\n",
    "plt.show()"
   ]
  },
  {
   "cell_type": "code",
   "execution_count": 47,
   "metadata": {},
   "outputs": [],
   "source": [
    "from evaluations import confusion_matrix\n",
    "    "
   ]
  },
  {
   "cell_type": "code",
   "execution_count": 48,
   "metadata": {},
   "outputs": [
    {
     "name": "stdout",
     "output_type": "stream",
     "text": [
      "Box-Cl2\n"
     ]
    },
    {
     "data": {
      "text/html": [
       "<div>\n",
       "<style scoped>\n",
       "    .dataframe tbody tr th:only-of-type {\n",
       "        vertical-align: middle;\n",
       "    }\n",
       "\n",
       "    .dataframe tbody tr th {\n",
       "        vertical-align: top;\n",
       "    }\n",
       "\n",
       "    .dataframe thead th {\n",
       "        text-align: right;\n",
       "    }\n",
       "</style>\n",
       "<table border=\"1\" class=\"dataframe\">\n",
       "  <thead>\n",
       "    <tr style=\"text-align: right;\">\n",
       "      <th></th>\n",
       "      <th>C0 Pred</th>\n",
       "      <th>C1 Pred</th>\n",
       "      <th>C2 Pred</th>\n",
       "    </tr>\n",
       "  </thead>\n",
       "  <tbody>\n",
       "    <tr>\n",
       "      <th>C0 True</th>\n",
       "      <td>0.934551</td>\n",
       "      <td>0.065074</td>\n",
       "      <td>0.000375</td>\n",
       "    </tr>\n",
       "    <tr>\n",
       "      <th>C1 True</th>\n",
       "      <td>0.112852</td>\n",
       "      <td>0.803591</td>\n",
       "      <td>0.083557</td>\n",
       "    </tr>\n",
       "    <tr>\n",
       "      <th>C2 True</th>\n",
       "      <td>0.000211</td>\n",
       "      <td>0.083183</td>\n",
       "      <td>0.916606</td>\n",
       "    </tr>\n",
       "  </tbody>\n",
       "</table>\n",
       "</div>"
      ],
      "text/plain": [
       "          C0 Pred   C1 Pred   C2 Pred\n",
       "C0 True  0.934551  0.065074  0.000375\n",
       "C1 True  0.112852  0.803591  0.083557\n",
       "C2 True  0.000211  0.083183  0.916606"
      ]
     },
     "metadata": {},
     "output_type": "display_data"
    },
    {
     "name": "stdout",
     "output_type": "stream",
     "text": [
      "Kmeans-Cl2\n"
     ]
    },
    {
     "data": {
      "text/html": [
       "<div>\n",
       "<style scoped>\n",
       "    .dataframe tbody tr th:only-of-type {\n",
       "        vertical-align: middle;\n",
       "    }\n",
       "\n",
       "    .dataframe tbody tr th {\n",
       "        vertical-align: top;\n",
       "    }\n",
       "\n",
       "    .dataframe thead th {\n",
       "        text-align: right;\n",
       "    }\n",
       "</style>\n",
       "<table border=\"1\" class=\"dataframe\">\n",
       "  <thead>\n",
       "    <tr style=\"text-align: right;\">\n",
       "      <th></th>\n",
       "      <th>C0 Pred</th>\n",
       "      <th>C1 Pred</th>\n",
       "      <th>C2 Pred</th>\n",
       "    </tr>\n",
       "  </thead>\n",
       "  <tbody>\n",
       "    <tr>\n",
       "      <th>C0 True</th>\n",
       "      <td>0.843829</td>\n",
       "      <td>0.156171</td>\n",
       "      <td>0.000000</td>\n",
       "    </tr>\n",
       "    <tr>\n",
       "      <th>C1 True</th>\n",
       "      <td>0.114210</td>\n",
       "      <td>0.774803</td>\n",
       "      <td>0.110987</td>\n",
       "    </tr>\n",
       "    <tr>\n",
       "      <th>C2 True</th>\n",
       "      <td>0.000000</td>\n",
       "      <td>0.047559</td>\n",
       "      <td>0.952441</td>\n",
       "    </tr>\n",
       "  </tbody>\n",
       "</table>\n",
       "</div>"
      ],
      "text/plain": [
       "          C0 Pred   C1 Pred   C2 Pred\n",
       "C0 True  0.843829  0.156171  0.000000\n",
       "C1 True  0.114210  0.774803  0.110987\n",
       "C2 True  0.000000  0.047559  0.952441"
      ]
     },
     "metadata": {},
     "output_type": "display_data"
    },
    {
     "name": "stdout",
     "output_type": "stream",
     "text": [
      "Box2-Cl2\n"
     ]
    },
    {
     "data": {
      "text/html": [
       "<div>\n",
       "<style scoped>\n",
       "    .dataframe tbody tr th:only-of-type {\n",
       "        vertical-align: middle;\n",
       "    }\n",
       "\n",
       "    .dataframe tbody tr th {\n",
       "        vertical-align: top;\n",
       "    }\n",
       "\n",
       "    .dataframe thead th {\n",
       "        text-align: right;\n",
       "    }\n",
       "</style>\n",
       "<table border=\"1\" class=\"dataframe\">\n",
       "  <thead>\n",
       "    <tr style=\"text-align: right;\">\n",
       "      <th></th>\n",
       "      <th>C0 Pred</th>\n",
       "      <th>C1 Pred</th>\n",
       "      <th>C2 Pred</th>\n",
       "    </tr>\n",
       "  </thead>\n",
       "  <tbody>\n",
       "    <tr>\n",
       "      <th>C0 True</th>\n",
       "      <td>0.852878</td>\n",
       "      <td>0.145906</td>\n",
       "      <td>0.001216</td>\n",
       "    </tr>\n",
       "    <tr>\n",
       "      <th>C1 True</th>\n",
       "      <td>0.078856</td>\n",
       "      <td>0.799442</td>\n",
       "      <td>0.121702</td>\n",
       "    </tr>\n",
       "    <tr>\n",
       "      <th>C2 True</th>\n",
       "      <td>0.000000</td>\n",
       "      <td>0.109916</td>\n",
       "      <td>0.890084</td>\n",
       "    </tr>\n",
       "  </tbody>\n",
       "</table>\n",
       "</div>"
      ],
      "text/plain": [
       "          C0 Pred   C1 Pred   C2 Pred\n",
       "C0 True  0.852878  0.145906  0.001216\n",
       "C1 True  0.078856  0.799442  0.121702\n",
       "C2 True  0.000000  0.109916  0.890084"
      ]
     },
     "metadata": {},
     "output_type": "display_data"
    },
    {
     "name": "stdout",
     "output_type": "stream",
     "text": [
      "Kmeans2-Cl2\n"
     ]
    },
    {
     "data": {
      "text/html": [
       "<div>\n",
       "<style scoped>\n",
       "    .dataframe tbody tr th:only-of-type {\n",
       "        vertical-align: middle;\n",
       "    }\n",
       "\n",
       "    .dataframe tbody tr th {\n",
       "        vertical-align: top;\n",
       "    }\n",
       "\n",
       "    .dataframe thead th {\n",
       "        text-align: right;\n",
       "    }\n",
       "</style>\n",
       "<table border=\"1\" class=\"dataframe\">\n",
       "  <thead>\n",
       "    <tr style=\"text-align: right;\">\n",
       "      <th></th>\n",
       "      <th>C0 Pred</th>\n",
       "      <th>C1 Pred</th>\n",
       "      <th>C2 Pred</th>\n",
       "    </tr>\n",
       "  </thead>\n",
       "  <tbody>\n",
       "    <tr>\n",
       "      <th>C0 True</th>\n",
       "      <td>0.820537</td>\n",
       "      <td>0.177797</td>\n",
       "      <td>0.001666</td>\n",
       "    </tr>\n",
       "    <tr>\n",
       "      <th>C1 True</th>\n",
       "      <td>0.148729</td>\n",
       "      <td>0.709617</td>\n",
       "      <td>0.141655</td>\n",
       "    </tr>\n",
       "    <tr>\n",
       "      <th>C2 True</th>\n",
       "      <td>0.000000</td>\n",
       "      <td>0.091606</td>\n",
       "      <td>0.908394</td>\n",
       "    </tr>\n",
       "  </tbody>\n",
       "</table>\n",
       "</div>"
      ],
      "text/plain": [
       "          C0 Pred   C1 Pred   C2 Pred\n",
       "C0 True  0.820537  0.177797  0.001666\n",
       "C1 True  0.148729  0.709617  0.141655\n",
       "C2 True  0.000000  0.091606  0.908394"
      ]
     },
     "metadata": {},
     "output_type": "display_data"
    },
    {
     "name": "stdout",
     "output_type": "stream",
     "text": [
      "ITE-2CTrue\n"
     ]
    },
    {
     "data": {
      "text/html": [
       "<div>\n",
       "<style scoped>\n",
       "    .dataframe tbody tr th:only-of-type {\n",
       "        vertical-align: middle;\n",
       "    }\n",
       "\n",
       "    .dataframe tbody tr th {\n",
       "        vertical-align: top;\n",
       "    }\n",
       "\n",
       "    .dataframe thead th {\n",
       "        text-align: right;\n",
       "    }\n",
       "</style>\n",
       "<table border=\"1\" class=\"dataframe\">\n",
       "  <thead>\n",
       "    <tr style=\"text-align: right;\">\n",
       "      <th></th>\n",
       "      <th>C0 Pred</th>\n",
       "      <th>C1 Pred</th>\n",
       "      <th>C2 Pred</th>\n",
       "    </tr>\n",
       "  </thead>\n",
       "  <tbody>\n",
       "    <tr>\n",
       "      <th>C0 True</th>\n",
       "      <td>0.527359</td>\n",
       "      <td>0.056219</td>\n",
       "      <td>0.416422</td>\n",
       "    </tr>\n",
       "    <tr>\n",
       "      <th>C1 True</th>\n",
       "      <td>0.472436</td>\n",
       "      <td>0.055665</td>\n",
       "      <td>0.471899</td>\n",
       "    </tr>\n",
       "    <tr>\n",
       "      <th>C2 True</th>\n",
       "      <td>0.416079</td>\n",
       "      <td>0.055335</td>\n",
       "      <td>0.528586</td>\n",
       "    </tr>\n",
       "  </tbody>\n",
       "</table>\n",
       "</div>"
      ],
      "text/plain": [
       "          C0 Pred   C1 Pred   C2 Pred\n",
       "C0 True  0.527359  0.056219  0.416422\n",
       "C1 True  0.472436  0.055665  0.471899\n",
       "C2 True  0.416079  0.055335  0.528586"
      ]
     },
     "metadata": {},
     "output_type": "display_data"
    },
    {
     "name": "stdout",
     "output_type": "stream",
     "text": [
      "ITE-2CGDBR\n"
     ]
    },
    {
     "data": {
      "text/html": [
       "<div>\n",
       "<style scoped>\n",
       "    .dataframe tbody tr th:only-of-type {\n",
       "        vertical-align: middle;\n",
       "    }\n",
       "\n",
       "    .dataframe tbody tr th {\n",
       "        vertical-align: top;\n",
       "    }\n",
       "\n",
       "    .dataframe thead th {\n",
       "        text-align: right;\n",
       "    }\n",
       "</style>\n",
       "<table border=\"1\" class=\"dataframe\">\n",
       "  <thead>\n",
       "    <tr style=\"text-align: right;\">\n",
       "      <th></th>\n",
       "      <th>C0 Pred</th>\n",
       "      <th>C1 Pred</th>\n",
       "      <th>C2 Pred</th>\n",
       "    </tr>\n",
       "  </thead>\n",
       "  <tbody>\n",
       "    <tr>\n",
       "      <th>C0 True</th>\n",
       "      <td>0.535283</td>\n",
       "      <td>0.072713</td>\n",
       "      <td>0.392004</td>\n",
       "    </tr>\n",
       "    <tr>\n",
       "      <th>C1 True</th>\n",
       "      <td>0.461214</td>\n",
       "      <td>0.076274</td>\n",
       "      <td>0.462512</td>\n",
       "    </tr>\n",
       "    <tr>\n",
       "      <th>C2 True</th>\n",
       "      <td>0.388547</td>\n",
       "      <td>0.074277</td>\n",
       "      <td>0.537176</td>\n",
       "    </tr>\n",
       "  </tbody>\n",
       "</table>\n",
       "</div>"
      ],
      "text/plain": [
       "          C0 Pred   C1 Pred   C2 Pred\n",
       "C0 True  0.535283  0.072713  0.392004\n",
       "C1 True  0.461214  0.076274  0.462512\n",
       "C2 True  0.388547  0.074277  0.537176"
      ]
     },
     "metadata": {},
     "output_type": "display_data"
    }
   ],
   "source": [
    "from IPython.display import display\n",
    "\n",
    "path4 = path_figs+'matrices/'\n",
    "Path(path4).mkdir(exist_ok = True)\n",
    "for name in class_names2:\n",
    "    mat = confusion_matrix(data2, 'C', name, 3, save = True, save_dir = path4)\n",
    "    print(name)\n",
    "    display(mat)"
   ]
  },
  {
   "cell_type": "code",
   "execution_count": 49,
   "metadata": {},
   "outputs": [
    {
     "data": {
      "text/html": [
       "<div>\n",
       "<style scoped>\n",
       "    .dataframe tbody tr th:only-of-type {\n",
       "        vertical-align: middle;\n",
       "    }\n",
       "\n",
       "    .dataframe tbody tr th {\n",
       "        vertical-align: top;\n",
       "    }\n",
       "\n",
       "    .dataframe thead th {\n",
       "        text-align: right;\n",
       "    }\n",
       "</style>\n",
       "<table border=\"1\" class=\"dataframe\">\n",
       "  <thead>\n",
       "    <tr style=\"text-align: right;\">\n",
       "      <th></th>\n",
       "      <th>x0</th>\n",
       "      <th>x1</th>\n",
       "      <th>C</th>\n",
       "      <th>Treatment</th>\n",
       "      <th>Y</th>\n",
       "      <th>Ycf</th>\n",
       "      <th>ITE</th>\n",
       "      <th>IS_TEST</th>\n",
       "      <th>Ycf-GDBR</th>\n",
       "      <th>ITE-GDBR</th>\n",
       "      <th>Box-Cluster</th>\n",
       "      <th>Kmeans-Cluster</th>\n",
       "      <th>ITE-2CTrue</th>\n",
       "      <th>Box-Cl2</th>\n",
       "      <th>Kmeans-Cl2</th>\n",
       "      <th>Box2-Cl2</th>\n",
       "      <th>Kmeans2-Cl2</th>\n",
       "      <th>Box-Cl2-err-GDBR</th>\n",
       "      <th>Kmeans-Cl2-err-GDBR</th>\n",
       "      <th>Box2-Cl2-err-GDBR</th>\n",
       "      <th>Kmeans2-Cl2-err-GDBR</th>\n",
       "      <th>ITE-2CTrue-err-GDBR</th>\n",
       "      <th>ITE-2CGDBR-err-GDBR</th>\n",
       "      <th>Box-Cl2-err-True-ITE</th>\n",
       "      <th>Kmeans-Cl2-err-True-ITE</th>\n",
       "      <th>Box2-Cl2-err-True-ITE</th>\n",
       "      <th>Kmeans2-Cl2-err-True-ITE</th>\n",
       "      <th>ITE-2CTrue-err-True-ITE</th>\n",
       "      <th>ITE-2CGDBR-err-True-ITE</th>\n",
       "    </tr>\n",
       "    <tr>\n",
       "      <th>ITE-2CGDBR</th>\n",
       "      <th></th>\n",
       "      <th></th>\n",
       "      <th></th>\n",
       "      <th></th>\n",
       "      <th></th>\n",
       "      <th></th>\n",
       "      <th></th>\n",
       "      <th></th>\n",
       "      <th></th>\n",
       "      <th></th>\n",
       "      <th></th>\n",
       "      <th></th>\n",
       "      <th></th>\n",
       "      <th></th>\n",
       "      <th></th>\n",
       "      <th></th>\n",
       "      <th></th>\n",
       "      <th></th>\n",
       "      <th></th>\n",
       "      <th></th>\n",
       "      <th></th>\n",
       "      <th></th>\n",
       "      <th></th>\n",
       "      <th></th>\n",
       "      <th></th>\n",
       "      <th></th>\n",
       "      <th></th>\n",
       "      <th></th>\n",
       "      <th></th>\n",
       "    </tr>\n",
       "  </thead>\n",
       "  <tbody>\n",
       "    <tr>\n",
       "      <th>0</th>\n",
       "      <td>0.500013</td>\n",
       "      <td>0.499027</td>\n",
       "      <td>0.892990</td>\n",
       "      <td>0.499740</td>\n",
       "      <td>0.822047</td>\n",
       "      <td>0.856666</td>\n",
       "      <td>-3.066394</td>\n",
       "      <td>0.198937</td>\n",
       "      <td>0.841729</td>\n",
       "      <td>-3.622296</td>\n",
       "      <td>219.553738</td>\n",
       "      <td>218.950106</td>\n",
       "      <td>0.500422</td>\n",
       "      <td>0.877247</td>\n",
       "      <td>0.929945</td>\n",
       "      <td>0.919670</td>\n",
       "      <td>0.917786</td>\n",
       "      <td>0.162841</td>\n",
       "      <td>0.194173</td>\n",
       "      <td>0.167371</td>\n",
       "      <td>0.207467</td>\n",
       "      <td>2.823058</td>\n",
       "      <td>4.515286</td>\n",
       "      <td>0.143350</td>\n",
       "      <td>0.180451</td>\n",
       "      <td>0.191425</td>\n",
       "      <td>0.240438</td>\n",
       "      <td>5.606672</td>\n",
       "      <td>3.959384</td>\n",
       "    </tr>\n",
       "    <tr>\n",
       "      <th>1</th>\n",
       "      <td>0.499150</td>\n",
       "      <td>0.498537</td>\n",
       "      <td>1.005643</td>\n",
       "      <td>0.505946</td>\n",
       "      <td>0.827248</td>\n",
       "      <td>0.857755</td>\n",
       "      <td>0.931507</td>\n",
       "      <td>0.204098</td>\n",
       "      <td>0.816755</td>\n",
       "      <td>0.997093</td>\n",
       "      <td>219.324421</td>\n",
       "      <td>219.523883</td>\n",
       "      <td>0.988512</td>\n",
       "      <td>0.987437</td>\n",
       "      <td>1.044541</td>\n",
       "      <td>1.028888</td>\n",
       "      <td>1.032113</td>\n",
       "      <td>0.163411</td>\n",
       "      <td>0.193091</td>\n",
       "      <td>0.170364</td>\n",
       "      <td>0.211133</td>\n",
       "      <td>2.849688</td>\n",
       "      <td>0.657649</td>\n",
       "      <td>0.142114</td>\n",
       "      <td>0.177873</td>\n",
       "      <td>0.193012</td>\n",
       "      <td>0.241130</td>\n",
       "      <td>5.584804</td>\n",
       "      <td>0.680539</td>\n",
       "    </tr>\n",
       "    <tr>\n",
       "      <th>2</th>\n",
       "      <td>0.499660</td>\n",
       "      <td>0.499768</td>\n",
       "      <td>1.102707</td>\n",
       "      <td>0.503196</td>\n",
       "      <td>0.836357</td>\n",
       "      <td>0.821365</td>\n",
       "      <td>5.089234</td>\n",
       "      <td>0.200401</td>\n",
       "      <td>0.804145</td>\n",
       "      <td>5.615891</td>\n",
       "      <td>219.905325</td>\n",
       "      <td>220.766147</td>\n",
       "      <td>1.499660</td>\n",
       "      <td>1.087614</td>\n",
       "      <td>1.135502</td>\n",
       "      <td>1.131286</td>\n",
       "      <td>1.133238</td>\n",
       "      <td>0.159300</td>\n",
       "      <td>0.188542</td>\n",
       "      <td>0.168058</td>\n",
       "      <td>0.206431</td>\n",
       "      <td>2.817297</td>\n",
       "      <td>4.513184</td>\n",
       "      <td>0.136037</td>\n",
       "      <td>0.170881</td>\n",
       "      <td>0.190411</td>\n",
       "      <td>0.234454</td>\n",
       "      <td>5.610642</td>\n",
       "      <td>3.986527</td>\n",
       "    </tr>\n",
       "  </tbody>\n",
       "</table>\n",
       "</div>"
      ],
      "text/plain": [
       "                  x0        x1         C  Treatment         Y       Ycf  \\\n",
       "ITE-2CGDBR                                                                \n",
       "0           0.500013  0.499027  0.892990   0.499740  0.822047  0.856666   \n",
       "1           0.499150  0.498537  1.005643   0.505946  0.827248  0.857755   \n",
       "2           0.499660  0.499768  1.102707   0.503196  0.836357  0.821365   \n",
       "\n",
       "                 ITE   IS_TEST  Ycf-GDBR  ITE-GDBR  Box-Cluster  \\\n",
       "ITE-2CGDBR                                                        \n",
       "0          -3.066394  0.198937  0.841729 -3.622296   219.553738   \n",
       "1           0.931507  0.204098  0.816755  0.997093   219.324421   \n",
       "2           5.089234  0.200401  0.804145  5.615891   219.905325   \n",
       "\n",
       "            Kmeans-Cluster  ITE-2CTrue   Box-Cl2  Kmeans-Cl2  Box2-Cl2  \\\n",
       "ITE-2CGDBR                                                               \n",
       "0               218.950106    0.500422  0.877247    0.929945  0.919670   \n",
       "1               219.523883    0.988512  0.987437    1.044541  1.028888   \n",
       "2               220.766147    1.499660  1.087614    1.135502  1.131286   \n",
       "\n",
       "            Kmeans2-Cl2  Box-Cl2-err-GDBR  Kmeans-Cl2-err-GDBR  \\\n",
       "ITE-2CGDBR                                                       \n",
       "0              0.917786          0.162841             0.194173   \n",
       "1              1.032113          0.163411             0.193091   \n",
       "2              1.133238          0.159300             0.188542   \n",
       "\n",
       "            Box2-Cl2-err-GDBR  Kmeans2-Cl2-err-GDBR  ITE-2CTrue-err-GDBR  \\\n",
       "ITE-2CGDBR                                                                 \n",
       "0                    0.167371              0.207467             2.823058   \n",
       "1                    0.170364              0.211133             2.849688   \n",
       "2                    0.168058              0.206431             2.817297   \n",
       "\n",
       "            ITE-2CGDBR-err-GDBR  Box-Cl2-err-True-ITE  \\\n",
       "ITE-2CGDBR                                              \n",
       "0                      4.515286              0.143350   \n",
       "1                      0.657649              0.142114   \n",
       "2                      4.513184              0.136037   \n",
       "\n",
       "            Kmeans-Cl2-err-True-ITE  Box2-Cl2-err-True-ITE  \\\n",
       "ITE-2CGDBR                                                   \n",
       "0                          0.180451               0.191425   \n",
       "1                          0.177873               0.193012   \n",
       "2                          0.170881               0.190411   \n",
       "\n",
       "            Kmeans2-Cl2-err-True-ITE  ITE-2CTrue-err-True-ITE  \\\n",
       "ITE-2CGDBR                                                      \n",
       "0                           0.240438                 5.606672   \n",
       "1                           0.241130                 5.584804   \n",
       "2                           0.234454                 5.610642   \n",
       "\n",
       "            ITE-2CGDBR-err-True-ITE  \n",
       "ITE-2CGDBR                           \n",
       "0                          3.959384  \n",
       "1                          0.680539  \n",
       "2                          3.986527  "
      ]
     },
     "execution_count": 49,
     "metadata": {},
     "output_type": "execute_result"
    }
   ],
   "source": [
    "data2.groupby('ITE-2CGDBR').mean()"
   ]
  },
  {
   "cell_type": "code",
   "execution_count": 50,
   "metadata": {},
   "outputs": [
    {
     "data": {
      "text/plain": [
       "(4.246035196685484, 3.227185517871584)"
      ]
     },
     "execution_count": 50,
     "metadata": {},
     "output_type": "execute_result"
    }
   ],
   "source": [
    "np.mean(np.abs(data2['C'] - data2['ITE-GDBR'])), np.std(np.abs(data2['C'] - data2['ITE-GDBR']))"
   ]
  },
  {
   "cell_type": "code",
   "execution_count": null,
   "metadata": {},
   "outputs": [],
   "source": []
  }
 ],
 "metadata": {
  "kernelspec": {
   "display_name": "Python [conda env:jorje]",
   "language": "python",
   "name": "conda-env-jorje-py"
  },
  "language_info": {
   "codemirror_mode": {
    "name": "ipython",
    "version": 3
   },
   "file_extension": ".py",
   "mimetype": "text/x-python",
   "name": "python",
   "nbconvert_exporter": "python",
   "pygments_lexer": "ipython3",
   "version": "3.7.2"
  }
 },
 "nbformat": 4,
 "nbformat_minor": 2
}
