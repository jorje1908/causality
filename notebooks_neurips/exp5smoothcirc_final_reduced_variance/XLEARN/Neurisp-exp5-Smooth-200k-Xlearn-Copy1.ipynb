{
 "cells": [
  {
   "cell_type": "code",
   "execution_count": 1,
   "metadata": {},
   "outputs": [],
   "source": [
    "%load_ext autoreload\n",
    "%autoreload 2\n"
   ]
  },
  {
   "cell_type": "code",
   "execution_count": 2,
   "metadata": {},
   "outputs": [],
   "source": [
    "import numpy as np\n",
    "import pandas as pd\n",
    "import matplotlib.pyplot as plt\n",
    "import seaborn as sns\n",
    "import matplotlib as mpl\n",
    "\n",
    "from sklearn.cluster import KMeans \n",
    "from sklearn.cluster import SpectralClustering\n",
    "from sklearn.cluster import AgglomerativeClustering\n",
    "from pathlib import Path"
   ]
  },
  {
   "cell_type": "code",
   "execution_count": 3,
   "metadata": {},
   "outputs": [],
   "source": [
    "import sys\n",
    "\n",
    "sys.path.append('../../../src')\n",
    "\n"
   ]
  },
  {
   "cell_type": "code",
   "execution_count": 4,
   "metadata": {},
   "outputs": [],
   "source": [
    "from base_exp_gen import generate_experiment as GEN_EXP\n",
    "from clustering_algos import agglomerative_clustering, kmeans_clustering, box_clustering\n",
    "from sklearn.model_selection import train_test_split as datasplit\n",
    "from sklearn.ensemble import GradientBoostingRegressor as GDBR\n",
    "from evaluations import computeATT_per_cluster as ATTC, predict_cf, calculate_ite, get_homogeneity, generate_paths,\\\n",
    "confusion_matrix\n",
    "\n"
   ]
  },
  {
   "cell_type": "code",
   "execution_count": 5,
   "metadata": {},
   "outputs": [],
   "source": [
    "np.random.seed(seed = 0)"
   ]
  },
  {
   "cell_type": "code",
   "execution_count": 6,
   "metadata": {},
   "outputs": [],
   "source": [
    "fonts = {'family': 'cmr10','weight': 'normal',\n",
    "            'size': 20}    \n",
    "div = 1\n",
    "\n",
    "l1 = 22/div\n",
    "l2 = 20/div\n",
    "l3 = 13/(div-0.2)\n",
    "\n",
    "mpl.rcParams['xtick.labelsize'] = l2\n",
    "mpl.rcParams['ytick.labelsize'] = l2\n",
    "mpl.rcParams['axes.labelsize'] = l1\n",
    "mpl.rcParams['font.serif'] = 'Times New Roman'\n",
    "mpl.rcParams['font.weight'] = 'normal'\n",
    "mpl.rcParams['font.size'] = 20\n",
    "mpl.rcParams['legend.fontsize'] = l3\n",
    "\n",
    "#axes_font = {'labelsize':l1}\n",
    "#mpl.rc('font', **font)\n",
    "#xticks = {'labelsize':l2}# 'ytick.labelsize':20}\n",
    "#yticks = {'labelsize':l2}# 'ytick.labelsize':20}\n",
    "#legend = {'fontsize':l3}\n",
    "# tex = {'usetex':True}\n",
    "#mpl.rc('axes', **axes_font)\n",
    "#mpl.rc('xtick', **xticks)\n",
    "#mpl.rc('ytick', **yticks)\n",
    "#mpl.rc('font', **fonts)\n",
    "#mpl.rc('legend', **legend)"
   ]
  },
  {
   "cell_type": "code",
   "execution_count": null,
   "metadata": {},
   "outputs": [],
   "source": []
  },
  {
   "cell_type": "code",
   "execution_count": 7,
   "metadata": {},
   "outputs": [
    {
     "name": "stdout",
     "output_type": "stream",
     "text": [
      "20.0\n"
     ]
    }
   ],
   "source": [
    "print(mpl.rcParams['xtick.labelsize'])"
   ]
  },
  {
   "cell_type": "code",
   "execution_count": 8,
   "metadata": {},
   "outputs": [],
   "source": [
    "pd.set_option(\"display.max_columns\", None)\n"
   ]
  },
  {
   "cell_type": "markdown",
   "metadata": {},
   "source": [
    "### Generate Experiment"
   ]
  },
  {
   "cell_type": "code",
   "execution_count": 9,
   "metadata": {},
   "outputs": [
    {
     "name": "stdout",
     "output_type": "stream",
     "text": [
      "CPU times: user 242 µs, sys: 145 µs, total: 387 µs\n",
      "Wall time: 629 µs\n"
     ]
    }
   ],
   "source": [
    "%%time\n",
    "path_figs = './figs/200kX/'\n",
    "save = True\n",
    "Path(path_figs).mkdir(exist_ok = True, parents = True)\n"
   ]
  },
  {
   "cell_type": "code",
   "execution_count": 10,
   "metadata": {},
   "outputs": [
    {
     "name": "stdout",
     "output_type": "stream",
     "text": [
      "Number of Clusters:441, Number of Points:200000\n",
      "CPU times: user 208 ms, sys: 53.7 ms, total: 262 ms\n",
      "Wall time: 273 ms\n"
     ]
    }
   ],
   "source": [
    "%%time\n",
    "\n",
    "N,D = 2*10**5, 2\n",
    "x = int((N)**(1/4))\n",
    "clusters = x**2\n",
    "print(\"Number of Clusters:{}, Number of Points:{}\".format(clusters, N))\n",
    "kw_generate =  {'N':N, 'D':D,'f_gen_name': 'uniform_gen','low':0, 'high': 1}\n",
    "centers = [[0.25,0.25],[0.5,0.5],[0.75,0.75],[0.75,0.25], [0.25,0.75]]\n",
    "r_small = [0.122]*5\n",
    "r_big = [0.2,0.2,0.2, 0.2,0.2]\n",
    "kw_cluster =  {'f_class_name':'circle_class3', 'centers': centers, 'r_small': r_small, 'r_big':r_big}\n",
    "kw_treatment = {'f_treat_name' :'uniform_treat','choices':[0,1], 'probabilities':[0.5,0.5]}\n",
    "\n",
    "std = 2\n",
    "stats = np.array([[1, std], [0, std], [0, std], [0, std],[0, std],\n",
    "                  [0, std],[1, std],[1, std],[2, std],[3, std],[4, std],[5, std]])\n",
    "kw_outcome = {'f_outcome_name': 'outcome1','treatment':'Treatment', 'cls':'C', 'stats':stats}\n",
    "\n",
    "data = GEN_EXP(kw_generate, kw_cluster, kw_treatment, kw_outcome).dat\n",
    "data = calculate_ite(data.copy(), treatment = 'Treatment',\n",
    "                     counterfactual = 'Ycf', outcome = 'Y', ite_name = 'ITE')"
   ]
  },
  {
   "cell_type": "code",
   "execution_count": 11,
   "metadata": {},
   "outputs": [
    {
     "data": {
      "text/html": [
       "<div>\n",
       "<style scoped>\n",
       "    .dataframe tbody tr th:only-of-type {\n",
       "        vertical-align: middle;\n",
       "    }\n",
       "\n",
       "    .dataframe tbody tr th {\n",
       "        vertical-align: top;\n",
       "    }\n",
       "\n",
       "    .dataframe thead th {\n",
       "        text-align: right;\n",
       "    }\n",
       "</style>\n",
       "<table border=\"1\" class=\"dataframe\">\n",
       "  <thead>\n",
       "    <tr style=\"text-align: right;\">\n",
       "      <th></th>\n",
       "      <th>x0</th>\n",
       "      <th>x1</th>\n",
       "      <th>C</th>\n",
       "      <th>Treatment</th>\n",
       "      <th>Y</th>\n",
       "      <th>Ycf</th>\n",
       "      <th>ITE</th>\n",
       "    </tr>\n",
       "  </thead>\n",
       "  <tbody>\n",
       "    <tr>\n",
       "      <th>0</th>\n",
       "      <td>0.548814</td>\n",
       "      <td>0.715189</td>\n",
       "      <td>0</td>\n",
       "      <td>0</td>\n",
       "      <td>2.867530</td>\n",
       "      <td>0.508965</td>\n",
       "      <td>-2.358565</td>\n",
       "    </tr>\n",
       "    <tr>\n",
       "      <th>1</th>\n",
       "      <td>0.602763</td>\n",
       "      <td>0.544883</td>\n",
       "      <td>0</td>\n",
       "      <td>1</td>\n",
       "      <td>2.046206</td>\n",
       "      <td>-1.220069</td>\n",
       "      <td>3.266275</td>\n",
       "    </tr>\n",
       "    <tr>\n",
       "      <th>2</th>\n",
       "      <td>0.423655</td>\n",
       "      <td>0.645894</td>\n",
       "      <td>2</td>\n",
       "      <td>0</td>\n",
       "      <td>-3.383970</td>\n",
       "      <td>-1.180936</td>\n",
       "      <td>2.203034</td>\n",
       "    </tr>\n",
       "    <tr>\n",
       "      <th>3</th>\n",
       "      <td>0.437587</td>\n",
       "      <td>0.891773</td>\n",
       "      <td>0</td>\n",
       "      <td>1</td>\n",
       "      <td>1.815232</td>\n",
       "      <td>-0.916623</td>\n",
       "      <td>2.731856</td>\n",
       "    </tr>\n",
       "    <tr>\n",
       "      <th>4</th>\n",
       "      <td>0.963663</td>\n",
       "      <td>0.383442</td>\n",
       "      <td>0</td>\n",
       "      <td>0</td>\n",
       "      <td>-1.854732</td>\n",
       "      <td>1.831724</td>\n",
       "      <td>3.686456</td>\n",
       "    </tr>\n",
       "  </tbody>\n",
       "</table>\n",
       "</div>"
      ],
      "text/plain": [
       "         x0        x1  C  Treatment         Y       Ycf       ITE\n",
       "0  0.548814  0.715189  0          0  2.867530  0.508965 -2.358565\n",
       "1  0.602763  0.544883  0          1  2.046206 -1.220069  3.266275\n",
       "2  0.423655  0.645894  2          0 -3.383970 -1.180936  2.203034\n",
       "3  0.437587  0.891773  0          1  1.815232 -0.916623  2.731856\n",
       "4  0.963663  0.383442  0          0 -1.854732  1.831724  3.686456"
      ]
     },
     "execution_count": 11,
     "metadata": {},
     "output_type": "execute_result"
    }
   ],
   "source": [
    "data.head(5)"
   ]
  },
  {
   "cell_type": "code",
   "execution_count": 12,
   "metadata": {},
   "outputs": [
    {
     "data": {
      "text/html": [
       "<div>\n",
       "<style scoped>\n",
       "    .dataframe tbody tr th:only-of-type {\n",
       "        vertical-align: middle;\n",
       "    }\n",
       "\n",
       "    .dataframe tbody tr th {\n",
       "        vertical-align: top;\n",
       "    }\n",
       "\n",
       "    .dataframe thead th {\n",
       "        text-align: right;\n",
       "    }\n",
       "</style>\n",
       "<table border=\"1\" class=\"dataframe\">\n",
       "  <thead>\n",
       "    <tr style=\"text-align: right;\">\n",
       "      <th></th>\n",
       "      <th>x0</th>\n",
       "      <th>x1</th>\n",
       "      <th>C</th>\n",
       "      <th>Treatment</th>\n",
       "      <th>Y</th>\n",
       "      <th>Ycf</th>\n",
       "      <th>ITE</th>\n",
       "    </tr>\n",
       "  </thead>\n",
       "  <tbody>\n",
       "    <tr>\n",
       "      <th>count</th>\n",
       "      <td>200000.000000</td>\n",
       "      <td>200000.000000</td>\n",
       "      <td>200000.000000</td>\n",
       "      <td>200000.000000</td>\n",
       "      <td>200000.000000</td>\n",
       "      <td>200000.000000</td>\n",
       "      <td>200000.000000</td>\n",
       "    </tr>\n",
       "    <tr>\n",
       "      <th>mean</th>\n",
       "      <td>0.499785</td>\n",
       "      <td>0.499334</td>\n",
       "      <td>1.138110</td>\n",
       "      <td>0.501805</td>\n",
       "      <td>1.197812</td>\n",
       "      <td>1.201332</td>\n",
       "      <td>1.138916</td>\n",
       "    </tr>\n",
       "    <tr>\n",
       "      <th>std</th>\n",
       "      <td>0.288533</td>\n",
       "      <td>0.289177</td>\n",
       "      <td>1.717574</td>\n",
       "      <td>0.499998</td>\n",
       "      <td>2.308793</td>\n",
       "      <td>2.304341</td>\n",
       "      <td>3.307586</td>\n",
       "    </tr>\n",
       "    <tr>\n",
       "      <th>min</th>\n",
       "      <td>0.000003</td>\n",
       "      <td>0.000003</td>\n",
       "      <td>0.000000</td>\n",
       "      <td>0.000000</td>\n",
       "      <td>-9.004597</td>\n",
       "      <td>-8.750683</td>\n",
       "      <td>-11.960839</td>\n",
       "    </tr>\n",
       "    <tr>\n",
       "      <th>25%</th>\n",
       "      <td>0.249671</td>\n",
       "      <td>0.247699</td>\n",
       "      <td>0.000000</td>\n",
       "      <td>0.000000</td>\n",
       "      <td>-0.370632</td>\n",
       "      <td>-0.362303</td>\n",
       "      <td>-1.133693</td>\n",
       "    </tr>\n",
       "    <tr>\n",
       "      <th>50%</th>\n",
       "      <td>0.501024</td>\n",
       "      <td>0.498865</td>\n",
       "      <td>0.000000</td>\n",
       "      <td>1.000000</td>\n",
       "      <td>1.118930</td>\n",
       "      <td>1.111785</td>\n",
       "      <td>1.024670</td>\n",
       "    </tr>\n",
       "    <tr>\n",
       "      <th>75%</th>\n",
       "      <td>0.749132</td>\n",
       "      <td>0.750450</td>\n",
       "      <td>2.000000</td>\n",
       "      <td>1.000000</td>\n",
       "      <td>2.657538</td>\n",
       "      <td>2.658932</td>\n",
       "      <td>3.310581</td>\n",
       "    </tr>\n",
       "    <tr>\n",
       "      <th>max</th>\n",
       "      <td>0.999990</td>\n",
       "      <td>0.999999</td>\n",
       "      <td>5.000000</td>\n",
       "      <td>1.000000</td>\n",
       "      <td>13.559025</td>\n",
       "      <td>11.830197</td>\n",
       "      <td>15.698404</td>\n",
       "    </tr>\n",
       "  </tbody>\n",
       "</table>\n",
       "</div>"
      ],
      "text/plain": [
       "                  x0             x1              C      Treatment  \\\n",
       "count  200000.000000  200000.000000  200000.000000  200000.000000   \n",
       "mean        0.499785       0.499334       1.138110       0.501805   \n",
       "std         0.288533       0.289177       1.717574       0.499998   \n",
       "min         0.000003       0.000003       0.000000       0.000000   \n",
       "25%         0.249671       0.247699       0.000000       0.000000   \n",
       "50%         0.501024       0.498865       0.000000       1.000000   \n",
       "75%         0.749132       0.750450       2.000000       1.000000   \n",
       "max         0.999990       0.999999       5.000000       1.000000   \n",
       "\n",
       "                   Y            Ycf            ITE  \n",
       "count  200000.000000  200000.000000  200000.000000  \n",
       "mean        1.197812       1.201332       1.138916  \n",
       "std         2.308793       2.304341       3.307586  \n",
       "min        -9.004597      -8.750683     -11.960839  \n",
       "25%        -0.370632      -0.362303      -1.133693  \n",
       "50%         1.118930       1.111785       1.024670  \n",
       "75%         2.657538       2.658932       3.310581  \n",
       "max        13.559025      11.830197      15.698404  "
      ]
     },
     "execution_count": 12,
     "metadata": {},
     "output_type": "execute_result"
    }
   ],
   "source": [
    "data.describe()"
   ]
  },
  {
   "cell_type": "code",
   "execution_count": 13,
   "metadata": {},
   "outputs": [],
   "source": [
    "#mpl.style.use(['seaborn-paper'])\n",
    "#mpl.rcParams.update(mpl.rcParamsDefault)\n"
   ]
  },
  {
   "cell_type": "code",
   "execution_count": 14,
   "metadata": {},
   "outputs": [
    {
     "data": {
      "image/png": "[encoded data removed]",
      "text/plain": [
       "<Figure size 432x288 with 1 Axes>"
      ]
     },
     "metadata": {
      "needs_background": "light"
     },
     "output_type": "display_data"
    }
   ],
   "source": [
    "fig, ax = plt.subplots()\n",
    "\n",
    "ax.scatter(data['x0'].values, data['x1'].values, c=data['C'].values, cmap = 'Greys', s=0.1)\n",
    "\n",
    "if save:\n",
    "    fig.savefig(path_figs+'data.jpeg',bbox_inches='tight', pad_inches = 0)\n",
    "\n",
    "plt.show()"
   ]
  },
  {
   "cell_type": "code",
   "execution_count": 15,
   "metadata": {},
   "outputs": [
    {
     "name": "stderr",
     "output_type": "stream",
     "text": [
      "/home/mavrog2/.conda/envs/jorje/lib/python3.7/site-packages/statsmodels/compat/pandas.py:49: FutureWarning: The Panel class is removed from pandas. Accessing it from the top-level namespace will also be removed in the next version\n",
      "  data_klasses = (pandas.Series, pandas.DataFrame, pandas.Panel)\n"
     ]
    }
   ],
   "source": [
    "from econml.metalearners import XLearner as XL\n",
    "from sklearn.ensemble import RandomForestClassifier as RF"
   ]
  },
  {
   "cell_type": "markdown",
   "metadata": {},
   "source": [
    "### Train X learner to directly calculate effect\n",
    "#### Use gradient boosting trees for estimation models and  loistic Regression for Rest"
   ]
  },
  {
   "cell_type": "code",
   "execution_count": 16,
   "metadata": {},
   "outputs": [
    {
     "name": "stdout",
     "output_type": "stream",
     "text": [
      "CPU times: user 17min 48s, sys: 715 ms, total: 17min 49s\n",
      "Wall time: 18min\n"
     ]
    }
   ],
   "source": [
    "%%time\n",
    "f1_kwargs = {'n_estimators':400, 'max_depth':18}\n",
    "f2_kwargs = {'n_estimators':400, 'max_depth':18}\n",
    "\n",
    "m0 = GDBR(**f1_kwargs)\n",
    "m1 = GDBR(**f1_kwargs)\n",
    "t0 = GDBR(**f1_kwargs)\n",
    "t1 = GDBR(**f1_kwargs)\n",
    "\n",
    "model = XL((m0,m1), (t0,t1), categories=[0,1])\n",
    "xml = model.fit(data.Y, data.Treatment, X = data[['x0','x1']])"
   ]
  },
  {
   "cell_type": "markdown",
   "metadata": {},
   "source": [
    "### Get Xlearner Effects and add it as a column to the data"
   ]
  },
  {
   "cell_type": "code",
   "execution_count": 17,
   "metadata": {},
   "outputs": [
    {
     "name": "stdout",
     "output_type": "stream",
     "text": [
      "-8.230330053121564 9.907399190478923\n"
     ]
    }
   ],
   "source": [
    "data['ITE-XML'] = xml.effect(data[['x0','x1']])\n",
    "print(data['ITE-XML'].min(), data['ITE-XML'].max())"
   ]
  },
  {
   "cell_type": "markdown",
   "metadata": {},
   "source": [
    "### Xlearner Effect histogram "
   ]
  },
  {
   "cell_type": "code",
   "execution_count": 18,
   "metadata": {},
   "outputs": [
    {
     "name": "stderr",
     "output_type": "stream",
     "text": [
      "/home/mavrog2/.conda/envs/jorje/lib/python3.7/site-packages/seaborn/distributions.py:2619: FutureWarning: `distplot` is a deprecated function and will be removed in a future version. Please adapt your code to use either `displot` (a figure-level function with similar flexibility) or `histplot` (an axes-level function for histograms).\n",
      "  warnings.warn(msg, FutureWarning)\n"
     ]
    },
    {
     "data": {
      "image/png": "[encoded data removed]",
      "text/plain": [
       "<Figure size 432x288 with 1 Axes>"
      ]
     },
     "metadata": {
      "needs_background": "light"
     },
     "output_type": "display_data"
    }
   ],
   "source": [
    "path2 = path_figs+'histograms/'\n",
    "Path(path2).mkdir(exist_ok = True)\n",
    "\n",
    "\n",
    "fig, ax = plt.subplots()\n",
    "\n",
    "bins = 400\n",
    "ax = sns.distplot(data['ITE-XML'],  bins=bins, kde = False,ax = ax)\n",
    "ax.set_xlabel('ITE-XLEARNER')\n",
    "\n",
    "ax.set_xlim(-7,7)\n",
    "if save:\n",
    "    fig.savefig(path2+'xlearnhist.pdf', bbox_inches='tight',pad_inches = 0)"
   ]
  },
  {
   "cell_type": "markdown",
   "metadata": {},
   "source": [
    "### 3Clustering of Xlearner effects"
   ]
  },
  {
   "cell_type": "code",
   "execution_count": 19,
   "metadata": {},
   "outputs": [],
   "source": [
    "cluster_name = 'ITE-XML-3Clust'\n",
    "col = 'ITE-XML'\n",
    "filt11 = data[col] <= 0.5\n",
    "filt21 = data[col] >= 0.5\n",
    "filt31 = data[col] >= 1.5\n",
    "filt41 = data[col] >= 2.5\n",
    "filt51 = data[col] >= 3.5\n",
    "filt61 = data[col] >= 4.5\n",
    "\n",
    "data[cluster_name] = 0\n",
    "data.loc[filt11,cluster_name] = 0\n",
    "data.loc[filt21, cluster_name] = 1\n",
    "data.loc[filt31, cluster_name] = 2\n",
    "data.loc[filt41,cluster_name] = 3\n",
    "data.loc[filt51, cluster_name] = 4\n",
    "data.loc[filt61, cluster_name] = 5\n",
    "\n",
    "#data,_ = kmeans_clustering(data, clusters = 3, cluster_name = 'ITE-XML-3Clust',col_select = ['ITE-XML'] )"
   ]
  },
  {
   "cell_type": "code",
   "execution_count": 20,
   "metadata": {},
   "outputs": [
    {
     "data": {
      "image/png": "[encoded data removed]",
      "text/plain": [
       "<Figure size 432x288 with 1 Axes>"
      ]
     },
     "metadata": {
      "needs_background": "light"
     },
     "output_type": "display_data"
    }
   ],
   "source": [
    "path3 = path_figs+'reconstruction/'\n",
    "Path(path3).mkdir(exist_ok = True, parents = True)\n",
    "\n",
    "fig, ax = plt.subplots()\n",
    "\n",
    "sc = ax.scatter(data['x0'].values, data['x1'].values, c=data['ITE-XML-3Clust'], cmap = 'Greys', s = 1)\n",
    "if save:\n",
    "        ax.set_aspect('equal', adjustable='box')\n",
    "        fig.savefig(path3+'{}.jpeg'.format('ITE-XML-3Clust'), bbox_inches='tight',pad_inches = 0)"
   ]
  },
  {
   "cell_type": "markdown",
   "metadata": {},
   "source": [
    "### Xlearner 6Clustering mean absolute error versu eligibility"
   ]
  },
  {
   "cell_type": "code",
   "execution_count": 21,
   "metadata": {},
   "outputs": [],
   "source": [
    "def MAE_pd(group, name1,name2,column_name):\n",
    "    \n",
    "    group[column_name] = np.abs(group[name1].values-group[name2].mean())\n",
    "    return group"
   ]
  },
  {
   "cell_type": "code",
   "execution_count": 22,
   "metadata": {},
   "outputs": [],
   "source": [
    "ite_column = 'ITE-XML'\n",
    "clust2 = 'ITE-XML-3Clust'\n",
    "data = data.groupby(clust2).apply(lambda x: MAE_pd(x, 'C', ite_column, clust2+'-err-GDBR'))"
   ]
  },
  {
   "cell_type": "code",
   "execution_count": 23,
   "metadata": {},
   "outputs": [],
   "source": [
    "errors = data.describe().loc[['mean', 'std'], [col for col in data.columns if 'err' in col]].T"
   ]
  },
  {
   "cell_type": "code",
   "execution_count": 24,
   "metadata": {},
   "outputs": [
    {
     "data": {
      "text/html": [
       "<div>\n",
       "<style scoped>\n",
       "    .dataframe tbody tr th:only-of-type {\n",
       "        vertical-align: middle;\n",
       "    }\n",
       "\n",
       "    .dataframe tbody tr th {\n",
       "        vertical-align: top;\n",
       "    }\n",
       "\n",
       "    .dataframe thead th {\n",
       "        text-align: right;\n",
       "    }\n",
       "</style>\n",
       "<table border=\"1\" class=\"dataframe\">\n",
       "  <thead>\n",
       "    <tr style=\"text-align: right;\">\n",
       "      <th></th>\n",
       "      <th>mean</th>\n",
       "      <th>std</th>\n",
       "    </tr>\n",
       "  </thead>\n",
       "  <tbody>\n",
       "    <tr>\n",
       "      <th>ITE-XML-3Clust-err-GDBR</th>\n",
       "      <td>0.718579</td>\n",
       "      <td>0.64103</td>\n",
       "    </tr>\n",
       "  </tbody>\n",
       "</table>\n",
       "</div>"
      ],
      "text/plain": [
       "                             mean      std\n",
       "ITE-XML-3Clust-err-GDBR  0.718579  0.64103"
      ]
     },
     "execution_count": 24,
     "metadata": {},
     "output_type": "execute_result"
    }
   ],
   "source": [
    "errors"
   ]
  },
  {
   "cell_type": "code",
   "execution_count": 25,
   "metadata": {},
   "outputs": [
    {
     "data": {
      "text/html": [
       "<div>\n",
       "<style scoped>\n",
       "    .dataframe tbody tr th:only-of-type {\n",
       "        vertical-align: middle;\n",
       "    }\n",
       "\n",
       "    .dataframe tbody tr th {\n",
       "        vertical-align: top;\n",
       "    }\n",
       "\n",
       "    .dataframe thead th {\n",
       "        text-align: right;\n",
       "    }\n",
       "</style>\n",
       "<table border=\"1\" class=\"dataframe\">\n",
       "  <thead>\n",
       "    <tr style=\"text-align: right;\">\n",
       "      <th></th>\n",
       "      <th>C0 Pred</th>\n",
       "      <th>C1 Pred</th>\n",
       "      <th>C2 Pred</th>\n",
       "      <th>C3 Pred</th>\n",
       "      <th>C4 Pred</th>\n",
       "      <th>C5 Pred</th>\n",
       "    </tr>\n",
       "  </thead>\n",
       "  <tbody>\n",
       "    <tr>\n",
       "      <th>C0 True</th>\n",
       "      <td>0.684897</td>\n",
       "      <td>0.228439</td>\n",
       "      <td>0.066683</td>\n",
       "      <td>0.015803</td>\n",
       "      <td>0.003312</td>\n",
       "      <td>0.000866</td>\n",
       "    </tr>\n",
       "    <tr>\n",
       "      <th>C1 True</th>\n",
       "      <td>0.292220</td>\n",
       "      <td>0.477365</td>\n",
       "      <td>0.191719</td>\n",
       "      <td>0.032800</td>\n",
       "      <td>0.005218</td>\n",
       "      <td>0.000678</td>\n",
       "    </tr>\n",
       "    <tr>\n",
       "      <th>C2 True</th>\n",
       "      <td>0.073509</td>\n",
       "      <td>0.233581</td>\n",
       "      <td>0.437546</td>\n",
       "      <td>0.197357</td>\n",
       "      <td>0.047075</td>\n",
       "      <td>0.010933</td>\n",
       "    </tr>\n",
       "    <tr>\n",
       "      <th>C3 True</th>\n",
       "      <td>0.014725</td>\n",
       "      <td>0.062723</td>\n",
       "      <td>0.236741</td>\n",
       "      <td>0.431731</td>\n",
       "      <td>0.204169</td>\n",
       "      <td>0.049911</td>\n",
       "    </tr>\n",
       "    <tr>\n",
       "      <th>C4 True</th>\n",
       "      <td>0.007506</td>\n",
       "      <td>0.021621</td>\n",
       "      <td>0.077436</td>\n",
       "      <td>0.270289</td>\n",
       "      <td>0.430230</td>\n",
       "      <td>0.192917</td>\n",
       "    </tr>\n",
       "    <tr>\n",
       "      <th>C5 True</th>\n",
       "      <td>0.003230</td>\n",
       "      <td>0.010704</td>\n",
       "      <td>0.024512</td>\n",
       "      <td>0.079174</td>\n",
       "      <td>0.223841</td>\n",
       "      <td>0.658538</td>\n",
       "    </tr>\n",
       "  </tbody>\n",
       "</table>\n",
       "</div>"
      ],
      "text/plain": [
       "          C0 Pred   C1 Pred   C2 Pred   C3 Pred   C4 Pred   C5 Pred\n",
       "C0 True  0.684897  0.228439  0.066683  0.015803  0.003312  0.000866\n",
       "C1 True  0.292220  0.477365  0.191719  0.032800  0.005218  0.000678\n",
       "C2 True  0.073509  0.233581  0.437546  0.197357  0.047075  0.010933\n",
       "C3 True  0.014725  0.062723  0.236741  0.431731  0.204169  0.049911\n",
       "C4 True  0.007506  0.021621  0.077436  0.270289  0.430230  0.192917\n",
       "C5 True  0.003230  0.010704  0.024512  0.079174  0.223841  0.658538"
      ]
     },
     "metadata": {},
     "output_type": "display_data"
    }
   ],
   "source": [
    "from IPython.display import display\n",
    "\n",
    "path4 = path_figs+'matrices/'\n",
    "Path(path4).mkdir(exist_ok = True)\n",
    "\n",
    "mat = confusion_matrix(data, 'C', 'ITE-XML-3Clust', 6, save = save, save_dir = path4)\n",
    "display(mat)"
   ]
  },
  {
   "cell_type": "code",
   "execution_count": 26,
   "metadata": {},
   "outputs": [
    {
     "data": {
      "text/html": [
       "<div>\n",
       "<style scoped>\n",
       "    .dataframe tbody tr th:only-of-type {\n",
       "        vertical-align: middle;\n",
       "    }\n",
       "\n",
       "    .dataframe tbody tr th {\n",
       "        vertical-align: top;\n",
       "    }\n",
       "\n",
       "    .dataframe thead th {\n",
       "        text-align: right;\n",
       "    }\n",
       "</style>\n",
       "<table border=\"1\" class=\"dataframe\">\n",
       "  <thead>\n",
       "    <tr style=\"text-align: right;\">\n",
       "      <th></th>\n",
       "      <th>x0</th>\n",
       "      <th>x1</th>\n",
       "      <th>C</th>\n",
       "      <th>Treatment</th>\n",
       "      <th>Y</th>\n",
       "      <th>Ycf</th>\n",
       "      <th>ITE</th>\n",
       "      <th>ITE-XML</th>\n",
       "      <th>ITE-XML-3Clust-err-GDBR</th>\n",
       "    </tr>\n",
       "    <tr>\n",
       "      <th>ITE-XML-3Clust</th>\n",
       "      <th></th>\n",
       "      <th></th>\n",
       "      <th></th>\n",
       "      <th></th>\n",
       "      <th></th>\n",
       "      <th></th>\n",
       "      <th></th>\n",
       "      <th></th>\n",
       "      <th></th>\n",
       "    </tr>\n",
       "  </thead>\n",
       "  <tbody>\n",
       "    <tr>\n",
       "      <th>0</th>\n",
       "      <td>0.485179</td>\n",
       "      <td>0.483864</td>\n",
       "      <td>0.081975</td>\n",
       "      <td>0.503086</td>\n",
       "      <td>0.968318</td>\n",
       "      <td>0.985572</td>\n",
       "      <td>-0.699286</td>\n",
       "      <td>-0.414836</td>\n",
       "      <td>0.496811</td>\n",
       "    </tr>\n",
       "    <tr>\n",
       "      <th>1</th>\n",
       "      <td>0.463792</td>\n",
       "      <td>0.457488</td>\n",
       "      <td>0.446057</td>\n",
       "      <td>0.500386</td>\n",
       "      <td>0.946487</td>\n",
       "      <td>0.947229</td>\n",
       "      <td>1.170545</td>\n",
       "      <td>0.941715</td>\n",
       "      <td>0.853314</td>\n",
       "    </tr>\n",
       "    <tr>\n",
       "      <th>2</th>\n",
       "      <td>0.524842</td>\n",
       "      <td>0.501934</td>\n",
       "      <td>1.436726</td>\n",
       "      <td>0.500617</td>\n",
       "      <td>1.112203</td>\n",
       "      <td>1.117781</td>\n",
       "      <td>2.150360</td>\n",
       "      <td>1.962859</td>\n",
       "      <td>1.228085</td>\n",
       "    </tr>\n",
       "    <tr>\n",
       "      <th>3</th>\n",
       "      <td>0.632618</td>\n",
       "      <td>0.551280</td>\n",
       "      <td>2.845642</td>\n",
       "      <td>0.498570</td>\n",
       "      <td>1.524700</td>\n",
       "      <td>1.520806</td>\n",
       "      <td>3.102539</td>\n",
       "      <td>2.992650</td>\n",
       "      <td>0.941326</td>\n",
       "    </tr>\n",
       "    <tr>\n",
       "      <th>4</th>\n",
       "      <td>0.606275</td>\n",
       "      <td>0.506220</td>\n",
       "      <td>3.812457</td>\n",
       "      <td>0.502618</td>\n",
       "      <td>1.915837</td>\n",
       "      <td>1.935074</td>\n",
       "      <td>4.218297</td>\n",
       "      <td>3.966576</td>\n",
       "      <td>0.688260</td>\n",
       "    </tr>\n",
       "    <tr>\n",
       "      <th>5</th>\n",
       "      <td>0.390207</td>\n",
       "      <td>0.641655</td>\n",
       "      <td>4.614958</td>\n",
       "      <td>0.502424</td>\n",
       "      <td>2.377069</td>\n",
       "      <td>2.290826</td>\n",
       "      <td>5.786057</td>\n",
       "      <td>5.363145</td>\n",
       "      <td>0.748186</td>\n",
       "    </tr>\n",
       "  </tbody>\n",
       "</table>\n",
       "</div>"
      ],
      "text/plain": [
       "                      x0        x1         C  Treatment         Y       Ycf  \\\n",
       "ITE-XML-3Clust                                                                \n",
       "0               0.485179  0.483864  0.081975   0.503086  0.968318  0.985572   \n",
       "1               0.463792  0.457488  0.446057   0.500386  0.946487  0.947229   \n",
       "2               0.524842  0.501934  1.436726   0.500617  1.112203  1.117781   \n",
       "3               0.632618  0.551280  2.845642   0.498570  1.524700  1.520806   \n",
       "4               0.606275  0.506220  3.812457   0.502618  1.915837  1.935074   \n",
       "5               0.390207  0.641655  4.614958   0.502424  2.377069  2.290826   \n",
       "\n",
       "                     ITE   ITE-XML  ITE-XML-3Clust-err-GDBR  \n",
       "ITE-XML-3Clust                                               \n",
       "0              -0.699286 -0.414836                 0.496811  \n",
       "1               1.170545  0.941715                 0.853314  \n",
       "2               2.150360  1.962859                 1.228085  \n",
       "3               3.102539  2.992650                 0.941326  \n",
       "4               4.218297  3.966576                 0.688260  \n",
       "5               5.786057  5.363145                 0.748186  "
      ]
     },
     "execution_count": 26,
     "metadata": {},
     "output_type": "execute_result"
    }
   ],
   "source": [
    "data.groupby('ITE-XML-3Clust').mean()"
   ]
  },
  {
   "cell_type": "code",
   "execution_count": 27,
   "metadata": {},
   "outputs": [
    {
     "data": {
      "text/plain": [
       "(0.7939419815916008, 0.7114796932746187)"
      ]
     },
     "execution_count": 27,
     "metadata": {},
     "output_type": "execute_result"
    }
   ],
   "source": [
    "np.mean(np.abs(data['C'] - data['ITE-XML'])), np.std(np.abs(data['C'] - data['ITE-XML']))"
   ]
  },
  {
   "cell_type": "code",
   "execution_count": null,
   "metadata": {},
   "outputs": [],
   "source": []
  }
 ],
 "metadata": {
  "kernelspec": {
   "display_name": "Python [conda env:jorje]",
   "language": "python",
   "name": "conda-env-jorje-py"
  },
  "language_info": {
   "codemirror_mode": {
    "name": "ipython",
    "version": 3
   },
   "file_extension": ".py",
   "mimetype": "text/x-python",
   "name": "python",
   "nbconvert_exporter": "python",
   "pygments_lexer": "ipython3",
   "version": "3.7.2"
  }
 },
 "nbformat": 4,
 "nbformat_minor": 2
}
