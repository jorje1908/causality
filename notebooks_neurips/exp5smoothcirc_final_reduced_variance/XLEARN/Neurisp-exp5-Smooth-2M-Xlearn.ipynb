{
 "cells": [
  {
   "cell_type": "code",
   "execution_count": 1,
   "metadata": {},
   "outputs": [],
   "source": [
    "%load_ext autoreload\n",
    "%autoreload 2\n"
   ]
  },
  {
   "cell_type": "code",
   "execution_count": 2,
   "metadata": {},
   "outputs": [],
   "source": [
    "import numpy as np\n",
    "import pandas as pd\n",
    "import matplotlib.pyplot as plt\n",
    "import seaborn as sns\n",
    "import matplotlib as mpl\n",
    "\n",
    "from sklearn.cluster import KMeans \n",
    "from sklearn.cluster import SpectralClustering\n",
    "from sklearn.cluster import AgglomerativeClustering\n",
    "from pathlib import Path"
   ]
  },
  {
   "cell_type": "code",
   "execution_count": 3,
   "metadata": {},
   "outputs": [],
   "source": [
    "import sys\n",
    "\n",
    "sys.path.append('../../../src')\n",
    "\n"
   ]
  },
  {
   "cell_type": "code",
   "execution_count": 4,
   "metadata": {},
   "outputs": [],
   "source": [
    "from base_exp_gen import generate_experiment as GEN_EXP\n",
    "from clustering_algos import agglomerative_clustering, kmeans_clustering, box_clustering\n",
    "from sklearn.model_selection import train_test_split as datasplit\n",
    "from sklearn.ensemble import GradientBoostingRegressor as GDBR\n",
    "from evaluations import computeATT_per_cluster as ATTC, predict_cf, calculate_ite, get_homogeneity, generate_paths,\\\n",
    "confusion_matrix\n",
    "\n"
   ]
  },
  {
   "cell_type": "code",
   "execution_count": 5,
   "metadata": {},
   "outputs": [],
   "source": [
    "np.random.seed(seed = 0)"
   ]
  },
  {
   "cell_type": "code",
   "execution_count": 6,
   "metadata": {},
   "outputs": [],
   "source": [
    "fonts = {'family': 'cmr10','weight': 'normal',\n",
    "            'size': 20}    \n",
    "div = 1\n",
    "\n",
    "l1 = 22/div\n",
    "l2 = 20/div\n",
    "l3 = 13/(div-0.2)\n",
    "\n",
    "mpl.rcParams['xtick.labelsize'] = l2\n",
    "mpl.rcParams['ytick.labelsize'] = l2\n",
    "mpl.rcParams['axes.labelsize'] = l1\n",
    "mpl.rcParams['font.serif'] = 'Times New Roman'\n",
    "mpl.rcParams['font.weight'] = 'normal'\n",
    "mpl.rcParams['font.size'] = 20\n",
    "mpl.rcParams['legend.fontsize'] = l3\n",
    "\n",
    "#axes_font = {'labelsize':l1}\n",
    "#mpl.rc('font', **font)\n",
    "#xticks = {'labelsize':l2}# 'ytick.labelsize':20}\n",
    "#yticks = {'labelsize':l2}# 'ytick.labelsize':20}\n",
    "#legend = {'fontsize':l3}\n",
    "# tex = {'usetex':True}\n",
    "#mpl.rc('axes', **axes_font)\n",
    "#mpl.rc('xtick', **xticks)\n",
    "#mpl.rc('ytick', **yticks)\n",
    "#mpl.rc('font', **fonts)\n",
    "#mpl.rc('legend', **legend)"
   ]
  },
  {
   "cell_type": "code",
   "execution_count": null,
   "metadata": {},
   "outputs": [],
   "source": []
  },
  {
   "cell_type": "code",
   "execution_count": 7,
   "metadata": {},
   "outputs": [
    {
     "name": "stdout",
     "output_type": "stream",
     "text": [
      "20.0\n"
     ]
    }
   ],
   "source": [
    "print(mpl.rcParams['xtick.labelsize'])"
   ]
  },
  {
   "cell_type": "code",
   "execution_count": 8,
   "metadata": {},
   "outputs": [],
   "source": [
    "pd.set_option(\"display.max_columns\", None)\n"
   ]
  },
  {
   "cell_type": "markdown",
   "metadata": {},
   "source": [
    "### Generate Experiment"
   ]
  },
  {
   "cell_type": "code",
   "execution_count": 9,
   "metadata": {},
   "outputs": [
    {
     "name": "stdout",
     "output_type": "stream",
     "text": [
      "CPU times: user 488 µs, sys: 0 ns, total: 488 µs\n",
      "Wall time: 959 µs\n"
     ]
    }
   ],
   "source": [
    "%%time\n",
    "path_figs = './figs/2MX/'\n",
    "save = True\n",
    "Path(path_figs).mkdir(exist_ok = True, parents = True)\n"
   ]
  },
  {
   "cell_type": "code",
   "execution_count": 10,
   "metadata": {},
   "outputs": [
    {
     "name": "stdout",
     "output_type": "stream",
     "text": [
      "Number of Clusters:1369, Number of Points:2000000\n",
      "CPU times: user 1.44 s, sys: 448 ms, total: 1.89 s\n",
      "Wall time: 1.87 s\n"
     ]
    }
   ],
   "source": [
    "%%time\n",
    "\n",
    "N,D = 2*10**6, 2\n",
    "x = int((N)**(1/4))\n",
    "clusters = x**2\n",
    "print(\"Number of Clusters:{}, Number of Points:{}\".format(clusters, N))\n",
    "kw_generate =  {'N':N, 'D':D,'f_gen_name': 'uniform_gen','low':0, 'high': 1}\n",
    "centers = [[0.25,0.25],[0.5,0.5],[0.75,0.75],[0.75,0.25], [0.25,0.75]]\n",
    "r_small = [0.122]*5\n",
    "r_big = [0.2,0.2,0.2, 0.2,0.2]\n",
    "kw_cluster =  {'f_class_name':'circle_class3', 'centers': centers, 'r_small': r_small, 'r_big':r_big}\n",
    "kw_treatment = {'f_treat_name' :'uniform_treat','choices':[0,1], 'probabilities':[0.5,0.5]}\n",
    "\n",
    "std = 2\n",
    "stats = np.array([[1, std], [0, std], [0, std], [0, std],[0, std],\n",
    "                  [0, std],[1, std],[1, std],[2, std],[3, std],[4, std],[5, std]])\n",
    "kw_outcome = {'f_outcome_name': 'outcome1','treatment':'Treatment', 'cls':'C', 'stats':stats}\n",
    "\n",
    "data = GEN_EXP(kw_generate, kw_cluster, kw_treatment, kw_outcome).dat\n",
    "data = calculate_ite(data.copy(), treatment = 'Treatment',\n",
    "                     counterfactual = 'Ycf', outcome = 'Y', ite_name = 'ITE')"
   ]
  },
  {
   "cell_type": "code",
   "execution_count": 11,
   "metadata": {},
   "outputs": [
    {
     "data": {
      "text/html": [
       "<div>\n",
       "<style scoped>\n",
       "    .dataframe tbody tr th:only-of-type {\n",
       "        vertical-align: middle;\n",
       "    }\n",
       "\n",
       "    .dataframe tbody tr th {\n",
       "        vertical-align: top;\n",
       "    }\n",
       "\n",
       "    .dataframe thead th {\n",
       "        text-align: right;\n",
       "    }\n",
       "</style>\n",
       "<table border=\"1\" class=\"dataframe\">\n",
       "  <thead>\n",
       "    <tr style=\"text-align: right;\">\n",
       "      <th></th>\n",
       "      <th>x0</th>\n",
       "      <th>x1</th>\n",
       "      <th>C</th>\n",
       "      <th>Treatment</th>\n",
       "      <th>Y</th>\n",
       "      <th>Ycf</th>\n",
       "      <th>ITE</th>\n",
       "    </tr>\n",
       "  </thead>\n",
       "  <tbody>\n",
       "    <tr>\n",
       "      <th>0</th>\n",
       "      <td>0.548814</td>\n",
       "      <td>0.715189</td>\n",
       "      <td>0</td>\n",
       "      <td>0</td>\n",
       "      <td>4.275959</td>\n",
       "      <td>4.425694</td>\n",
       "      <td>0.149735</td>\n",
       "    </tr>\n",
       "    <tr>\n",
       "      <th>1</th>\n",
       "      <td>0.602763</td>\n",
       "      <td>0.544883</td>\n",
       "      <td>0</td>\n",
       "      <td>0</td>\n",
       "      <td>2.103205</td>\n",
       "      <td>2.792601</td>\n",
       "      <td>0.689397</td>\n",
       "    </tr>\n",
       "    <tr>\n",
       "      <th>2</th>\n",
       "      <td>0.423655</td>\n",
       "      <td>0.645894</td>\n",
       "      <td>2</td>\n",
       "      <td>0</td>\n",
       "      <td>-0.541712</td>\n",
       "      <td>0.881202</td>\n",
       "      <td>1.422914</td>\n",
       "    </tr>\n",
       "    <tr>\n",
       "      <th>3</th>\n",
       "      <td>0.437587</td>\n",
       "      <td>0.891773</td>\n",
       "      <td>0</td>\n",
       "      <td>1</td>\n",
       "      <td>2.707426</td>\n",
       "      <td>3.625753</td>\n",
       "      <td>-0.918327</td>\n",
       "    </tr>\n",
       "    <tr>\n",
       "      <th>4</th>\n",
       "      <td>0.963663</td>\n",
       "      <td>0.383442</td>\n",
       "      <td>0</td>\n",
       "      <td>0</td>\n",
       "      <td>-3.591661</td>\n",
       "      <td>0.860699</td>\n",
       "      <td>4.452360</td>\n",
       "    </tr>\n",
       "  </tbody>\n",
       "</table>\n",
       "</div>"
      ],
      "text/plain": [
       "         x0        x1  C  Treatment         Y       Ycf       ITE\n",
       "0  0.548814  0.715189  0          0  4.275959  4.425694  0.149735\n",
       "1  0.602763  0.544883  0          0  2.103205  2.792601  0.689397\n",
       "2  0.423655  0.645894  2          0 -0.541712  0.881202  1.422914\n",
       "3  0.437587  0.891773  0          1  2.707426  3.625753 -0.918327\n",
       "4  0.963663  0.383442  0          0 -3.591661  0.860699  4.452360"
      ]
     },
     "execution_count": 11,
     "metadata": {},
     "output_type": "execute_result"
    }
   ],
   "source": [
    "data.head(5)"
   ]
  },
  {
   "cell_type": "code",
   "execution_count": 12,
   "metadata": {},
   "outputs": [
    {
     "data": {
      "text/html": [
       "<div>\n",
       "<style scoped>\n",
       "    .dataframe tbody tr th:only-of-type {\n",
       "        vertical-align: middle;\n",
       "    }\n",
       "\n",
       "    .dataframe tbody tr th {\n",
       "        vertical-align: top;\n",
       "    }\n",
       "\n",
       "    .dataframe thead th {\n",
       "        text-align: right;\n",
       "    }\n",
       "</style>\n",
       "<table border=\"1\" class=\"dataframe\">\n",
       "  <thead>\n",
       "    <tr style=\"text-align: right;\">\n",
       "      <th></th>\n",
       "      <th>x0</th>\n",
       "      <th>x1</th>\n",
       "      <th>C</th>\n",
       "      <th>Treatment</th>\n",
       "      <th>Y</th>\n",
       "      <th>Ycf</th>\n",
       "      <th>ITE</th>\n",
       "    </tr>\n",
       "  </thead>\n",
       "  <tbody>\n",
       "    <tr>\n",
       "      <th>count</th>\n",
       "      <td>2.000000e+06</td>\n",
       "      <td>2.000000e+06</td>\n",
       "      <td>2.000000e+06</td>\n",
       "      <td>2.000000e+06</td>\n",
       "      <td>2.000000e+06</td>\n",
       "      <td>2.000000e+06</td>\n",
       "      <td>2.000000e+06</td>\n",
       "    </tr>\n",
       "    <tr>\n",
       "      <th>mean</th>\n",
       "      <td>4.997836e-01</td>\n",
       "      <td>5.001988e-01</td>\n",
       "      <td>1.141471e+00</td>\n",
       "      <td>5.001005e-01</td>\n",
       "      <td>1.199744e+00</td>\n",
       "      <td>1.202997e+00</td>\n",
       "      <td>1.140858e+00</td>\n",
       "    </tr>\n",
       "    <tr>\n",
       "      <th>std</th>\n",
       "      <td>2.887267e-01</td>\n",
       "      <td>2.886267e-01</td>\n",
       "      <td>1.719710e+00</td>\n",
       "      <td>5.000001e-01</td>\n",
       "      <td>2.306438e+00</td>\n",
       "      <td>2.305809e+00</td>\n",
       "      <td>3.309106e+00</td>\n",
       "    </tr>\n",
       "    <tr>\n",
       "      <th>min</th>\n",
       "      <td>1.637144e-07</td>\n",
       "      <td>2.516784e-08</td>\n",
       "      <td>0.000000e+00</td>\n",
       "      <td>0.000000e+00</td>\n",
       "      <td>-9.899472e+00</td>\n",
       "      <td>-8.476812e+00</td>\n",
       "      <td>-1.310288e+01</td>\n",
       "    </tr>\n",
       "    <tr>\n",
       "      <th>25%</th>\n",
       "      <td>2.495544e-01</td>\n",
       "      <td>2.502948e-01</td>\n",
       "      <td>0.000000e+00</td>\n",
       "      <td>0.000000e+00</td>\n",
       "      <td>-3.671571e-01</td>\n",
       "      <td>-3.631029e-01</td>\n",
       "      <td>-1.143762e+00</td>\n",
       "    </tr>\n",
       "    <tr>\n",
       "      <th>50%</th>\n",
       "      <td>4.999703e-01</td>\n",
       "      <td>5.003810e-01</td>\n",
       "      <td>0.000000e+00</td>\n",
       "      <td>1.000000e+00</td>\n",
       "      <td>1.110812e+00</td>\n",
       "      <td>1.112190e+00</td>\n",
       "      <td>1.026301e+00</td>\n",
       "    </tr>\n",
       "    <tr>\n",
       "      <th>75%</th>\n",
       "      <td>7.499998e-01</td>\n",
       "      <td>7.500191e-01</td>\n",
       "      <td>2.000000e+00</td>\n",
       "      <td>1.000000e+00</td>\n",
       "      <td>2.661313e+00</td>\n",
       "      <td>2.664783e+00</td>\n",
       "      <td>3.320841e+00</td>\n",
       "    </tr>\n",
       "    <tr>\n",
       "      <th>max</th>\n",
       "      <td>9.999993e-01</td>\n",
       "      <td>9.999997e-01</td>\n",
       "      <td>5.000000e+00</td>\n",
       "      <td>1.000000e+00</td>\n",
       "      <td>1.405698e+01</td>\n",
       "      <td>1.333605e+01</td>\n",
       "      <td>1.733285e+01</td>\n",
       "    </tr>\n",
       "  </tbody>\n",
       "</table>\n",
       "</div>"
      ],
      "text/plain": [
       "                 x0            x1             C     Treatment             Y  \\\n",
       "count  2.000000e+06  2.000000e+06  2.000000e+06  2.000000e+06  2.000000e+06   \n",
       "mean   4.997836e-01  5.001988e-01  1.141471e+00  5.001005e-01  1.199744e+00   \n",
       "std    2.887267e-01  2.886267e-01  1.719710e+00  5.000001e-01  2.306438e+00   \n",
       "min    1.637144e-07  2.516784e-08  0.000000e+00  0.000000e+00 -9.899472e+00   \n",
       "25%    2.495544e-01  2.502948e-01  0.000000e+00  0.000000e+00 -3.671571e-01   \n",
       "50%    4.999703e-01  5.003810e-01  0.000000e+00  1.000000e+00  1.110812e+00   \n",
       "75%    7.499998e-01  7.500191e-01  2.000000e+00  1.000000e+00  2.661313e+00   \n",
       "max    9.999993e-01  9.999997e-01  5.000000e+00  1.000000e+00  1.405698e+01   \n",
       "\n",
       "                Ycf           ITE  \n",
       "count  2.000000e+06  2.000000e+06  \n",
       "mean   1.202997e+00  1.140858e+00  \n",
       "std    2.305809e+00  3.309106e+00  \n",
       "min   -8.476812e+00 -1.310288e+01  \n",
       "25%   -3.631029e-01 -1.143762e+00  \n",
       "50%    1.112190e+00  1.026301e+00  \n",
       "75%    2.664783e+00  3.320841e+00  \n",
       "max    1.333605e+01  1.733285e+01  "
      ]
     },
     "execution_count": 12,
     "metadata": {},
     "output_type": "execute_result"
    }
   ],
   "source": [
    "data.describe()"
   ]
  },
  {
   "cell_type": "code",
   "execution_count": 13,
   "metadata": {},
   "outputs": [],
   "source": [
    "#mpl.style.use(['seaborn-paper'])\n",
    "#mpl.rcParams.update(mpl.rcParamsDefault)\n"
   ]
  },
  {
   "cell_type": "code",
   "execution_count": 14,
   "metadata": {},
   "outputs": [
    {
     "data": {
      "image/png": "[encoded data removed]",
      "text/plain": [
       "<Figure size 432x288 with 1 Axes>"
      ]
     },
     "metadata": {
      "needs_background": "light"
     },
     "output_type": "display_data"
    }
   ],
   "source": [
    "fig, ax = plt.subplots()\n",
    "\n",
    "ax.scatter(data['x0'].values, data['x1'].values, c=data['C'].values, cmap = 'Greys', s=0.1)\n",
    "\n",
    "if save:\n",
    "    fig.savefig(path_figs+'data.jpeg',bbox_inches='tight', pad_inches = 0)\n",
    "\n",
    "plt.show()"
   ]
  },
  {
   "cell_type": "code",
   "execution_count": 15,
   "metadata": {},
   "outputs": [
    {
     "name": "stderr",
     "output_type": "stream",
     "text": [
      "/home/mavrog2/.conda/envs/jorje/lib/python3.7/site-packages/statsmodels/compat/pandas.py:49: FutureWarning: The Panel class is removed from pandas. Accessing it from the top-level namespace will also be removed in the next version\n",
      "  data_klasses = (pandas.Series, pandas.DataFrame, pandas.Panel)\n"
     ]
    }
   ],
   "source": [
    "from econml.metalearners import XLearner as XL\n",
    "from sklearn.ensemble import RandomForestClassifier as RF"
   ]
  },
  {
   "cell_type": "markdown",
   "metadata": {},
   "source": [
    "### Train X learner to directly calculate effect\n",
    "#### Use gradient boosting trees for estimation models and  loistic Regression for Rest"
   ]
  },
  {
   "cell_type": "code",
   "execution_count": 16,
   "metadata": {},
   "outputs": [
    {
     "name": "stdout",
     "output_type": "stream",
     "text": [
      "CPU times: user 3h 32min 32s, sys: 9.11 s, total: 3h 32min 41s\n",
      "Wall time: 3h 32min 27s\n"
     ]
    }
   ],
   "source": [
    "%%time\n",
    "f1_kwargs = {'n_estimators':400, 'max_depth':18}\n",
    "f2_kwargs = {'n_estimators':400, 'max_depth':18}\n",
    "\n",
    "m0 = GDBR(**f1_kwargs)\n",
    "m1 = GDBR(**f1_kwargs)\n",
    "t0 = GDBR(**f1_kwargs)\n",
    "t1 = GDBR(**f1_kwargs)\n",
    "\n",
    "model = XL((m0,m1), (t0,t1), categories=[0,1])\n",
    "xml = model.fit(data.Y, data.Treatment, X = data[['x0','x1']])"
   ]
  },
  {
   "cell_type": "markdown",
   "metadata": {},
   "source": [
    "### Get Xlearner Effects and add it as a column to the data"
   ]
  },
  {
   "cell_type": "code",
   "execution_count": 17,
   "metadata": {},
   "outputs": [
    {
     "name": "stdout",
     "output_type": "stream",
     "text": [
      "-5.9504741804839725 10.013565249087263\n"
     ]
    }
   ],
   "source": [
    "data['ITE-XML'] = xml.effect(data[['x0','x1']])\n",
    "print(data['ITE-XML'].min(), data['ITE-XML'].max())"
   ]
  },
  {
   "cell_type": "markdown",
   "metadata": {},
   "source": [
    "### Xlearner Effect histogram "
   ]
  },
  {
   "cell_type": "code",
   "execution_count": 18,
   "metadata": {},
   "outputs": [
    {
     "name": "stderr",
     "output_type": "stream",
     "text": [
      "/home/mavrog2/.conda/envs/jorje/lib/python3.7/site-packages/seaborn/distributions.py:2619: FutureWarning: `distplot` is a deprecated function and will be removed in a future version. Please adapt your code to use either `displot` (a figure-level function with similar flexibility) or `histplot` (an axes-level function for histograms).\n",
      "  warnings.warn(msg, FutureWarning)\n"
     ]
    },
    {
     "data": {
      "image/png": "[encoded data removed]",
      "text/plain": [
       "<Figure size 432x288 with 1 Axes>"
      ]
     },
     "metadata": {
      "needs_background": "light"
     },
     "output_type": "display_data"
    }
   ],
   "source": [
    "path2 = path_figs+'histograms/'\n",
    "Path(path2).mkdir(exist_ok = True)\n",
    "\n",
    "\n",
    "fig, ax = plt.subplots()\n",
    "\n",
    "bins = 400\n",
    "ax = sns.distplot(data['ITE-XML'],  bins=bins, kde = False,ax = ax)\n",
    "ax.set_xlabel('ITE-XLEARNER')\n",
    "\n",
    "ax.set_xlim(-3,7)\n",
    "if save:\n",
    "    fig.savefig(path2+'xlearnhist.pdf', bbox_inches='tight',pad_inches = 0)"
   ]
  },
  {
   "cell_type": "markdown",
   "metadata": {},
   "source": [
    "### 3Clustering of Xlearner effects"
   ]
  },
  {
   "cell_type": "code",
   "execution_count": 19,
   "metadata": {},
   "outputs": [],
   "source": [
    "cluster_name = 'ITE-XML-3Clust'\n",
    "col = 'ITE-XML'\n",
    "filt11 = data[col] <= 0.5\n",
    "filt21 = data[col] >= 0.5\n",
    "filt31 = data[col] >= 1.5\n",
    "filt41 = data[col] >= 2.5\n",
    "filt51 = data[col] >= 3.5\n",
    "filt61 = data[col] >= 4.5\n",
    "\n",
    "data[cluster_name] = 0\n",
    "data.loc[filt11,cluster_name] = 0\n",
    "data.loc[filt21, cluster_name] = 1\n",
    "data.loc[filt31, cluster_name] = 2\n",
    "data.loc[filt41,cluster_name] = 3\n",
    "data.loc[filt51, cluster_name] = 4\n",
    "data.loc[filt61, cluster_name] = 5\n",
    "\n",
    "#data,_ = kmeans_clustering(data, clusters = 3, cluster_name = 'ITE-XML-3Clust',col_select = ['ITE-XML'] )"
   ]
  },
  {
   "cell_type": "code",
   "execution_count": 20,
   "metadata": {},
   "outputs": [
    {
     "data": {
      "image/png": "[encoded data removed]",
      "text/plain": [
       "<Figure size 432x288 with 1 Axes>"
      ]
     },
     "metadata": {
      "needs_background": "light"
     },
     "output_type": "display_data"
    }
   ],
   "source": [
    "path3 = path_figs+'reconstruction/'\n",
    "Path(path3).mkdir(exist_ok = True, parents = True)\n",
    "\n",
    "fig, ax = plt.subplots()\n",
    "\n",
    "sc = ax.scatter(data['x0'].values, data['x1'].values, c=data['ITE-XML-3Clust'], cmap = 'Greys', s = 1)\n",
    "if save:\n",
    "        ax.set_aspect('equal', adjustable='box')\n",
    "        fig.savefig(path3+'{}.jpeg'.format('ITE-XML-3Clust'), bbox_inches='tight',pad_inches = 0)"
   ]
  },
  {
   "cell_type": "markdown",
   "metadata": {},
   "source": [
    "### Xlearner 6Clustering mean absolute error versu eligibility"
   ]
  },
  {
   "cell_type": "code",
   "execution_count": 21,
   "metadata": {},
   "outputs": [],
   "source": [
    "def MAE_pd(group, name1,name2,column_name):\n",
    "    \n",
    "    group[column_name] = np.abs(group[name1].values-group[name2].mean())\n",
    "    return group"
   ]
  },
  {
   "cell_type": "code",
   "execution_count": 22,
   "metadata": {},
   "outputs": [],
   "source": [
    "ite_column = 'ITE-XML'\n",
    "clust2 = 'ITE-XML-3Clust'\n",
    "data = data.groupby(clust2).apply(lambda x: MAE_pd(x, 'C', ite_column, clust2+'-err-GDBR'))"
   ]
  },
  {
   "cell_type": "code",
   "execution_count": 23,
   "metadata": {},
   "outputs": [],
   "source": [
    "errors = data.describe().loc[['mean', 'std'], [col for col in data.columns if 'err' in col]].T"
   ]
  },
  {
   "cell_type": "code",
   "execution_count": 24,
   "metadata": {},
   "outputs": [
    {
     "data": {
      "text/html": [
       "<div>\n",
       "<style scoped>\n",
       "    .dataframe tbody tr th:only-of-type {\n",
       "        vertical-align: middle;\n",
       "    }\n",
       "\n",
       "    .dataframe tbody tr th {\n",
       "        vertical-align: top;\n",
       "    }\n",
       "\n",
       "    .dataframe thead th {\n",
       "        text-align: right;\n",
       "    }\n",
       "</style>\n",
       "<table border=\"1\" class=\"dataframe\">\n",
       "  <thead>\n",
       "    <tr style=\"text-align: right;\">\n",
       "      <th></th>\n",
       "      <th>mean</th>\n",
       "      <th>std</th>\n",
       "    </tr>\n",
       "  </thead>\n",
       "  <tbody>\n",
       "    <tr>\n",
       "      <th>ITE-XML-3Clust-err-GDBR</th>\n",
       "      <td>0.171292</td>\n",
       "      <td>0.385998</td>\n",
       "    </tr>\n",
       "  </tbody>\n",
       "</table>\n",
       "</div>"
      ],
      "text/plain": [
       "                             mean       std\n",
       "ITE-XML-3Clust-err-GDBR  0.171292  0.385998"
      ]
     },
     "execution_count": 24,
     "metadata": {},
     "output_type": "execute_result"
    }
   ],
   "source": [
    "errors"
   ]
  },
  {
   "cell_type": "code",
   "execution_count": 25,
   "metadata": {},
   "outputs": [
    {
     "data": {
      "text/html": [
       "<div>\n",
       "<style scoped>\n",
       "    .dataframe tbody tr th:only-of-type {\n",
       "        vertical-align: middle;\n",
       "    }\n",
       "\n",
       "    .dataframe tbody tr th {\n",
       "        vertical-align: top;\n",
       "    }\n",
       "\n",
       "    .dataframe thead th {\n",
       "        text-align: right;\n",
       "    }\n",
       "</style>\n",
       "<table border=\"1\" class=\"dataframe\">\n",
       "  <thead>\n",
       "    <tr style=\"text-align: right;\">\n",
       "      <th></th>\n",
       "      <th>C0 Pred</th>\n",
       "      <th>C1 Pred</th>\n",
       "      <th>C2 Pred</th>\n",
       "      <th>C3 Pred</th>\n",
       "      <th>C4 Pred</th>\n",
       "      <th>C5 Pred</th>\n",
       "    </tr>\n",
       "  </thead>\n",
       "  <tbody>\n",
       "    <tr>\n",
       "      <th>C0 True</th>\n",
       "      <td>0.895228</td>\n",
       "      <td>0.092404</td>\n",
       "      <td>0.010135</td>\n",
       "      <td>0.001793</td>\n",
       "      <td>0.000358</td>\n",
       "      <td>0.000083</td>\n",
       "    </tr>\n",
       "    <tr>\n",
       "      <th>C1 True</th>\n",
       "      <td>0.090403</td>\n",
       "      <td>0.864707</td>\n",
       "      <td>0.043374</td>\n",
       "      <td>0.001442</td>\n",
       "      <td>0.000068</td>\n",
       "      <td>0.000007</td>\n",
       "    </tr>\n",
       "    <tr>\n",
       "      <th>C2 True</th>\n",
       "      <td>0.012372</td>\n",
       "      <td>0.093779</td>\n",
       "      <td>0.811123</td>\n",
       "      <td>0.075512</td>\n",
       "      <td>0.006518</td>\n",
       "      <td>0.000696</td>\n",
       "    </tr>\n",
       "    <tr>\n",
       "      <th>C3 True</th>\n",
       "      <td>0.001999</td>\n",
       "      <td>0.013773</td>\n",
       "      <td>0.103599</td>\n",
       "      <td>0.839140</td>\n",
       "      <td>0.038970</td>\n",
       "      <td>0.002520</td>\n",
       "    </tr>\n",
       "    <tr>\n",
       "      <th>C4 True</th>\n",
       "      <td>0.000736</td>\n",
       "      <td>0.003306</td>\n",
       "      <td>0.015443</td>\n",
       "      <td>0.103392</td>\n",
       "      <td>0.830795</td>\n",
       "      <td>0.046328</td>\n",
       "    </tr>\n",
       "    <tr>\n",
       "      <th>C5 True</th>\n",
       "      <td>0.000520</td>\n",
       "      <td>0.001584</td>\n",
       "      <td>0.005480</td>\n",
       "      <td>0.021465</td>\n",
       "      <td>0.117030</td>\n",
       "      <td>0.853922</td>\n",
       "    </tr>\n",
       "  </tbody>\n",
       "</table>\n",
       "</div>"
      ],
      "text/plain": [
       "          C0 Pred   C1 Pred   C2 Pred   C3 Pred   C4 Pred   C5 Pred\n",
       "C0 True  0.895228  0.092404  0.010135  0.001793  0.000358  0.000083\n",
       "C1 True  0.090403  0.864707  0.043374  0.001442  0.000068  0.000007\n",
       "C2 True  0.012372  0.093779  0.811123  0.075512  0.006518  0.000696\n",
       "C3 True  0.001999  0.013773  0.103599  0.839140  0.038970  0.002520\n",
       "C4 True  0.000736  0.003306  0.015443  0.103392  0.830795  0.046328\n",
       "C5 True  0.000520  0.001584  0.005480  0.021465  0.117030  0.853922"
      ]
     },
     "metadata": {},
     "output_type": "display_data"
    }
   ],
   "source": [
    "from IPython.display import display\n",
    "\n",
    "path4 = path_figs+'matrices/'\n",
    "Path(path4).mkdir(exist_ok = True)\n",
    "\n",
    "mat = confusion_matrix(data, 'C', 'ITE-XML-3Clust',6, save = save, save_dir = path4)\n",
    "display(mat)"
   ]
  },
  {
   "cell_type": "code",
   "execution_count": 26,
   "metadata": {},
   "outputs": [
    {
     "data": {
      "text/html": [
       "<div>\n",
       "<style scoped>\n",
       "    .dataframe tbody tr th:only-of-type {\n",
       "        vertical-align: middle;\n",
       "    }\n",
       "\n",
       "    .dataframe tbody tr th {\n",
       "        vertical-align: top;\n",
       "    }\n",
       "\n",
       "    .dataframe thead th {\n",
       "        text-align: right;\n",
       "    }\n",
       "</style>\n",
       "<table border=\"1\" class=\"dataframe\">\n",
       "  <thead>\n",
       "    <tr style=\"text-align: right;\">\n",
       "      <th></th>\n",
       "      <th>x0</th>\n",
       "      <th>x1</th>\n",
       "      <th>C</th>\n",
       "      <th>Treatment</th>\n",
       "      <th>Y</th>\n",
       "      <th>Ycf</th>\n",
       "      <th>ITE</th>\n",
       "      <th>ITE-XML</th>\n",
       "      <th>ITE-XML-3Clust-err-GDBR</th>\n",
       "    </tr>\n",
       "    <tr>\n",
       "      <th>ITE-XML-3Clust</th>\n",
       "      <th></th>\n",
       "      <th></th>\n",
       "      <th></th>\n",
       "      <th></th>\n",
       "      <th></th>\n",
       "      <th></th>\n",
       "      <th></th>\n",
       "      <th></th>\n",
       "      <th></th>\n",
       "    </tr>\n",
       "  </thead>\n",
       "  <tbody>\n",
       "    <tr>\n",
       "      <th>0</th>\n",
       "      <td>0.494816</td>\n",
       "      <td>0.495879</td>\n",
       "      <td>0.015826</td>\n",
       "      <td>0.500573</td>\n",
       "      <td>0.994364</td>\n",
       "      <td>0.996237</td>\n",
       "      <td>-0.205758</td>\n",
       "      <td>-0.037157</td>\n",
       "      <td>0.052983</td>\n",
       "    </tr>\n",
       "    <tr>\n",
       "      <th>1</th>\n",
       "      <td>0.380891</td>\n",
       "      <td>0.376440</td>\n",
       "      <td>0.619285</td>\n",
       "      <td>0.499798</td>\n",
       "      <td>0.761604</td>\n",
       "      <td>0.765141</td>\n",
       "      <td>1.293208</td>\n",
       "      <td>0.897408</td>\n",
       "      <td>0.533264</td>\n",
       "    </tr>\n",
       "    <tr>\n",
       "      <th>2</th>\n",
       "      <td>0.517147</td>\n",
       "      <td>0.512015</td>\n",
       "      <td>1.941416</td>\n",
       "      <td>0.499721</td>\n",
       "      <td>1.061161</td>\n",
       "      <td>1.070274</td>\n",
       "      <td>2.074777</td>\n",
       "      <td>1.975647</td>\n",
       "      <td>0.421447</td>\n",
       "    </tr>\n",
       "    <tr>\n",
       "      <th>3</th>\n",
       "      <td>0.720578</td>\n",
       "      <td>0.681366</td>\n",
       "      <td>3.040712</td>\n",
       "      <td>0.498022</td>\n",
       "      <td>1.529945</td>\n",
       "      <td>1.539477</td>\n",
       "      <td>3.076432</td>\n",
       "      <td>2.962252</td>\n",
       "      <td>0.273717</td>\n",
       "    </tr>\n",
       "    <tr>\n",
       "      <th>4</th>\n",
       "      <td>0.687488</td>\n",
       "      <td>0.333120</td>\n",
       "      <td>4.056819</td>\n",
       "      <td>0.500985</td>\n",
       "      <td>2.031570</td>\n",
       "      <td>2.029651</td>\n",
       "      <td>4.080539</td>\n",
       "      <td>3.969220</td>\n",
       "      <td>0.206650</td>\n",
       "    </tr>\n",
       "    <tr>\n",
       "      <th>5</th>\n",
       "      <td>0.277672</td>\n",
       "      <td>0.722418</td>\n",
       "      <td>4.937794</td>\n",
       "      <td>0.498640</td>\n",
       "      <td>2.474475</td>\n",
       "      <td>2.481081</td>\n",
       "      <td>5.291774</td>\n",
       "      <td>5.005456</td>\n",
       "      <td>0.067662</td>\n",
       "    </tr>\n",
       "  </tbody>\n",
       "</table>\n",
       "</div>"
      ],
      "text/plain": [
       "                      x0        x1         C  Treatment         Y       Ycf  \\\n",
       "ITE-XML-3Clust                                                                \n",
       "0               0.494816  0.495879  0.015826   0.500573  0.994364  0.996237   \n",
       "1               0.380891  0.376440  0.619285   0.499798  0.761604  0.765141   \n",
       "2               0.517147  0.512015  1.941416   0.499721  1.061161  1.070274   \n",
       "3               0.720578  0.681366  3.040712   0.498022  1.529945  1.539477   \n",
       "4               0.687488  0.333120  4.056819   0.500985  2.031570  2.029651   \n",
       "5               0.277672  0.722418  4.937794   0.498640  2.474475  2.481081   \n",
       "\n",
       "                     ITE   ITE-XML  ITE-XML-3Clust-err-GDBR  \n",
       "ITE-XML-3Clust                                               \n",
       "0              -0.205758 -0.037157                 0.052983  \n",
       "1               1.293208  0.897408                 0.533264  \n",
       "2               2.074777  1.975647                 0.421447  \n",
       "3               3.076432  2.962252                 0.273717  \n",
       "4               4.080539  3.969220                 0.206650  \n",
       "5               5.291774  5.005456                 0.067662  "
      ]
     },
     "execution_count": 26,
     "metadata": {},
     "output_type": "execute_result"
    }
   ],
   "source": [
    "data.groupby('ITE-XML-3Clust').mean()"
   ]
  },
  {
   "cell_type": "code",
   "execution_count": 27,
   "metadata": {},
   "outputs": [
    {
     "data": {
      "text/plain": [
       "(0.291205378002977, 0.37514467390687306)"
      ]
     },
     "execution_count": 27,
     "metadata": {},
     "output_type": "execute_result"
    }
   ],
   "source": [
    "np.mean(np.abs(data['C'] - data['ITE-XML'])), np.std(np.abs(data['C'] - data['ITE-XML']))"
   ]
  }
 ],
 "metadata": {
  "kernelspec": {
   "display_name": "Python [conda env:jorje]",
   "language": "python",
   "name": "conda-env-jorje-py"
  },
  "language_info": {
   "codemirror_mode": {
    "name": "ipython",
    "version": 3
   },
   "file_extension": ".py",
   "mimetype": "text/x-python",
   "name": "python",
   "nbconvert_exporter": "python",
   "pygments_lexer": "ipython3",
   "version": "3.7.2"
  }
 },
 "nbformat": 4,
 "nbformat_minor": 2
}
