{
 "cells": [
  {
   "cell_type": "code",
   "execution_count": 1,
   "metadata": {},
   "outputs": [],
   "source": [
    "%load_ext autoreload\n",
    "%autoreload 2"
   ]
  },
  {
   "cell_type": "code",
   "execution_count": 2,
   "metadata": {},
   "outputs": [],
   "source": [
    "import numpy as np\n",
    "import pandas as pd\n",
    "import matplotlib.pyplot as plt\n",
    "import seaborn as sns\n",
    "import matplotlib as mpl\n",
    "\n",
    "from sklearn.cluster import KMeans \n",
    "from sklearn.cluster import SpectralClustering\n",
    "from sklearn.cluster import AgglomerativeClustering\n",
    "from pathlib import Path"
   ]
  },
  {
   "cell_type": "code",
   "execution_count": 3,
   "metadata": {},
   "outputs": [],
   "source": [
    "import sys\n",
    "\n",
    "sys.path.append('../../../src')"
   ]
  },
  {
   "cell_type": "code",
   "execution_count": 4,
   "metadata": {},
   "outputs": [],
   "source": [
    "from base_exp_gen import generate_experiment as GEN_EXP\n",
    "from clustering_algos import agglomerative_clustering, kmeans_clustering,\\\n",
    "box_clustering, adaptive_box2, optimal_clustering\n",
    "from sklearn.model_selection import train_test_split as datasplit\n",
    "from sklearn.ensemble import GradientBoostingRegressor as GDBR\n",
    "from evaluations import computeATT_per_cluster as ATTC, predict_cf, calculate_ite, get_homogeneity, generate_paths,\\\n",
    "confusion_matrix\n",
    "\n"
   ]
  },
  {
   "cell_type": "code",
   "execution_count": 5,
   "metadata": {},
   "outputs": [],
   "source": [
    "np.random.seed(seed = 0)"
   ]
  },
  {
   "cell_type": "code",
   "execution_count": 6,
   "metadata": {},
   "outputs": [],
   "source": [
    "fonts = {'family': 'cmr10','weight': 'normal',\n",
    "            'size': 20}    \n",
    "div = 1\n",
    "\n",
    "l1 = 22/div\n",
    "l2 = 20/div\n",
    "l3 = 13/(div-0.2)\n",
    "\n",
    "mpl.rcParams['xtick.labelsize'] = l2\n",
    "mpl.rcParams['ytick.labelsize'] = l2\n",
    "mpl.rcParams['axes.labelsize'] = l1\n",
    "mpl.rcParams['font.serif'] = 'Times New Roman'\n",
    "mpl.rcParams['font.weight'] = 'normal'\n",
    "mpl.rcParams['font.size'] = 20\n",
    "mpl.rcParams['legend.fontsize'] = l3\n",
    "\n",
    "#axes_font = {'labelsize':l1}\n",
    "#mpl.rc('font', **font)\n",
    "#xticks = {'labelsize':l2}# 'ytick.labelsize':20}\n",
    "#yticks = {'labelsize':l2}# 'ytick.labelsize':20}\n",
    "#legend = {'fontsize':l3}\n",
    "# tex = {'usetex':True}\n",
    "#mpl.rc('axes', **axes_font)\n",
    "#mpl.rc('xtick', **xticks)\n",
    "#mpl.rc('ytick', **yticks)\n",
    "#mpl.rc('font', **fonts)\n",
    "#mpl.rc('legend', **legend"
   ]
  },
  {
   "cell_type": "code",
   "execution_count": 7,
   "metadata": {},
   "outputs": [],
   "source": [
    "pd.set_option(\"display.max_columns\", None)"
   ]
  },
  {
   "cell_type": "markdown",
   "metadata": {},
   "source": [
    "### Directory to save figures"
   ]
  },
  {
   "cell_type": "code",
   "execution_count": 8,
   "metadata": {},
   "outputs": [],
   "source": [
    "save = True\n",
    "path_figs = './figs/2M/'\n",
    "Path(path_figs).mkdir(exist_ok = True, parents = True)"
   ]
  },
  {
   "cell_type": "markdown",
   "metadata": {},
   "source": [
    "### Generate Experiment"
   ]
  },
  {
   "cell_type": "code",
   "execution_count": 9,
   "metadata": {},
   "outputs": [
    {
     "name": "stdout",
     "output_type": "stream",
     "text": [
      "Number of Clusters:1369, Number of Points:2000000\n",
      "CPU times: user 1.41 s, sys: 469 ms, total: 1.88 s\n",
      "Wall time: 1.85 s\n"
     ]
    }
   ],
   "source": [
    "%%time\n",
    "\n",
    "N,D = 2*10**6, 2\n",
    "x = int((N)**(1/4))\n",
    "clusters = x**2\n",
    "print(\"Number of Clusters:{}, Number of Points:{}\".format(clusters, N))\n",
    "kw_generate =  {'N':N, 'D':D,'f_gen_name': 'uniform_gen','low':0, 'high': 1}\n",
    "centers = [[0.25,0.25],[0.5,0.5],[0.75,0.75],[0.75,0.25], [0.25,0.75]]\n",
    "r_small = [0.122]*5\n",
    "r_big = [0.2,0.2,0.2, 0.2,0.2]\n",
    "kw_cluster =  {'f_class_name':'circle_class3', 'centers': centers, 'r_small': r_small, 'r_big':r_big}\n",
    "kw_treatment = {'f_treat_name' :'uniform_treat','choices':[0,1], 'probabilities':[0.5,0.5]}\n",
    "\n",
    "std = 2\n",
    "stats = np.array([[1, std], [0, std], [0, std], [0, std],[0, std],\n",
    "                  [0, std],[1, std],[1, std],[2, std],[3, std],[4, std],[5, std]])\n",
    "kw_outcome = {'f_outcome_name': 'outcome1','treatment':'Treatment', 'cls':'C', 'stats':stats}\n",
    "\n",
    "data = GEN_EXP(kw_generate, kw_cluster, kw_treatment, kw_outcome).dat\n",
    "data = calculate_ite(data.copy(), treatment = 'Treatment',\n",
    "                     counterfactual = 'Ycf', outcome = 'Y', ite_name = 'ITE')"
   ]
  },
  {
   "cell_type": "code",
   "execution_count": 10,
   "metadata": {},
   "outputs": [
    {
     "data": {
      "image/png": "[encoded data removed]",
      "text/plain": [
       "<Figure size 432x288 with 1 Axes>"
      ]
     },
     "metadata": {
      "needs_background": "light"
     },
     "output_type": "display_data"
    }
   ],
   "source": [
    "fig, ax = plt.subplots()\n",
    "\n",
    "ax.scatter(data['x0'].values, data['x1'].values, c=data['C'].values, cmap = 'Greys', s=0.1)\n",
    "\n",
    "ax.set_aspect('equal', adjustable='box')\n",
    "fig.savefig(path_figs+'data.jpeg',bbox_inches='tight', pad_inches = 0)\n",
    "\n",
    "plt.show()"
   ]
  },
  {
   "cell_type": "markdown",
   "metadata": {},
   "source": [
    " ### Estimate ITE with Gradient Boosting Trees"
   ]
  },
  {
   "cell_type": "code",
   "execution_count": 11,
   "metadata": {},
   "outputs": [
    {
     "name": "stdout",
     "output_type": "stream",
     "text": [
      "CPU times: user 1h 23min 27s, sys: 3.82 s, total: 1h 23min 31s\n",
      "Wall time: 1h 23min 51s\n"
     ]
    }
   ],
   "source": [
    "%%time\n",
    "f1_kwargs = {'n_estimators':400, 'max_depth':18}\n",
    "f2_kwargs = {'n_estimators':400, 'max_depth':18}\n",
    "\n",
    "data, models = predict_cf(data.copy(), col_select = ['x0', 'x1'], f1 = GDBR,\n",
    "                          f2 = GDBR, cf_name = 'Ycf-GDBR', f1_kwargs=f1_kwargs, \n",
    "                          f2_kwargs=f2_kwargs, ite_name ='ITE-GDBR')"
   ]
  },
  {
   "cell_type": "markdown",
   "metadata": {},
   "source": [
    "### Apply box clustering to use for the adaptive algorithm"
   ]
  },
  {
   "cell_type": "code",
   "execution_count": 12,
   "metadata": {},
   "outputs": [],
   "source": [
    "col_select = ['x0', 'x1']\n",
    "data,_ = box_clustering(data.copy(), clusters = clusters, col_select = col_select )"
   ]
  },
  {
   "cell_type": "markdown",
   "metadata": {},
   "source": [
    "### Calculate ATT per box cluster for optimal clustering"
   ]
  },
  {
   "cell_type": "code",
   "execution_count": 13,
   "metadata": {},
   "outputs": [],
   "source": [
    "ite_name = 'ITE-GDBR'\n",
    "box2 = ATTC(data.copy(), cluster_name = 'Box-Cluster', ATT_CLUST_name='Box-ATT',\n",
    "           points_name='Box-points', weight_names='Box-Weights', ITE_name = ite_name,\n",
    "            hom_name = 'Box-Hom', att = False)"
   ]
  },
  {
   "cell_type": "markdown",
   "metadata": {},
   "source": [
    "### Optimal 1d means recover"
   ]
  },
  {
   "cell_type": "code",
   "execution_count": 14,
   "metadata": {},
   "outputs": [],
   "source": [
    "name2 = 'Box-ATT'\n",
    "name = 'Opt-Clust'\n",
    "val = 6\n",
    "box2, means = optimal_clustering(box2, max_clusters = 7, col_select = name2, \n",
    "                      cluster_name = name, N=N, val = val )"
   ]
  },
  {
   "cell_type": "code",
   "execution_count": 15,
   "metadata": {},
   "outputs": [
    {
     "data": {
      "text/html": [
       "<div>\n",
       "<style scoped>\n",
       "    .dataframe tbody tr th:only-of-type {\n",
       "        vertical-align: middle;\n",
       "    }\n",
       "\n",
       "    .dataframe tbody tr th {\n",
       "        vertical-align: top;\n",
       "    }\n",
       "\n",
       "    .dataframe thead th {\n",
       "        text-align: right;\n",
       "    }\n",
       "</style>\n",
       "<table border=\"1\" class=\"dataframe\">\n",
       "  <thead>\n",
       "    <tr style=\"text-align: right;\">\n",
       "      <th></th>\n",
       "      <th>x0</th>\n",
       "      <th>x1</th>\n",
       "      <th>C</th>\n",
       "      <th>Treatment</th>\n",
       "      <th>Y</th>\n",
       "      <th>Ycf</th>\n",
       "      <th>ITE</th>\n",
       "      <th>IS_TEST</th>\n",
       "      <th>Ycf-GDBR</th>\n",
       "      <th>ITE-GDBR</th>\n",
       "      <th>Box-Cluster</th>\n",
       "    </tr>\n",
       "  </thead>\n",
       "  <tbody>\n",
       "    <tr>\n",
       "      <th>0</th>\n",
       "      <td>0.548814</td>\n",
       "      <td>0.715189</td>\n",
       "      <td>0</td>\n",
       "      <td>0</td>\n",
       "      <td>4.275959</td>\n",
       "      <td>4.425694</td>\n",
       "      <td>0.149735</td>\n",
       "      <td>1</td>\n",
       "      <td>1.413352</td>\n",
       "      <td>-2.862608</td>\n",
       "      <td>982</td>\n",
       "    </tr>\n",
       "    <tr>\n",
       "      <th>1</th>\n",
       "      <td>0.602763</td>\n",
       "      <td>0.544883</td>\n",
       "      <td>0</td>\n",
       "      <td>0</td>\n",
       "      <td>2.103205</td>\n",
       "      <td>2.792601</td>\n",
       "      <td>0.689397</td>\n",
       "      <td>0</td>\n",
       "      <td>0.897943</td>\n",
       "      <td>-1.205261</td>\n",
       "      <td>762</td>\n",
       "    </tr>\n",
       "    <tr>\n",
       "      <th>2</th>\n",
       "      <td>0.423655</td>\n",
       "      <td>0.645894</td>\n",
       "      <td>2</td>\n",
       "      <td>0</td>\n",
       "      <td>-0.541712</td>\n",
       "      <td>0.881202</td>\n",
       "      <td>1.422914</td>\n",
       "      <td>1</td>\n",
       "      <td>1.554407</td>\n",
       "      <td>2.096119</td>\n",
       "      <td>866</td>\n",
       "    </tr>\n",
       "  </tbody>\n",
       "</table>\n",
       "</div>"
      ],
      "text/plain": [
       "         x0        x1  C  Treatment         Y       Ycf       ITE  IS_TEST  \\\n",
       "0  0.548814  0.715189  0          0  4.275959  4.425694  0.149735        1   \n",
       "1  0.602763  0.544883  0          0  2.103205  2.792601  0.689397        0   \n",
       "2  0.423655  0.645894  2          0 -0.541712  0.881202  1.422914        1   \n",
       "\n",
       "   Ycf-GDBR  ITE-GDBR  Box-Cluster  \n",
       "0  1.413352 -2.862608          982  \n",
       "1  0.897943 -1.205261          762  \n",
       "2  1.554407  2.096119          866  "
      ]
     },
     "execution_count": 15,
     "metadata": {},
     "output_type": "execute_result"
    }
   ],
   "source": [
    "data.head(3)"
   ]
  },
  {
   "cell_type": "markdown",
   "metadata": {},
   "source": [
    "### Adaptive Box"
   ]
  },
  {
   "cell_type": "code",
   "execution_count": 16,
   "metadata": {},
   "outputs": [
    {
     "name": "stderr",
     "output_type": "stream",
     "text": [
      "/home/mavrog2/.conda/envs/jorje/lib/python3.7/site-packages/numba/core/ir_utils.py:2031: NumbaPendingDeprecationWarning: \n",
      "Encountered the use of a type that is scheduled for deprecation: type 'reflected list' found for argument 'data_groups2' of function 'adapt_numba'.\n",
      "\n",
      "For more information visit http://numba.pydata.org/numba-doc/latest/reference/deprecation.html#deprecation-of-reflection-for-list-and-set-types\n",
      "\n",
      "File \"../../../src/clustering_algos.py\", line 478:\n",
      "@jit(nopython = True)\n",
      "def adapt_numba(data_groups2, new_ites, values, pivot_array,\n",
      "^\n",
      "\n",
      "  warnings.warn(NumbaPendingDeprecationWarning(msg, loc=loc))\n"
     ]
    },
    {
     "name": "stdout",
     "output_type": "stream",
     "text": [
      "CPU times: user 2h 3min 17s, sys: 22.1 s, total: 2h 3min 39s\n",
      "Wall time: 2h 3min 17s\n"
     ]
    }
   ],
   "source": [
    "%%time\n",
    "adaptive_ite_name = 'ITE-ADAPTIVE'\n",
    "ite_old_name = 'ITE-GDBR'\n",
    "data = adaptive_box2(data, clusters = clusters, ite_old_name = ite_old_name,\n",
    "                    ite_name = adaptive_ite_name, col_select = col_select)"
   ]
  },
  {
   "cell_type": "code",
   "execution_count": 17,
   "metadata": {},
   "outputs": [
    {
     "data": {
      "text/html": [
       "<div>\n",
       "<style scoped>\n",
       "    .dataframe tbody tr th:only-of-type {\n",
       "        vertical-align: middle;\n",
       "    }\n",
       "\n",
       "    .dataframe tbody tr th {\n",
       "        vertical-align: top;\n",
       "    }\n",
       "\n",
       "    .dataframe thead th {\n",
       "        text-align: right;\n",
       "    }\n",
       "</style>\n",
       "<table border=\"1\" class=\"dataframe\">\n",
       "  <thead>\n",
       "    <tr style=\"text-align: right;\">\n",
       "      <th></th>\n",
       "      <th>x0</th>\n",
       "      <th>x1</th>\n",
       "      <th>C</th>\n",
       "      <th>Treatment</th>\n",
       "      <th>Y</th>\n",
       "      <th>Ycf</th>\n",
       "      <th>ITE</th>\n",
       "      <th>IS_TEST</th>\n",
       "      <th>Ycf-GDBR</th>\n",
       "      <th>ITE-GDBR</th>\n",
       "      <th>Box-Cluster</th>\n",
       "      <th>ITE-ADAPTIVE</th>\n",
       "    </tr>\n",
       "  </thead>\n",
       "  <tbody>\n",
       "    <tr>\n",
       "      <th>0</th>\n",
       "      <td>0.548814</td>\n",
       "      <td>0.715189</td>\n",
       "      <td>0</td>\n",
       "      <td>0</td>\n",
       "      <td>4.275959</td>\n",
       "      <td>4.425694</td>\n",
       "      <td>0.149735</td>\n",
       "      <td>1</td>\n",
       "      <td>1.413352</td>\n",
       "      <td>-2.862608</td>\n",
       "      <td>982</td>\n",
       "      <td>1.416158</td>\n",
       "    </tr>\n",
       "    <tr>\n",
       "      <th>1</th>\n",
       "      <td>0.602763</td>\n",
       "      <td>0.544883</td>\n",
       "      <td>0</td>\n",
       "      <td>0</td>\n",
       "      <td>2.103205</td>\n",
       "      <td>2.792601</td>\n",
       "      <td>0.689397</td>\n",
       "      <td>0</td>\n",
       "      <td>0.897943</td>\n",
       "      <td>-1.205261</td>\n",
       "      <td>762</td>\n",
       "      <td>0.618405</td>\n",
       "    </tr>\n",
       "    <tr>\n",
       "      <th>2</th>\n",
       "      <td>0.423655</td>\n",
       "      <td>0.645894</td>\n",
       "      <td>2</td>\n",
       "      <td>0</td>\n",
       "      <td>-0.541712</td>\n",
       "      <td>0.881202</td>\n",
       "      <td>1.422914</td>\n",
       "      <td>1</td>\n",
       "      <td>1.554407</td>\n",
       "      <td>2.096119</td>\n",
       "      <td>866</td>\n",
       "      <td>3.318648</td>\n",
       "    </tr>\n",
       "  </tbody>\n",
       "</table>\n",
       "</div>"
      ],
      "text/plain": [
       "         x0        x1  C  Treatment         Y       Ycf       ITE  IS_TEST  \\\n",
       "0  0.548814  0.715189  0          0  4.275959  4.425694  0.149735        1   \n",
       "1  0.602763  0.544883  0          0  2.103205  2.792601  0.689397        0   \n",
       "2  0.423655  0.645894  2          0 -0.541712  0.881202  1.422914        1   \n",
       "\n",
       "   Ycf-GDBR  ITE-GDBR  Box-Cluster  ITE-ADAPTIVE  \n",
       "0  1.413352 -2.862608          982      1.416158  \n",
       "1  0.897943 -1.205261          762      0.618405  \n",
       "2  1.554407  2.096119          866      3.318648  "
      ]
     },
     "execution_count": 17,
     "metadata": {},
     "output_type": "execute_result"
    }
   ],
   "source": [
    "data.head(3)"
   ]
  },
  {
   "cell_type": "code",
   "execution_count": 18,
   "metadata": {},
   "outputs": [],
   "source": [
    "clusts = len(means)\n",
    "means2 = means.reshape(val,1)\n",
    "\n",
    "data, km = kmeans_clustering(data, clusters = clusts, cluster_name = 'ITE-ADAPTIVE-3CLUST',\n",
    "                           col_select = [adaptive_ite_name], assign_means = True, means = means2 )"
   ]
  },
  {
   "cell_type": "code",
   "execution_count": 19,
   "metadata": {},
   "outputs": [
    {
     "name": "stdout",
     "output_type": "stream",
     "text": [
      "[[0.04075548]\n",
      " [0.88850132]\n",
      " [1.91330698]\n",
      " [2.90166894]\n",
      " [3.92764609]\n",
      " [4.91215932]]\n",
      "[[0.04075548]\n",
      " [0.88850132]\n",
      " [1.91330698]\n",
      " [2.90166894]\n",
      " [3.92764609]\n",
      " [4.91215932]]\n"
     ]
    }
   ],
   "source": [
    "print(means2)\n",
    "print(km.cluster_centers_)"
   ]
  },
  {
   "cell_type": "markdown",
   "metadata": {},
   "source": [
    "### Adaptive ITES values scatter plot"
   ]
  },
  {
   "cell_type": "code",
   "execution_count": 20,
   "metadata": {},
   "outputs": [
    {
     "data": {
      "image/png": "[encoded data removed]",
      "text/plain": [
       "<Figure size 432x288 with 1 Axes>"
      ]
     },
     "metadata": {
      "needs_background": "light"
     },
     "output_type": "display_data"
    }
   ],
   "source": [
    "path3 = path_figs+'reconstruction/'\n",
    "Path(path3).mkdir(exist_ok = True, parents = True)\n",
    "\n",
    "fig, ax = plt.subplots()\n",
    "\n",
    "sc = ax.scatter(data['x0'].values, data['x1'].values, c=data[adaptive_ite_name], cmap = 'Greys', s = 1)\n",
    "if save:\n",
    "    ax.set_aspect('equal', adjustable='box')\n",
    "    fig.savefig(path3+'{}.jpeg'.format('ites'), bbox_inches='tight',pad_inches = 0)"
   ]
  },
  {
   "cell_type": "markdown",
   "metadata": {},
   "source": [
    "###  Clustering of Adaptive ites"
   ]
  },
  {
   "cell_type": "code",
   "execution_count": 21,
   "metadata": {},
   "outputs": [
    {
     "data": {
      "image/png": "[encoded data removed]",
      "text/plain": [
       "<Figure size 432x288 with 1 Axes>"
      ]
     },
     "metadata": {
      "needs_background": "light"
     },
     "output_type": "display_data"
    }
   ],
   "source": [
    "fig, ax = plt.subplots()\n",
    "\n",
    "sc = ax.scatter(data['x0'].values, data['x1'].values, c=data['ITE-ADAPTIVE-3CLUST'], cmap = 'Greys', s = 1)\n",
    "\n",
    "if save:\n",
    "    ax.set_aspect('equal', adjustable='box')\n",
    "    fig.savefig(path3+'{}.jpeg'.format('ITE-ADAPTIVE-3CLUST'), bbox_inches='tight',pad_inches = 0)"
   ]
  },
  {
   "cell_type": "markdown",
   "metadata": {},
   "source": [
    "### Histogram of Adaptive Ites"
   ]
  },
  {
   "cell_type": "code",
   "execution_count": 22,
   "metadata": {},
   "outputs": [
    {
     "name": "stderr",
     "output_type": "stream",
     "text": [
      "/home/mavrog2/.conda/envs/jorje/lib/python3.7/site-packages/seaborn/distributions.py:2619: FutureWarning: `distplot` is a deprecated function and will be removed in a future version. Please adapt your code to use either `displot` (a figure-level function with similar flexibility) or `histplot` (an axes-level function for histograms).\n",
      "  warnings.warn(msg, FutureWarning)\n"
     ]
    },
    {
     "data": {
      "image/png": "[encoded data removed]",
      "text/plain": [
       "<Figure size 432x288 with 1 Axes>"
      ]
     },
     "metadata": {
      "needs_background": "light"
     },
     "output_type": "display_data"
    }
   ],
   "source": [
    "path2 = path_figs+'histograms/'\n",
    "Path(path2).mkdir(exist_ok = True)\n",
    "\n",
    "fig, ax = plt.subplots()\n",
    "\n",
    "ax = sns.distplot(data[adaptive_ite_name],  bins=400, kde = False,ax = ax)\n",
    "ax.set_xlabel('ITE-PCM')\n",
    "\n",
    "#ax.set_xlim(-0.3,2.3)\n",
    "if save:\n",
    "    fig.savefig(path2+'adaptivehist.pdf', bbox_inches='tight',pad_inches = 0)\n"
   ]
  },
  {
   "cell_type": "code",
   "execution_count": 23,
   "metadata": {},
   "outputs": [],
   "source": [
    "def MAE_pd(group, name1,name2,column_name):\n",
    "    \n",
    "    group[column_name] = np.abs(group[name1].values-group[name2].mean())\n",
    "    return group\n",
    "    \n",
    "    "
   ]
  },
  {
   "cell_type": "code",
   "execution_count": 24,
   "metadata": {},
   "outputs": [],
   "source": [
    "ite_column = 'ITE-GDBR'\n",
    "clust2 = 'ITE-ADAPTIVE-3CLUST'\n",
    "data = data.groupby(clust2).apply(lambda x: MAE_pd(x, 'C', ite_column, clust2+'-err-GDBR'))"
   ]
  },
  {
   "cell_type": "code",
   "execution_count": 25,
   "metadata": {},
   "outputs": [],
   "source": [
    "ite_column = 'ITE'\n",
    "\n",
    "data = data.groupby(clust2).apply(lambda x: MAE_pd(x, 'C', ite_column, clust2+'-err-True-ITE'))"
   ]
  },
  {
   "cell_type": "code",
   "execution_count": 26,
   "metadata": {},
   "outputs": [],
   "source": [
    "errors = data.describe().loc[['mean', 'std'], [col for col in data.columns if 'err' in col]].T"
   ]
  },
  {
   "cell_type": "code",
   "execution_count": 27,
   "metadata": {},
   "outputs": [
    {
     "data": {
      "text/html": [
       "<div>\n",
       "<style scoped>\n",
       "    .dataframe tbody tr th:only-of-type {\n",
       "        vertical-align: middle;\n",
       "    }\n",
       "\n",
       "    .dataframe tbody tr th {\n",
       "        vertical-align: top;\n",
       "    }\n",
       "\n",
       "    .dataframe thead th {\n",
       "        text-align: right;\n",
       "    }\n",
       "</style>\n",
       "<table border=\"1\" class=\"dataframe\">\n",
       "  <thead>\n",
       "    <tr style=\"text-align: right;\">\n",
       "      <th></th>\n",
       "      <th>mean</th>\n",
       "      <th>std</th>\n",
       "    </tr>\n",
       "  </thead>\n",
       "  <tbody>\n",
       "    <tr>\n",
       "      <th>ITE-ADAPTIVE-3CLUST-err-True-ITE</th>\n",
       "      <td>0.332614</td>\n",
       "      <td>0.512969</td>\n",
       "    </tr>\n",
       "    <tr>\n",
       "      <th>ITE-ADAPTIVE-3CLUST-err-GDBR</th>\n",
       "      <td>0.337962</td>\n",
       "      <td>0.510108</td>\n",
       "    </tr>\n",
       "  </tbody>\n",
       "</table>\n",
       "</div>"
      ],
      "text/plain": [
       "                                      mean       std\n",
       "ITE-ADAPTIVE-3CLUST-err-True-ITE  0.332614  0.512969\n",
       "ITE-ADAPTIVE-3CLUST-err-GDBR      0.337962  0.510108"
      ]
     },
     "execution_count": 27,
     "metadata": {},
     "output_type": "execute_result"
    }
   ],
   "source": [
    "errors.sort_values(by = 'mean')"
   ]
  },
  {
   "cell_type": "code",
   "execution_count": 28,
   "metadata": {},
   "outputs": [
    {
     "data": {
      "image/png": "[encoded data removed]",
      "text/plain": [
       "<Figure size 432x288 with 1 Axes>"
      ]
     },
     "metadata": {
      "needs_background": "light"
     },
     "output_type": "display_data"
    }
   ],
   "source": [
    "ax = errors['mean'].sort_values().plot.barh()\n",
    "plt.show()"
   ]
  },
  {
   "cell_type": "code",
   "execution_count": 29,
   "metadata": {},
   "outputs": [
    {
     "name": "stdout",
     "output_type": "stream",
     "text": [
      "Opt-Clust\n"
     ]
    },
    {
     "data": {
      "text/html": [
       "<div>\n",
       "<style scoped>\n",
       "    .dataframe tbody tr th:only-of-type {\n",
       "        vertical-align: middle;\n",
       "    }\n",
       "\n",
       "    .dataframe tbody tr th {\n",
       "        vertical-align: top;\n",
       "    }\n",
       "\n",
       "    .dataframe thead th {\n",
       "        text-align: right;\n",
       "    }\n",
       "</style>\n",
       "<table border=\"1\" class=\"dataframe\">\n",
       "  <thead>\n",
       "    <tr style=\"text-align: right;\">\n",
       "      <th></th>\n",
       "      <th>C0 Pred</th>\n",
       "      <th>C1 Pred</th>\n",
       "      <th>C2 Pred</th>\n",
       "      <th>C3 Pred</th>\n",
       "      <th>C4 Pred</th>\n",
       "      <th>C5 Pred</th>\n",
       "    </tr>\n",
       "  </thead>\n",
       "  <tbody>\n",
       "    <tr>\n",
       "      <th>C0 True</th>\n",
       "      <td>0.798790</td>\n",
       "      <td>0.141841</td>\n",
       "      <td>0.056059</td>\n",
       "      <td>0.003310</td>\n",
       "      <td>0.000000</td>\n",
       "      <td>0.000000</td>\n",
       "    </tr>\n",
       "    <tr>\n",
       "      <th>C1 True</th>\n",
       "      <td>0.007126</td>\n",
       "      <td>0.986027</td>\n",
       "      <td>0.006846</td>\n",
       "      <td>0.000000</td>\n",
       "      <td>0.000000</td>\n",
       "      <td>0.000000</td>\n",
       "    </tr>\n",
       "    <tr>\n",
       "      <th>C2 True</th>\n",
       "      <td>0.000000</td>\n",
       "      <td>0.160341</td>\n",
       "      <td>0.744455</td>\n",
       "      <td>0.094656</td>\n",
       "      <td>0.000549</td>\n",
       "      <td>0.000000</td>\n",
       "    </tr>\n",
       "    <tr>\n",
       "      <th>C3 True</th>\n",
       "      <td>0.000000</td>\n",
       "      <td>0.000755</td>\n",
       "      <td>0.359897</td>\n",
       "      <td>0.639348</td>\n",
       "      <td>0.000000</td>\n",
       "      <td>0.000000</td>\n",
       "    </tr>\n",
       "    <tr>\n",
       "      <th>C4 True</th>\n",
       "      <td>0.000000</td>\n",
       "      <td>0.000000</td>\n",
       "      <td>0.109794</td>\n",
       "      <td>0.333149</td>\n",
       "      <td>0.557057</td>\n",
       "      <td>0.000000</td>\n",
       "    </tr>\n",
       "    <tr>\n",
       "      <th>C5 True</th>\n",
       "      <td>0.000000</td>\n",
       "      <td>0.000000</td>\n",
       "      <td>0.002788</td>\n",
       "      <td>0.204885</td>\n",
       "      <td>0.295559</td>\n",
       "      <td>0.496769</td>\n",
       "    </tr>\n",
       "  </tbody>\n",
       "</table>\n",
       "</div>"
      ],
      "text/plain": [
       "          C0 Pred   C1 Pred   C2 Pred   C3 Pred   C4 Pred   C5 Pred\n",
       "C0 True  0.798790  0.141841  0.056059  0.003310  0.000000  0.000000\n",
       "C1 True  0.007126  0.986027  0.006846  0.000000  0.000000  0.000000\n",
       "C2 True  0.000000  0.160341  0.744455  0.094656  0.000549  0.000000\n",
       "C3 True  0.000000  0.000755  0.359897  0.639348  0.000000  0.000000\n",
       "C4 True  0.000000  0.000000  0.109794  0.333149  0.557057  0.000000\n",
       "C5 True  0.000000  0.000000  0.002788  0.204885  0.295559  0.496769"
      ]
     },
     "metadata": {},
     "output_type": "display_data"
    }
   ],
   "source": [
    "from IPython.display import display\n",
    "\n",
    "path4 = path_figs+'matrices/'\n",
    "Path(path4).mkdir(exist_ok = True)\n",
    "\n",
    "mat = confusion_matrix(data, 'C', 'ITE-ADAPTIVE-3CLUST', 6, save = save, save_dir = path4)\n",
    "print(name)\n",
    "display(mat)"
   ]
  },
  {
   "cell_type": "code",
   "execution_count": 30,
   "metadata": {},
   "outputs": [
    {
     "data": {
      "text/html": [
       "<div>\n",
       "<style scoped>\n",
       "    .dataframe tbody tr th:only-of-type {\n",
       "        vertical-align: middle;\n",
       "    }\n",
       "\n",
       "    .dataframe tbody tr th {\n",
       "        vertical-align: top;\n",
       "    }\n",
       "\n",
       "    .dataframe thead th {\n",
       "        text-align: right;\n",
       "    }\n",
       "</style>\n",
       "<table border=\"1\" class=\"dataframe\">\n",
       "  <thead>\n",
       "    <tr style=\"text-align: right;\">\n",
       "      <th></th>\n",
       "      <th>x0</th>\n",
       "      <th>x1</th>\n",
       "      <th>C</th>\n",
       "      <th>Treatment</th>\n",
       "      <th>Y</th>\n",
       "      <th>Ycf</th>\n",
       "      <th>ITE</th>\n",
       "      <th>IS_TEST</th>\n",
       "      <th>Ycf-GDBR</th>\n",
       "      <th>ITE-GDBR</th>\n",
       "      <th>Box-Cluster</th>\n",
       "      <th>ITE-ADAPTIVE</th>\n",
       "      <th>ITE-ADAPTIVE-3CLUST-err-GDBR</th>\n",
       "      <th>ITE-ADAPTIVE-3CLUST-err-True-ITE</th>\n",
       "    </tr>\n",
       "    <tr>\n",
       "      <th>ITE-ADAPTIVE-3CLUST</th>\n",
       "      <th></th>\n",
       "      <th></th>\n",
       "      <th></th>\n",
       "      <th></th>\n",
       "      <th></th>\n",
       "      <th></th>\n",
       "      <th></th>\n",
       "      <th></th>\n",
       "      <th></th>\n",
       "      <th></th>\n",
       "      <th></th>\n",
       "      <th></th>\n",
       "      <th></th>\n",
       "      <th></th>\n",
       "    </tr>\n",
       "  </thead>\n",
       "  <tbody>\n",
       "    <tr>\n",
       "      <th>0</th>\n",
       "      <td>0.486057</td>\n",
       "      <td>0.484342</td>\n",
       "      <td>0.001036</td>\n",
       "      <td>0.500737</td>\n",
       "      <td>1.000036</td>\n",
       "      <td>0.999866</td>\n",
       "      <td>0.001272</td>\n",
       "      <td>0.199260</td>\n",
       "      <td>0.997073</td>\n",
       "      <td>0.013053</td>\n",
       "      <td>662.056629</td>\n",
       "      <td>0.049961</td>\n",
       "      <td>0.014062</td>\n",
       "      <td>0.002306</td>\n",
       "    </tr>\n",
       "    <tr>\n",
       "      <th>1</th>\n",
       "      <td>0.434141</td>\n",
       "      <td>0.422427</td>\n",
       "      <td>0.536706</td>\n",
       "      <td>0.499239</td>\n",
       "      <td>0.790779</td>\n",
       "      <td>0.794405</td>\n",
       "      <td>0.534928</td>\n",
       "      <td>0.200932</td>\n",
       "      <td>0.798762</td>\n",
       "      <td>0.554492</td>\n",
       "      <td>575.361110</td>\n",
       "      <td>0.884162</td>\n",
       "      <td>0.560171</td>\n",
       "      <td>0.559344</td>\n",
       "    </tr>\n",
       "    <tr>\n",
       "      <th>2</th>\n",
       "      <td>0.573857</td>\n",
       "      <td>0.552564</td>\n",
       "      <td>1.791200</td>\n",
       "      <td>0.500538</td>\n",
       "      <td>1.193584</td>\n",
       "      <td>1.191367</td>\n",
       "      <td>1.792354</td>\n",
       "      <td>0.201080</td>\n",
       "      <td>1.195122</td>\n",
       "      <td>1.789834</td>\n",
       "      <td>758.558790</td>\n",
       "      <td>1.894561</td>\n",
       "      <td>1.074011</td>\n",
       "      <td>1.073013</td>\n",
       "    </tr>\n",
       "    <tr>\n",
       "      <th>3</th>\n",
       "      <td>0.638660</td>\n",
       "      <td>0.604763</td>\n",
       "      <td>3.462617</td>\n",
       "      <td>0.496928</td>\n",
       "      <td>1.737229</td>\n",
       "      <td>1.773841</td>\n",
       "      <td>3.454588</td>\n",
       "      <td>0.201144</td>\n",
       "      <td>1.766232</td>\n",
       "      <td>3.398721</td>\n",
       "      <td>832.754094</td>\n",
       "      <td>2.870129</td>\n",
       "      <td>0.764247</td>\n",
       "      <td>0.773020</td>\n",
       "    </tr>\n",
       "    <tr>\n",
       "      <th>4</th>\n",
       "      <td>0.575888</td>\n",
       "      <td>0.423610</td>\n",
       "      <td>4.345805</td>\n",
       "      <td>0.499673</td>\n",
       "      <td>2.175237</td>\n",
       "      <td>2.175309</td>\n",
       "      <td>4.351130</td>\n",
       "      <td>0.199996</td>\n",
       "      <td>2.168506</td>\n",
       "      <td>4.307077</td>\n",
       "      <td>582.091735</td>\n",
       "      <td>3.879626</td>\n",
       "      <td>0.441885</td>\n",
       "      <td>0.455383</td>\n",
       "    </tr>\n",
       "    <tr>\n",
       "      <th>5</th>\n",
       "      <td>0.251764</td>\n",
       "      <td>0.748155</td>\n",
       "      <td>5.000000</td>\n",
       "      <td>0.503252</td>\n",
       "      <td>2.514465</td>\n",
       "      <td>2.496347</td>\n",
       "      <td>4.997079</td>\n",
       "      <td>0.199235</td>\n",
       "      <td>2.477796</td>\n",
       "      <td>4.972505</td>\n",
       "      <td>1014.597194</td>\n",
       "      <td>4.844999</td>\n",
       "      <td>0.027495</td>\n",
       "      <td>0.002921</td>\n",
       "    </tr>\n",
       "  </tbody>\n",
       "</table>\n",
       "</div>"
      ],
      "text/plain": [
       "                           x0        x1         C  Treatment         Y  \\\n",
       "ITE-ADAPTIVE-3CLUST                                                      \n",
       "0                    0.486057  0.484342  0.001036   0.500737  1.000036   \n",
       "1                    0.434141  0.422427  0.536706   0.499239  0.790779   \n",
       "2                    0.573857  0.552564  1.791200   0.500538  1.193584   \n",
       "3                    0.638660  0.604763  3.462617   0.496928  1.737229   \n",
       "4                    0.575888  0.423610  4.345805   0.499673  2.175237   \n",
       "5                    0.251764  0.748155  5.000000   0.503252  2.514465   \n",
       "\n",
       "                          Ycf       ITE   IS_TEST  Ycf-GDBR  ITE-GDBR  \\\n",
       "ITE-ADAPTIVE-3CLUST                                                     \n",
       "0                    0.999866  0.001272  0.199260  0.997073  0.013053   \n",
       "1                    0.794405  0.534928  0.200932  0.798762  0.554492   \n",
       "2                    1.191367  1.792354  0.201080  1.195122  1.789834   \n",
       "3                    1.773841  3.454588  0.201144  1.766232  3.398721   \n",
       "4                    2.175309  4.351130  0.199996  2.168506  4.307077   \n",
       "5                    2.496347  4.997079  0.199235  2.477796  4.972505   \n",
       "\n",
       "                     Box-Cluster  ITE-ADAPTIVE  ITE-ADAPTIVE-3CLUST-err-GDBR  \\\n",
       "ITE-ADAPTIVE-3CLUST                                                            \n",
       "0                     662.056629      0.049961                      0.014062   \n",
       "1                     575.361110      0.884162                      0.560171   \n",
       "2                     758.558790      1.894561                      1.074011   \n",
       "3                     832.754094      2.870129                      0.764247   \n",
       "4                     582.091735      3.879626                      0.441885   \n",
       "5                    1014.597194      4.844999                      0.027495   \n",
       "\n",
       "                     ITE-ADAPTIVE-3CLUST-err-True-ITE  \n",
       "ITE-ADAPTIVE-3CLUST                                    \n",
       "0                                            0.002306  \n",
       "1                                            0.559344  \n",
       "2                                            1.073013  \n",
       "3                                            0.773020  \n",
       "4                                            0.455383  \n",
       "5                                            0.002921  "
      ]
     },
     "execution_count": 30,
     "metadata": {},
     "output_type": "execute_result"
    }
   ],
   "source": [
    "data.groupby('ITE-ADAPTIVE-3CLUST').mean()"
   ]
  },
  {
   "cell_type": "code",
   "execution_count": null,
   "metadata": {},
   "outputs": [],
   "source": []
  }
 ],
 "metadata": {
  "kernelspec": {
   "display_name": "Python [conda env:jorje]",
   "language": "python",
   "name": "conda-env-jorje-py"
  },
  "language_info": {
   "codemirror_mode": {
    "name": "ipython",
    "version": 3
   },
   "file_extension": ".py",
   "mimetype": "text/x-python",
   "name": "python",
   "nbconvert_exporter": "python",
   "pygments_lexer": "ipython3",
   "version": "3.7.2"
  }
 },
 "nbformat": 4,
 "nbformat_minor": 2
}
