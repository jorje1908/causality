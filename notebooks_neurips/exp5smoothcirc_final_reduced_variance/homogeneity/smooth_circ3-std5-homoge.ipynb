{
 "cells": [
  {
   "cell_type": "code",
   "execution_count": 1,
   "metadata": {},
   "outputs": [],
   "source": [
    "%load_ext autoreload\n",
    "%autoreload 2\n"
   ]
  },
  {
   "cell_type": "code",
   "execution_count": 2,
   "metadata": {},
   "outputs": [],
   "source": [
    "import numpy as np\n",
    "import pandas as pd\n",
    "import matplotlib.pyplot as plt\n",
    "import seaborn as sns\n",
    "import matplotlib as mpl\n",
    "\n",
    "from sklearn.cluster import KMeans \n",
    "from sklearn.cluster import SpectralClustering\n",
    "from sklearn.cluster import AgglomerativeClustering"
   ]
  },
  {
   "cell_type": "code",
   "execution_count": 3,
   "metadata": {},
   "outputs": [],
   "source": [
    "import sys\n",
    "\n",
    "sys.path.append('../../../src')\n",
    "\n"
   ]
  },
  {
   "cell_type": "code",
   "execution_count": 4,
   "metadata": {},
   "outputs": [],
   "source": [
    "from base_exp_gen import generate_experiment as GEN_EXP\n",
    "from clustering_algos import agglomerative_clustering, kmeans_clustering, box_clustering\n",
    "from sklearn.model_selection import train_test_split as datasplit\n",
    "from sklearn.ensemble import GradientBoostingRegressor as GDBR\n",
    "from evaluations import computeATT_per_cluster, predict_cf, calculate_ite, get_homogeneity\n",
    "\n"
   ]
  },
  {
   "cell_type": "code",
   "execution_count": 5,
   "metadata": {},
   "outputs": [],
   "source": [
    "np.random.seed(seed = 0)"
   ]
  },
  {
   "cell_type": "code",
   "execution_count": 6,
   "metadata": {},
   "outputs": [],
   "source": [
    "pd.set_option(\"display.max_columns\", None)\n"
   ]
  },
  {
   "cell_type": "code",
   "execution_count": 7,
   "metadata": {},
   "outputs": [],
   "source": [
    "x_partition = [[i,i**2,2*i**4, 50000] for i in [2,4,5,10,12,20,25,33]]\n",
    "def its(x):\n",
    "    for i, (x1,x2,x3,x4) in enumerate(x[1:]):\n",
    "        x[i+1][3]=(int(x[i][3]/(2*np.sqrt(x3/x[i][2]))))\n",
    "    return x"
   ]
  },
  {
   "cell_type": "code",
   "execution_count": 8,
   "metadata": {},
   "outputs": [],
   "source": [
    "a = its(x_partition)\n",
    "exps = pd.DataFrame(a, columns = ['X-parts','Clusters', 'N', 'iters'])"
   ]
  },
  {
   "cell_type": "code",
   "execution_count": 9,
   "metadata": {},
   "outputs": [],
   "source": [
    "name = 'adaptive-box'\n",
    "exps.index.name = name"
   ]
  },
  {
   "cell_type": "code",
   "execution_count": 10,
   "metadata": {},
   "outputs": [],
   "source": [
    "exps['mean-hom'] = 0\n",
    "exps['std-hom'] = 0"
   ]
  },
  {
   "cell_type": "code",
   "execution_count": 11,
   "metadata": {},
   "outputs": [
    {
     "data": {
      "text/html": [
       "<div>\n",
       "<style scoped>\n",
       "    .dataframe tbody tr th:only-of-type {\n",
       "        vertical-align: middle;\n",
       "    }\n",
       "\n",
       "    .dataframe tbody tr th {\n",
       "        vertical-align: top;\n",
       "    }\n",
       "\n",
       "    .dataframe thead th {\n",
       "        text-align: right;\n",
       "    }\n",
       "</style>\n",
       "<table border=\"1\" class=\"dataframe\">\n",
       "  <thead>\n",
       "    <tr style=\"text-align: right;\">\n",
       "      <th></th>\n",
       "      <th>X-parts</th>\n",
       "      <th>Clusters</th>\n",
       "      <th>N</th>\n",
       "      <th>iters</th>\n",
       "      <th>mean-hom</th>\n",
       "      <th>std-hom</th>\n",
       "    </tr>\n",
       "    <tr>\n",
       "      <th>box</th>\n",
       "      <th></th>\n",
       "      <th></th>\n",
       "      <th></th>\n",
       "      <th></th>\n",
       "      <th></th>\n",
       "      <th></th>\n",
       "    </tr>\n",
       "  </thead>\n",
       "  <tbody>\n",
       "    <tr>\n",
       "      <th>0</th>\n",
       "      <td>2</td>\n",
       "      <td>4</td>\n",
       "      <td>32</td>\n",
       "      <td>50000</td>\n",
       "      <td>0</td>\n",
       "      <td>0</td>\n",
       "    </tr>\n",
       "    <tr>\n",
       "      <th>1</th>\n",
       "      <td>4</td>\n",
       "      <td>16</td>\n",
       "      <td>512</td>\n",
       "      <td>6250</td>\n",
       "      <td>0</td>\n",
       "      <td>0</td>\n",
       "    </tr>\n",
       "    <tr>\n",
       "      <th>2</th>\n",
       "      <td>5</td>\n",
       "      <td>25</td>\n",
       "      <td>1250</td>\n",
       "      <td>2000</td>\n",
       "      <td>0</td>\n",
       "      <td>0</td>\n",
       "    </tr>\n",
       "    <tr>\n",
       "      <th>3</th>\n",
       "      <td>10</td>\n",
       "      <td>100</td>\n",
       "      <td>20000</td>\n",
       "      <td>250</td>\n",
       "      <td>0</td>\n",
       "      <td>0</td>\n",
       "    </tr>\n",
       "    <tr>\n",
       "      <th>4</th>\n",
       "      <td>12</td>\n",
       "      <td>144</td>\n",
       "      <td>41472</td>\n",
       "      <td>86</td>\n",
       "      <td>0</td>\n",
       "      <td>0</td>\n",
       "    </tr>\n",
       "    <tr>\n",
       "      <th>5</th>\n",
       "      <td>20</td>\n",
       "      <td>400</td>\n",
       "      <td>320000</td>\n",
       "      <td>15</td>\n",
       "      <td>0</td>\n",
       "      <td>0</td>\n",
       "    </tr>\n",
       "    <tr>\n",
       "      <th>6</th>\n",
       "      <td>25</td>\n",
       "      <td>625</td>\n",
       "      <td>781250</td>\n",
       "      <td>4</td>\n",
       "      <td>0</td>\n",
       "      <td>0</td>\n",
       "    </tr>\n",
       "    <tr>\n",
       "      <th>7</th>\n",
       "      <td>33</td>\n",
       "      <td>1089</td>\n",
       "      <td>2371842</td>\n",
       "      <td>1</td>\n",
       "      <td>0</td>\n",
       "      <td>0</td>\n",
       "    </tr>\n",
       "  </tbody>\n",
       "</table>\n",
       "</div>"
      ],
      "text/plain": [
       "     X-parts  Clusters        N  iters  mean-hom  std-hom\n",
       "box                                                      \n",
       "0          2         4       32  50000         0        0\n",
       "1          4        16      512   6250         0        0\n",
       "2          5        25     1250   2000         0        0\n",
       "3         10       100    20000    250         0        0\n",
       "4         12       144    41472     86         0        0\n",
       "5         20       400   320000     15         0        0\n",
       "6         25       625   781250      4         0        0\n",
       "7         33      1089  2371842      1         0        0"
      ]
     },
     "execution_count": 11,
     "metadata": {},
     "output_type": "execute_result"
    }
   ],
   "source": [
    "exps"
   ]
  },
  {
   "cell_type": "code",
   "execution_count": 12,
   "metadata": {},
   "outputs": [],
   "source": [
    "import time"
   ]
  },
  {
   "cell_type": "code",
   "execution_count": 13,
   "metadata": {},
   "outputs": [
    {
     "name": "stdout",
     "output_type": "stream",
     "text": [
      "running: 4 32\n",
      "time: 7772.299128770828\n",
      "running: 16 512\n",
      "time: 1816.9583611488342\n",
      "running: 25 1250\n",
      "time: 790.0982978343964\n",
      "running: 100 20000\n",
      "time: 308.4517066478729\n",
      "running: 144 41472\n",
      "time: 148.02998614311218\n",
      "running: 400 320000\n",
      "time: 78.26035165786743\n",
      "running: 625 781250\n",
      "time: 35.72227334976196\n",
      "running: 1089 2371842\n",
      "time: 20.80250859260559\n",
      "CPU times: user 1h 20min 13s, sys: 17.7 s, total: 1h 20min 30s\n",
      "Wall time: 3h 2min 50s\n"
     ]
    }
   ],
   "source": [
    "%%time\n",
    "col_select = ['x0', 'x1']\n",
    "gen = []\n",
    "centers = [[0.5,0.5],[0.5,0.5]]\n",
    "r_small = [0, 0.325735]\n",
    "r_big = [0.325735,0.46065886]\n",
    "eligibilities = [2,1]\n",
    "\n",
    "for i,row in exps.iterrows():\n",
    "    c, n, iters = row.Clusters, row.N, row.iters\n",
    "    homc = []\n",
    "    print('running:',c,n)\n",
    "    ss = time.time()\n",
    "    for j in range(iters):\n",
    "        ###gneerate data\n",
    "        N,D = n, 2\n",
    "        e = int((N)**(1/4))\n",
    "        clusters = e**2\n",
    "        print(\"Number of Clusters:{}, Number of Points:{}\".format(clusters, N))\n",
    "        kw_generate =  {'N':N, 'D':D,'f_gen_name': 'uniform_gen','low':0, 'high': 1}\n",
    "        kw_cluster =  {'f_class_name':'circle_class4', 'centers': centers,\n",
    "                       'eligibilities':eligibilities,'r_small': r_small, 'r_big':r_big}\n",
    "        kw_treatment = {'f_treat_name' :'uniform_treat','choices':[0,1], 'probabilities':[0.5,0.5]}\n",
    "\n",
    "        std = 5\n",
    "        stats = np.array([[1, std], [0, std], [0, std], [1, std],[1, std],\n",
    "                          [2, std]])\n",
    "        kw_outcome = {'f_outcome_name': 'outcome1','treatment':'Treatment', 'cls':'C', 'stats':stats}\n",
    "\n",
    "        data = GEN_EXP(kw_generate, kw_cluster, kw_treatment, kw_outcome).dat\n",
    "        \n",
    "        ### cluster data\n",
    "        ### calc hom\n",
    "        \n",
    "        hom = calc_hom_adaptive()\n",
    "        homc.append(hom)\n",
    "        \n",
    "    ###get stats\n",
    "    ee = time.time() - ss\n",
    "    print('time:',ee)\n",
    "    homcnp = np.array(homc)\n",
    "    gen.append(homcnp)\n",
    "    mean = np.mean(homcnp)\n",
    "    std = np.std(homcnp)\n",
    "    exps.loc[i,'mean-hom'] = mean\n",
    "    exps.loc[i,'std-hom'] = std\n",
    "    \n",
    "    "
   ]
  },
  {
   "cell_type": "code",
   "execution_count": 14,
   "metadata": {},
   "outputs": [
    {
     "data": {
      "text/html": [
       "<div>\n",
       "<style scoped>\n",
       "    .dataframe tbody tr th:only-of-type {\n",
       "        vertical-align: middle;\n",
       "    }\n",
       "\n",
       "    .dataframe tbody tr th {\n",
       "        vertical-align: top;\n",
       "    }\n",
       "\n",
       "    .dataframe thead th {\n",
       "        text-align: right;\n",
       "    }\n",
       "</style>\n",
       "<table border=\"1\" class=\"dataframe\">\n",
       "  <thead>\n",
       "    <tr style=\"text-align: right;\">\n",
       "      <th></th>\n",
       "      <th>X-parts</th>\n",
       "      <th>Clusters</th>\n",
       "      <th>N</th>\n",
       "      <th>iters</th>\n",
       "      <th>mean-hom</th>\n",
       "      <th>std-hom</th>\n",
       "    </tr>\n",
       "    <tr>\n",
       "      <th>box</th>\n",
       "      <th></th>\n",
       "      <th></th>\n",
       "      <th></th>\n",
       "      <th></th>\n",
       "      <th></th>\n",
       "      <th></th>\n",
       "    </tr>\n",
       "  </thead>\n",
       "  <tbody>\n",
       "    <tr>\n",
       "      <th>0</th>\n",
       "      <td>2</td>\n",
       "      <td>4</td>\n",
       "      <td>32</td>\n",
       "      <td>50000</td>\n",
       "      <td>0.671417</td>\n",
       "      <td>0.061389</td>\n",
       "    </tr>\n",
       "    <tr>\n",
       "      <th>1</th>\n",
       "      <td>4</td>\n",
       "      <td>16</td>\n",
       "      <td>512</td>\n",
       "      <td>6250</td>\n",
       "      <td>0.669695</td>\n",
       "      <td>0.015040</td>\n",
       "    </tr>\n",
       "    <tr>\n",
       "      <th>2</th>\n",
       "      <td>5</td>\n",
       "      <td>25</td>\n",
       "      <td>1250</td>\n",
       "      <td>2000</td>\n",
       "      <td>0.776799</td>\n",
       "      <td>0.010427</td>\n",
       "    </tr>\n",
       "    <tr>\n",
       "      <th>3</th>\n",
       "      <td>10</td>\n",
       "      <td>100</td>\n",
       "      <td>20000</td>\n",
       "      <td>250</td>\n",
       "      <td>0.937516</td>\n",
       "      <td>0.001523</td>\n",
       "    </tr>\n",
       "    <tr>\n",
       "      <th>4</th>\n",
       "      <td>12</td>\n",
       "      <td>144</td>\n",
       "      <td>41472</td>\n",
       "      <td>86</td>\n",
       "      <td>0.918619</td>\n",
       "      <td>0.001281</td>\n",
       "    </tr>\n",
       "    <tr>\n",
       "      <th>5</th>\n",
       "      <td>20</td>\n",
       "      <td>400</td>\n",
       "      <td>320000</td>\n",
       "      <td>15</td>\n",
       "      <td>0.962720</td>\n",
       "      <td>0.000296</td>\n",
       "    </tr>\n",
       "    <tr>\n",
       "      <th>6</th>\n",
       "      <td>25</td>\n",
       "      <td>625</td>\n",
       "      <td>781250</td>\n",
       "      <td>4</td>\n",
       "      <td>0.955020</td>\n",
       "      <td>0.000335</td>\n",
       "    </tr>\n",
       "    <tr>\n",
       "      <th>7</th>\n",
       "      <td>33</td>\n",
       "      <td>1089</td>\n",
       "      <td>2371842</td>\n",
       "      <td>1</td>\n",
       "      <td>0.973252</td>\n",
       "      <td>0.000000</td>\n",
       "    </tr>\n",
       "  </tbody>\n",
       "</table>\n",
       "</div>"
      ],
      "text/plain": [
       "     X-parts  Clusters        N  iters  mean-hom   std-hom\n",
       "box                                                       \n",
       "0          2         4       32  50000  0.671417  0.061389\n",
       "1          4        16      512   6250  0.669695  0.015040\n",
       "2          5        25     1250   2000  0.776799  0.010427\n",
       "3         10       100    20000    250  0.937516  0.001523\n",
       "4         12       144    41472     86  0.918619  0.001281\n",
       "5         20       400   320000     15  0.962720  0.000296\n",
       "6         25       625   781250      4  0.955020  0.000335\n",
       "7         33      1089  2371842      1  0.973252  0.000000"
      ]
     },
     "execution_count": 14,
     "metadata": {},
     "output_type": "execute_result"
    }
   ],
   "source": [
    "exps"
   ]
  },
  {
   "cell_type": "code",
   "execution_count": 139,
   "metadata": {},
   "outputs": [],
   "source": [
    "def adaptive_hom(x, e, r1, r2):\n",
    "    N = len(x)\n",
    "    check = 9\n",
    "    d = np.zeros(shape = [N, check]).astype(np.float64)\n",
    "    \n",
    "    xe = np.array([-e/2,0,e/2]).astype(np.float64)\n",
    "    \n",
    "    count = 0\n",
    "    for i in range(len(xe)):\n",
    "        for j in range(len(xe)):\n",
    "            #if i==0 and j== 0:\n",
    "                #continue\n",
    "        \n",
    "            d[:,count] = (x[:,0]+xe[i]-0.5)**2+(x[:,1]+xe[j]-0.5)**2\n",
    "            count += 1\n",
    "            \n",
    "    reg1 = r2[0]**2\n",
    "    reg2 = r2[1]**2\n",
    "    print(reg1, reg2)\n",
    "\n",
    "    \n",
    "    d1 = np.where( d <= reg1, -1, d)\n",
    "   # print(d)\n",
    "    d2 = np.where( ((d1 >= reg1) & (d1 <= reg2)), -2, d1)\n",
    "   # print(d)\n",
    "    d3 = np.where( d2 >= reg2 , -3, d2)\n",
    "    #print(d)\n",
    "    \n",
    "    mn = np.min(d3, axis = 1)\n",
    "    mx = np.max(d3, axis = 1)\n",
    "    \n",
    "    return np.mean(mn == mx), [d, d1, d2, d3]\n",
    "\n",
    "    \n",
    "    "
   ]
  },
  {
   "cell_type": "code",
   "execution_count": 151,
   "metadata": {},
   "outputs": [
    {
     "name": "stdout",
     "output_type": "stream",
     "text": [
      "Number of Clusters:1369, Number of Points:2000000\n"
     ]
    }
   ],
   "source": [
    "N,D = 2*10**6, 2\n",
    "x = int((N)**(1/4))\n",
    "clusters = x**2\n",
    "print(\"Number of Clusters:{}, Number of Points:{}\".format(clusters, N))\n",
    "kw_generate =  {'N':N, 'D':D,'f_gen_name': 'uniform_gen','low':0, 'high': 1}\n",
    "centers = [[0.5,0.5],[0.5,0.5]]\n",
    "r_small = [0, 0.325735]\n",
    "r_big = [0.325735,0.46065886]\n",
    "eligibilities = [2,1]\n",
    "kw_cluster =  {'f_class_name':'circle_class4', 'centers': centers,\n",
    "               'eligibilities':eligibilities,'r_small': r_small, 'r_big':r_big}\n",
    "kw_treatment = {'f_treat_name' :'uniform_treat','choices':[0,1], 'probabilities':[0.5,0.5]}\n",
    "\n",
    "std = 5\n",
    "stats = np.array([[1, std], [0, std], [0, std], [1, std],[1, std],\n",
    "                  [2, std]])\n",
    "kw_outcome = {'f_outcome_name': 'outcome1','treatment':'Treatment', 'cls':'C', 'stats':stats}\n",
    "\n",
    "data = GEN_EXP(kw_generate, kw_cluster, kw_treatment, kw_outcome).dat\n",
    "data = calculate_ite(data.copy(), treatment = 'Treatment',\n",
    "                     counterfactual = 'Ycf', outcome = 'Y', ite_name = 'ITE')"
   ]
  },
  {
   "cell_type": "code",
   "execution_count": 152,
   "metadata": {},
   "outputs": [],
   "source": [
    "col_select = ['x0', 'x1']\n",
    "values = data[col_select].values"
   ]
  },
  {
   "cell_type": "code",
   "execution_count": 153,
   "metadata": {},
   "outputs": [
    {
     "name": "stdout",
     "output_type": "stream",
     "text": [
      "0.106103290225 0.2122065852964996\n"
     ]
    }
   ],
   "source": [
    "res, ds = adaptive_hom(values, 1/x, np.array(r_small), np.array(r_big))"
   ]
  },
  {
   "cell_type": "code",
   "execution_count": 154,
   "metadata": {},
   "outputs": [
    {
     "data": {
      "text/plain": [
       "(0.8298535, 0.02702702702702703)"
      ]
     },
     "execution_count": 154,
     "metadata": {},
     "output_type": "execute_result"
    }
   ],
   "source": [
    "res, 1/x"
   ]
  },
  {
   "cell_type": "code",
   "execution_count": 148,
   "metadata": {},
   "outputs": [
    {
     "data": {
      "text/plain": [
       "array([[7.26535012e-01, 4.47099391e-01],\n",
       "       [7.91187580e-01, 1.82341289e-01],\n",
       "       [6.14138618e-02, 4.70300365e-01],\n",
       "       ...,\n",
       "       [2.20327505e-02, 1.41948813e-01],\n",
       "       [7.06996249e-01, 9.70210595e-01],\n",
       "       [2.82764753e-04, 9.59946366e-01]])"
      ]
     },
     "execution_count": 148,
     "metadata": {},
     "output_type": "execute_result"
    }
   ],
   "source": [
    "values"
   ]
  },
  {
   "cell_type": "code",
   "execution_count": 149,
   "metadata": {},
   "outputs": [
    {
     "data": {
      "text/plain": [
       "0.9045371"
      ]
     },
     "execution_count": 149,
     "metadata": {},
     "output_type": "execute_result"
    }
   ],
   "source": [
    "res"
   ]
  },
  {
   "cell_type": "code",
   "execution_count": 150,
   "metadata": {},
   "outputs": [
    {
     "data": {
      "text/plain": [
       "array([[7.26535012e-01, 4.47099391e-01],\n",
       "       [7.91187580e-01, 1.82341289e-01],\n",
       "       [6.14138618e-02, 4.70300365e-01],\n",
       "       ...,\n",
       "       [2.20327505e-02, 1.41948813e-01],\n",
       "       [7.06996249e-01, 9.70210595e-01],\n",
       "       [2.82764753e-04, 9.59946366e-01]])"
      ]
     },
     "execution_count": 150,
     "metadata": {},
     "output_type": "execute_result"
    }
   ],
   "source": [
    "values"
   ]
  },
  {
   "cell_type": "code",
   "execution_count": 128,
   "metadata": {},
   "outputs": [
    {
     "name": "stdout",
     "output_type": "stream",
     "text": [
      "[[0.3 0.2 0.2 ... 0.2 0.2 0.2]\n",
      " [0.1 0.1 0.1 ... 0.  0.  0.1]\n",
      " [0.1 0.1 0.1 ... 0.2 0.1 0.1]\n",
      " ...\n",
      " [0.2 0.1 0.1 ... 0.1 0.1 0.1]\n",
      " [0.  0.  0.  ... 0.  0.  0. ]\n",
      " [0.1 0.1 0.1 ... 0.1 0.1 0.1]]\n"
     ]
    }
   ],
   "source": [
    "print(ds[0].round(1))"
   ]
  },
  {
   "cell_type": "code",
   "execution_count": 129,
   "metadata": {},
   "outputs": [
    {
     "data": {
      "text/plain": [
       "array([[-3., -3., -3., ..., -3., -3., -2.],\n",
       "       [-1., -1., -1., ..., -1., -1., -1.],\n",
       "       [-2., -2., -1., ..., -2., -2., -2.],\n",
       "       ...,\n",
       "       [-2., -2., -2., ..., -2., -2., -1.],\n",
       "       [-1., -1., -1., ..., -1., -1., -1.],\n",
       "       [-2., -1., -1., ..., -2., -2., -2.]])"
      ]
     },
     "execution_count": 129,
     "metadata": {},
     "output_type": "execute_result"
    }
   ],
   "source": [
    "ds[-1]\n"
   ]
  },
  {
   "cell_type": "code",
   "execution_count": 80,
   "metadata": {},
   "outputs": [
    {
     "data": {
      "text/plain": [
       "0.6"
      ]
     },
     "execution_count": 80,
     "metadata": {},
     "output_type": "execute_result"
    }
   ],
   "source": [
    "res"
   ]
  },
  {
   "cell_type": "code",
   "execution_count": 63,
   "metadata": {},
   "outputs": [
    {
     "data": {
      "text/plain": [
       "array([[0.16721111, 0.33000076, 0.06902495, ..., 0.13362843, 0.24086252,\n",
       "        0.40365217],\n",
       "       [0.16004959, 0.2948417 , 0.18815979, ..., 0.3510621 , 0.43029865,\n",
       "        0.56509076],\n",
       "       [0.56223518, 0.83576437, 0.3264672 , ..., 0.36422842, 0.58220206,\n",
       "        0.85573125],\n",
       "       ...,\n",
       "       [0.66370082, 0.9628755 , 0.45725403, ..., 0.54998193, 0.79360105,\n",
       "        1.09277573],\n",
       "       [0.28010162, 0.48418407, 0.15310229, ..., 0.2301854 , 0.37871229,\n",
       "        0.58279474],\n",
       "       [0.15171958, 0.30255767, 0.04281567, ..., 0.08474984, 0.18003238,\n",
       "        0.33087047]])"
      ]
     },
     "execution_count": 63,
     "metadata": {},
     "output_type": "execute_result"
    }
   ],
   "source": [
    "ds[0]"
   ]
  },
  {
   "cell_type": "code",
   "execution_count": 64,
   "metadata": {},
   "outputs": [],
   "source": [
    "from pathlib import Path\n",
    "\n"
   ]
  },
  {
   "cell_type": "code",
   "execution_count": 16,
   "metadata": {},
   "outputs": [],
   "source": [
    "p = './homogstd5/'\n",
    "Path('./homogstd5/').mkdir(parents = True, exist_ok = True)\n",
    "exps.to_csv(p+name+'.csv')\n"
   ]
  },
  {
   "cell_type": "code",
   "execution_count": null,
   "metadata": {},
   "outputs": [],
   "source": []
  }
 ],
 "metadata": {
  "kernelspec": {
   "display_name": "Python [conda env:jorje]",
   "language": "python",
   "name": "conda-env-jorje-py"
  },
  "language_info": {
   "codemirror_mode": {
    "name": "ipython",
    "version": 3
   },
   "file_extension": ".py",
   "mimetype": "text/x-python",
   "name": "python",
   "nbconvert_exporter": "python",
   "pygments_lexer": "ipython3",
   "version": "3.7.2"
  }
 },
 "nbformat": 4,
 "nbformat_minor": 2
}
