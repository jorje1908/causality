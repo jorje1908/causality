{
 "cells": [
  {
   "cell_type": "code",
   "execution_count": 18,
   "metadata": {},
   "outputs": [],
   "source": [
    "import numpy as np\n",
    "import pandas as pd\n",
    "import matplotlib.pyplot as plt\n",
    "import seaborn as sns\n",
    "\n",
    "import sys\n",
    "\n",
    "sys.path.append('../src')\n",
    "from clustering_algos import opt_kmeans, opt_kmeans_with_weights, backtrack\n",
    "np.random.seed(seed = 0)"
   ]
  },
  {
   "cell_type": "code",
   "execution_count": 70,
   "metadata": {},
   "outputs": [],
   "source": [
    "m = [0,3,6]\n",
    "data = np.random.normal(loc = m, scale = [0.5]*3, size = [100,3])\n",
    "data = np.sort(data.reshape([-1]))\n",
    "#data = np.random.uniform(0,10,300)\n",
    "#data = np.sort(data.reshape([-1]))\n",
    "#data = np.arange(300)\n",
    "k=9"
   ]
  },
  {
   "cell_type": "code",
   "execution_count": 71,
   "metadata": {},
   "outputs": [],
   "source": [
    "#1d optimal kmeans no weights\n",
    "D1,B1 = opt_kmeans(data, k)\n",
    "\n",
    "#1d optimal kmeans with weights\n",
    "weights = np.ones(shape = [len(data)])\n",
    "#weights[0:200] = 1000000\n",
    "#weights = weights/np.sum(weights)  \n",
    "D,B = opt_kmeans_with_weights(data, k, weights = weights)\n"
   ]
  },
  {
   "cell_type": "code",
   "execution_count": 110,
   "metadata": {},
   "outputs": [],
   "source": [
    "kb = 6\n",
    "ints1 = backtrack(B1, len(data), kb)\n",
    "ints = backtrack(B, len(data), kb)\n"
   ]
  },
  {
   "cell_type": "code",
   "execution_count": 111,
   "metadata": {},
   "outputs": [
    {
     "data": {
      "text/plain": [
       "True"
      ]
     },
     "execution_count": 111,
     "metadata": {},
     "output_type": "execute_result"
    }
   ],
   "source": [
    "ints == ints1"
   ]
  },
  {
   "cell_type": "code",
   "execution_count": 112,
   "metadata": {},
   "outputs": [
    {
     "data": {
      "text/plain": [
       "[0, 35, 101, 147, 201, 245, 300]"
      ]
     },
     "execution_count": 112,
     "metadata": {},
     "output_type": "execute_result"
    }
   ],
   "source": [
    "ints"
   ]
  },
  {
   "cell_type": "code",
   "execution_count": 113,
   "metadata": {},
   "outputs": [
    {
     "data": {
      "image/png": "[encoded data removed]",
      "text/plain": [
       "<Figure size 432x288 with 1 Axes>"
      ]
     },
     "metadata": {
      "needs_background": "light"
     },
     "output_type": "display_data"
    }
   ],
   "source": [
    "fig, ax = plt.subplots(1,1)\n",
    "ax = sns.distplot(data, bins = 100, kde = False,ax = ax)\n",
    "for i in range(1,len(ints)):\n",
    "    mu = np.sum(data[int(ints[i-1]):int(ints[i])]*weights[ints[i-1]:ints[i]])/sum(weights[ints[i-1]:ints[i]])\n",
    "    #print(mu)\n",
    "    ax.axvline(x = mu, color = 'r', linestyle = '--')"
   ]
  },
  {
   "cell_type": "code",
   "execution_count": null,
   "metadata": {},
   "outputs": [],
   "source": []
  }
 ],
 "metadata": {
  "kernelspec": {
   "display_name": "Python [conda env:MachineLearning]",
   "language": "python",
   "name": "conda-env-MachineLearning-py"
  },
  "language_info": {
   "codemirror_mode": {
    "name": "ipython",
    "version": 3
   },
   "file_extension": ".py",
   "mimetype": "text/x-python",
   "name": "python",
   "nbconvert_exporter": "python",
   "pygments_lexer": "ipython3",
   "version": "3.7.2"
  }
 },
 "nbformat": 4,
 "nbformat_minor": 2
}
