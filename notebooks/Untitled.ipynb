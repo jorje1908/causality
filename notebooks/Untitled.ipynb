{
 "cells": [
  {
   "cell_type": "code",
   "execution_count": 205,
   "metadata": {},
   "outputs": [
    {
     "name": "stdout",
     "output_type": "stream",
     "text": [
      "4.420120000000008 11.488610951638575\n"
     ]
    }
   ],
   "source": [
    "#disease infection mean\n",
    "mu = 0.8\n",
    "#cost per patient mean\n",
    "kappa = 2.3\n",
    "\n",
    "#standard deviations of the same quantities\n",
    "smu = 0.628\n",
    "sk = 0.61\n",
    "\n",
    "#estimate variance of TC_n\n",
    "def var_est(mu =0.8,kappa =2.3,smu = 0.628, sk = 0.61, nf = 0):\n",
    "    \"\"\"\n",
    "    Inptus: mu, k, sigma_mu, sigma_k\n",
    "    Output: Var(Tc_n)\n",
    "    \n",
    "    \"\"\"\n",
    "    gn = lambda n: sk+kappa**2-kappa +2*kappa**2*mu*(mu**n-1)/(mu-1) +(smu+mu**2-mu)*(kappa**2)*((mu**n-1)/(mu-1))**2\n",
    "\n",
    "    ss = 0\n",
    "    nn2 = nf\n",
    "    nn = nn2+1\n",
    "    for i in range(0,nn2+1):\n",
    "        ss += gn(nn2-i)*mu**(i)\n",
    "    \n",
    "    final = ss+kappa*(mu**nn-1)/(mu-1)-(kappa*(mu**nn-1)/(mu-1))**2\n",
    "    return final\n",
    "\n",
    "#estimate mean of TC_n\n",
    "def mean_est(mu=0.8, kappa = 2.3, nf = 0):\n",
    "    \"\"\"\n",
    "    input: mu, k\n",
    "    Output E[TC_n]\n",
    "    \"\"\"\n",
    "    nn = nf+ 1\n",
    "    return kappa*(mu**nn-1)/(mu-1)\n",
    "\n",
    "print(var_est(nf=1), mean_est(nf=30))"
   ]
  },
  {
   "cell_type": "code",
   "execution_count": 21,
   "metadata": {},
   "outputs": [],
   "source": [
    "import numpy as np"
   ]
  },
  {
   "cell_type": "code",
   "execution_count": 60,
   "metadata": {},
   "outputs": [],
   "source": [
    "cost_dist = [0.2,0.3,0.5]\n",
    "gen_dist = [0.5,0.2,0.3]\n",
    "\n",
    "def simulate(cost_dist, gen_dist):\n",
    "    \"\"\"\n",
    "    Input:\n",
    "    cost_dist:(List) cost distribution\n",
    "    gen_dist:(List) infection spread distribution\n",
    "    \n",
    "    return: X_n, C_n\n",
    "    \n",
    "    \"\"\"\n",
    "    xn = [0,1,2]\n",
    "    X_n = [1]\n",
    "    cn = [1,2,3]\n",
    "    C_n = [np.random.choice(cn,size = X_n[-1],p=cost_dist)[0]]\n",
    "    while True: #until branching process dies\n",
    "        \n",
    "        #generate X_n\n",
    "        Xn = sum([np.random.choice(xn,size = 1,p=gen_dist)[0] for i in range(X_n[-1])])\n",
    "        if Xn == 0:\n",
    "            break\n",
    "        else:\n",
    "            X_n.append(Xn)\n",
    "            \n",
    "        C_n.append(sum(np.random.choice(cn, size = X_n[-1],p=cost_dist)))\n",
    "    return np.array(X_n), np.array(C_n)\n",
    "        \n",
    "        \n",
    "    \n",
    "    \n",
    "    "
   ]
  },
  {
   "cell_type": "code",
   "execution_count": 164,
   "metadata": {},
   "outputs": [
    {
     "name": "stdout",
     "output_type": "stream",
     "text": [
      "CPU times: user 3min 10s, sys: 607 ms, total: 3min 10s\n",
      "Wall time: 3min 10s\n"
     ]
    }
   ],
   "source": [
    "%%time\n",
    "K = 500000\n",
    "time_to_finish = np.zeros(K)\n",
    "\n",
    "#E[TC_n]\n",
    "tcn = np.zeros(100)\n",
    "\n",
    "#E[TX_n]\n",
    "txn = np.zeros(100)\n",
    "\n",
    "# TC_n,k we save all TC_n sequneces \n",
    "#for all simulations\n",
    "tctot = np.zeros([K,100])\n",
    "ml = 0\n",
    "\n",
    "#Simulate for K=500,000\n",
    "for i in range(K):\n",
    "    Xn,Cn = simulate(cost_dist, gen_dist)\n",
    "    time_to_finish[i] = len(Xn)\n",
    "    if len(Xn) > ml:\n",
    "        ml = len(Xn)\n",
    "    tctot[i,:len(Xn)] = Cn\n",
    "    tcn[:len(Xn)] += Cn\n",
    "    txn[:len(Xn)] += Xn\n",
    "tctot = np.array(tctot)\n",
    "tcn/=K\n",
    "txn/=K"
   ]
  },
  {
   "cell_type": "code",
   "execution_count": 175,
   "metadata": {},
   "outputs": [],
   "source": [
    "#E[TC_n] n goes to infinity\n",
    "TCN = sum(tcn)\n"
   ]
  },
  {
   "cell_type": "code",
   "execution_count": 177,
   "metadata": {},
   "outputs": [],
   "source": [
    "#Sample variance and mean for n < 15\n",
    "var = np.var(np.cumsum(tctot,axis = 1), axis = 0)[0:15]\n",
    "mean = np.mean(np.cumsum(tctot,axis = 1), axis = 0)[0:15]"
   ]
  },
  {
   "cell_type": "code",
   "execution_count": 204,
   "metadata": {},
   "outputs": [
    {
     "data": {
      "text/plain": [
       "5.1190193904019345"
      ]
     },
     "execution_count": 204,
     "metadata": {},
     "output_type": "execute_result"
    }
   ],
   "source": [
    "var[1]"
   ]
  },
  {
   "cell_type": "code",
   "execution_count": 194,
   "metadata": {},
   "outputs": [
    {
     "data": {
      "text/plain": [
       "0.027487776644925636"
      ]
     },
     "execution_count": 194,
     "metadata": {},
     "output_type": "execute_result"
    }
   ],
   "source": [
    "np.sqrt(var[14])/np.sqrt(K)"
   ]
  },
  {
   "cell_type": "code",
   "execution_count": 179,
   "metadata": {},
   "outputs": [],
   "source": [
    "the_var = np.zeros(15)\n",
    "the_mean = np.zeros(15)\n",
    "\n",
    "for i in range(15):\n",
    "    the_var[i] = var_est(nf = i)\n",
    "    the_mean[i] = mean_est(nf = i)"
   ]
  },
  {
   "cell_type": "code",
   "execution_count": 180,
   "metadata": {},
   "outputs": [],
   "source": [
    "import matplotlib.pyplot as plt\n",
    "import matplotlib as mpl\n",
    "\n",
    "div = 1\n",
    "\n",
    "l1 = 22/div\n",
    "l2 = 20/div\n",
    "l3 = 13/(div-0.2)\n",
    "\n",
    "mpl.rcParams['xtick.labelsize'] = l2\n",
    "mpl.rcParams['ytick.labelsize'] = l2\n",
    "mpl.rcParams['axes.labelsize'] = l1\n",
    "mpl.rcParams['font.serif'] = 'Times New Roman'\n",
    "mpl.rcParams['font.weight'] = 'normal'\n",
    "mpl.rcParams['font.size'] = 20\n",
    "mpl.rcParams['legend.fontsize'] = l3"
   ]
  },
  {
   "cell_type": "code",
   "execution_count": 181,
   "metadata": {},
   "outputs": [
    {
     "data": {
      "image/png": "[encoded data removed]",
      "text/plain": [
       "<Figure size 432x288 with 1 Axes>"
      ]
     },
     "metadata": {
      "needs_background": "light"
     },
     "output_type": "display_data"
    }
   ],
   "source": [
    "fig, ax = plt.subplots(1,1)\n",
    "ax.plot(np.arange(15), var,'k--')\n",
    "ax.plot(np.arange(15), the_var,'ko-')\n",
    "ax.set_xlabel('time(n)')\n",
    "ax.set_ylabel(r'$Var[TC_n]$')\n",
    "ax.axvline(x= 10, color='r', linestyle='--')\n",
    "\n",
    "ax.legend(['Simulated', 'Theoretical'])\n",
    "fig.savefig('var.jpeg',bbox_inches='tight', pad_inches = 0)\n",
    "fig.show()"
   ]
  },
  {
   "cell_type": "code",
   "execution_count": 188,
   "metadata": {},
   "outputs": [
    {
     "data": {
      "image/png": "[encoded data removed]",
      "text/plain": [
       "<Figure size 432x288 with 1 Axes>"
      ]
     },
     "metadata": {
      "needs_background": "light"
     },
     "output_type": "display_data"
    }
   ],
   "source": [
    "fig, ax = plt.subplots(1,1)\n",
    "ax.plot(np.arange(15), mean,'k--')\n",
    "ax.plot(np.arange(15), the_mean,'ko-')\n",
    "ax.set_xlabel('time(n)')\n",
    "ax.set_ylabel(r'$E[TC_n]$')\n",
    "ax.axhline(y= 11.5, color='r', linestyle='--')\n",
    "ax.set_ylim([2,13])\n",
    "ax.text(3,12,'Expected Value Converges to 11.5',fontdict ={'size':13})\n",
    "ax.legend(['Simulated', 'Theoretical'])\n",
    "fig.savefig('mean.jpeg',bbox_inches='tight', pad_inches = 0)\n",
    "\n",
    "fig.show()"
   ]
  },
  {
   "cell_type": "code",
   "execution_count": null,
   "metadata": {},
   "outputs": [],
   "source": []
  }
 ],
 "metadata": {
  "kernelspec": {
   "display_name": "Python [conda env:MachineLearning]",
   "language": "python",
   "name": "conda-env-MachineLearning-py"
  },
  "language_info": {
   "codemirror_mode": {
    "name": "ipython",
    "version": 3
   },
   "file_extension": ".py",
   "mimetype": "text/x-python",
   "name": "python",
   "nbconvert_exporter": "python",
   "pygments_lexer": "ipython3",
   "version": "3.7.2"
  }
 },
 "nbformat": 4,
 "nbformat_minor": 2
}
