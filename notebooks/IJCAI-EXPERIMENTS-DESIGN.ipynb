{
 "cells": [
  {
   "cell_type": "code",
   "execution_count": 1,
   "metadata": {},
   "outputs": [],
   "source": [
    "%load_ext autoreload\n",
    "%autoreload 2\n"
   ]
  },
  {
   "cell_type": "code",
   "execution_count": 46,
   "metadata": {},
   "outputs": [],
   "source": [
    "import numpy as np\n",
    "import pandas as pd\n",
    "import matplotlib.pyplot as plt\n",
    "import seaborn as sns\n",
    "import matplotlib as mpl\n",
    "\n",
    "from sklearn.cluster import KMeans \n",
    "from sklearn.cluster import SpectralClustering\n",
    "from sklearn.cluster import AgglomerativeClustering"
   ]
  },
  {
   "cell_type": "code",
   "execution_count": 3,
   "metadata": {},
   "outputs": [],
   "source": [
    "np.random.seed(seed = 0)"
   ]
  },
  {
   "cell_type": "code",
   "execution_count": 52,
   "metadata": {},
   "outputs": [],
   "source": [
    "#Enrty point functions\n",
    "#1.\n",
    "def generate_data_points(N = 10000, D = 2, f_gen_name = 'uniform_dist', **kwargs_fun):\n",
    "    \"\"\"\n",
    "    N:(int) Number of points to genrate\n",
    "    D:(int) Number of dimensions \n",
    "    f_gen_name:(string) Name of distribution to generate points\n",
    "    kwargs_fun: dictionary \n",
    "    \n",
    "    \"\"\"\n",
    "\n",
    "    \n",
    "    return eval(f_gen_name+'(N, D, **kwargs_fun)')\n",
    "\n",
    "#2.\n",
    "def assign_class(data, f_class_name = 'circle_class', **kwargs_fun):\n",
    "    \"\"\"\n",
    "    data: Dataframe with features\n",
    "    f_class_name: the name of the function to be applied to \n",
    "    generate the clusters\n",
    "    kwargs_fun: keyword arguments to go into the generation function\n",
    "    \n",
    "    returns: DataFrame same as data but with an extra column C\n",
    "    containing the class each point belongs\n",
    "    \"\"\"\n",
    "    \n",
    "    return eval(f_class_name+'(data,**kwargs_fun)')\n",
    "\n",
    "#3.\n",
    "def assign_treatment(data, f_treat_name = 'uniform_treat', **kwargs_fun):\n",
    "    \"\"\"\n",
    "    data: Dataframe with features and class C\n",
    "    f_treat_name: the name of the function to be applied to \n",
    "    generate the treatment groups\n",
    "    kwargs_fun: keyword arguments to go into the treatment generation function\n",
    "    \n",
    "    returns: DataFrame same as data but with an extra column T\n",
    "    containing the treatemnt group each point belongs\n",
    "    \"\"\"\n",
    "    \n",
    "    return eval(f_treat_name+'(data,**kwargs_fun)')\n",
    "\n",
    "#4.\n",
    "def assign_outcome(data, f_outcome_name = 'outcome1', **kwargs_fun):\n",
    "    \"\"\"\n",
    "    data: Dataframe with features, class C and treatment \"Treatment\"\n",
    "    f_treat_name: the name of the function to be applied to \n",
    "    generate the treatment groups\n",
    "    kwargs_fun: keyword arguments to go into the treatment generation function\n",
    "    \n",
    "    returns: DataFrame same as data but with an extra column T\n",
    "    containing the treatemnt group each point belongs\n",
    "    \"\"\"\n",
    "    \n",
    "    return eval(f_outcome_name+'(data,**kwargs_fun)')\n",
    "\n",
    "#5.\n",
    "def assign_clustering(data, f_cluster_algo_name = 'box_clustering', **kwargs_fun):\n",
    "    \n",
    "    return eval(f_cluster_algo_name+('data, **kwargs_fun'))\n",
    "\n",
    "\n",
    "###########  Distributions\n",
    "\n",
    "def uniform_gen(N = 10000, D = 2, low = 0, high = 1):\n",
    "    \"\"\"\n",
    "    N:(int) number of data points\n",
    "    D:(int) number of dimensions\n",
    "    low:(float) lowest range of generated points\n",
    "    high:(float) highest range of generted points\n",
    "    \n",
    "    Generates a NxD matrix uniformly at random\n",
    "    returns: DataFrame NxD with column names x_0, ..., x{D-1}\n",
    "    \"\"\"\n",
    "    features = ['x'+str(i) for i in range(D)]\n",
    "    \n",
    "    X = np.random.uniform(low = low, high = high, size = (N,D))\n",
    "    return pd.DataFrame(X, columns = features )\n",
    "\n",
    "\n",
    "###########  Eligibility functions\n",
    "\n",
    "def circle_class(data, centers = None, r_small = 0.2, r_big = 0.5):\n",
    "    \"\"\"\n",
    "    \n",
    "    data: Dataframe with features x_0,...,x_d\n",
    "    center = (list) with the centers of the circle function\n",
    "    r_small: (float) small radius\n",
    "    r_big: (float) big radius\n",
    "    assigns data into clusters according to circle function\n",
    "    \n",
    "    \"\"\"\n",
    "    center = np.array(centers)\n",
    "    if data.shape[1] != len(centers):\n",
    "        raise ValueError('Data Should be in the form NxD and centers in the form [c1,...,cD]')\n",
    "        \n",
    "    ans = np.sqrt(np.sum((data.values-centers)**2, axis = 1))\n",
    "    cls =  ((ans >= r_small) & (ans <= r_big)).astype(int)\n",
    "    data['C'] = cls\n",
    "    return data\n",
    "\n",
    "\n",
    "###########   Treatement Functions\n",
    "\n",
    "def uniform_treat(data, choices = None, probabilities = None):\n",
    "    \"\"\"\n",
    "    data:(pandas array) columns x1,...,xD, C\n",
    "    choices: list with integers to sample from\n",
    "    probabilities: probabilities to sample each integer from choices\n",
    "    (need to sum to 1)\n",
    "    Generates treatment assignment uniformly at random\n",
    "    \"\"\"\n",
    "    N = len(data)\n",
    "    ch = np.random.choice(choices, size=N, replace=True, p=probabilities)\n",
    "    data['Treatment'] = ch\n",
    "    return data\n",
    "\n",
    "\n",
    "########### Outcome Functions\n",
    "\n",
    "def outcome1(data,  treatment = 'Treatment', cls = 'C', stats = None):\n",
    "    \"\"\"\n",
    "    Produces the outcome Y as a function of Treatement and Class C\n",
    "    data:DataFrame, should contain columns C and Treatment\n",
    "    column_selection: list of columns to use for outcome\n",
    "    stats: 4x2 matrix containing the means and standard deviations\n",
    "     for the 4 cases \n",
    "     Case 1: Treatment 0 C 0\n",
    "     Case 2: Treatment 0 C 1\n",
    "     Case 3: Treatemnt 1 C 0\n",
    "     Case 4: Treatemnt 1 C 1\n",
    "    \n",
    "    returns a dataframe like data but with two extra columns Y and Ycf\n",
    "    \"\"\"\n",
    "    \n",
    "    \n",
    "    def sample(group):\n",
    "        t = group[treatment].iloc[0]\n",
    "        c = group[cls].iloc[0]\n",
    "        tdot = 1-t\n",
    "        statsf = stats[int(t*2+c)]\n",
    "        statscf = stats[int(tdot*2+c)]\n",
    "        N = len(group)\n",
    "        group['Y'] = np.random.normal(loc = statsf[0], scale=statsf[1], size = N)\n",
    "        group['Ycf'] = np.random.normal(loc = statscf[0], scale=statscf[1], size = N)\n",
    "        \n",
    "        return group\n",
    "    \n",
    "    new_data = data.groupby(by = [cls, treatment]).apply(sample).reset_index(drop = True)\n",
    "    \n",
    "    return new_data\n",
    "    \n",
    "\n",
    "####### Clustering Algorithms\n",
    "\n",
    "#Clustering the goal is to take the data and apply the clustering algorithm and nothing more\n",
    "\n",
    "#1. box clustering\n",
    "def box_clustering(data, clusters = 100,cluster_name ='Box-Cluster',\n",
    "                   min_support=0, max_support=1, col_select = None):\n",
    "    \"\"\"\n",
    "    data: pandas array with data to apply box clustering\n",
    "    clusters:(number of boxes) clusters\n",
    "    min_support:(float) the minimum value the box clustering is considering\n",
    "    max_support:(float) the maximum value the box clustering is considering\n",
    "    box_length(deprecated):(float) the length of each box\n",
    "    col_select:[list of strings] names of features to consider for clustering\n",
    "    \n",
    "    returns the dataframe with the clustering applied\n",
    "    \"\"\"\n",
    "    values = data[col_select].values\n",
    "    boxes_per_dim = int(clusters**(1/values.shape[1]))\n",
    "    box_length = (max_support-min_support)/boxes_per_dim\n",
    "    grid_length = int((max_support-min_support)/box_length)\n",
    "    coord_float = np.floor((values-min_support)/box_length).astype('int')\n",
    "    pivot_array = np.array([grid_length**i for i in range(values.shape[1])])\n",
    "    index_array = np.sum(coord_float*pivot_array, axis = 1).astype(int)\n",
    "    \n",
    "    #values_pd = pd.DataFrame(values, columns = x_names)\n",
    "    data[cluster_name] = index_array\n",
    "    \n",
    "    return data, boxes_per_dim\n",
    "\n",
    "#2. Kmeans\n",
    "def kmeans_clustering(data, clusters=100,cluster_name = 'Kmeans-Cluster', col_select=None, **kwargs):\n",
    "    \"\"\"\n",
    "    \n",
    "    data: pandas array with data to apply box clustering\n",
    "    clusters:(number of boxes) clusters\n",
    "    \n",
    "    \"\"\"\n",
    "    if len(col_select) == 1:\n",
    "        values = data[col_select].values.reshape(-1,1)\n",
    "    else:\n",
    "        values = data[col_select].values\n",
    "        \n",
    "    kmeans = KMeans(n_clusters = clusters, **kwargs)\n",
    "    kmeans = kmeans.fit(values)\n",
    "    data[cluster_name] = kmeans.predict(values)\n",
    "    \n",
    "    return data, kmeans\n",
    "    \n",
    "#3. Spectral\n",
    "def spectral_clustering(data, clusters=100, cluster_name = 'Spectral-Cluster', col_select=None, **kwargs):\n",
    "    \"\"\"\n",
    "    \n",
    "    data: pandas array with data to apply box clustering\n",
    "    clusters:(number of boxes) clusters\n",
    "    \n",
    "    \"\"\"\n",
    "    if len(col_select) == 1:\n",
    "        values = data[col_select].values.reshape(-1,1)\n",
    "    else:\n",
    "        values = data[col_select].values\n",
    "        \n",
    "    spec = SpectralClustering(n_clusters = clusters, **kwargs)\n",
    "    spec = spec.fit(values)\n",
    "    data[cluster_name] = spec.labels_\n",
    "    \n",
    "    return data, spec\n",
    "\n",
    "#4. Agglomerative\n",
    "def agglomerative_clustering(data, clusters=100, cluster_name = 'Agglomerative-Cluster', col_select=None, **kwargs):\n",
    "    \"\"\"\n",
    "    \n",
    "    data: pandas array with data to apply box clustering\n",
    "    clusters:(number of boxes) clusters\n",
    "    \n",
    "    \"\"\"\n",
    "    if len(col_select) == 1:\n",
    "        values = data[col_select].values.reshape(-1,1)\n",
    "    else:\n",
    "        values = data[col_select].values\n",
    "        \n",
    "    agglo = AgglomerativeClustering(n_clusters = clusters, **kwargs)\n",
    "    agglo = agglo.fit(values)\n",
    "    data[cluster_name] = agglo.labels_\n",
    "    \n",
    "    return data, agglo\n",
    "    \n",
    "    \n",
    "\n",
    "###### Evaluations Homogeinity\n",
    "\n",
    "\n",
    "\n",
    "\n",
    "##### Evaluations ATT\n",
    "\n",
    "def computeATT_cluster_knownCF(data, treatment = \"Treatment\", cluster_name = None,\n",
    "                               outcome = 'Y', counterfactual = 'Ycf', ITE_name = 'ITE', \n",
    "                               ATT_CLUST_name = 'ATT_CLUST'):\n",
    "    \"\"\"\n",
    "    \n",
    "    Computes the ATT for each cluster\n",
    "    with a known Counter Factual Outcome\n",
    "    counterfactual(string): column name of the counterfactual\n",
    "    \n",
    "    \"\"\"\n",
    "    filt = data[treatment] == 1\n",
    "    data2 = data[filt].reset_index(drop = True)\n",
    "    data2[ITE_name] =  data2[outcome]-data2[counterfactual]\n",
    "    \n",
    "    res = data2.groupby(cluster_name, sort = True).apply(lambda x: pd.Series([x[ITE_name].mean(), len(x)],\n",
    "                                                     index = [ATT_CLUST_name, '#CLUST_POINTS'])).reset_index()\n",
    "    \n",
    "    return res\n",
    "    \n",
    "def computeITE_knownCF(data, treatment = \"Treatment\",\n",
    "                               outcome = 'Y', counterfactual = 'Ycf'):\n",
    "    \n",
    "    filt = data[treatment] == 1\n",
    "    data2 = data[filt].reset_index(drop = True)\n",
    "    data2['ITE'] =  data2[outcome]-data2[counterfactual]\n",
    "    \n",
    "    return data2\n",
    "\n",
    "\n"
   ]
  },
  {
   "cell_type": "markdown",
   "metadata": {},
   "source": [
    "## 1. Generate Data Points According to some Distribution"
   ]
  },
  {
   "cell_type": "code",
   "execution_count": 5,
   "metadata": {},
   "outputs": [],
   "source": [
    "N, D = 100000, 2\n",
    "kwargs_generate = {'N':N, 'D':D,'f_gen_name': 'uniform_gen','low':0, 'high': 1}\n",
    "df = generate_data_points(**kwargs_generate)"
   ]
  },
  {
   "cell_type": "markdown",
   "metadata": {},
   "source": [
    "## 2. Generate Classification of Points According to some Function"
   ]
  },
  {
   "cell_type": "code",
   "execution_count": 6,
   "metadata": {},
   "outputs": [],
   "source": [
    "f_class_name = 'circle_class'\n",
    "kwargs_class ={'centers': [0.5, 0.5], 'r_small': 0.2, 'r_big':0.4}\n",
    "\n",
    "df2 = assign_class(df.copy(), f_class_name=f_class_name, **kwargs_class)"
   ]
  },
  {
   "cell_type": "code",
   "execution_count": 7,
   "metadata": {},
   "outputs": [
    {
     "data": {
      "image/png": "[encoded data removed]",
      "text/plain": [
       "<Figure size 432x288 with 2 Axes>"
      ]
     },
     "metadata": {
      "needs_background": "light"
     },
     "output_type": "display_data"
    }
   ],
   "source": [
    "df2.plot.scatter(x='x0', y='x1', c='C', colormap='inferno')\n",
    "plt.show()"
   ]
  },
  {
   "cell_type": "markdown",
   "metadata": {},
   "source": [
    "## 3. Assign Treatment in Some Way"
   ]
  },
  {
   "cell_type": "code",
   "execution_count": 8,
   "metadata": {},
   "outputs": [],
   "source": [
    "f_treat_name = 'uniform_treat'\n",
    "kwargs_treat = {'choices':[0,1], 'probabilities':[0.5,0.5]}\n",
    "df3 = assign_treatment(df2.copy(), f_treat_name = f_treat_name, **kwargs_treat)"
   ]
  },
  {
   "cell_type": "markdown",
   "metadata": {},
   "source": [
    "## 4. Assign Outcome in Some Way"
   ]
  },
  {
   "cell_type": "code",
   "execution_count": 9,
   "metadata": {},
   "outputs": [],
   "source": [
    "f_outcome_name = 'outcome1'\n",
    "stats = np.array([[1, 0.3], [0, 0.3], [1, 0.3], [1, 0.3]])\n",
    "kwargs_outcome = {'treatment':'Treatment', 'cls':'C', 'stats':stats}\n",
    "df4 = assign_outcome(df3.copy(), f_outcome_name=f_outcome_name, **kwargs_outcome)"
   ]
  },
  {
   "cell_type": "code",
   "execution_count": 10,
   "metadata": {},
   "outputs": [
    {
     "data": {
      "image/png": "[encoded data removed]",
      "text/plain": [
       "<Figure size 432x288 with 1 Axes>"
      ]
     },
     "metadata": {
      "needs_background": "light"
     },
     "output_type": "display_data"
    }
   ],
   "source": [
    "groups = df4.groupby('Treatment', sort = True)\n",
    "fig, ax = plt.subplots()\n",
    "for (i,group) in groups:\n",
    "    ax.hist(group['Y'], bins=500, alpha = 0.5)\n",
    "ax.legend(['controls', 'treated'])\n",
    "fig.show()"
   ]
  },
  {
   "cell_type": "code",
   "execution_count": 11,
   "metadata": {},
   "outputs": [],
   "source": [
    "gg = [ggi for ggi in groups]"
   ]
  },
  {
   "cell_type": "code",
   "execution_count": 12,
   "metadata": {},
   "outputs": [
    {
     "data": {
      "text/plain": [
       "x0           0.500147\n",
       "x1           0.502179\n",
       "C            0.374082\n",
       "Treatment    1.000000\n",
       "Y            1.001146\n",
       "Ycf          0.625979\n",
       "dtype: float64"
      ]
     },
     "execution_count": 12,
     "metadata": {},
     "output_type": "execute_result"
    }
   ],
   "source": [
    "gg[1][1].loc[gg[1][1].Treatment == 1].mean()"
   ]
  },
  {
   "cell_type": "code",
   "execution_count": 13,
   "metadata": {},
   "outputs": [
    {
     "data": {
      "image/png": "[encoded data removed]",
      "text/plain": [
       "<Figure size 432x288 with 1 Axes>"
      ]
     },
     "metadata": {
      "needs_background": "light"
     },
     "output_type": "display_data"
    }
   ],
   "source": [
    "groups = df4.groupby('C', sort = True)\n",
    "fig, ax = plt.subplots()\n",
    "for (i,group) in groups:\n",
    "    ax.hist(group['Y'], bins =500, alpha = 0.5)\n",
    "ax.legend(['Non Susceptible', 'Susceptible'])\n",
    "fig.show()"
   ]
  },
  {
   "cell_type": "markdown",
   "metadata": {},
   "source": [
    "## 5. Apply a Clustering Algorithm(Optional)"
   ]
  },
  {
   "cell_type": "code",
   "execution_count": 14,
   "metadata": {},
   "outputs": [
    {
     "name": "stdout",
     "output_type": "stream",
     "text": [
      "CPU times: user 42min 5s, sys: 3.08 s, total: 42min 8s\n",
      "Wall time: 56.8 s\n"
     ]
    }
   ],
   "source": [
    "%%time\n",
    "col_select = ['x0', 'x1']\n",
    "\n",
    "#box clustering\n",
    "box_args = {'clusters' : 100, 'cluster_name':'Box-Cluster',\n",
    "                   'min_support':0,'max_support':1, 'col_select':col_select}\n",
    "df5,_ = box_clustering(df4.copy(), **box_args)\n",
    "\n",
    "#kmeans\n",
    "#kmeans_args = \n",
    "df6, kms = kmeans_clustering(df5.copy(), col_select = col_select)"
   ]
  },
  {
   "cell_type": "code",
   "execution_count": 15,
   "metadata": {},
   "outputs": [],
   "source": [
    "from sklearn.model_selection import train_test_split\n",
    "df6, df6ts = train_test_split(df6, test_size = 0.2, random_state = 0)\n",
    "\n"
   ]
  },
  {
   "cell_type": "code",
   "execution_count": 16,
   "metadata": {},
   "outputs": [
    {
     "data": {
      "text/html": [
       "<div>\n",
       "<style scoped>\n",
       "    .dataframe tbody tr th:only-of-type {\n",
       "        vertical-align: middle;\n",
       "    }\n",
       "\n",
       "    .dataframe tbody tr th {\n",
       "        vertical-align: top;\n",
       "    }\n",
       "\n",
       "    .dataframe thead th {\n",
       "        text-align: right;\n",
       "    }\n",
       "</style>\n",
       "<table border=\"1\" class=\"dataframe\">\n",
       "  <thead>\n",
       "    <tr style=\"text-align: right;\">\n",
       "      <th></th>\n",
       "      <th>x0</th>\n",
       "      <th>x1</th>\n",
       "      <th>C</th>\n",
       "      <th>Treatment</th>\n",
       "      <th>Y</th>\n",
       "      <th>Ycf</th>\n",
       "      <th>Box-Cluster</th>\n",
       "      <th>Kmeans-Cluster</th>\n",
       "    </tr>\n",
       "  </thead>\n",
       "  <tbody>\n",
       "    <tr>\n",
       "      <th>10382</th>\n",
       "      <td>0.529956</td>\n",
       "      <td>0.811703</td>\n",
       "      <td>1</td>\n",
       "      <td>1</td>\n",
       "      <td>1.072547</td>\n",
       "      <td>-0.189421</td>\n",
       "      <td>85</td>\n",
       "      <td>62</td>\n",
       "    </tr>\n",
       "    <tr>\n",
       "      <th>73171</th>\n",
       "      <td>0.326706</td>\n",
       "      <td>0.637165</td>\n",
       "      <td>1</td>\n",
       "      <td>0</td>\n",
       "      <td>0.342524</td>\n",
       "      <td>1.250790</td>\n",
       "      <td>63</td>\n",
       "      <td>49</td>\n",
       "    </tr>\n",
       "    <tr>\n",
       "      <th>30938</th>\n",
       "      <td>0.317685</td>\n",
       "      <td>0.858681</td>\n",
       "      <td>0</td>\n",
       "      <td>1</td>\n",
       "      <td>0.566916</td>\n",
       "      <td>0.778082</td>\n",
       "      <td>83</td>\n",
       "      <td>78</td>\n",
       "    </tr>\n",
       "  </tbody>\n",
       "</table>\n",
       "</div>"
      ],
      "text/plain": [
       "             x0        x1  C  Treatment         Y       Ycf  Box-Cluster  \\\n",
       "10382  0.529956  0.811703  1          1  1.072547 -0.189421           85   \n",
       "73171  0.326706  0.637165  1          0  0.342524  1.250790           63   \n",
       "30938  0.317685  0.858681  0          1  0.566916  0.778082           83   \n",
       "\n",
       "       Kmeans-Cluster  \n",
       "10382              62  \n",
       "73171              49  \n",
       "30938              78  "
      ]
     },
     "execution_count": 16,
     "metadata": {},
     "output_type": "execute_result"
    }
   ],
   "source": [
    "df6.head(3)"
   ]
  },
  {
   "cell_type": "markdown",
   "metadata": {},
   "source": [
    "## 6.0 Compute YCf estimate"
   ]
  },
  {
   "cell_type": "code",
   "execution_count": 17,
   "metadata": {},
   "outputs": [],
   "source": [
    "from sklearn.ensemble import GradientBoostingRegressor\n"
   ]
  },
  {
   "cell_type": "code",
   "execution_count": 18,
   "metadata": {},
   "outputs": [
    {
     "name": "stdout",
     "output_type": "stream",
     "text": [
      "CPU times: user 6.07 s, sys: 961 µs, total: 6.07 s\n",
      "Wall time: 6.07 s\n"
     ]
    }
   ],
   "source": [
    "%%time\n",
    "gbrTr = GradientBoostingRegressor()\n",
    "gbrCon = GradientBoostingRegressor()\n",
    "\n",
    "df6Tr, df6Con = df6[df6.Treatment == 1], df6[df6.Treatment == 0]\n",
    "gbrTr = gbrTr.fit(df6Tr[col_select].values, df6Tr['Y'].values)\n",
    "gbrCon = gbrCon.fit(df6Con[col_select].values, df6Con['Y'].values)\n"
   ]
  },
  {
   "cell_type": "markdown",
   "metadata": {},
   "source": [
    "### Evaluate Learners on Test set"
   ]
  },
  {
   "cell_type": "code",
   "execution_count": 19,
   "metadata": {},
   "outputs": [],
   "source": [
    "YTr = gbrTr.predict(df6ts.loc[df6ts.Treatment == 1, col_select].values)\n",
    "YCon = gbrCon.predict(df6ts.loc[df6ts.Treatment == 0, col_select].values)"
   ]
  },
  {
   "cell_type": "code",
   "execution_count": 20,
   "metadata": {},
   "outputs": [],
   "source": [
    "from sklearn.metrics import mean_squared_error as mse"
   ]
  },
  {
   "cell_type": "code",
   "execution_count": 21,
   "metadata": {},
   "outputs": [],
   "source": [
    "YTr_true = df6ts.loc[df6ts.Treatment == 1, 'Y'].values\n",
    "YCon_true = df6ts.loc[df6ts.Treatment == 0, 'Y'].values\n",
    "\n",
    "eTr = mse(YTr_true, YTr, squared = False)\n",
    "eCon = mse(YCon_true, YCon, squared = False)"
   ]
  },
  {
   "cell_type": "code",
   "execution_count": 22,
   "metadata": {},
   "outputs": [
    {
     "data": {
      "text/plain": [
       "(1.001582425506023, 0.9992988772659014, 0.6264747338176394, 0.6233282621587211)"
      ]
     },
     "execution_count": 22,
     "metadata": {},
     "output_type": "execute_result"
    }
   ],
   "source": [
    "np.mean(YTr), np.mean(YTr_true), np.mean(YCon), np.mean(YCon_true)"
   ]
  },
  {
   "cell_type": "code",
   "execution_count": 23,
   "metadata": {},
   "outputs": [
    {
     "data": {
      "image/png": "[encoded data removed]",
      "text/plain": [
       "<Figure size 864x648 with 2 Axes>"
      ]
     },
     "metadata": {
      "needs_background": "light"
     },
     "output_type": "display_data"
    }
   ],
   "source": [
    "fig, (ax1, ax2) = plt.subplots(1,2, figsize = [12,9])\n",
    "ax1.scatter(YTr_true, YTr)\n",
    "ax2.scatter(YCon_true, YCon)\n",
    "\n",
    "ax1.set_xlabel('Y True Treated')\n",
    "ax2.set_xlabel('Y True Controls')\n",
    "ax1.set_ylabel('Y Estimated Treated')\n",
    "ax2.set_ylabel('Y Estimated Controls')\n",
    "ax1.plot(YTr_true, YTr_true, 'r')\n",
    "ax2.plot(YCon_true, YCon_true, 'r')\n",
    "plt.show()"
   ]
  },
  {
   "cell_type": "code",
   "execution_count": 24,
   "metadata": {},
   "outputs": [],
   "source": [
    "col = pd.MultiIndex.from_tuples([('GBTr', 'RMSE'), ('GBCon', 'RMSE')])\n",
    "res = pd.DataFrame([[eTr, eCon]], columns = col )"
   ]
  },
  {
   "cell_type": "code",
   "execution_count": 25,
   "metadata": {},
   "outputs": [
    {
     "data": {
      "text/html": [
       "<div>\n",
       "<style scoped>\n",
       "    .dataframe tbody tr th:only-of-type {\n",
       "        vertical-align: middle;\n",
       "    }\n",
       "\n",
       "    .dataframe tbody tr th {\n",
       "        vertical-align: top;\n",
       "    }\n",
       "\n",
       "    .dataframe thead tr th {\n",
       "        text-align: left;\n",
       "    }\n",
       "</style>\n",
       "<table border=\"1\" class=\"dataframe\">\n",
       "  <thead>\n",
       "    <tr>\n",
       "      <th></th>\n",
       "      <th>GBTr</th>\n",
       "      <th>GBCon</th>\n",
       "    </tr>\n",
       "    <tr>\n",
       "      <th></th>\n",
       "      <th>RMSE</th>\n",
       "      <th>RMSE</th>\n",
       "    </tr>\n",
       "  </thead>\n",
       "  <tbody>\n",
       "    <tr>\n",
       "      <th>0</th>\n",
       "      <td>0.300702</td>\n",
       "      <td>0.389048</td>\n",
       "    </tr>\n",
       "  </tbody>\n",
       "</table>\n",
       "</div>"
      ],
      "text/plain": [
       "       GBTr     GBCon\n",
       "       RMSE      RMSE\n",
       "0  0.300702  0.389048"
      ]
     },
     "execution_count": 25,
     "metadata": {},
     "output_type": "execute_result"
    }
   ],
   "source": [
    "res"
   ]
  },
  {
   "cell_type": "code",
   "execution_count": 26,
   "metadata": {},
   "outputs": [],
   "source": [
    "df6['Ycf_est'] = 0"
   ]
  },
  {
   "cell_type": "code",
   "execution_count": 27,
   "metadata": {},
   "outputs": [],
   "source": [
    "df6.loc[df6.Treatment == 1, 'Ycf_est'] = gbrCon.predict(df6.loc[df6.Treatment == 1, col_select])\n",
    "df6.loc[df6.Treatment == 0, 'Ycf_est'] = gbrTr.predict(df6.loc[df6.Treatment == 0, col_select])"
   ]
  },
  {
   "cell_type": "markdown",
   "metadata": {},
   "source": [
    "## 6. Compute ATT per Cluster(Ycf is needed)"
   ]
  },
  {
   "cell_type": "code",
   "execution_count": 66,
   "metadata": {},
   "outputs": [
    {
     "name": "stdout",
     "output_type": "stream",
     "text": [
      "CPU times: user 20 µs, sys: 0 ns, total: 20 µs\n",
      "Wall time: 40.5 µs\n"
     ]
    }
   ],
   "source": [
    "%time\n",
    "resKm = computeATT_cluster_knownCF(df6.copy(), cluster_name='Kmeans-Cluster', counterfactual = 'Ycf_est')\n",
    "resbox = computeATT_cluster_knownCF(df6.copy(), cluster_name='Box-Cluster', counterfactual = 'Ycf_est')\n",
    "resITE = computeITE_knownCF(df6.copy(), counterfactual = 'Ycf_est')"
   ]
  },
  {
   "cell_type": "markdown",
   "metadata": {},
   "source": [
    "### With known CF"
   ]
  },
  {
   "cell_type": "code",
   "execution_count": 29,
   "metadata": {},
   "outputs": [],
   "source": [
    "resKm2 = computeATT_cluster_knownCF(df6.copy(), cluster_name='Kmeans-Cluster', counterfactual = 'Ycf')\n",
    "resbox2 = computeATT_cluster_knownCF(df6.copy(), cluster_name='Box-Cluster', counterfactual = 'Ycf')\n",
    "resITE2 = computeITE_knownCF(df6.copy(), counterfactual = 'Ycf')"
   ]
  },
  {
   "cell_type": "code",
   "execution_count": 30,
   "metadata": {},
   "outputs": [
    {
     "data": {
      "text/html": [
       "<div>\n",
       "<style scoped>\n",
       "    .dataframe tbody tr th:only-of-type {\n",
       "        vertical-align: middle;\n",
       "    }\n",
       "\n",
       "    .dataframe tbody tr th {\n",
       "        vertical-align: top;\n",
       "    }\n",
       "\n",
       "    .dataframe thead th {\n",
       "        text-align: right;\n",
       "    }\n",
       "</style>\n",
       "<table border=\"1\" class=\"dataframe\">\n",
       "  <thead>\n",
       "    <tr style=\"text-align: right;\">\n",
       "      <th></th>\n",
       "      <th>Kmeans-Cluster</th>\n",
       "      <th>ATT_CLUST</th>\n",
       "      <th>#CLUST_POINTS</th>\n",
       "    </tr>\n",
       "  </thead>\n",
       "  <tbody>\n",
       "    <tr>\n",
       "      <th>0</th>\n",
       "      <td>0</td>\n",
       "      <td>0.486215</td>\n",
       "      <td>370.0</td>\n",
       "    </tr>\n",
       "    <tr>\n",
       "      <th>1</th>\n",
       "      <td>1</td>\n",
       "      <td>0.294941</td>\n",
       "      <td>371.0</td>\n",
       "    </tr>\n",
       "    <tr>\n",
       "      <th>2</th>\n",
       "      <td>2</td>\n",
       "      <td>0.594424</td>\n",
       "      <td>380.0</td>\n",
       "    </tr>\n",
       "    <tr>\n",
       "      <th>3</th>\n",
       "      <td>3</td>\n",
       "      <td>-0.015088</td>\n",
       "      <td>348.0</td>\n",
       "    </tr>\n",
       "    <tr>\n",
       "      <th>4</th>\n",
       "      <td>4</td>\n",
       "      <td>0.588767</td>\n",
       "      <td>444.0</td>\n",
       "    </tr>\n",
       "  </tbody>\n",
       "</table>\n",
       "</div>"
      ],
      "text/plain": [
       "   Kmeans-Cluster  ATT_CLUST  #CLUST_POINTS\n",
       "0               0   0.486215          370.0\n",
       "1               1   0.294941          371.0\n",
       "2               2   0.594424          380.0\n",
       "3               3  -0.015088          348.0\n",
       "4               4   0.588767          444.0"
      ]
     },
     "execution_count": 30,
     "metadata": {},
     "output_type": "execute_result"
    }
   ],
   "source": [
    "resKm.head()"
   ]
  },
  {
   "cell_type": "code",
   "execution_count": 31,
   "metadata": {},
   "outputs": [
    {
     "data": {
      "image/png": "[encoded data removed]",
      "text/plain": [
       "<Figure size 432x288 with 1 Axes>"
      ]
     },
     "metadata": {
      "needs_background": "light"
     },
     "output_type": "display_data"
    }
   ],
   "source": [
    "sns.distplot(resKm2['ATT_CLUST'])\n",
    "plt.show()"
   ]
  },
  {
   "cell_type": "code",
   "execution_count": 32,
   "metadata": {},
   "outputs": [
    {
     "data": {
      "image/png": "[encoded data removed]",
      "text/plain": [
       "<Figure size 432x288 with 1 Axes>"
      ]
     },
     "metadata": {
      "needs_background": "light"
     },
     "output_type": "display_data"
    }
   ],
   "source": [
    "sns.distplot(resKm['ATT_CLUST'])\n",
    "plt.show()"
   ]
  },
  {
   "cell_type": "code",
   "execution_count": 33,
   "metadata": {},
   "outputs": [
    {
     "data": {
      "image/png": "[encoded data removed]",
      "text/plain": [
       "<Figure size 432x288 with 1 Axes>"
      ]
     },
     "metadata": {
      "needs_background": "light"
     },
     "output_type": "display_data"
    }
   ],
   "source": [
    "sns.distplot(resbox2['ATT_CLUST'])\n",
    "plt.show()"
   ]
  },
  {
   "cell_type": "code",
   "execution_count": 34,
   "metadata": {},
   "outputs": [
    {
     "data": {
      "image/png": "[encoded data removed]",
      "text/plain": [
       "<Figure size 432x288 with 1 Axes>"
      ]
     },
     "metadata": {
      "needs_background": "light"
     },
     "output_type": "display_data"
    }
   ],
   "source": [
    "sns.distplot(resbox['ATT_CLUST'])\n",
    "plt.show()"
   ]
  },
  {
   "cell_type": "code",
   "execution_count": 35,
   "metadata": {},
   "outputs": [
    {
     "data": {
      "text/html": [
       "<div>\n",
       "<style scoped>\n",
       "    .dataframe tbody tr th:only-of-type {\n",
       "        vertical-align: middle;\n",
       "    }\n",
       "\n",
       "    .dataframe tbody tr th {\n",
       "        vertical-align: top;\n",
       "    }\n",
       "\n",
       "    .dataframe thead th {\n",
       "        text-align: right;\n",
       "    }\n",
       "</style>\n",
       "<table border=\"1\" class=\"dataframe\">\n",
       "  <thead>\n",
       "    <tr style=\"text-align: right;\">\n",
       "      <th></th>\n",
       "      <th>Box-Cluster</th>\n",
       "      <th>ATT_CLUST</th>\n",
       "      <th>#CLUST_POINTS</th>\n",
       "    </tr>\n",
       "  </thead>\n",
       "  <tbody>\n",
       "    <tr>\n",
       "      <th>0</th>\n",
       "      <td>0</td>\n",
       "      <td>-0.102980</td>\n",
       "      <td>392.0</td>\n",
       "    </tr>\n",
       "    <tr>\n",
       "      <th>1</th>\n",
       "      <td>1</td>\n",
       "      <td>-0.110913</td>\n",
       "      <td>378.0</td>\n",
       "    </tr>\n",
       "    <tr>\n",
       "      <th>2</th>\n",
       "      <td>2</td>\n",
       "      <td>-0.016204</td>\n",
       "      <td>391.0</td>\n",
       "    </tr>\n",
       "    <tr>\n",
       "      <th>3</th>\n",
       "      <td>3</td>\n",
       "      <td>0.096509</td>\n",
       "      <td>416.0</td>\n",
       "    </tr>\n",
       "    <tr>\n",
       "      <th>4</th>\n",
       "      <td>4</td>\n",
       "      <td>0.158549</td>\n",
       "      <td>387.0</td>\n",
       "    </tr>\n",
       "  </tbody>\n",
       "</table>\n",
       "</div>"
      ],
      "text/plain": [
       "   Box-Cluster  ATT_CLUST  #CLUST_POINTS\n",
       "0            0  -0.102980          392.0\n",
       "1            1  -0.110913          378.0\n",
       "2            2  -0.016204          391.0\n",
       "3            3   0.096509          416.0\n",
       "4            4   0.158549          387.0"
      ]
     },
     "execution_count": 35,
     "metadata": {},
     "output_type": "execute_result"
    }
   ],
   "source": [
    "resbox.head()"
   ]
  },
  {
   "cell_type": "code",
   "execution_count": 36,
   "metadata": {},
   "outputs": [
    {
     "data": {
      "image/png": "[encoded data removed]",
      "text/plain": [
       "<Figure size 432x288 with 1 Axes>"
      ]
     },
     "metadata": {
      "needs_background": "light"
     },
     "output_type": "display_data"
    }
   ],
   "source": [
    "sns.distplot(resITE2['ITE'])\n",
    "plt.show()"
   ]
  },
  {
   "cell_type": "code",
   "execution_count": 37,
   "metadata": {},
   "outputs": [
    {
     "data": {
      "image/png": "[encoded data removed]",
      "text/plain": [
       "<Figure size 432x288 with 1 Axes>"
      ]
     },
     "metadata": {
      "needs_background": "light"
     },
     "output_type": "display_data"
    }
   ],
   "source": [
    "sns.distplot(resITE['ITE'])\n",
    "plt.show()"
   ]
  },
  {
   "cell_type": "markdown",
   "metadata": {},
   "source": [
    "## 7. Cluster ATTs(or ITEs if not a clustering algorithm)"
   ]
  },
  {
   "cell_type": "code",
   "execution_count": 38,
   "metadata": {},
   "outputs": [],
   "source": [
    "resbox2,_ = kmeans_clustering(resbox.copy(), clusters=2,col_select = ['ATT_CLUST'],cluster_name = 'Box-2-Clust')\n",
    "resKm2,_ = kmeans_clustering(resKm.copy(), clusters=2,col_select = ['ATT_CLUST'],cluster_name = 'Kmeans-2-Clust')\n",
    "resITE2,_ = kmeans_clustering(resITE.copy(), clusters=2,col_select = ['ITE'],cluster_name = 'ITE-2-Clust')"
   ]
  },
  {
   "cell_type": "code",
   "execution_count": 39,
   "metadata": {},
   "outputs": [
    {
     "data": {
      "text/html": [
       "<div>\n",
       "<style scoped>\n",
       "    .dataframe tbody tr th:only-of-type {\n",
       "        vertical-align: middle;\n",
       "    }\n",
       "\n",
       "    .dataframe tbody tr th {\n",
       "        vertical-align: top;\n",
       "    }\n",
       "\n",
       "    .dataframe thead th {\n",
       "        text-align: right;\n",
       "    }\n",
       "</style>\n",
       "<table border=\"1\" class=\"dataframe\">\n",
       "  <thead>\n",
       "    <tr style=\"text-align: right;\">\n",
       "      <th></th>\n",
       "      <th>Box-Cluster</th>\n",
       "      <th>ATT_CLUST</th>\n",
       "      <th>#CLUST_POINTS</th>\n",
       "      <th>Box-2-Clust</th>\n",
       "    </tr>\n",
       "  </thead>\n",
       "  <tbody>\n",
       "    <tr>\n",
       "      <th>0</th>\n",
       "      <td>0</td>\n",
       "      <td>-0.102980</td>\n",
       "      <td>392.0</td>\n",
       "      <td>1</td>\n",
       "    </tr>\n",
       "    <tr>\n",
       "      <th>1</th>\n",
       "      <td>1</td>\n",
       "      <td>-0.110913</td>\n",
       "      <td>378.0</td>\n",
       "      <td>1</td>\n",
       "    </tr>\n",
       "    <tr>\n",
       "      <th>2</th>\n",
       "      <td>2</td>\n",
       "      <td>-0.016204</td>\n",
       "      <td>391.0</td>\n",
       "      <td>1</td>\n",
       "    </tr>\n",
       "    <tr>\n",
       "      <th>3</th>\n",
       "      <td>3</td>\n",
       "      <td>0.096509</td>\n",
       "      <td>416.0</td>\n",
       "      <td>1</td>\n",
       "    </tr>\n",
       "    <tr>\n",
       "      <th>4</th>\n",
       "      <td>4</td>\n",
       "      <td>0.158549</td>\n",
       "      <td>387.0</td>\n",
       "      <td>1</td>\n",
       "    </tr>\n",
       "  </tbody>\n",
       "</table>\n",
       "</div>"
      ],
      "text/plain": [
       "   Box-Cluster  ATT_CLUST  #CLUST_POINTS  Box-2-Clust\n",
       "0            0  -0.102980          392.0            1\n",
       "1            1  -0.110913          378.0            1\n",
       "2            2  -0.016204          391.0            1\n",
       "3            3   0.096509          416.0            1\n",
       "4            4   0.158549          387.0            1"
      ]
     },
     "execution_count": 39,
     "metadata": {},
     "output_type": "execute_result"
    }
   ],
   "source": [
    "resbox2.head()"
   ]
  },
  {
   "cell_type": "code",
   "execution_count": 40,
   "metadata": {},
   "outputs": [
    {
     "data": {
      "text/html": [
       "<div>\n",
       "<style scoped>\n",
       "    .dataframe tbody tr th:only-of-type {\n",
       "        vertical-align: middle;\n",
       "    }\n",
       "\n",
       "    .dataframe tbody tr th {\n",
       "        vertical-align: top;\n",
       "    }\n",
       "\n",
       "    .dataframe thead th {\n",
       "        text-align: right;\n",
       "    }\n",
       "</style>\n",
       "<table border=\"1\" class=\"dataframe\">\n",
       "  <thead>\n",
       "    <tr style=\"text-align: right;\">\n",
       "      <th></th>\n",
       "      <th>Kmeans-Cluster</th>\n",
       "      <th>ATT_CLUST</th>\n",
       "      <th>#CLUST_POINTS</th>\n",
       "      <th>Kmeans-2-Clust</th>\n",
       "    </tr>\n",
       "  </thead>\n",
       "  <tbody>\n",
       "    <tr>\n",
       "      <th>0</th>\n",
       "      <td>0</td>\n",
       "      <td>0.486215</td>\n",
       "      <td>370.0</td>\n",
       "      <td>1</td>\n",
       "    </tr>\n",
       "    <tr>\n",
       "      <th>1</th>\n",
       "      <td>1</td>\n",
       "      <td>0.294941</td>\n",
       "      <td>371.0</td>\n",
       "      <td>0</td>\n",
       "    </tr>\n",
       "    <tr>\n",
       "      <th>2</th>\n",
       "      <td>2</td>\n",
       "      <td>0.594424</td>\n",
       "      <td>380.0</td>\n",
       "      <td>1</td>\n",
       "    </tr>\n",
       "    <tr>\n",
       "      <th>3</th>\n",
       "      <td>3</td>\n",
       "      <td>-0.015088</td>\n",
       "      <td>348.0</td>\n",
       "      <td>0</td>\n",
       "    </tr>\n",
       "    <tr>\n",
       "      <th>4</th>\n",
       "      <td>4</td>\n",
       "      <td>0.588767</td>\n",
       "      <td>444.0</td>\n",
       "      <td>1</td>\n",
       "    </tr>\n",
       "  </tbody>\n",
       "</table>\n",
       "</div>"
      ],
      "text/plain": [
       "   Kmeans-Cluster  ATT_CLUST  #CLUST_POINTS  Kmeans-2-Clust\n",
       "0               0   0.486215          370.0               1\n",
       "1               1   0.294941          371.0               0\n",
       "2               2   0.594424          380.0               1\n",
       "3               3  -0.015088          348.0               0\n",
       "4               4   0.588767          444.0               1"
      ]
     },
     "execution_count": 40,
     "metadata": {},
     "output_type": "execute_result"
    }
   ],
   "source": [
    "resKm2.head()"
   ]
  },
  {
   "cell_type": "code",
   "execution_count": 41,
   "metadata": {},
   "outputs": [
    {
     "data": {
      "text/plain": [
       "Box-2-Clust\n",
       "0    0.701531\n",
       "1    0.121004\n",
       "Name: ATT_CLUST, dtype: float64"
      ]
     },
     "execution_count": 41,
     "metadata": {},
     "output_type": "execute_result"
    }
   ],
   "source": [
    "resbox2.groupby('Box-2-Clust')['ATT_CLUST'].mean()"
   ]
  },
  {
   "cell_type": "code",
   "execution_count": 42,
   "metadata": {},
   "outputs": [
    {
     "data": {
      "text/plain": [
       "Kmeans-2-Clust\n",
       "0    0.078014\n",
       "1    0.662806\n",
       "Name: ATT_CLUST, dtype: float64"
      ]
     },
     "execution_count": 42,
     "metadata": {},
     "output_type": "execute_result"
    }
   ],
   "source": [
    "resKm2.groupby('Kmeans-2-Clust')['ATT_CLUST'].mean()"
   ]
  },
  {
   "cell_type": "code",
   "execution_count": 43,
   "metadata": {},
   "outputs": [
    {
     "data": {
      "text/plain": [
       "ITE-2-Clust\n",
       "0    0.019625\n",
       "1    0.774397\n",
       "Name: ITE, dtype: float64"
      ]
     },
     "execution_count": 43,
     "metadata": {},
     "output_type": "execute_result"
    }
   ],
   "source": [
    "resITE2.groupby('ITE-2-Clust')['ITE'].mean()"
   ]
  },
  {
   "cell_type": "code",
   "execution_count": 45,
   "metadata": {},
   "outputs": [],
   "source": [
    "def homogeneity(data, group_name = 'box#', class_name='y'):\n",
    "\n",
    "    return data.groupby(group_name).apply(lambda x: pd.Series(x[class_name].value_counts().max()/x[class_name].value_counts().sum(), index = ['homogeinity']))\n",
    "    "
   ]
  },
  {
   "cell_type": "markdown",
   "metadata": {},
   "source": [
    "### Homogeneity experiments"
   ]
  },
  {
   "cell_type": "code",
   "execution_count": 48,
   "metadata": {},
   "outputs": [
    {
     "data": {
      "text/html": [
       "<div>\n",
       "<style scoped>\n",
       "    .dataframe tbody tr th:only-of-type {\n",
       "        vertical-align: middle;\n",
       "    }\n",
       "\n",
       "    .dataframe tbody tr th {\n",
       "        vertical-align: top;\n",
       "    }\n",
       "\n",
       "    .dataframe thead th {\n",
       "        text-align: right;\n",
       "    }\n",
       "</style>\n",
       "<table border=\"1\" class=\"dataframe\">\n",
       "  <thead>\n",
       "    <tr style=\"text-align: right;\">\n",
       "      <th></th>\n",
       "      <th>x0</th>\n",
       "      <th>x1</th>\n",
       "      <th>C</th>\n",
       "      <th>Treatment</th>\n",
       "      <th>Y</th>\n",
       "      <th>Ycf</th>\n",
       "      <th>Box-Cluster</th>\n",
       "      <th>Kmeans-Cluster</th>\n",
       "      <th>Ycf_est</th>\n",
       "    </tr>\n",
       "  </thead>\n",
       "  <tbody>\n",
       "    <tr>\n",
       "      <th>10382</th>\n",
       "      <td>0.529956</td>\n",
       "      <td>0.811703</td>\n",
       "      <td>1</td>\n",
       "      <td>1</td>\n",
       "      <td>1.072547</td>\n",
       "      <td>-0.189421</td>\n",
       "      <td>85</td>\n",
       "      <td>62</td>\n",
       "      <td>0.244603</td>\n",
       "    </tr>\n",
       "    <tr>\n",
       "      <th>73171</th>\n",
       "      <td>0.326706</td>\n",
       "      <td>0.637165</td>\n",
       "      <td>1</td>\n",
       "      <td>0</td>\n",
       "      <td>0.342524</td>\n",
       "      <td>1.250790</td>\n",
       "      <td>63</td>\n",
       "      <td>49</td>\n",
       "      <td>1.001715</td>\n",
       "    </tr>\n",
       "    <tr>\n",
       "      <th>30938</th>\n",
       "      <td>0.317685</td>\n",
       "      <td>0.858681</td>\n",
       "      <td>0</td>\n",
       "      <td>1</td>\n",
       "      <td>0.566916</td>\n",
       "      <td>0.778082</td>\n",
       "      <td>83</td>\n",
       "      <td>78</td>\n",
       "      <td>0.347903</td>\n",
       "    </tr>\n",
       "    <tr>\n",
       "      <th>99310</th>\n",
       "      <td>0.921027</td>\n",
       "      <td>0.405834</td>\n",
       "      <td>0</td>\n",
       "      <td>1</td>\n",
       "      <td>1.383377</td>\n",
       "      <td>1.164249</td>\n",
       "      <td>49</td>\n",
       "      <td>77</td>\n",
       "      <td>0.891113</td>\n",
       "    </tr>\n",
       "    <tr>\n",
       "      <th>58959</th>\n",
       "      <td>0.078926</td>\n",
       "      <td>0.660294</td>\n",
       "      <td>0</td>\n",
       "      <td>0</td>\n",
       "      <td>1.242055</td>\n",
       "      <td>1.230888</td>\n",
       "      <td>60</td>\n",
       "      <td>95</td>\n",
       "      <td>0.999817</td>\n",
       "    </tr>\n",
       "  </tbody>\n",
       "</table>\n",
       "</div>"
      ],
      "text/plain": [
       "             x0        x1  C  Treatment         Y       Ycf  Box-Cluster  \\\n",
       "10382  0.529956  0.811703  1          1  1.072547 -0.189421           85   \n",
       "73171  0.326706  0.637165  1          0  0.342524  1.250790           63   \n",
       "30938  0.317685  0.858681  0          1  0.566916  0.778082           83   \n",
       "99310  0.921027  0.405834  0          1  1.383377  1.164249           49   \n",
       "58959  0.078926  0.660294  0          0  1.242055  1.230888           60   \n",
       "\n",
       "       Kmeans-Cluster   Ycf_est  \n",
       "10382              62  0.244603  \n",
       "73171              49  1.001715  \n",
       "30938              78  0.347903  \n",
       "99310              77  0.891113  \n",
       "58959              95  0.999817  "
      ]
     },
     "execution_count": 48,
     "metadata": {},
     "output_type": "execute_result"
    }
   ],
   "source": [
    "df6.head()"
   ]
  },
  {
   "cell_type": "code",
   "execution_count": 67,
   "metadata": {},
   "outputs": [],
   "source": [
    "lengths = [ 0.1, 0.2, 0.25, 0.5]\n",
    "clusters = [int((1/l)**2) for l in lengths]"
   ]
  },
  {
   "cell_type": "code",
   "execution_count": 68,
   "metadata": {},
   "outputs": [
    {
     "data": {
      "text/plain": [
       "[100, 25, 16, 4]"
      ]
     },
     "execution_count": 68,
     "metadata": {},
     "output_type": "execute_result"
    }
   ],
   "source": [
    "clusters"
   ]
  },
  {
   "cell_type": "code",
   "execution_count": 69,
   "metadata": {},
   "outputs": [],
   "source": [
    "graph_box = []\n",
    "for cl in clusters:\n",
    "    df6,_ = box_clustering(df6.copy(), clusters = cl, col_select= col_select)\n",
    "    hom = homogeneity(df6, group_name='Box-Cluster', class_name='C').mean().iloc[0]\n",
    "    graph_box.append([cl, hom])"
   ]
  },
  {
   "cell_type": "code",
   "execution_count": 70,
   "metadata": {},
   "outputs": [
    {
     "data": {
      "text/plain": [
       "[[100, 0.9377257728554608],\n",
       " [25, 0.7684493047612553],\n",
       " [16, 0.6233007131112276],\n",
       " [4, 0.6232923615229727]]"
      ]
     },
     "execution_count": 70,
     "metadata": {},
     "output_type": "execute_result"
    }
   ],
   "source": [
    "graph_box"
   ]
  },
  {
   "cell_type": "code",
   "execution_count": 71,
   "metadata": {},
   "outputs": [
    {
     "name": "stdout",
     "output_type": "stream",
     "text": [
      "100\n",
      "25\n",
      "16\n",
      "4\n",
      "CPU times: user 1h 31min 22s, sys: 8.95 s, total: 1h 31min 31s\n",
      "Wall time: 5min 20s\n"
     ]
    }
   ],
   "source": [
    "%%time\n",
    "graph_km = []\n",
    "for cl in clusters:\n",
    "    print(cl)\n",
    "    df6,_= kmeans_clustering(df6.copy(), clusters = cl,col_select= col_select)\n",
    "    hom = homogeneity(df6, group_name='Kmeans-Cluster', class_name='C').mean().iloc[0]\n",
    "    graph_km.append([cl, hom])"
   ]
  },
  {
   "cell_type": "markdown",
   "metadata": {},
   "source": [
    "%%time\n",
    "graph_spec = []\n",
    "for cl in clusters:\n",
    "    print(cl)\n",
    "\n",
    "    df6,_= spectral_clustering(df6.copy(), clusters = cl,col_select= col_select)\n",
    "    hom = homogeneity(df6, group_name='Spectral-Cluster', class_name='C').mean().iloc[0]\n",
    "    graph_spec.append([cl, hom])"
   ]
  },
  {
   "cell_type": "code",
   "execution_count": 76,
   "metadata": {},
   "outputs": [
    {
     "name": "stdout",
     "output_type": "stream",
     "text": [
      "100\n",
      "25\n",
      "16\n",
      "4\n",
      "CPU times: user 18min 1s, sys: 1min, total: 19min 2s\n",
      "Wall time: 21min 33s\n"
     ]
    }
   ],
   "source": [
    "%%time\n",
    "graph_agglo = []\n",
    "for cl in clusters:\n",
    "    print(cl)\n",
    "\n",
    "    df6,_= agglomerative_clustering(df6.copy(), clusters = cl,col_select= col_select)\n",
    "    hom = homogeneity(df6, group_name='Agglomerative-Cluster', class_name='C').mean().iloc[0]\n",
    "    graph_agglo.append([cl, hom])"
   ]
  },
  {
   "cell_type": "code",
   "execution_count": 77,
   "metadata": {},
   "outputs": [],
   "source": [
    "\n",
    "graphs = [graph_box, graph_km, graph_agglo]#,graph_spec, graph_agglo]\n",
    "names = ['box', 'kmeans', 'agglomerative']#,'spectral', 'agglomerative']"
   ]
  },
  {
   "cell_type": "code",
   "execution_count": 78,
   "metadata": {},
   "outputs": [
    {
     "data": {
      "image/png": "[encoded data removed]",
      "text/plain": [
       "<Figure size 432x288 with 1 Axes>"
      ]
     },
     "metadata": {
      "needs_background": "light"
     },
     "output_type": "display_data"
    }
   ],
   "source": [
    "_,ax = plt.subplots()\n",
    "for graph in graphs:\n",
    "    graph = np.array(graph)\n",
    "    ax.plot(np.log10(graph[:,0]), graph[:,1])\n",
    "    #plt.plot()\n",
    "    ax.set_xlabel('Log #Clusters')\n",
    "    ax.set_ylabel('Avg Homogeneity')\n",
    "\n",
    "ax.legend(names)\n",
    "plt.show()"
   ]
  }
 ],
 "metadata": {
  "kernelspec": {
   "display_name": "Python [conda env:jorje]",
   "language": "python",
   "name": "conda-env-jorje-py"
  },
  "language_info": {
   "codemirror_mode": {
    "name": "ipython",
    "version": 3
   },
   "file_extension": ".py",
   "mimetype": "text/x-python",
   "name": "python",
   "nbconvert_exporter": "python",
   "pygments_lexer": "ipython3",
   "version": "3.7.2"
  }
 },
 "nbformat": 4,
 "nbformat_minor": 2
}
