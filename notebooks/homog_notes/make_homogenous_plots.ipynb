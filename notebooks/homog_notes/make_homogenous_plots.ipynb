{
 "cells": [
  {
   "cell_type": "code",
   "execution_count": 48,
   "metadata": {},
   "outputs": [],
   "source": [
    "import pandas as pd\n",
    "import matplotlib as mpl\n",
    "import matplotlib.pyplot as plt\n",
    "import seaborn as sns\n",
    "from pathlib import Path\n",
    "import numpy as np"
   ]
  },
  {
   "cell_type": "code",
   "execution_count": 54,
   "metadata": {},
   "outputs": [],
   "source": [
    "fonts = {'family': 'cmr10','weight': 'normal',\n",
    "            'size': 20}    \n",
    "div = 1.5\n",
    "\n",
    "l1 = 22/div\n",
    "l2 = 20/div\n",
    "l3 = 13/(div-0.2)\n",
    "\n",
    "mpl.rcParams['xtick.labelsize'] = l2\n",
    "mpl.rcParams['ytick.labelsize'] = l2\n",
    "mpl.rcParams['axes.labelsize'] = l1\n",
    "mpl.rcParams['font.serif'] = 'Times New Roman'\n",
    "mpl.rcParams['font.weight'] = 'normal'\n",
    "mpl.rcParams['font.size'] = 20\n",
    "mpl.rcParams['legend.fontsize'] = l3\n",
    "\n",
    "#axes_font = {'labelsize':l1}\n",
    "#mpl.rc('font', **font)\n",
    "#xticks = {'labelsize':l2}# 'ytick.labelsize':20}\n",
    "#yticks = {'labelsize':l2}# 'ytick.labelsize':20}\n",
    "#legend = {'fontsize':l3}\n",
    "# tex = {'usetex':True}\n",
    "#mpl.rc('axes', **axes_font)\n",
    "#mpl.rc('xtick', **xticks)\n",
    "#mpl.rc('ytick', **yticks)\n",
    "#mpl.rc('font', **fonts)\n",
    "#mpl.rc('legend', **legend)"
   ]
  },
  {
   "cell_type": "code",
   "execution_count": 55,
   "metadata": {},
   "outputs": [],
   "source": [
    "paths = 'homog/'\n",
    "Path('hplots').mkdir(exist_ok = True, parents = True)\n",
    "p = 'hplots/'"
   ]
  },
  {
   "cell_type": "code",
   "execution_count": 56,
   "metadata": {},
   "outputs": [],
   "source": [
    "box = pd.read_csv(paths+'box.csv')\n",
    "km = pd.read_csv(paths+'kmeans.csv')"
   ]
  },
  {
   "cell_type": "code",
   "execution_count": 57,
   "metadata": {},
   "outputs": [
    {
     "data": {
      "text/html": [
       "<div>\n",
       "<style scoped>\n",
       "    .dataframe tbody tr th:only-of-type {\n",
       "        vertical-align: middle;\n",
       "    }\n",
       "\n",
       "    .dataframe tbody tr th {\n",
       "        vertical-align: top;\n",
       "    }\n",
       "\n",
       "    .dataframe thead th {\n",
       "        text-align: right;\n",
       "    }\n",
       "</style>\n",
       "<table border=\"1\" class=\"dataframe\">\n",
       "  <thead>\n",
       "    <tr style=\"text-align: right;\">\n",
       "      <th></th>\n",
       "      <th>box</th>\n",
       "      <th>X-parts</th>\n",
       "      <th>Clusters</th>\n",
       "      <th>N</th>\n",
       "      <th>iters</th>\n",
       "      <th>mean-hom</th>\n",
       "      <th>std-hom</th>\n",
       "    </tr>\n",
       "  </thead>\n",
       "  <tbody>\n",
       "    <tr>\n",
       "      <th>0</th>\n",
       "      <td>0</td>\n",
       "      <td>2</td>\n",
       "      <td>4</td>\n",
       "      <td>32</td>\n",
       "      <td>50000</td>\n",
       "      <td>0.671417</td>\n",
       "      <td>0.061389</td>\n",
       "    </tr>\n",
       "    <tr>\n",
       "      <th>1</th>\n",
       "      <td>1</td>\n",
       "      <td>4</td>\n",
       "      <td>16</td>\n",
       "      <td>512</td>\n",
       "      <td>6250</td>\n",
       "      <td>0.669695</td>\n",
       "      <td>0.015040</td>\n",
       "    </tr>\n",
       "    <tr>\n",
       "      <th>2</th>\n",
       "      <td>2</td>\n",
       "      <td>5</td>\n",
       "      <td>25</td>\n",
       "      <td>1250</td>\n",
       "      <td>2000</td>\n",
       "      <td>0.776799</td>\n",
       "      <td>0.010427</td>\n",
       "    </tr>\n",
       "    <tr>\n",
       "      <th>3</th>\n",
       "      <td>3</td>\n",
       "      <td>10</td>\n",
       "      <td>100</td>\n",
       "      <td>20000</td>\n",
       "      <td>250</td>\n",
       "      <td>0.937516</td>\n",
       "      <td>0.001523</td>\n",
       "    </tr>\n",
       "    <tr>\n",
       "      <th>4</th>\n",
       "      <td>4</td>\n",
       "      <td>12</td>\n",
       "      <td>144</td>\n",
       "      <td>41472</td>\n",
       "      <td>86</td>\n",
       "      <td>0.918619</td>\n",
       "      <td>0.001281</td>\n",
       "    </tr>\n",
       "    <tr>\n",
       "      <th>5</th>\n",
       "      <td>5</td>\n",
       "      <td>20</td>\n",
       "      <td>400</td>\n",
       "      <td>320000</td>\n",
       "      <td>15</td>\n",
       "      <td>0.962720</td>\n",
       "      <td>0.000296</td>\n",
       "    </tr>\n",
       "    <tr>\n",
       "      <th>6</th>\n",
       "      <td>6</td>\n",
       "      <td>25</td>\n",
       "      <td>625</td>\n",
       "      <td>781250</td>\n",
       "      <td>4</td>\n",
       "      <td>0.955020</td>\n",
       "      <td>0.000335</td>\n",
       "    </tr>\n",
       "    <tr>\n",
       "      <th>7</th>\n",
       "      <td>7</td>\n",
       "      <td>33</td>\n",
       "      <td>1089</td>\n",
       "      <td>2371842</td>\n",
       "      <td>1</td>\n",
       "      <td>0.973252</td>\n",
       "      <td>0.000000</td>\n",
       "    </tr>\n",
       "  </tbody>\n",
       "</table>\n",
       "</div>"
      ],
      "text/plain": [
       "   box  X-parts  Clusters        N  iters  mean-hom   std-hom\n",
       "0    0        2         4       32  50000  0.671417  0.061389\n",
       "1    1        4        16      512   6250  0.669695  0.015040\n",
       "2    2        5        25     1250   2000  0.776799  0.010427\n",
       "3    3       10       100    20000    250  0.937516  0.001523\n",
       "4    4       12       144    41472     86  0.918619  0.001281\n",
       "5    5       20       400   320000     15  0.962720  0.000296\n",
       "6    6       25       625   781250      4  0.955020  0.000335\n",
       "7    7       33      1089  2371842      1  0.973252  0.000000"
      ]
     },
     "execution_count": 57,
     "metadata": {},
     "output_type": "execute_result"
    }
   ],
   "source": [
    "box"
   ]
  },
  {
   "cell_type": "code",
   "execution_count": 61,
   "metadata": {},
   "outputs": [
    {
     "data": {
      "image/png": "[encoded data removed]",
      "text/plain": [
       "<Figure size 432x288 with 1 Axes>"
      ]
     },
     "metadata": {
      "needs_background": "light"
     },
     "output_type": "display_data"
    }
   ],
   "source": [
    "y = 'mean-hom'\n",
    "x = 'N'\n",
    "z = 'std-hom'\n",
    "fig, ax = plt.subplots()\n",
    "line1 = ax.plot(box[x],box[y], 'k-o')\n",
    "ax.fill_between(box[x], box[y]-box[z], box[y]+box[z], color = 'k', alpha = 0.3)\n",
    "line2 = ax.plot(km[x],km[y],'k--')\n",
    "ax.fill_between(km[x], km[y]-km[z], km[y]+km[z], alpha = 0.3, color = 'k')\n",
    "ax.set_xticks([ 100, 1000, 10000, 100000, 1000000])\n",
    "ax.set_yticks(np.arange(0.6,1.05,0.1))\n",
    "ax.set_xscale('log')\n",
    "\n",
    "ax.legend(['box', 'kmeans'], loc = 'lower right')\n",
    "ax.set_xlabel('Number of Points')\n",
    "ax.set_ylabel('Mean Hmg.')\n",
    "plt.minorticks_off()\n",
    "fig.savefig('{}/std075FS.pdf'.format(p), bbox_inches='tight',pad_inches = 0)\n",
    "\n",
    "fig.show()"
   ]
  },
  {
   "cell_type": "code",
   "execution_count": 29,
   "metadata": {},
   "outputs": [
    {
     "data": {
      "text/plain": [
       "array([0.6 , 0.65, 0.7 , 0.75, 0.8 , 0.85, 0.9 , 0.95, 1.  ])"
      ]
     },
     "execution_count": 29,
     "metadata": {},
     "output_type": "execute_result"
    }
   ],
   "source": [
    "np.arange(0.6,1.05,0.05)"
   ]
  },
  {
   "cell_type": "code",
   "execution_count": null,
   "metadata": {},
   "outputs": [],
   "source": []
  }
 ],
 "metadata": {
  "kernelspec": {
   "display_name": "Python [conda env:jorje]",
   "language": "python",
   "name": "conda-env-jorje-py"
  },
  "language_info": {
   "codemirror_mode": {
    "name": "ipython",
    "version": 3
   },
   "file_extension": ".py",
   "mimetype": "text/x-python",
   "name": "python",
   "nbconvert_exporter": "python",
   "pygments_lexer": "ipython3",
   "version": "3.7.2"
  }
 },
 "nbformat": 4,
 "nbformat_minor": 2
}
