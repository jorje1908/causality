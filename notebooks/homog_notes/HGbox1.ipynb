{
 "cells": [
  {
   "cell_type": "code",
   "execution_count": 1,
   "metadata": {},
   "outputs": [],
   "source": [
    "%load_ext autoreload\n",
    "%autoreload 2\n"
   ]
  },
  {
   "cell_type": "code",
   "execution_count": 2,
   "metadata": {},
   "outputs": [],
   "source": [
    "import numpy as np\n",
    "import pandas as pd\n",
    "import matplotlib.pyplot as plt\n",
    "import seaborn as sns\n",
    "import matplotlib as mpl\n",
    "\n",
    "from sklearn.cluster import KMeans \n",
    "from sklearn.cluster import SpectralClustering\n",
    "from sklearn.cluster import AgglomerativeClustering"
   ]
  },
  {
   "cell_type": "code",
   "execution_count": 3,
   "metadata": {},
   "outputs": [],
   "source": [
    "import sys\n",
    "\n",
    "sys.path.append('../../src')\n",
    "\n"
   ]
  },
  {
   "cell_type": "code",
   "execution_count": 4,
   "metadata": {},
   "outputs": [],
   "source": [
    "from base_exp_gen import generate_experiment as GEN_EXP\n",
    "from clustering_algos import agglomerative_clustering, kmeans_clustering, box_clustering\n",
    "from sklearn.model_selection import train_test_split as datasplit\n",
    "from sklearn.ensemble import GradientBoostingRegressor as GDBR\n",
    "from evaluations import computeATT_per_cluster, predict_cf, calculate_ite, get_homogeneity\n",
    "\n"
   ]
  },
  {
   "cell_type": "code",
   "execution_count": 5,
   "metadata": {},
   "outputs": [],
   "source": [
    "np.random.seed(seed = 0)"
   ]
  },
  {
   "cell_type": "code",
   "execution_count": 6,
   "metadata": {},
   "outputs": [],
   "source": [
    "pd.set_option(\"display.max_columns\", None)\n"
   ]
  },
  {
   "cell_type": "code",
   "execution_count": 7,
   "metadata": {},
   "outputs": [],
   "source": [
    "x_partition = [[i,i**2,2*i**4, 50000] for i in [2,4,5,10,12,20,25,33]]\n",
    "def its(x):\n",
    "    for i, (x1,x2,x3,x4) in enumerate(x[1:]):\n",
    "        x[i+1][3]=(int(x[i][3]/(2*np.sqrt(x3/x[i][2]))))\n",
    "    return x"
   ]
  },
  {
   "cell_type": "code",
   "execution_count": 8,
   "metadata": {},
   "outputs": [],
   "source": [
    "a = its(x_partition)\n",
    "exps = pd.DataFrame(a, columns = ['X-parts','Clusters', 'N', 'iters'])"
   ]
  },
  {
   "cell_type": "code",
   "execution_count": 9,
   "metadata": {},
   "outputs": [],
   "source": [
    "name = 'box'\n",
    "exps.index.name = name"
   ]
  },
  {
   "cell_type": "code",
   "execution_count": 10,
   "metadata": {},
   "outputs": [],
   "source": [
    "exps['mean-hom'] = 0\n",
    "exps['std-hom'] = 0"
   ]
  },
  {
   "cell_type": "code",
   "execution_count": 11,
   "metadata": {},
   "outputs": [
    {
     "data": {
      "text/html": [
       "<div>\n",
       "<style scoped>\n",
       "    .dataframe tbody tr th:only-of-type {\n",
       "        vertical-align: middle;\n",
       "    }\n",
       "\n",
       "    .dataframe tbody tr th {\n",
       "        vertical-align: top;\n",
       "    }\n",
       "\n",
       "    .dataframe thead th {\n",
       "        text-align: right;\n",
       "    }\n",
       "</style>\n",
       "<table border=\"1\" class=\"dataframe\">\n",
       "  <thead>\n",
       "    <tr style=\"text-align: right;\">\n",
       "      <th></th>\n",
       "      <th>X-parts</th>\n",
       "      <th>Clusters</th>\n",
       "      <th>N</th>\n",
       "      <th>iters</th>\n",
       "      <th>mean-hom</th>\n",
       "      <th>std-hom</th>\n",
       "    </tr>\n",
       "    <tr>\n",
       "      <th>box</th>\n",
       "      <th></th>\n",
       "      <th></th>\n",
       "      <th></th>\n",
       "      <th></th>\n",
       "      <th></th>\n",
       "      <th></th>\n",
       "    </tr>\n",
       "  </thead>\n",
       "  <tbody>\n",
       "    <tr>\n",
       "      <th>0</th>\n",
       "      <td>2</td>\n",
       "      <td>4</td>\n",
       "      <td>32</td>\n",
       "      <td>50000</td>\n",
       "      <td>0</td>\n",
       "      <td>0</td>\n",
       "    </tr>\n",
       "    <tr>\n",
       "      <th>1</th>\n",
       "      <td>4</td>\n",
       "      <td>16</td>\n",
       "      <td>512</td>\n",
       "      <td>6250</td>\n",
       "      <td>0</td>\n",
       "      <td>0</td>\n",
       "    </tr>\n",
       "    <tr>\n",
       "      <th>2</th>\n",
       "      <td>5</td>\n",
       "      <td>25</td>\n",
       "      <td>1250</td>\n",
       "      <td>2000</td>\n",
       "      <td>0</td>\n",
       "      <td>0</td>\n",
       "    </tr>\n",
       "    <tr>\n",
       "      <th>3</th>\n",
       "      <td>10</td>\n",
       "      <td>100</td>\n",
       "      <td>20000</td>\n",
       "      <td>250</td>\n",
       "      <td>0</td>\n",
       "      <td>0</td>\n",
       "    </tr>\n",
       "    <tr>\n",
       "      <th>4</th>\n",
       "      <td>12</td>\n",
       "      <td>144</td>\n",
       "      <td>41472</td>\n",
       "      <td>86</td>\n",
       "      <td>0</td>\n",
       "      <td>0</td>\n",
       "    </tr>\n",
       "    <tr>\n",
       "      <th>5</th>\n",
       "      <td>20</td>\n",
       "      <td>400</td>\n",
       "      <td>320000</td>\n",
       "      <td>15</td>\n",
       "      <td>0</td>\n",
       "      <td>0</td>\n",
       "    </tr>\n",
       "    <tr>\n",
       "      <th>6</th>\n",
       "      <td>25</td>\n",
       "      <td>625</td>\n",
       "      <td>781250</td>\n",
       "      <td>4</td>\n",
       "      <td>0</td>\n",
       "      <td>0</td>\n",
       "    </tr>\n",
       "    <tr>\n",
       "      <th>7</th>\n",
       "      <td>33</td>\n",
       "      <td>1089</td>\n",
       "      <td>2371842</td>\n",
       "      <td>1</td>\n",
       "      <td>0</td>\n",
       "      <td>0</td>\n",
       "    </tr>\n",
       "  </tbody>\n",
       "</table>\n",
       "</div>"
      ],
      "text/plain": [
       "     X-parts  Clusters        N  iters  mean-hom  std-hom\n",
       "box                                                      \n",
       "0          2         4       32  50000         0        0\n",
       "1          4        16      512   6250         0        0\n",
       "2          5        25     1250   2000         0        0\n",
       "3         10       100    20000    250         0        0\n",
       "4         12       144    41472     86         0        0\n",
       "5         20       400   320000     15         0        0\n",
       "6         25       625   781250      4         0        0\n",
       "7         33      1089  2371842      1         0        0"
      ]
     },
     "execution_count": 11,
     "metadata": {},
     "output_type": "execute_result"
    }
   ],
   "source": [
    "exps"
   ]
  },
  {
   "cell_type": "code",
   "execution_count": 12,
   "metadata": {},
   "outputs": [],
   "source": [
    "import time"
   ]
  },
  {
   "cell_type": "code",
   "execution_count": 13,
   "metadata": {},
   "outputs": [
    {
     "name": "stdout",
     "output_type": "stream",
     "text": [
      "running: 4 32\n",
      "time: 1860.7741124629974\n",
      "running: 16 512\n",
      "time: 422.8585739135742\n",
      "running: 25 1250\n",
      "time: 179.69603419303894\n",
      "running: 100 20000\n",
      "time: 72.56229662895203\n",
      "running: 144 41472\n",
      "time: 35.71471667289734\n",
      "running: 400 320000\n",
      "time: 18.778613090515137\n",
      "running: 625 781250\n",
      "time: 8.631349086761475\n",
      "running: 1089 2371842\n",
      "time: 4.960816383361816\n",
      "CPU times: user 43min 20s, sys: 6.09 s, total: 43min 26s\n",
      "Wall time: 43min 24s\n"
     ]
    }
   ],
   "source": [
    "%%time\n",
    "col_select = ['x0', 'x1']\n",
    "gen = []\n",
    "for i,row in exps.iterrows():\n",
    "    c, n, iters = row.Clusters, row.N, row.iters\n",
    "    homc = []\n",
    "    print('running:',c,n)\n",
    "    ss = time.time()\n",
    "    for j in range(iters):\n",
    "        ###gneerate data\n",
    "        N,D = n,2\n",
    "        kw_generate =  {'N':n, 'D':D,'f_gen_name': 'uniform_gen','low':0, 'high': 1}\n",
    "        kw_cluster =  {'f_class_name':'circle_class', 'centers': [0.5, 0.5], 'r_small': 0.2, 'r_big':0.4}\n",
    "        kw_treatment = {'f_treat_name' :'uniform_treat','choices':[0,1], 'probabilities':[0.5,0.5]}\n",
    "\n",
    "        stats = np.array([[1, 0.75], [0, 0.75], [1, 0.75], [1, 0.75]])\n",
    "        kw_outcome = {'f_outcome_name': 'outcome1','treatment':'Treatment', 'cls':'C', 'stats':stats}\n",
    "\n",
    "        data = GEN_EXP(kw_generate, kw_cluster, kw_treatment, kw_outcome).dat\n",
    "        data = calculate_ite(data.copy(), treatment = 'Treatment',\n",
    "                     counterfactual = 'Ycf', outcome = 'Y', ite_name = 'ITE')\n",
    "        \n",
    "        ### cluster data\n",
    "        data2,_ = box_clustering(data, clusters=c,col_select = col_select, cluster_name = 'A')\n",
    "        ### calc hom\n",
    "        res = computeATT_per_cluster(data2.copy(), hom_name = 'HOM',weight_names = 'W', \n",
    "                                     cluster_name  = \"A\", att = False)\n",
    "        hom = (res['HOM']*res['W']).sum(axis = 0)\n",
    "        homc.append(hom)\n",
    "        \n",
    "    ###get stats\n",
    "    ee = time.time() - ss\n",
    "    print('time:',ee)\n",
    "    homcnp = np.array(homc)\n",
    "    gen.append(homcnp)\n",
    "    mean = np.mean(homcnp)\n",
    "    std = np.std(homcnp)\n",
    "    exps.loc[i,'mean-hom'] = mean\n",
    "    exps.loc[i,'std-hom'] = std\n",
    "    \n",
    "    "
   ]
  },
  {
   "cell_type": "code",
   "execution_count": 14,
   "metadata": {},
   "outputs": [
    {
     "data": {
      "text/html": [
       "<div>\n",
       "<style scoped>\n",
       "    .dataframe tbody tr th:only-of-type {\n",
       "        vertical-align: middle;\n",
       "    }\n",
       "\n",
       "    .dataframe tbody tr th {\n",
       "        vertical-align: top;\n",
       "    }\n",
       "\n",
       "    .dataframe thead th {\n",
       "        text-align: right;\n",
       "    }\n",
       "</style>\n",
       "<table border=\"1\" class=\"dataframe\">\n",
       "  <thead>\n",
       "    <tr style=\"text-align: right;\">\n",
       "      <th></th>\n",
       "      <th>X-parts</th>\n",
       "      <th>Clusters</th>\n",
       "      <th>N</th>\n",
       "      <th>iters</th>\n",
       "      <th>mean-hom</th>\n",
       "      <th>std-hom</th>\n",
       "    </tr>\n",
       "    <tr>\n",
       "      <th>box</th>\n",
       "      <th></th>\n",
       "      <th></th>\n",
       "      <th></th>\n",
       "      <th></th>\n",
       "      <th></th>\n",
       "      <th></th>\n",
       "    </tr>\n",
       "  </thead>\n",
       "  <tbody>\n",
       "    <tr>\n",
       "      <th>0</th>\n",
       "      <td>2</td>\n",
       "      <td>4</td>\n",
       "      <td>32</td>\n",
       "      <td>50000</td>\n",
       "      <td>0.671417</td>\n",
       "      <td>0.061389</td>\n",
       "    </tr>\n",
       "    <tr>\n",
       "      <th>1</th>\n",
       "      <td>4</td>\n",
       "      <td>16</td>\n",
       "      <td>512</td>\n",
       "      <td>6250</td>\n",
       "      <td>0.669695</td>\n",
       "      <td>0.015040</td>\n",
       "    </tr>\n",
       "    <tr>\n",
       "      <th>2</th>\n",
       "      <td>5</td>\n",
       "      <td>25</td>\n",
       "      <td>1250</td>\n",
       "      <td>2000</td>\n",
       "      <td>0.776799</td>\n",
       "      <td>0.010427</td>\n",
       "    </tr>\n",
       "    <tr>\n",
       "      <th>3</th>\n",
       "      <td>10</td>\n",
       "      <td>100</td>\n",
       "      <td>20000</td>\n",
       "      <td>250</td>\n",
       "      <td>0.937516</td>\n",
       "      <td>0.001523</td>\n",
       "    </tr>\n",
       "    <tr>\n",
       "      <th>4</th>\n",
       "      <td>12</td>\n",
       "      <td>144</td>\n",
       "      <td>41472</td>\n",
       "      <td>86</td>\n",
       "      <td>0.918619</td>\n",
       "      <td>0.001281</td>\n",
       "    </tr>\n",
       "    <tr>\n",
       "      <th>5</th>\n",
       "      <td>20</td>\n",
       "      <td>400</td>\n",
       "      <td>320000</td>\n",
       "      <td>15</td>\n",
       "      <td>0.962720</td>\n",
       "      <td>0.000296</td>\n",
       "    </tr>\n",
       "    <tr>\n",
       "      <th>6</th>\n",
       "      <td>25</td>\n",
       "      <td>625</td>\n",
       "      <td>781250</td>\n",
       "      <td>4</td>\n",
       "      <td>0.955020</td>\n",
       "      <td>0.000335</td>\n",
       "    </tr>\n",
       "    <tr>\n",
       "      <th>7</th>\n",
       "      <td>33</td>\n",
       "      <td>1089</td>\n",
       "      <td>2371842</td>\n",
       "      <td>1</td>\n",
       "      <td>0.973252</td>\n",
       "      <td>0.000000</td>\n",
       "    </tr>\n",
       "  </tbody>\n",
       "</table>\n",
       "</div>"
      ],
      "text/plain": [
       "     X-parts  Clusters        N  iters  mean-hom   std-hom\n",
       "box                                                       \n",
       "0          2         4       32  50000  0.671417  0.061389\n",
       "1          4        16      512   6250  0.669695  0.015040\n",
       "2          5        25     1250   2000  0.776799  0.010427\n",
       "3         10       100    20000    250  0.937516  0.001523\n",
       "4         12       144    41472     86  0.918619  0.001281\n",
       "5         20       400   320000     15  0.962720  0.000296\n",
       "6         25       625   781250      4  0.955020  0.000335\n",
       "7         33      1089  2371842      1  0.973252  0.000000"
      ]
     },
     "execution_count": 14,
     "metadata": {},
     "output_type": "execute_result"
    }
   ],
   "source": [
    "exps"
   ]
  },
  {
   "cell_type": "code",
   "execution_count": 15,
   "metadata": {},
   "outputs": [],
   "source": [
    "from pathlib import Path\n",
    "\n"
   ]
  },
  {
   "cell_type": "code",
   "execution_count": 16,
   "metadata": {},
   "outputs": [],
   "source": [
    "p = './homog/'\n",
    "Path('./homog/').mkdir(parents = True, exist_ok = True)\n",
    "exps.to_csv(p+name+'.csv')\n"
   ]
  },
  {
   "cell_type": "markdown",
   "metadata": {},
   "source": [
    "### MISC"
   ]
  },
  {
   "cell_type": "code",
   "execution_count": 17,
   "metadata": {},
   "outputs": [
    {
     "name": "stdout",
     "output_type": "stream",
     "text": [
      "CPU times: user 3min 17s, sys: 48.4 s, total: 4min 6s\n",
      "Wall time: 4min 9s\n"
     ]
    }
   ],
   "source": [
    "%%time\n",
    "homlist = []\n",
    "for i in range(100):\n",
    "    N,D,c = 9**2,2,9\n",
    "    kw_generate =  {'N':n, 'D':D,'f_gen_name': 'uniform_gen','low':0, 'high': 1}\n",
    "    kw_cluster =  {'f_class_name':'circle_class', 'centers': [0.5, 0.5], 'r_small': 0.2, 'r_big':0.4}\n",
    "    kw_treatment = {'f_treat_name' :'uniform_treat','choices':[0,1], 'probabilities':[0.5,0.5]}\n",
    "\n",
    "    stats = np.array([[1, 0.75], [0, 0.75], [1, 0.75], [1, 0.75]])\n",
    "    kw_outcome = {'f_outcome_name': 'outcome1','treatment':'Treatment', 'cls':'C', 'stats':stats}\n",
    "\n",
    "    data3 = GEN_EXP(kw_generate, kw_cluster, kw_treatment, kw_outcome).dat\n",
    "    data3 = calculate_ite(data3.copy(), treatment = 'Treatment',\n",
    "                 counterfactual = 'Ycf', outcome = 'Y', ite_name = 'ITE')\n",
    "\n",
    "    ### cluster data\n",
    "    data3,_ = box_clustering(data3, clusters=c,col_select = col_select, cluster_name = 'A')\n",
    "    ### calc hom\n",
    "    res3 = computeATT_per_cluster(data3.copy(), hom_name = 'HOM',weight_names = 'W', \n",
    "                                 cluster_name  = \"A\", att = False)\n",
    "\n",
    "    hom3 = (res3['HOM']*res3['W']).sum(axis = 0)\n",
    "    homlist.append(hom3)\n",
    "\n",
    "np.array(homlist).mean()"
   ]
  },
  {
   "cell_type": "code",
   "execution_count": 18,
   "metadata": {},
   "outputs": [
    {
     "data": {
      "text/plain": [
       "0.7290667464358925"
      ]
     },
     "execution_count": 18,
     "metadata": {},
     "output_type": "execute_result"
    }
   ],
   "source": [
    "np.array(homlist).mean()"
   ]
  },
  {
   "cell_type": "code",
   "execution_count": 19,
   "metadata": {},
   "outputs": [
    {
     "data": {
      "text/html": [
       "<div>\n",
       "<style scoped>\n",
       "    .dataframe tbody tr th:only-of-type {\n",
       "        vertical-align: middle;\n",
       "    }\n",
       "\n",
       "    .dataframe tbody tr th {\n",
       "        vertical-align: top;\n",
       "    }\n",
       "\n",
       "    .dataframe thead th {\n",
       "        text-align: right;\n",
       "    }\n",
       "</style>\n",
       "<table border=\"1\" class=\"dataframe\">\n",
       "  <thead>\n",
       "    <tr style=\"text-align: right;\">\n",
       "      <th></th>\n",
       "      <th>A</th>\n",
       "      <th>ATT_CLUST</th>\n",
       "      <th>#CLUST_POINTS</th>\n",
       "      <th>HOM</th>\n",
       "      <th>W</th>\n",
       "    </tr>\n",
       "  </thead>\n",
       "  <tbody>\n",
       "    <tr>\n",
       "      <th>0</th>\n",
       "      <td>0</td>\n",
       "      <td>0.217216</td>\n",
       "      <td>263379.0</td>\n",
       "      <td>0.782682</td>\n",
       "      <td>0.111044</td>\n",
       "    </tr>\n",
       "    <tr>\n",
       "      <th>1</th>\n",
       "      <td>1</td>\n",
       "      <td>0.622658</td>\n",
       "      <td>264300.0</td>\n",
       "      <td>0.620371</td>\n",
       "      <td>0.111432</td>\n",
       "    </tr>\n",
       "    <tr>\n",
       "      <th>2</th>\n",
       "      <td>2</td>\n",
       "      <td>0.216991</td>\n",
       "      <td>263927.0</td>\n",
       "      <td>0.781981</td>\n",
       "      <td>0.111275</td>\n",
       "    </tr>\n",
       "    <tr>\n",
       "      <th>3</th>\n",
       "      <td>3</td>\n",
       "      <td>0.619698</td>\n",
       "      <td>263204.0</td>\n",
       "      <td>0.617141</td>\n",
       "      <td>0.110970</td>\n",
       "    </tr>\n",
       "    <tr>\n",
       "      <th>4</th>\n",
       "      <td>4</td>\n",
       "      <td>0.047440</td>\n",
       "      <td>263143.0</td>\n",
       "      <td>0.950647</td>\n",
       "      <td>0.110945</td>\n",
       "    </tr>\n",
       "    <tr>\n",
       "      <th>5</th>\n",
       "      <td>5</td>\n",
       "      <td>0.620430</td>\n",
       "      <td>263567.0</td>\n",
       "      <td>0.619797</td>\n",
       "      <td>0.111123</td>\n",
       "    </tr>\n",
       "    <tr>\n",
       "      <th>6</th>\n",
       "      <td>6</td>\n",
       "      <td>0.217108</td>\n",
       "      <td>264353.0</td>\n",
       "      <td>0.783324</td>\n",
       "      <td>0.111455</td>\n",
       "    </tr>\n",
       "    <tr>\n",
       "      <th>7</th>\n",
       "      <td>7</td>\n",
       "      <td>0.619409</td>\n",
       "      <td>262726.0</td>\n",
       "      <td>0.618724</td>\n",
       "      <td>0.110769</td>\n",
       "    </tr>\n",
       "    <tr>\n",
       "      <th>8</th>\n",
       "      <td>8</td>\n",
       "      <td>0.217943</td>\n",
       "      <td>263243.0</td>\n",
       "      <td>0.782714</td>\n",
       "      <td>0.110987</td>\n",
       "    </tr>\n",
       "  </tbody>\n",
       "</table>\n",
       "</div>"
      ],
      "text/plain": [
       "   A  ATT_CLUST  #CLUST_POINTS       HOM         W\n",
       "0  0   0.217216       263379.0  0.782682  0.111044\n",
       "1  1   0.622658       264300.0  0.620371  0.111432\n",
       "2  2   0.216991       263927.0  0.781981  0.111275\n",
       "3  3   0.619698       263204.0  0.617141  0.110970\n",
       "4  4   0.047440       263143.0  0.950647  0.110945\n",
       "5  5   0.620430       263567.0  0.619797  0.111123\n",
       "6  6   0.217108       264353.0  0.783324  0.111455\n",
       "7  7   0.619409       262726.0  0.618724  0.110769\n",
       "8  8   0.217943       263243.0  0.782714  0.110987"
      ]
     },
     "execution_count": 19,
     "metadata": {},
     "output_type": "execute_result"
    }
   ],
   "source": [
    "res3"
   ]
  },
  {
   "cell_type": "code",
   "execution_count": 20,
   "metadata": {},
   "outputs": [],
   "source": [
    "hom3 = (res3['HOM']*res3['W']).sum(axis = 0)\n"
   ]
  },
  {
   "cell_type": "code",
   "execution_count": 21,
   "metadata": {},
   "outputs": [
    {
     "ename": "NameError",
     "evalue": "name 'sc' is not defined",
     "output_type": "error",
     "traceback": [
      "\u001b[0;31m---------------------------------------------------------------------------\u001b[0m",
      "\u001b[0;31mNameError\u001b[0m                                 Traceback (most recent call last)",
      "\u001b[0;32m<ipython-input-21-382706497a79>\u001b[0m in \u001b[0;36m<module>\u001b[0;34m\u001b[0m\n\u001b[0;32m----> 1\u001b[0;31m \u001b[0msc\u001b[0m\u001b[0;34m.\u001b[0m\u001b[0mspecial\u001b[0m\u001b[0;34m.\u001b[0m\u001b[0mcomb\u001b[0m\u001b[0;34m(\u001b[0m\u001b[0;36m4\u001b[0m\u001b[0;34m,\u001b[0m\u001b[0;36m2\u001b[0m\u001b[0;34m)\u001b[0m\u001b[0;34m\u001b[0m\u001b[0;34m\u001b[0m\u001b[0m\n\u001b[0m",
      "\u001b[0;31mNameError\u001b[0m: name 'sc' is not defined"
     ]
    }
   ],
   "source": [
    "sc.special.comb(4,2)"
   ]
  },
  {
   "cell_type": "code",
   "execution_count": null,
   "metadata": {},
   "outputs": [],
   "source": [
    "import scipy as sc\n"
   ]
  },
  {
   "cell_type": "code",
   "execution_count": null,
   "metadata": {},
   "outputs": [],
   "source": [
    "mu = 0.63\n",
    "ss = 0\n",
    "N = 16\n",
    "for k in range(N+1):\n",
    "    prod= sc.special.comb(N,k)*((1/4)**k)*(3/4)**(N-k)\n",
    "    sumi = 0\n",
    "    for i in range(k+1):\n",
    "        sumi += max(i,k-i)*sc.special.comb(k,i)*(mu**i)*(1-mu)**(k-i)\n",
    "        \n",
    "    ss += prod*sumi\n",
    "        "
   ]
  },
  {
   "cell_type": "code",
   "execution_count": null,
   "metadata": {},
   "outputs": [],
   "source": [
    "ss/4"
   ]
  },
  {
   "cell_type": "code",
   "execution_count": null,
   "metadata": {},
   "outputs": [],
   "source": [
    "sss = 0\n",
    "k= 4\n",
    "mu = 0.623\n",
    "for i in range(k+1):\n",
    "    prod= max(k-i,i)*sc.special.comb(k,i)*((mu)**i)*(1-mu)**(k-i)\n",
    "    sss += prod"
   ]
  },
  {
   "cell_type": "code",
   "execution_count": null,
   "metadata": {},
   "outputs": [],
   "source": [
    "sss/k"
   ]
  },
  {
   "cell_type": "code",
   "execution_count": null,
   "metadata": {},
   "outputs": [],
   "source": [
    "ss/4"
   ]
  }
 ],
 "metadata": {
  "kernelspec": {
   "display_name": "Python [conda env:jorje]",
   "language": "python",
   "name": "conda-env-jorje-py"
  },
  "language_info": {
   "codemirror_mode": {
    "name": "ipython",
    "version": 3
   },
   "file_extension": ".py",
   "mimetype": "text/x-python",
   "name": "python",
   "nbconvert_exporter": "python",
   "pygments_lexer": "ipython3",
   "version": "3.7.2"
  }
 },
 "nbformat": 4,
 "nbformat_minor": 2
}
