{
 "cells": [
  {
   "cell_type": "markdown",
   "metadata": {},
   "source": [
    "## <span style = \"color:blue\">Causal Analysis in Settings where the control group is orders of magnitude larger than the treatment group </span>"
   ]
  },
  {
   "cell_type": "code",
   "execution_count": 1,
   "metadata": {},
   "outputs": [],
   "source": [
    "%load_ext autoreload\n",
    "%autoreload 2\n"
   ]
  },
  {
   "cell_type": "code",
   "execution_count": 2,
   "metadata": {},
   "outputs": [],
   "source": [
    "import numpy as np\n",
    "import pandas as pd\n",
    "\n",
    "#dowhy\n",
    "import dowhy\n",
    "from dowhy import CausalModel\n",
    "import dowhy.datasets, dowhy.plotter\n",
    "\n",
    "#econml-scikit-learn\n",
    "import econml\n",
    "from sklearn.preprocessing import PolynomialFeatures\n",
    "from sklearn.linear_model import LassoCV\n",
    "from sklearn.ensemble import GradientBoostingRegressor\n"
   ]
  },
  {
   "cell_type": "markdown",
   "metadata": {},
   "source": [
    "#### Filter Out Unnecessary Warnings"
   ]
  },
  {
   "cell_type": "code",
   "execution_count": 3,
   "metadata": {},
   "outputs": [],
   "source": [
    "import logging\n",
    "logging.getLogger(\"dowhy\").setLevel(logging.WARNING)\n",
    "import warnings\n",
    "from sklearn.exceptions import DataConversionWarning\n",
    "warnings.filterwarnings(action='ignore', category=DataConversionWarning)\n"
   ]
  },
  {
   "cell_type": "code",
   "execution_count": 4,
   "metadata": {},
   "outputs": [],
   "source": [
    "np.random.seed(seed = 0)"
   ]
  },
  {
   "cell_type": "markdown",
   "metadata": {},
   "source": [
    "\n",
    "**For the clustering** we use as means $\\mu_1, \\mu_2$. We choose $w$ to be parallel in the line connecting the two means. <br> $\\begin{align}w=\\frac{\\mu_2-\\mu_1}{||\\mu_2-\\mu_1||}\\end{align}$<br>\n",
    "The bias $b$ can be adjusted such that the hyperplane passes through a point connecting the two means:<br>$\n",
    "    \\begin{align}\n",
    "    b = \\frac{(\\mu_2-\\mu_1)}{||\\mu_2-\\mu_1||}^T(\\mu_1 + \\lambda (\\mu_2-\\mu_1))\n",
    "    \\end{align}$"
   ]
  },
  {
   "cell_type": "code",
   "execution_count": 5,
   "metadata": {},
   "outputs": [],
   "source": [
    "def generate_state(X, w = None, b = None, cluster = False):\n",
    "    \"\"\"\n",
    "    Separates Patients\n",
    "    with a linear hyperplane\n",
    "    Patients above the hyperplane are healthy\n",
    "    and below are sick\n",
    "    \n",
    "    \n",
    "    \"\"\"\n",
    "    dims = X.shape[1]\n",
    "    if not cluster:\n",
    "        w = np.random.rand(dims, 1)\n",
    "        w = w/np.sum(w)\n",
    "        b = 1\n",
    "        \n",
    "    S = ((X@w-b) > 0).astype(int)\n",
    "    \n",
    "    return S\n",
    "\n",
    "\n",
    "def generate_X(dims:int = 5, N:int = 10**4, cluster = False):\n",
    "    \n",
    "    \"\"\"\n",
    "    Generates X from a multidimension Normal distribution\n",
    "    with the identity matrix for covariance\n",
    "    \n",
    "    \"\"\"\n",
    "    if not cluster:\n",
    "        mu  = np.zeros(dims)\n",
    "        loc = np.eye(dims)\n",
    "        X = np.random.multivariate_normal(mean = mu, cov = loc, size = N)\n",
    "        w = None\n",
    "        b = None\n",
    "        \n",
    "    else:\n",
    "        mu1 = np.zeros(dims)\n",
    "        mu2 = np.ones(dims)\n",
    "        loc = np.eye(dims)\n",
    "        N1 = int(N*0.97)\n",
    "        N2 = N-N1\n",
    "        X1 = np.random.multivariate_normal(mean = mu1, cov = loc, size = N1)\n",
    "        X2 = np.random.multivariate_normal(mean = mu2, cov = loc, size = N2)\n",
    "        w = np.expand_dims((mu2-mu1)/np.sum(mu2-mu1), axis = 1)\n",
    "        l = 0.85\n",
    "        b = w.T@((1-l)*mu1[:,np.newaxis] + l*(mu2[:,np.newaxis]))\n",
    "        X = np.concatenate((X1, X2), axis = 0)\n",
    "        np.random.shuffle(X)\n",
    "        print(\"{} people from cluster 1 generated\".format(N1))\n",
    "        print(\"{} people from cluster 2 generated\".format(N2))\n",
    "\n",
    "        \n",
    "        \n",
    "        \n",
    "    return X, w, b\n",
    "\n",
    "def treatment_assignment(S, M):\n",
    "         \"\"\"\n",
    "         assign sick in treatment with p1\n",
    "         assing healthy in treatment with p2\n",
    "         S:State\n",
    "         M:Number of people in treatment group\n",
    "         \"\"\"\n",
    "         #generate a uniform sample \n",
    "         uniform = np.random.uniform(0,1,len(S))\n",
    "         \n",
    "         helper  = np.zeros_like(uniform)\n",
    "         \n",
    "         #assign healthy people to pseudo treatment\n",
    "         #with probability 0.95\n",
    "         helper[(uniform <= 0.98) & (S[:,0] == 1)] = 1\n",
    "         \n",
    "         #assign sick people to pseudo treatment\n",
    "         #with probability 0.2\n",
    "         helper[(uniform >= 0.95) & (S[:,0] == 0)]  = 1\n",
    "         \n",
    "         T = np.zeros_like(helper)\n",
    "         index = np.where(helper == 1)[0]\n",
    "         choose = np.random.choice(index, size = M, replace = False)\n",
    "         \n",
    "         #take a random sample of M from the pseudo treatment\n",
    "         # and assign it to real treatment\n",
    "         T[choose] = 1\n",
    "         T =np.expand_dims(T, 1).astype(int)\n",
    "         T  = np.where(T==1, True, False)\n",
    "         return T\n",
    "        \n",
    "def make_experiment(dims, N, M, cluster = False):\n",
    "    \n",
    "    X, w, b = generate_X(dims, N, cluster = cluster)\n",
    "    S = generate_state(X, w = w, b = b, cluster = cluster)\n",
    "    T = treatment_assignment(S,M)\n",
    "    \n",
    "    print_stats(S,T)\n",
    "    \n",
    "    Yf, Ycf, Y = create_outcome(S,T)\n",
    "    \n",
    "    data = create_pandas(X, S, T, Yf, Ycf, Y)\n",
    "    \n",
    "    return X, S, T, data\n",
    "\n",
    "def create_pandas(X, S, T, Yf, Ycf, Y):\n",
    "    \n",
    "    columns = ['f'+str(i) for i in range(X.shape[1])]\n",
    "    columns.extend(['S', 'Tr', 'Yf', 'Ycf', 'Y'])\n",
    "    \n",
    "    data = pd.DataFrame(np.concatenate([X,S,T, Yf, Ycf, Y], axis = 1), columns = columns)\n",
    "    return data\n",
    "    \n",
    "def print_stats(S,T):\n",
    "    print(\"Population Size:\", len(S))\n",
    "    print(\"Sick Population Size:\", (S==1).sum())\n",
    "    print(\"Treatment group Size:\", T.sum())\n",
    "    print(\"Sick People in Treatment group:\", ((S==1)&(T==1)).sum())\n",
    "\n",
    "def create_outcome(S,T):\n",
    "    \n",
    "    Yf  = np.ones_like(S)\n",
    "    Ycf = np.ones_like(S)\n",
    "    Ycf[(S==1)] = 0\n",
    "    Y = np.ones_like(S)\n",
    "    Y[(S==1)&(T==0)] = 0\n",
    "    \n",
    "    return Yf, Ycf, Y"
   ]
  },
  {
   "cell_type": "code",
   "execution_count": 6,
   "metadata": {},
   "outputs": [
    {
     "name": "stdout",
     "output_type": "stream",
     "text": [
      "970000 people from cluster 1 generated\n",
      "30000 people from cluster 2 generated\n",
      "Population Size: 1000000\n",
      "Sick Population Size: 46787\n",
      "Treatment group Size: 1000\n",
      "Sick People in Treatment group: 465\n"
     ]
    }
   ],
   "source": [
    "dims = 5\n",
    "X, S, T, data= make_experiment(dims, 10**6, 1000, cluster=True)\n",
    "data.Tr = data.Tr.astype(bool)"
   ]
  },
  {
   "cell_type": "code",
   "execution_count": 7,
   "metadata": {},
   "outputs": [
    {
     "data": {
      "text/html": [
       "<div>\n",
       "<style scoped>\n",
       "    .dataframe tbody tr th:only-of-type {\n",
       "        vertical-align: middle;\n",
       "    }\n",
       "\n",
       "    .dataframe tbody tr th {\n",
       "        vertical-align: top;\n",
       "    }\n",
       "\n",
       "    .dataframe thead th {\n",
       "        text-align: right;\n",
       "    }\n",
       "</style>\n",
       "<table border=\"1\" class=\"dataframe\">\n",
       "  <thead>\n",
       "    <tr style=\"text-align: right;\">\n",
       "      <th></th>\n",
       "      <th>f0</th>\n",
       "      <th>f1</th>\n",
       "      <th>f2</th>\n",
       "      <th>f3</th>\n",
       "      <th>f4</th>\n",
       "      <th>S</th>\n",
       "      <th>Tr</th>\n",
       "      <th>Yf</th>\n",
       "      <th>Ycf</th>\n",
       "      <th>Y</th>\n",
       "    </tr>\n",
       "  </thead>\n",
       "  <tbody>\n",
       "    <tr>\n",
       "      <th>0</th>\n",
       "      <td>0.900766</td>\n",
       "      <td>-0.040178</td>\n",
       "      <td>-1.083424</td>\n",
       "      <td>0.121346</td>\n",
       "      <td>-0.247905</td>\n",
       "      <td>0.0</td>\n",
       "      <td>False</td>\n",
       "      <td>1.0</td>\n",
       "      <td>1.0</td>\n",
       "      <td>1.0</td>\n",
       "    </tr>\n",
       "    <tr>\n",
       "      <th>1</th>\n",
       "      <td>0.178655</td>\n",
       "      <td>-0.498405</td>\n",
       "      <td>1.631524</td>\n",
       "      <td>1.267724</td>\n",
       "      <td>-0.245090</td>\n",
       "      <td>0.0</td>\n",
       "      <td>False</td>\n",
       "      <td>1.0</td>\n",
       "      <td>1.0</td>\n",
       "      <td>1.0</td>\n",
       "    </tr>\n",
       "    <tr>\n",
       "      <th>2</th>\n",
       "      <td>-1.532263</td>\n",
       "      <td>-1.673195</td>\n",
       "      <td>-0.825910</td>\n",
       "      <td>-2.163854</td>\n",
       "      <td>-1.181748</td>\n",
       "      <td>0.0</td>\n",
       "      <td>False</td>\n",
       "      <td>1.0</td>\n",
       "      <td>1.0</td>\n",
       "      <td>1.0</td>\n",
       "    </tr>\n",
       "    <tr>\n",
       "      <th>3</th>\n",
       "      <td>0.598833</td>\n",
       "      <td>-0.745410</td>\n",
       "      <td>0.673457</td>\n",
       "      <td>-0.178242</td>\n",
       "      <td>0.286164</td>\n",
       "      <td>0.0</td>\n",
       "      <td>False</td>\n",
       "      <td>1.0</td>\n",
       "      <td>1.0</td>\n",
       "      <td>1.0</td>\n",
       "    </tr>\n",
       "    <tr>\n",
       "      <th>4</th>\n",
       "      <td>1.044861</td>\n",
       "      <td>-1.624495</td>\n",
       "      <td>-1.035050</td>\n",
       "      <td>0.136189</td>\n",
       "      <td>0.205054</td>\n",
       "      <td>0.0</td>\n",
       "      <td>False</td>\n",
       "      <td>1.0</td>\n",
       "      <td>1.0</td>\n",
       "      <td>1.0</td>\n",
       "    </tr>\n",
       "  </tbody>\n",
       "</table>\n",
       "</div>"
      ],
      "text/plain": [
       "         f0        f1        f2        f3        f4    S     Tr   Yf  Ycf    Y\n",
       "0  0.900766 -0.040178 -1.083424  0.121346 -0.247905  0.0  False  1.0  1.0  1.0\n",
       "1  0.178655 -0.498405  1.631524  1.267724 -0.245090  0.0  False  1.0  1.0  1.0\n",
       "2 -1.532263 -1.673195 -0.825910 -2.163854 -1.181748  0.0  False  1.0  1.0  1.0\n",
       "3  0.598833 -0.745410  0.673457 -0.178242  0.286164  0.0  False  1.0  1.0  1.0\n",
       "4  1.044861 -1.624495 -1.035050  0.136189  0.205054  0.0  False  1.0  1.0  1.0"
      ]
     },
     "execution_count": 7,
     "metadata": {},
     "output_type": "execute_result"
    }
   ],
   "source": [
    "data.head()"
   ]
  },
  {
   "cell_type": "code",
   "execution_count": 8,
   "metadata": {},
   "outputs": [],
   "source": [
    "common_causes = ['f'+str(i) for i in range(dims)]\n",
    "#common_causes.append('S')\n",
    "data_dict = {'df':data,\n",
    "             'treatment_name': 'Tr',\n",
    "             'outcome_name': 'Y',\n",
    "             'common_causes_names': common_causes,\n",
    "             'time_val': None,\n",
    "             'instrument_names': None,\n",
    "             'dot_graph': None,\n",
    "             'gml_graph': None,\n",
    "             'ate': None}\n",
    "             "
   ]
  },
  {
   "cell_type": "code",
   "execution_count": 9,
   "metadata": {},
   "outputs": [
    {
     "name": "stderr",
     "output_type": "stream",
     "text": [
      "WARNING:dowhy.causal_model:Causal Graph not provided. DoWhy will construct a graph based on data inputs.\n"
     ]
    }
   ],
   "source": [
    "model = CausalModel(\n",
    "        data=data_dict['df'],\n",
    "        treatment=data_dict[\"treatment_name\"],\n",
    "        outcome=data_dict[\"outcome_name\"],\n",
    "        common_causes=data_dict[\"common_causes_names\"],\n",
    "        )"
   ]
  },
  {
   "cell_type": "code",
   "execution_count": 10,
   "metadata": {},
   "outputs": [
    {
     "name": "stderr",
     "output_type": "stream",
     "text": [
      "WARNING:dowhy.causal_identifier:If this is observed data (not from a randomized experiment), there might always be missing confounders. Causal effect cannot be identified perfectly.\n"
     ]
    }
   ],
   "source": [
    "identified_estimand = model.identify_effect(proceed_when_unidentifiable=True)\n"
   ]
  },
  {
   "cell_type": "code",
   "execution_count": 11,
   "metadata": {},
   "outputs": [
    {
     "name": "stdout",
     "output_type": "stream",
     "text": [
      "*** Causal Estimate ***\n",
      "\n",
      "## Identified estimand\n",
      "Estimand type: nonparametric-ate\n",
      "### Estimand : 1\n",
      "Estimand name: backdoor\n",
      "Estimand expression:\n",
      "  d                                 \n",
      "─────(Expectation(Y|f3,f4,f0,f1,f2))\n",
      "d[Tr]                               \n",
      "Estimand assumption 1, Unconfoundedness: If U→{Tr} and U→Y then P(Y|Tr,f3,f4,f0,f1,f2,U) = P(Y|Tr,f3,f4,f0,f1,f2)\n",
      "### Estimand : 2\n",
      "Estimand name: iv\n",
      "No such variable found!\n",
      "\n",
      "## Realized estimand\n",
      "b: Y~Tr+f3+f4+f0+f1+f2\n",
      "Target units: ate\n",
      "\n",
      "## Estimate\n",
      "Mean value: 0.09541018707595271\n",
      "\n",
      "Causal Estimate is 0.09541018707595271\n"
     ]
    }
   ],
   "source": [
    "estimate = model.estimate_effect(identified_estimand,\n",
    "                                 method_name=\"backdoor.propensity_score_stratification\",\n",
    "                                target_units='ate',\n",
    "                                test_significance = None,\n",
    "                                evaluate_effect_strength = False,\n",
    " confidence_intervals=False)\n",
    "print(estimate)\n",
    "print(\"Causal Estimate is \" + str(estimate.value))"
   ]
  },
  {
   "cell_type": "code",
   "execution_count": 12,
   "metadata": {},
   "outputs": [
    {
     "data": {
      "image/png": "[encoded data removed]",
      "text/latex": [
       "$\\displaystyle 0.04678700000000002$"
      ],
      "text/plain": [
       "0.04678700000000002"
      ]
     },
     "execution_count": 12,
     "metadata": {},
     "output_type": "execute_result"
    }
   ],
   "source": [
    "data.Yf.mean() - data.Ycf.mean()"
   ]
  },
  {
   "cell_type": "code",
   "execution_count": 13,
   "metadata": {},
   "outputs": [
    {
     "data": {
      "image/png": "[encoded data removed]",
      "text/latex": [
       "$\\displaystyle 0.04636836836836833$"
      ],
      "text/plain": [
       "0.04636836836836833"
      ]
     },
     "execution_count": 13,
     "metadata": {},
     "output_type": "execute_result"
    }
   ],
   "source": [
    "data[data.Tr==1].Y.mean() - data[data.Tr == 0].Y.mean()"
   ]
  },
  {
   "cell_type": "code",
   "execution_count": 14,
   "metadata": {},
   "outputs": [
    {
     "data": {
      "image/png": "[encoded data removed]",
      "text/latex": [
       "$\\displaystyle 1.0$"
      ],
      "text/plain": [
       "1.0"
      ]
     },
     "execution_count": 14,
     "metadata": {},
     "output_type": "execute_result"
    }
   ],
   "source": [
    "data[(data.S==1) & (data.Tr ==1)].Y.mean() - data[(data.S==1) & (data.Tr ==0)].Y.mean()"
   ]
  },
  {
   "cell_type": "code",
   "execution_count": 15,
   "metadata": {},
   "outputs": [
    {
     "data": {
      "image/png": "[encoded data removed]",
      "text/latex": [
       "$\\displaystyle 0.0$"
      ],
      "text/plain": [
       "0.0"
      ]
     },
     "execution_count": 15,
     "metadata": {},
     "output_type": "execute_result"
    }
   ],
   "source": [
    "data[(data.S==0) & (data.Tr ==1)].Y.mean() - data[(data.S==0) & (data.Tr ==0)].Y.mean()"
   ]
  },
  {
   "cell_type": "code",
   "execution_count": 16,
   "metadata": {},
   "outputs": [
    {
     "name": "stderr",
     "output_type": "stream",
     "text": [
      "WARNING:dowhy.causal_graph:Warning: Pygraphviz cannot be loaded. Check that graphviz and pygraphviz are installed.\n"
     ]
    },
    {
     "data": {
      "image/png": "[encoded data removed]",
      "text/plain": [
       "<Figure size 432x288 with 1 Axes>"
      ]
     },
     "metadata": {},
     "output_type": "display_data"
    }
   ],
   "source": [
    "model.view_model()"
   ]
  },
  {
   "cell_type": "code",
   "execution_count": 17,
   "metadata": {},
   "outputs": [
    {
     "data": {
      "text/html": [
       "<div>\n",
       "<style scoped>\n",
       "    .dataframe tbody tr th:only-of-type {\n",
       "        vertical-align: middle;\n",
       "    }\n",
       "\n",
       "    .dataframe tbody tr th {\n",
       "        vertical-align: top;\n",
       "    }\n",
       "\n",
       "    .dataframe thead th {\n",
       "        text-align: right;\n",
       "    }\n",
       "</style>\n",
       "<table border=\"1\" class=\"dataframe\">\n",
       "  <thead>\n",
       "    <tr style=\"text-align: right;\">\n",
       "      <th></th>\n",
       "      <th>f0</th>\n",
       "      <th>f1</th>\n",
       "      <th>f2</th>\n",
       "      <th>f3</th>\n",
       "      <th>f4</th>\n",
       "      <th>S</th>\n",
       "      <th>Tr</th>\n",
       "      <th>Yf</th>\n",
       "      <th>Ycf</th>\n",
       "      <th>Y</th>\n",
       "      <th>propensity_score</th>\n",
       "      <th>strata</th>\n",
       "      <th>dbar</th>\n",
       "      <th>d_y</th>\n",
       "      <th>dbar_y</th>\n",
       "    </tr>\n",
       "  </thead>\n",
       "  <tbody>\n",
       "    <tr>\n",
       "      <th>0</th>\n",
       "      <td>0.900766</td>\n",
       "      <td>-0.040178</td>\n",
       "      <td>-1.083424</td>\n",
       "      <td>0.121346</td>\n",
       "      <td>-0.247905</td>\n",
       "      <td>0.0</td>\n",
       "      <td>False</td>\n",
       "      <td>1.0</td>\n",
       "      <td>1.0</td>\n",
       "      <td>1.0</td>\n",
       "      <td>0.000556</td>\n",
       "      <td>21.0</td>\n",
       "      <td>1</td>\n",
       "      <td>0.0</td>\n",
       "      <td>1.0</td>\n",
       "    </tr>\n",
       "    <tr>\n",
       "      <th>1</th>\n",
       "      <td>0.178655</td>\n",
       "      <td>-0.498405</td>\n",
       "      <td>1.631524</td>\n",
       "      <td>1.267724</td>\n",
       "      <td>-0.245090</td>\n",
       "      <td>0.0</td>\n",
       "      <td>False</td>\n",
       "      <td>1.0</td>\n",
       "      <td>1.0</td>\n",
       "      <td>1.0</td>\n",
       "      <td>0.001522</td>\n",
       "      <td>42.0</td>\n",
       "      <td>1</td>\n",
       "      <td>0.0</td>\n",
       "      <td>1.0</td>\n",
       "    </tr>\n",
       "    <tr>\n",
       "      <th>2</th>\n",
       "      <td>-1.532263</td>\n",
       "      <td>-1.673195</td>\n",
       "      <td>-0.825910</td>\n",
       "      <td>-2.163854</td>\n",
       "      <td>-1.181748</td>\n",
       "      <td>0.0</td>\n",
       "      <td>False</td>\n",
       "      <td>1.0</td>\n",
       "      <td>1.0</td>\n",
       "      <td>1.0</td>\n",
       "      <td>0.000049</td>\n",
       "      <td>0.0</td>\n",
       "      <td>1</td>\n",
       "      <td>0.0</td>\n",
       "      <td>1.0</td>\n",
       "    </tr>\n",
       "    <tr>\n",
       "      <th>3</th>\n",
       "      <td>0.598833</td>\n",
       "      <td>-0.745410</td>\n",
       "      <td>0.673457</td>\n",
       "      <td>-0.178242</td>\n",
       "      <td>0.286164</td>\n",
       "      <td>0.0</td>\n",
       "      <td>False</td>\n",
       "      <td>1.0</td>\n",
       "      <td>1.0</td>\n",
       "      <td>1.0</td>\n",
       "      <td>0.000833</td>\n",
       "      <td>31.0</td>\n",
       "      <td>1</td>\n",
       "      <td>0.0</td>\n",
       "      <td>1.0</td>\n",
       "    </tr>\n",
       "    <tr>\n",
       "      <th>4</th>\n",
       "      <td>1.044861</td>\n",
       "      <td>-1.624495</td>\n",
       "      <td>-1.035050</td>\n",
       "      <td>0.136189</td>\n",
       "      <td>0.205054</td>\n",
       "      <td>0.0</td>\n",
       "      <td>False</td>\n",
       "      <td>1.0</td>\n",
       "      <td>1.0</td>\n",
       "      <td>1.0</td>\n",
       "      <td>0.000429</td>\n",
       "      <td>15.0</td>\n",
       "      <td>1</td>\n",
       "      <td>0.0</td>\n",
       "      <td>1.0</td>\n",
       "    </tr>\n",
       "  </tbody>\n",
       "</table>\n",
       "</div>"
      ],
      "text/plain": [
       "         f0        f1        f2        f3        f4    S     Tr   Yf  Ycf  \\\n",
       "0  0.900766 -0.040178 -1.083424  0.121346 -0.247905  0.0  False  1.0  1.0   \n",
       "1  0.178655 -0.498405  1.631524  1.267724 -0.245090  0.0  False  1.0  1.0   \n",
       "2 -1.532263 -1.673195 -0.825910 -2.163854 -1.181748  0.0  False  1.0  1.0   \n",
       "3  0.598833 -0.745410  0.673457 -0.178242  0.286164  0.0  False  1.0  1.0   \n",
       "4  1.044861 -1.624495 -1.035050  0.136189  0.205054  0.0  False  1.0  1.0   \n",
       "\n",
       "     Y  propensity_score  strata  dbar  d_y  dbar_y  \n",
       "0  1.0          0.000556    21.0     1  0.0     1.0  \n",
       "1  1.0          0.001522    42.0     1  0.0     1.0  \n",
       "2  1.0          0.000049     0.0     1  0.0     1.0  \n",
       "3  1.0          0.000833    31.0     1  0.0     1.0  \n",
       "4  1.0          0.000429    15.0     1  0.0     1.0  "
      ]
     },
     "execution_count": 17,
     "metadata": {},
     "output_type": "execute_result"
    }
   ],
   "source": [
    "data.head()"
   ]
  },
  {
   "cell_type": "markdown",
   "metadata": {},
   "source": [
    "## Using Econ ML"
   ]
  },
  {
   "cell_type": "markdown",
   "metadata": {},
   "source": [
    "\n",
    "dml_estimate = model.estimate_effect(identified_estimand,\n",
    "                                    method_name=\"backdoor.econml.dml.DMLCateEstimator\",\n",
    "                                    method_params={\n",
    "                                        'init_params': {'model_y':GradientBoostingRegressor(),\n",
    "                                                        'model_t': GradientBoostingRegressor(),\n",
    "                                                        'model_final':LassoCV(fit_intercept=False), },\n",
    "                                        'fit_params': {}\n",
    "                                     })"
   ]
  },
  {
   "cell_type": "markdown",
   "metadata": {},
   "source": [
    "dml_estimate.params['cate_estimates'].mean()"
   ]
  },
  {
   "cell_type": "code",
   "execution_count": 18,
   "metadata": {},
   "outputs": [],
   "source": [
    "from sklearn.cluster import KMeans"
   ]
  },
  {
   "cell_type": "code",
   "execution_count": 19,
   "metadata": {},
   "outputs": [],
   "source": [
    "kmeans = KMeans(n_clusters=2)\n",
    "prediction = kmeans.fit_predict(data[common_causes].values)\n",
    "\n"
   ]
  },
  {
   "cell_type": "code",
   "execution_count": 20,
   "metadata": {},
   "outputs": [],
   "source": [
    "cl1 = prediction == 1\n",
    "data1 = data[cl1].reset_index(drop = True)\n",
    "data2 = data[~cl1].reset_index(drop = True)"
   ]
  },
  {
   "cell_type": "code",
   "execution_count": 21,
   "metadata": {},
   "outputs": [
    {
     "data": {
      "text/html": [
       "<div>\n",
       "<style scoped>\n",
       "    .dataframe tbody tr th:only-of-type {\n",
       "        vertical-align: middle;\n",
       "    }\n",
       "\n",
       "    .dataframe tbody tr th {\n",
       "        vertical-align: top;\n",
       "    }\n",
       "\n",
       "    .dataframe thead th {\n",
       "        text-align: right;\n",
       "    }\n",
       "</style>\n",
       "<table border=\"1\" class=\"dataframe\">\n",
       "  <thead>\n",
       "    <tr style=\"text-align: right;\">\n",
       "      <th></th>\n",
       "      <th>f0</th>\n",
       "      <th>f1</th>\n",
       "      <th>f2</th>\n",
       "      <th>f3</th>\n",
       "      <th>f4</th>\n",
       "      <th>S</th>\n",
       "      <th>Yf</th>\n",
       "      <th>Ycf</th>\n",
       "      <th>Y</th>\n",
       "      <th>propensity_score</th>\n",
       "      <th>strata</th>\n",
       "      <th>dbar</th>\n",
       "      <th>d_y</th>\n",
       "      <th>dbar_y</th>\n",
       "    </tr>\n",
       "  </thead>\n",
       "  <tbody>\n",
       "    <tr>\n",
       "      <th>count</th>\n",
       "      <td>531616.000000</td>\n",
       "      <td>531616.000000</td>\n",
       "      <td>531616.000000</td>\n",
       "      <td>531616.000000</td>\n",
       "      <td>531616.000000</td>\n",
       "      <td>531616.0</td>\n",
       "      <td>531616.0</td>\n",
       "      <td>531616.0</td>\n",
       "      <td>531616.0</td>\n",
       "      <td>531616.000000</td>\n",
       "      <td>531616.000000</td>\n",
       "      <td>531616.000000</td>\n",
       "      <td>531616.000000</td>\n",
       "      <td>531616.000000</td>\n",
       "    </tr>\n",
       "    <tr>\n",
       "      <th>mean</th>\n",
       "      <td>-0.287588</td>\n",
       "      <td>-0.348828</td>\n",
       "      <td>-0.371957</td>\n",
       "      <td>-0.316373</td>\n",
       "      <td>-0.281822</td>\n",
       "      <td>0.0</td>\n",
       "      <td>1.0</td>\n",
       "      <td>1.0</td>\n",
       "      <td>1.0</td>\n",
       "      <td>0.000408</td>\n",
       "      <td>13.412177</td>\n",
       "      <td>0.999426</td>\n",
       "      <td>0.000574</td>\n",
       "      <td>0.999426</td>\n",
       "    </tr>\n",
       "    <tr>\n",
       "      <th>std</th>\n",
       "      <td>0.950336</td>\n",
       "      <td>0.926534</td>\n",
       "      <td>0.915637</td>\n",
       "      <td>0.939860</td>\n",
       "      <td>0.950877</td>\n",
       "      <td>0.0</td>\n",
       "      <td>0.0</td>\n",
       "      <td>0.0</td>\n",
       "      <td>0.0</td>\n",
       "      <td>0.000171</td>\n",
       "      <td>7.890180</td>\n",
       "      <td>0.023946</td>\n",
       "      <td>0.023946</td>\n",
       "      <td>0.023946</td>\n",
       "    </tr>\n",
       "    <tr>\n",
       "      <th>min</th>\n",
       "      <td>-4.895454</td>\n",
       "      <td>-4.852118</td>\n",
       "      <td>-4.802920</td>\n",
       "      <td>-4.820940</td>\n",
       "      <td>-5.031764</td>\n",
       "      <td>0.0</td>\n",
       "      <td>1.0</td>\n",
       "      <td>1.0</td>\n",
       "      <td>1.0</td>\n",
       "      <td>0.000013</td>\n",
       "      <td>0.000000</td>\n",
       "      <td>0.000000</td>\n",
       "      <td>0.000000</td>\n",
       "      <td>0.000000</td>\n",
       "    </tr>\n",
       "    <tr>\n",
       "      <th>25%</th>\n",
       "      <td>-0.927748</td>\n",
       "      <td>-0.971112</td>\n",
       "      <td>-0.986030</td>\n",
       "      <td>-0.947566</td>\n",
       "      <td>-0.922035</td>\n",
       "      <td>0.0</td>\n",
       "      <td>1.0</td>\n",
       "      <td>1.0</td>\n",
       "      <td>1.0</td>\n",
       "      <td>0.000272</td>\n",
       "      <td>7.000000</td>\n",
       "      <td>1.000000</td>\n",
       "      <td>0.000000</td>\n",
       "      <td>1.000000</td>\n",
       "    </tr>\n",
       "    <tr>\n",
       "      <th>50%</th>\n",
       "      <td>-0.284145</td>\n",
       "      <td>-0.343608</td>\n",
       "      <td>-0.365165</td>\n",
       "      <td>-0.313446</td>\n",
       "      <td>-0.279516</td>\n",
       "      <td>0.0</td>\n",
       "      <td>1.0</td>\n",
       "      <td>1.0</td>\n",
       "      <td>1.0</td>\n",
       "      <td>0.000401</td>\n",
       "      <td>13.000000</td>\n",
       "      <td>1.000000</td>\n",
       "      <td>0.000000</td>\n",
       "      <td>1.000000</td>\n",
       "    </tr>\n",
       "    <tr>\n",
       "      <th>75%</th>\n",
       "      <td>0.355717</td>\n",
       "      <td>0.277973</td>\n",
       "      <td>0.249408</td>\n",
       "      <td>0.319344</td>\n",
       "      <td>0.361252</td>\n",
       "      <td>0.0</td>\n",
       "      <td>1.0</td>\n",
       "      <td>1.0</td>\n",
       "      <td>1.0</td>\n",
       "      <td>0.000539</td>\n",
       "      <td>20.000000</td>\n",
       "      <td>1.000000</td>\n",
       "      <td>0.000000</td>\n",
       "      <td>1.000000</td>\n",
       "    </tr>\n",
       "    <tr>\n",
       "      <th>max</th>\n",
       "      <td>4.065940</td>\n",
       "      <td>3.783802</td>\n",
       "      <td>3.907693</td>\n",
       "      <td>3.831790</td>\n",
       "      <td>4.116536</td>\n",
       "      <td>0.0</td>\n",
       "      <td>1.0</td>\n",
       "      <td>1.0</td>\n",
       "      <td>1.0</td>\n",
       "      <td>0.001065</td>\n",
       "      <td>36.000000</td>\n",
       "      <td>1.000000</td>\n",
       "      <td>1.000000</td>\n",
       "      <td>1.000000</td>\n",
       "    </tr>\n",
       "  </tbody>\n",
       "</table>\n",
       "</div>"
      ],
      "text/plain": [
       "                  f0             f1             f2             f3  \\\n",
       "count  531616.000000  531616.000000  531616.000000  531616.000000   \n",
       "mean       -0.287588      -0.348828      -0.371957      -0.316373   \n",
       "std         0.950336       0.926534       0.915637       0.939860   \n",
       "min        -4.895454      -4.852118      -4.802920      -4.820940   \n",
       "25%        -0.927748      -0.971112      -0.986030      -0.947566   \n",
       "50%        -0.284145      -0.343608      -0.365165      -0.313446   \n",
       "75%         0.355717       0.277973       0.249408       0.319344   \n",
       "max         4.065940       3.783802       3.907693       3.831790   \n",
       "\n",
       "                  f4         S        Yf       Ycf         Y  \\\n",
       "count  531616.000000  531616.0  531616.0  531616.0  531616.0   \n",
       "mean       -0.281822       0.0       1.0       1.0       1.0   \n",
       "std         0.950877       0.0       0.0       0.0       0.0   \n",
       "min        -5.031764       0.0       1.0       1.0       1.0   \n",
       "25%        -0.922035       0.0       1.0       1.0       1.0   \n",
       "50%        -0.279516       0.0       1.0       1.0       1.0   \n",
       "75%         0.361252       0.0       1.0       1.0       1.0   \n",
       "max         4.116536       0.0       1.0       1.0       1.0   \n",
       "\n",
       "       propensity_score         strata           dbar            d_y  \\\n",
       "count     531616.000000  531616.000000  531616.000000  531616.000000   \n",
       "mean           0.000408      13.412177       0.999426       0.000574   \n",
       "std            0.000171       7.890180       0.023946       0.023946   \n",
       "min            0.000013       0.000000       0.000000       0.000000   \n",
       "25%            0.000272       7.000000       1.000000       0.000000   \n",
       "50%            0.000401      13.000000       1.000000       0.000000   \n",
       "75%            0.000539      20.000000       1.000000       0.000000   \n",
       "max            0.001065      36.000000       1.000000       1.000000   \n",
       "\n",
       "              dbar_y  \n",
       "count  531616.000000  \n",
       "mean        0.999426  \n",
       "std         0.023946  \n",
       "min         0.000000  \n",
       "25%         1.000000  \n",
       "50%         1.000000  \n",
       "75%         1.000000  \n",
       "max         1.000000  "
      ]
     },
     "execution_count": 21,
     "metadata": {},
     "output_type": "execute_result"
    }
   ],
   "source": [
    "data1.describe()"
   ]
  },
  {
   "cell_type": "code",
   "execution_count": 22,
   "metadata": {},
   "outputs": [
    {
     "data": {
      "text/plain": [
       "(305, 0)"
      ]
     },
     "execution_count": 22,
     "metadata": {},
     "output_type": "execute_result"
    }
   ],
   "source": [
    "data1.Tr.sum(), ((data1.Tr == 1) & (data1.S==1)).sum()"
   ]
  },
  {
   "cell_type": "code",
   "execution_count": 23,
   "metadata": {},
   "outputs": [
    {
     "data": {
      "text/plain": [
       "(695, 465)"
      ]
     },
     "execution_count": 23,
     "metadata": {},
     "output_type": "execute_result"
    }
   ],
   "source": [
    "data2.Tr.sum(), ((data2.Tr == 1) & (data2.S==1)).sum()"
   ]
  },
  {
   "cell_type": "markdown",
   "metadata": {},
   "source": [
    "#### Modeling of 2 clusters "
   ]
  },
  {
   "cell_type": "code",
   "execution_count": 24,
   "metadata": {},
   "outputs": [
    {
     "name": "stderr",
     "output_type": "stream",
     "text": [
      "WARNING:dowhy.causal_model:Causal Graph not provided. DoWhy will construct a graph based on data inputs.\n",
      "WARNING:dowhy.causal_model:Causal Graph not provided. DoWhy will construct a graph based on data inputs.\n",
      "WARNING:dowhy.causal_identifier:If this is observed data (not from a randomized experiment), there might always be missing confounders. Causal effect cannot be identified perfectly.\n",
      "WARNING:dowhy.causal_identifier:If this is observed data (not from a randomized experiment), there might always be missing confounders. Causal effect cannot be identified perfectly.\n"
     ]
    }
   ],
   "source": [
    "data_dict1 = {'df':data1,\n",
    "             'treatment_name': 'Tr',\n",
    "             'outcome_name': 'Y',\n",
    "             'common_causes_names': common_causes,\n",
    "             'time_val': None,\n",
    "             'instrument_names': None,\n",
    "             'dot_graph': None,\n",
    "             'gml_graph': None,\n",
    "             'ate': None}\n",
    "\n",
    "data_dict2 = {'df':data2,\n",
    "             'treatment_name': 'Tr',\n",
    "             'outcome_name': 'Y',\n",
    "             'common_causes_names': common_causes,\n",
    "             'time_val': None,\n",
    "             'instrument_names': None,\n",
    "             'dot_graph': None,\n",
    "             'gml_graph': None,\n",
    "             'ate': None}\n",
    "\n",
    "\n",
    "model1 = CausalModel(\n",
    "        data=data_dict1['df'],\n",
    "        treatment=data_dict1[\"treatment_name\"],\n",
    "        outcome=data_dict1[\"outcome_name\"],\n",
    "        common_causes=data_dict1[\"common_causes_names\"],\n",
    "        )\n",
    "\n",
    "\n",
    "model2 = CausalModel(\n",
    "        data=data_dict2['df'],\n",
    "        treatment=data_dict2[\"treatment_name\"],\n",
    "        outcome=data_dict2[\"outcome_name\"],\n",
    "        common_causes=data_dict2[\"common_causes_names\"],\n",
    "        )\n",
    "\n",
    "identified_estimand1 = model1.identify_effect(proceed_when_unidentifiable=True)\n",
    "identified_estimand2 = model2.identify_effect(proceed_when_unidentifiable=True)\n"
   ]
  },
  {
   "cell_type": "code",
   "execution_count": 25,
   "metadata": {},
   "outputs": [
    {
     "name": "stdout",
     "output_type": "stream",
     "text": [
      "*** Causal Estimate ***\n",
      "\n",
      "## Identified estimand\n",
      "Estimand type: nonparametric-ate\n",
      "### Estimand : 1\n",
      "Estimand name: backdoor\n",
      "Estimand expression:\n",
      "  d                                 \n",
      "─────(Expectation(Y|f3,f4,f0,f1,f2))\n",
      "d[Tr]                               \n",
      "Estimand assumption 1, Unconfoundedness: If U→{Tr} and U→Y then P(Y|Tr,f3,f4,f0,f1,f2,U) = P(Y|Tr,f3,f4,f0,f1,f2)\n",
      "### Estimand : 2\n",
      "Estimand name: iv\n",
      "No such variable found!\n",
      "\n",
      "## Realized estimand\n",
      "b: Y~Tr+f3+f4+f0+f1+f2\n",
      "Target units: ate\n",
      "\n",
      "## Estimate\n",
      "Mean value: 0.0\n",
      "\n",
      "Causal Estimate is 0.0\n"
     ]
    }
   ],
   "source": [
    "estimate1 = model1.estimate_effect(identified_estimand1,\n",
    "                                 method_name=\"backdoor.propensity_score_stratification\",\n",
    "                                target_units='ate',\n",
    "                                test_significance = None,\n",
    "                                evaluate_effect_strength = False,\n",
    " confidence_intervals=False)\n",
    "print(estimate1)\n",
    "print(\"Causal Estimate is \" + str(estimate1.value))"
   ]
  },
  {
   "cell_type": "code",
   "execution_count": 26,
   "metadata": {},
   "outputs": [
    {
     "name": "stdout",
     "output_type": "stream",
     "text": [
      "*** Causal Estimate ***\n",
      "\n",
      "## Identified estimand\n",
      "Estimand type: nonparametric-ate\n",
      "### Estimand : 1\n",
      "Estimand name: backdoor\n",
      "Estimand expression:\n",
      "  d                                 \n",
      "─────(Expectation(Y|f3,f4,f0,f1,f2))\n",
      "d[Tr]                               \n",
      "Estimand assumption 1, Unconfoundedness: If U→{Tr} and U→Y then P(Y|Tr,f3,f4,f0,f1,f2,U) = P(Y|Tr,f3,f4,f0,f1,f2)\n",
      "### Estimand : 2\n",
      "Estimand name: iv\n",
      "No such variable found!\n",
      "\n",
      "## Realized estimand\n",
      "b: Y~Tr+f3+f4+f0+f1+f2\n",
      "Target units: ate\n",
      "\n",
      "## Estimate\n",
      "Mean value: 0.6641850953003251\n",
      "\n",
      "Causal Estimate is 0.6641850953003251\n"
     ]
    }
   ],
   "source": [
    "estimate2 = model2.estimate_effect(identified_estimand2,\n",
    "                                 method_name=\"backdoor.propensity_score_stratification\",\n",
    "                                target_units='ate',\n",
    "                                test_significance = None,\n",
    "                                evaluate_effect_strength = False,\n",
    " confidence_intervals=False)\n",
    "print(estimate2)\n",
    "print(\"Causal Estimate is \" + str(estimate2.value))"
   ]
  },
  {
   "cell_type": "code",
   "execution_count": null,
   "metadata": {},
   "outputs": [],
   "source": []
  }
 ],
 "metadata": {
  "kernelspec": {
   "display_name": "Python [conda env:jorje]",
   "language": "python",
   "name": "conda-env-jorje-py"
  },
  "language_info": {
   "codemirror_mode": {
    "name": "ipython",
    "version": 3
   },
   "file_extension": ".py",
   "mimetype": "text/x-python",
   "name": "python",
   "nbconvert_exporter": "python",
   "pygments_lexer": "ipython3",
   "version": "3.7.2"
  }
 },
 "nbformat": 4,
 "nbformat_minor": 2
}
