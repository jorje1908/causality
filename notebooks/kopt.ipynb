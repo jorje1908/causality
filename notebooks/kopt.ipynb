{
 "cells": [
  {
   "cell_type": "code",
   "execution_count": 2,
   "metadata": {},
   "outputs": [],
   "source": [
    "import numpy as np\n",
    "import pandas as pd\n",
    "import matplotlib.pyplot as plt\n",
    "import seaborn as sns\n",
    "\n",
    "import sys\n",
    "\n",
    "sys.path.append('../src')\n",
    "from clustering_algos import opt_kmeans,  backtrack\n",
    "np.random.seed(seed = 0)"
   ]
  },
  {
   "cell_type": "code",
   "execution_count": 3,
   "metadata": {},
   "outputs": [],
   "source": [
    "m = [0,3,6]\n",
    "data = np.random.normal(loc = m, scale = [0.5]*3, size = [1000,3])\n",
    "data = np.sort(data.reshape([-1]))\n",
    "#data = np.random.uniform(0,10,300)\n",
    "#data = np.sort(data.reshape([-1]))\n",
    "#data = np.arange(300)\n",
    "k=9"
   ]
  },
  {
   "cell_type": "code",
   "execution_count": null,
   "metadata": {},
   "outputs": [],
   "source": [
    "#1d optimal kmeans no weights\n",
    "D1,B1 = opt_kmeans(data, k)\n",
    "\n",
    "#1d optimal kmeans with weights\n",
    "weights = np.ones(shape = [len(data)])\n",
    "#weights[0:200] = 1000000\n",
    "#weights = weights/np.sum(weights)  \n",
    "D,B = opt_kmeans_with_weights(data, k, weights = weights)\n"
   ]
  },
  {
   "cell_type": "code",
   "execution_count": null,
   "metadata": {},
   "outputs": [],
   "source": [
    "kb = 6\n",
    "ints1 = backtrack(B1, len(data), kb)\n",
    "ints = backtrack(B, len(data), kb)\n"
   ]
  },
  {
   "cell_type": "code",
   "execution_count": null,
   "metadata": {},
   "outputs": [],
   "source": [
    "ints == ints1"
   ]
  },
  {
   "cell_type": "code",
   "execution_count": null,
   "metadata": {},
   "outputs": [],
   "source": [
    "ints"
   ]
  },
  {
   "cell_type": "code",
   "execution_count": null,
   "metadata": {},
   "outputs": [],
   "source": [
    "fig, ax = plt.subplots(1,1)\n",
    "ax = sns.distplot(data, bins = 100, kde = False,ax = ax)\n",
    "for i in range(1,len(ints)):\n",
    "    mu = np.sum(data[int(ints[i-1]):int(ints[i])]*weights[ints[i-1]:ints[i]])/sum(weights[ints[i-1]:ints[i]])\n",
    "    #print(mu)\n",
    "    ax.axvline(x = mu, color = 'r', linestyle = '--')"
   ]
  },
  {
   "cell_type": "code",
   "execution_count": 4,
   "metadata": {},
   "outputs": [],
   "source": [
    "from numba import jit\n",
    "\n",
    "@jit(nopython = True)\n",
    "def opt_kmeans_fast(data, k):\n",
    "    D = np.zeros((data.shape[0]+1,k+1), dtype = np.float64)\n",
    "    B = np.zeros((data.shape[0]+1,k+1), dtype = np.int64)\n",
    "    data = data.astype(np.float64)\n",
    "    \n",
    "    dij = 0\n",
    "    mij = 0\n",
    "    for i in range(1,D.shape[0]):\n",
    "        D[i,0] = np.inf\n",
    "        dij = dij+ (i-1)/i*(data[i-1]-mij)**2\n",
    "        D[i,1] = dij\n",
    "        mij = (data[i-1]+(i-1)*mij)/i\n",
    "        \n",
    "    for k2 in range(2,k+1):\n",
    "        for i in range(k2, data.shape[0]+1):\n",
    "            temp = np.inf\n",
    "            tmp_indx = -1\n",
    "            dji = 0\n",
    "            mji = data[i-1]\n",
    "            for j in range(i,k2-1,-1):\n",
    "                #print(j)\n",
    "\n",
    "                if i == j:\n",
    "                    dji = 0\n",
    "                    mji = data[i-1]\n",
    "                else:\n",
    "                    dji = dji + (i-j)/(i-j+1)*(data[j-1]-mji)**2\n",
    "                    mji = (data[j-1]+(i-j)*mji)/(i-j+1)\n",
    "                #if i <=3:\n",
    "                    #print(i,j,dji,mji)\n",
    "                if dji + D[j-1,k2-1] < temp:\n",
    "                    temp_indx = j\n",
    "                temp = np.minimum(temp, dji + D[j-1,k2-1])\n",
    "            D[i,k2] = temp\n",
    "            B[i,k2] = temp_indx\n",
    "            \n",
    "    return D,B\n",
    "\n",
    "@jit(nopython = True)\n",
    "def opt_kmeans_fast2(data, k):\n",
    "    D = np.zeros((data.shape[0], k ), dtype = np.float64)\n",
    "    B = np.zeros((data.shape[0], k ), dtype = np.int64)\n",
    "    data = data.astype(np.float64)\n",
    "    \n",
    "    di1 = 0\n",
    "    mi1 = data[0]\n",
    "    for i in range(1, D.shape[0]):\n",
    "        di1 = di1 + (i)/(i+1)*(data[i]-mi1)**2\n",
    "        D[i,0] = di1\n",
    "        mi1 = (data[i]+(i)*mi1)/(i+1)\n",
    "        \n",
    "    for k2 in range(1,k):\n",
    "        for i in range(k2, data.shape[0]):\n",
    "            temp = np.inf\n",
    "            tmp_indx = -1\n",
    "            dji = 0\n",
    "            mji = data[i]\n",
    "            for j in range(i,k2-1,-1):\n",
    "                #print(j)\n",
    "\n",
    "                if i == j:\n",
    "                    dji = 0\n",
    "                    mji = data[i]\n",
    "                else:\n",
    "                    dji = dji + (i-j)/(i-j+1)*(data[j]-mji)**2\n",
    "                    mji = (data[j]+(i-j)*mji)/(i-j+1)\n",
    "                #if i <=3:\n",
    "                #print(i,j,dji + D[j-1,k2-1],temp, mji)\n",
    "                if dji + D[j-1,k2-1] < temp:\n",
    "                    temp_indx = j\n",
    "                temp = np.minimum(temp, dji + D[j-1,k2-1])\n",
    "            #print(temp, j, k2)\n",
    "            D[i,k2] = temp\n",
    "            B[i,k2] = temp_indx\n",
    "            \n",
    "    return D,B\n",
    "\n",
    "def backtrack3(B, n, k):\n",
    "    intervals = [n]\n",
    "    nex = n\n",
    "    for j in range(k-1, 0,-1):\n",
    "        intervals.append(int(B[nex-1, j]))\n",
    "        nex = intervals[-1]\n",
    "        \n",
    "    intervals.append(0)\n",
    "    return intervals[::-1]\n",
    "\n",
    "def backtrack2(B, n, k):\n",
    "    intervals = [n]\n",
    "    nex = n+1\n",
    "    for j in range(k, 1,-1):\n",
    "        intervals.append(int(B[nex-1, j]))\n",
    "        nex = intervals[-1]\n",
    "        \n",
    "    intervals.append(0)\n",
    "    return intervals[::-1]"
   ]
  },
  {
   "cell_type": "code",
   "execution_count": 5,
   "metadata": {},
   "outputs": [
    {
     "name": "stdout",
     "output_type": "stream",
     "text": [
      "CPU times: user 1.06 s, sys: 58.5 ms, total: 1.12 s\n",
      "Wall time: 1.23 s\n"
     ]
    }
   ],
   "source": [
    "%%time\n",
    "#data = np.sort(np.array([4.0, 4.1, 4.2, -50, 200.2, 200.4, 200.9, 80, 100, 102]))\n",
    "D1,B1 = opt_kmeans_fast2(data, 4)"
   ]
  },
  {
   "cell_type": "code",
   "execution_count": 12,
   "metadata": {},
   "outputs": [
    {
     "data": {
      "text/plain": [
       "([0, 999, 1521, 2006, 3000],\n",
       " [-0.0037063325103819755,\n",
       "  2.59947612989535,\n",
       "  3.4113191858705765,\n",
       "  5.986772752319333])"
      ]
     },
     "execution_count": 12,
     "metadata": {},
     "output_type": "execute_result"
    }
   ],
   "source": [
    "ints, means"
   ]
  },
  {
   "cell_type": "code",
   "execution_count": 6,
   "metadata": {},
   "outputs": [],
   "source": [
    "ints = backtrack3(B1, len(data), 4)\n",
    "means = [np.mean(data[ints[i]:ints[i+1]]) for i in range(len(ints)-1)]"
   ]
  },
  {
   "cell_type": "code",
   "execution_count": 9,
   "metadata": {},
   "outputs": [
    {
     "name": "stdout",
     "output_type": "stream",
     "text": [
      "CPU times: user 199 ms, sys: 1.7 ms, total: 201 ms\n",
      "Wall time: 199 ms\n"
     ]
    }
   ],
   "source": [
    "%%time\n",
    "D2,B2 = opt_kmeans(data, 4)"
   ]
  },
  {
   "cell_type": "code",
   "execution_count": 10,
   "metadata": {},
   "outputs": [
    {
     "data": {
      "text/plain": [
       "True"
      ]
     },
     "execution_count": 10,
     "metadata": {},
     "output_type": "execute_result"
    }
   ],
   "source": [
    "np.all(B2 == B1)"
   ]
  },
  {
   "cell_type": "code",
   "execution_count": null,
   "metadata": {},
   "outputs": [],
   "source": []
  }
 ],
 "metadata": {
  "kernelspec": {
   "display_name": "Python [conda env:jorje]",
   "language": "python",
   "name": "conda-env-jorje-py"
  },
  "language_info": {
   "codemirror_mode": {
    "name": "ipython",
    "version": 3
   },
   "file_extension": ".py",
   "mimetype": "text/x-python",
   "name": "python",
   "nbconvert_exporter": "python",
   "pygments_lexer": "ipython3",
   "version": "3.7.2"
  }
 },
 "nbformat": 4,
 "nbformat_minor": 2
}
